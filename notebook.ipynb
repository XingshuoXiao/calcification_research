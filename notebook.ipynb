{
 "cells": [
  {
   "cell_type": "code",
   "metadata": {
    "tags": [],
    "cell_id": "6eacef51-5956-4fe5-aa43-8d44fa8f23c3",
    "deepnote_to_be_reexecuted": false,
    "source_hash": "91c42a97",
    "execution_start": 1643835465634,
    "execution_millis": 1155,
    "deepnote_cell_type": "code"
   },
   "source": "import math\nimport numpy as np\nimport pandas as pd\nimport altair as alt\nfrom sklearn.linear_model import LinearRegression\nfrom sklearn.metrics import mean_squared_error",
   "execution_count": 1,
   "outputs": []
  },
  {
   "cell_type": "markdown",
   "source": "## Function",
   "metadata": {
    "cell_id": "1b983125-db52-4524-af3b-61a80c00936a",
    "tags": [],
    "is_collapsed": false,
    "deepnote_cell_type": "text-cell-h2"
   }
  },
  {
   "cell_type": "code",
   "source": "def chart_plot_small(chart):\n    base = alt.Chart(chart).mark_circle().encode(\n        x = 'ground_truth_mass_small',\n        y = 'calculated_mass_small',\n        color = 'Rep',\n        tooltip = ['ground_truth_volume_small', 'calculated_volume_small','Rep'])\n    layer = base.transform_regression(\n        \"ground_truth_mass_small\", \"calculated_mass_small\", method=\"linear\"\n        ).mark_line()\n    ref = alt.Chart(chart).mark_line(color = 'red').encode(\n        x = 'ground_truth_mass_small',\n        y = 'ground_truth_mass_small')\n    return alt.layer(base,layer,ref)",
   "metadata": {
    "cell_id": "7351cafe-d6e2-4aef-b24f-f1a7c2d06c23",
    "tags": [],
    "deepnote_to_be_reexecuted": false,
    "source_hash": "f7aa6a02",
    "execution_start": 1643835732713,
    "execution_millis": 1,
    "deepnote_cell_type": "code"
   },
   "outputs": [],
   "execution_count": 121
  },
  {
   "cell_type": "code",
   "source": "def chart_plot_medium(chart):\n    base = alt.Chart(chart).mark_circle().encode(\n        x = 'ground_truth_mass_medium',\n        y = 'calculated_mass_medium',\n        color = 'Rep',\n        tooltip = ['ground_truth_volume_medium', 'calculated_volume_medium','Rep'])\n    layer = base.transform_regression(\n        \"ground_truth_mass_medium\", \"calculated_mass_medium\", method=\"linear\"\n        ).mark_line()\n    ref = alt.Chart(chart).mark_line(color = 'red').encode(\n        x = 'ground_truth_mass_medium',\n        y = 'ground_truth_mass_medium')\n    return alt.layer(base,layer,ref)",
   "metadata": {
    "cell_id": "176baa7d-a6f8-463e-b68c-550549872de4",
    "tags": [],
    "deepnote_to_be_reexecuted": false,
    "source_hash": "ba734c70",
    "execution_start": 1643835759689,
    "execution_millis": 0,
    "deepnote_cell_type": "code"
   },
   "outputs": [],
   "execution_count": 122
  },
  {
   "cell_type": "code",
   "source": "def chart_plot_large(chart):\n    base = alt.Chart(chart).mark_circle().encode(\n        x = 'ground_truth_mass_large',\n        y = 'calculated_mass_large',\n        color = 'Rep',\n        tooltip = ['ground_truth_volume_large', 'calculated_volume_large','Rep'])\n    layer = base.transform_regression(\n        \"ground_truth_mass_large\", \"calculated_mass_large\", method=\"linear\"\n        ).mark_line()\n    ref = alt.Chart(chart).mark_line(color = 'red').encode(\n        x = 'ground_truth_mass_large',\n        y = 'ground_truth_mass_large')\n    return alt.layer(base,layer,ref)",
   "metadata": {
    "cell_id": "03850bb9-5694-49c7-a06e-38090f8429d6",
    "tags": [],
    "deepnote_to_be_reexecuted": false,
    "source_hash": "ee0c6313",
    "execution_start": 1643835799258,
    "execution_millis": 0,
    "deepnote_cell_type": "code"
   },
   "outputs": [],
   "execution_count": 123
  },
  {
   "cell_type": "code",
   "source": "def chart_plot_vol(chart):\n    base = alt.Chart(chart).mark_circle().encode(\n        x = 'ground_truth_volume',\n        y = 'calculated_volume',\n        color = 'Rep',)\n    layer = GE3_base_vol.transform_regression(\n        \"ground_truth_volume\", \"calculated_volume\", method=\"linear\"\n    ).mark_line()\n    ref = alt.Chart(GE3_vol).mark_line(color = 'red').encode(\n    x = 'ground_truth_volume',\n    y = 'ground_truth_volume')\n    return alt.layer(base,layer,ref)",
   "metadata": {
    "cell_id": "ada97bdf-ed08-4ba7-a919-ff810e9887b3",
    "tags": [],
    "deepnote_to_be_reexecuted": false,
    "source_hash": "57b48016",
    "execution_start": 1643836028018,
    "execution_millis": 1,
    "deepnote_cell_type": "code"
   },
   "outputs": [],
   "execution_count": 133
  },
  {
   "cell_type": "code",
   "source": "def vol_prep(chart):\n    Rep = pd.concat([chart.Rep,chart.Rep,chart.Rep])\n    ground_truth = pd.concat([chart.ground_truth_volume_large,chart.ground_truth_volume_medium,chart.ground_truth_volume_small],names = [\"ground_truth_volume\"])\n    calculated = pd.concat([chart.calculated_volume_large,chart.calculated_volume_medium,chart.calculated_volume_small],names = \"calculated_volume\")\n    d = {\"Rep\":Rep,\"ground_truth_volume\":ground_truth,\"calculated_volume\":calculated}\n    return pd.DataFrame(d)",
   "metadata": {
    "cell_id": "80c99fa5-9a05-45fb-b5de-8319b4311ef5",
    "tags": [],
    "deepnote_to_be_reexecuted": false,
    "source_hash": "3c617f9",
    "execution_start": 1643836313870,
    "execution_millis": 8,
    "deepnote_cell_type": "code"
   },
   "outputs": [],
   "execution_count": 135
  },
  {
   "cell_type": "code",
   "source": "# Calculate RMSE\ndef rmse(true_value, pred_value):\n    return math.sqrt(mean_squared_error(true_value,pred_value))",
   "metadata": {
    "cell_id": "2f68ae29-de8c-481b-b22b-6020e20e590a",
    "tags": [],
    "deepnote_to_be_reexecuted": false,
    "source_hash": "554dd0f1",
    "execution_start": 1643838027533,
    "execution_millis": 0,
    "deepnote_cell_type": "code"
   },
   "outputs": [],
   "execution_count": 191
  },
  {
   "cell_type": "markdown",
   "source": "## Vendor 2: GE",
   "metadata": {
    "cell_id": "87679bff-847f-4a78-9c70-75c8cf9769ca",
    "tags": [],
    "is_collapsed": false,
    "deepnote_cell_type": "text-cell-h2"
   }
  },
  {
   "cell_type": "code",
   "metadata": {
    "cell_id": "7ed5072c-dfec-41b4-b96d-4f8b8b2af880",
    "tags": [],
    "deepnote_to_be_reexecuted": false,
    "source_hash": "49513ea4",
    "execution_start": 1643835466799,
    "execution_millis": 15,
    "deepnote_cell_type": "code"
   },
   "source": "GE2 = pd.read_csv('GE_2.csv')\nGE3 = pd.read_csv('GE_3.csv')",
   "execution_count": 2,
   "outputs": []
  },
  {
   "cell_type": "markdown",
   "source": "### Mass&nbsp;Score:&nbsp;Large&nbsp;Inserts",
   "metadata": {
    "cell_id": "e02756a7-add3-408c-8b9f-895f12ec77f3",
    "tags": [],
    "is_collapsed": false,
    "deepnote_cell_type": "text-cell-h3"
   }
  },
  {
   "cell_type": "code",
   "metadata": {
    "cell_id": "9c9391de-4ef6-4704-b8b8-005101211536",
    "tags": [],
    "deepnote_to_be_reexecuted": false,
    "source_hash": "6ac2081",
    "execution_start": 1643835466849,
    "execution_millis": 8,
    "deepnote_output_heights": [
     21.1875
    ],
    "deepnote_cell_type": "code"
   },
   "source": "X_GE2_L = GE2.ground_truth_mass_large.to_numpy().reshape(-1,1)\ny_GE2_L = GE2.calculated_mass_large.to_numpy().reshape(-1,1)\nreg_GE2_L = LinearRegression().fit(X_GE2_L,y_GE2_L)\nGE2_scoreL = reg_GE2_L.score(X_GE2_L,y_GE2_L)\nGE2_scoreL",
   "execution_count": 3,
   "outputs": [
    {
     "output_type": "execute_result",
     "execution_count": 3,
     "data": {
      "text/plain": "0.9798052685509471"
     },
     "metadata": {}
    }
   ]
  },
  {
   "cell_type": "code",
   "metadata": {
    "cell_id": "371740da-db7a-40e3-92af-b5cfc153bdf2",
    "tags": [],
    "deepnote_to_be_reexecuted": false,
    "source_hash": "283b3a20",
    "execution_start": 1643835466866,
    "execution_millis": 8,
    "deepnote_cell_type": "code"
   },
   "source": "g2L,e2L = [reg_GE2_L.coef_[0,0],reg_GE2_L.intercept_[0]]\nprint(\"y = {} x + {}\".format(str(g2L),str(e2L)))",
   "execution_count": 4,
   "outputs": [
    {
     "name": "stdout",
     "text": "y = 1.188941601643734 x + -0.2867062079496634\n",
     "output_type": "stream"
    }
   ]
  },
  {
   "cell_type": "code",
   "metadata": {
    "cell_id": "8e7b058c-5dc1-4d4d-b6da-3f1975c252db",
    "tags": [],
    "deepnote_to_be_reexecuted": false,
    "source_hash": "4536171a",
    "execution_start": 1643835466926,
    "execution_millis": 3,
    "deepnote_output_heights": [
     21.1875
    ],
    "deepnote_cell_type": "code"
   },
   "source": "X_GE3_L = GE3.ground_truth_mass_large.to_numpy().reshape(-1,1)\ny_GE3_L = GE3.calculated_mass_large.to_numpy().reshape(-1,1)\nreg_GE3_L = LinearRegression().fit(X_GE3_L,y_GE3_L)\nGE3_scoreL = reg_GE3_L.score(X_GE3_L,y_GE3_L)\nGE3_scoreL",
   "execution_count": 5,
   "outputs": [
    {
     "output_type": "execute_result",
     "execution_count": 5,
     "data": {
      "text/plain": "0.9487657897948584"
     },
     "metadata": {}
    }
   ]
  },
  {
   "cell_type": "code",
   "metadata": {
    "cell_id": "c5bbd1e8-f8c1-408b-859c-42e74e066631",
    "tags": [],
    "deepnote_to_be_reexecuted": false,
    "source_hash": "cea4b1d5",
    "execution_start": 1643835466927,
    "execution_millis": 2,
    "deepnote_cell_type": "code"
   },
   "source": "g3L,e3L = [reg_GE3_L.coef_[0,0],reg_GE3_L.intercept_[0]]\nprint(\"y = {} x + {}\".format(str(g3L),str(e3L)))",
   "execution_count": 6,
   "outputs": [
    {
     "name": "stdout",
     "text": "y = 1.0020050039450943 x + 5.532499054648035\n",
     "output_type": "stream"
    }
   ]
  },
  {
   "cell_type": "code",
   "metadata": {
    "cell_id": "beacc1c3-0761-4f35-8ca3-9c1ab521c055",
    "tags": [],
    "deepnote_to_be_reexecuted": false,
    "source_hash": "fcbe01fb",
    "execution_start": 1643835846483,
    "execution_millis": 180,
    "deepnote_output_heights": [
     363
    ],
    "deepnote_cell_type": "code"
   },
   "source": "GE2_large = chart_plot_large(GE2)\nGE3_large = chart_plot_large(GE3)\nGE2_large | GE3_large",
   "execution_count": 129,
   "outputs": [
    {
     "output_type": "execute_result",
     "execution_count": 129,
     "data": {
      "text/html": "\n<div id=\"altair-viz-293ed594cebd486cbfd2748bc49a1643\"></div>\n<script type=\"text/javascript\">\n  (function(spec, embedOpt){\n    let outputDiv = document.currentScript.previousElementSibling;\n    if (outputDiv.id !== \"altair-viz-293ed594cebd486cbfd2748bc49a1643\") {\n      outputDiv = document.getElementById(\"altair-viz-293ed594cebd486cbfd2748bc49a1643\");\n    }\n    const paths = {\n      \"vega\": \"https://cdn.jsdelivr.net/npm//vega@5?noext\",\n      \"vega-lib\": \"https://cdn.jsdelivr.net/npm//vega-lib?noext\",\n      \"vega-lite\": \"https://cdn.jsdelivr.net/npm//vega-lite@4.8.1?noext\",\n      \"vega-embed\": \"https://cdn.jsdelivr.net/npm//vega-embed@6?noext\",\n    };\n\n    function loadScript(lib) {\n      return new Promise(function(resolve, reject) {\n        var s = document.createElement('script');\n        s.src = paths[lib];\n        s.async = true;\n        s.onload = () => resolve(paths[lib]);\n        s.onerror = () => reject(`Error loading script: ${paths[lib]}`);\n        document.getElementsByTagName(\"head\")[0].appendChild(s);\n      });\n    }\n\n    function showError(err) {\n      outputDiv.innerHTML = `<div class=\"error\" style=\"color:red;\">${err}</div>`;\n      throw err;\n    }\n\n    function displayChart(vegaEmbed) {\n      vegaEmbed(outputDiv, spec, embedOpt)\n        .catch(err => showError(`Javascript Error: ${err.message}<br>This usually means there's a typo in your chart specification. See the javascript console for the full traceback.`));\n    }\n\n    if(typeof define === \"function\" && define.amd) {\n      requirejs.config({paths});\n      require([\"vega-embed\"], displayChart, err => showError(`Error loading script: ${err.message}`));\n    } else if (typeof vegaEmbed === \"function\") {\n      displayChart(vegaEmbed);\n    } else {\n      loadScript(\"vega\")\n        .then(() => loadScript(\"vega-lite\"))\n        .then(() => loadScript(\"vega-embed\"))\n        .catch(showError)\n        .then(() => displayChart(vegaEmbed));\n    }\n  })({\"config\": {\"view\": {\"continuousWidth\": 400, \"continuousHeight\": 300}}, \"hconcat\": [{\"layer\": [{\"mark\": \"circle\", \"encoding\": {\"color\": {\"type\": \"nominal\", \"field\": \"Rep\"}, \"tooltip\": [{\"type\": \"quantitative\", \"field\": \"ground_truth_volume_large\"}, {\"type\": \"quantitative\", \"field\": \"calculated_volume_large\"}, {\"type\": \"nominal\", \"field\": \"Rep\"}], \"x\": {\"type\": \"quantitative\", \"field\": \"ground_truth_mass_large\"}, \"y\": {\"type\": \"quantitative\", \"field\": \"calculated_mass_large\"}}}, {\"mark\": \"line\", \"encoding\": {\"color\": {\"type\": \"nominal\", \"field\": \"Rep\"}, \"tooltip\": [{\"type\": \"quantitative\", \"field\": \"ground_truth_volume_large\"}, {\"type\": \"quantitative\", \"field\": \"calculated_volume_large\"}, {\"type\": \"nominal\", \"field\": \"Rep\"}], \"x\": {\"type\": \"quantitative\", \"field\": \"ground_truth_mass_large\"}, \"y\": {\"type\": \"quantitative\", \"field\": \"calculated_mass_large\"}}, \"transform\": [{\"on\": \"ground_truth_mass_large\", \"regression\": \"calculated_mass_large\", \"method\": \"linear\"}]}, {\"mark\": {\"type\": \"line\", \"color\": \"red\"}, \"encoding\": {\"x\": {\"type\": \"quantitative\", \"field\": \"ground_truth_mass_large\"}, \"y\": {\"type\": \"quantitative\", \"field\": \"ground_truth_mass_large\"}}}], \"data\": {\"name\": \"data-1a11c19067a46a99bba2664efaa0948b\"}}, {\"layer\": [{\"mark\": \"circle\", \"encoding\": {\"color\": {\"type\": \"nominal\", \"field\": \"Rep\"}, \"tooltip\": [{\"type\": \"quantitative\", \"field\": \"ground_truth_volume_large\"}, {\"type\": \"quantitative\", \"field\": \"calculated_volume_large\"}, {\"type\": \"nominal\", \"field\": \"Rep\"}], \"x\": {\"type\": \"quantitative\", \"field\": \"ground_truth_mass_large\"}, \"y\": {\"type\": \"quantitative\", \"field\": \"calculated_mass_large\"}}}, {\"mark\": \"line\", \"encoding\": {\"color\": {\"type\": \"nominal\", \"field\": \"Rep\"}, \"tooltip\": [{\"type\": \"quantitative\", \"field\": \"ground_truth_volume_large\"}, {\"type\": \"quantitative\", \"field\": \"calculated_volume_large\"}, {\"type\": \"nominal\", \"field\": \"Rep\"}], \"x\": {\"type\": \"quantitative\", \"field\": \"ground_truth_mass_large\"}, \"y\": {\"type\": \"quantitative\", \"field\": \"calculated_mass_large\"}}, \"transform\": [{\"on\": \"ground_truth_mass_large\", \"regression\": \"calculated_mass_large\", \"method\": \"linear\"}]}, {\"mark\": {\"type\": \"line\", \"color\": \"red\"}, \"encoding\": {\"x\": {\"type\": \"quantitative\", \"field\": \"ground_truth_mass_large\"}, \"y\": {\"type\": \"quantitative\", \"field\": \"ground_truth_mass_large\"}}}], \"data\": {\"name\": \"data-c1132cc00cba764b83fc822645286b5a\"}}], \"$schema\": \"https://vega.github.io/schema/vega-lite/v4.8.1.json\", \"datasets\": {\"data-1a11c19067a46a99bba2664efaa0948b\": [{\"inserts\": \"Low Density\", \"ground_truth_volume_large\": 98.2, \"calculated_volume_large\": 124.0680227, \"ground_truth_volume_medium\": 21.2, \"calculated_volume_medium\": 30.88484501, \"ground_truth_volume_small\": 0.8, \"calculated_volume_small\": 0.121867063, \"ground_truth_mass_large\": 19.6, \"calculated_mass_large\": 24.81360455, \"ground_truth_mass_medium\": 4.2, \"calculated_mass_medium\": 6.176969002, \"ground_truth_mass_small\": 0.2, \"calculated_mass_small\": 0.024373413, \"Rep\": \"Large1\"}, {\"inserts\": \"Medium Density\", \"ground_truth_volume_large\": 98.2, \"calculated_volume_large\": 112.9666022, \"ground_truth_volume_medium\": 21.2, \"calculated_volume_medium\": 22.78795341, \"ground_truth_volume_small\": 0.8, \"calculated_volume_small\": 0.498356901, \"ground_truth_mass_large\": 39.3, \"calculated_mass_large\": 45.18664088, \"ground_truth_mass_medium\": 8.5, \"calculated_mass_medium\": 9.115181363, \"ground_truth_mass_small\": 0.3, \"calculated_mass_small\": 0.19934276, \"Rep\": \"Large1\"}, {\"inserts\": \"High Density\", \"ground_truth_volume_large\": 98.2, \"calculated_volume_large\": 110.379797, \"ground_truth_volume_medium\": 21.2, \"calculated_volume_medium\": 22.49831706, \"ground_truth_volume_small\": 0.8, \"calculated_volume_small\": 0.189818013, \"ground_truth_mass_large\": 78.5, \"calculated_mass_large\": 88.30383759, \"ground_truth_mass_medium\": 17.0, \"calculated_mass_medium\": 17.99865365, \"ground_truth_mass_small\": 0.6, \"calculated_mass_small\": 0.151854411, \"Rep\": \"Large1\"}, {\"inserts\": \"Low Density\", \"ground_truth_volume_large\": 98.2, \"calculated_volume_large\": 113.6498547, \"ground_truth_volume_medium\": 21.2, \"calculated_volume_medium\": 25.25815237, \"ground_truth_volume_small\": 0.8, \"calculated_volume_small\": 0.0, \"ground_truth_mass_large\": 19.6, \"calculated_mass_large\": 22.72997094, \"ground_truth_mass_medium\": 4.2, \"calculated_mass_medium\": 5.051630474, \"ground_truth_mass_small\": 0.2, \"calculated_mass_small\": 0.0, \"Rep\": \"Large2\"}, {\"inserts\": \"Medium Density\", \"ground_truth_volume_large\": 98.2, \"calculated_volume_large\": 104.2014135, \"ground_truth_volume_medium\": 21.2, \"calculated_volume_medium\": 21.51628872, \"ground_truth_volume_small\": 0.8, \"calculated_volume_small\": 1.285007231, \"ground_truth_mass_large\": 39.3, \"calculated_mass_large\": 41.6805654, \"ground_truth_mass_medium\": 8.5, \"calculated_mass_medium\": 8.606515486, \"ground_truth_mass_small\": 0.3, \"calculated_mass_small\": 0.514002893, \"Rep\": \"Large2\"}, {\"inserts\": \"High Density\", \"ground_truth_volume_large\": 98.2, \"calculated_volume_large\": 109.4153992, \"ground_truth_volume_medium\": 21.2, \"calculated_volume_medium\": 22.74168449, \"ground_truth_volume_small\": 0.8, \"calculated_volume_small\": 1.026985293, \"ground_truth_mass_large\": 78.5, \"calculated_mass_large\": 87.53231933, \"ground_truth_mass_medium\": 17.0, \"calculated_mass_medium\": 18.19334759, \"ground_truth_mass_small\": 0.6, \"calculated_mass_small\": 0.821588234, \"Rep\": \"Large2\"}, {\"inserts\": \"Low Density\", \"ground_truth_volume_large\": 98.2, \"calculated_volume_large\": 102.1010991, \"ground_truth_volume_medium\": 21.2, \"calculated_volume_medium\": 26.039465, \"ground_truth_volume_small\": 0.8, \"calculated_volume_small\": 0.854244436, \"ground_truth_mass_large\": 19.6, \"calculated_mass_large\": 20.42021983, \"ground_truth_mass_medium\": 4.2, \"calculated_mass_medium\": 5.207893001, \"ground_truth_mass_small\": 0.2, \"calculated_mass_small\": 0.170848887, \"Rep\": \"Large3\"}, {\"inserts\": \"Medium Density\", \"ground_truth_volume_large\": 98.2, \"calculated_volume_large\": 107.4877392, \"ground_truth_volume_medium\": 21.2, \"calculated_volume_medium\": 22.17842432, \"ground_truth_volume_small\": 0.8, \"calculated_volume_small\": 1.016950713, \"ground_truth_mass_large\": 39.3, \"calculated_mass_large\": 42.99509569, \"ground_truth_mass_medium\": 8.5, \"calculated_mass_medium\": 8.871369726, \"ground_truth_mass_small\": 0.3, \"calculated_mass_small\": 0.406780285, \"Rep\": \"Large3\"}, {\"inserts\": \"High Density\", \"ground_truth_volume_large\": 98.2, \"calculated_volume_large\": 111.3201951, \"ground_truth_volume_medium\": 21.2, \"calculated_volume_medium\": 18.92112901, \"ground_truth_volume_small\": 0.8, \"calculated_volume_small\": 0.767698726, \"ground_truth_mass_large\": 78.5, \"calculated_mass_large\": 89.05615606, \"ground_truth_mass_medium\": 17.0, \"calculated_mass_medium\": 15.13690321, \"ground_truth_mass_small\": 0.6, \"calculated_mass_small\": 0.614158981, \"Rep\": \"Large3\"}, {\"inserts\": \"Low Density\", \"ground_truth_volume_large\": 98.2, \"calculated_volume_large\": 107.0077157, \"ground_truth_volume_medium\": 21.2, \"calculated_volume_medium\": 22.2543459, \"ground_truth_volume_small\": 0.8, \"calculated_volume_small\": 0.448954737, \"ground_truth_mass_large\": 19.6, \"calculated_mass_large\": 21.40154314, \"ground_truth_mass_medium\": 4.2, \"calculated_mass_medium\": 4.45086918, \"ground_truth_mass_small\": 0.2, \"calculated_mass_small\": 0.089790947, \"Rep\": \"Large4\"}, {\"inserts\": \"Medium Density\", \"ground_truth_volume_large\": 98.2, \"calculated_volume_large\": 114.7547987, \"ground_truth_volume_medium\": 21.2, \"calculated_volume_medium\": 24.3870961, \"ground_truth_volume_small\": 0.8, \"calculated_volume_small\": 0.425824565, \"ground_truth_mass_large\": 39.3, \"calculated_mass_large\": 45.90191947, \"ground_truth_mass_medium\": 8.5, \"calculated_mass_medium\": 9.754838442, \"ground_truth_mass_small\": 0.3, \"calculated_mass_small\": 0.170329826, \"Rep\": \"Large4\"}, {\"inserts\": \"High Density\", \"ground_truth_volume_large\": 98.2, \"calculated_volume_large\": 110.2841395, \"ground_truth_volume_medium\": 21.2, \"calculated_volume_medium\": 19.33959937, \"ground_truth_volume_small\": 0.8, \"calculated_volume_small\": 1.56947648, \"ground_truth_mass_large\": 78.5, \"calculated_mass_large\": 88.22731156, \"ground_truth_mass_medium\": 17.0, \"calculated_mass_medium\": 15.47167949, \"ground_truth_mass_small\": 0.6, \"calculated_mass_small\": 1.255581184, \"Rep\": \"Large4\"}, {\"inserts\": \"Low Density\", \"ground_truth_volume_large\": 98.2, \"calculated_volume_large\": 132.0974229, \"ground_truth_volume_medium\": 21.2, \"calculated_volume_medium\": 32.26454742, \"ground_truth_volume_small\": 0.8, \"calculated_volume_small\": 0.460916731, \"ground_truth_mass_large\": 19.6, \"calculated_mass_large\": 26.41948458, \"ground_truth_mass_medium\": 4.2, \"calculated_mass_medium\": 6.452909485, \"ground_truth_mass_small\": 0.2, \"calculated_mass_small\": 0.092183346, \"Rep\": \"Large5\"}, {\"inserts\": \"Medium Density\", \"ground_truth_volume_large\": 98.2, \"calculated_volume_large\": 105.8146384, \"ground_truth_volume_medium\": 21.2, \"calculated_volume_medium\": 20.97917798, \"ground_truth_volume_small\": 0.8, \"calculated_volume_small\": 0.370842025, \"ground_truth_mass_large\": 39.3, \"calculated_mass_large\": 42.32585537, \"ground_truth_mass_medium\": 8.5, \"calculated_mass_medium\": 8.391671193, \"ground_truth_mass_small\": 0.3, \"calculated_mass_small\": 0.14833681, \"Rep\": \"Large5\"}, {\"inserts\": \"High Density\", \"ground_truth_volume_large\": 98.2, \"calculated_volume_large\": 112.5755855, \"ground_truth_volume_medium\": 21.2, \"calculated_volume_medium\": 22.4672677, \"ground_truth_volume_small\": 0.8, \"calculated_volume_small\": 0.17928335, \"ground_truth_mass_large\": 78.5, \"calculated_mass_large\": 90.06046843, \"ground_truth_mass_medium\": 17.0, \"calculated_mass_medium\": 17.97381416, \"ground_truth_mass_small\": 0.6, \"calculated_mass_small\": 0.14342668, \"Rep\": \"Large5\"}, {\"inserts\": \"Low Density\", \"ground_truth_volume_large\": 98.2, \"calculated_volume_large\": 128.6945318, \"ground_truth_volume_medium\": 21.2, \"calculated_volume_medium\": 42.52609133, \"ground_truth_volume_small\": 0.8, \"calculated_volume_small\": 0.0, \"ground_truth_mass_large\": 19.6, \"calculated_mass_large\": 25.73890636, \"ground_truth_mass_medium\": 4.2, \"calculated_mass_medium\": 8.505218265, \"ground_truth_mass_small\": 0.2, \"calculated_mass_small\": 0.0, \"Rep\": \"Small1\"}, {\"inserts\": \"Medium Density\", \"ground_truth_volume_large\": 98.2, \"calculated_volume_large\": 129.1491551, \"ground_truth_volume_medium\": 21.2, \"calculated_volume_medium\": 27.59204923, \"ground_truth_volume_small\": 0.8, \"calculated_volume_small\": 0.88353739, \"ground_truth_mass_large\": 39.3, \"calculated_mass_large\": 51.65966203, \"ground_truth_mass_medium\": 8.5, \"calculated_mass_medium\": 11.03681969, \"ground_truth_mass_small\": 0.3, \"calculated_mass_small\": 0.353414956, \"Rep\": \"Small1\"}, {\"inserts\": \"High Density\", \"ground_truth_volume_large\": 98.2, \"calculated_volume_large\": 129.1416135, \"ground_truth_volume_medium\": 21.2, \"calculated_volume_medium\": 26.36908924, \"ground_truth_volume_small\": 0.8, \"calculated_volume_small\": 1.686223851, \"ground_truth_mass_large\": 78.5, \"calculated_mass_large\": 103.3132908, \"ground_truth_mass_medium\": 17.0, \"calculated_mass_medium\": 21.09527139, \"ground_truth_mass_small\": 0.6, \"calculated_mass_small\": 1.348979081, \"Rep\": \"Small1\"}, {\"inserts\": \"Low Density\", \"ground_truth_volume_large\": 98.2, \"calculated_volume_large\": 131.5258785, \"ground_truth_volume_medium\": 21.2, \"calculated_volume_medium\": 22.64105214, \"ground_truth_volume_small\": 0.8, \"calculated_volume_small\": 0.452315506, \"ground_truth_mass_large\": 19.6, \"calculated_mass_large\": 26.30517569, \"ground_truth_mass_medium\": 4.2, \"calculated_mass_medium\": 4.528210429, \"ground_truth_mass_small\": 0.2, \"calculated_mass_small\": 0.090463101, \"Rep\": \"Small2\"}, {\"inserts\": \"Medium Density\", \"ground_truth_volume_large\": 98.2, \"calculated_volume_large\": 124.6401267, \"ground_truth_volume_medium\": 21.2, \"calculated_volume_medium\": 24.66555634, \"ground_truth_volume_small\": 0.8, \"calculated_volume_small\": 0.494185992, \"ground_truth_mass_large\": 39.3, \"calculated_mass_large\": 49.85605066, \"ground_truth_mass_medium\": 8.5, \"calculated_mass_medium\": 9.866222535, \"ground_truth_mass_small\": 0.3, \"calculated_mass_small\": 0.197674397, \"Rep\": \"Small2\"}, {\"inserts\": \"High Density\", \"ground_truth_volume_large\": 98.2, \"calculated_volume_large\": 132.7684361, \"ground_truth_volume_medium\": 21.2, \"calculated_volume_medium\": 24.74647993, \"ground_truth_volume_small\": 0.8, \"calculated_volume_small\": 0.543776857, \"ground_truth_mass_large\": 78.5, \"calculated_mass_large\": 106.2147489, \"ground_truth_mass_medium\": 17.0, \"calculated_mass_medium\": 19.79718395, \"ground_truth_mass_small\": 0.6, \"calculated_mass_small\": 0.435021486, \"Rep\": \"Small2\"}, {\"inserts\": \"Low Density\", \"ground_truth_volume_large\": 98.2, \"calculated_volume_large\": 115.9502218, \"ground_truth_volume_medium\": 21.2, \"calculated_volume_medium\": 33.11400898, \"ground_truth_volume_small\": 0.8, \"calculated_volume_small\": 0.215786434, \"ground_truth_mass_large\": 19.6, \"calculated_mass_large\": 23.19004436, \"ground_truth_mass_medium\": 4.2, \"calculated_mass_medium\": 6.622801796, \"ground_truth_mass_small\": 0.2, \"calculated_mass_small\": 0.043157287, \"Rep\": \"Small3\"}, {\"inserts\": \"Medium Density\", \"ground_truth_volume_large\": 98.2, \"calculated_volume_large\": 111.9639108, \"ground_truth_volume_medium\": 21.2, \"calculated_volume_medium\": 23.0503234, \"ground_truth_volume_small\": 0.8, \"calculated_volume_small\": 0.0, \"ground_truth_mass_large\": 39.3, \"calculated_mass_large\": 44.78556434, \"ground_truth_mass_medium\": 8.5, \"calculated_mass_medium\": 9.220129358, \"ground_truth_mass_small\": 0.3, \"calculated_mass_small\": 0.0, \"Rep\": \"Small3\"}, {\"inserts\": \"High Density\", \"ground_truth_volume_large\": 98.2, \"calculated_volume_large\": 118.1423518, \"ground_truth_volume_medium\": 21.2, \"calculated_volume_medium\": 22.73297427, \"ground_truth_volume_small\": 0.8, \"calculated_volume_small\": 1.295125379, \"ground_truth_mass_large\": 78.5, \"calculated_mass_large\": 94.51388145, \"ground_truth_mass_medium\": 17.0, \"calculated_mass_medium\": 18.18637942, \"ground_truth_mass_small\": 0.6, \"calculated_mass_small\": 1.036100303, \"Rep\": \"Small3\"}, {\"inserts\": \"Low Density\", \"ground_truth_volume_large\": 98.2, \"calculated_volume_large\": 116.5412965, \"ground_truth_volume_medium\": 21.2, \"calculated_volume_medium\": 22.80077925, \"ground_truth_volume_small\": 0.8, \"calculated_volume_small\": 0.362458637, \"ground_truth_mass_large\": 19.6, \"calculated_mass_large\": 23.3082593, \"ground_truth_mass_medium\": 4.2, \"calculated_mass_medium\": 4.560155849, \"ground_truth_mass_small\": 0.2, \"calculated_mass_small\": 0.072491727, \"Rep\": \"Small4\"}, {\"inserts\": \"Medium Density\", \"ground_truth_volume_large\": 98.2, \"calculated_volume_large\": 111.5871867, \"ground_truth_volume_medium\": 21.2, \"calculated_volume_medium\": 27.98549, \"ground_truth_volume_small\": 0.8, \"calculated_volume_small\": 0.673130647, \"ground_truth_mass_large\": 39.3, \"calculated_mass_large\": 44.63487467, \"ground_truth_mass_medium\": 8.5, \"calculated_mass_medium\": 11.194196, \"ground_truth_mass_small\": 0.3, \"calculated_mass_small\": 0.269252259, \"Rep\": \"Small4\"}, {\"inserts\": \"High Density\", \"ground_truth_volume_large\": 98.2, \"calculated_volume_large\": 116.3609735, \"ground_truth_volume_medium\": 21.2, \"calculated_volume_medium\": 23.72874638, \"ground_truth_volume_small\": 0.8, \"calculated_volume_small\": 0.852872188, \"ground_truth_mass_large\": 78.5, \"calculated_mass_large\": 93.08877879, \"ground_truth_mass_medium\": 17.0, \"calculated_mass_medium\": 18.98299711, \"ground_truth_mass_small\": 0.6, \"calculated_mass_small\": 0.68229775, \"Rep\": \"Small4\"}, {\"inserts\": \"Low Density\", \"ground_truth_volume_large\": 98.2, \"calculated_volume_large\": 110.4719972, \"ground_truth_volume_medium\": 21.2, \"calculated_volume_medium\": 30.38052172, \"ground_truth_volume_small\": 0.8, \"calculated_volume_small\": 1.227940752, \"ground_truth_mass_large\": 19.6, \"calculated_mass_large\": 22.09439945, \"ground_truth_mass_medium\": 4.2, \"calculated_mass_medium\": 6.076104344, \"ground_truth_mass_small\": 0.2, \"calculated_mass_small\": 0.24558815, \"Rep\": \"Small5\"}, {\"inserts\": \"Medium Density\", \"ground_truth_volume_large\": 98.2, \"calculated_volume_large\": 114.9015621, \"ground_truth_volume_medium\": 21.2, \"calculated_volume_medium\": 25.61825598, \"ground_truth_volume_small\": 0.8, \"calculated_volume_small\": 1.090624358, \"ground_truth_mass_large\": 39.3, \"calculated_mass_large\": 45.96062484, \"ground_truth_mass_medium\": 8.5, \"calculated_mass_medium\": 10.24730239, \"ground_truth_mass_small\": 0.3, \"calculated_mass_small\": 0.436249743, \"Rep\": \"Small5\"}, {\"inserts\": \"High Density\", \"ground_truth_volume_large\": 98.2, \"calculated_volume_large\": 116.60665, \"ground_truth_volume_medium\": 21.2, \"calculated_volume_medium\": 22.87497359, \"ground_truth_volume_small\": 0.8, \"calculated_volume_small\": 1.137057952, \"ground_truth_mass_large\": 78.5, \"calculated_mass_large\": 93.28531996, \"ground_truth_mass_medium\": 17.0, \"calculated_mass_medium\": 18.29997887, \"ground_truth_mass_small\": 0.6, \"calculated_mass_small\": 0.909646362, \"Rep\": \"Small5\"}], \"data-c1132cc00cba764b83fc822645286b5a\": [{\"inserts\": \"Low Density\", \"ground_truth_volume_large\": 98.2, \"calculated_volume_large\": 117.5381351, \"ground_truth_volume_medium\": 21.2, \"calculated_volume_medium\": 29.23959125, \"ground_truth_volume_small\": 0.8, \"calculated_volume_small\": 0.115510162, \"ground_truth_mass_large\": 19.6, \"calculated_mass_large\": 23.50762703, \"ground_truth_mass_medium\": 4.2, \"calculated_mass_medium\": 5.847918251, \"ground_truth_mass_small\": 0.2, \"calculated_mass_small\": 0.023102032, \"Rep\": \"Large1\"}, {\"inserts\": \"Medium Density\", \"ground_truth_volume_large\": 98.2, \"calculated_volume_large\": 107.0596031, \"ground_truth_volume_medium\": 21.2, \"calculated_volume_medium\": 21.59703509, \"ground_truth_volume_small\": 0.8, \"calculated_volume_small\": 0.472705325, \"ground_truth_mass_large\": 39.3, \"calculated_mass_large\": 42.82384123, \"ground_truth_mass_medium\": 8.5, \"calculated_mass_medium\": 8.638814038, \"ground_truth_mass_small\": 0.3, \"calculated_mass_small\": 0.18908213, \"Rep\": \"Large1\"}, {\"inserts\": \"High Density\", \"ground_truth_volume_large\": 98.2, \"calculated_volume_large\": 104.6497219, \"ground_truth_volume_medium\": 21.2, \"calculated_volume_medium\": 21.33428906, \"ground_truth_volume_small\": 0.8, \"calculated_volume_small\": 0.179930114, \"ground_truth_mass_large\": 78.5, \"calculated_mass_large\": 83.71977754, \"ground_truth_mass_medium\": 17.0, \"calculated_mass_medium\": 17.06743125, \"ground_truth_mass_small\": 0.6, \"calculated_mass_small\": 0.143944091, \"Rep\": \"Large1\"}, {\"inserts\": \"Low Density\", \"ground_truth_volume_large\": 98.2, \"calculated_volume_large\": 112.5889884, \"ground_truth_volume_medium\": 21.2, \"calculated_volume_medium\": 25.02740067, \"ground_truth_volume_small\": 0.8, \"calculated_volume_small\": 0.0, \"ground_truth_mass_large\": 19.6, \"calculated_mass_large\": 22.51779768, \"ground_truth_mass_medium\": 4.2, \"calculated_mass_medium\": 5.005480134, \"ground_truth_mass_small\": 0.2, \"calculated_mass_small\": 0.0, \"Rep\": \"Large2\"}, {\"inserts\": \"Medium Density\", \"ground_truth_volume_large\": 98.2, \"calculated_volume_large\": 102.1324663, \"ground_truth_volume_medium\": 21.2, \"calculated_volume_medium\": 21.0880842, \"ground_truth_volume_small\": 0.8, \"calculated_volume_small\": 1.254075666, \"ground_truth_mass_large\": 39.3, \"calculated_mass_large\": 40.85298652, \"ground_truth_mass_medium\": 8.5, \"calculated_mass_medium\": 8.43523368, \"ground_truth_mass_small\": 0.3, \"calculated_mass_small\": 0.501630266, \"Rep\": \"Large2\"}, {\"inserts\": \"High Density\", \"ground_truth_volume_large\": 98.2, \"calculated_volume_large\": 106.7635256, \"ground_truth_volume_medium\": 21.2, \"calculated_volume_medium\": 22.19446186, \"ground_truth_volume_small\": 0.8, \"calculated_volume_small\": 1.002053141, \"ground_truth_mass_large\": 78.5, \"calculated_mass_large\": 85.4108205, \"ground_truth_mass_medium\": 17.0, \"calculated_mass_medium\": 17.75556949, \"ground_truth_mass_small\": 0.6, \"calculated_mass_small\": 0.801642513, \"Rep\": \"Large2\"}, {\"inserts\": \"Low Density\", \"ground_truth_volume_large\": 98.2, \"calculated_volume_large\": 120.1480912, \"ground_truth_volume_medium\": 21.2, \"calculated_volume_medium\": 30.47590471, \"ground_truth_volume_small\": 0.8, \"calculated_volume_small\": 0.830788818, \"ground_truth_mass_large\": 19.6, \"calculated_mass_large\": 24.02961823, \"ground_truth_mass_medium\": 4.2, \"calculated_mass_medium\": 6.095180943, \"ground_truth_mass_small\": 0.2, \"calculated_mass_small\": 0.166157764, \"Rep\": \"Large3\"}, {\"inserts\": \"Medium Density\", \"ground_truth_volume_large\": 98.2, \"calculated_volume_large\": 110.1617326, \"ground_truth_volume_medium\": 21.2, \"calculated_volume_medium\": 22.73296196, \"ground_truth_volume_small\": 0.8, \"calculated_volume_small\": 0.989045137, \"ground_truth_mass_large\": 39.3, \"calculated_mass_large\": 44.06469305, \"ground_truth_mass_medium\": 8.5, \"calculated_mass_medium\": 9.093184783, \"ground_truth_mass_small\": 0.3, \"calculated_mass_small\": 0.395618055, \"Rep\": \"Large3\"}, {\"inserts\": \"High Density\", \"ground_truth_volume_large\": 98.2, \"calculated_volume_large\": 108.2459504, \"ground_truth_volume_medium\": 21.2, \"calculated_volume_medium\": 18.39629574, \"ground_truth_volume_small\": 0.8, \"calculated_volume_small\": 0.746740469, \"ground_truth_mass_large\": 78.5, \"calculated_mass_large\": 86.59676036, \"ground_truth_mass_medium\": 17.0, \"calculated_mass_medium\": 14.71703659, \"ground_truth_mass_small\": 0.6, \"calculated_mass_small\": 0.597392375, \"Rep\": \"Large3\"}, {\"inserts\": \"Low Density\", \"ground_truth_volume_large\": 98.2, \"calculated_volume_large\": 118.8278571, \"ground_truth_volume_medium\": 21.2, \"calculated_volume_medium\": 24.65329185, \"ground_truth_volume_small\": 0.8, \"calculated_volume_small\": 0.431506522, \"ground_truth_mass_large\": 19.6, \"calculated_mass_large\": 23.76557142, \"ground_truth_mass_medium\": 4.2, \"calculated_mass_medium\": 4.93065837, \"ground_truth_mass_small\": 0.2, \"calculated_mass_small\": 0.086301304, \"Rep\": \"Large4\"}, {\"inserts\": \"Medium Density\", \"ground_truth_volume_large\": 98.2, \"calculated_volume_large\": 114.8880445, \"ground_truth_volume_medium\": 21.2, \"calculated_volume_medium\": 24.41600142, \"ground_truth_volume_small\": 0.8, \"calculated_volume_small\": 0.409255055, \"ground_truth_mass_large\": 39.3, \"calculated_mass_large\": 45.95521782, \"ground_truth_mass_medium\": 8.5, \"calculated_mass_medium\": 9.766400567, \"ground_truth_mass_small\": 0.3, \"calculated_mass_small\": 0.163702022, \"Rep\": \"Large4\"}, {\"inserts\": \"High Density\", \"ground_truth_volume_large\": 98.2, \"calculated_volume_large\": 105.986391, \"ground_truth_volume_medium\": 21.2, \"calculated_volume_medium\": 18.58838434, \"ground_truth_volume_small\": 0.8, \"calculated_volume_small\": 1.508604067, \"ground_truth_mass_large\": 78.5, \"calculated_mass_large\": 84.78911284, \"ground_truth_mass_medium\": 17.0, \"calculated_mass_medium\": 14.87070747, \"ground_truth_mass_small\": 0.6, \"calculated_mass_small\": 1.206883254, \"Rep\": \"Large4\"}, {\"inserts\": \"Low Density\", \"ground_truth_volume_large\": 98.2, \"calculated_volume_large\": 128.2398402, \"ground_truth_volume_medium\": 21.2, \"calculated_volume_medium\": 31.31694359, \"ground_truth_volume_small\": 0.8, \"calculated_volume_small\": 0.422989783, \"ground_truth_mass_large\": 19.6, \"calculated_mass_large\": 25.64796805, \"ground_truth_mass_medium\": 4.2, \"calculated_mass_medium\": 6.263388719, \"ground_truth_mass_small\": 0.2, \"calculated_mass_small\": 0.084597957, \"Rep\": \"Large5\"}, {\"inserts\": \"Medium Density\", \"ground_truth_volume_large\": 98.2, \"calculated_volume_large\": 98.66783266, \"ground_truth_volume_medium\": 21.2, \"calculated_volume_medium\": 19.55632052, \"ground_truth_volume_small\": 0.8, \"calculated_volume_small\": 0.340261887, \"ground_truth_mass_large\": 39.3, \"calculated_mass_large\": 39.46713306, \"ground_truth_mass_medium\": 8.5, \"calculated_mass_medium\": 7.822528208, \"ground_truth_mass_small\": 0.3, \"calculated_mass_small\": 0.136104755, \"Rep\": \"Large5\"}, {\"inserts\": \"High Density\", \"ground_truth_volume_large\": 98.2, \"calculated_volume_large\": 103.2754851, \"ground_truth_volume_medium\": 21.2, \"calculated_volume_medium\": 20.60282805, \"ground_truth_volume_small\": 0.8, \"calculated_volume_small\": 0.164352076, \"ground_truth_mass_large\": 78.5, \"calculated_mass_large\": 82.62038805, \"ground_truth_mass_medium\": 17.0, \"calculated_mass_medium\": 16.48226244, \"ground_truth_mass_small\": 0.6, \"calculated_mass_small\": 0.13148166, \"Rep\": \"Large5\"}, {\"inserts\": \"Low Density\", \"ground_truth_volume_large\": 98.2, \"calculated_volume_large\": 214.9492396, \"ground_truth_volume_medium\": 21.2, \"calculated_volume_medium\": 69.3821895, \"ground_truth_volume_small\": 0.8, \"calculated_volume_small\": 0.0, \"ground_truth_mass_large\": 19.6, \"calculated_mass_large\": 42.98984792, \"ground_truth_mass_medium\": 4.2, \"calculated_mass_medium\": 13.8764379, \"ground_truth_mass_small\": 0.2, \"calculated_mass_small\": 0.0, \"Rep\": \"Small1\"}, {\"inserts\": \"Medium Density\", \"ground_truth_volume_large\": 98.2, \"calculated_volume_large\": 134.2914239, \"ground_truth_volume_medium\": 21.2, \"calculated_volume_medium\": 28.71750162, \"ground_truth_volume_small\": 0.8, \"calculated_volume_small\": 0.789037322, \"ground_truth_mass_large\": 39.3, \"calculated_mass_large\": 53.71656956, \"ground_truth_mass_medium\": 8.5, \"calculated_mass_medium\": 11.48700065, \"ground_truth_mass_small\": 0.3, \"calculated_mass_small\": 0.315614929, \"Rep\": \"Small1\"}, {\"inserts\": \"High Density\", \"ground_truth_volume_large\": 98.2, \"calculated_volume_large\": 115.3856584, \"ground_truth_volume_medium\": 21.2, \"calculated_volume_medium\": 23.54965756, \"ground_truth_volume_small\": 0.8, \"calculated_volume_small\": 1.506709112, \"ground_truth_mass_large\": 78.5, \"calculated_mass_large\": 92.30852675, \"ground_truth_mass_medium\": 17.0, \"calculated_mass_medium\": 18.83972605, \"ground_truth_mass_small\": 0.6, \"calculated_mass_small\": 1.20536729, \"Rep\": \"Small1\"}, {\"inserts\": \"Low Density\", \"ground_truth_volume_large\": 98.2, \"calculated_volume_large\": 194.3176719, \"ground_truth_volume_medium\": 21.2, \"calculated_volume_medium\": 34.71078415, \"ground_truth_volume_small\": 0.8, \"calculated_volume_small\": 0.382202513, \"ground_truth_mass_large\": 19.6, \"calculated_mass_large\": 38.86353437, \"ground_truth_mass_medium\": 4.2, \"calculated_mass_medium\": 6.942156831, \"ground_truth_mass_small\": 0.2, \"calculated_mass_small\": 0.076440503, \"Rep\": \"Small2\"}, {\"inserts\": \"Medium Density\", \"ground_truth_volume_large\": 98.2, \"calculated_volume_large\": 121.1301296, \"ground_truth_volume_medium\": 21.2, \"calculated_volume_medium\": 23.96658804, \"ground_truth_volume_small\": 0.8, \"calculated_volume_small\": 0.417920663, \"ground_truth_mass_large\": 39.3, \"calculated_mass_large\": 48.45205184, \"ground_truth_mass_medium\": 8.5, \"calculated_mass_medium\": 9.586635215, \"ground_truth_mass_small\": 0.3, \"calculated_mass_small\": 0.167168265, \"Rep\": \"Small2\"}, {\"inserts\": \"High Density\", \"ground_truth_volume_large\": 98.2, \"calculated_volume_large\": 112.3335566, \"ground_truth_volume_medium\": 21.2, \"calculated_volume_medium\": 20.91298235, \"ground_truth_volume_small\": 0.8, \"calculated_volume_small\": 0.45948141, \"ground_truth_mass_large\": 78.5, \"calculated_mass_large\": 89.86684525, \"ground_truth_mass_medium\": 17.0, \"calculated_mass_medium\": 16.73038588, \"ground_truth_mass_small\": 0.6, \"calculated_mass_small\": 0.367585128, \"Rep\": \"Small2\"}, {\"inserts\": \"Low Density\", \"ground_truth_volume_large\": 98.2, \"calculated_volume_large\": 101.0523809, \"ground_truth_volume_medium\": 21.2, \"calculated_volume_medium\": 28.90117677, \"ground_truth_volume_small\": 0.8, \"calculated_volume_small\": 0.183306591, \"ground_truth_mass_large\": 19.6, \"calculated_mass_large\": 20.21047618, \"ground_truth_mass_medium\": 4.2, \"calculated_mass_medium\": 5.780235353, \"ground_truth_mass_small\": 0.2, \"calculated_mass_small\": 0.036661318, \"Rep\": \"Small3\"}, {\"inserts\": \"Medium Density\", \"ground_truth_volume_large\": 98.2, \"calculated_volume_large\": 95.8878112, \"ground_truth_volume_medium\": 21.2, \"calculated_volume_medium\": 19.74656669, \"ground_truth_volume_small\": 0.8, \"calculated_volume_small\": 0.0, \"ground_truth_mass_large\": 39.3, \"calculated_mass_large\": 38.35512448, \"ground_truth_mass_medium\": 8.5, \"calculated_mass_medium\": 7.898626675, \"ground_truth_mass_small\": 0.3, \"calculated_mass_small\": 0.0, \"Rep\": \"Small3\"}, {\"inserts\": \"High Density\", \"ground_truth_volume_large\": 98.2, \"calculated_volume_large\": 100.4362714, \"ground_truth_volume_medium\": 21.2, \"calculated_volume_medium\": 19.31282164, \"ground_truth_volume_small\": 0.8, \"calculated_volume_small\": 1.099902653, \"ground_truth_mass_large\": 78.5, \"calculated_mass_large\": 80.34901715, \"ground_truth_mass_medium\": 17.0, \"calculated_mass_medium\": 15.45025731, \"ground_truth_mass_small\": 0.6, \"calculated_mass_small\": 0.879922122, \"Rep\": \"Small3\"}, {\"inserts\": \"Low Density\", \"ground_truth_volume_large\": 98.2, \"calculated_volume_large\": 104.4931576, \"ground_truth_volume_medium\": 21.2, \"calculated_volume_medium\": 20.43325582, \"ground_truth_volume_small\": 0.8, \"calculated_volume_small\": 0.314992844, \"ground_truth_mass_large\": 19.6, \"calculated_mass_large\": 20.89863153, \"ground_truth_mass_medium\": 4.2, \"calculated_mass_medium\": 4.086651165, \"ground_truth_mass_small\": 0.2, \"calculated_mass_small\": 0.062998569, \"Rep\": \"Small4\"}, {\"inserts\": \"Medium Density\", \"ground_truth_volume_large\": 98.2, \"calculated_volume_large\": 97.93672182, \"ground_truth_volume_medium\": 21.2, \"calculated_volume_medium\": 24.57778662, \"ground_truth_volume_small\": 0.8, \"calculated_volume_small\": 0.58542004, \"ground_truth_mass_large\": 39.3, \"calculated_mass_large\": 39.17468873, \"ground_truth_mass_medium\": 8.5, \"calculated_mass_medium\": 9.831114648, \"ground_truth_mass_small\": 0.3, \"calculated_mass_small\": 0.234168016, \"Rep\": \"Small4\"}, {\"inserts\": \"High Density\", \"ground_truth_volume_large\": 98.2, \"calculated_volume_large\": 101.1275152, \"ground_truth_volume_medium\": 21.2, \"calculated_volume_medium\": 20.6293952, \"ground_truth_volume_small\": 0.8, \"calculated_volume_small\": 0.74179678, \"ground_truth_mass_large\": 78.5, \"calculated_mass_large\": 80.90201212, \"ground_truth_mass_medium\": 17.0, \"calculated_mass_medium\": 16.50351616, \"ground_truth_mass_small\": 0.6, \"calculated_mass_small\": 0.593437424, \"Rep\": \"Small4\"}, {\"inserts\": \"Low Density\", \"ground_truth_volume_large\": 98.2, \"calculated_volume_large\": 99.48071165, \"ground_truth_volume_medium\": 21.2, \"calculated_volume_medium\": 27.35448962, \"ground_truth_volume_small\": 0.8, \"calculated_volume_small\": 1.062657603, \"ground_truth_mass_large\": 19.6, \"calculated_mass_large\": 19.89614233, \"ground_truth_mass_medium\": 4.2, \"calculated_mass_medium\": 5.470897923, \"ground_truth_mass_small\": 0.2, \"calculated_mass_small\": 0.212531521, \"Rep\": \"Small5\"}, {\"inserts\": \"Medium Density\", \"ground_truth_volume_large\": 98.2, \"calculated_volume_large\": 100.7743032, \"ground_truth_volume_medium\": 21.2, \"calculated_volume_medium\": 22.43114795, \"ground_truth_volume_small\": 0.8, \"calculated_volume_small\": 0.944274322, \"ground_truth_mass_large\": 39.3, \"calculated_mass_large\": 40.30972128, \"ground_truth_mass_medium\": 8.5, \"calculated_mass_medium\": 8.972459179, \"ground_truth_mass_small\": 0.3, \"calculated_mass_small\": 0.377709729, \"Rep\": \"Small5\"}, {\"inserts\": \"High Density\", \"ground_truth_volume_large\": 98.2, \"calculated_volume_large\": 100.8341802, \"ground_truth_volume_medium\": 21.2, \"calculated_volume_medium\": 19.76298836, \"ground_truth_volume_small\": 0.8, \"calculated_volume_small\": 0.983060631, \"ground_truth_mass_large\": 78.5, \"calculated_mass_large\": 80.66734419, \"ground_truth_mass_medium\": 17.0, \"calculated_mass_medium\": 15.81039069, \"ground_truth_mass_small\": 0.6, \"calculated_mass_small\": 0.786448505, \"Rep\": \"Small5\"}]}}, {\"mode\": \"vega-lite\"});\n</script>",
      "text/plain": "alt.HConcatChart(...)"
     },
     "metadata": {}
    }
   ]
  },
  {
   "cell_type": "markdown",
   "source": "### Mass&nbsp;Score:&nbsp;Medium&nbsp;Inserts",
   "metadata": {
    "cell_id": "25d70fbc-822e-4c5f-bbf8-3544391986f9",
    "tags": [],
    "is_collapsed": false,
    "deepnote_cell_type": "text-cell-h3"
   }
  },
  {
   "cell_type": "code",
   "metadata": {
    "cell_id": "006ef342-678c-4cd5-bbe9-fc599a095852",
    "tags": [],
    "deepnote_to_be_reexecuted": false,
    "source_hash": "607960c5",
    "execution_start": 1643835467159,
    "execution_millis": 182,
    "deepnote_output_heights": [
     21.1875
    ],
    "deepnote_cell_type": "code"
   },
   "source": "X_GE2_M = GE2.ground_truth_mass_medium.to_numpy().reshape(-1,1)\ny_GE2_M = GE2.calculated_mass_medium.to_numpy().reshape(-1,1)\nreg_GE2_M = LinearRegression().fit(X_GE2_M,y_GE2_M)\nGE2_scoreM = reg_GE2_L.score(X_GE2_M,y_GE2_M)\nGE2_scoreM",
   "execution_count": 10,
   "outputs": [
    {
     "output_type": "execute_result",
     "execution_count": 10,
     "data": {
      "text/plain": "0.8873296355276588"
     },
     "metadata": {}
    }
   ]
  },
  {
   "cell_type": "code",
   "metadata": {
    "cell_id": "ef01f004-5635-4067-9b39-faf7fe0468d0",
    "tags": [],
    "deepnote_to_be_reexecuted": false,
    "source_hash": "45d74def",
    "execution_start": 1643835467234,
    "execution_millis": 259975,
    "deepnote_cell_type": "code"
   },
   "source": "g2M,e2M = [reg_GE2_M.coef_[0,0],reg_GE2_M.intercept_[0]]\nprint(\"y = {} x + {}\".format(str(g2M),str(e2M)))",
   "execution_count": 11,
   "outputs": [
    {
     "name": "stdout",
     "text": "y = 0.9695196744111475 x + 1.5708624515963052\n",
     "output_type": "stream"
    }
   ]
  },
  {
   "cell_type": "code",
   "metadata": {
    "cell_id": "7d4c78c8-4938-4d58-a6a6-72401982e48d",
    "tags": [],
    "deepnote_to_be_reexecuted": false,
    "source_hash": "ccfd0dd",
    "execution_start": 1643835467236,
    "execution_millis": 259975,
    "deepnote_output_heights": [
     21.1875
    ],
    "deepnote_cell_type": "code"
   },
   "source": "X_GE3_M = GE3.ground_truth_mass_medium.to_numpy().reshape(-1,1)\ny_GE3_M = GE3.calculated_mass_medium.to_numpy().reshape(-1,1)\nreg_GE3_M = LinearRegression().fit(X_GE3_M,y_GE3_M)\nGE3_scoreM = reg_GE3_M.score(X_GE3_M,y_GE3_M)\nGE3_scoreM",
   "execution_count": 12,
   "outputs": [
    {
     "output_type": "execute_result",
     "execution_count": 12,
     "data": {
      "text/plain": "0.8478803549333633"
     },
     "metadata": {}
    }
   ]
  },
  {
   "cell_type": "code",
   "metadata": {
    "cell_id": "b740e001-9b66-441f-bfef-b15a7e59859a",
    "tags": [],
    "deepnote_to_be_reexecuted": false,
    "source_hash": "305808fd",
    "execution_start": 1643835467278,
    "execution_millis": 64,
    "deepnote_cell_type": "code"
   },
   "source": "g3M,e3M = [reg_GE3_M.coef_[0,0],reg_GE3_M.intercept_[0]]\nprint(\"y = {} x + {}\".format(str(g3M),str(e3M)))",
   "execution_count": 13,
   "outputs": [
    {
     "name": "stdout",
     "text": "y = 0.7911437462709163 x + 2.836286463984596\n",
     "output_type": "stream"
    }
   ]
  },
  {
   "cell_type": "code",
   "metadata": {
    "cell_id": "cff00b64-fe7b-4be9-8a09-39f75740f01a",
    "tags": [],
    "deepnote_to_be_reexecuted": false,
    "source_hash": "fafa8455",
    "execution_start": 1643835877331,
    "execution_millis": 182,
    "deepnote_output_heights": [
     363
    ],
    "deepnote_cell_type": "code"
   },
   "source": "GE2_medium = chart_plot_medium(GE2)\nGE3_medium = chart_plot_medium(GE3)\nGE2_medium | GE3_medium",
   "execution_count": 130,
   "outputs": [
    {
     "output_type": "execute_result",
     "execution_count": 130,
     "data": {
      "text/html": "\n<div id=\"altair-viz-1e55cea965ce43bc81bb364af214cdd1\"></div>\n<script type=\"text/javascript\">\n  (function(spec, embedOpt){\n    let outputDiv = document.currentScript.previousElementSibling;\n    if (outputDiv.id !== \"altair-viz-1e55cea965ce43bc81bb364af214cdd1\") {\n      outputDiv = document.getElementById(\"altair-viz-1e55cea965ce43bc81bb364af214cdd1\");\n    }\n    const paths = {\n      \"vega\": \"https://cdn.jsdelivr.net/npm//vega@5?noext\",\n      \"vega-lib\": \"https://cdn.jsdelivr.net/npm//vega-lib?noext\",\n      \"vega-lite\": \"https://cdn.jsdelivr.net/npm//vega-lite@4.8.1?noext\",\n      \"vega-embed\": \"https://cdn.jsdelivr.net/npm//vega-embed@6?noext\",\n    };\n\n    function loadScript(lib) {\n      return new Promise(function(resolve, reject) {\n        var s = document.createElement('script');\n        s.src = paths[lib];\n        s.async = true;\n        s.onload = () => resolve(paths[lib]);\n        s.onerror = () => reject(`Error loading script: ${paths[lib]}`);\n        document.getElementsByTagName(\"head\")[0].appendChild(s);\n      });\n    }\n\n    function showError(err) {\n      outputDiv.innerHTML = `<div class=\"error\" style=\"color:red;\">${err}</div>`;\n      throw err;\n    }\n\n    function displayChart(vegaEmbed) {\n      vegaEmbed(outputDiv, spec, embedOpt)\n        .catch(err => showError(`Javascript Error: ${err.message}<br>This usually means there's a typo in your chart specification. See the javascript console for the full traceback.`));\n    }\n\n    if(typeof define === \"function\" && define.amd) {\n      requirejs.config({paths});\n      require([\"vega-embed\"], displayChart, err => showError(`Error loading script: ${err.message}`));\n    } else if (typeof vegaEmbed === \"function\") {\n      displayChart(vegaEmbed);\n    } else {\n      loadScript(\"vega\")\n        .then(() => loadScript(\"vega-lite\"))\n        .then(() => loadScript(\"vega-embed\"))\n        .catch(showError)\n        .then(() => displayChart(vegaEmbed));\n    }\n  })({\"config\": {\"view\": {\"continuousWidth\": 400, \"continuousHeight\": 300}}, \"hconcat\": [{\"layer\": [{\"mark\": \"circle\", \"encoding\": {\"color\": {\"type\": \"nominal\", \"field\": \"Rep\"}, \"tooltip\": [{\"type\": \"quantitative\", \"field\": \"ground_truth_volume_medium\"}, {\"type\": \"quantitative\", \"field\": \"calculated_volume_medium\"}, {\"type\": \"nominal\", \"field\": \"Rep\"}], \"x\": {\"type\": \"quantitative\", \"field\": \"ground_truth_mass_medium\"}, \"y\": {\"type\": \"quantitative\", \"field\": \"calculated_mass_medium\"}}}, {\"mark\": \"line\", \"encoding\": {\"color\": {\"type\": \"nominal\", \"field\": \"Rep\"}, \"tooltip\": [{\"type\": \"quantitative\", \"field\": \"ground_truth_volume_medium\"}, {\"type\": \"quantitative\", \"field\": \"calculated_volume_medium\"}, {\"type\": \"nominal\", \"field\": \"Rep\"}], \"x\": {\"type\": \"quantitative\", \"field\": \"ground_truth_mass_medium\"}, \"y\": {\"type\": \"quantitative\", \"field\": \"calculated_mass_medium\"}}, \"transform\": [{\"on\": \"ground_truth_mass_medium\", \"regression\": \"calculated_mass_medium\", \"method\": \"linear\"}]}, {\"mark\": {\"type\": \"line\", \"color\": \"red\"}, \"encoding\": {\"x\": {\"type\": \"quantitative\", \"field\": \"ground_truth_mass_medium\"}, \"y\": {\"type\": \"quantitative\", \"field\": \"ground_truth_mass_medium\"}}}], \"data\": {\"name\": \"data-1a11c19067a46a99bba2664efaa0948b\"}}, {\"layer\": [{\"mark\": \"circle\", \"encoding\": {\"color\": {\"type\": \"nominal\", \"field\": \"Rep\"}, \"tooltip\": [{\"type\": \"quantitative\", \"field\": \"ground_truth_volume_medium\"}, {\"type\": \"quantitative\", \"field\": \"calculated_volume_medium\"}, {\"type\": \"nominal\", \"field\": \"Rep\"}], \"x\": {\"type\": \"quantitative\", \"field\": \"ground_truth_mass_medium\"}, \"y\": {\"type\": \"quantitative\", \"field\": \"calculated_mass_medium\"}}}, {\"mark\": \"line\", \"encoding\": {\"color\": {\"type\": \"nominal\", \"field\": \"Rep\"}, \"tooltip\": [{\"type\": \"quantitative\", \"field\": \"ground_truth_volume_medium\"}, {\"type\": \"quantitative\", \"field\": \"calculated_volume_medium\"}, {\"type\": \"nominal\", \"field\": \"Rep\"}], \"x\": {\"type\": \"quantitative\", \"field\": \"ground_truth_mass_medium\"}, \"y\": {\"type\": \"quantitative\", \"field\": \"calculated_mass_medium\"}}, \"transform\": [{\"on\": \"ground_truth_mass_medium\", \"regression\": \"calculated_mass_medium\", \"method\": \"linear\"}]}, {\"mark\": {\"type\": \"line\", \"color\": \"red\"}, \"encoding\": {\"x\": {\"type\": \"quantitative\", \"field\": \"ground_truth_mass_medium\"}, \"y\": {\"type\": \"quantitative\", \"field\": \"ground_truth_mass_medium\"}}}], \"data\": {\"name\": \"data-c1132cc00cba764b83fc822645286b5a\"}}], \"$schema\": \"https://vega.github.io/schema/vega-lite/v4.8.1.json\", \"datasets\": {\"data-1a11c19067a46a99bba2664efaa0948b\": [{\"inserts\": \"Low Density\", \"ground_truth_volume_large\": 98.2, \"calculated_volume_large\": 124.0680227, \"ground_truth_volume_medium\": 21.2, \"calculated_volume_medium\": 30.88484501, \"ground_truth_volume_small\": 0.8, \"calculated_volume_small\": 0.121867063, \"ground_truth_mass_large\": 19.6, \"calculated_mass_large\": 24.81360455, \"ground_truth_mass_medium\": 4.2, \"calculated_mass_medium\": 6.176969002, \"ground_truth_mass_small\": 0.2, \"calculated_mass_small\": 0.024373413, \"Rep\": \"Large1\"}, {\"inserts\": \"Medium Density\", \"ground_truth_volume_large\": 98.2, \"calculated_volume_large\": 112.9666022, \"ground_truth_volume_medium\": 21.2, \"calculated_volume_medium\": 22.78795341, \"ground_truth_volume_small\": 0.8, \"calculated_volume_small\": 0.498356901, \"ground_truth_mass_large\": 39.3, \"calculated_mass_large\": 45.18664088, \"ground_truth_mass_medium\": 8.5, \"calculated_mass_medium\": 9.115181363, \"ground_truth_mass_small\": 0.3, \"calculated_mass_small\": 0.19934276, \"Rep\": \"Large1\"}, {\"inserts\": \"High Density\", \"ground_truth_volume_large\": 98.2, \"calculated_volume_large\": 110.379797, \"ground_truth_volume_medium\": 21.2, \"calculated_volume_medium\": 22.49831706, \"ground_truth_volume_small\": 0.8, \"calculated_volume_small\": 0.189818013, \"ground_truth_mass_large\": 78.5, \"calculated_mass_large\": 88.30383759, \"ground_truth_mass_medium\": 17.0, \"calculated_mass_medium\": 17.99865365, \"ground_truth_mass_small\": 0.6, \"calculated_mass_small\": 0.151854411, \"Rep\": \"Large1\"}, {\"inserts\": \"Low Density\", \"ground_truth_volume_large\": 98.2, \"calculated_volume_large\": 113.6498547, \"ground_truth_volume_medium\": 21.2, \"calculated_volume_medium\": 25.25815237, \"ground_truth_volume_small\": 0.8, \"calculated_volume_small\": 0.0, \"ground_truth_mass_large\": 19.6, \"calculated_mass_large\": 22.72997094, \"ground_truth_mass_medium\": 4.2, \"calculated_mass_medium\": 5.051630474, \"ground_truth_mass_small\": 0.2, \"calculated_mass_small\": 0.0, \"Rep\": \"Large2\"}, {\"inserts\": \"Medium Density\", \"ground_truth_volume_large\": 98.2, \"calculated_volume_large\": 104.2014135, \"ground_truth_volume_medium\": 21.2, \"calculated_volume_medium\": 21.51628872, \"ground_truth_volume_small\": 0.8, \"calculated_volume_small\": 1.285007231, \"ground_truth_mass_large\": 39.3, \"calculated_mass_large\": 41.6805654, \"ground_truth_mass_medium\": 8.5, \"calculated_mass_medium\": 8.606515486, \"ground_truth_mass_small\": 0.3, \"calculated_mass_small\": 0.514002893, \"Rep\": \"Large2\"}, {\"inserts\": \"High Density\", \"ground_truth_volume_large\": 98.2, \"calculated_volume_large\": 109.4153992, \"ground_truth_volume_medium\": 21.2, \"calculated_volume_medium\": 22.74168449, \"ground_truth_volume_small\": 0.8, \"calculated_volume_small\": 1.026985293, \"ground_truth_mass_large\": 78.5, \"calculated_mass_large\": 87.53231933, \"ground_truth_mass_medium\": 17.0, \"calculated_mass_medium\": 18.19334759, \"ground_truth_mass_small\": 0.6, \"calculated_mass_small\": 0.821588234, \"Rep\": \"Large2\"}, {\"inserts\": \"Low Density\", \"ground_truth_volume_large\": 98.2, \"calculated_volume_large\": 102.1010991, \"ground_truth_volume_medium\": 21.2, \"calculated_volume_medium\": 26.039465, \"ground_truth_volume_small\": 0.8, \"calculated_volume_small\": 0.854244436, \"ground_truth_mass_large\": 19.6, \"calculated_mass_large\": 20.42021983, \"ground_truth_mass_medium\": 4.2, \"calculated_mass_medium\": 5.207893001, \"ground_truth_mass_small\": 0.2, \"calculated_mass_small\": 0.170848887, \"Rep\": \"Large3\"}, {\"inserts\": \"Medium Density\", \"ground_truth_volume_large\": 98.2, \"calculated_volume_large\": 107.4877392, \"ground_truth_volume_medium\": 21.2, \"calculated_volume_medium\": 22.17842432, \"ground_truth_volume_small\": 0.8, \"calculated_volume_small\": 1.016950713, \"ground_truth_mass_large\": 39.3, \"calculated_mass_large\": 42.99509569, \"ground_truth_mass_medium\": 8.5, \"calculated_mass_medium\": 8.871369726, \"ground_truth_mass_small\": 0.3, \"calculated_mass_small\": 0.406780285, \"Rep\": \"Large3\"}, {\"inserts\": \"High Density\", \"ground_truth_volume_large\": 98.2, \"calculated_volume_large\": 111.3201951, \"ground_truth_volume_medium\": 21.2, \"calculated_volume_medium\": 18.92112901, \"ground_truth_volume_small\": 0.8, \"calculated_volume_small\": 0.767698726, \"ground_truth_mass_large\": 78.5, \"calculated_mass_large\": 89.05615606, \"ground_truth_mass_medium\": 17.0, \"calculated_mass_medium\": 15.13690321, \"ground_truth_mass_small\": 0.6, \"calculated_mass_small\": 0.614158981, \"Rep\": \"Large3\"}, {\"inserts\": \"Low Density\", \"ground_truth_volume_large\": 98.2, \"calculated_volume_large\": 107.0077157, \"ground_truth_volume_medium\": 21.2, \"calculated_volume_medium\": 22.2543459, \"ground_truth_volume_small\": 0.8, \"calculated_volume_small\": 0.448954737, \"ground_truth_mass_large\": 19.6, \"calculated_mass_large\": 21.40154314, \"ground_truth_mass_medium\": 4.2, \"calculated_mass_medium\": 4.45086918, \"ground_truth_mass_small\": 0.2, \"calculated_mass_small\": 0.089790947, \"Rep\": \"Large4\"}, {\"inserts\": \"Medium Density\", \"ground_truth_volume_large\": 98.2, \"calculated_volume_large\": 114.7547987, \"ground_truth_volume_medium\": 21.2, \"calculated_volume_medium\": 24.3870961, \"ground_truth_volume_small\": 0.8, \"calculated_volume_small\": 0.425824565, \"ground_truth_mass_large\": 39.3, \"calculated_mass_large\": 45.90191947, \"ground_truth_mass_medium\": 8.5, \"calculated_mass_medium\": 9.754838442, \"ground_truth_mass_small\": 0.3, \"calculated_mass_small\": 0.170329826, \"Rep\": \"Large4\"}, {\"inserts\": \"High Density\", \"ground_truth_volume_large\": 98.2, \"calculated_volume_large\": 110.2841395, \"ground_truth_volume_medium\": 21.2, \"calculated_volume_medium\": 19.33959937, \"ground_truth_volume_small\": 0.8, \"calculated_volume_small\": 1.56947648, \"ground_truth_mass_large\": 78.5, \"calculated_mass_large\": 88.22731156, \"ground_truth_mass_medium\": 17.0, \"calculated_mass_medium\": 15.47167949, \"ground_truth_mass_small\": 0.6, \"calculated_mass_small\": 1.255581184, \"Rep\": \"Large4\"}, {\"inserts\": \"Low Density\", \"ground_truth_volume_large\": 98.2, \"calculated_volume_large\": 132.0974229, \"ground_truth_volume_medium\": 21.2, \"calculated_volume_medium\": 32.26454742, \"ground_truth_volume_small\": 0.8, \"calculated_volume_small\": 0.460916731, \"ground_truth_mass_large\": 19.6, \"calculated_mass_large\": 26.41948458, \"ground_truth_mass_medium\": 4.2, \"calculated_mass_medium\": 6.452909485, \"ground_truth_mass_small\": 0.2, \"calculated_mass_small\": 0.092183346, \"Rep\": \"Large5\"}, {\"inserts\": \"Medium Density\", \"ground_truth_volume_large\": 98.2, \"calculated_volume_large\": 105.8146384, \"ground_truth_volume_medium\": 21.2, \"calculated_volume_medium\": 20.97917798, \"ground_truth_volume_small\": 0.8, \"calculated_volume_small\": 0.370842025, \"ground_truth_mass_large\": 39.3, \"calculated_mass_large\": 42.32585537, \"ground_truth_mass_medium\": 8.5, \"calculated_mass_medium\": 8.391671193, \"ground_truth_mass_small\": 0.3, \"calculated_mass_small\": 0.14833681, \"Rep\": \"Large5\"}, {\"inserts\": \"High Density\", \"ground_truth_volume_large\": 98.2, \"calculated_volume_large\": 112.5755855, \"ground_truth_volume_medium\": 21.2, \"calculated_volume_medium\": 22.4672677, \"ground_truth_volume_small\": 0.8, \"calculated_volume_small\": 0.17928335, \"ground_truth_mass_large\": 78.5, \"calculated_mass_large\": 90.06046843, \"ground_truth_mass_medium\": 17.0, \"calculated_mass_medium\": 17.97381416, \"ground_truth_mass_small\": 0.6, \"calculated_mass_small\": 0.14342668, \"Rep\": \"Large5\"}, {\"inserts\": \"Low Density\", \"ground_truth_volume_large\": 98.2, \"calculated_volume_large\": 128.6945318, \"ground_truth_volume_medium\": 21.2, \"calculated_volume_medium\": 42.52609133, \"ground_truth_volume_small\": 0.8, \"calculated_volume_small\": 0.0, \"ground_truth_mass_large\": 19.6, \"calculated_mass_large\": 25.73890636, \"ground_truth_mass_medium\": 4.2, \"calculated_mass_medium\": 8.505218265, \"ground_truth_mass_small\": 0.2, \"calculated_mass_small\": 0.0, \"Rep\": \"Small1\"}, {\"inserts\": \"Medium Density\", \"ground_truth_volume_large\": 98.2, \"calculated_volume_large\": 129.1491551, \"ground_truth_volume_medium\": 21.2, \"calculated_volume_medium\": 27.59204923, \"ground_truth_volume_small\": 0.8, \"calculated_volume_small\": 0.88353739, \"ground_truth_mass_large\": 39.3, \"calculated_mass_large\": 51.65966203, \"ground_truth_mass_medium\": 8.5, \"calculated_mass_medium\": 11.03681969, \"ground_truth_mass_small\": 0.3, \"calculated_mass_small\": 0.353414956, \"Rep\": \"Small1\"}, {\"inserts\": \"High Density\", \"ground_truth_volume_large\": 98.2, \"calculated_volume_large\": 129.1416135, \"ground_truth_volume_medium\": 21.2, \"calculated_volume_medium\": 26.36908924, \"ground_truth_volume_small\": 0.8, \"calculated_volume_small\": 1.686223851, \"ground_truth_mass_large\": 78.5, \"calculated_mass_large\": 103.3132908, \"ground_truth_mass_medium\": 17.0, \"calculated_mass_medium\": 21.09527139, \"ground_truth_mass_small\": 0.6, \"calculated_mass_small\": 1.348979081, \"Rep\": \"Small1\"}, {\"inserts\": \"Low Density\", \"ground_truth_volume_large\": 98.2, \"calculated_volume_large\": 131.5258785, \"ground_truth_volume_medium\": 21.2, \"calculated_volume_medium\": 22.64105214, \"ground_truth_volume_small\": 0.8, \"calculated_volume_small\": 0.452315506, \"ground_truth_mass_large\": 19.6, \"calculated_mass_large\": 26.30517569, \"ground_truth_mass_medium\": 4.2, \"calculated_mass_medium\": 4.528210429, \"ground_truth_mass_small\": 0.2, \"calculated_mass_small\": 0.090463101, \"Rep\": \"Small2\"}, {\"inserts\": \"Medium Density\", \"ground_truth_volume_large\": 98.2, \"calculated_volume_large\": 124.6401267, \"ground_truth_volume_medium\": 21.2, \"calculated_volume_medium\": 24.66555634, \"ground_truth_volume_small\": 0.8, \"calculated_volume_small\": 0.494185992, \"ground_truth_mass_large\": 39.3, \"calculated_mass_large\": 49.85605066, \"ground_truth_mass_medium\": 8.5, \"calculated_mass_medium\": 9.866222535, \"ground_truth_mass_small\": 0.3, \"calculated_mass_small\": 0.197674397, \"Rep\": \"Small2\"}, {\"inserts\": \"High Density\", \"ground_truth_volume_large\": 98.2, \"calculated_volume_large\": 132.7684361, \"ground_truth_volume_medium\": 21.2, \"calculated_volume_medium\": 24.74647993, \"ground_truth_volume_small\": 0.8, \"calculated_volume_small\": 0.543776857, \"ground_truth_mass_large\": 78.5, \"calculated_mass_large\": 106.2147489, \"ground_truth_mass_medium\": 17.0, \"calculated_mass_medium\": 19.79718395, \"ground_truth_mass_small\": 0.6, \"calculated_mass_small\": 0.435021486, \"Rep\": \"Small2\"}, {\"inserts\": \"Low Density\", \"ground_truth_volume_large\": 98.2, \"calculated_volume_large\": 115.9502218, \"ground_truth_volume_medium\": 21.2, \"calculated_volume_medium\": 33.11400898, \"ground_truth_volume_small\": 0.8, \"calculated_volume_small\": 0.215786434, \"ground_truth_mass_large\": 19.6, \"calculated_mass_large\": 23.19004436, \"ground_truth_mass_medium\": 4.2, \"calculated_mass_medium\": 6.622801796, \"ground_truth_mass_small\": 0.2, \"calculated_mass_small\": 0.043157287, \"Rep\": \"Small3\"}, {\"inserts\": \"Medium Density\", \"ground_truth_volume_large\": 98.2, \"calculated_volume_large\": 111.9639108, \"ground_truth_volume_medium\": 21.2, \"calculated_volume_medium\": 23.0503234, \"ground_truth_volume_small\": 0.8, \"calculated_volume_small\": 0.0, \"ground_truth_mass_large\": 39.3, \"calculated_mass_large\": 44.78556434, \"ground_truth_mass_medium\": 8.5, \"calculated_mass_medium\": 9.220129358, \"ground_truth_mass_small\": 0.3, \"calculated_mass_small\": 0.0, \"Rep\": \"Small3\"}, {\"inserts\": \"High Density\", \"ground_truth_volume_large\": 98.2, \"calculated_volume_large\": 118.1423518, \"ground_truth_volume_medium\": 21.2, \"calculated_volume_medium\": 22.73297427, \"ground_truth_volume_small\": 0.8, \"calculated_volume_small\": 1.295125379, \"ground_truth_mass_large\": 78.5, \"calculated_mass_large\": 94.51388145, \"ground_truth_mass_medium\": 17.0, \"calculated_mass_medium\": 18.18637942, \"ground_truth_mass_small\": 0.6, \"calculated_mass_small\": 1.036100303, \"Rep\": \"Small3\"}, {\"inserts\": \"Low Density\", \"ground_truth_volume_large\": 98.2, \"calculated_volume_large\": 116.5412965, \"ground_truth_volume_medium\": 21.2, \"calculated_volume_medium\": 22.80077925, \"ground_truth_volume_small\": 0.8, \"calculated_volume_small\": 0.362458637, \"ground_truth_mass_large\": 19.6, \"calculated_mass_large\": 23.3082593, \"ground_truth_mass_medium\": 4.2, \"calculated_mass_medium\": 4.560155849, \"ground_truth_mass_small\": 0.2, \"calculated_mass_small\": 0.072491727, \"Rep\": \"Small4\"}, {\"inserts\": \"Medium Density\", \"ground_truth_volume_large\": 98.2, \"calculated_volume_large\": 111.5871867, \"ground_truth_volume_medium\": 21.2, \"calculated_volume_medium\": 27.98549, \"ground_truth_volume_small\": 0.8, \"calculated_volume_small\": 0.673130647, \"ground_truth_mass_large\": 39.3, \"calculated_mass_large\": 44.63487467, \"ground_truth_mass_medium\": 8.5, \"calculated_mass_medium\": 11.194196, \"ground_truth_mass_small\": 0.3, \"calculated_mass_small\": 0.269252259, \"Rep\": \"Small4\"}, {\"inserts\": \"High Density\", \"ground_truth_volume_large\": 98.2, \"calculated_volume_large\": 116.3609735, \"ground_truth_volume_medium\": 21.2, \"calculated_volume_medium\": 23.72874638, \"ground_truth_volume_small\": 0.8, \"calculated_volume_small\": 0.852872188, \"ground_truth_mass_large\": 78.5, \"calculated_mass_large\": 93.08877879, \"ground_truth_mass_medium\": 17.0, \"calculated_mass_medium\": 18.98299711, \"ground_truth_mass_small\": 0.6, \"calculated_mass_small\": 0.68229775, \"Rep\": \"Small4\"}, {\"inserts\": \"Low Density\", \"ground_truth_volume_large\": 98.2, \"calculated_volume_large\": 110.4719972, \"ground_truth_volume_medium\": 21.2, \"calculated_volume_medium\": 30.38052172, \"ground_truth_volume_small\": 0.8, \"calculated_volume_small\": 1.227940752, \"ground_truth_mass_large\": 19.6, \"calculated_mass_large\": 22.09439945, \"ground_truth_mass_medium\": 4.2, \"calculated_mass_medium\": 6.076104344, \"ground_truth_mass_small\": 0.2, \"calculated_mass_small\": 0.24558815, \"Rep\": \"Small5\"}, {\"inserts\": \"Medium Density\", \"ground_truth_volume_large\": 98.2, \"calculated_volume_large\": 114.9015621, \"ground_truth_volume_medium\": 21.2, \"calculated_volume_medium\": 25.61825598, \"ground_truth_volume_small\": 0.8, \"calculated_volume_small\": 1.090624358, \"ground_truth_mass_large\": 39.3, \"calculated_mass_large\": 45.96062484, \"ground_truth_mass_medium\": 8.5, \"calculated_mass_medium\": 10.24730239, \"ground_truth_mass_small\": 0.3, \"calculated_mass_small\": 0.436249743, \"Rep\": \"Small5\"}, {\"inserts\": \"High Density\", \"ground_truth_volume_large\": 98.2, \"calculated_volume_large\": 116.60665, \"ground_truth_volume_medium\": 21.2, \"calculated_volume_medium\": 22.87497359, \"ground_truth_volume_small\": 0.8, \"calculated_volume_small\": 1.137057952, \"ground_truth_mass_large\": 78.5, \"calculated_mass_large\": 93.28531996, \"ground_truth_mass_medium\": 17.0, \"calculated_mass_medium\": 18.29997887, \"ground_truth_mass_small\": 0.6, \"calculated_mass_small\": 0.909646362, \"Rep\": \"Small5\"}], \"data-c1132cc00cba764b83fc822645286b5a\": [{\"inserts\": \"Low Density\", \"ground_truth_volume_large\": 98.2, \"calculated_volume_large\": 117.5381351, \"ground_truth_volume_medium\": 21.2, \"calculated_volume_medium\": 29.23959125, \"ground_truth_volume_small\": 0.8, \"calculated_volume_small\": 0.115510162, \"ground_truth_mass_large\": 19.6, \"calculated_mass_large\": 23.50762703, \"ground_truth_mass_medium\": 4.2, \"calculated_mass_medium\": 5.847918251, \"ground_truth_mass_small\": 0.2, \"calculated_mass_small\": 0.023102032, \"Rep\": \"Large1\"}, {\"inserts\": \"Medium Density\", \"ground_truth_volume_large\": 98.2, \"calculated_volume_large\": 107.0596031, \"ground_truth_volume_medium\": 21.2, \"calculated_volume_medium\": 21.59703509, \"ground_truth_volume_small\": 0.8, \"calculated_volume_small\": 0.472705325, \"ground_truth_mass_large\": 39.3, \"calculated_mass_large\": 42.82384123, \"ground_truth_mass_medium\": 8.5, \"calculated_mass_medium\": 8.638814038, \"ground_truth_mass_small\": 0.3, \"calculated_mass_small\": 0.18908213, \"Rep\": \"Large1\"}, {\"inserts\": \"High Density\", \"ground_truth_volume_large\": 98.2, \"calculated_volume_large\": 104.6497219, \"ground_truth_volume_medium\": 21.2, \"calculated_volume_medium\": 21.33428906, \"ground_truth_volume_small\": 0.8, \"calculated_volume_small\": 0.179930114, \"ground_truth_mass_large\": 78.5, \"calculated_mass_large\": 83.71977754, \"ground_truth_mass_medium\": 17.0, \"calculated_mass_medium\": 17.06743125, \"ground_truth_mass_small\": 0.6, \"calculated_mass_small\": 0.143944091, \"Rep\": \"Large1\"}, {\"inserts\": \"Low Density\", \"ground_truth_volume_large\": 98.2, \"calculated_volume_large\": 112.5889884, \"ground_truth_volume_medium\": 21.2, \"calculated_volume_medium\": 25.02740067, \"ground_truth_volume_small\": 0.8, \"calculated_volume_small\": 0.0, \"ground_truth_mass_large\": 19.6, \"calculated_mass_large\": 22.51779768, \"ground_truth_mass_medium\": 4.2, \"calculated_mass_medium\": 5.005480134, \"ground_truth_mass_small\": 0.2, \"calculated_mass_small\": 0.0, \"Rep\": \"Large2\"}, {\"inserts\": \"Medium Density\", \"ground_truth_volume_large\": 98.2, \"calculated_volume_large\": 102.1324663, \"ground_truth_volume_medium\": 21.2, \"calculated_volume_medium\": 21.0880842, \"ground_truth_volume_small\": 0.8, \"calculated_volume_small\": 1.254075666, \"ground_truth_mass_large\": 39.3, \"calculated_mass_large\": 40.85298652, \"ground_truth_mass_medium\": 8.5, \"calculated_mass_medium\": 8.43523368, \"ground_truth_mass_small\": 0.3, \"calculated_mass_small\": 0.501630266, \"Rep\": \"Large2\"}, {\"inserts\": \"High Density\", \"ground_truth_volume_large\": 98.2, \"calculated_volume_large\": 106.7635256, \"ground_truth_volume_medium\": 21.2, \"calculated_volume_medium\": 22.19446186, \"ground_truth_volume_small\": 0.8, \"calculated_volume_small\": 1.002053141, \"ground_truth_mass_large\": 78.5, \"calculated_mass_large\": 85.4108205, \"ground_truth_mass_medium\": 17.0, \"calculated_mass_medium\": 17.75556949, \"ground_truth_mass_small\": 0.6, \"calculated_mass_small\": 0.801642513, \"Rep\": \"Large2\"}, {\"inserts\": \"Low Density\", \"ground_truth_volume_large\": 98.2, \"calculated_volume_large\": 120.1480912, \"ground_truth_volume_medium\": 21.2, \"calculated_volume_medium\": 30.47590471, \"ground_truth_volume_small\": 0.8, \"calculated_volume_small\": 0.830788818, \"ground_truth_mass_large\": 19.6, \"calculated_mass_large\": 24.02961823, \"ground_truth_mass_medium\": 4.2, \"calculated_mass_medium\": 6.095180943, \"ground_truth_mass_small\": 0.2, \"calculated_mass_small\": 0.166157764, \"Rep\": \"Large3\"}, {\"inserts\": \"Medium Density\", \"ground_truth_volume_large\": 98.2, \"calculated_volume_large\": 110.1617326, \"ground_truth_volume_medium\": 21.2, \"calculated_volume_medium\": 22.73296196, \"ground_truth_volume_small\": 0.8, \"calculated_volume_small\": 0.989045137, \"ground_truth_mass_large\": 39.3, \"calculated_mass_large\": 44.06469305, \"ground_truth_mass_medium\": 8.5, \"calculated_mass_medium\": 9.093184783, \"ground_truth_mass_small\": 0.3, \"calculated_mass_small\": 0.395618055, \"Rep\": \"Large3\"}, {\"inserts\": \"High Density\", \"ground_truth_volume_large\": 98.2, \"calculated_volume_large\": 108.2459504, \"ground_truth_volume_medium\": 21.2, \"calculated_volume_medium\": 18.39629574, \"ground_truth_volume_small\": 0.8, \"calculated_volume_small\": 0.746740469, \"ground_truth_mass_large\": 78.5, \"calculated_mass_large\": 86.59676036, \"ground_truth_mass_medium\": 17.0, \"calculated_mass_medium\": 14.71703659, \"ground_truth_mass_small\": 0.6, \"calculated_mass_small\": 0.597392375, \"Rep\": \"Large3\"}, {\"inserts\": \"Low Density\", \"ground_truth_volume_large\": 98.2, \"calculated_volume_large\": 118.8278571, \"ground_truth_volume_medium\": 21.2, \"calculated_volume_medium\": 24.65329185, \"ground_truth_volume_small\": 0.8, \"calculated_volume_small\": 0.431506522, \"ground_truth_mass_large\": 19.6, \"calculated_mass_large\": 23.76557142, \"ground_truth_mass_medium\": 4.2, \"calculated_mass_medium\": 4.93065837, \"ground_truth_mass_small\": 0.2, \"calculated_mass_small\": 0.086301304, \"Rep\": \"Large4\"}, {\"inserts\": \"Medium Density\", \"ground_truth_volume_large\": 98.2, \"calculated_volume_large\": 114.8880445, \"ground_truth_volume_medium\": 21.2, \"calculated_volume_medium\": 24.41600142, \"ground_truth_volume_small\": 0.8, \"calculated_volume_small\": 0.409255055, \"ground_truth_mass_large\": 39.3, \"calculated_mass_large\": 45.95521782, \"ground_truth_mass_medium\": 8.5, \"calculated_mass_medium\": 9.766400567, \"ground_truth_mass_small\": 0.3, \"calculated_mass_small\": 0.163702022, \"Rep\": \"Large4\"}, {\"inserts\": \"High Density\", \"ground_truth_volume_large\": 98.2, \"calculated_volume_large\": 105.986391, \"ground_truth_volume_medium\": 21.2, \"calculated_volume_medium\": 18.58838434, \"ground_truth_volume_small\": 0.8, \"calculated_volume_small\": 1.508604067, \"ground_truth_mass_large\": 78.5, \"calculated_mass_large\": 84.78911284, \"ground_truth_mass_medium\": 17.0, \"calculated_mass_medium\": 14.87070747, \"ground_truth_mass_small\": 0.6, \"calculated_mass_small\": 1.206883254, \"Rep\": \"Large4\"}, {\"inserts\": \"Low Density\", \"ground_truth_volume_large\": 98.2, \"calculated_volume_large\": 128.2398402, \"ground_truth_volume_medium\": 21.2, \"calculated_volume_medium\": 31.31694359, \"ground_truth_volume_small\": 0.8, \"calculated_volume_small\": 0.422989783, \"ground_truth_mass_large\": 19.6, \"calculated_mass_large\": 25.64796805, \"ground_truth_mass_medium\": 4.2, \"calculated_mass_medium\": 6.263388719, \"ground_truth_mass_small\": 0.2, \"calculated_mass_small\": 0.084597957, \"Rep\": \"Large5\"}, {\"inserts\": \"Medium Density\", \"ground_truth_volume_large\": 98.2, \"calculated_volume_large\": 98.66783266, \"ground_truth_volume_medium\": 21.2, \"calculated_volume_medium\": 19.55632052, \"ground_truth_volume_small\": 0.8, \"calculated_volume_small\": 0.340261887, \"ground_truth_mass_large\": 39.3, \"calculated_mass_large\": 39.46713306, \"ground_truth_mass_medium\": 8.5, \"calculated_mass_medium\": 7.822528208, \"ground_truth_mass_small\": 0.3, \"calculated_mass_small\": 0.136104755, \"Rep\": \"Large5\"}, {\"inserts\": \"High Density\", \"ground_truth_volume_large\": 98.2, \"calculated_volume_large\": 103.2754851, \"ground_truth_volume_medium\": 21.2, \"calculated_volume_medium\": 20.60282805, \"ground_truth_volume_small\": 0.8, \"calculated_volume_small\": 0.164352076, \"ground_truth_mass_large\": 78.5, \"calculated_mass_large\": 82.62038805, \"ground_truth_mass_medium\": 17.0, \"calculated_mass_medium\": 16.48226244, \"ground_truth_mass_small\": 0.6, \"calculated_mass_small\": 0.13148166, \"Rep\": \"Large5\"}, {\"inserts\": \"Low Density\", \"ground_truth_volume_large\": 98.2, \"calculated_volume_large\": 214.9492396, \"ground_truth_volume_medium\": 21.2, \"calculated_volume_medium\": 69.3821895, \"ground_truth_volume_small\": 0.8, \"calculated_volume_small\": 0.0, \"ground_truth_mass_large\": 19.6, \"calculated_mass_large\": 42.98984792, \"ground_truth_mass_medium\": 4.2, \"calculated_mass_medium\": 13.8764379, \"ground_truth_mass_small\": 0.2, \"calculated_mass_small\": 0.0, \"Rep\": \"Small1\"}, {\"inserts\": \"Medium Density\", \"ground_truth_volume_large\": 98.2, \"calculated_volume_large\": 134.2914239, \"ground_truth_volume_medium\": 21.2, \"calculated_volume_medium\": 28.71750162, \"ground_truth_volume_small\": 0.8, \"calculated_volume_small\": 0.789037322, \"ground_truth_mass_large\": 39.3, \"calculated_mass_large\": 53.71656956, \"ground_truth_mass_medium\": 8.5, \"calculated_mass_medium\": 11.48700065, \"ground_truth_mass_small\": 0.3, \"calculated_mass_small\": 0.315614929, \"Rep\": \"Small1\"}, {\"inserts\": \"High Density\", \"ground_truth_volume_large\": 98.2, \"calculated_volume_large\": 115.3856584, \"ground_truth_volume_medium\": 21.2, \"calculated_volume_medium\": 23.54965756, \"ground_truth_volume_small\": 0.8, \"calculated_volume_small\": 1.506709112, \"ground_truth_mass_large\": 78.5, \"calculated_mass_large\": 92.30852675, \"ground_truth_mass_medium\": 17.0, \"calculated_mass_medium\": 18.83972605, \"ground_truth_mass_small\": 0.6, \"calculated_mass_small\": 1.20536729, \"Rep\": \"Small1\"}, {\"inserts\": \"Low Density\", \"ground_truth_volume_large\": 98.2, \"calculated_volume_large\": 194.3176719, \"ground_truth_volume_medium\": 21.2, \"calculated_volume_medium\": 34.71078415, \"ground_truth_volume_small\": 0.8, \"calculated_volume_small\": 0.382202513, \"ground_truth_mass_large\": 19.6, \"calculated_mass_large\": 38.86353437, \"ground_truth_mass_medium\": 4.2, \"calculated_mass_medium\": 6.942156831, \"ground_truth_mass_small\": 0.2, \"calculated_mass_small\": 0.076440503, \"Rep\": \"Small2\"}, {\"inserts\": \"Medium Density\", \"ground_truth_volume_large\": 98.2, \"calculated_volume_large\": 121.1301296, \"ground_truth_volume_medium\": 21.2, \"calculated_volume_medium\": 23.96658804, \"ground_truth_volume_small\": 0.8, \"calculated_volume_small\": 0.417920663, \"ground_truth_mass_large\": 39.3, \"calculated_mass_large\": 48.45205184, \"ground_truth_mass_medium\": 8.5, \"calculated_mass_medium\": 9.586635215, \"ground_truth_mass_small\": 0.3, \"calculated_mass_small\": 0.167168265, \"Rep\": \"Small2\"}, {\"inserts\": \"High Density\", \"ground_truth_volume_large\": 98.2, \"calculated_volume_large\": 112.3335566, \"ground_truth_volume_medium\": 21.2, \"calculated_volume_medium\": 20.91298235, \"ground_truth_volume_small\": 0.8, \"calculated_volume_small\": 0.45948141, \"ground_truth_mass_large\": 78.5, \"calculated_mass_large\": 89.86684525, \"ground_truth_mass_medium\": 17.0, \"calculated_mass_medium\": 16.73038588, \"ground_truth_mass_small\": 0.6, \"calculated_mass_small\": 0.367585128, \"Rep\": \"Small2\"}, {\"inserts\": \"Low Density\", \"ground_truth_volume_large\": 98.2, \"calculated_volume_large\": 101.0523809, \"ground_truth_volume_medium\": 21.2, \"calculated_volume_medium\": 28.90117677, \"ground_truth_volume_small\": 0.8, \"calculated_volume_small\": 0.183306591, \"ground_truth_mass_large\": 19.6, \"calculated_mass_large\": 20.21047618, \"ground_truth_mass_medium\": 4.2, \"calculated_mass_medium\": 5.780235353, \"ground_truth_mass_small\": 0.2, \"calculated_mass_small\": 0.036661318, \"Rep\": \"Small3\"}, {\"inserts\": \"Medium Density\", \"ground_truth_volume_large\": 98.2, \"calculated_volume_large\": 95.8878112, \"ground_truth_volume_medium\": 21.2, \"calculated_volume_medium\": 19.74656669, \"ground_truth_volume_small\": 0.8, \"calculated_volume_small\": 0.0, \"ground_truth_mass_large\": 39.3, \"calculated_mass_large\": 38.35512448, \"ground_truth_mass_medium\": 8.5, \"calculated_mass_medium\": 7.898626675, \"ground_truth_mass_small\": 0.3, \"calculated_mass_small\": 0.0, \"Rep\": \"Small3\"}, {\"inserts\": \"High Density\", \"ground_truth_volume_large\": 98.2, \"calculated_volume_large\": 100.4362714, \"ground_truth_volume_medium\": 21.2, \"calculated_volume_medium\": 19.31282164, \"ground_truth_volume_small\": 0.8, \"calculated_volume_small\": 1.099902653, \"ground_truth_mass_large\": 78.5, \"calculated_mass_large\": 80.34901715, \"ground_truth_mass_medium\": 17.0, \"calculated_mass_medium\": 15.45025731, \"ground_truth_mass_small\": 0.6, \"calculated_mass_small\": 0.879922122, \"Rep\": \"Small3\"}, {\"inserts\": \"Low Density\", \"ground_truth_volume_large\": 98.2, \"calculated_volume_large\": 104.4931576, \"ground_truth_volume_medium\": 21.2, \"calculated_volume_medium\": 20.43325582, \"ground_truth_volume_small\": 0.8, \"calculated_volume_small\": 0.314992844, \"ground_truth_mass_large\": 19.6, \"calculated_mass_large\": 20.89863153, \"ground_truth_mass_medium\": 4.2, \"calculated_mass_medium\": 4.086651165, \"ground_truth_mass_small\": 0.2, \"calculated_mass_small\": 0.062998569, \"Rep\": \"Small4\"}, {\"inserts\": \"Medium Density\", \"ground_truth_volume_large\": 98.2, \"calculated_volume_large\": 97.93672182, \"ground_truth_volume_medium\": 21.2, \"calculated_volume_medium\": 24.57778662, \"ground_truth_volume_small\": 0.8, \"calculated_volume_small\": 0.58542004, \"ground_truth_mass_large\": 39.3, \"calculated_mass_large\": 39.17468873, \"ground_truth_mass_medium\": 8.5, \"calculated_mass_medium\": 9.831114648, \"ground_truth_mass_small\": 0.3, \"calculated_mass_small\": 0.234168016, \"Rep\": \"Small4\"}, {\"inserts\": \"High Density\", \"ground_truth_volume_large\": 98.2, \"calculated_volume_large\": 101.1275152, \"ground_truth_volume_medium\": 21.2, \"calculated_volume_medium\": 20.6293952, \"ground_truth_volume_small\": 0.8, \"calculated_volume_small\": 0.74179678, \"ground_truth_mass_large\": 78.5, \"calculated_mass_large\": 80.90201212, \"ground_truth_mass_medium\": 17.0, \"calculated_mass_medium\": 16.50351616, \"ground_truth_mass_small\": 0.6, \"calculated_mass_small\": 0.593437424, \"Rep\": \"Small4\"}, {\"inserts\": \"Low Density\", \"ground_truth_volume_large\": 98.2, \"calculated_volume_large\": 99.48071165, \"ground_truth_volume_medium\": 21.2, \"calculated_volume_medium\": 27.35448962, \"ground_truth_volume_small\": 0.8, \"calculated_volume_small\": 1.062657603, \"ground_truth_mass_large\": 19.6, \"calculated_mass_large\": 19.89614233, \"ground_truth_mass_medium\": 4.2, \"calculated_mass_medium\": 5.470897923, \"ground_truth_mass_small\": 0.2, \"calculated_mass_small\": 0.212531521, \"Rep\": \"Small5\"}, {\"inserts\": \"Medium Density\", \"ground_truth_volume_large\": 98.2, \"calculated_volume_large\": 100.7743032, \"ground_truth_volume_medium\": 21.2, \"calculated_volume_medium\": 22.43114795, \"ground_truth_volume_small\": 0.8, \"calculated_volume_small\": 0.944274322, \"ground_truth_mass_large\": 39.3, \"calculated_mass_large\": 40.30972128, \"ground_truth_mass_medium\": 8.5, \"calculated_mass_medium\": 8.972459179, \"ground_truth_mass_small\": 0.3, \"calculated_mass_small\": 0.377709729, \"Rep\": \"Small5\"}, {\"inserts\": \"High Density\", \"ground_truth_volume_large\": 98.2, \"calculated_volume_large\": 100.8341802, \"ground_truth_volume_medium\": 21.2, \"calculated_volume_medium\": 19.76298836, \"ground_truth_volume_small\": 0.8, \"calculated_volume_small\": 0.983060631, \"ground_truth_mass_large\": 78.5, \"calculated_mass_large\": 80.66734419, \"ground_truth_mass_medium\": 17.0, \"calculated_mass_medium\": 15.81039069, \"ground_truth_mass_small\": 0.6, \"calculated_mass_small\": 0.786448505, \"Rep\": \"Small5\"}]}}, {\"mode\": \"vega-lite\"});\n</script>",
      "text/plain": "alt.HConcatChart(...)"
     },
     "metadata": {}
    }
   ]
  },
  {
   "cell_type": "markdown",
   "source": "### Mass Score: Small Inserts",
   "metadata": {
    "cell_id": "22b23658-dc20-4146-b8df-794fc3b7b937",
    "tags": [],
    "is_collapsed": false,
    "deepnote_cell_type": "text-cell-h3"
   }
  },
  {
   "cell_type": "code",
   "metadata": {
    "cell_id": "5d8d7cd1-7124-4069-a3a8-398478e11eef",
    "tags": [],
    "deepnote_to_be_reexecuted": false,
    "source_hash": "3a2cb9e5",
    "execution_start": 1643835467494,
    "execution_millis": 0,
    "deepnote_output_heights": [
     21.1875
    ],
    "deepnote_cell_type": "code"
   },
   "source": "X_GE2_S = GE2.ground_truth_mass_small.to_numpy().reshape(-1,1)\ny_GE2_S = GE2.calculated_mass_small.to_numpy().reshape(-1,1)\nreg_GE2_S = LinearRegression().fit(X_GE2_S,y_GE2_S)\nGE2_scoreS = reg_GE2_S.score(X_GE2_S,y_GE2_S)\nGE2_scoreS",
   "execution_count": 17,
   "outputs": [
    {
     "output_type": "execute_result",
     "execution_count": 17,
     "data": {
      "text/plain": "0.5529347525266107"
     },
     "metadata": {}
    }
   ]
  },
  {
   "cell_type": "code",
   "metadata": {
    "cell_id": "7123e862-ce51-4f8b-b0e0-0f8adf2bfea5",
    "tags": [],
    "deepnote_to_be_reexecuted": false,
    "source_hash": "d43974be",
    "execution_start": 1643835467495,
    "execution_millis": 3,
    "deepnote_cell_type": "code"
   },
   "source": "g2S,e2S = [reg_GE2_S.coef_[0,0],reg_GE2_S.intercept_[0]]\nprint(\"y = {} x + {}\".format(str(g2S),str(e2S)))",
   "execution_count": 18,
   "outputs": [
    {
     "name": "stdout",
     "text": "y = 1.6252049675384617 x + -0.2318106461307693\n",
     "output_type": "stream"
    }
   ]
  },
  {
   "cell_type": "code",
   "metadata": {
    "cell_id": "7f06939b-d072-45c3-8bc2-930954ce17f8",
    "tags": [],
    "deepnote_to_be_reexecuted": false,
    "source_hash": "1a66693f",
    "execution_start": 1643835467496,
    "execution_millis": 2,
    "deepnote_output_heights": [
     21.1875
    ],
    "deepnote_cell_type": "code"
   },
   "source": "X_GE3_S = GE3.ground_truth_mass_small.to_numpy().reshape(-1,1)\ny_GE3_S = GE3.calculated_mass_small.to_numpy().reshape(-1,1)\nreg_GE3_S = LinearRegression().fit(X_GE3_S,y_GE3_S)\nGE3_scoreS = reg_GE3_S.score(X_GE3_S,y_GE3_S)\nGE3_scoreS",
   "execution_count": 19,
   "outputs": [
    {
     "output_type": "execute_result",
     "execution_count": 19,
     "data": {
      "text/plain": "0.5457865133743593"
     },
     "metadata": {}
    }
   ]
  },
  {
   "cell_type": "code",
   "metadata": {
    "cell_id": "9d3ee339-d80d-448d-8b42-e1ea53e0c71b",
    "tags": [],
    "deepnote_to_be_reexecuted": false,
    "source_hash": "5c6a41d",
    "execution_start": 1643835467538,
    "execution_millis": 259788,
    "deepnote_cell_type": "code"
   },
   "source": "g3S,e3S = [reg_GE3_S.coef_[0,0],reg_GE3_S.intercept_[0]]\nprint(\"y = {} x + {}\".format(str(g3S),str(e3S)))",
   "execution_count": 20,
   "outputs": [
    {
     "name": "stdout",
     "text": "y = 1.4728145907692307 x + -0.20857556671538463\n",
     "output_type": "stream"
    }
   ]
  },
  {
   "cell_type": "code",
   "metadata": {
    "cell_id": "d39b64c7-4a7c-41c4-9a36-63cc6146ee27",
    "tags": [],
    "deepnote_to_be_reexecuted": false,
    "source_hash": "1d96999d",
    "execution_start": 1643835939671,
    "execution_millis": 194,
    "deepnote_output_heights": [
     363
    ],
    "deepnote_cell_type": "code"
   },
   "source": "GE2_small = chart_plot_small(GE2)\nGE3_small = chart_plot_small(GE3)\nGE2_small | GE3_small",
   "execution_count": 131,
   "outputs": [
    {
     "output_type": "execute_result",
     "execution_count": 131,
     "data": {
      "text/html": "\n<div id=\"altair-viz-bc58d9b253aa440f8b5e1e36e4203b13\"></div>\n<script type=\"text/javascript\">\n  (function(spec, embedOpt){\n    let outputDiv = document.currentScript.previousElementSibling;\n    if (outputDiv.id !== \"altair-viz-bc58d9b253aa440f8b5e1e36e4203b13\") {\n      outputDiv = document.getElementById(\"altair-viz-bc58d9b253aa440f8b5e1e36e4203b13\");\n    }\n    const paths = {\n      \"vega\": \"https://cdn.jsdelivr.net/npm//vega@5?noext\",\n      \"vega-lib\": \"https://cdn.jsdelivr.net/npm//vega-lib?noext\",\n      \"vega-lite\": \"https://cdn.jsdelivr.net/npm//vega-lite@4.8.1?noext\",\n      \"vega-embed\": \"https://cdn.jsdelivr.net/npm//vega-embed@6?noext\",\n    };\n\n    function loadScript(lib) {\n      return new Promise(function(resolve, reject) {\n        var s = document.createElement('script');\n        s.src = paths[lib];\n        s.async = true;\n        s.onload = () => resolve(paths[lib]);\n        s.onerror = () => reject(`Error loading script: ${paths[lib]}`);\n        document.getElementsByTagName(\"head\")[0].appendChild(s);\n      });\n    }\n\n    function showError(err) {\n      outputDiv.innerHTML = `<div class=\"error\" style=\"color:red;\">${err}</div>`;\n      throw err;\n    }\n\n    function displayChart(vegaEmbed) {\n      vegaEmbed(outputDiv, spec, embedOpt)\n        .catch(err => showError(`Javascript Error: ${err.message}<br>This usually means there's a typo in your chart specification. See the javascript console for the full traceback.`));\n    }\n\n    if(typeof define === \"function\" && define.amd) {\n      requirejs.config({paths});\n      require([\"vega-embed\"], displayChart, err => showError(`Error loading script: ${err.message}`));\n    } else if (typeof vegaEmbed === \"function\") {\n      displayChart(vegaEmbed);\n    } else {\n      loadScript(\"vega\")\n        .then(() => loadScript(\"vega-lite\"))\n        .then(() => loadScript(\"vega-embed\"))\n        .catch(showError)\n        .then(() => displayChart(vegaEmbed));\n    }\n  })({\"config\": {\"view\": {\"continuousWidth\": 400, \"continuousHeight\": 300}}, \"hconcat\": [{\"layer\": [{\"mark\": \"circle\", \"encoding\": {\"color\": {\"type\": \"nominal\", \"field\": \"Rep\"}, \"tooltip\": [{\"type\": \"quantitative\", \"field\": \"ground_truth_volume_small\"}, {\"type\": \"quantitative\", \"field\": \"calculated_volume_small\"}, {\"type\": \"nominal\", \"field\": \"Rep\"}], \"x\": {\"type\": \"quantitative\", \"field\": \"ground_truth_mass_small\"}, \"y\": {\"type\": \"quantitative\", \"field\": \"calculated_mass_small\"}}}, {\"mark\": \"line\", \"encoding\": {\"color\": {\"type\": \"nominal\", \"field\": \"Rep\"}, \"tooltip\": [{\"type\": \"quantitative\", \"field\": \"ground_truth_volume_small\"}, {\"type\": \"quantitative\", \"field\": \"calculated_volume_small\"}, {\"type\": \"nominal\", \"field\": \"Rep\"}], \"x\": {\"type\": \"quantitative\", \"field\": \"ground_truth_mass_small\"}, \"y\": {\"type\": \"quantitative\", \"field\": \"calculated_mass_small\"}}, \"transform\": [{\"on\": \"ground_truth_mass_small\", \"regression\": \"calculated_mass_small\", \"method\": \"linear\"}]}, {\"mark\": {\"type\": \"line\", \"color\": \"red\"}, \"encoding\": {\"x\": {\"type\": \"quantitative\", \"field\": \"ground_truth_mass_small\"}, \"y\": {\"type\": \"quantitative\", \"field\": \"ground_truth_mass_small\"}}}], \"data\": {\"name\": \"data-1a11c19067a46a99bba2664efaa0948b\"}}, {\"layer\": [{\"mark\": \"circle\", \"encoding\": {\"color\": {\"type\": \"nominal\", \"field\": \"Rep\"}, \"tooltip\": [{\"type\": \"quantitative\", \"field\": \"ground_truth_volume_small\"}, {\"type\": \"quantitative\", \"field\": \"calculated_volume_small\"}, {\"type\": \"nominal\", \"field\": \"Rep\"}], \"x\": {\"type\": \"quantitative\", \"field\": \"ground_truth_mass_small\"}, \"y\": {\"type\": \"quantitative\", \"field\": \"calculated_mass_small\"}}}, {\"mark\": \"line\", \"encoding\": {\"color\": {\"type\": \"nominal\", \"field\": \"Rep\"}, \"tooltip\": [{\"type\": \"quantitative\", \"field\": \"ground_truth_volume_small\"}, {\"type\": \"quantitative\", \"field\": \"calculated_volume_small\"}, {\"type\": \"nominal\", \"field\": \"Rep\"}], \"x\": {\"type\": \"quantitative\", \"field\": \"ground_truth_mass_small\"}, \"y\": {\"type\": \"quantitative\", \"field\": \"calculated_mass_small\"}}, \"transform\": [{\"on\": \"ground_truth_mass_small\", \"regression\": \"calculated_mass_small\", \"method\": \"linear\"}]}, {\"mark\": {\"type\": \"line\", \"color\": \"red\"}, \"encoding\": {\"x\": {\"type\": \"quantitative\", \"field\": \"ground_truth_mass_small\"}, \"y\": {\"type\": \"quantitative\", \"field\": \"ground_truth_mass_small\"}}}], \"data\": {\"name\": \"data-c1132cc00cba764b83fc822645286b5a\"}}], \"$schema\": \"https://vega.github.io/schema/vega-lite/v4.8.1.json\", \"datasets\": {\"data-1a11c19067a46a99bba2664efaa0948b\": [{\"inserts\": \"Low Density\", \"ground_truth_volume_large\": 98.2, \"calculated_volume_large\": 124.0680227, \"ground_truth_volume_medium\": 21.2, \"calculated_volume_medium\": 30.88484501, \"ground_truth_volume_small\": 0.8, \"calculated_volume_small\": 0.121867063, \"ground_truth_mass_large\": 19.6, \"calculated_mass_large\": 24.81360455, \"ground_truth_mass_medium\": 4.2, \"calculated_mass_medium\": 6.176969002, \"ground_truth_mass_small\": 0.2, \"calculated_mass_small\": 0.024373413, \"Rep\": \"Large1\"}, {\"inserts\": \"Medium Density\", \"ground_truth_volume_large\": 98.2, \"calculated_volume_large\": 112.9666022, \"ground_truth_volume_medium\": 21.2, \"calculated_volume_medium\": 22.78795341, \"ground_truth_volume_small\": 0.8, \"calculated_volume_small\": 0.498356901, \"ground_truth_mass_large\": 39.3, \"calculated_mass_large\": 45.18664088, \"ground_truth_mass_medium\": 8.5, \"calculated_mass_medium\": 9.115181363, \"ground_truth_mass_small\": 0.3, \"calculated_mass_small\": 0.19934276, \"Rep\": \"Large1\"}, {\"inserts\": \"High Density\", \"ground_truth_volume_large\": 98.2, \"calculated_volume_large\": 110.379797, \"ground_truth_volume_medium\": 21.2, \"calculated_volume_medium\": 22.49831706, \"ground_truth_volume_small\": 0.8, \"calculated_volume_small\": 0.189818013, \"ground_truth_mass_large\": 78.5, \"calculated_mass_large\": 88.30383759, \"ground_truth_mass_medium\": 17.0, \"calculated_mass_medium\": 17.99865365, \"ground_truth_mass_small\": 0.6, \"calculated_mass_small\": 0.151854411, \"Rep\": \"Large1\"}, {\"inserts\": \"Low Density\", \"ground_truth_volume_large\": 98.2, \"calculated_volume_large\": 113.6498547, \"ground_truth_volume_medium\": 21.2, \"calculated_volume_medium\": 25.25815237, \"ground_truth_volume_small\": 0.8, \"calculated_volume_small\": 0.0, \"ground_truth_mass_large\": 19.6, \"calculated_mass_large\": 22.72997094, \"ground_truth_mass_medium\": 4.2, \"calculated_mass_medium\": 5.051630474, \"ground_truth_mass_small\": 0.2, \"calculated_mass_small\": 0.0, \"Rep\": \"Large2\"}, {\"inserts\": \"Medium Density\", \"ground_truth_volume_large\": 98.2, \"calculated_volume_large\": 104.2014135, \"ground_truth_volume_medium\": 21.2, \"calculated_volume_medium\": 21.51628872, \"ground_truth_volume_small\": 0.8, \"calculated_volume_small\": 1.285007231, \"ground_truth_mass_large\": 39.3, \"calculated_mass_large\": 41.6805654, \"ground_truth_mass_medium\": 8.5, \"calculated_mass_medium\": 8.606515486, \"ground_truth_mass_small\": 0.3, \"calculated_mass_small\": 0.514002893, \"Rep\": \"Large2\"}, {\"inserts\": \"High Density\", \"ground_truth_volume_large\": 98.2, \"calculated_volume_large\": 109.4153992, \"ground_truth_volume_medium\": 21.2, \"calculated_volume_medium\": 22.74168449, \"ground_truth_volume_small\": 0.8, \"calculated_volume_small\": 1.026985293, \"ground_truth_mass_large\": 78.5, \"calculated_mass_large\": 87.53231933, \"ground_truth_mass_medium\": 17.0, \"calculated_mass_medium\": 18.19334759, \"ground_truth_mass_small\": 0.6, \"calculated_mass_small\": 0.821588234, \"Rep\": \"Large2\"}, {\"inserts\": \"Low Density\", \"ground_truth_volume_large\": 98.2, \"calculated_volume_large\": 102.1010991, \"ground_truth_volume_medium\": 21.2, \"calculated_volume_medium\": 26.039465, \"ground_truth_volume_small\": 0.8, \"calculated_volume_small\": 0.854244436, \"ground_truth_mass_large\": 19.6, \"calculated_mass_large\": 20.42021983, \"ground_truth_mass_medium\": 4.2, \"calculated_mass_medium\": 5.207893001, \"ground_truth_mass_small\": 0.2, \"calculated_mass_small\": 0.170848887, \"Rep\": \"Large3\"}, {\"inserts\": \"Medium Density\", \"ground_truth_volume_large\": 98.2, \"calculated_volume_large\": 107.4877392, \"ground_truth_volume_medium\": 21.2, \"calculated_volume_medium\": 22.17842432, \"ground_truth_volume_small\": 0.8, \"calculated_volume_small\": 1.016950713, \"ground_truth_mass_large\": 39.3, \"calculated_mass_large\": 42.99509569, \"ground_truth_mass_medium\": 8.5, \"calculated_mass_medium\": 8.871369726, \"ground_truth_mass_small\": 0.3, \"calculated_mass_small\": 0.406780285, \"Rep\": \"Large3\"}, {\"inserts\": \"High Density\", \"ground_truth_volume_large\": 98.2, \"calculated_volume_large\": 111.3201951, \"ground_truth_volume_medium\": 21.2, \"calculated_volume_medium\": 18.92112901, \"ground_truth_volume_small\": 0.8, \"calculated_volume_small\": 0.767698726, \"ground_truth_mass_large\": 78.5, \"calculated_mass_large\": 89.05615606, \"ground_truth_mass_medium\": 17.0, \"calculated_mass_medium\": 15.13690321, \"ground_truth_mass_small\": 0.6, \"calculated_mass_small\": 0.614158981, \"Rep\": \"Large3\"}, {\"inserts\": \"Low Density\", \"ground_truth_volume_large\": 98.2, \"calculated_volume_large\": 107.0077157, \"ground_truth_volume_medium\": 21.2, \"calculated_volume_medium\": 22.2543459, \"ground_truth_volume_small\": 0.8, \"calculated_volume_small\": 0.448954737, \"ground_truth_mass_large\": 19.6, \"calculated_mass_large\": 21.40154314, \"ground_truth_mass_medium\": 4.2, \"calculated_mass_medium\": 4.45086918, \"ground_truth_mass_small\": 0.2, \"calculated_mass_small\": 0.089790947, \"Rep\": \"Large4\"}, {\"inserts\": \"Medium Density\", \"ground_truth_volume_large\": 98.2, \"calculated_volume_large\": 114.7547987, \"ground_truth_volume_medium\": 21.2, \"calculated_volume_medium\": 24.3870961, \"ground_truth_volume_small\": 0.8, \"calculated_volume_small\": 0.425824565, \"ground_truth_mass_large\": 39.3, \"calculated_mass_large\": 45.90191947, \"ground_truth_mass_medium\": 8.5, \"calculated_mass_medium\": 9.754838442, \"ground_truth_mass_small\": 0.3, \"calculated_mass_small\": 0.170329826, \"Rep\": \"Large4\"}, {\"inserts\": \"High Density\", \"ground_truth_volume_large\": 98.2, \"calculated_volume_large\": 110.2841395, \"ground_truth_volume_medium\": 21.2, \"calculated_volume_medium\": 19.33959937, \"ground_truth_volume_small\": 0.8, \"calculated_volume_small\": 1.56947648, \"ground_truth_mass_large\": 78.5, \"calculated_mass_large\": 88.22731156, \"ground_truth_mass_medium\": 17.0, \"calculated_mass_medium\": 15.47167949, \"ground_truth_mass_small\": 0.6, \"calculated_mass_small\": 1.255581184, \"Rep\": \"Large4\"}, {\"inserts\": \"Low Density\", \"ground_truth_volume_large\": 98.2, \"calculated_volume_large\": 132.0974229, \"ground_truth_volume_medium\": 21.2, \"calculated_volume_medium\": 32.26454742, \"ground_truth_volume_small\": 0.8, \"calculated_volume_small\": 0.460916731, \"ground_truth_mass_large\": 19.6, \"calculated_mass_large\": 26.41948458, \"ground_truth_mass_medium\": 4.2, \"calculated_mass_medium\": 6.452909485, \"ground_truth_mass_small\": 0.2, \"calculated_mass_small\": 0.092183346, \"Rep\": \"Large5\"}, {\"inserts\": \"Medium Density\", \"ground_truth_volume_large\": 98.2, \"calculated_volume_large\": 105.8146384, \"ground_truth_volume_medium\": 21.2, \"calculated_volume_medium\": 20.97917798, \"ground_truth_volume_small\": 0.8, \"calculated_volume_small\": 0.370842025, \"ground_truth_mass_large\": 39.3, \"calculated_mass_large\": 42.32585537, \"ground_truth_mass_medium\": 8.5, \"calculated_mass_medium\": 8.391671193, \"ground_truth_mass_small\": 0.3, \"calculated_mass_small\": 0.14833681, \"Rep\": \"Large5\"}, {\"inserts\": \"High Density\", \"ground_truth_volume_large\": 98.2, \"calculated_volume_large\": 112.5755855, \"ground_truth_volume_medium\": 21.2, \"calculated_volume_medium\": 22.4672677, \"ground_truth_volume_small\": 0.8, \"calculated_volume_small\": 0.17928335, \"ground_truth_mass_large\": 78.5, \"calculated_mass_large\": 90.06046843, \"ground_truth_mass_medium\": 17.0, \"calculated_mass_medium\": 17.97381416, \"ground_truth_mass_small\": 0.6, \"calculated_mass_small\": 0.14342668, \"Rep\": \"Large5\"}, {\"inserts\": \"Low Density\", \"ground_truth_volume_large\": 98.2, \"calculated_volume_large\": 128.6945318, \"ground_truth_volume_medium\": 21.2, \"calculated_volume_medium\": 42.52609133, \"ground_truth_volume_small\": 0.8, \"calculated_volume_small\": 0.0, \"ground_truth_mass_large\": 19.6, \"calculated_mass_large\": 25.73890636, \"ground_truth_mass_medium\": 4.2, \"calculated_mass_medium\": 8.505218265, \"ground_truth_mass_small\": 0.2, \"calculated_mass_small\": 0.0, \"Rep\": \"Small1\"}, {\"inserts\": \"Medium Density\", \"ground_truth_volume_large\": 98.2, \"calculated_volume_large\": 129.1491551, \"ground_truth_volume_medium\": 21.2, \"calculated_volume_medium\": 27.59204923, \"ground_truth_volume_small\": 0.8, \"calculated_volume_small\": 0.88353739, \"ground_truth_mass_large\": 39.3, \"calculated_mass_large\": 51.65966203, \"ground_truth_mass_medium\": 8.5, \"calculated_mass_medium\": 11.03681969, \"ground_truth_mass_small\": 0.3, \"calculated_mass_small\": 0.353414956, \"Rep\": \"Small1\"}, {\"inserts\": \"High Density\", \"ground_truth_volume_large\": 98.2, \"calculated_volume_large\": 129.1416135, \"ground_truth_volume_medium\": 21.2, \"calculated_volume_medium\": 26.36908924, \"ground_truth_volume_small\": 0.8, \"calculated_volume_small\": 1.686223851, \"ground_truth_mass_large\": 78.5, \"calculated_mass_large\": 103.3132908, \"ground_truth_mass_medium\": 17.0, \"calculated_mass_medium\": 21.09527139, \"ground_truth_mass_small\": 0.6, \"calculated_mass_small\": 1.348979081, \"Rep\": \"Small1\"}, {\"inserts\": \"Low Density\", \"ground_truth_volume_large\": 98.2, \"calculated_volume_large\": 131.5258785, \"ground_truth_volume_medium\": 21.2, \"calculated_volume_medium\": 22.64105214, \"ground_truth_volume_small\": 0.8, \"calculated_volume_small\": 0.452315506, \"ground_truth_mass_large\": 19.6, \"calculated_mass_large\": 26.30517569, \"ground_truth_mass_medium\": 4.2, \"calculated_mass_medium\": 4.528210429, \"ground_truth_mass_small\": 0.2, \"calculated_mass_small\": 0.090463101, \"Rep\": \"Small2\"}, {\"inserts\": \"Medium Density\", \"ground_truth_volume_large\": 98.2, \"calculated_volume_large\": 124.6401267, \"ground_truth_volume_medium\": 21.2, \"calculated_volume_medium\": 24.66555634, \"ground_truth_volume_small\": 0.8, \"calculated_volume_small\": 0.494185992, \"ground_truth_mass_large\": 39.3, \"calculated_mass_large\": 49.85605066, \"ground_truth_mass_medium\": 8.5, \"calculated_mass_medium\": 9.866222535, \"ground_truth_mass_small\": 0.3, \"calculated_mass_small\": 0.197674397, \"Rep\": \"Small2\"}, {\"inserts\": \"High Density\", \"ground_truth_volume_large\": 98.2, \"calculated_volume_large\": 132.7684361, \"ground_truth_volume_medium\": 21.2, \"calculated_volume_medium\": 24.74647993, \"ground_truth_volume_small\": 0.8, \"calculated_volume_small\": 0.543776857, \"ground_truth_mass_large\": 78.5, \"calculated_mass_large\": 106.2147489, \"ground_truth_mass_medium\": 17.0, \"calculated_mass_medium\": 19.79718395, \"ground_truth_mass_small\": 0.6, \"calculated_mass_small\": 0.435021486, \"Rep\": \"Small2\"}, {\"inserts\": \"Low Density\", \"ground_truth_volume_large\": 98.2, \"calculated_volume_large\": 115.9502218, \"ground_truth_volume_medium\": 21.2, \"calculated_volume_medium\": 33.11400898, \"ground_truth_volume_small\": 0.8, \"calculated_volume_small\": 0.215786434, \"ground_truth_mass_large\": 19.6, \"calculated_mass_large\": 23.19004436, \"ground_truth_mass_medium\": 4.2, \"calculated_mass_medium\": 6.622801796, \"ground_truth_mass_small\": 0.2, \"calculated_mass_small\": 0.043157287, \"Rep\": \"Small3\"}, {\"inserts\": \"Medium Density\", \"ground_truth_volume_large\": 98.2, \"calculated_volume_large\": 111.9639108, \"ground_truth_volume_medium\": 21.2, \"calculated_volume_medium\": 23.0503234, \"ground_truth_volume_small\": 0.8, \"calculated_volume_small\": 0.0, \"ground_truth_mass_large\": 39.3, \"calculated_mass_large\": 44.78556434, \"ground_truth_mass_medium\": 8.5, \"calculated_mass_medium\": 9.220129358, \"ground_truth_mass_small\": 0.3, \"calculated_mass_small\": 0.0, \"Rep\": \"Small3\"}, {\"inserts\": \"High Density\", \"ground_truth_volume_large\": 98.2, \"calculated_volume_large\": 118.1423518, \"ground_truth_volume_medium\": 21.2, \"calculated_volume_medium\": 22.73297427, \"ground_truth_volume_small\": 0.8, \"calculated_volume_small\": 1.295125379, \"ground_truth_mass_large\": 78.5, \"calculated_mass_large\": 94.51388145, \"ground_truth_mass_medium\": 17.0, \"calculated_mass_medium\": 18.18637942, \"ground_truth_mass_small\": 0.6, \"calculated_mass_small\": 1.036100303, \"Rep\": \"Small3\"}, {\"inserts\": \"Low Density\", \"ground_truth_volume_large\": 98.2, \"calculated_volume_large\": 116.5412965, \"ground_truth_volume_medium\": 21.2, \"calculated_volume_medium\": 22.80077925, \"ground_truth_volume_small\": 0.8, \"calculated_volume_small\": 0.362458637, \"ground_truth_mass_large\": 19.6, \"calculated_mass_large\": 23.3082593, \"ground_truth_mass_medium\": 4.2, \"calculated_mass_medium\": 4.560155849, \"ground_truth_mass_small\": 0.2, \"calculated_mass_small\": 0.072491727, \"Rep\": \"Small4\"}, {\"inserts\": \"Medium Density\", \"ground_truth_volume_large\": 98.2, \"calculated_volume_large\": 111.5871867, \"ground_truth_volume_medium\": 21.2, \"calculated_volume_medium\": 27.98549, \"ground_truth_volume_small\": 0.8, \"calculated_volume_small\": 0.673130647, \"ground_truth_mass_large\": 39.3, \"calculated_mass_large\": 44.63487467, \"ground_truth_mass_medium\": 8.5, \"calculated_mass_medium\": 11.194196, \"ground_truth_mass_small\": 0.3, \"calculated_mass_small\": 0.269252259, \"Rep\": \"Small4\"}, {\"inserts\": \"High Density\", \"ground_truth_volume_large\": 98.2, \"calculated_volume_large\": 116.3609735, \"ground_truth_volume_medium\": 21.2, \"calculated_volume_medium\": 23.72874638, \"ground_truth_volume_small\": 0.8, \"calculated_volume_small\": 0.852872188, \"ground_truth_mass_large\": 78.5, \"calculated_mass_large\": 93.08877879, \"ground_truth_mass_medium\": 17.0, \"calculated_mass_medium\": 18.98299711, \"ground_truth_mass_small\": 0.6, \"calculated_mass_small\": 0.68229775, \"Rep\": \"Small4\"}, {\"inserts\": \"Low Density\", \"ground_truth_volume_large\": 98.2, \"calculated_volume_large\": 110.4719972, \"ground_truth_volume_medium\": 21.2, \"calculated_volume_medium\": 30.38052172, \"ground_truth_volume_small\": 0.8, \"calculated_volume_small\": 1.227940752, \"ground_truth_mass_large\": 19.6, \"calculated_mass_large\": 22.09439945, \"ground_truth_mass_medium\": 4.2, \"calculated_mass_medium\": 6.076104344, \"ground_truth_mass_small\": 0.2, \"calculated_mass_small\": 0.24558815, \"Rep\": \"Small5\"}, {\"inserts\": \"Medium Density\", \"ground_truth_volume_large\": 98.2, \"calculated_volume_large\": 114.9015621, \"ground_truth_volume_medium\": 21.2, \"calculated_volume_medium\": 25.61825598, \"ground_truth_volume_small\": 0.8, \"calculated_volume_small\": 1.090624358, \"ground_truth_mass_large\": 39.3, \"calculated_mass_large\": 45.96062484, \"ground_truth_mass_medium\": 8.5, \"calculated_mass_medium\": 10.24730239, \"ground_truth_mass_small\": 0.3, \"calculated_mass_small\": 0.436249743, \"Rep\": \"Small5\"}, {\"inserts\": \"High Density\", \"ground_truth_volume_large\": 98.2, \"calculated_volume_large\": 116.60665, \"ground_truth_volume_medium\": 21.2, \"calculated_volume_medium\": 22.87497359, \"ground_truth_volume_small\": 0.8, \"calculated_volume_small\": 1.137057952, \"ground_truth_mass_large\": 78.5, \"calculated_mass_large\": 93.28531996, \"ground_truth_mass_medium\": 17.0, \"calculated_mass_medium\": 18.29997887, \"ground_truth_mass_small\": 0.6, \"calculated_mass_small\": 0.909646362, \"Rep\": \"Small5\"}], \"data-c1132cc00cba764b83fc822645286b5a\": [{\"inserts\": \"Low Density\", \"ground_truth_volume_large\": 98.2, \"calculated_volume_large\": 117.5381351, \"ground_truth_volume_medium\": 21.2, \"calculated_volume_medium\": 29.23959125, \"ground_truth_volume_small\": 0.8, \"calculated_volume_small\": 0.115510162, \"ground_truth_mass_large\": 19.6, \"calculated_mass_large\": 23.50762703, \"ground_truth_mass_medium\": 4.2, \"calculated_mass_medium\": 5.847918251, \"ground_truth_mass_small\": 0.2, \"calculated_mass_small\": 0.023102032, \"Rep\": \"Large1\"}, {\"inserts\": \"Medium Density\", \"ground_truth_volume_large\": 98.2, \"calculated_volume_large\": 107.0596031, \"ground_truth_volume_medium\": 21.2, \"calculated_volume_medium\": 21.59703509, \"ground_truth_volume_small\": 0.8, \"calculated_volume_small\": 0.472705325, \"ground_truth_mass_large\": 39.3, \"calculated_mass_large\": 42.82384123, \"ground_truth_mass_medium\": 8.5, \"calculated_mass_medium\": 8.638814038, \"ground_truth_mass_small\": 0.3, \"calculated_mass_small\": 0.18908213, \"Rep\": \"Large1\"}, {\"inserts\": \"High Density\", \"ground_truth_volume_large\": 98.2, \"calculated_volume_large\": 104.6497219, \"ground_truth_volume_medium\": 21.2, \"calculated_volume_medium\": 21.33428906, \"ground_truth_volume_small\": 0.8, \"calculated_volume_small\": 0.179930114, \"ground_truth_mass_large\": 78.5, \"calculated_mass_large\": 83.71977754, \"ground_truth_mass_medium\": 17.0, \"calculated_mass_medium\": 17.06743125, \"ground_truth_mass_small\": 0.6, \"calculated_mass_small\": 0.143944091, \"Rep\": \"Large1\"}, {\"inserts\": \"Low Density\", \"ground_truth_volume_large\": 98.2, \"calculated_volume_large\": 112.5889884, \"ground_truth_volume_medium\": 21.2, \"calculated_volume_medium\": 25.02740067, \"ground_truth_volume_small\": 0.8, \"calculated_volume_small\": 0.0, \"ground_truth_mass_large\": 19.6, \"calculated_mass_large\": 22.51779768, \"ground_truth_mass_medium\": 4.2, \"calculated_mass_medium\": 5.005480134, \"ground_truth_mass_small\": 0.2, \"calculated_mass_small\": 0.0, \"Rep\": \"Large2\"}, {\"inserts\": \"Medium Density\", \"ground_truth_volume_large\": 98.2, \"calculated_volume_large\": 102.1324663, \"ground_truth_volume_medium\": 21.2, \"calculated_volume_medium\": 21.0880842, \"ground_truth_volume_small\": 0.8, \"calculated_volume_small\": 1.254075666, \"ground_truth_mass_large\": 39.3, \"calculated_mass_large\": 40.85298652, \"ground_truth_mass_medium\": 8.5, \"calculated_mass_medium\": 8.43523368, \"ground_truth_mass_small\": 0.3, \"calculated_mass_small\": 0.501630266, \"Rep\": \"Large2\"}, {\"inserts\": \"High Density\", \"ground_truth_volume_large\": 98.2, \"calculated_volume_large\": 106.7635256, \"ground_truth_volume_medium\": 21.2, \"calculated_volume_medium\": 22.19446186, \"ground_truth_volume_small\": 0.8, \"calculated_volume_small\": 1.002053141, \"ground_truth_mass_large\": 78.5, \"calculated_mass_large\": 85.4108205, \"ground_truth_mass_medium\": 17.0, \"calculated_mass_medium\": 17.75556949, \"ground_truth_mass_small\": 0.6, \"calculated_mass_small\": 0.801642513, \"Rep\": \"Large2\"}, {\"inserts\": \"Low Density\", \"ground_truth_volume_large\": 98.2, \"calculated_volume_large\": 120.1480912, \"ground_truth_volume_medium\": 21.2, \"calculated_volume_medium\": 30.47590471, \"ground_truth_volume_small\": 0.8, \"calculated_volume_small\": 0.830788818, \"ground_truth_mass_large\": 19.6, \"calculated_mass_large\": 24.02961823, \"ground_truth_mass_medium\": 4.2, \"calculated_mass_medium\": 6.095180943, \"ground_truth_mass_small\": 0.2, \"calculated_mass_small\": 0.166157764, \"Rep\": \"Large3\"}, {\"inserts\": \"Medium Density\", \"ground_truth_volume_large\": 98.2, \"calculated_volume_large\": 110.1617326, \"ground_truth_volume_medium\": 21.2, \"calculated_volume_medium\": 22.73296196, \"ground_truth_volume_small\": 0.8, \"calculated_volume_small\": 0.989045137, \"ground_truth_mass_large\": 39.3, \"calculated_mass_large\": 44.06469305, \"ground_truth_mass_medium\": 8.5, \"calculated_mass_medium\": 9.093184783, \"ground_truth_mass_small\": 0.3, \"calculated_mass_small\": 0.395618055, \"Rep\": \"Large3\"}, {\"inserts\": \"High Density\", \"ground_truth_volume_large\": 98.2, \"calculated_volume_large\": 108.2459504, \"ground_truth_volume_medium\": 21.2, \"calculated_volume_medium\": 18.39629574, \"ground_truth_volume_small\": 0.8, \"calculated_volume_small\": 0.746740469, \"ground_truth_mass_large\": 78.5, \"calculated_mass_large\": 86.59676036, \"ground_truth_mass_medium\": 17.0, \"calculated_mass_medium\": 14.71703659, \"ground_truth_mass_small\": 0.6, \"calculated_mass_small\": 0.597392375, \"Rep\": \"Large3\"}, {\"inserts\": \"Low Density\", \"ground_truth_volume_large\": 98.2, \"calculated_volume_large\": 118.8278571, \"ground_truth_volume_medium\": 21.2, \"calculated_volume_medium\": 24.65329185, \"ground_truth_volume_small\": 0.8, \"calculated_volume_small\": 0.431506522, \"ground_truth_mass_large\": 19.6, \"calculated_mass_large\": 23.76557142, \"ground_truth_mass_medium\": 4.2, \"calculated_mass_medium\": 4.93065837, \"ground_truth_mass_small\": 0.2, \"calculated_mass_small\": 0.086301304, \"Rep\": \"Large4\"}, {\"inserts\": \"Medium Density\", \"ground_truth_volume_large\": 98.2, \"calculated_volume_large\": 114.8880445, \"ground_truth_volume_medium\": 21.2, \"calculated_volume_medium\": 24.41600142, \"ground_truth_volume_small\": 0.8, \"calculated_volume_small\": 0.409255055, \"ground_truth_mass_large\": 39.3, \"calculated_mass_large\": 45.95521782, \"ground_truth_mass_medium\": 8.5, \"calculated_mass_medium\": 9.766400567, \"ground_truth_mass_small\": 0.3, \"calculated_mass_small\": 0.163702022, \"Rep\": \"Large4\"}, {\"inserts\": \"High Density\", \"ground_truth_volume_large\": 98.2, \"calculated_volume_large\": 105.986391, \"ground_truth_volume_medium\": 21.2, \"calculated_volume_medium\": 18.58838434, \"ground_truth_volume_small\": 0.8, \"calculated_volume_small\": 1.508604067, \"ground_truth_mass_large\": 78.5, \"calculated_mass_large\": 84.78911284, \"ground_truth_mass_medium\": 17.0, \"calculated_mass_medium\": 14.87070747, \"ground_truth_mass_small\": 0.6, \"calculated_mass_small\": 1.206883254, \"Rep\": \"Large4\"}, {\"inserts\": \"Low Density\", \"ground_truth_volume_large\": 98.2, \"calculated_volume_large\": 128.2398402, \"ground_truth_volume_medium\": 21.2, \"calculated_volume_medium\": 31.31694359, \"ground_truth_volume_small\": 0.8, \"calculated_volume_small\": 0.422989783, \"ground_truth_mass_large\": 19.6, \"calculated_mass_large\": 25.64796805, \"ground_truth_mass_medium\": 4.2, \"calculated_mass_medium\": 6.263388719, \"ground_truth_mass_small\": 0.2, \"calculated_mass_small\": 0.084597957, \"Rep\": \"Large5\"}, {\"inserts\": \"Medium Density\", \"ground_truth_volume_large\": 98.2, \"calculated_volume_large\": 98.66783266, \"ground_truth_volume_medium\": 21.2, \"calculated_volume_medium\": 19.55632052, \"ground_truth_volume_small\": 0.8, \"calculated_volume_small\": 0.340261887, \"ground_truth_mass_large\": 39.3, \"calculated_mass_large\": 39.46713306, \"ground_truth_mass_medium\": 8.5, \"calculated_mass_medium\": 7.822528208, \"ground_truth_mass_small\": 0.3, \"calculated_mass_small\": 0.136104755, \"Rep\": \"Large5\"}, {\"inserts\": \"High Density\", \"ground_truth_volume_large\": 98.2, \"calculated_volume_large\": 103.2754851, \"ground_truth_volume_medium\": 21.2, \"calculated_volume_medium\": 20.60282805, \"ground_truth_volume_small\": 0.8, \"calculated_volume_small\": 0.164352076, \"ground_truth_mass_large\": 78.5, \"calculated_mass_large\": 82.62038805, \"ground_truth_mass_medium\": 17.0, \"calculated_mass_medium\": 16.48226244, \"ground_truth_mass_small\": 0.6, \"calculated_mass_small\": 0.13148166, \"Rep\": \"Large5\"}, {\"inserts\": \"Low Density\", \"ground_truth_volume_large\": 98.2, \"calculated_volume_large\": 214.9492396, \"ground_truth_volume_medium\": 21.2, \"calculated_volume_medium\": 69.3821895, \"ground_truth_volume_small\": 0.8, \"calculated_volume_small\": 0.0, \"ground_truth_mass_large\": 19.6, \"calculated_mass_large\": 42.98984792, \"ground_truth_mass_medium\": 4.2, \"calculated_mass_medium\": 13.8764379, \"ground_truth_mass_small\": 0.2, \"calculated_mass_small\": 0.0, \"Rep\": \"Small1\"}, {\"inserts\": \"Medium Density\", \"ground_truth_volume_large\": 98.2, \"calculated_volume_large\": 134.2914239, \"ground_truth_volume_medium\": 21.2, \"calculated_volume_medium\": 28.71750162, \"ground_truth_volume_small\": 0.8, \"calculated_volume_small\": 0.789037322, \"ground_truth_mass_large\": 39.3, \"calculated_mass_large\": 53.71656956, \"ground_truth_mass_medium\": 8.5, \"calculated_mass_medium\": 11.48700065, \"ground_truth_mass_small\": 0.3, \"calculated_mass_small\": 0.315614929, \"Rep\": \"Small1\"}, {\"inserts\": \"High Density\", \"ground_truth_volume_large\": 98.2, \"calculated_volume_large\": 115.3856584, \"ground_truth_volume_medium\": 21.2, \"calculated_volume_medium\": 23.54965756, \"ground_truth_volume_small\": 0.8, \"calculated_volume_small\": 1.506709112, \"ground_truth_mass_large\": 78.5, \"calculated_mass_large\": 92.30852675, \"ground_truth_mass_medium\": 17.0, \"calculated_mass_medium\": 18.83972605, \"ground_truth_mass_small\": 0.6, \"calculated_mass_small\": 1.20536729, \"Rep\": \"Small1\"}, {\"inserts\": \"Low Density\", \"ground_truth_volume_large\": 98.2, \"calculated_volume_large\": 194.3176719, \"ground_truth_volume_medium\": 21.2, \"calculated_volume_medium\": 34.71078415, \"ground_truth_volume_small\": 0.8, \"calculated_volume_small\": 0.382202513, \"ground_truth_mass_large\": 19.6, \"calculated_mass_large\": 38.86353437, \"ground_truth_mass_medium\": 4.2, \"calculated_mass_medium\": 6.942156831, \"ground_truth_mass_small\": 0.2, \"calculated_mass_small\": 0.076440503, \"Rep\": \"Small2\"}, {\"inserts\": \"Medium Density\", \"ground_truth_volume_large\": 98.2, \"calculated_volume_large\": 121.1301296, \"ground_truth_volume_medium\": 21.2, \"calculated_volume_medium\": 23.96658804, \"ground_truth_volume_small\": 0.8, \"calculated_volume_small\": 0.417920663, \"ground_truth_mass_large\": 39.3, \"calculated_mass_large\": 48.45205184, \"ground_truth_mass_medium\": 8.5, \"calculated_mass_medium\": 9.586635215, \"ground_truth_mass_small\": 0.3, \"calculated_mass_small\": 0.167168265, \"Rep\": \"Small2\"}, {\"inserts\": \"High Density\", \"ground_truth_volume_large\": 98.2, \"calculated_volume_large\": 112.3335566, \"ground_truth_volume_medium\": 21.2, \"calculated_volume_medium\": 20.91298235, \"ground_truth_volume_small\": 0.8, \"calculated_volume_small\": 0.45948141, \"ground_truth_mass_large\": 78.5, \"calculated_mass_large\": 89.86684525, \"ground_truth_mass_medium\": 17.0, \"calculated_mass_medium\": 16.73038588, \"ground_truth_mass_small\": 0.6, \"calculated_mass_small\": 0.367585128, \"Rep\": \"Small2\"}, {\"inserts\": \"Low Density\", \"ground_truth_volume_large\": 98.2, \"calculated_volume_large\": 101.0523809, \"ground_truth_volume_medium\": 21.2, \"calculated_volume_medium\": 28.90117677, \"ground_truth_volume_small\": 0.8, \"calculated_volume_small\": 0.183306591, \"ground_truth_mass_large\": 19.6, \"calculated_mass_large\": 20.21047618, \"ground_truth_mass_medium\": 4.2, \"calculated_mass_medium\": 5.780235353, \"ground_truth_mass_small\": 0.2, \"calculated_mass_small\": 0.036661318, \"Rep\": \"Small3\"}, {\"inserts\": \"Medium Density\", \"ground_truth_volume_large\": 98.2, \"calculated_volume_large\": 95.8878112, \"ground_truth_volume_medium\": 21.2, \"calculated_volume_medium\": 19.74656669, \"ground_truth_volume_small\": 0.8, \"calculated_volume_small\": 0.0, \"ground_truth_mass_large\": 39.3, \"calculated_mass_large\": 38.35512448, \"ground_truth_mass_medium\": 8.5, \"calculated_mass_medium\": 7.898626675, \"ground_truth_mass_small\": 0.3, \"calculated_mass_small\": 0.0, \"Rep\": \"Small3\"}, {\"inserts\": \"High Density\", \"ground_truth_volume_large\": 98.2, \"calculated_volume_large\": 100.4362714, \"ground_truth_volume_medium\": 21.2, \"calculated_volume_medium\": 19.31282164, \"ground_truth_volume_small\": 0.8, \"calculated_volume_small\": 1.099902653, \"ground_truth_mass_large\": 78.5, \"calculated_mass_large\": 80.34901715, \"ground_truth_mass_medium\": 17.0, \"calculated_mass_medium\": 15.45025731, \"ground_truth_mass_small\": 0.6, \"calculated_mass_small\": 0.879922122, \"Rep\": \"Small3\"}, {\"inserts\": \"Low Density\", \"ground_truth_volume_large\": 98.2, \"calculated_volume_large\": 104.4931576, \"ground_truth_volume_medium\": 21.2, \"calculated_volume_medium\": 20.43325582, \"ground_truth_volume_small\": 0.8, \"calculated_volume_small\": 0.314992844, \"ground_truth_mass_large\": 19.6, \"calculated_mass_large\": 20.89863153, \"ground_truth_mass_medium\": 4.2, \"calculated_mass_medium\": 4.086651165, \"ground_truth_mass_small\": 0.2, \"calculated_mass_small\": 0.062998569, \"Rep\": \"Small4\"}, {\"inserts\": \"Medium Density\", \"ground_truth_volume_large\": 98.2, \"calculated_volume_large\": 97.93672182, \"ground_truth_volume_medium\": 21.2, \"calculated_volume_medium\": 24.57778662, \"ground_truth_volume_small\": 0.8, \"calculated_volume_small\": 0.58542004, \"ground_truth_mass_large\": 39.3, \"calculated_mass_large\": 39.17468873, \"ground_truth_mass_medium\": 8.5, \"calculated_mass_medium\": 9.831114648, \"ground_truth_mass_small\": 0.3, \"calculated_mass_small\": 0.234168016, \"Rep\": \"Small4\"}, {\"inserts\": \"High Density\", \"ground_truth_volume_large\": 98.2, \"calculated_volume_large\": 101.1275152, \"ground_truth_volume_medium\": 21.2, \"calculated_volume_medium\": 20.6293952, \"ground_truth_volume_small\": 0.8, \"calculated_volume_small\": 0.74179678, \"ground_truth_mass_large\": 78.5, \"calculated_mass_large\": 80.90201212, \"ground_truth_mass_medium\": 17.0, \"calculated_mass_medium\": 16.50351616, \"ground_truth_mass_small\": 0.6, \"calculated_mass_small\": 0.593437424, \"Rep\": \"Small4\"}, {\"inserts\": \"Low Density\", \"ground_truth_volume_large\": 98.2, \"calculated_volume_large\": 99.48071165, \"ground_truth_volume_medium\": 21.2, \"calculated_volume_medium\": 27.35448962, \"ground_truth_volume_small\": 0.8, \"calculated_volume_small\": 1.062657603, \"ground_truth_mass_large\": 19.6, \"calculated_mass_large\": 19.89614233, \"ground_truth_mass_medium\": 4.2, \"calculated_mass_medium\": 5.470897923, \"ground_truth_mass_small\": 0.2, \"calculated_mass_small\": 0.212531521, \"Rep\": \"Small5\"}, {\"inserts\": \"Medium Density\", \"ground_truth_volume_large\": 98.2, \"calculated_volume_large\": 100.7743032, \"ground_truth_volume_medium\": 21.2, \"calculated_volume_medium\": 22.43114795, \"ground_truth_volume_small\": 0.8, \"calculated_volume_small\": 0.944274322, \"ground_truth_mass_large\": 39.3, \"calculated_mass_large\": 40.30972128, \"ground_truth_mass_medium\": 8.5, \"calculated_mass_medium\": 8.972459179, \"ground_truth_mass_small\": 0.3, \"calculated_mass_small\": 0.377709729, \"Rep\": \"Small5\"}, {\"inserts\": \"High Density\", \"ground_truth_volume_large\": 98.2, \"calculated_volume_large\": 100.8341802, \"ground_truth_volume_medium\": 21.2, \"calculated_volume_medium\": 19.76298836, \"ground_truth_volume_small\": 0.8, \"calculated_volume_small\": 0.983060631, \"ground_truth_mass_large\": 78.5, \"calculated_mass_large\": 80.66734419, \"ground_truth_mass_medium\": 17.0, \"calculated_mass_medium\": 15.81039069, \"ground_truth_mass_small\": 0.6, \"calculated_mass_small\": 0.786448505, \"Rep\": \"Small5\"}]}}, {\"mode\": \"vega-lite\"});\n</script>",
      "text/plain": "alt.HConcatChart(...)"
     },
     "metadata": {}
    }
   ]
  },
  {
   "cell_type": "markdown",
   "source": "### Volume Score",
   "metadata": {
    "cell_id": "8261610d-d4ca-48d4-b940-1f2147089c19",
    "tags": [],
    "is_collapsed": false,
    "deepnote_cell_type": "text-cell-h3"
   }
  },
  {
   "cell_type": "code",
   "source": "GE2_vol = vol_prep(GE2)\nGE3_vol = vol_prep(GE3)",
   "metadata": {
    "cell_id": "c6078ab6-bbf6-44a3-8eb2-b41dfd9d4eb1",
    "tags": [],
    "deepnote_to_be_reexecuted": false,
    "source_hash": "f6a8b541",
    "execution_start": 1643836359044,
    "execution_millis": 14,
    "deepnote_cell_type": "code"
   },
   "outputs": [],
   "execution_count": 136
  },
  {
   "cell_type": "code",
   "source": "X_GE2_V = GE2_vol.ground_truth_volume.to_numpy().reshape(-1,1)\ny_GE2_V = GE2_vol.calculated_volume.to_numpy().reshape(-1,1)\nreg_GE2_V = LinearRegression().fit(X_GE2_V,y_GE2_V)\nGE2_scoreV = reg_GE2_S.score(X_GE2_V,y_GE2_V)\nGE2_scoreV",
   "metadata": {
    "cell_id": "ed35ea34-4ddd-40da-b0c1-7e768dbc6ea0",
    "tags": [],
    "deepnote_to_be_reexecuted": false,
    "source_hash": "d06764d7",
    "execution_start": 1643835467822,
    "execution_millis": 8,
    "deepnote_output_heights": [
     21.1875
    ],
    "deepnote_cell_type": "code"
   },
   "outputs": [
    {
     "output_type": "execute_result",
     "execution_count": 27,
     "data": {
      "text/plain": "0.7282889768405689"
     },
     "metadata": {}
    }
   ],
   "execution_count": 27
  },
  {
   "cell_type": "code",
   "source": "GE2V,GE2V = [reg_GE2_V.coef_[0,0],reg_GE2_V.intercept_[0]]\nprint(\"y = {} x + {}\".format(str(GE2V),str(GE2V)))",
   "metadata": {
    "cell_id": "2d10ec5d-2121-49ab-8959-712d8a7d962c",
    "tags": [],
    "deepnote_to_be_reexecuted": false,
    "source_hash": "ecaa3d0d",
    "execution_start": 1643835467823,
    "execution_millis": 7,
    "deepnote_cell_type": "code"
   },
   "outputs": [
    {
     "name": "stdout",
     "text": "y = -0.1321368728323833 x + -0.1321368728323833\n",
     "output_type": "stream"
    }
   ],
   "execution_count": 28
  },
  {
   "cell_type": "code",
   "source": "X_GE3_V = GE3_vol.ground_truth_volume.to_numpy().reshape(-1,1)\ny_GE3_V = GE3_vol.calculated_volume.to_numpy().reshape(-1,1)\nreg_GE3_V = LinearRegression().fit(X_GE3_V,y_GE3_V)\nGE3_scoreV = reg_GE3_S.score(X_GE3_V,y_GE3_V)\nGE3_scoreV",
   "metadata": {
    "cell_id": "b2047d18-a9c6-4b5b-bf10-e9b9ed530d0f",
    "tags": [],
    "deepnote_to_be_reexecuted": false,
    "source_hash": "85508995",
    "execution_start": 1643835467824,
    "execution_millis": 8,
    "deepnote_output_heights": [
     21.1875
    ],
    "deepnote_cell_type": "code"
   },
   "outputs": [
    {
     "output_type": "execute_result",
     "execution_count": 29,
     "data": {
      "text/plain": "0.7953698486358789"
     },
     "metadata": {}
    }
   ],
   "execution_count": 29
  },
  {
   "cell_type": "code",
   "source": "GE3L,GE3L = [reg_GE3_L.coef_[0,0],reg_GE3_L.intercept_[0]]\nprint(\"y = {} x + {}\".format(str(GE3L),str(GE3L)))",
   "metadata": {
    "cell_id": "dfc07696-5230-4792-a9aa-ffbf231b9867",
    "tags": [],
    "deepnote_to_be_reexecuted": false,
    "source_hash": "575d7e6",
    "execution_start": 1643835467827,
    "execution_millis": 6,
    "deepnote_cell_type": "code"
   },
   "outputs": [
    {
     "name": "stdout",
     "text": "y = 5.532499054648035 x + 5.532499054648035\n",
     "output_type": "stream"
    }
   ],
   "execution_count": 30
  },
  {
   "cell_type": "code",
   "source": "GE2_volume = chart_plot_vol(GE2_vol)\nGE3_volume = chart_plot_vol(GE3_vol)\nGE2_volume | GE3_volume",
   "metadata": {
    "cell_id": "d834fdb9-bb17-4f8a-af18-9f36f602bba3",
    "tags": [],
    "deepnote_to_be_reexecuted": false,
    "source_hash": "6f5f5f21",
    "execution_start": 1643836367094,
    "execution_millis": 132,
    "deepnote_output_heights": [
     363
    ],
    "deepnote_cell_type": "code"
   },
   "outputs": [
    {
     "output_type": "execute_result",
     "execution_count": 137,
     "data": {
      "text/html": "\n<div id=\"altair-viz-25bc99fbb66148359ce66e972a7fa9de\"></div>\n<script type=\"text/javascript\">\n  (function(spec, embedOpt){\n    let outputDiv = document.currentScript.previousElementSibling;\n    if (outputDiv.id !== \"altair-viz-25bc99fbb66148359ce66e972a7fa9de\") {\n      outputDiv = document.getElementById(\"altair-viz-25bc99fbb66148359ce66e972a7fa9de\");\n    }\n    const paths = {\n      \"vega\": \"https://cdn.jsdelivr.net/npm//vega@5?noext\",\n      \"vega-lib\": \"https://cdn.jsdelivr.net/npm//vega-lib?noext\",\n      \"vega-lite\": \"https://cdn.jsdelivr.net/npm//vega-lite@4.8.1?noext\",\n      \"vega-embed\": \"https://cdn.jsdelivr.net/npm//vega-embed@6?noext\",\n    };\n\n    function loadScript(lib) {\n      return new Promise(function(resolve, reject) {\n        var s = document.createElement('script');\n        s.src = paths[lib];\n        s.async = true;\n        s.onload = () => resolve(paths[lib]);\n        s.onerror = () => reject(`Error loading script: ${paths[lib]}`);\n        document.getElementsByTagName(\"head\")[0].appendChild(s);\n      });\n    }\n\n    function showError(err) {\n      outputDiv.innerHTML = `<div class=\"error\" style=\"color:red;\">${err}</div>`;\n      throw err;\n    }\n\n    function displayChart(vegaEmbed) {\n      vegaEmbed(outputDiv, spec, embedOpt)\n        .catch(err => showError(`Javascript Error: ${err.message}<br>This usually means there's a typo in your chart specification. See the javascript console for the full traceback.`));\n    }\n\n    if(typeof define === \"function\" && define.amd) {\n      requirejs.config({paths});\n      require([\"vega-embed\"], displayChart, err => showError(`Error loading script: ${err.message}`));\n    } else if (typeof vegaEmbed === \"function\") {\n      displayChart(vegaEmbed);\n    } else {\n      loadScript(\"vega\")\n        .then(() => loadScript(\"vega-lite\"))\n        .then(() => loadScript(\"vega-embed\"))\n        .catch(showError)\n        .then(() => displayChart(vegaEmbed));\n    }\n  })({\"config\": {\"view\": {\"continuousWidth\": 400, \"continuousHeight\": 300}}, \"hconcat\": [{\"layer\": [{\"data\": {\"name\": \"data-12282d1a56c35bb5005bd4f60eb99199\"}, \"mark\": \"circle\", \"encoding\": {\"color\": {\"type\": \"nominal\", \"field\": \"Rep\"}, \"x\": {\"type\": \"quantitative\", \"field\": \"ground_truth_volume\"}, \"y\": {\"type\": \"quantitative\", \"field\": \"calculated_volume\"}}}, {\"data\": {\"name\": \"data-53394a6a581bc7d3ef85fd810b13f48f\"}, \"mark\": \"line\", \"encoding\": {\"color\": {\"type\": \"nominal\", \"field\": \"Rep\"}, \"x\": {\"type\": \"quantitative\", \"field\": \"ground_truth_volume\"}, \"y\": {\"type\": \"quantitative\", \"field\": \"calculated_volume\"}}, \"transform\": [{\"on\": \"ground_truth_volume\", \"regression\": \"calculated_volume\", \"method\": \"linear\"}]}, {\"data\": {\"name\": \"data-53394a6a581bc7d3ef85fd810b13f48f\"}, \"mark\": {\"type\": \"line\", \"color\": \"red\"}, \"encoding\": {\"x\": {\"type\": \"quantitative\", \"field\": \"ground_truth_volume\"}, \"y\": {\"type\": \"quantitative\", \"field\": \"ground_truth_volume\"}}}]}, {\"layer\": [{\"data\": {\"name\": \"data-53394a6a581bc7d3ef85fd810b13f48f\"}, \"mark\": \"circle\", \"encoding\": {\"color\": {\"type\": \"nominal\", \"field\": \"Rep\"}, \"x\": {\"type\": \"quantitative\", \"field\": \"ground_truth_volume\"}, \"y\": {\"type\": \"quantitative\", \"field\": \"calculated_volume\"}}}, {\"data\": {\"name\": \"data-53394a6a581bc7d3ef85fd810b13f48f\"}, \"mark\": \"line\", \"encoding\": {\"color\": {\"type\": \"nominal\", \"field\": \"Rep\"}, \"x\": {\"type\": \"quantitative\", \"field\": \"ground_truth_volume\"}, \"y\": {\"type\": \"quantitative\", \"field\": \"calculated_volume\"}}, \"transform\": [{\"on\": \"ground_truth_volume\", \"regression\": \"calculated_volume\", \"method\": \"linear\"}]}, {\"data\": {\"name\": \"data-53394a6a581bc7d3ef85fd810b13f48f\"}, \"mark\": {\"type\": \"line\", \"color\": \"red\"}, \"encoding\": {\"x\": {\"type\": \"quantitative\", \"field\": \"ground_truth_volume\"}, \"y\": {\"type\": \"quantitative\", \"field\": \"ground_truth_volume\"}}}]}], \"$schema\": \"https://vega.github.io/schema/vega-lite/v4.8.1.json\", \"datasets\": {\"data-12282d1a56c35bb5005bd4f60eb99199\": [{\"Rep\": \"Large1\", \"ground_truth_volume\": 98.2, \"calculated_volume\": 124.0680227}, {\"Rep\": \"Large1\", \"ground_truth_volume\": 98.2, \"calculated_volume\": 112.9666022}, {\"Rep\": \"Large1\", \"ground_truth_volume\": 98.2, \"calculated_volume\": 110.379797}, {\"Rep\": \"Large2\", \"ground_truth_volume\": 98.2, \"calculated_volume\": 113.6498547}, {\"Rep\": \"Large2\", \"ground_truth_volume\": 98.2, \"calculated_volume\": 104.2014135}, {\"Rep\": \"Large2\", \"ground_truth_volume\": 98.2, \"calculated_volume\": 109.4153992}, {\"Rep\": \"Large3\", \"ground_truth_volume\": 98.2, \"calculated_volume\": 102.1010991}, {\"Rep\": \"Large3\", \"ground_truth_volume\": 98.2, \"calculated_volume\": 107.4877392}, {\"Rep\": \"Large3\", \"ground_truth_volume\": 98.2, \"calculated_volume\": 111.3201951}, {\"Rep\": \"Large4\", \"ground_truth_volume\": 98.2, \"calculated_volume\": 107.0077157}, {\"Rep\": \"Large4\", \"ground_truth_volume\": 98.2, \"calculated_volume\": 114.7547987}, {\"Rep\": \"Large4\", \"ground_truth_volume\": 98.2, \"calculated_volume\": 110.2841395}, {\"Rep\": \"Large5\", \"ground_truth_volume\": 98.2, \"calculated_volume\": 132.0974229}, {\"Rep\": \"Large5\", \"ground_truth_volume\": 98.2, \"calculated_volume\": 105.8146384}, {\"Rep\": \"Large5\", \"ground_truth_volume\": 98.2, \"calculated_volume\": 112.5755855}, {\"Rep\": \"Small1\", \"ground_truth_volume\": 98.2, \"calculated_volume\": 128.6945318}, {\"Rep\": \"Small1\", \"ground_truth_volume\": 98.2, \"calculated_volume\": 129.1491551}, {\"Rep\": \"Small1\", \"ground_truth_volume\": 98.2, \"calculated_volume\": 129.1416135}, {\"Rep\": \"Small2\", \"ground_truth_volume\": 98.2, \"calculated_volume\": 131.5258785}, {\"Rep\": \"Small2\", \"ground_truth_volume\": 98.2, \"calculated_volume\": 124.6401267}, {\"Rep\": \"Small2\", \"ground_truth_volume\": 98.2, \"calculated_volume\": 132.7684361}, {\"Rep\": \"Small3\", \"ground_truth_volume\": 98.2, \"calculated_volume\": 115.9502218}, {\"Rep\": \"Small3\", \"ground_truth_volume\": 98.2, \"calculated_volume\": 111.9639108}, {\"Rep\": \"Small3\", \"ground_truth_volume\": 98.2, \"calculated_volume\": 118.1423518}, {\"Rep\": \"Small4\", \"ground_truth_volume\": 98.2, \"calculated_volume\": 116.5412965}, {\"Rep\": \"Small4\", \"ground_truth_volume\": 98.2, \"calculated_volume\": 111.5871867}, {\"Rep\": \"Small4\", \"ground_truth_volume\": 98.2, \"calculated_volume\": 116.3609735}, {\"Rep\": \"Small5\", \"ground_truth_volume\": 98.2, \"calculated_volume\": 110.4719972}, {\"Rep\": \"Small5\", \"ground_truth_volume\": 98.2, \"calculated_volume\": 114.9015621}, {\"Rep\": \"Small5\", \"ground_truth_volume\": 98.2, \"calculated_volume\": 116.60665}, {\"Rep\": \"Large1\", \"ground_truth_volume\": 21.2, \"calculated_volume\": 30.88484501}, {\"Rep\": \"Large1\", \"ground_truth_volume\": 21.2, \"calculated_volume\": 22.78795341}, {\"Rep\": \"Large1\", \"ground_truth_volume\": 21.2, \"calculated_volume\": 22.49831706}, {\"Rep\": \"Large2\", \"ground_truth_volume\": 21.2, \"calculated_volume\": 25.25815237}, {\"Rep\": \"Large2\", \"ground_truth_volume\": 21.2, \"calculated_volume\": 21.51628872}, {\"Rep\": \"Large2\", \"ground_truth_volume\": 21.2, \"calculated_volume\": 22.74168449}, {\"Rep\": \"Large3\", \"ground_truth_volume\": 21.2, \"calculated_volume\": 26.039465}, {\"Rep\": \"Large3\", \"ground_truth_volume\": 21.2, \"calculated_volume\": 22.17842432}, {\"Rep\": \"Large3\", \"ground_truth_volume\": 21.2, \"calculated_volume\": 18.92112901}, {\"Rep\": \"Large4\", \"ground_truth_volume\": 21.2, \"calculated_volume\": 22.2543459}, {\"Rep\": \"Large4\", \"ground_truth_volume\": 21.2, \"calculated_volume\": 24.3870961}, {\"Rep\": \"Large4\", \"ground_truth_volume\": 21.2, \"calculated_volume\": 19.33959937}, {\"Rep\": \"Large5\", \"ground_truth_volume\": 21.2, \"calculated_volume\": 32.26454742}, {\"Rep\": \"Large5\", \"ground_truth_volume\": 21.2, \"calculated_volume\": 20.97917798}, {\"Rep\": \"Large5\", \"ground_truth_volume\": 21.2, \"calculated_volume\": 22.4672677}, {\"Rep\": \"Small1\", \"ground_truth_volume\": 21.2, \"calculated_volume\": 42.52609133}, {\"Rep\": \"Small1\", \"ground_truth_volume\": 21.2, \"calculated_volume\": 27.59204923}, {\"Rep\": \"Small1\", \"ground_truth_volume\": 21.2, \"calculated_volume\": 26.36908924}, {\"Rep\": \"Small2\", \"ground_truth_volume\": 21.2, \"calculated_volume\": 22.64105214}, {\"Rep\": \"Small2\", \"ground_truth_volume\": 21.2, \"calculated_volume\": 24.66555634}, {\"Rep\": \"Small2\", \"ground_truth_volume\": 21.2, \"calculated_volume\": 24.74647993}, {\"Rep\": \"Small3\", \"ground_truth_volume\": 21.2, \"calculated_volume\": 33.11400898}, {\"Rep\": \"Small3\", \"ground_truth_volume\": 21.2, \"calculated_volume\": 23.0503234}, {\"Rep\": \"Small3\", \"ground_truth_volume\": 21.2, \"calculated_volume\": 22.73297427}, {\"Rep\": \"Small4\", \"ground_truth_volume\": 21.2, \"calculated_volume\": 22.80077925}, {\"Rep\": \"Small4\", \"ground_truth_volume\": 21.2, \"calculated_volume\": 27.98549}, {\"Rep\": \"Small4\", \"ground_truth_volume\": 21.2, \"calculated_volume\": 23.72874638}, {\"Rep\": \"Small5\", \"ground_truth_volume\": 21.2, \"calculated_volume\": 30.38052172}, {\"Rep\": \"Small5\", \"ground_truth_volume\": 21.2, \"calculated_volume\": 25.61825598}, {\"Rep\": \"Small5\", \"ground_truth_volume\": 21.2, \"calculated_volume\": 22.87497359}, {\"Rep\": \"Large1\", \"ground_truth_volume\": 0.8, \"calculated_volume\": 0.121867063}, {\"Rep\": \"Large1\", \"ground_truth_volume\": 0.8, \"calculated_volume\": 0.498356901}, {\"Rep\": \"Large1\", \"ground_truth_volume\": 0.8, \"calculated_volume\": 0.189818013}, {\"Rep\": \"Large2\", \"ground_truth_volume\": 0.8, \"calculated_volume\": 0.0}, {\"Rep\": \"Large2\", \"ground_truth_volume\": 0.8, \"calculated_volume\": 1.285007231}, {\"Rep\": \"Large2\", \"ground_truth_volume\": 0.8, \"calculated_volume\": 1.026985293}, {\"Rep\": \"Large3\", \"ground_truth_volume\": 0.8, \"calculated_volume\": 0.854244436}, {\"Rep\": \"Large3\", \"ground_truth_volume\": 0.8, \"calculated_volume\": 1.016950713}, {\"Rep\": \"Large3\", \"ground_truth_volume\": 0.8, \"calculated_volume\": 0.767698726}, {\"Rep\": \"Large4\", \"ground_truth_volume\": 0.8, \"calculated_volume\": 0.448954737}, {\"Rep\": \"Large4\", \"ground_truth_volume\": 0.8, \"calculated_volume\": 0.425824565}, {\"Rep\": \"Large4\", \"ground_truth_volume\": 0.8, \"calculated_volume\": 1.56947648}, {\"Rep\": \"Large5\", \"ground_truth_volume\": 0.8, \"calculated_volume\": 0.460916731}, {\"Rep\": \"Large5\", \"ground_truth_volume\": 0.8, \"calculated_volume\": 0.370842025}, {\"Rep\": \"Large5\", \"ground_truth_volume\": 0.8, \"calculated_volume\": 0.17928335}, {\"Rep\": \"Small1\", \"ground_truth_volume\": 0.8, \"calculated_volume\": 0.0}, {\"Rep\": \"Small1\", \"ground_truth_volume\": 0.8, \"calculated_volume\": 0.88353739}, {\"Rep\": \"Small1\", \"ground_truth_volume\": 0.8, \"calculated_volume\": 1.686223851}, {\"Rep\": \"Small2\", \"ground_truth_volume\": 0.8, \"calculated_volume\": 0.452315506}, {\"Rep\": \"Small2\", \"ground_truth_volume\": 0.8, \"calculated_volume\": 0.494185992}, {\"Rep\": \"Small2\", \"ground_truth_volume\": 0.8, \"calculated_volume\": 0.543776857}, {\"Rep\": \"Small3\", \"ground_truth_volume\": 0.8, \"calculated_volume\": 0.215786434}, {\"Rep\": \"Small3\", \"ground_truth_volume\": 0.8, \"calculated_volume\": 0.0}, {\"Rep\": \"Small3\", \"ground_truth_volume\": 0.8, \"calculated_volume\": 1.295125379}, {\"Rep\": \"Small4\", \"ground_truth_volume\": 0.8, \"calculated_volume\": 0.362458637}, {\"Rep\": \"Small4\", \"ground_truth_volume\": 0.8, \"calculated_volume\": 0.673130647}, {\"Rep\": \"Small4\", \"ground_truth_volume\": 0.8, \"calculated_volume\": 0.852872188}, {\"Rep\": \"Small5\", \"ground_truth_volume\": 0.8, \"calculated_volume\": 1.227940752}, {\"Rep\": \"Small5\", \"ground_truth_volume\": 0.8, \"calculated_volume\": 1.090624358}, {\"Rep\": \"Small5\", \"ground_truth_volume\": 0.8, \"calculated_volume\": 1.137057952}], \"data-53394a6a581bc7d3ef85fd810b13f48f\": [{\"Rep\": \"Large1\", \"ground_truth_volume\": 98.2, \"calculated_volume\": 117.5381351}, {\"Rep\": \"Large1\", \"ground_truth_volume\": 98.2, \"calculated_volume\": 107.0596031}, {\"Rep\": \"Large1\", \"ground_truth_volume\": 98.2, \"calculated_volume\": 104.6497219}, {\"Rep\": \"Large2\", \"ground_truth_volume\": 98.2, \"calculated_volume\": 112.5889884}, {\"Rep\": \"Large2\", \"ground_truth_volume\": 98.2, \"calculated_volume\": 102.1324663}, {\"Rep\": \"Large2\", \"ground_truth_volume\": 98.2, \"calculated_volume\": 106.7635256}, {\"Rep\": \"Large3\", \"ground_truth_volume\": 98.2, \"calculated_volume\": 120.1480912}, {\"Rep\": \"Large3\", \"ground_truth_volume\": 98.2, \"calculated_volume\": 110.1617326}, {\"Rep\": \"Large3\", \"ground_truth_volume\": 98.2, \"calculated_volume\": 108.2459504}, {\"Rep\": \"Large4\", \"ground_truth_volume\": 98.2, \"calculated_volume\": 118.8278571}, {\"Rep\": \"Large4\", \"ground_truth_volume\": 98.2, \"calculated_volume\": 114.8880445}, {\"Rep\": \"Large4\", \"ground_truth_volume\": 98.2, \"calculated_volume\": 105.986391}, {\"Rep\": \"Large5\", \"ground_truth_volume\": 98.2, \"calculated_volume\": 128.2398402}, {\"Rep\": \"Large5\", \"ground_truth_volume\": 98.2, \"calculated_volume\": 98.66783266}, {\"Rep\": \"Large5\", \"ground_truth_volume\": 98.2, \"calculated_volume\": 103.2754851}, {\"Rep\": \"Small1\", \"ground_truth_volume\": 98.2, \"calculated_volume\": 214.9492396}, {\"Rep\": \"Small1\", \"ground_truth_volume\": 98.2, \"calculated_volume\": 134.2914239}, {\"Rep\": \"Small1\", \"ground_truth_volume\": 98.2, \"calculated_volume\": 115.3856584}, {\"Rep\": \"Small2\", \"ground_truth_volume\": 98.2, \"calculated_volume\": 194.3176719}, {\"Rep\": \"Small2\", \"ground_truth_volume\": 98.2, \"calculated_volume\": 121.1301296}, {\"Rep\": \"Small2\", \"ground_truth_volume\": 98.2, \"calculated_volume\": 112.3335566}, {\"Rep\": \"Small3\", \"ground_truth_volume\": 98.2, \"calculated_volume\": 101.0523809}, {\"Rep\": \"Small3\", \"ground_truth_volume\": 98.2, \"calculated_volume\": 95.8878112}, {\"Rep\": \"Small3\", \"ground_truth_volume\": 98.2, \"calculated_volume\": 100.4362714}, {\"Rep\": \"Small4\", \"ground_truth_volume\": 98.2, \"calculated_volume\": 104.4931576}, {\"Rep\": \"Small4\", \"ground_truth_volume\": 98.2, \"calculated_volume\": 97.93672182}, {\"Rep\": \"Small4\", \"ground_truth_volume\": 98.2, \"calculated_volume\": 101.1275152}, {\"Rep\": \"Small5\", \"ground_truth_volume\": 98.2, \"calculated_volume\": 99.48071165}, {\"Rep\": \"Small5\", \"ground_truth_volume\": 98.2, \"calculated_volume\": 100.7743032}, {\"Rep\": \"Small5\", \"ground_truth_volume\": 98.2, \"calculated_volume\": 100.8341802}, {\"Rep\": \"Large1\", \"ground_truth_volume\": 21.2, \"calculated_volume\": 29.23959125}, {\"Rep\": \"Large1\", \"ground_truth_volume\": 21.2, \"calculated_volume\": 21.59703509}, {\"Rep\": \"Large1\", \"ground_truth_volume\": 21.2, \"calculated_volume\": 21.33428906}, {\"Rep\": \"Large2\", \"ground_truth_volume\": 21.2, \"calculated_volume\": 25.02740067}, {\"Rep\": \"Large2\", \"ground_truth_volume\": 21.2, \"calculated_volume\": 21.0880842}, {\"Rep\": \"Large2\", \"ground_truth_volume\": 21.2, \"calculated_volume\": 22.19446186}, {\"Rep\": \"Large3\", \"ground_truth_volume\": 21.2, \"calculated_volume\": 30.47590471}, {\"Rep\": \"Large3\", \"ground_truth_volume\": 21.2, \"calculated_volume\": 22.73296196}, {\"Rep\": \"Large3\", \"ground_truth_volume\": 21.2, \"calculated_volume\": 18.39629574}, {\"Rep\": \"Large4\", \"ground_truth_volume\": 21.2, \"calculated_volume\": 24.65329185}, {\"Rep\": \"Large4\", \"ground_truth_volume\": 21.2, \"calculated_volume\": 24.41600142}, {\"Rep\": \"Large4\", \"ground_truth_volume\": 21.2, \"calculated_volume\": 18.58838434}, {\"Rep\": \"Large5\", \"ground_truth_volume\": 21.2, \"calculated_volume\": 31.31694359}, {\"Rep\": \"Large5\", \"ground_truth_volume\": 21.2, \"calculated_volume\": 19.55632052}, {\"Rep\": \"Large5\", \"ground_truth_volume\": 21.2, \"calculated_volume\": 20.60282805}, {\"Rep\": \"Small1\", \"ground_truth_volume\": 21.2, \"calculated_volume\": 69.3821895}, {\"Rep\": \"Small1\", \"ground_truth_volume\": 21.2, \"calculated_volume\": 28.71750162}, {\"Rep\": \"Small1\", \"ground_truth_volume\": 21.2, \"calculated_volume\": 23.54965756}, {\"Rep\": \"Small2\", \"ground_truth_volume\": 21.2, \"calculated_volume\": 34.71078415}, {\"Rep\": \"Small2\", \"ground_truth_volume\": 21.2, \"calculated_volume\": 23.96658804}, {\"Rep\": \"Small2\", \"ground_truth_volume\": 21.2, \"calculated_volume\": 20.91298235}, {\"Rep\": \"Small3\", \"ground_truth_volume\": 21.2, \"calculated_volume\": 28.90117677}, {\"Rep\": \"Small3\", \"ground_truth_volume\": 21.2, \"calculated_volume\": 19.74656669}, {\"Rep\": \"Small3\", \"ground_truth_volume\": 21.2, \"calculated_volume\": 19.31282164}, {\"Rep\": \"Small4\", \"ground_truth_volume\": 21.2, \"calculated_volume\": 20.43325582}, {\"Rep\": \"Small4\", \"ground_truth_volume\": 21.2, \"calculated_volume\": 24.57778662}, {\"Rep\": \"Small4\", \"ground_truth_volume\": 21.2, \"calculated_volume\": 20.6293952}, {\"Rep\": \"Small5\", \"ground_truth_volume\": 21.2, \"calculated_volume\": 27.35448962}, {\"Rep\": \"Small5\", \"ground_truth_volume\": 21.2, \"calculated_volume\": 22.43114795}, {\"Rep\": \"Small5\", \"ground_truth_volume\": 21.2, \"calculated_volume\": 19.76298836}, {\"Rep\": \"Large1\", \"ground_truth_volume\": 0.8, \"calculated_volume\": 0.115510162}, {\"Rep\": \"Large1\", \"ground_truth_volume\": 0.8, \"calculated_volume\": 0.472705325}, {\"Rep\": \"Large1\", \"ground_truth_volume\": 0.8, \"calculated_volume\": 0.179930114}, {\"Rep\": \"Large2\", \"ground_truth_volume\": 0.8, \"calculated_volume\": 0.0}, {\"Rep\": \"Large2\", \"ground_truth_volume\": 0.8, \"calculated_volume\": 1.254075666}, {\"Rep\": \"Large2\", \"ground_truth_volume\": 0.8, \"calculated_volume\": 1.002053141}, {\"Rep\": \"Large3\", \"ground_truth_volume\": 0.8, \"calculated_volume\": 0.830788818}, {\"Rep\": \"Large3\", \"ground_truth_volume\": 0.8, \"calculated_volume\": 0.989045137}, {\"Rep\": \"Large3\", \"ground_truth_volume\": 0.8, \"calculated_volume\": 0.746740469}, {\"Rep\": \"Large4\", \"ground_truth_volume\": 0.8, \"calculated_volume\": 0.431506522}, {\"Rep\": \"Large4\", \"ground_truth_volume\": 0.8, \"calculated_volume\": 0.409255055}, {\"Rep\": \"Large4\", \"ground_truth_volume\": 0.8, \"calculated_volume\": 1.508604067}, {\"Rep\": \"Large5\", \"ground_truth_volume\": 0.8, \"calculated_volume\": 0.422989783}, {\"Rep\": \"Large5\", \"ground_truth_volume\": 0.8, \"calculated_volume\": 0.340261887}, {\"Rep\": \"Large5\", \"ground_truth_volume\": 0.8, \"calculated_volume\": 0.164352076}, {\"Rep\": \"Small1\", \"ground_truth_volume\": 0.8, \"calculated_volume\": 0.0}, {\"Rep\": \"Small1\", \"ground_truth_volume\": 0.8, \"calculated_volume\": 0.789037322}, {\"Rep\": \"Small1\", \"ground_truth_volume\": 0.8, \"calculated_volume\": 1.506709112}, {\"Rep\": \"Small2\", \"ground_truth_volume\": 0.8, \"calculated_volume\": 0.382202513}, {\"Rep\": \"Small2\", \"ground_truth_volume\": 0.8, \"calculated_volume\": 0.417920663}, {\"Rep\": \"Small2\", \"ground_truth_volume\": 0.8, \"calculated_volume\": 0.45948141}, {\"Rep\": \"Small3\", \"ground_truth_volume\": 0.8, \"calculated_volume\": 0.183306591}, {\"Rep\": \"Small3\", \"ground_truth_volume\": 0.8, \"calculated_volume\": 0.0}, {\"Rep\": \"Small3\", \"ground_truth_volume\": 0.8, \"calculated_volume\": 1.099902653}, {\"Rep\": \"Small4\", \"ground_truth_volume\": 0.8, \"calculated_volume\": 0.314992844}, {\"Rep\": \"Small4\", \"ground_truth_volume\": 0.8, \"calculated_volume\": 0.58542004}, {\"Rep\": \"Small4\", \"ground_truth_volume\": 0.8, \"calculated_volume\": 0.74179678}, {\"Rep\": \"Small5\", \"ground_truth_volume\": 0.8, \"calculated_volume\": 1.062657603}, {\"Rep\": \"Small5\", \"ground_truth_volume\": 0.8, \"calculated_volume\": 0.944274322}, {\"Rep\": \"Small5\", \"ground_truth_volume\": 0.8, \"calculated_volume\": 0.983060631}]}}, {\"mode\": \"vega-lite\"});\n</script>",
      "text/plain": "alt.HConcatChart(...)"
     },
     "metadata": {}
    }
   ],
   "execution_count": 137
  },
  {
   "cell_type": "markdown",
   "source": "### Summary",
   "metadata": {
    "cell_id": "1344e94b-5cab-4faf-8544-86a34f983065",
    "tags": [],
    "is_collapsed": false,
    "deepnote_cell_type": "text-cell-h3"
   }
  },
  {
   "cell_type": "code",
   "source": "GE2_score = {'Large Mass': GE2_scoreL,'Medium Mass': GE2_scoreM,'Small Mass':GE2_scoreS,'Volume': GE2_scoreV}\nGE3_score = {'Large Mass': GE3_scoreL,'Medium Mass': GE3_scoreM,'Small Mass':GE3_scoreS,'Volume': GE3_scoreV}\nGE_true = [X_GE2_L,X_GE2_L,X_GE2_M,X_GE2_M,X_GE2_S,X_GE2_S,X_GE2_V,X_GE2_V]\nGE_pred = [y_GE2_L,y_GE3_L,y_GE2_M,y_GE3_M,y_GE2_S,y_GE3_S,y_GE2_V,y_GE3_V]\n[GE2_L_RMSE,GE3_L_RMSE,GE2_M_RMSE,GE3_M_RMSE,GE2_S_RMSE,GE3_S_RMSE,GE2_V_RMSE,GE3_V_RMSE] = [rmse(GE_true[i],GE_pred[i]) for i in range(len(GE_true))]\nGE2_RMSE = {'Large Mass': GE2_L_RMSE,'Medium Mass': GE2_M_RMSE,'Small Mass': GE2_S_RMSE,'Volume':GE2_V_RMSE}\nGE3_RMSE = {'Large Mass': GE3_L_RMSE,'Medium Mass': GE3_M_RMSE,'Small Mass': GE3_S_RMSE,'Volume':GE3_V_RMSE}",
   "metadata": {
    "cell_id": "6f25d0c5-3c4b-4460-9b49-f7e8d8a201e0",
    "tags": [],
    "deepnote_to_be_reexecuted": false,
    "source_hash": "5ed2f78",
    "execution_start": 1643838011231,
    "execution_millis": 22,
    "deepnote_cell_type": "code"
   },
   "outputs": [],
   "execution_count": 190
  },
  {
   "cell_type": "markdown",
   "source": "## Vendor 3: Philips",
   "metadata": {
    "cell_id": "0a30a8f2-b59f-45a2-8b13-6ccc411158b7",
    "tags": [],
    "is_collapsed": false,
    "deepnote_cell_type": "text-cell-h2"
   }
  },
  {
   "cell_type": "code",
   "metadata": {
    "cell_id": "169c871d-bd07-49b3-a186-81c629c08aba",
    "tags": [],
    "deepnote_to_be_reexecuted": false,
    "source_hash": "3edfe936",
    "execution_start": 1643835467963,
    "execution_millis": 11,
    "deepnote_cell_type": "code"
   },
   "source": "PP2 = pd.read_csv('Philips2.csv')\nPP3 = pd.read_csv('Philips3.csv')",
   "execution_count": 34,
   "outputs": []
  },
  {
   "cell_type": "markdown",
   "source": "### Mass Score: Large Inserts",
   "metadata": {
    "cell_id": "716accec-3e3f-44df-9462-d8314bc4634f",
    "tags": [],
    "is_collapsed": false,
    "deepnote_cell_type": "text-cell-h3"
   }
  },
  {
   "cell_type": "code",
   "metadata": {
    "cell_id": "2e78ef19-c260-4ee4-a538-6057d6676f57",
    "tags": [],
    "deepnote_to_be_reexecuted": false,
    "source_hash": "a239a2f4",
    "execution_start": 1643835468014,
    "execution_millis": 5,
    "deepnote_output_heights": [
     21.1875
    ],
    "deepnote_cell_type": "code"
   },
   "source": "X_PP2_L = PP2.ground_truth_mass_large.to_numpy().reshape(-1,1)\ny_PP2_L = PP2.calculated_mass_large.to_numpy().reshape(-1,1)\nreg_PP2_L = LinearRegression().fit(X_PP2_L,y_PP2_L)\nPP2_scoreL = reg_PP2_L.score(X_PP2_L,y_PP2_L)\nPP2_scoreL",
   "execution_count": 35,
   "outputs": [
    {
     "output_type": "execute_result",
     "execution_count": 35,
     "data": {
      "text/plain": "0.9934363315068816"
     },
     "metadata": {}
    }
   ]
  },
  {
   "cell_type": "code",
   "source": "p2L,h2L = [reg_PP2_L.coef_[0,0],reg_PP2_L.intercept_[0]]\nprint(\"y = {} x + {}\".format(str(p2L),str(h2L)))",
   "metadata": {
    "cell_id": "f7932102-5fd6-433b-be20-fb0ea5e28b7a",
    "tags": [],
    "deepnote_to_be_reexecuted": false,
    "source_hash": "1a3673eb",
    "execution_start": 1643835468015,
    "execution_millis": 1,
    "deepnote_cell_type": "code"
   },
   "outputs": [
    {
     "name": "stdout",
     "text": "y = 1.1051153139104999 x + -3.2641933247675397\n",
     "output_type": "stream"
    }
   ],
   "execution_count": 36
  },
  {
   "cell_type": "code",
   "source": "X_PP3_L = PP3.ground_truth_mass_large.to_numpy().reshape(-1,1)\ny_PP3_L = PP3.calculated_mass_large.to_numpy().reshape(-1,1)\nreg_PP3_L = LinearRegression().fit(X_PP3_L,y_PP3_L)\nPP3_scoreL = reg_PP3_L.score(X_PP2_L,y_PP3_L)\nPP3_scoreL",
   "metadata": {
    "cell_id": "98964bd7-b393-4a4d-9cf0-cd5b29244c62",
    "tags": [],
    "deepnote_to_be_reexecuted": false,
    "source_hash": "e3459374",
    "execution_start": 1643835468016,
    "execution_millis": 6,
    "deepnote_output_heights": [
     21.1875
    ],
    "deepnote_cell_type": "code"
   },
   "outputs": [
    {
     "output_type": "execute_result",
     "execution_count": 37,
     "data": {
      "text/plain": "0.989900254462969"
     },
     "metadata": {}
    }
   ],
   "execution_count": 37
  },
  {
   "cell_type": "code",
   "source": "p3L,h3L = [reg_PP3_L.coef_[0,0],reg_PP3_L.intercept_[0]]\nprint(\"y = {} x + {}\".format(str(p3L),str(h3L)))",
   "metadata": {
    "cell_id": "9a1629e5-6486-4d88-9593-a49dccc765ed",
    "tags": [],
    "deepnote_to_be_reexecuted": false,
    "source_hash": "edc53643",
    "execution_start": 1643835468067,
    "execution_millis": 3,
    "deepnote_cell_type": "code"
   },
   "outputs": [
    {
     "name": "stdout",
     "text": "y = 1.1655828062273774 x + -1.363840911880537\n",
     "output_type": "stream"
    }
   ],
   "execution_count": 38
  },
  {
   "cell_type": "code",
   "source": "PP2_large = chart_plot_large(PP2)\nPP3_large = chart_plot_large(PP3)\nPP2_large | PP3_large",
   "metadata": {
    "cell_id": "a4b32c7e-87d3-4c53-bc3e-bfeb9d816072",
    "tags": [],
    "deepnote_to_be_reexecuted": false,
    "source_hash": "3e2e7f0d",
    "execution_start": 1643836406799,
    "execution_millis": 191,
    "deepnote_output_heights": [
     363
    ],
    "deepnote_cell_type": "code"
   },
   "outputs": [
    {
     "output_type": "execute_result",
     "execution_count": 138,
     "data": {
      "text/html": "\n<div id=\"altair-viz-2d12a3d8fc2d44a0bf265e8a6615ca38\"></div>\n<script type=\"text/javascript\">\n  (function(spec, embedOpt){\n    let outputDiv = document.currentScript.previousElementSibling;\n    if (outputDiv.id !== \"altair-viz-2d12a3d8fc2d44a0bf265e8a6615ca38\") {\n      outputDiv = document.getElementById(\"altair-viz-2d12a3d8fc2d44a0bf265e8a6615ca38\");\n    }\n    const paths = {\n      \"vega\": \"https://cdn.jsdelivr.net/npm//vega@5?noext\",\n      \"vega-lib\": \"https://cdn.jsdelivr.net/npm//vega-lib?noext\",\n      \"vega-lite\": \"https://cdn.jsdelivr.net/npm//vega-lite@4.8.1?noext\",\n      \"vega-embed\": \"https://cdn.jsdelivr.net/npm//vega-embed@6?noext\",\n    };\n\n    function loadScript(lib) {\n      return new Promise(function(resolve, reject) {\n        var s = document.createElement('script');\n        s.src = paths[lib];\n        s.async = true;\n        s.onload = () => resolve(paths[lib]);\n        s.onerror = () => reject(`Error loading script: ${paths[lib]}`);\n        document.getElementsByTagName(\"head\")[0].appendChild(s);\n      });\n    }\n\n    function showError(err) {\n      outputDiv.innerHTML = `<div class=\"error\" style=\"color:red;\">${err}</div>`;\n      throw err;\n    }\n\n    function displayChart(vegaEmbed) {\n      vegaEmbed(outputDiv, spec, embedOpt)\n        .catch(err => showError(`Javascript Error: ${err.message}<br>This usually means there's a typo in your chart specification. See the javascript console for the full traceback.`));\n    }\n\n    if(typeof define === \"function\" && define.amd) {\n      requirejs.config({paths});\n      require([\"vega-embed\"], displayChart, err => showError(`Error loading script: ${err.message}`));\n    } else if (typeof vegaEmbed === \"function\") {\n      displayChart(vegaEmbed);\n    } else {\n      loadScript(\"vega\")\n        .then(() => loadScript(\"vega-lite\"))\n        .then(() => loadScript(\"vega-embed\"))\n        .catch(showError)\n        .then(() => displayChart(vegaEmbed));\n    }\n  })({\"config\": {\"view\": {\"continuousWidth\": 400, \"continuousHeight\": 300}}, \"hconcat\": [{\"layer\": [{\"mark\": \"circle\", \"encoding\": {\"color\": {\"type\": \"nominal\", \"field\": \"Rep\"}, \"tooltip\": [{\"type\": \"quantitative\", \"field\": \"ground_truth_volume_large\"}, {\"type\": \"quantitative\", \"field\": \"calculated_volume_large\"}, {\"type\": \"nominal\", \"field\": \"Rep\"}], \"x\": {\"type\": \"quantitative\", \"field\": \"ground_truth_mass_large\"}, \"y\": {\"type\": \"quantitative\", \"field\": \"calculated_mass_large\"}}}, {\"mark\": \"line\", \"encoding\": {\"color\": {\"type\": \"nominal\", \"field\": \"Rep\"}, \"tooltip\": [{\"type\": \"quantitative\", \"field\": \"ground_truth_volume_large\"}, {\"type\": \"quantitative\", \"field\": \"calculated_volume_large\"}, {\"type\": \"nominal\", \"field\": \"Rep\"}], \"x\": {\"type\": \"quantitative\", \"field\": \"ground_truth_mass_large\"}, \"y\": {\"type\": \"quantitative\", \"field\": \"calculated_mass_large\"}}, \"transform\": [{\"on\": \"ground_truth_mass_large\", \"regression\": \"calculated_mass_large\", \"method\": \"linear\"}]}, {\"mark\": {\"type\": \"line\", \"color\": \"red\"}, \"encoding\": {\"x\": {\"type\": \"quantitative\", \"field\": \"ground_truth_mass_large\"}, \"y\": {\"type\": \"quantitative\", \"field\": \"ground_truth_mass_large\"}}}], \"data\": {\"name\": \"data-06812c7701d94fb02baf5d9dd1ad3a30\"}}, {\"layer\": [{\"mark\": \"circle\", \"encoding\": {\"color\": {\"type\": \"nominal\", \"field\": \"Rep\"}, \"tooltip\": [{\"type\": \"quantitative\", \"field\": \"ground_truth_volume_large\"}, {\"type\": \"quantitative\", \"field\": \"calculated_volume_large\"}, {\"type\": \"nominal\", \"field\": \"Rep\"}], \"x\": {\"type\": \"quantitative\", \"field\": \"ground_truth_mass_large\"}, \"y\": {\"type\": \"quantitative\", \"field\": \"calculated_mass_large\"}}}, {\"mark\": \"line\", \"encoding\": {\"color\": {\"type\": \"nominal\", \"field\": \"Rep\"}, \"tooltip\": [{\"type\": \"quantitative\", \"field\": \"ground_truth_volume_large\"}, {\"type\": \"quantitative\", \"field\": \"calculated_volume_large\"}, {\"type\": \"nominal\", \"field\": \"Rep\"}], \"x\": {\"type\": \"quantitative\", \"field\": \"ground_truth_mass_large\"}, \"y\": {\"type\": \"quantitative\", \"field\": \"calculated_mass_large\"}}, \"transform\": [{\"on\": \"ground_truth_mass_large\", \"regression\": \"calculated_mass_large\", \"method\": \"linear\"}]}, {\"mark\": {\"type\": \"line\", \"color\": \"red\"}, \"encoding\": {\"x\": {\"type\": \"quantitative\", \"field\": \"ground_truth_mass_large\"}, \"y\": {\"type\": \"quantitative\", \"field\": \"ground_truth_mass_large\"}}}], \"data\": {\"name\": \"data-29f836ef7b03879444176699dbf3efbd\"}}], \"$schema\": \"https://vega.github.io/schema/vega-lite/v4.8.1.json\", \"datasets\": {\"data-06812c7701d94fb02baf5d9dd1ad3a30\": [{\"inserts\": \"Low Density\", \"ground_truth_volume_large\": 98.2, \"calculated_volume_large\": 96.86942096, \"ground_truth_volume_medium\": 21.2, \"calculated_volume_medium\": 22.93489953, \"ground_truth_volume_small\": 0.8, \"calculated_volume_small\": 0.505978314, \"ground_truth_mass_large\": 19.6, \"calculated_mass_large\": 19.37388419, \"ground_truth_mass_medium\": 4.2, \"calculated_mass_medium\": 4.586979905, \"ground_truth_mass_small\": 0.2, \"calculated_mass_small\": 0.101195663, \"Rep\": \"Large1\"}, {\"inserts\": \"Medium Density\", \"ground_truth_volume_large\": 98.2, \"calculated_volume_large\": 94.93963518, \"ground_truth_volume_medium\": 21.2, \"calculated_volume_medium\": 16.15138834, \"ground_truth_volume_small\": 0.8, \"calculated_volume_small\": 0.0, \"ground_truth_mass_large\": 39.3, \"calculated_mass_large\": 37.97585407, \"ground_truth_mass_medium\": 8.5, \"calculated_mass_medium\": 6.460555337, \"ground_truth_mass_small\": 0.3, \"calculated_mass_small\": 0.0, \"Rep\": \"Large1\"}, {\"inserts\": \"High Density\", \"ground_truth_volume_large\": 98.2, \"calculated_volume_large\": 105.7198846, \"ground_truth_volume_medium\": 21.2, \"calculated_volume_medium\": 18.25453642, \"ground_truth_volume_small\": 0.8, \"calculated_volume_small\": 0.771803343, \"ground_truth_mass_large\": 78.5, \"calculated_mass_large\": 84.57590767, \"ground_truth_mass_medium\": 17.0, \"calculated_mass_medium\": 14.60362914, \"ground_truth_mass_small\": 0.6, \"calculated_mass_small\": 0.617442675, \"Rep\": \"Large1\"}, {\"inserts\": \"Low Density\", \"ground_truth_volume_large\": 98.2, \"calculated_volume_large\": 101.7240236, \"ground_truth_volume_medium\": 21.2, \"calculated_volume_medium\": 22.46947522, \"ground_truth_volume_small\": 0.8, \"calculated_volume_small\": 0.143371242, \"ground_truth_mass_large\": 19.6, \"calculated_mass_large\": 20.34480473, \"ground_truth_mass_medium\": 4.2, \"calculated_mass_medium\": 4.493895044, \"ground_truth_mass_small\": 0.2, \"calculated_mass_small\": 0.028674248, \"Rep\": \"Large2\"}, {\"inserts\": \"Medium Density\", \"ground_truth_volume_large\": 98.2, \"calculated_volume_large\": 97.100217, \"ground_truth_volume_medium\": 21.2, \"calculated_volume_medium\": 16.93226125, \"ground_truth_volume_small\": 0.8, \"calculated_volume_small\": 0.307359953, \"ground_truth_mass_large\": 39.3, \"calculated_mass_large\": 38.8400868, \"ground_truth_mass_medium\": 8.5, \"calculated_mass_medium\": 6.7729045, \"ground_truth_mass_small\": 0.3, \"calculated_mass_small\": 0.122943981, \"Rep\": \"Large2\"}, {\"inserts\": \"High Density\", \"ground_truth_volume_large\": 98.2, \"calculated_volume_large\": 107.6956942, \"ground_truth_volume_medium\": 21.2, \"calculated_volume_medium\": 18.64640554, \"ground_truth_volume_small\": 0.8, \"calculated_volume_small\": 1.362864672, \"ground_truth_mass_large\": 78.5, \"calculated_mass_large\": 86.1565554, \"ground_truth_mass_medium\": 17.0, \"calculated_mass_medium\": 14.91712443, \"ground_truth_mass_small\": 0.6, \"calculated_mass_small\": 1.090291737, \"Rep\": \"Large2\"}, {\"inserts\": \"Low Density\", \"ground_truth_volume_large\": 98.2, \"calculated_volume_large\": 103.2564486, \"ground_truth_volume_medium\": 21.2, \"calculated_volume_medium\": 23.23540068, \"ground_truth_volume_small\": 0.8, \"calculated_volume_small\": 0.107542705, \"ground_truth_mass_large\": 19.6, \"calculated_mass_large\": 20.65128972, \"ground_truth_mass_medium\": 4.2, \"calculated_mass_medium\": 4.647080137, \"ground_truth_mass_small\": 0.2, \"calculated_mass_small\": 0.021508541, \"Rep\": \"Large3\"}, {\"inserts\": \"Medium Density\", \"ground_truth_volume_large\": 98.2, \"calculated_volume_large\": 96.88255384, \"ground_truth_volume_medium\": 21.2, \"calculated_volume_medium\": 14.60666936, \"ground_truth_volume_small\": 0.8, \"calculated_volume_small\": 0.658693219, \"ground_truth_mass_large\": 39.3, \"calculated_mass_large\": 38.75302153, \"ground_truth_mass_medium\": 8.5, \"calculated_mass_medium\": 5.842667744, \"ground_truth_mass_small\": 0.3, \"calculated_mass_small\": 0.263477287, \"Rep\": \"Large3\"}, {\"inserts\": \"High Density\", \"ground_truth_volume_large\": 98.2, \"calculated_volume_large\": 101.8943355, \"ground_truth_volume_medium\": 21.2, \"calculated_volume_medium\": 18.11903321, \"ground_truth_volume_small\": 0.8, \"calculated_volume_small\": 1.280599679, \"ground_truth_mass_large\": 78.5, \"calculated_mass_large\": 81.51546838, \"ground_truth_mass_medium\": 17.0, \"calculated_mass_medium\": 14.49522657, \"ground_truth_mass_small\": 0.6, \"calculated_mass_small\": 1.024479744, \"Rep\": \"Large3\"}, {\"inserts\": \"Low Density\", \"ground_truth_volume_large\": 98.2, \"calculated_volume_large\": 85.94202661, \"ground_truth_volume_medium\": 21.2, \"calculated_volume_medium\": 28.15226768, \"ground_truth_volume_small\": 0.8, \"calculated_volume_small\": 0.0, \"ground_truth_mass_large\": 19.6, \"calculated_mass_large\": 17.18840532, \"ground_truth_mass_medium\": 4.2, \"calculated_mass_medium\": 5.630453537, \"ground_truth_mass_small\": 0.2, \"calculated_mass_small\": 0.0, \"Rep\": \"Large4\"}, {\"inserts\": \"Medium Density\", \"ground_truth_volume_large\": 98.2, \"calculated_volume_large\": 92.0310655, \"ground_truth_volume_medium\": 21.2, \"calculated_volume_medium\": 15.10419356, \"ground_truth_volume_small\": 0.8, \"calculated_volume_small\": 0.615625906, \"ground_truth_mass_large\": 39.3, \"calculated_mass_large\": 36.8124262, \"ground_truth_mass_medium\": 8.5, \"calculated_mass_medium\": 6.041677423, \"ground_truth_mass_small\": 0.3, \"calculated_mass_small\": 0.246250363, \"Rep\": \"Large4\"}, {\"inserts\": \"High Density\", \"ground_truth_volume_large\": 98.2, \"calculated_volume_large\": 103.2934674, \"ground_truth_volume_medium\": 21.2, \"calculated_volume_medium\": 14.7696305, \"ground_truth_volume_small\": 0.8, \"calculated_volume_small\": 0.592129027, \"ground_truth_mass_large\": 78.5, \"calculated_mass_large\": 82.63477394, \"ground_truth_mass_medium\": 17.0, \"calculated_mass_medium\": 11.8157044, \"ground_truth_mass_small\": 0.6, \"calculated_mass_small\": 0.473703222, \"Rep\": \"Large4\"}, {\"inserts\": \"Low Density\", \"ground_truth_volume_large\": 98.2, \"calculated_volume_large\": 89.8918177, \"ground_truth_volume_medium\": 21.2, \"calculated_volume_medium\": 16.74362952, \"ground_truth_volume_small\": 0.8, \"calculated_volume_small\": 0.63148882, \"ground_truth_mass_large\": 19.6, \"calculated_mass_large\": 17.97836354, \"ground_truth_mass_medium\": 4.2, \"calculated_mass_medium\": 3.348725905, \"ground_truth_mass_small\": 0.2, \"calculated_mass_small\": 0.126297764, \"Rep\": \"Large5\"}, {\"inserts\": \"Medium Density\", \"ground_truth_volume_large\": 98.2, \"calculated_volume_large\": 92.06725628, \"ground_truth_volume_medium\": 21.2, \"calculated_volume_medium\": 19.44941618, \"ground_truth_volume_small\": 0.8, \"calculated_volume_small\": 0.0, \"ground_truth_mass_large\": 39.3, \"calculated_mass_large\": 36.82690251, \"ground_truth_mass_medium\": 8.5, \"calculated_mass_medium\": 7.779766474, \"ground_truth_mass_small\": 0.3, \"calculated_mass_small\": 0.0, \"Rep\": \"Large5\"}, {\"inserts\": \"High Density\", \"ground_truth_volume_large\": 98.2, \"calculated_volume_large\": 96.91470335, \"ground_truth_volume_medium\": 21.2, \"calculated_volume_medium\": 18.39995246, \"ground_truth_volume_small\": 0.8, \"calculated_volume_small\": 1.765717325, \"ground_truth_mass_large\": 78.5, \"calculated_mass_large\": 77.53176268, \"ground_truth_mass_medium\": 17.0, \"calculated_mass_medium\": 14.71996197, \"ground_truth_mass_small\": 0.6, \"calculated_mass_small\": 1.41257386, \"Rep\": \"Large5\"}, {\"inserts\": \"Low Density\", \"ground_truth_volume_large\": 98.2, \"calculated_volume_large\": 97.18777638, \"ground_truth_volume_medium\": 21.2, \"calculated_volume_medium\": 21.81135208, \"ground_truth_volume_small\": 0.8, \"calculated_volume_small\": 0.190185275, \"ground_truth_mass_large\": 19.6, \"calculated_mass_large\": 19.43755528, \"ground_truth_mass_medium\": 4.2, \"calculated_mass_medium\": 4.362270416, \"ground_truth_mass_small\": 0.2, \"calculated_mass_small\": 0.038037055, \"Rep\": \"Small1\"}, {\"inserts\": \"Medium Density\", \"ground_truth_volume_large\": 98.2, \"calculated_volume_large\": 98.41114623, \"ground_truth_volume_medium\": 21.2, \"calculated_volume_medium\": 18.27190485, \"ground_truth_volume_small\": 0.8, \"calculated_volume_small\": 0.420247548, \"ground_truth_mass_large\": 39.3, \"calculated_mass_large\": 39.36445849, \"ground_truth_mass_medium\": 8.5, \"calculated_mass_medium\": 7.308761939, \"ground_truth_mass_small\": 0.3, \"calculated_mass_small\": 0.168099019, \"Rep\": \"Small1\"}, {\"inserts\": \"High Density\", \"ground_truth_volume_large\": 98.2, \"calculated_volume_large\": 104.0975579, \"ground_truth_volume_medium\": 21.2, \"calculated_volume_medium\": 19.66363745, \"ground_truth_volume_small\": 0.8, \"calculated_volume_small\": 0.546417794, \"ground_truth_mass_large\": 78.5, \"calculated_mass_large\": 83.27804633, \"ground_truth_mass_medium\": 17.0, \"calculated_mass_medium\": 15.73090996, \"ground_truth_mass_small\": 0.6, \"calculated_mass_small\": 0.437134235, \"Rep\": \"Small1\"}, {\"inserts\": \"Low Density\", \"ground_truth_volume_large\": 98.2, \"calculated_volume_large\": 99.03639098, \"ground_truth_volume_medium\": 21.2, \"calculated_volume_medium\": 22.89151009, \"ground_truth_volume_small\": 0.8, \"calculated_volume_small\": 0.229204603, \"ground_truth_mass_large\": 19.6, \"calculated_mass_large\": 19.8072782, \"ground_truth_mass_medium\": 4.2, \"calculated_mass_medium\": 4.578302017, \"ground_truth_mass_small\": 0.2, \"calculated_mass_small\": 0.045840921, \"Rep\": \"Small2\"}, {\"inserts\": \"Medium Density\", \"ground_truth_volume_large\": 98.2, \"calculated_volume_large\": 100.4061777, \"ground_truth_volume_medium\": 21.2, \"calculated_volume_medium\": 18.98377462, \"ground_truth_volume_small\": 0.8, \"calculated_volume_small\": 0.238367133, \"ground_truth_mass_large\": 39.3, \"calculated_mass_large\": 40.16247106, \"ground_truth_mass_medium\": 8.5, \"calculated_mass_medium\": 7.593509847, \"ground_truth_mass_small\": 0.3, \"calculated_mass_small\": 0.095346853, \"Rep\": \"Small2\"}, {\"inserts\": \"High Density\", \"ground_truth_volume_large\": 98.2, \"calculated_volume_large\": 109.1660088, \"ground_truth_volume_medium\": 21.2, \"calculated_volume_medium\": 20.32379396, \"ground_truth_volume_small\": 0.8, \"calculated_volume_small\": 0.620835378, \"ground_truth_mass_large\": 78.5, \"calculated_mass_large\": 87.33280703, \"ground_truth_mass_medium\": 17.0, \"calculated_mass_medium\": 16.25903517, \"ground_truth_mass_small\": 0.6, \"calculated_mass_small\": 0.496668303, \"Rep\": \"Small2\"}, {\"inserts\": \"Low Density\", \"ground_truth_volume_large\": 98.2, \"calculated_volume_large\": 97.96971288, \"ground_truth_volume_medium\": 21.2, \"calculated_volume_medium\": 17.47789859, \"ground_truth_volume_small\": 0.8, \"calculated_volume_small\": 0.413759873, \"ground_truth_mass_large\": 19.6, \"calculated_mass_large\": 19.59394258, \"ground_truth_mass_medium\": 4.2, \"calculated_mass_medium\": 3.495579717, \"ground_truth_mass_small\": 0.2, \"calculated_mass_small\": 0.082751975, \"Rep\": \"Small3\"}, {\"inserts\": \"Medium Density\", \"ground_truth_volume_large\": 98.2, \"calculated_volume_large\": 100.0385408, \"ground_truth_volume_medium\": 21.2, \"calculated_volume_medium\": 18.69545607, \"ground_truth_volume_small\": 0.8, \"calculated_volume_small\": 0.05777456, \"ground_truth_mass_large\": 39.3, \"calculated_mass_large\": 40.01541632, \"ground_truth_mass_medium\": 8.5, \"calculated_mass_medium\": 7.478182427, \"ground_truth_mass_small\": 0.3, \"calculated_mass_small\": 0.023109824, \"Rep\": \"Small3\"}, {\"inserts\": \"High Density\", \"ground_truth_volume_large\": 98.2, \"calculated_volume_large\": 107.6768012, \"ground_truth_volume_medium\": 21.2, \"calculated_volume_medium\": 18.32032539, \"ground_truth_volume_small\": 0.8, \"calculated_volume_small\": 0.387210997, \"ground_truth_mass_large\": 78.5, \"calculated_mass_large\": 86.141441, \"ground_truth_mass_medium\": 17.0, \"calculated_mass_medium\": 14.65626031, \"ground_truth_mass_small\": 0.6, \"calculated_mass_small\": 0.309768798, \"Rep\": \"Small3\"}, {\"inserts\": \"Low Density\", \"ground_truth_volume_large\": 98.2, \"calculated_volume_large\": 99.2560325, \"ground_truth_volume_medium\": 21.2, \"calculated_volume_medium\": 18.65631344, \"ground_truth_volume_small\": 0.8, \"calculated_volume_small\": 0.159433564, \"ground_truth_mass_large\": 19.6, \"calculated_mass_large\": 19.8512065, \"ground_truth_mass_medium\": 4.2, \"calculated_mass_medium\": 3.731262689, \"ground_truth_mass_small\": 0.2, \"calculated_mass_small\": 0.031886713, \"Rep\": \"Small4\"}, {\"inserts\": \"Medium Density\", \"ground_truth_volume_large\": 98.2, \"calculated_volume_large\": 94.43796672, \"ground_truth_volume_medium\": 21.2, \"calculated_volume_medium\": 17.6442006, \"ground_truth_volume_small\": 0.8, \"calculated_volume_small\": 0.0, \"ground_truth_mass_large\": 39.3, \"calculated_mass_large\": 37.77518669, \"ground_truth_mass_medium\": 8.5, \"calculated_mass_medium\": 7.057680238, \"ground_truth_mass_small\": 0.3, \"calculated_mass_small\": 0.0, \"Rep\": \"Small4\"}, {\"inserts\": \"High Density\", \"ground_truth_volume_large\": 98.2, \"calculated_volume_large\": 103.3537128, \"ground_truth_volume_medium\": 21.2, \"calculated_volume_medium\": 18.13089158, \"ground_truth_volume_small\": 0.8, \"calculated_volume_small\": 0.863499162, \"ground_truth_mass_large\": 78.5, \"calculated_mass_large\": 82.68297027, \"ground_truth_mass_medium\": 17.0, \"calculated_mass_medium\": 14.50471326, \"ground_truth_mass_small\": 0.6, \"calculated_mass_small\": 0.69079933, \"Rep\": \"Small4\"}, {\"inserts\": \"Low Density\", \"ground_truth_volume_large\": 98.2, \"calculated_volume_large\": 93.72394125, \"ground_truth_volume_medium\": 21.2, \"calculated_volume_medium\": 20.03175368, \"ground_truth_volume_small\": 0.8, \"calculated_volume_small\": 0.468032142, \"ground_truth_mass_large\": 19.6, \"calculated_mass_large\": 18.74478825, \"ground_truth_mass_medium\": 4.2, \"calculated_mass_medium\": 4.006350737, \"ground_truth_mass_small\": 0.2, \"calculated_mass_small\": 0.093606428, \"Rep\": \"Small5\"}, {\"inserts\": \"Medium Density\", \"ground_truth_volume_large\": 98.2, \"calculated_volume_large\": 104.0082488, \"ground_truth_volume_medium\": 21.2, \"calculated_volume_medium\": 18.35964962, \"ground_truth_volume_small\": 0.8, \"calculated_volume_small\": 0.0, \"ground_truth_mass_large\": 39.3, \"calculated_mass_large\": 41.60329954, \"ground_truth_mass_medium\": 8.5, \"calculated_mass_medium\": 7.343859846, \"ground_truth_mass_small\": 0.3, \"calculated_mass_small\": 0.0, \"Rep\": \"Small5\"}, {\"inserts\": \"High Density\", \"ground_truth_volume_large\": 98.2, \"calculated_volume_large\": 109.4403342, \"ground_truth_volume_medium\": 21.2, \"calculated_volume_medium\": 19.31398555, \"ground_truth_volume_small\": 0.8, \"calculated_volume_small\": 0.612192665, \"ground_truth_mass_large\": 78.5, \"calculated_mass_large\": 87.55226735, \"ground_truth_mass_medium\": 17.0, \"calculated_mass_medium\": 15.45118844, \"ground_truth_mass_small\": 0.6, \"calculated_mass_small\": 0.489754132, \"Rep\": \"Small5\"}], \"data-29f836ef7b03879444176699dbf3efbd\": [{\"inserts\": \"Low Density\", \"ground_truth_volume_large\": 98.2, \"calculated_volume_large\": 111.7697287, \"ground_truth_volume_medium\": 21.2, \"calculated_volume_medium\": 26.48512352, \"ground_truth_volume_small\": 0.8, \"calculated_volume_small\": 0.531044894, \"ground_truth_mass_large\": 19.6, \"calculated_mass_large\": 22.35394573, \"ground_truth_mass_medium\": 4.2, \"calculated_mass_medium\": 5.297024704, \"ground_truth_mass_small\": 0.2, \"calculated_mass_small\": 0.106208979, \"Rep\": \"Large1\"}, {\"inserts\": \"Medium Density\", \"ground_truth_volume_large\": 98.2, \"calculated_volume_large\": 102.499495, \"ground_truth_volume_medium\": 21.2, \"calculated_volume_medium\": 17.45417812, \"ground_truth_volume_small\": 0.8, \"calculated_volume_small\": 0.0, \"ground_truth_mass_large\": 39.3, \"calculated_mass_large\": 40.999798, \"ground_truth_mass_medium\": 8.5, \"calculated_mass_medium\": 6.981671246, \"ground_truth_mass_small\": 0.3, \"calculated_mass_small\": 0.0, \"Rep\": \"Large1\"}, {\"inserts\": \"High Density\", \"ground_truth_volume_large\": 98.2, \"calculated_volume_large\": 110.8912734, \"ground_truth_volume_medium\": 21.2, \"calculated_volume_medium\": 19.15604124, \"ground_truth_volume_small\": 0.8, \"calculated_volume_small\": 0.810060996, \"ground_truth_mass_large\": 78.5, \"calculated_mass_large\": 88.71301869, \"ground_truth_mass_medium\": 17.0, \"calculated_mass_medium\": 15.32483299, \"ground_truth_mass_small\": 0.6, \"calculated_mass_small\": 0.648048797, \"Rep\": \"Large1\"}, {\"inserts\": \"Low Density\", \"ground_truth_volume_large\": 98.2, \"calculated_volume_large\": 119.2557084, \"ground_truth_volume_medium\": 21.2, \"calculated_volume_medium\": 26.29419993, \"ground_truth_volume_small\": 0.8, \"calculated_volume_small\": 0.147551956, \"ground_truth_mass_large\": 19.6, \"calculated_mass_large\": 23.85114168, \"ground_truth_mass_medium\": 4.2, \"calculated_mass_medium\": 5.258839986, \"ground_truth_mass_small\": 0.2, \"calculated_mass_small\": 0.029510391, \"Rep\": \"Large2\"}, {\"inserts\": \"Medium Density\", \"ground_truth_volume_large\": 98.2, \"calculated_volume_large\": 103.7402806, \"ground_truth_volume_medium\": 21.2, \"calculated_volume_medium\": 18.09573134, \"ground_truth_volume_small\": 0.8, \"calculated_volume_small\": 0.316350105, \"ground_truth_mass_large\": 39.3, \"calculated_mass_large\": 41.49611224, \"ground_truth_mass_medium\": 8.5, \"calculated_mass_medium\": 7.238292535, \"ground_truth_mass_small\": 0.3, \"calculated_mass_small\": 0.126540042, \"Rep\": \"Large2\"}, {\"inserts\": \"High Density\", \"ground_truth_volume_large\": 98.2, \"calculated_volume_large\": 110.7977678, \"ground_truth_volume_medium\": 21.2, \"calculated_volume_medium\": 19.1933594, \"ground_truth_volume_small\": 0.8, \"calculated_volume_small\": 1.402605145, \"ground_truth_mass_large\": 78.5, \"calculated_mass_large\": 88.63821425, \"ground_truth_mass_medium\": 17.0, \"calculated_mass_medium\": 15.35468752, \"ground_truth_mass_small\": 0.6, \"calculated_mass_small\": 1.122084116, \"Rep\": \"Large2\"}, {\"inserts\": \"Low Density\", \"ground_truth_volume_large\": 98.2, \"calculated_volume_large\": 119.3964723, \"ground_truth_volume_medium\": 21.2, \"calculated_volume_medium\": 26.86125207, \"ground_truth_volume_small\": 0.8, \"calculated_volume_small\": 0.113854024, \"ground_truth_mass_large\": 19.6, \"calculated_mass_large\": 23.87929445, \"ground_truth_mass_medium\": 4.2, \"calculated_mass_medium\": 5.372250415, \"ground_truth_mass_small\": 0.2, \"calculated_mass_small\": 0.022770805, \"Rep\": \"Large3\"}, {\"inserts\": \"Medium Density\", \"ground_truth_volume_large\": 98.2, \"calculated_volume_large\": 105.1468287, \"ground_truth_volume_medium\": 21.2, \"calculated_volume_medium\": 15.8802292, \"ground_truth_volume_small\": 0.8, \"calculated_volume_small\": 0.697342414, \"ground_truth_mass_large\": 39.3, \"calculated_mass_large\": 42.05873146, \"ground_truth_mass_medium\": 8.5, \"calculated_mass_medium\": 6.35209168, \"ground_truth_mass_small\": 0.3, \"calculated_mass_small\": 0.278936965, \"Rep\": \"Large3\"}, {\"inserts\": \"High Density\", \"ground_truth_volume_large\": 98.2, \"calculated_volume_large\": 107.8172025, \"ground_truth_volume_medium\": 21.2, \"calculated_volume_medium\": 19.18353115, \"ground_truth_volume_small\": 0.8, \"calculated_volume_small\": 1.355775016, \"ground_truth_mass_large\": 78.5, \"calculated_mass_large\": 86.25376199, \"ground_truth_mass_medium\": 17.0, \"calculated_mass_medium\": 15.34682492, \"ground_truth_mass_small\": 0.6, \"calculated_mass_small\": 1.084620013, \"Rep\": \"Large3\"}, {\"inserts\": \"Low Density\", \"ground_truth_volume_large\": 98.2, \"calculated_volume_large\": 110.6650258, \"ground_truth_volume_medium\": 21.2, \"calculated_volume_medium\": 35.68278179, \"ground_truth_volume_small\": 0.8, \"calculated_volume_small\": 0.0, \"ground_truth_mass_large\": 19.6, \"calculated_mass_large\": 22.13300516, \"ground_truth_mass_medium\": 4.2, \"calculated_mass_medium\": 7.136556357, \"ground_truth_mass_small\": 0.2, \"calculated_mass_small\": 0.0, \"Rep\": \"Large4\"}, {\"inserts\": \"Medium Density\", \"ground_truth_volume_large\": 98.2, \"calculated_volume_large\": 111.4077375, \"ground_truth_volume_medium\": 21.2, \"calculated_volume_medium\": 18.33124558, \"ground_truth_volume_small\": 0.8, \"calculated_volume_small\": 0.730206886, \"ground_truth_mass_large\": 39.3, \"calculated_mass_large\": 44.563095, \"ground_truth_mass_medium\": 8.5, \"calculated_mass_medium\": 7.332498233, \"ground_truth_mass_small\": 0.3, \"calculated_mass_small\": 0.292082754, \"Rep\": \"Large4\"}, {\"inserts\": \"High Density\", \"ground_truth_volume_large\": 98.2, \"calculated_volume_large\": 122.3507912, \"ground_truth_volume_medium\": 21.2, \"calculated_volume_medium\": 17.55905567, \"ground_truth_volume_small\": 0.8, \"calculated_volume_small\": 0.703332435, \"ground_truth_mass_large\": 78.5, \"calculated_mass_large\": 97.88063298, \"ground_truth_mass_medium\": 17.0, \"calculated_mass_medium\": 14.04724454, \"ground_truth_mass_small\": 0.6, \"calculated_mass_small\": 0.562665948, \"Rep\": \"Large4\"}, {\"inserts\": \"Low Density\", \"ground_truth_volume_large\": 98.2, \"calculated_volume_large\": 115.7848383, \"ground_truth_volume_medium\": 21.2, \"calculated_volume_medium\": 21.51612563, \"ground_truth_volume_small\": 0.8, \"calculated_volume_small\": 0.723830946, \"ground_truth_mass_large\": 19.6, \"calculated_mass_large\": 23.15696765, \"ground_truth_mass_medium\": 4.2, \"calculated_mass_medium\": 4.303225126, \"ground_truth_mass_small\": 0.2, \"calculated_mass_small\": 0.144766189, \"Rep\": \"Large5\"}, {\"inserts\": \"Medium Density\", \"ground_truth_volume_large\": 98.2, \"calculated_volume_large\": 109.0938025, \"ground_truth_volume_medium\": 21.2, \"calculated_volume_medium\": 22.99494247, \"ground_truth_volume_small\": 0.8, \"calculated_volume_small\": 0.0, \"ground_truth_mass_large\": 39.3, \"calculated_mass_large\": 43.63752099, \"ground_truth_mass_medium\": 8.5, \"calculated_mass_medium\": 9.197976986, \"ground_truth_mass_small\": 0.3, \"calculated_mass_small\": 0.0, \"Rep\": \"Large5\"}, {\"inserts\": \"High Density\", \"ground_truth_volume_large\": 98.2, \"calculated_volume_large\": 110.9326873, \"ground_truth_volume_medium\": 21.2, \"calculated_volume_medium\": 21.09643724, \"ground_truth_volume_small\": 0.8, \"calculated_volume_small\": 2.022274116, \"ground_truth_mass_large\": 78.5, \"calculated_mass_large\": 88.74614983, \"ground_truth_mass_medium\": 17.0, \"calculated_mass_medium\": 16.87714979, \"ground_truth_mass_small\": 0.6, \"calculated_mass_small\": 1.617819293, \"Rep\": \"Large5\"}, {\"inserts\": \"Low Density\", \"ground_truth_volume_large\": 98.2, \"calculated_volume_large\": 115.9370048, \"ground_truth_volume_medium\": 21.2, \"calculated_volume_medium\": 25.95493773, \"ground_truth_volume_small\": 0.8, \"calculated_volume_small\": 0.215802452, \"ground_truth_mass_large\": 19.6, \"calculated_mass_large\": 23.18740097, \"ground_truth_mass_medium\": 4.2, \"calculated_mass_medium\": 5.190987547, \"ground_truth_mass_small\": 0.2, \"calculated_mass_small\": 0.04316049, \"Rep\": \"Small1\"}, {\"inserts\": \"Medium Density\", \"ground_truth_volume_large\": 98.2, \"calculated_volume_large\": 113.2906037, \"ground_truth_volume_medium\": 21.2, \"calculated_volume_medium\": 21.043821, \"ground_truth_volume_small\": 0.8, \"calculated_volume_small\": 0.476742083, \"ground_truth_mass_large\": 39.3, \"calculated_mass_large\": 45.31624148, \"ground_truth_mass_medium\": 8.5, \"calculated_mass_medium\": 8.4175284, \"ground_truth_mass_small\": 0.3, \"calculated_mass_small\": 0.190696833, \"Rep\": \"Small1\"}, {\"inserts\": \"High Density\", \"ground_truth_volume_large\": 98.2, \"calculated_volume_large\": 117.9882938, \"ground_truth_volume_medium\": 21.2, \"calculated_volume_medium\": 22.29502453, \"ground_truth_volume_small\": 0.8, \"calculated_volume_small\": 0.619843332, \"ground_truth_mass_large\": 78.5, \"calculated_mass_large\": 94.39063505, \"ground_truth_mass_medium\": 17.0, \"calculated_mass_medium\": 17.83601963, \"ground_truth_mass_small\": 0.6, \"calculated_mass_small\": 0.495874666, \"Rep\": \"Small1\"}, {\"inserts\": \"Low Density\", \"ground_truth_volume_large\": 98.2, \"calculated_volume_large\": 105.1986783, \"ground_truth_volume_medium\": 21.2, \"calculated_volume_medium\": 24.31150652, \"ground_truth_volume_small\": 0.8, \"calculated_volume_small\": 0.223621866, \"ground_truth_mass_large\": 19.6, \"calculated_mass_large\": 21.03973566, \"ground_truth_mass_medium\": 4.2, \"calculated_mass_medium\": 4.862301304, \"ground_truth_mass_small\": 0.2, \"calculated_mass_small\": 0.044724373, \"Rep\": \"Small2\"}, {\"inserts\": \"Medium Density\", \"ground_truth_volume_large\": 98.2, \"calculated_volume_large\": 100.456552, \"ground_truth_volume_medium\": 21.2, \"calculated_volume_medium\": 18.99330036, \"ground_truth_volume_small\": 0.8, \"calculated_volume_small\": 0.232555171, \"ground_truth_mass_large\": 39.3, \"calculated_mass_large\": 40.18262078, \"ground_truth_mass_medium\": 8.5, \"calculated_mass_medium\": 7.597320143, \"ground_truth_mass_small\": 0.3, \"calculated_mass_small\": 0.093022068, \"Rep\": \"Small2\"}, {\"inserts\": \"High Density\", \"ground_truth_volume_large\": 98.2, \"calculated_volume_large\": 106.5432778, \"ground_truth_volume_medium\": 21.2, \"calculated_volume_medium\": 19.82901537, \"ground_truth_volume_small\": 0.8, \"calculated_volume_small\": 0.605742508, \"ground_truth_mass_large\": 78.5, \"calculated_mass_large\": 85.23462223, \"ground_truth_mass_medium\": 17.0, \"calculated_mass_medium\": 15.86321229, \"ground_truth_mass_small\": 0.6, \"calculated_mass_small\": 0.484594007, \"Rep\": \"Small2\"}, {\"inserts\": \"Low Density\", \"ground_truth_volume_large\": 98.2, \"calculated_volume_large\": 114.8811307, \"ground_truth_volume_medium\": 21.2, \"calculated_volume_medium\": 20.49292348, \"ground_truth_volume_small\": 0.8, \"calculated_volume_small\": 0.465132673, \"ground_truth_mass_large\": 19.6, \"calculated_mass_large\": 22.97622615, \"ground_truth_mass_medium\": 4.2, \"calculated_mass_medium\": 4.098584697, \"ground_truth_mass_small\": 0.2, \"calculated_mass_small\": 0.093026535, \"Rep\": \"Small3\"}, {\"inserts\": \"Medium Density\", \"ground_truth_volume_large\": 98.2, \"calculated_volume_large\": 113.8508181, \"ground_truth_volume_medium\": 21.2, \"calculated_volume_medium\": 21.27455469, \"ground_truth_volume_small\": 0.8, \"calculated_volume_small\": 0.064950443, \"ground_truth_mass_large\": 39.3, \"calculated_mass_large\": 45.54032723, \"ground_truth_mass_medium\": 8.5, \"calculated_mass_medium\": 8.509821876, \"ground_truth_mass_small\": 0.3, \"calculated_mass_small\": 0.025980177, \"Rep\": \"Small3\"}, {\"inserts\": \"High Density\", \"ground_truth_volume_large\": 98.2, \"calculated_volume_large\": 120.8258552, \"ground_truth_volume_medium\": 21.2, \"calculated_volume_medium\": 20.58943192, \"ground_truth_volume_small\": 0.8, \"calculated_volume_small\": 0.435288411, \"ground_truth_mass_large\": 78.5, \"calculated_mass_large\": 96.66068413, \"ground_truth_mass_medium\": 17.0, \"calculated_mass_medium\": 16.47154554, \"ground_truth_mass_small\": 0.6, \"calculated_mass_small\": 0.348230729, \"Rep\": \"Small3\"}, {\"inserts\": \"Low Density\", \"ground_truth_volume_large\": 98.2, \"calculated_volume_large\": 116.3154186, \"ground_truth_volume_medium\": 21.2, \"calculated_volume_medium\": 21.84560788, \"ground_truth_volume_small\": 0.8, \"calculated_volume_small\": 0.17370539, \"ground_truth_mass_large\": 19.6, \"calculated_mass_large\": 23.26308373, \"ground_truth_mass_medium\": 4.2, \"calculated_mass_medium\": 4.369121576, \"ground_truth_mass_small\": 0.2, \"calculated_mass_small\": 0.034741078, \"Rep\": \"Small4\"}, {\"inserts\": \"Medium Density\", \"ground_truth_volume_large\": 98.2, \"calculated_volume_large\": 105.1556972, \"ground_truth_volume_medium\": 21.2, \"calculated_volume_medium\": 19.64143958, \"ground_truth_volume_small\": 0.8, \"calculated_volume_small\": 0.0, \"ground_truth_mass_large\": 39.3, \"calculated_mass_large\": 42.06227888, \"ground_truth_mass_medium\": 8.5, \"calculated_mass_medium\": 7.856575831, \"ground_truth_mass_small\": 0.3, \"calculated_mass_small\": 0.0, \"Rep\": \"Small4\"}, {\"inserts\": \"High Density\", \"ground_truth_volume_large\": 98.2, \"calculated_volume_large\": 112.5067565, \"ground_truth_volume_medium\": 21.2, \"calculated_volume_medium\": 19.74763706, \"ground_truth_volume_small\": 0.8, \"calculated_volume_small\": 0.940446459, \"ground_truth_mass_large\": 78.5, \"calculated_mass_large\": 90.00540523, \"ground_truth_mass_medium\": 17.0, \"calculated_mass_medium\": 15.79810965, \"ground_truth_mass_small\": 0.6, \"calculated_mass_small\": 0.752357167, \"Rep\": \"Small4\"}, {\"inserts\": \"Low Density\", \"ground_truth_volume_large\": 98.2, \"calculated_volume_large\": 97.10338755, \"ground_truth_volume_medium\": 21.2, \"calculated_volume_medium\": 20.73964795, \"ground_truth_volume_small\": 0.8, \"calculated_volume_small\": 0.481651325, \"ground_truth_mass_large\": 19.6, \"calculated_mass_large\": 19.42067751, \"ground_truth_mass_medium\": 4.2, \"calculated_mass_medium\": 4.147929591, \"ground_truth_mass_small\": 0.2, \"calculated_mass_small\": 0.096330265, \"Rep\": \"Small5\"}, {\"inserts\": \"Medium Density\", \"ground_truth_volume_large\": 98.2, \"calculated_volume_large\": 107.2094347, \"ground_truth_volume_medium\": 21.2, \"calculated_volume_medium\": 18.9299214, \"ground_truth_volume_small\": 0.8, \"calculated_volume_small\": 0.0, \"ground_truth_mass_large\": 39.3, \"calculated_mass_large\": 42.8837739, \"ground_truth_mass_medium\": 8.5, \"calculated_mass_medium\": 7.571968559, \"ground_truth_mass_small\": 0.3, \"calculated_mass_small\": 0.0, \"Rep\": \"Small5\"}, {\"inserts\": \"High Density\", \"ground_truth_volume_large\": 98.2, \"calculated_volume_large\": 112.5880567, \"ground_truth_volume_medium\": 21.2, \"calculated_volume_medium\": 19.87702426, \"ground_truth_volume_small\": 0.8, \"calculated_volume_small\": 0.630074149, \"ground_truth_mass_large\": 78.5, \"calculated_mass_large\": 90.07044537, \"ground_truth_mass_medium\": 17.0, \"calculated_mass_medium\": 15.90161941, \"ground_truth_mass_small\": 0.6, \"calculated_mass_small\": 0.504059319, \"Rep\": \"Small5\"}]}}, {\"mode\": \"vega-lite\"});\n</script>",
      "text/plain": "alt.HConcatChart(...)"
     },
     "metadata": {}
    }
   ],
   "execution_count": 138
  },
  {
   "cell_type": "markdown",
   "source": "### Mass Score: Medium Inserts",
   "metadata": {
    "cell_id": "92892fdb-dc2e-449b-b749-bff5e45ed3c0",
    "tags": [],
    "is_collapsed": false,
    "deepnote_cell_type": "text-cell-h3"
   }
  },
  {
   "cell_type": "code",
   "source": "X_PP2_M = PP2.ground_truth_mass_medium.to_numpy().reshape(-1,1)\ny_PP2_M = PP2.calculated_mass_medium.to_numpy().reshape(-1,1)\nreg_PP2_M = LinearRegression().fit(X_PP2_M,y_PP2_M)\nPP2_scoreM = reg_PP2_M.score(X_PP2_M,y_PP2_M)\nPP2_scoreM",
   "metadata": {
    "cell_id": "a0185e9a-767c-4bd4-9e82-5173657b95b7",
    "tags": [],
    "deepnote_to_be_reexecuted": false,
    "source_hash": "8e0c3e96",
    "execution_start": 1643835468279,
    "execution_millis": 14,
    "deepnote_output_heights": [
     21.1875
    ],
    "deepnote_cell_type": "code"
   },
   "outputs": [
    {
     "output_type": "execute_result",
     "execution_count": 42,
     "data": {
      "text/plain": "0.9589442418628252"
     },
     "metadata": {}
    }
   ],
   "execution_count": 42
  },
  {
   "cell_type": "code",
   "source": "p2M,h2M = [reg_PP2_M.coef_[0,0],reg_PP2_M.intercept_[0]]\nprint(\"y = {} x + {}\".format(str(p2M),str(h2M)))",
   "metadata": {
    "cell_id": "d3b6ec8a-6fd8-4ab3-a9b0-e517219afb00",
    "tags": [],
    "deepnote_to_be_reexecuted": false,
    "source_hash": "9cb01ca3",
    "execution_start": 1643835468343,
    "execution_millis": 6,
    "deepnote_cell_type": "code"
   },
   "outputs": [
    {
     "name": "stdout",
     "text": "y = 0.8282101440457221 x + 0.45786022491401646\n",
     "output_type": "stream"
    }
   ],
   "execution_count": 43
  },
  {
   "cell_type": "code",
   "source": "X_PP3_M = PP3.ground_truth_mass_medium.to_numpy().reshape(-1,1)\ny_PP3_M = PP3.calculated_mass_medium.to_numpy().reshape(-1,1)\nreg_PP3_M = LinearRegression().fit(X_PP3_M,y_PP3_M)\nPP3_scoreM = reg_PP3_M.score(X_PP3_M,y_PP3_M)\nPP3_scoreM",
   "metadata": {
    "cell_id": "201868df-5032-47fe-8546-c22013e17e52",
    "tags": [],
    "deepnote_to_be_reexecuted": false,
    "source_hash": "c9d25a26",
    "execution_start": 1643835468344,
    "execution_millis": 5,
    "deepnote_output_heights": [
     21.1875
    ],
    "deepnote_cell_type": "code"
   },
   "outputs": [
    {
     "output_type": "execute_result",
     "execution_count": 44,
     "data": {
      "text/plain": "0.9567706164318938"
     },
     "metadata": {}
    }
   ],
   "execution_count": 44
  },
  {
   "cell_type": "code",
   "source": "p3M,h3M = [reg_PP3_M.coef_[0,0],reg_PP3_M.intercept_[0]]\nprint(\"y = {} x + {}\".format(str(p3M),str(h3M)))",
   "metadata": {
    "cell_id": "4fe5036e-22e1-4304-98ed-6fee73d60ebd",
    "tags": [],
    "deepnote_to_be_reexecuted": false,
    "source_hash": "6c3c02a1",
    "execution_start": 1643835468346,
    "execution_millis": 42,
    "deepnote_cell_type": "code"
   },
   "outputs": [
    {
     "name": "stdout",
     "text": "y = 0.8655938292202449 x + 0.9610815264529133\n",
     "output_type": "stream"
    }
   ],
   "execution_count": 45
  },
  {
   "cell_type": "code",
   "metadata": {
    "cell_id": "89f195df-b47f-4d31-92bd-c467662547a0",
    "tags": [],
    "deepnote_to_be_reexecuted": false,
    "source_hash": "6d18880",
    "execution_start": 1643836450625,
    "execution_millis": 257,
    "deepnote_output_heights": [
     363
    ],
    "deepnote_cell_type": "code"
   },
   "source": "PP2_medium = chart_plot_medium(PP2)\nPP3_medium = chart_plot_medium(PP3)\nPP2_medium | PP3_medium",
   "execution_count": 139,
   "outputs": [
    {
     "output_type": "execute_result",
     "execution_count": 139,
     "data": {
      "text/html": "\n<div id=\"altair-viz-c42f9bbcf2d4481788e51376710b505e\"></div>\n<script type=\"text/javascript\">\n  (function(spec, embedOpt){\n    let outputDiv = document.currentScript.previousElementSibling;\n    if (outputDiv.id !== \"altair-viz-c42f9bbcf2d4481788e51376710b505e\") {\n      outputDiv = document.getElementById(\"altair-viz-c42f9bbcf2d4481788e51376710b505e\");\n    }\n    const paths = {\n      \"vega\": \"https://cdn.jsdelivr.net/npm//vega@5?noext\",\n      \"vega-lib\": \"https://cdn.jsdelivr.net/npm//vega-lib?noext\",\n      \"vega-lite\": \"https://cdn.jsdelivr.net/npm//vega-lite@4.8.1?noext\",\n      \"vega-embed\": \"https://cdn.jsdelivr.net/npm//vega-embed@6?noext\",\n    };\n\n    function loadScript(lib) {\n      return new Promise(function(resolve, reject) {\n        var s = document.createElement('script');\n        s.src = paths[lib];\n        s.async = true;\n        s.onload = () => resolve(paths[lib]);\n        s.onerror = () => reject(`Error loading script: ${paths[lib]}`);\n        document.getElementsByTagName(\"head\")[0].appendChild(s);\n      });\n    }\n\n    function showError(err) {\n      outputDiv.innerHTML = `<div class=\"error\" style=\"color:red;\">${err}</div>`;\n      throw err;\n    }\n\n    function displayChart(vegaEmbed) {\n      vegaEmbed(outputDiv, spec, embedOpt)\n        .catch(err => showError(`Javascript Error: ${err.message}<br>This usually means there's a typo in your chart specification. See the javascript console for the full traceback.`));\n    }\n\n    if(typeof define === \"function\" && define.amd) {\n      requirejs.config({paths});\n      require([\"vega-embed\"], displayChart, err => showError(`Error loading script: ${err.message}`));\n    } else if (typeof vegaEmbed === \"function\") {\n      displayChart(vegaEmbed);\n    } else {\n      loadScript(\"vega\")\n        .then(() => loadScript(\"vega-lite\"))\n        .then(() => loadScript(\"vega-embed\"))\n        .catch(showError)\n        .then(() => displayChart(vegaEmbed));\n    }\n  })({\"config\": {\"view\": {\"continuousWidth\": 400, \"continuousHeight\": 300}}, \"hconcat\": [{\"layer\": [{\"mark\": \"circle\", \"encoding\": {\"color\": {\"type\": \"nominal\", \"field\": \"Rep\"}, \"tooltip\": [{\"type\": \"quantitative\", \"field\": \"ground_truth_volume_medium\"}, {\"type\": \"quantitative\", \"field\": \"calculated_volume_medium\"}, {\"type\": \"nominal\", \"field\": \"Rep\"}], \"x\": {\"type\": \"quantitative\", \"field\": \"ground_truth_mass_medium\"}, \"y\": {\"type\": \"quantitative\", \"field\": \"calculated_mass_medium\"}}}, {\"mark\": \"line\", \"encoding\": {\"color\": {\"type\": \"nominal\", \"field\": \"Rep\"}, \"tooltip\": [{\"type\": \"quantitative\", \"field\": \"ground_truth_volume_medium\"}, {\"type\": \"quantitative\", \"field\": \"calculated_volume_medium\"}, {\"type\": \"nominal\", \"field\": \"Rep\"}], \"x\": {\"type\": \"quantitative\", \"field\": \"ground_truth_mass_medium\"}, \"y\": {\"type\": \"quantitative\", \"field\": \"calculated_mass_medium\"}}, \"transform\": [{\"on\": \"ground_truth_mass_medium\", \"regression\": \"calculated_mass_medium\", \"method\": \"linear\"}]}, {\"mark\": {\"type\": \"line\", \"color\": \"red\"}, \"encoding\": {\"x\": {\"type\": \"quantitative\", \"field\": \"ground_truth_mass_medium\"}, \"y\": {\"type\": \"quantitative\", \"field\": \"ground_truth_mass_medium\"}}}], \"data\": {\"name\": \"data-06812c7701d94fb02baf5d9dd1ad3a30\"}}, {\"layer\": [{\"mark\": \"circle\", \"encoding\": {\"color\": {\"type\": \"nominal\", \"field\": \"Rep\"}, \"tooltip\": [{\"type\": \"quantitative\", \"field\": \"ground_truth_volume_medium\"}, {\"type\": \"quantitative\", \"field\": \"calculated_volume_medium\"}, {\"type\": \"nominal\", \"field\": \"Rep\"}], \"x\": {\"type\": \"quantitative\", \"field\": \"ground_truth_mass_medium\"}, \"y\": {\"type\": \"quantitative\", \"field\": \"calculated_mass_medium\"}}}, {\"mark\": \"line\", \"encoding\": {\"color\": {\"type\": \"nominal\", \"field\": \"Rep\"}, \"tooltip\": [{\"type\": \"quantitative\", \"field\": \"ground_truth_volume_medium\"}, {\"type\": \"quantitative\", \"field\": \"calculated_volume_medium\"}, {\"type\": \"nominal\", \"field\": \"Rep\"}], \"x\": {\"type\": \"quantitative\", \"field\": \"ground_truth_mass_medium\"}, \"y\": {\"type\": \"quantitative\", \"field\": \"calculated_mass_medium\"}}, \"transform\": [{\"on\": \"ground_truth_mass_medium\", \"regression\": \"calculated_mass_medium\", \"method\": \"linear\"}]}, {\"mark\": {\"type\": \"line\", \"color\": \"red\"}, \"encoding\": {\"x\": {\"type\": \"quantitative\", \"field\": \"ground_truth_mass_medium\"}, \"y\": {\"type\": \"quantitative\", \"field\": \"ground_truth_mass_medium\"}}}], \"data\": {\"name\": \"data-29f836ef7b03879444176699dbf3efbd\"}}], \"$schema\": \"https://vega.github.io/schema/vega-lite/v4.8.1.json\", \"datasets\": {\"data-06812c7701d94fb02baf5d9dd1ad3a30\": [{\"inserts\": \"Low Density\", \"ground_truth_volume_large\": 98.2, \"calculated_volume_large\": 96.86942096, \"ground_truth_volume_medium\": 21.2, \"calculated_volume_medium\": 22.93489953, \"ground_truth_volume_small\": 0.8, \"calculated_volume_small\": 0.505978314, \"ground_truth_mass_large\": 19.6, \"calculated_mass_large\": 19.37388419, \"ground_truth_mass_medium\": 4.2, \"calculated_mass_medium\": 4.586979905, \"ground_truth_mass_small\": 0.2, \"calculated_mass_small\": 0.101195663, \"Rep\": \"Large1\"}, {\"inserts\": \"Medium Density\", \"ground_truth_volume_large\": 98.2, \"calculated_volume_large\": 94.93963518, \"ground_truth_volume_medium\": 21.2, \"calculated_volume_medium\": 16.15138834, \"ground_truth_volume_small\": 0.8, \"calculated_volume_small\": 0.0, \"ground_truth_mass_large\": 39.3, \"calculated_mass_large\": 37.97585407, \"ground_truth_mass_medium\": 8.5, \"calculated_mass_medium\": 6.460555337, \"ground_truth_mass_small\": 0.3, \"calculated_mass_small\": 0.0, \"Rep\": \"Large1\"}, {\"inserts\": \"High Density\", \"ground_truth_volume_large\": 98.2, \"calculated_volume_large\": 105.7198846, \"ground_truth_volume_medium\": 21.2, \"calculated_volume_medium\": 18.25453642, \"ground_truth_volume_small\": 0.8, \"calculated_volume_small\": 0.771803343, \"ground_truth_mass_large\": 78.5, \"calculated_mass_large\": 84.57590767, \"ground_truth_mass_medium\": 17.0, \"calculated_mass_medium\": 14.60362914, \"ground_truth_mass_small\": 0.6, \"calculated_mass_small\": 0.617442675, \"Rep\": \"Large1\"}, {\"inserts\": \"Low Density\", \"ground_truth_volume_large\": 98.2, \"calculated_volume_large\": 101.7240236, \"ground_truth_volume_medium\": 21.2, \"calculated_volume_medium\": 22.46947522, \"ground_truth_volume_small\": 0.8, \"calculated_volume_small\": 0.143371242, \"ground_truth_mass_large\": 19.6, \"calculated_mass_large\": 20.34480473, \"ground_truth_mass_medium\": 4.2, \"calculated_mass_medium\": 4.493895044, \"ground_truth_mass_small\": 0.2, \"calculated_mass_small\": 0.028674248, \"Rep\": \"Large2\"}, {\"inserts\": \"Medium Density\", \"ground_truth_volume_large\": 98.2, \"calculated_volume_large\": 97.100217, \"ground_truth_volume_medium\": 21.2, \"calculated_volume_medium\": 16.93226125, \"ground_truth_volume_small\": 0.8, \"calculated_volume_small\": 0.307359953, \"ground_truth_mass_large\": 39.3, \"calculated_mass_large\": 38.8400868, \"ground_truth_mass_medium\": 8.5, \"calculated_mass_medium\": 6.7729045, \"ground_truth_mass_small\": 0.3, \"calculated_mass_small\": 0.122943981, \"Rep\": \"Large2\"}, {\"inserts\": \"High Density\", \"ground_truth_volume_large\": 98.2, \"calculated_volume_large\": 107.6956942, \"ground_truth_volume_medium\": 21.2, \"calculated_volume_medium\": 18.64640554, \"ground_truth_volume_small\": 0.8, \"calculated_volume_small\": 1.362864672, \"ground_truth_mass_large\": 78.5, \"calculated_mass_large\": 86.1565554, \"ground_truth_mass_medium\": 17.0, \"calculated_mass_medium\": 14.91712443, \"ground_truth_mass_small\": 0.6, \"calculated_mass_small\": 1.090291737, \"Rep\": \"Large2\"}, {\"inserts\": \"Low Density\", \"ground_truth_volume_large\": 98.2, \"calculated_volume_large\": 103.2564486, \"ground_truth_volume_medium\": 21.2, \"calculated_volume_medium\": 23.23540068, \"ground_truth_volume_small\": 0.8, \"calculated_volume_small\": 0.107542705, \"ground_truth_mass_large\": 19.6, \"calculated_mass_large\": 20.65128972, \"ground_truth_mass_medium\": 4.2, \"calculated_mass_medium\": 4.647080137, \"ground_truth_mass_small\": 0.2, \"calculated_mass_small\": 0.021508541, \"Rep\": \"Large3\"}, {\"inserts\": \"Medium Density\", \"ground_truth_volume_large\": 98.2, \"calculated_volume_large\": 96.88255384, \"ground_truth_volume_medium\": 21.2, \"calculated_volume_medium\": 14.60666936, \"ground_truth_volume_small\": 0.8, \"calculated_volume_small\": 0.658693219, \"ground_truth_mass_large\": 39.3, \"calculated_mass_large\": 38.75302153, \"ground_truth_mass_medium\": 8.5, \"calculated_mass_medium\": 5.842667744, \"ground_truth_mass_small\": 0.3, \"calculated_mass_small\": 0.263477287, \"Rep\": \"Large3\"}, {\"inserts\": \"High Density\", \"ground_truth_volume_large\": 98.2, \"calculated_volume_large\": 101.8943355, \"ground_truth_volume_medium\": 21.2, \"calculated_volume_medium\": 18.11903321, \"ground_truth_volume_small\": 0.8, \"calculated_volume_small\": 1.280599679, \"ground_truth_mass_large\": 78.5, \"calculated_mass_large\": 81.51546838, \"ground_truth_mass_medium\": 17.0, \"calculated_mass_medium\": 14.49522657, \"ground_truth_mass_small\": 0.6, \"calculated_mass_small\": 1.024479744, \"Rep\": \"Large3\"}, {\"inserts\": \"Low Density\", \"ground_truth_volume_large\": 98.2, \"calculated_volume_large\": 85.94202661, \"ground_truth_volume_medium\": 21.2, \"calculated_volume_medium\": 28.15226768, \"ground_truth_volume_small\": 0.8, \"calculated_volume_small\": 0.0, \"ground_truth_mass_large\": 19.6, \"calculated_mass_large\": 17.18840532, \"ground_truth_mass_medium\": 4.2, \"calculated_mass_medium\": 5.630453537, \"ground_truth_mass_small\": 0.2, \"calculated_mass_small\": 0.0, \"Rep\": \"Large4\"}, {\"inserts\": \"Medium Density\", \"ground_truth_volume_large\": 98.2, \"calculated_volume_large\": 92.0310655, \"ground_truth_volume_medium\": 21.2, \"calculated_volume_medium\": 15.10419356, \"ground_truth_volume_small\": 0.8, \"calculated_volume_small\": 0.615625906, \"ground_truth_mass_large\": 39.3, \"calculated_mass_large\": 36.8124262, \"ground_truth_mass_medium\": 8.5, \"calculated_mass_medium\": 6.041677423, \"ground_truth_mass_small\": 0.3, \"calculated_mass_small\": 0.246250363, \"Rep\": \"Large4\"}, {\"inserts\": \"High Density\", \"ground_truth_volume_large\": 98.2, \"calculated_volume_large\": 103.2934674, \"ground_truth_volume_medium\": 21.2, \"calculated_volume_medium\": 14.7696305, \"ground_truth_volume_small\": 0.8, \"calculated_volume_small\": 0.592129027, \"ground_truth_mass_large\": 78.5, \"calculated_mass_large\": 82.63477394, \"ground_truth_mass_medium\": 17.0, \"calculated_mass_medium\": 11.8157044, \"ground_truth_mass_small\": 0.6, \"calculated_mass_small\": 0.473703222, \"Rep\": \"Large4\"}, {\"inserts\": \"Low Density\", \"ground_truth_volume_large\": 98.2, \"calculated_volume_large\": 89.8918177, \"ground_truth_volume_medium\": 21.2, \"calculated_volume_medium\": 16.74362952, \"ground_truth_volume_small\": 0.8, \"calculated_volume_small\": 0.63148882, \"ground_truth_mass_large\": 19.6, \"calculated_mass_large\": 17.97836354, \"ground_truth_mass_medium\": 4.2, \"calculated_mass_medium\": 3.348725905, \"ground_truth_mass_small\": 0.2, \"calculated_mass_small\": 0.126297764, \"Rep\": \"Large5\"}, {\"inserts\": \"Medium Density\", \"ground_truth_volume_large\": 98.2, \"calculated_volume_large\": 92.06725628, \"ground_truth_volume_medium\": 21.2, \"calculated_volume_medium\": 19.44941618, \"ground_truth_volume_small\": 0.8, \"calculated_volume_small\": 0.0, \"ground_truth_mass_large\": 39.3, \"calculated_mass_large\": 36.82690251, \"ground_truth_mass_medium\": 8.5, \"calculated_mass_medium\": 7.779766474, \"ground_truth_mass_small\": 0.3, \"calculated_mass_small\": 0.0, \"Rep\": \"Large5\"}, {\"inserts\": \"High Density\", \"ground_truth_volume_large\": 98.2, \"calculated_volume_large\": 96.91470335, \"ground_truth_volume_medium\": 21.2, \"calculated_volume_medium\": 18.39995246, \"ground_truth_volume_small\": 0.8, \"calculated_volume_small\": 1.765717325, \"ground_truth_mass_large\": 78.5, \"calculated_mass_large\": 77.53176268, \"ground_truth_mass_medium\": 17.0, \"calculated_mass_medium\": 14.71996197, \"ground_truth_mass_small\": 0.6, \"calculated_mass_small\": 1.41257386, \"Rep\": \"Large5\"}, {\"inserts\": \"Low Density\", \"ground_truth_volume_large\": 98.2, \"calculated_volume_large\": 97.18777638, \"ground_truth_volume_medium\": 21.2, \"calculated_volume_medium\": 21.81135208, \"ground_truth_volume_small\": 0.8, \"calculated_volume_small\": 0.190185275, \"ground_truth_mass_large\": 19.6, \"calculated_mass_large\": 19.43755528, \"ground_truth_mass_medium\": 4.2, \"calculated_mass_medium\": 4.362270416, \"ground_truth_mass_small\": 0.2, \"calculated_mass_small\": 0.038037055, \"Rep\": \"Small1\"}, {\"inserts\": \"Medium Density\", \"ground_truth_volume_large\": 98.2, \"calculated_volume_large\": 98.41114623, \"ground_truth_volume_medium\": 21.2, \"calculated_volume_medium\": 18.27190485, \"ground_truth_volume_small\": 0.8, \"calculated_volume_small\": 0.420247548, \"ground_truth_mass_large\": 39.3, \"calculated_mass_large\": 39.36445849, \"ground_truth_mass_medium\": 8.5, \"calculated_mass_medium\": 7.308761939, \"ground_truth_mass_small\": 0.3, \"calculated_mass_small\": 0.168099019, \"Rep\": \"Small1\"}, {\"inserts\": \"High Density\", \"ground_truth_volume_large\": 98.2, \"calculated_volume_large\": 104.0975579, \"ground_truth_volume_medium\": 21.2, \"calculated_volume_medium\": 19.66363745, \"ground_truth_volume_small\": 0.8, \"calculated_volume_small\": 0.546417794, \"ground_truth_mass_large\": 78.5, \"calculated_mass_large\": 83.27804633, \"ground_truth_mass_medium\": 17.0, \"calculated_mass_medium\": 15.73090996, \"ground_truth_mass_small\": 0.6, \"calculated_mass_small\": 0.437134235, \"Rep\": \"Small1\"}, {\"inserts\": \"Low Density\", \"ground_truth_volume_large\": 98.2, \"calculated_volume_large\": 99.03639098, \"ground_truth_volume_medium\": 21.2, \"calculated_volume_medium\": 22.89151009, \"ground_truth_volume_small\": 0.8, \"calculated_volume_small\": 0.229204603, \"ground_truth_mass_large\": 19.6, \"calculated_mass_large\": 19.8072782, \"ground_truth_mass_medium\": 4.2, \"calculated_mass_medium\": 4.578302017, \"ground_truth_mass_small\": 0.2, \"calculated_mass_small\": 0.045840921, \"Rep\": \"Small2\"}, {\"inserts\": \"Medium Density\", \"ground_truth_volume_large\": 98.2, \"calculated_volume_large\": 100.4061777, \"ground_truth_volume_medium\": 21.2, \"calculated_volume_medium\": 18.98377462, \"ground_truth_volume_small\": 0.8, \"calculated_volume_small\": 0.238367133, \"ground_truth_mass_large\": 39.3, \"calculated_mass_large\": 40.16247106, \"ground_truth_mass_medium\": 8.5, \"calculated_mass_medium\": 7.593509847, \"ground_truth_mass_small\": 0.3, \"calculated_mass_small\": 0.095346853, \"Rep\": \"Small2\"}, {\"inserts\": \"High Density\", \"ground_truth_volume_large\": 98.2, \"calculated_volume_large\": 109.1660088, \"ground_truth_volume_medium\": 21.2, \"calculated_volume_medium\": 20.32379396, \"ground_truth_volume_small\": 0.8, \"calculated_volume_small\": 0.620835378, \"ground_truth_mass_large\": 78.5, \"calculated_mass_large\": 87.33280703, \"ground_truth_mass_medium\": 17.0, \"calculated_mass_medium\": 16.25903517, \"ground_truth_mass_small\": 0.6, \"calculated_mass_small\": 0.496668303, \"Rep\": \"Small2\"}, {\"inserts\": \"Low Density\", \"ground_truth_volume_large\": 98.2, \"calculated_volume_large\": 97.96971288, \"ground_truth_volume_medium\": 21.2, \"calculated_volume_medium\": 17.47789859, \"ground_truth_volume_small\": 0.8, \"calculated_volume_small\": 0.413759873, \"ground_truth_mass_large\": 19.6, \"calculated_mass_large\": 19.59394258, \"ground_truth_mass_medium\": 4.2, \"calculated_mass_medium\": 3.495579717, \"ground_truth_mass_small\": 0.2, \"calculated_mass_small\": 0.082751975, \"Rep\": \"Small3\"}, {\"inserts\": \"Medium Density\", \"ground_truth_volume_large\": 98.2, \"calculated_volume_large\": 100.0385408, \"ground_truth_volume_medium\": 21.2, \"calculated_volume_medium\": 18.69545607, \"ground_truth_volume_small\": 0.8, \"calculated_volume_small\": 0.05777456, \"ground_truth_mass_large\": 39.3, \"calculated_mass_large\": 40.01541632, \"ground_truth_mass_medium\": 8.5, \"calculated_mass_medium\": 7.478182427, \"ground_truth_mass_small\": 0.3, \"calculated_mass_small\": 0.023109824, \"Rep\": \"Small3\"}, {\"inserts\": \"High Density\", \"ground_truth_volume_large\": 98.2, \"calculated_volume_large\": 107.6768012, \"ground_truth_volume_medium\": 21.2, \"calculated_volume_medium\": 18.32032539, \"ground_truth_volume_small\": 0.8, \"calculated_volume_small\": 0.387210997, \"ground_truth_mass_large\": 78.5, \"calculated_mass_large\": 86.141441, \"ground_truth_mass_medium\": 17.0, \"calculated_mass_medium\": 14.65626031, \"ground_truth_mass_small\": 0.6, \"calculated_mass_small\": 0.309768798, \"Rep\": \"Small3\"}, {\"inserts\": \"Low Density\", \"ground_truth_volume_large\": 98.2, \"calculated_volume_large\": 99.2560325, \"ground_truth_volume_medium\": 21.2, \"calculated_volume_medium\": 18.65631344, \"ground_truth_volume_small\": 0.8, \"calculated_volume_small\": 0.159433564, \"ground_truth_mass_large\": 19.6, \"calculated_mass_large\": 19.8512065, \"ground_truth_mass_medium\": 4.2, \"calculated_mass_medium\": 3.731262689, \"ground_truth_mass_small\": 0.2, \"calculated_mass_small\": 0.031886713, \"Rep\": \"Small4\"}, {\"inserts\": \"Medium Density\", \"ground_truth_volume_large\": 98.2, \"calculated_volume_large\": 94.43796672, \"ground_truth_volume_medium\": 21.2, \"calculated_volume_medium\": 17.6442006, \"ground_truth_volume_small\": 0.8, \"calculated_volume_small\": 0.0, \"ground_truth_mass_large\": 39.3, \"calculated_mass_large\": 37.77518669, \"ground_truth_mass_medium\": 8.5, \"calculated_mass_medium\": 7.057680238, \"ground_truth_mass_small\": 0.3, \"calculated_mass_small\": 0.0, \"Rep\": \"Small4\"}, {\"inserts\": \"High Density\", \"ground_truth_volume_large\": 98.2, \"calculated_volume_large\": 103.3537128, \"ground_truth_volume_medium\": 21.2, \"calculated_volume_medium\": 18.13089158, \"ground_truth_volume_small\": 0.8, \"calculated_volume_small\": 0.863499162, \"ground_truth_mass_large\": 78.5, \"calculated_mass_large\": 82.68297027, \"ground_truth_mass_medium\": 17.0, \"calculated_mass_medium\": 14.50471326, \"ground_truth_mass_small\": 0.6, \"calculated_mass_small\": 0.69079933, \"Rep\": \"Small4\"}, {\"inserts\": \"Low Density\", \"ground_truth_volume_large\": 98.2, \"calculated_volume_large\": 93.72394125, \"ground_truth_volume_medium\": 21.2, \"calculated_volume_medium\": 20.03175368, \"ground_truth_volume_small\": 0.8, \"calculated_volume_small\": 0.468032142, \"ground_truth_mass_large\": 19.6, \"calculated_mass_large\": 18.74478825, \"ground_truth_mass_medium\": 4.2, \"calculated_mass_medium\": 4.006350737, \"ground_truth_mass_small\": 0.2, \"calculated_mass_small\": 0.093606428, \"Rep\": \"Small5\"}, {\"inserts\": \"Medium Density\", \"ground_truth_volume_large\": 98.2, \"calculated_volume_large\": 104.0082488, \"ground_truth_volume_medium\": 21.2, \"calculated_volume_medium\": 18.35964962, \"ground_truth_volume_small\": 0.8, \"calculated_volume_small\": 0.0, \"ground_truth_mass_large\": 39.3, \"calculated_mass_large\": 41.60329954, \"ground_truth_mass_medium\": 8.5, \"calculated_mass_medium\": 7.343859846, \"ground_truth_mass_small\": 0.3, \"calculated_mass_small\": 0.0, \"Rep\": \"Small5\"}, {\"inserts\": \"High Density\", \"ground_truth_volume_large\": 98.2, \"calculated_volume_large\": 109.4403342, \"ground_truth_volume_medium\": 21.2, \"calculated_volume_medium\": 19.31398555, \"ground_truth_volume_small\": 0.8, \"calculated_volume_small\": 0.612192665, \"ground_truth_mass_large\": 78.5, \"calculated_mass_large\": 87.55226735, \"ground_truth_mass_medium\": 17.0, \"calculated_mass_medium\": 15.45118844, \"ground_truth_mass_small\": 0.6, \"calculated_mass_small\": 0.489754132, \"Rep\": \"Small5\"}], \"data-29f836ef7b03879444176699dbf3efbd\": [{\"inserts\": \"Low Density\", \"ground_truth_volume_large\": 98.2, \"calculated_volume_large\": 111.7697287, \"ground_truth_volume_medium\": 21.2, \"calculated_volume_medium\": 26.48512352, \"ground_truth_volume_small\": 0.8, \"calculated_volume_small\": 0.531044894, \"ground_truth_mass_large\": 19.6, \"calculated_mass_large\": 22.35394573, \"ground_truth_mass_medium\": 4.2, \"calculated_mass_medium\": 5.297024704, \"ground_truth_mass_small\": 0.2, \"calculated_mass_small\": 0.106208979, \"Rep\": \"Large1\"}, {\"inserts\": \"Medium Density\", \"ground_truth_volume_large\": 98.2, \"calculated_volume_large\": 102.499495, \"ground_truth_volume_medium\": 21.2, \"calculated_volume_medium\": 17.45417812, \"ground_truth_volume_small\": 0.8, \"calculated_volume_small\": 0.0, \"ground_truth_mass_large\": 39.3, \"calculated_mass_large\": 40.999798, \"ground_truth_mass_medium\": 8.5, \"calculated_mass_medium\": 6.981671246, \"ground_truth_mass_small\": 0.3, \"calculated_mass_small\": 0.0, \"Rep\": \"Large1\"}, {\"inserts\": \"High Density\", \"ground_truth_volume_large\": 98.2, \"calculated_volume_large\": 110.8912734, \"ground_truth_volume_medium\": 21.2, \"calculated_volume_medium\": 19.15604124, \"ground_truth_volume_small\": 0.8, \"calculated_volume_small\": 0.810060996, \"ground_truth_mass_large\": 78.5, \"calculated_mass_large\": 88.71301869, \"ground_truth_mass_medium\": 17.0, \"calculated_mass_medium\": 15.32483299, \"ground_truth_mass_small\": 0.6, \"calculated_mass_small\": 0.648048797, \"Rep\": \"Large1\"}, {\"inserts\": \"Low Density\", \"ground_truth_volume_large\": 98.2, \"calculated_volume_large\": 119.2557084, \"ground_truth_volume_medium\": 21.2, \"calculated_volume_medium\": 26.29419993, \"ground_truth_volume_small\": 0.8, \"calculated_volume_small\": 0.147551956, \"ground_truth_mass_large\": 19.6, \"calculated_mass_large\": 23.85114168, \"ground_truth_mass_medium\": 4.2, \"calculated_mass_medium\": 5.258839986, \"ground_truth_mass_small\": 0.2, \"calculated_mass_small\": 0.029510391, \"Rep\": \"Large2\"}, {\"inserts\": \"Medium Density\", \"ground_truth_volume_large\": 98.2, \"calculated_volume_large\": 103.7402806, \"ground_truth_volume_medium\": 21.2, \"calculated_volume_medium\": 18.09573134, \"ground_truth_volume_small\": 0.8, \"calculated_volume_small\": 0.316350105, \"ground_truth_mass_large\": 39.3, \"calculated_mass_large\": 41.49611224, \"ground_truth_mass_medium\": 8.5, \"calculated_mass_medium\": 7.238292535, \"ground_truth_mass_small\": 0.3, \"calculated_mass_small\": 0.126540042, \"Rep\": \"Large2\"}, {\"inserts\": \"High Density\", \"ground_truth_volume_large\": 98.2, \"calculated_volume_large\": 110.7977678, \"ground_truth_volume_medium\": 21.2, \"calculated_volume_medium\": 19.1933594, \"ground_truth_volume_small\": 0.8, \"calculated_volume_small\": 1.402605145, \"ground_truth_mass_large\": 78.5, \"calculated_mass_large\": 88.63821425, \"ground_truth_mass_medium\": 17.0, \"calculated_mass_medium\": 15.35468752, \"ground_truth_mass_small\": 0.6, \"calculated_mass_small\": 1.122084116, \"Rep\": \"Large2\"}, {\"inserts\": \"Low Density\", \"ground_truth_volume_large\": 98.2, \"calculated_volume_large\": 119.3964723, \"ground_truth_volume_medium\": 21.2, \"calculated_volume_medium\": 26.86125207, \"ground_truth_volume_small\": 0.8, \"calculated_volume_small\": 0.113854024, \"ground_truth_mass_large\": 19.6, \"calculated_mass_large\": 23.87929445, \"ground_truth_mass_medium\": 4.2, \"calculated_mass_medium\": 5.372250415, \"ground_truth_mass_small\": 0.2, \"calculated_mass_small\": 0.022770805, \"Rep\": \"Large3\"}, {\"inserts\": \"Medium Density\", \"ground_truth_volume_large\": 98.2, \"calculated_volume_large\": 105.1468287, \"ground_truth_volume_medium\": 21.2, \"calculated_volume_medium\": 15.8802292, \"ground_truth_volume_small\": 0.8, \"calculated_volume_small\": 0.697342414, \"ground_truth_mass_large\": 39.3, \"calculated_mass_large\": 42.05873146, \"ground_truth_mass_medium\": 8.5, \"calculated_mass_medium\": 6.35209168, \"ground_truth_mass_small\": 0.3, \"calculated_mass_small\": 0.278936965, \"Rep\": \"Large3\"}, {\"inserts\": \"High Density\", \"ground_truth_volume_large\": 98.2, \"calculated_volume_large\": 107.8172025, \"ground_truth_volume_medium\": 21.2, \"calculated_volume_medium\": 19.18353115, \"ground_truth_volume_small\": 0.8, \"calculated_volume_small\": 1.355775016, \"ground_truth_mass_large\": 78.5, \"calculated_mass_large\": 86.25376199, \"ground_truth_mass_medium\": 17.0, \"calculated_mass_medium\": 15.34682492, \"ground_truth_mass_small\": 0.6, \"calculated_mass_small\": 1.084620013, \"Rep\": \"Large3\"}, {\"inserts\": \"Low Density\", \"ground_truth_volume_large\": 98.2, \"calculated_volume_large\": 110.6650258, \"ground_truth_volume_medium\": 21.2, \"calculated_volume_medium\": 35.68278179, \"ground_truth_volume_small\": 0.8, \"calculated_volume_small\": 0.0, \"ground_truth_mass_large\": 19.6, \"calculated_mass_large\": 22.13300516, \"ground_truth_mass_medium\": 4.2, \"calculated_mass_medium\": 7.136556357, \"ground_truth_mass_small\": 0.2, \"calculated_mass_small\": 0.0, \"Rep\": \"Large4\"}, {\"inserts\": \"Medium Density\", \"ground_truth_volume_large\": 98.2, \"calculated_volume_large\": 111.4077375, \"ground_truth_volume_medium\": 21.2, \"calculated_volume_medium\": 18.33124558, \"ground_truth_volume_small\": 0.8, \"calculated_volume_small\": 0.730206886, \"ground_truth_mass_large\": 39.3, \"calculated_mass_large\": 44.563095, \"ground_truth_mass_medium\": 8.5, \"calculated_mass_medium\": 7.332498233, \"ground_truth_mass_small\": 0.3, \"calculated_mass_small\": 0.292082754, \"Rep\": \"Large4\"}, {\"inserts\": \"High Density\", \"ground_truth_volume_large\": 98.2, \"calculated_volume_large\": 122.3507912, \"ground_truth_volume_medium\": 21.2, \"calculated_volume_medium\": 17.55905567, \"ground_truth_volume_small\": 0.8, \"calculated_volume_small\": 0.703332435, \"ground_truth_mass_large\": 78.5, \"calculated_mass_large\": 97.88063298, \"ground_truth_mass_medium\": 17.0, \"calculated_mass_medium\": 14.04724454, \"ground_truth_mass_small\": 0.6, \"calculated_mass_small\": 0.562665948, \"Rep\": \"Large4\"}, {\"inserts\": \"Low Density\", \"ground_truth_volume_large\": 98.2, \"calculated_volume_large\": 115.7848383, \"ground_truth_volume_medium\": 21.2, \"calculated_volume_medium\": 21.51612563, \"ground_truth_volume_small\": 0.8, \"calculated_volume_small\": 0.723830946, \"ground_truth_mass_large\": 19.6, \"calculated_mass_large\": 23.15696765, \"ground_truth_mass_medium\": 4.2, \"calculated_mass_medium\": 4.303225126, \"ground_truth_mass_small\": 0.2, \"calculated_mass_small\": 0.144766189, \"Rep\": \"Large5\"}, {\"inserts\": \"Medium Density\", \"ground_truth_volume_large\": 98.2, \"calculated_volume_large\": 109.0938025, \"ground_truth_volume_medium\": 21.2, \"calculated_volume_medium\": 22.99494247, \"ground_truth_volume_small\": 0.8, \"calculated_volume_small\": 0.0, \"ground_truth_mass_large\": 39.3, \"calculated_mass_large\": 43.63752099, \"ground_truth_mass_medium\": 8.5, \"calculated_mass_medium\": 9.197976986, \"ground_truth_mass_small\": 0.3, \"calculated_mass_small\": 0.0, \"Rep\": \"Large5\"}, {\"inserts\": \"High Density\", \"ground_truth_volume_large\": 98.2, \"calculated_volume_large\": 110.9326873, \"ground_truth_volume_medium\": 21.2, \"calculated_volume_medium\": 21.09643724, \"ground_truth_volume_small\": 0.8, \"calculated_volume_small\": 2.022274116, \"ground_truth_mass_large\": 78.5, \"calculated_mass_large\": 88.74614983, \"ground_truth_mass_medium\": 17.0, \"calculated_mass_medium\": 16.87714979, \"ground_truth_mass_small\": 0.6, \"calculated_mass_small\": 1.617819293, \"Rep\": \"Large5\"}, {\"inserts\": \"Low Density\", \"ground_truth_volume_large\": 98.2, \"calculated_volume_large\": 115.9370048, \"ground_truth_volume_medium\": 21.2, \"calculated_volume_medium\": 25.95493773, \"ground_truth_volume_small\": 0.8, \"calculated_volume_small\": 0.215802452, \"ground_truth_mass_large\": 19.6, \"calculated_mass_large\": 23.18740097, \"ground_truth_mass_medium\": 4.2, \"calculated_mass_medium\": 5.190987547, \"ground_truth_mass_small\": 0.2, \"calculated_mass_small\": 0.04316049, \"Rep\": \"Small1\"}, {\"inserts\": \"Medium Density\", \"ground_truth_volume_large\": 98.2, \"calculated_volume_large\": 113.2906037, \"ground_truth_volume_medium\": 21.2, \"calculated_volume_medium\": 21.043821, \"ground_truth_volume_small\": 0.8, \"calculated_volume_small\": 0.476742083, \"ground_truth_mass_large\": 39.3, \"calculated_mass_large\": 45.31624148, \"ground_truth_mass_medium\": 8.5, \"calculated_mass_medium\": 8.4175284, \"ground_truth_mass_small\": 0.3, \"calculated_mass_small\": 0.190696833, \"Rep\": \"Small1\"}, {\"inserts\": \"High Density\", \"ground_truth_volume_large\": 98.2, \"calculated_volume_large\": 117.9882938, \"ground_truth_volume_medium\": 21.2, \"calculated_volume_medium\": 22.29502453, \"ground_truth_volume_small\": 0.8, \"calculated_volume_small\": 0.619843332, \"ground_truth_mass_large\": 78.5, \"calculated_mass_large\": 94.39063505, \"ground_truth_mass_medium\": 17.0, \"calculated_mass_medium\": 17.83601963, \"ground_truth_mass_small\": 0.6, \"calculated_mass_small\": 0.495874666, \"Rep\": \"Small1\"}, {\"inserts\": \"Low Density\", \"ground_truth_volume_large\": 98.2, \"calculated_volume_large\": 105.1986783, \"ground_truth_volume_medium\": 21.2, \"calculated_volume_medium\": 24.31150652, \"ground_truth_volume_small\": 0.8, \"calculated_volume_small\": 0.223621866, \"ground_truth_mass_large\": 19.6, \"calculated_mass_large\": 21.03973566, \"ground_truth_mass_medium\": 4.2, \"calculated_mass_medium\": 4.862301304, \"ground_truth_mass_small\": 0.2, \"calculated_mass_small\": 0.044724373, \"Rep\": \"Small2\"}, {\"inserts\": \"Medium Density\", \"ground_truth_volume_large\": 98.2, \"calculated_volume_large\": 100.456552, \"ground_truth_volume_medium\": 21.2, \"calculated_volume_medium\": 18.99330036, \"ground_truth_volume_small\": 0.8, \"calculated_volume_small\": 0.232555171, \"ground_truth_mass_large\": 39.3, \"calculated_mass_large\": 40.18262078, \"ground_truth_mass_medium\": 8.5, \"calculated_mass_medium\": 7.597320143, \"ground_truth_mass_small\": 0.3, \"calculated_mass_small\": 0.093022068, \"Rep\": \"Small2\"}, {\"inserts\": \"High Density\", \"ground_truth_volume_large\": 98.2, \"calculated_volume_large\": 106.5432778, \"ground_truth_volume_medium\": 21.2, \"calculated_volume_medium\": 19.82901537, \"ground_truth_volume_small\": 0.8, \"calculated_volume_small\": 0.605742508, \"ground_truth_mass_large\": 78.5, \"calculated_mass_large\": 85.23462223, \"ground_truth_mass_medium\": 17.0, \"calculated_mass_medium\": 15.86321229, \"ground_truth_mass_small\": 0.6, \"calculated_mass_small\": 0.484594007, \"Rep\": \"Small2\"}, {\"inserts\": \"Low Density\", \"ground_truth_volume_large\": 98.2, \"calculated_volume_large\": 114.8811307, \"ground_truth_volume_medium\": 21.2, \"calculated_volume_medium\": 20.49292348, \"ground_truth_volume_small\": 0.8, \"calculated_volume_small\": 0.465132673, \"ground_truth_mass_large\": 19.6, \"calculated_mass_large\": 22.97622615, \"ground_truth_mass_medium\": 4.2, \"calculated_mass_medium\": 4.098584697, \"ground_truth_mass_small\": 0.2, \"calculated_mass_small\": 0.093026535, \"Rep\": \"Small3\"}, {\"inserts\": \"Medium Density\", \"ground_truth_volume_large\": 98.2, \"calculated_volume_large\": 113.8508181, \"ground_truth_volume_medium\": 21.2, \"calculated_volume_medium\": 21.27455469, \"ground_truth_volume_small\": 0.8, \"calculated_volume_small\": 0.064950443, \"ground_truth_mass_large\": 39.3, \"calculated_mass_large\": 45.54032723, \"ground_truth_mass_medium\": 8.5, \"calculated_mass_medium\": 8.509821876, \"ground_truth_mass_small\": 0.3, \"calculated_mass_small\": 0.025980177, \"Rep\": \"Small3\"}, {\"inserts\": \"High Density\", \"ground_truth_volume_large\": 98.2, \"calculated_volume_large\": 120.8258552, \"ground_truth_volume_medium\": 21.2, \"calculated_volume_medium\": 20.58943192, \"ground_truth_volume_small\": 0.8, \"calculated_volume_small\": 0.435288411, \"ground_truth_mass_large\": 78.5, \"calculated_mass_large\": 96.66068413, \"ground_truth_mass_medium\": 17.0, \"calculated_mass_medium\": 16.47154554, \"ground_truth_mass_small\": 0.6, \"calculated_mass_small\": 0.348230729, \"Rep\": \"Small3\"}, {\"inserts\": \"Low Density\", \"ground_truth_volume_large\": 98.2, \"calculated_volume_large\": 116.3154186, \"ground_truth_volume_medium\": 21.2, \"calculated_volume_medium\": 21.84560788, \"ground_truth_volume_small\": 0.8, \"calculated_volume_small\": 0.17370539, \"ground_truth_mass_large\": 19.6, \"calculated_mass_large\": 23.26308373, \"ground_truth_mass_medium\": 4.2, \"calculated_mass_medium\": 4.369121576, \"ground_truth_mass_small\": 0.2, \"calculated_mass_small\": 0.034741078, \"Rep\": \"Small4\"}, {\"inserts\": \"Medium Density\", \"ground_truth_volume_large\": 98.2, \"calculated_volume_large\": 105.1556972, \"ground_truth_volume_medium\": 21.2, \"calculated_volume_medium\": 19.64143958, \"ground_truth_volume_small\": 0.8, \"calculated_volume_small\": 0.0, \"ground_truth_mass_large\": 39.3, \"calculated_mass_large\": 42.06227888, \"ground_truth_mass_medium\": 8.5, \"calculated_mass_medium\": 7.856575831, \"ground_truth_mass_small\": 0.3, \"calculated_mass_small\": 0.0, \"Rep\": \"Small4\"}, {\"inserts\": \"High Density\", \"ground_truth_volume_large\": 98.2, \"calculated_volume_large\": 112.5067565, \"ground_truth_volume_medium\": 21.2, \"calculated_volume_medium\": 19.74763706, \"ground_truth_volume_small\": 0.8, \"calculated_volume_small\": 0.940446459, \"ground_truth_mass_large\": 78.5, \"calculated_mass_large\": 90.00540523, \"ground_truth_mass_medium\": 17.0, \"calculated_mass_medium\": 15.79810965, \"ground_truth_mass_small\": 0.6, \"calculated_mass_small\": 0.752357167, \"Rep\": \"Small4\"}, {\"inserts\": \"Low Density\", \"ground_truth_volume_large\": 98.2, \"calculated_volume_large\": 97.10338755, \"ground_truth_volume_medium\": 21.2, \"calculated_volume_medium\": 20.73964795, \"ground_truth_volume_small\": 0.8, \"calculated_volume_small\": 0.481651325, \"ground_truth_mass_large\": 19.6, \"calculated_mass_large\": 19.42067751, \"ground_truth_mass_medium\": 4.2, \"calculated_mass_medium\": 4.147929591, \"ground_truth_mass_small\": 0.2, \"calculated_mass_small\": 0.096330265, \"Rep\": \"Small5\"}, {\"inserts\": \"Medium Density\", \"ground_truth_volume_large\": 98.2, \"calculated_volume_large\": 107.2094347, \"ground_truth_volume_medium\": 21.2, \"calculated_volume_medium\": 18.9299214, \"ground_truth_volume_small\": 0.8, \"calculated_volume_small\": 0.0, \"ground_truth_mass_large\": 39.3, \"calculated_mass_large\": 42.8837739, \"ground_truth_mass_medium\": 8.5, \"calculated_mass_medium\": 7.571968559, \"ground_truth_mass_small\": 0.3, \"calculated_mass_small\": 0.0, \"Rep\": \"Small5\"}, {\"inserts\": \"High Density\", \"ground_truth_volume_large\": 98.2, \"calculated_volume_large\": 112.5880567, \"ground_truth_volume_medium\": 21.2, \"calculated_volume_medium\": 19.87702426, \"ground_truth_volume_small\": 0.8, \"calculated_volume_small\": 0.630074149, \"ground_truth_mass_large\": 78.5, \"calculated_mass_large\": 90.07044537, \"ground_truth_mass_medium\": 17.0, \"calculated_mass_medium\": 15.90161941, \"ground_truth_mass_small\": 0.6, \"calculated_mass_small\": 0.504059319, \"Rep\": \"Small5\"}]}}, {\"mode\": \"vega-lite\"});\n</script>",
      "text/plain": "alt.HConcatChart(...)"
     },
     "metadata": {}
    }
   ]
  },
  {
   "cell_type": "markdown",
   "source": "### Mass Score: Small Inserts",
   "metadata": {
    "cell_id": "916ae059-49e0-46fc-a2af-c1de958aad64",
    "tags": [],
    "is_collapsed": false,
    "deepnote_cell_type": "text-cell-h3"
   }
  },
  {
   "cell_type": "code",
   "metadata": {
    "cell_id": "2961a5e6-aa49-4ac1-8b10-944f2f33d89a",
    "tags": [],
    "deepnote_to_be_reexecuted": false,
    "source_hash": "47f7e74e",
    "execution_start": 1643835468611,
    "execution_millis": 14,
    "deepnote_output_heights": [
     21.1875
    ],
    "deepnote_cell_type": "code"
   },
   "source": "X_PP2_S = PP2.ground_truth_mass_small.to_numpy().reshape(-1,1)\ny_PP2_S = PP2.calculated_mass_small.to_numpy().reshape(-1,1)\nreg_PP2_S = LinearRegression().fit(X_PP2_S,y_PP2_S)\nPP2_scoreS = reg_PP2_S.score(X_PP2_S,y_PP2_S)\nPP2_scoreS",
   "execution_count": 49,
   "outputs": [
    {
     "output_type": "execute_result",
     "execution_count": 49,
     "data": {
      "text/plain": "0.6551434885011886"
     },
     "metadata": {}
    }
   ]
  },
  {
   "cell_type": "code",
   "source": "p2S,h2S = [reg_PP2_S.coef_[0,0],reg_PP2_S.intercept_[0]]\nprint(\"y = {} x + {}\".format(str(p2S),str(h2S)))",
   "metadata": {
    "cell_id": "af7bb297-0242-4bb8-a9ca-33d31c0eb4dd",
    "tags": [],
    "deepnote_to_be_reexecuted": false,
    "source_hash": "19c4dbb",
    "execution_start": 1643835468632,
    "execution_millis": 4,
    "deepnote_cell_type": "code"
   },
   "outputs": [
    {
     "name": "stdout",
     "text": "y = 1.7158023483846156 x + -0.34473943870769236\n",
     "output_type": "stream"
    }
   ],
   "execution_count": 50
  },
  {
   "cell_type": "code",
   "source": "X_PP3_S = PP3.ground_truth_mass_small.to_numpy().reshape(-1,1)\ny_PP3_S = PP3.calculated_mass_small.to_numpy().reshape(-1,1)\nreg_PP3_S = LinearRegression().fit(X_PP3_S,y_PP3_S)\nPP3_scoreS = reg_PP3_S.score(X_PP3_S,y_PP3_S)\nPP3_scoreS",
   "metadata": {
    "cell_id": "cc640c85-eaba-4101-8215-f75627d7b5cd",
    "tags": [],
    "deepnote_to_be_reexecuted": false,
    "source_hash": "1c0a8a24",
    "execution_start": 1643835468638,
    "execution_millis": 12,
    "deepnote_output_heights": [
     21.1875
    ],
    "deepnote_cell_type": "code"
   },
   "outputs": [
    {
     "output_type": "execute_result",
     "execution_count": 51,
     "data": {
      "text/plain": "0.6425726877538139"
     },
     "metadata": {}
    }
   ],
   "execution_count": 51
  },
  {
   "cell_type": "code",
   "source": "p3S,h3S = [reg_PP3_S.coef_[0,0],reg_PP3_S.intercept_[0]]\nprint(\"y = {} x + {}\".format(str(p3S),str(h3S)))",
   "metadata": {
    "cell_id": "04ea72db-17f0-46ae-ae7c-45725bf4c8e2",
    "tags": [],
    "deepnote_to_be_reexecuted": false,
    "source_hash": "9e72dafd",
    "execution_start": 1643835468656,
    "execution_millis": 7,
    "deepnote_cell_type": "code"
   },
   "outputs": [
    {
     "name": "stdout",
     "text": "y = 1.8558371223846157 x + -0.3723785449076924\n",
     "output_type": "stream"
    }
   ],
   "execution_count": 52
  },
  {
   "cell_type": "code",
   "source": "PP2_small = chart_plot_small(PP2)\nPP3_small = chart_plot_small(PP3)\nPP2_small | PP3_small",
   "metadata": {
    "cell_id": "052f85ba-116c-4937-822e-c605f9626f42",
    "tags": [],
    "deepnote_to_be_reexecuted": false,
    "source_hash": "5c4f6670",
    "execution_start": 1643836480570,
    "execution_millis": 177,
    "deepnote_output_heights": [
     363
    ],
    "deepnote_cell_type": "code"
   },
   "outputs": [
    {
     "output_type": "execute_result",
     "execution_count": 140,
     "data": {
      "text/html": "\n<div id=\"altair-viz-672a0530287348ec920a7fbb1fab449f\"></div>\n<script type=\"text/javascript\">\n  (function(spec, embedOpt){\n    let outputDiv = document.currentScript.previousElementSibling;\n    if (outputDiv.id !== \"altair-viz-672a0530287348ec920a7fbb1fab449f\") {\n      outputDiv = document.getElementById(\"altair-viz-672a0530287348ec920a7fbb1fab449f\");\n    }\n    const paths = {\n      \"vega\": \"https://cdn.jsdelivr.net/npm//vega@5?noext\",\n      \"vega-lib\": \"https://cdn.jsdelivr.net/npm//vega-lib?noext\",\n      \"vega-lite\": \"https://cdn.jsdelivr.net/npm//vega-lite@4.8.1?noext\",\n      \"vega-embed\": \"https://cdn.jsdelivr.net/npm//vega-embed@6?noext\",\n    };\n\n    function loadScript(lib) {\n      return new Promise(function(resolve, reject) {\n        var s = document.createElement('script');\n        s.src = paths[lib];\n        s.async = true;\n        s.onload = () => resolve(paths[lib]);\n        s.onerror = () => reject(`Error loading script: ${paths[lib]}`);\n        document.getElementsByTagName(\"head\")[0].appendChild(s);\n      });\n    }\n\n    function showError(err) {\n      outputDiv.innerHTML = `<div class=\"error\" style=\"color:red;\">${err}</div>`;\n      throw err;\n    }\n\n    function displayChart(vegaEmbed) {\n      vegaEmbed(outputDiv, spec, embedOpt)\n        .catch(err => showError(`Javascript Error: ${err.message}<br>This usually means there's a typo in your chart specification. See the javascript console for the full traceback.`));\n    }\n\n    if(typeof define === \"function\" && define.amd) {\n      requirejs.config({paths});\n      require([\"vega-embed\"], displayChart, err => showError(`Error loading script: ${err.message}`));\n    } else if (typeof vegaEmbed === \"function\") {\n      displayChart(vegaEmbed);\n    } else {\n      loadScript(\"vega\")\n        .then(() => loadScript(\"vega-lite\"))\n        .then(() => loadScript(\"vega-embed\"))\n        .catch(showError)\n        .then(() => displayChart(vegaEmbed));\n    }\n  })({\"config\": {\"view\": {\"continuousWidth\": 400, \"continuousHeight\": 300}}, \"hconcat\": [{\"layer\": [{\"mark\": \"circle\", \"encoding\": {\"color\": {\"type\": \"nominal\", \"field\": \"Rep\"}, \"tooltip\": [{\"type\": \"quantitative\", \"field\": \"ground_truth_volume_small\"}, {\"type\": \"quantitative\", \"field\": \"calculated_volume_small\"}, {\"type\": \"nominal\", \"field\": \"Rep\"}], \"x\": {\"type\": \"quantitative\", \"field\": \"ground_truth_mass_small\"}, \"y\": {\"type\": \"quantitative\", \"field\": \"calculated_mass_small\"}}}, {\"mark\": \"line\", \"encoding\": {\"color\": {\"type\": \"nominal\", \"field\": \"Rep\"}, \"tooltip\": [{\"type\": \"quantitative\", \"field\": \"ground_truth_volume_small\"}, {\"type\": \"quantitative\", \"field\": \"calculated_volume_small\"}, {\"type\": \"nominal\", \"field\": \"Rep\"}], \"x\": {\"type\": \"quantitative\", \"field\": \"ground_truth_mass_small\"}, \"y\": {\"type\": \"quantitative\", \"field\": \"calculated_mass_small\"}}, \"transform\": [{\"on\": \"ground_truth_mass_small\", \"regression\": \"calculated_mass_small\", \"method\": \"linear\"}]}, {\"mark\": {\"type\": \"line\", \"color\": \"red\"}, \"encoding\": {\"x\": {\"type\": \"quantitative\", \"field\": \"ground_truth_mass_small\"}, \"y\": {\"type\": \"quantitative\", \"field\": \"ground_truth_mass_small\"}}}], \"data\": {\"name\": \"data-06812c7701d94fb02baf5d9dd1ad3a30\"}}, {\"layer\": [{\"mark\": \"circle\", \"encoding\": {\"color\": {\"type\": \"nominal\", \"field\": \"Rep\"}, \"tooltip\": [{\"type\": \"quantitative\", \"field\": \"ground_truth_volume_small\"}, {\"type\": \"quantitative\", \"field\": \"calculated_volume_small\"}, {\"type\": \"nominal\", \"field\": \"Rep\"}], \"x\": {\"type\": \"quantitative\", \"field\": \"ground_truth_mass_small\"}, \"y\": {\"type\": \"quantitative\", \"field\": \"calculated_mass_small\"}}}, {\"mark\": \"line\", \"encoding\": {\"color\": {\"type\": \"nominal\", \"field\": \"Rep\"}, \"tooltip\": [{\"type\": \"quantitative\", \"field\": \"ground_truth_volume_small\"}, {\"type\": \"quantitative\", \"field\": \"calculated_volume_small\"}, {\"type\": \"nominal\", \"field\": \"Rep\"}], \"x\": {\"type\": \"quantitative\", \"field\": \"ground_truth_mass_small\"}, \"y\": {\"type\": \"quantitative\", \"field\": \"calculated_mass_small\"}}, \"transform\": [{\"on\": \"ground_truth_mass_small\", \"regression\": \"calculated_mass_small\", \"method\": \"linear\"}]}, {\"mark\": {\"type\": \"line\", \"color\": \"red\"}, \"encoding\": {\"x\": {\"type\": \"quantitative\", \"field\": \"ground_truth_mass_small\"}, \"y\": {\"type\": \"quantitative\", \"field\": \"ground_truth_mass_small\"}}}], \"data\": {\"name\": \"data-29f836ef7b03879444176699dbf3efbd\"}}], \"$schema\": \"https://vega.github.io/schema/vega-lite/v4.8.1.json\", \"datasets\": {\"data-06812c7701d94fb02baf5d9dd1ad3a30\": [{\"inserts\": \"Low Density\", \"ground_truth_volume_large\": 98.2, \"calculated_volume_large\": 96.86942096, \"ground_truth_volume_medium\": 21.2, \"calculated_volume_medium\": 22.93489953, \"ground_truth_volume_small\": 0.8, \"calculated_volume_small\": 0.505978314, \"ground_truth_mass_large\": 19.6, \"calculated_mass_large\": 19.37388419, \"ground_truth_mass_medium\": 4.2, \"calculated_mass_medium\": 4.586979905, \"ground_truth_mass_small\": 0.2, \"calculated_mass_small\": 0.101195663, \"Rep\": \"Large1\"}, {\"inserts\": \"Medium Density\", \"ground_truth_volume_large\": 98.2, \"calculated_volume_large\": 94.93963518, \"ground_truth_volume_medium\": 21.2, \"calculated_volume_medium\": 16.15138834, \"ground_truth_volume_small\": 0.8, \"calculated_volume_small\": 0.0, \"ground_truth_mass_large\": 39.3, \"calculated_mass_large\": 37.97585407, \"ground_truth_mass_medium\": 8.5, \"calculated_mass_medium\": 6.460555337, \"ground_truth_mass_small\": 0.3, \"calculated_mass_small\": 0.0, \"Rep\": \"Large1\"}, {\"inserts\": \"High Density\", \"ground_truth_volume_large\": 98.2, \"calculated_volume_large\": 105.7198846, \"ground_truth_volume_medium\": 21.2, \"calculated_volume_medium\": 18.25453642, \"ground_truth_volume_small\": 0.8, \"calculated_volume_small\": 0.771803343, \"ground_truth_mass_large\": 78.5, \"calculated_mass_large\": 84.57590767, \"ground_truth_mass_medium\": 17.0, \"calculated_mass_medium\": 14.60362914, \"ground_truth_mass_small\": 0.6, \"calculated_mass_small\": 0.617442675, \"Rep\": \"Large1\"}, {\"inserts\": \"Low Density\", \"ground_truth_volume_large\": 98.2, \"calculated_volume_large\": 101.7240236, \"ground_truth_volume_medium\": 21.2, \"calculated_volume_medium\": 22.46947522, \"ground_truth_volume_small\": 0.8, \"calculated_volume_small\": 0.143371242, \"ground_truth_mass_large\": 19.6, \"calculated_mass_large\": 20.34480473, \"ground_truth_mass_medium\": 4.2, \"calculated_mass_medium\": 4.493895044, \"ground_truth_mass_small\": 0.2, \"calculated_mass_small\": 0.028674248, \"Rep\": \"Large2\"}, {\"inserts\": \"Medium Density\", \"ground_truth_volume_large\": 98.2, \"calculated_volume_large\": 97.100217, \"ground_truth_volume_medium\": 21.2, \"calculated_volume_medium\": 16.93226125, \"ground_truth_volume_small\": 0.8, \"calculated_volume_small\": 0.307359953, \"ground_truth_mass_large\": 39.3, \"calculated_mass_large\": 38.8400868, \"ground_truth_mass_medium\": 8.5, \"calculated_mass_medium\": 6.7729045, \"ground_truth_mass_small\": 0.3, \"calculated_mass_small\": 0.122943981, \"Rep\": \"Large2\"}, {\"inserts\": \"High Density\", \"ground_truth_volume_large\": 98.2, \"calculated_volume_large\": 107.6956942, \"ground_truth_volume_medium\": 21.2, \"calculated_volume_medium\": 18.64640554, \"ground_truth_volume_small\": 0.8, \"calculated_volume_small\": 1.362864672, \"ground_truth_mass_large\": 78.5, \"calculated_mass_large\": 86.1565554, \"ground_truth_mass_medium\": 17.0, \"calculated_mass_medium\": 14.91712443, \"ground_truth_mass_small\": 0.6, \"calculated_mass_small\": 1.090291737, \"Rep\": \"Large2\"}, {\"inserts\": \"Low Density\", \"ground_truth_volume_large\": 98.2, \"calculated_volume_large\": 103.2564486, \"ground_truth_volume_medium\": 21.2, \"calculated_volume_medium\": 23.23540068, \"ground_truth_volume_small\": 0.8, \"calculated_volume_small\": 0.107542705, \"ground_truth_mass_large\": 19.6, \"calculated_mass_large\": 20.65128972, \"ground_truth_mass_medium\": 4.2, \"calculated_mass_medium\": 4.647080137, \"ground_truth_mass_small\": 0.2, \"calculated_mass_small\": 0.021508541, \"Rep\": \"Large3\"}, {\"inserts\": \"Medium Density\", \"ground_truth_volume_large\": 98.2, \"calculated_volume_large\": 96.88255384, \"ground_truth_volume_medium\": 21.2, \"calculated_volume_medium\": 14.60666936, \"ground_truth_volume_small\": 0.8, \"calculated_volume_small\": 0.658693219, \"ground_truth_mass_large\": 39.3, \"calculated_mass_large\": 38.75302153, \"ground_truth_mass_medium\": 8.5, \"calculated_mass_medium\": 5.842667744, \"ground_truth_mass_small\": 0.3, \"calculated_mass_small\": 0.263477287, \"Rep\": \"Large3\"}, {\"inserts\": \"High Density\", \"ground_truth_volume_large\": 98.2, \"calculated_volume_large\": 101.8943355, \"ground_truth_volume_medium\": 21.2, \"calculated_volume_medium\": 18.11903321, \"ground_truth_volume_small\": 0.8, \"calculated_volume_small\": 1.280599679, \"ground_truth_mass_large\": 78.5, \"calculated_mass_large\": 81.51546838, \"ground_truth_mass_medium\": 17.0, \"calculated_mass_medium\": 14.49522657, \"ground_truth_mass_small\": 0.6, \"calculated_mass_small\": 1.024479744, \"Rep\": \"Large3\"}, {\"inserts\": \"Low Density\", \"ground_truth_volume_large\": 98.2, \"calculated_volume_large\": 85.94202661, \"ground_truth_volume_medium\": 21.2, \"calculated_volume_medium\": 28.15226768, \"ground_truth_volume_small\": 0.8, \"calculated_volume_small\": 0.0, \"ground_truth_mass_large\": 19.6, \"calculated_mass_large\": 17.18840532, \"ground_truth_mass_medium\": 4.2, \"calculated_mass_medium\": 5.630453537, \"ground_truth_mass_small\": 0.2, \"calculated_mass_small\": 0.0, \"Rep\": \"Large4\"}, {\"inserts\": \"Medium Density\", \"ground_truth_volume_large\": 98.2, \"calculated_volume_large\": 92.0310655, \"ground_truth_volume_medium\": 21.2, \"calculated_volume_medium\": 15.10419356, \"ground_truth_volume_small\": 0.8, \"calculated_volume_small\": 0.615625906, \"ground_truth_mass_large\": 39.3, \"calculated_mass_large\": 36.8124262, \"ground_truth_mass_medium\": 8.5, \"calculated_mass_medium\": 6.041677423, \"ground_truth_mass_small\": 0.3, \"calculated_mass_small\": 0.246250363, \"Rep\": \"Large4\"}, {\"inserts\": \"High Density\", \"ground_truth_volume_large\": 98.2, \"calculated_volume_large\": 103.2934674, \"ground_truth_volume_medium\": 21.2, \"calculated_volume_medium\": 14.7696305, \"ground_truth_volume_small\": 0.8, \"calculated_volume_small\": 0.592129027, \"ground_truth_mass_large\": 78.5, \"calculated_mass_large\": 82.63477394, \"ground_truth_mass_medium\": 17.0, \"calculated_mass_medium\": 11.8157044, \"ground_truth_mass_small\": 0.6, \"calculated_mass_small\": 0.473703222, \"Rep\": \"Large4\"}, {\"inserts\": \"Low Density\", \"ground_truth_volume_large\": 98.2, \"calculated_volume_large\": 89.8918177, \"ground_truth_volume_medium\": 21.2, \"calculated_volume_medium\": 16.74362952, \"ground_truth_volume_small\": 0.8, \"calculated_volume_small\": 0.63148882, \"ground_truth_mass_large\": 19.6, \"calculated_mass_large\": 17.97836354, \"ground_truth_mass_medium\": 4.2, \"calculated_mass_medium\": 3.348725905, \"ground_truth_mass_small\": 0.2, \"calculated_mass_small\": 0.126297764, \"Rep\": \"Large5\"}, {\"inserts\": \"Medium Density\", \"ground_truth_volume_large\": 98.2, \"calculated_volume_large\": 92.06725628, \"ground_truth_volume_medium\": 21.2, \"calculated_volume_medium\": 19.44941618, \"ground_truth_volume_small\": 0.8, \"calculated_volume_small\": 0.0, \"ground_truth_mass_large\": 39.3, \"calculated_mass_large\": 36.82690251, \"ground_truth_mass_medium\": 8.5, \"calculated_mass_medium\": 7.779766474, \"ground_truth_mass_small\": 0.3, \"calculated_mass_small\": 0.0, \"Rep\": \"Large5\"}, {\"inserts\": \"High Density\", \"ground_truth_volume_large\": 98.2, \"calculated_volume_large\": 96.91470335, \"ground_truth_volume_medium\": 21.2, \"calculated_volume_medium\": 18.39995246, \"ground_truth_volume_small\": 0.8, \"calculated_volume_small\": 1.765717325, \"ground_truth_mass_large\": 78.5, \"calculated_mass_large\": 77.53176268, \"ground_truth_mass_medium\": 17.0, \"calculated_mass_medium\": 14.71996197, \"ground_truth_mass_small\": 0.6, \"calculated_mass_small\": 1.41257386, \"Rep\": \"Large5\"}, {\"inserts\": \"Low Density\", \"ground_truth_volume_large\": 98.2, \"calculated_volume_large\": 97.18777638, \"ground_truth_volume_medium\": 21.2, \"calculated_volume_medium\": 21.81135208, \"ground_truth_volume_small\": 0.8, \"calculated_volume_small\": 0.190185275, \"ground_truth_mass_large\": 19.6, \"calculated_mass_large\": 19.43755528, \"ground_truth_mass_medium\": 4.2, \"calculated_mass_medium\": 4.362270416, \"ground_truth_mass_small\": 0.2, \"calculated_mass_small\": 0.038037055, \"Rep\": \"Small1\"}, {\"inserts\": \"Medium Density\", \"ground_truth_volume_large\": 98.2, \"calculated_volume_large\": 98.41114623, \"ground_truth_volume_medium\": 21.2, \"calculated_volume_medium\": 18.27190485, \"ground_truth_volume_small\": 0.8, \"calculated_volume_small\": 0.420247548, \"ground_truth_mass_large\": 39.3, \"calculated_mass_large\": 39.36445849, \"ground_truth_mass_medium\": 8.5, \"calculated_mass_medium\": 7.308761939, \"ground_truth_mass_small\": 0.3, \"calculated_mass_small\": 0.168099019, \"Rep\": \"Small1\"}, {\"inserts\": \"High Density\", \"ground_truth_volume_large\": 98.2, \"calculated_volume_large\": 104.0975579, \"ground_truth_volume_medium\": 21.2, \"calculated_volume_medium\": 19.66363745, \"ground_truth_volume_small\": 0.8, \"calculated_volume_small\": 0.546417794, \"ground_truth_mass_large\": 78.5, \"calculated_mass_large\": 83.27804633, \"ground_truth_mass_medium\": 17.0, \"calculated_mass_medium\": 15.73090996, \"ground_truth_mass_small\": 0.6, \"calculated_mass_small\": 0.437134235, \"Rep\": \"Small1\"}, {\"inserts\": \"Low Density\", \"ground_truth_volume_large\": 98.2, \"calculated_volume_large\": 99.03639098, \"ground_truth_volume_medium\": 21.2, \"calculated_volume_medium\": 22.89151009, \"ground_truth_volume_small\": 0.8, \"calculated_volume_small\": 0.229204603, \"ground_truth_mass_large\": 19.6, \"calculated_mass_large\": 19.8072782, \"ground_truth_mass_medium\": 4.2, \"calculated_mass_medium\": 4.578302017, \"ground_truth_mass_small\": 0.2, \"calculated_mass_small\": 0.045840921, \"Rep\": \"Small2\"}, {\"inserts\": \"Medium Density\", \"ground_truth_volume_large\": 98.2, \"calculated_volume_large\": 100.4061777, \"ground_truth_volume_medium\": 21.2, \"calculated_volume_medium\": 18.98377462, \"ground_truth_volume_small\": 0.8, \"calculated_volume_small\": 0.238367133, \"ground_truth_mass_large\": 39.3, \"calculated_mass_large\": 40.16247106, \"ground_truth_mass_medium\": 8.5, \"calculated_mass_medium\": 7.593509847, \"ground_truth_mass_small\": 0.3, \"calculated_mass_small\": 0.095346853, \"Rep\": \"Small2\"}, {\"inserts\": \"High Density\", \"ground_truth_volume_large\": 98.2, \"calculated_volume_large\": 109.1660088, \"ground_truth_volume_medium\": 21.2, \"calculated_volume_medium\": 20.32379396, \"ground_truth_volume_small\": 0.8, \"calculated_volume_small\": 0.620835378, \"ground_truth_mass_large\": 78.5, \"calculated_mass_large\": 87.33280703, \"ground_truth_mass_medium\": 17.0, \"calculated_mass_medium\": 16.25903517, \"ground_truth_mass_small\": 0.6, \"calculated_mass_small\": 0.496668303, \"Rep\": \"Small2\"}, {\"inserts\": \"Low Density\", \"ground_truth_volume_large\": 98.2, \"calculated_volume_large\": 97.96971288, \"ground_truth_volume_medium\": 21.2, \"calculated_volume_medium\": 17.47789859, \"ground_truth_volume_small\": 0.8, \"calculated_volume_small\": 0.413759873, \"ground_truth_mass_large\": 19.6, \"calculated_mass_large\": 19.59394258, \"ground_truth_mass_medium\": 4.2, \"calculated_mass_medium\": 3.495579717, \"ground_truth_mass_small\": 0.2, \"calculated_mass_small\": 0.082751975, \"Rep\": \"Small3\"}, {\"inserts\": \"Medium Density\", \"ground_truth_volume_large\": 98.2, \"calculated_volume_large\": 100.0385408, \"ground_truth_volume_medium\": 21.2, \"calculated_volume_medium\": 18.69545607, \"ground_truth_volume_small\": 0.8, \"calculated_volume_small\": 0.05777456, \"ground_truth_mass_large\": 39.3, \"calculated_mass_large\": 40.01541632, \"ground_truth_mass_medium\": 8.5, \"calculated_mass_medium\": 7.478182427, \"ground_truth_mass_small\": 0.3, \"calculated_mass_small\": 0.023109824, \"Rep\": \"Small3\"}, {\"inserts\": \"High Density\", \"ground_truth_volume_large\": 98.2, \"calculated_volume_large\": 107.6768012, \"ground_truth_volume_medium\": 21.2, \"calculated_volume_medium\": 18.32032539, \"ground_truth_volume_small\": 0.8, \"calculated_volume_small\": 0.387210997, \"ground_truth_mass_large\": 78.5, \"calculated_mass_large\": 86.141441, \"ground_truth_mass_medium\": 17.0, \"calculated_mass_medium\": 14.65626031, \"ground_truth_mass_small\": 0.6, \"calculated_mass_small\": 0.309768798, \"Rep\": \"Small3\"}, {\"inserts\": \"Low Density\", \"ground_truth_volume_large\": 98.2, \"calculated_volume_large\": 99.2560325, \"ground_truth_volume_medium\": 21.2, \"calculated_volume_medium\": 18.65631344, \"ground_truth_volume_small\": 0.8, \"calculated_volume_small\": 0.159433564, \"ground_truth_mass_large\": 19.6, \"calculated_mass_large\": 19.8512065, \"ground_truth_mass_medium\": 4.2, \"calculated_mass_medium\": 3.731262689, \"ground_truth_mass_small\": 0.2, \"calculated_mass_small\": 0.031886713, \"Rep\": \"Small4\"}, {\"inserts\": \"Medium Density\", \"ground_truth_volume_large\": 98.2, \"calculated_volume_large\": 94.43796672, \"ground_truth_volume_medium\": 21.2, \"calculated_volume_medium\": 17.6442006, \"ground_truth_volume_small\": 0.8, \"calculated_volume_small\": 0.0, \"ground_truth_mass_large\": 39.3, \"calculated_mass_large\": 37.77518669, \"ground_truth_mass_medium\": 8.5, \"calculated_mass_medium\": 7.057680238, \"ground_truth_mass_small\": 0.3, \"calculated_mass_small\": 0.0, \"Rep\": \"Small4\"}, {\"inserts\": \"High Density\", \"ground_truth_volume_large\": 98.2, \"calculated_volume_large\": 103.3537128, \"ground_truth_volume_medium\": 21.2, \"calculated_volume_medium\": 18.13089158, \"ground_truth_volume_small\": 0.8, \"calculated_volume_small\": 0.863499162, \"ground_truth_mass_large\": 78.5, \"calculated_mass_large\": 82.68297027, \"ground_truth_mass_medium\": 17.0, \"calculated_mass_medium\": 14.50471326, \"ground_truth_mass_small\": 0.6, \"calculated_mass_small\": 0.69079933, \"Rep\": \"Small4\"}, {\"inserts\": \"Low Density\", \"ground_truth_volume_large\": 98.2, \"calculated_volume_large\": 93.72394125, \"ground_truth_volume_medium\": 21.2, \"calculated_volume_medium\": 20.03175368, \"ground_truth_volume_small\": 0.8, \"calculated_volume_small\": 0.468032142, \"ground_truth_mass_large\": 19.6, \"calculated_mass_large\": 18.74478825, \"ground_truth_mass_medium\": 4.2, \"calculated_mass_medium\": 4.006350737, \"ground_truth_mass_small\": 0.2, \"calculated_mass_small\": 0.093606428, \"Rep\": \"Small5\"}, {\"inserts\": \"Medium Density\", \"ground_truth_volume_large\": 98.2, \"calculated_volume_large\": 104.0082488, \"ground_truth_volume_medium\": 21.2, \"calculated_volume_medium\": 18.35964962, \"ground_truth_volume_small\": 0.8, \"calculated_volume_small\": 0.0, \"ground_truth_mass_large\": 39.3, \"calculated_mass_large\": 41.60329954, \"ground_truth_mass_medium\": 8.5, \"calculated_mass_medium\": 7.343859846, \"ground_truth_mass_small\": 0.3, \"calculated_mass_small\": 0.0, \"Rep\": \"Small5\"}, {\"inserts\": \"High Density\", \"ground_truth_volume_large\": 98.2, \"calculated_volume_large\": 109.4403342, \"ground_truth_volume_medium\": 21.2, \"calculated_volume_medium\": 19.31398555, \"ground_truth_volume_small\": 0.8, \"calculated_volume_small\": 0.612192665, \"ground_truth_mass_large\": 78.5, \"calculated_mass_large\": 87.55226735, \"ground_truth_mass_medium\": 17.0, \"calculated_mass_medium\": 15.45118844, \"ground_truth_mass_small\": 0.6, \"calculated_mass_small\": 0.489754132, \"Rep\": \"Small5\"}], \"data-29f836ef7b03879444176699dbf3efbd\": [{\"inserts\": \"Low Density\", \"ground_truth_volume_large\": 98.2, \"calculated_volume_large\": 111.7697287, \"ground_truth_volume_medium\": 21.2, \"calculated_volume_medium\": 26.48512352, \"ground_truth_volume_small\": 0.8, \"calculated_volume_small\": 0.531044894, \"ground_truth_mass_large\": 19.6, \"calculated_mass_large\": 22.35394573, \"ground_truth_mass_medium\": 4.2, \"calculated_mass_medium\": 5.297024704, \"ground_truth_mass_small\": 0.2, \"calculated_mass_small\": 0.106208979, \"Rep\": \"Large1\"}, {\"inserts\": \"Medium Density\", \"ground_truth_volume_large\": 98.2, \"calculated_volume_large\": 102.499495, \"ground_truth_volume_medium\": 21.2, \"calculated_volume_medium\": 17.45417812, \"ground_truth_volume_small\": 0.8, \"calculated_volume_small\": 0.0, \"ground_truth_mass_large\": 39.3, \"calculated_mass_large\": 40.999798, \"ground_truth_mass_medium\": 8.5, \"calculated_mass_medium\": 6.981671246, \"ground_truth_mass_small\": 0.3, \"calculated_mass_small\": 0.0, \"Rep\": \"Large1\"}, {\"inserts\": \"High Density\", \"ground_truth_volume_large\": 98.2, \"calculated_volume_large\": 110.8912734, \"ground_truth_volume_medium\": 21.2, \"calculated_volume_medium\": 19.15604124, \"ground_truth_volume_small\": 0.8, \"calculated_volume_small\": 0.810060996, \"ground_truth_mass_large\": 78.5, \"calculated_mass_large\": 88.71301869, \"ground_truth_mass_medium\": 17.0, \"calculated_mass_medium\": 15.32483299, \"ground_truth_mass_small\": 0.6, \"calculated_mass_small\": 0.648048797, \"Rep\": \"Large1\"}, {\"inserts\": \"Low Density\", \"ground_truth_volume_large\": 98.2, \"calculated_volume_large\": 119.2557084, \"ground_truth_volume_medium\": 21.2, \"calculated_volume_medium\": 26.29419993, \"ground_truth_volume_small\": 0.8, \"calculated_volume_small\": 0.147551956, \"ground_truth_mass_large\": 19.6, \"calculated_mass_large\": 23.85114168, \"ground_truth_mass_medium\": 4.2, \"calculated_mass_medium\": 5.258839986, \"ground_truth_mass_small\": 0.2, \"calculated_mass_small\": 0.029510391, \"Rep\": \"Large2\"}, {\"inserts\": \"Medium Density\", \"ground_truth_volume_large\": 98.2, \"calculated_volume_large\": 103.7402806, \"ground_truth_volume_medium\": 21.2, \"calculated_volume_medium\": 18.09573134, \"ground_truth_volume_small\": 0.8, \"calculated_volume_small\": 0.316350105, \"ground_truth_mass_large\": 39.3, \"calculated_mass_large\": 41.49611224, \"ground_truth_mass_medium\": 8.5, \"calculated_mass_medium\": 7.238292535, \"ground_truth_mass_small\": 0.3, \"calculated_mass_small\": 0.126540042, \"Rep\": \"Large2\"}, {\"inserts\": \"High Density\", \"ground_truth_volume_large\": 98.2, \"calculated_volume_large\": 110.7977678, \"ground_truth_volume_medium\": 21.2, \"calculated_volume_medium\": 19.1933594, \"ground_truth_volume_small\": 0.8, \"calculated_volume_small\": 1.402605145, \"ground_truth_mass_large\": 78.5, \"calculated_mass_large\": 88.63821425, \"ground_truth_mass_medium\": 17.0, \"calculated_mass_medium\": 15.35468752, \"ground_truth_mass_small\": 0.6, \"calculated_mass_small\": 1.122084116, \"Rep\": \"Large2\"}, {\"inserts\": \"Low Density\", \"ground_truth_volume_large\": 98.2, \"calculated_volume_large\": 119.3964723, \"ground_truth_volume_medium\": 21.2, \"calculated_volume_medium\": 26.86125207, \"ground_truth_volume_small\": 0.8, \"calculated_volume_small\": 0.113854024, \"ground_truth_mass_large\": 19.6, \"calculated_mass_large\": 23.87929445, \"ground_truth_mass_medium\": 4.2, \"calculated_mass_medium\": 5.372250415, \"ground_truth_mass_small\": 0.2, \"calculated_mass_small\": 0.022770805, \"Rep\": \"Large3\"}, {\"inserts\": \"Medium Density\", \"ground_truth_volume_large\": 98.2, \"calculated_volume_large\": 105.1468287, \"ground_truth_volume_medium\": 21.2, \"calculated_volume_medium\": 15.8802292, \"ground_truth_volume_small\": 0.8, \"calculated_volume_small\": 0.697342414, \"ground_truth_mass_large\": 39.3, \"calculated_mass_large\": 42.05873146, \"ground_truth_mass_medium\": 8.5, \"calculated_mass_medium\": 6.35209168, \"ground_truth_mass_small\": 0.3, \"calculated_mass_small\": 0.278936965, \"Rep\": \"Large3\"}, {\"inserts\": \"High Density\", \"ground_truth_volume_large\": 98.2, \"calculated_volume_large\": 107.8172025, \"ground_truth_volume_medium\": 21.2, \"calculated_volume_medium\": 19.18353115, \"ground_truth_volume_small\": 0.8, \"calculated_volume_small\": 1.355775016, \"ground_truth_mass_large\": 78.5, \"calculated_mass_large\": 86.25376199, \"ground_truth_mass_medium\": 17.0, \"calculated_mass_medium\": 15.34682492, \"ground_truth_mass_small\": 0.6, \"calculated_mass_small\": 1.084620013, \"Rep\": \"Large3\"}, {\"inserts\": \"Low Density\", \"ground_truth_volume_large\": 98.2, \"calculated_volume_large\": 110.6650258, \"ground_truth_volume_medium\": 21.2, \"calculated_volume_medium\": 35.68278179, \"ground_truth_volume_small\": 0.8, \"calculated_volume_small\": 0.0, \"ground_truth_mass_large\": 19.6, \"calculated_mass_large\": 22.13300516, \"ground_truth_mass_medium\": 4.2, \"calculated_mass_medium\": 7.136556357, \"ground_truth_mass_small\": 0.2, \"calculated_mass_small\": 0.0, \"Rep\": \"Large4\"}, {\"inserts\": \"Medium Density\", \"ground_truth_volume_large\": 98.2, \"calculated_volume_large\": 111.4077375, \"ground_truth_volume_medium\": 21.2, \"calculated_volume_medium\": 18.33124558, \"ground_truth_volume_small\": 0.8, \"calculated_volume_small\": 0.730206886, \"ground_truth_mass_large\": 39.3, \"calculated_mass_large\": 44.563095, \"ground_truth_mass_medium\": 8.5, \"calculated_mass_medium\": 7.332498233, \"ground_truth_mass_small\": 0.3, \"calculated_mass_small\": 0.292082754, \"Rep\": \"Large4\"}, {\"inserts\": \"High Density\", \"ground_truth_volume_large\": 98.2, \"calculated_volume_large\": 122.3507912, \"ground_truth_volume_medium\": 21.2, \"calculated_volume_medium\": 17.55905567, \"ground_truth_volume_small\": 0.8, \"calculated_volume_small\": 0.703332435, \"ground_truth_mass_large\": 78.5, \"calculated_mass_large\": 97.88063298, \"ground_truth_mass_medium\": 17.0, \"calculated_mass_medium\": 14.04724454, \"ground_truth_mass_small\": 0.6, \"calculated_mass_small\": 0.562665948, \"Rep\": \"Large4\"}, {\"inserts\": \"Low Density\", \"ground_truth_volume_large\": 98.2, \"calculated_volume_large\": 115.7848383, \"ground_truth_volume_medium\": 21.2, \"calculated_volume_medium\": 21.51612563, \"ground_truth_volume_small\": 0.8, \"calculated_volume_small\": 0.723830946, \"ground_truth_mass_large\": 19.6, \"calculated_mass_large\": 23.15696765, \"ground_truth_mass_medium\": 4.2, \"calculated_mass_medium\": 4.303225126, \"ground_truth_mass_small\": 0.2, \"calculated_mass_small\": 0.144766189, \"Rep\": \"Large5\"}, {\"inserts\": \"Medium Density\", \"ground_truth_volume_large\": 98.2, \"calculated_volume_large\": 109.0938025, \"ground_truth_volume_medium\": 21.2, \"calculated_volume_medium\": 22.99494247, \"ground_truth_volume_small\": 0.8, \"calculated_volume_small\": 0.0, \"ground_truth_mass_large\": 39.3, \"calculated_mass_large\": 43.63752099, \"ground_truth_mass_medium\": 8.5, \"calculated_mass_medium\": 9.197976986, \"ground_truth_mass_small\": 0.3, \"calculated_mass_small\": 0.0, \"Rep\": \"Large5\"}, {\"inserts\": \"High Density\", \"ground_truth_volume_large\": 98.2, \"calculated_volume_large\": 110.9326873, \"ground_truth_volume_medium\": 21.2, \"calculated_volume_medium\": 21.09643724, \"ground_truth_volume_small\": 0.8, \"calculated_volume_small\": 2.022274116, \"ground_truth_mass_large\": 78.5, \"calculated_mass_large\": 88.74614983, \"ground_truth_mass_medium\": 17.0, \"calculated_mass_medium\": 16.87714979, \"ground_truth_mass_small\": 0.6, \"calculated_mass_small\": 1.617819293, \"Rep\": \"Large5\"}, {\"inserts\": \"Low Density\", \"ground_truth_volume_large\": 98.2, \"calculated_volume_large\": 115.9370048, \"ground_truth_volume_medium\": 21.2, \"calculated_volume_medium\": 25.95493773, \"ground_truth_volume_small\": 0.8, \"calculated_volume_small\": 0.215802452, \"ground_truth_mass_large\": 19.6, \"calculated_mass_large\": 23.18740097, \"ground_truth_mass_medium\": 4.2, \"calculated_mass_medium\": 5.190987547, \"ground_truth_mass_small\": 0.2, \"calculated_mass_small\": 0.04316049, \"Rep\": \"Small1\"}, {\"inserts\": \"Medium Density\", \"ground_truth_volume_large\": 98.2, \"calculated_volume_large\": 113.2906037, \"ground_truth_volume_medium\": 21.2, \"calculated_volume_medium\": 21.043821, \"ground_truth_volume_small\": 0.8, \"calculated_volume_small\": 0.476742083, \"ground_truth_mass_large\": 39.3, \"calculated_mass_large\": 45.31624148, \"ground_truth_mass_medium\": 8.5, \"calculated_mass_medium\": 8.4175284, \"ground_truth_mass_small\": 0.3, \"calculated_mass_small\": 0.190696833, \"Rep\": \"Small1\"}, {\"inserts\": \"High Density\", \"ground_truth_volume_large\": 98.2, \"calculated_volume_large\": 117.9882938, \"ground_truth_volume_medium\": 21.2, \"calculated_volume_medium\": 22.29502453, \"ground_truth_volume_small\": 0.8, \"calculated_volume_small\": 0.619843332, \"ground_truth_mass_large\": 78.5, \"calculated_mass_large\": 94.39063505, \"ground_truth_mass_medium\": 17.0, \"calculated_mass_medium\": 17.83601963, \"ground_truth_mass_small\": 0.6, \"calculated_mass_small\": 0.495874666, \"Rep\": \"Small1\"}, {\"inserts\": \"Low Density\", \"ground_truth_volume_large\": 98.2, \"calculated_volume_large\": 105.1986783, \"ground_truth_volume_medium\": 21.2, \"calculated_volume_medium\": 24.31150652, \"ground_truth_volume_small\": 0.8, \"calculated_volume_small\": 0.223621866, \"ground_truth_mass_large\": 19.6, \"calculated_mass_large\": 21.03973566, \"ground_truth_mass_medium\": 4.2, \"calculated_mass_medium\": 4.862301304, \"ground_truth_mass_small\": 0.2, \"calculated_mass_small\": 0.044724373, \"Rep\": \"Small2\"}, {\"inserts\": \"Medium Density\", \"ground_truth_volume_large\": 98.2, \"calculated_volume_large\": 100.456552, \"ground_truth_volume_medium\": 21.2, \"calculated_volume_medium\": 18.99330036, \"ground_truth_volume_small\": 0.8, \"calculated_volume_small\": 0.232555171, \"ground_truth_mass_large\": 39.3, \"calculated_mass_large\": 40.18262078, \"ground_truth_mass_medium\": 8.5, \"calculated_mass_medium\": 7.597320143, \"ground_truth_mass_small\": 0.3, \"calculated_mass_small\": 0.093022068, \"Rep\": \"Small2\"}, {\"inserts\": \"High Density\", \"ground_truth_volume_large\": 98.2, \"calculated_volume_large\": 106.5432778, \"ground_truth_volume_medium\": 21.2, \"calculated_volume_medium\": 19.82901537, \"ground_truth_volume_small\": 0.8, \"calculated_volume_small\": 0.605742508, \"ground_truth_mass_large\": 78.5, \"calculated_mass_large\": 85.23462223, \"ground_truth_mass_medium\": 17.0, \"calculated_mass_medium\": 15.86321229, \"ground_truth_mass_small\": 0.6, \"calculated_mass_small\": 0.484594007, \"Rep\": \"Small2\"}, {\"inserts\": \"Low Density\", \"ground_truth_volume_large\": 98.2, \"calculated_volume_large\": 114.8811307, \"ground_truth_volume_medium\": 21.2, \"calculated_volume_medium\": 20.49292348, \"ground_truth_volume_small\": 0.8, \"calculated_volume_small\": 0.465132673, \"ground_truth_mass_large\": 19.6, \"calculated_mass_large\": 22.97622615, \"ground_truth_mass_medium\": 4.2, \"calculated_mass_medium\": 4.098584697, \"ground_truth_mass_small\": 0.2, \"calculated_mass_small\": 0.093026535, \"Rep\": \"Small3\"}, {\"inserts\": \"Medium Density\", \"ground_truth_volume_large\": 98.2, \"calculated_volume_large\": 113.8508181, \"ground_truth_volume_medium\": 21.2, \"calculated_volume_medium\": 21.27455469, \"ground_truth_volume_small\": 0.8, \"calculated_volume_small\": 0.064950443, \"ground_truth_mass_large\": 39.3, \"calculated_mass_large\": 45.54032723, \"ground_truth_mass_medium\": 8.5, \"calculated_mass_medium\": 8.509821876, \"ground_truth_mass_small\": 0.3, \"calculated_mass_small\": 0.025980177, \"Rep\": \"Small3\"}, {\"inserts\": \"High Density\", \"ground_truth_volume_large\": 98.2, \"calculated_volume_large\": 120.8258552, \"ground_truth_volume_medium\": 21.2, \"calculated_volume_medium\": 20.58943192, \"ground_truth_volume_small\": 0.8, \"calculated_volume_small\": 0.435288411, \"ground_truth_mass_large\": 78.5, \"calculated_mass_large\": 96.66068413, \"ground_truth_mass_medium\": 17.0, \"calculated_mass_medium\": 16.47154554, \"ground_truth_mass_small\": 0.6, \"calculated_mass_small\": 0.348230729, \"Rep\": \"Small3\"}, {\"inserts\": \"Low Density\", \"ground_truth_volume_large\": 98.2, \"calculated_volume_large\": 116.3154186, \"ground_truth_volume_medium\": 21.2, \"calculated_volume_medium\": 21.84560788, \"ground_truth_volume_small\": 0.8, \"calculated_volume_small\": 0.17370539, \"ground_truth_mass_large\": 19.6, \"calculated_mass_large\": 23.26308373, \"ground_truth_mass_medium\": 4.2, \"calculated_mass_medium\": 4.369121576, \"ground_truth_mass_small\": 0.2, \"calculated_mass_small\": 0.034741078, \"Rep\": \"Small4\"}, {\"inserts\": \"Medium Density\", \"ground_truth_volume_large\": 98.2, \"calculated_volume_large\": 105.1556972, \"ground_truth_volume_medium\": 21.2, \"calculated_volume_medium\": 19.64143958, \"ground_truth_volume_small\": 0.8, \"calculated_volume_small\": 0.0, \"ground_truth_mass_large\": 39.3, \"calculated_mass_large\": 42.06227888, \"ground_truth_mass_medium\": 8.5, \"calculated_mass_medium\": 7.856575831, \"ground_truth_mass_small\": 0.3, \"calculated_mass_small\": 0.0, \"Rep\": \"Small4\"}, {\"inserts\": \"High Density\", \"ground_truth_volume_large\": 98.2, \"calculated_volume_large\": 112.5067565, \"ground_truth_volume_medium\": 21.2, \"calculated_volume_medium\": 19.74763706, \"ground_truth_volume_small\": 0.8, \"calculated_volume_small\": 0.940446459, \"ground_truth_mass_large\": 78.5, \"calculated_mass_large\": 90.00540523, \"ground_truth_mass_medium\": 17.0, \"calculated_mass_medium\": 15.79810965, \"ground_truth_mass_small\": 0.6, \"calculated_mass_small\": 0.752357167, \"Rep\": \"Small4\"}, {\"inserts\": \"Low Density\", \"ground_truth_volume_large\": 98.2, \"calculated_volume_large\": 97.10338755, \"ground_truth_volume_medium\": 21.2, \"calculated_volume_medium\": 20.73964795, \"ground_truth_volume_small\": 0.8, \"calculated_volume_small\": 0.481651325, \"ground_truth_mass_large\": 19.6, \"calculated_mass_large\": 19.42067751, \"ground_truth_mass_medium\": 4.2, \"calculated_mass_medium\": 4.147929591, \"ground_truth_mass_small\": 0.2, \"calculated_mass_small\": 0.096330265, \"Rep\": \"Small5\"}, {\"inserts\": \"Medium Density\", \"ground_truth_volume_large\": 98.2, \"calculated_volume_large\": 107.2094347, \"ground_truth_volume_medium\": 21.2, \"calculated_volume_medium\": 18.9299214, \"ground_truth_volume_small\": 0.8, \"calculated_volume_small\": 0.0, \"ground_truth_mass_large\": 39.3, \"calculated_mass_large\": 42.8837739, \"ground_truth_mass_medium\": 8.5, \"calculated_mass_medium\": 7.571968559, \"ground_truth_mass_small\": 0.3, \"calculated_mass_small\": 0.0, \"Rep\": \"Small5\"}, {\"inserts\": \"High Density\", \"ground_truth_volume_large\": 98.2, \"calculated_volume_large\": 112.5880567, \"ground_truth_volume_medium\": 21.2, \"calculated_volume_medium\": 19.87702426, \"ground_truth_volume_small\": 0.8, \"calculated_volume_small\": 0.630074149, \"ground_truth_mass_large\": 78.5, \"calculated_mass_large\": 90.07044537, \"ground_truth_mass_medium\": 17.0, \"calculated_mass_medium\": 15.90161941, \"ground_truth_mass_small\": 0.6, \"calculated_mass_small\": 0.504059319, \"Rep\": \"Small5\"}]}}, {\"mode\": \"vega-lite\"});\n</script>",
      "text/plain": "alt.HConcatChart(...)"
     },
     "metadata": {}
    }
   ],
   "execution_count": 140
  },
  {
   "cell_type": "markdown",
   "source": "### Volume Score",
   "metadata": {
    "cell_id": "cf45c956-aa5c-4e10-82f1-398b545d2281",
    "tags": [],
    "is_collapsed": false,
    "deepnote_cell_type": "text-cell-h3"
   }
  },
  {
   "cell_type": "code",
   "source": "PP2_vol = vol_prep(PP2)\nPP3_vol = vol_prep(PP3)",
   "metadata": {
    "cell_id": "335778ec-015d-4f21-aaf9-193495eec4d3",
    "tags": [],
    "deepnote_to_be_reexecuted": false,
    "source_hash": "9c9fb715",
    "execution_start": 1643836608289,
    "execution_millis": 1,
    "deepnote_cell_type": "code"
   },
   "outputs": [],
   "execution_count": 144
  },
  {
   "cell_type": "code",
   "source": "X_PP2_V = PP2_vol.ground_truth_volume.to_numpy().reshape(-1,1)\ny_PP2_V = PP2_vol.calculated_volume.to_numpy().reshape(-1,1)\nreg_PP2_V = LinearRegression().fit(X_PP2_V,y_PP2_V)\nPP2_scoreV = reg_PP2_S.score(X_PP2_V,y_PP2_V)\nPP2_scoreV",
   "metadata": {
    "cell_id": "f6c3e2f4-4e6e-481c-903b-40f5315e02ac",
    "tags": [],
    "deepnote_to_be_reexecuted": false,
    "source_hash": "67b6c6f0",
    "execution_start": 1643836609277,
    "execution_millis": 12,
    "deepnote_output_heights": [
     21.1875
    ],
    "deepnote_cell_type": "code"
   },
   "outputs": [
    {
     "output_type": "execute_result",
     "execution_count": 145,
     "data": {
      "text/plain": "0.09602822441748737"
     },
     "metadata": {}
    }
   ],
   "execution_count": 145
  },
  {
   "cell_type": "code",
   "source": "P2V,Q2V = [reg_PP2_V.coef_[0,0],reg_PP2_V.intercept_[0]]\nprint(\"y = {} x + {}\".format(str(P2V),str(Q2V)))",
   "metadata": {
    "cell_id": "0630d700-8dae-435b-8ab8-ce6061c2c430",
    "tags": [],
    "deepnote_to_be_reexecuted": false,
    "source_hash": "2d712f23",
    "execution_start": 1643836610258,
    "execution_millis": 22,
    "deepnote_cell_type": "code"
   },
   "outputs": [
    {
     "name": "stdout",
     "text": "y = 1.0241665084575757 x + -1.3579509791002025\n",
     "output_type": "stream"
    }
   ],
   "execution_count": 146
  },
  {
   "cell_type": "code",
   "source": "X_PP3_V = PP3_vol.ground_truth_volume.to_numpy().reshape(-1,1)\ny_PP3_V = PP3_vol.calculated_volume.to_numpy().reshape(-1,1)\nreg_PP3_V = LinearRegression().fit(X_PP3_V,y_PP3_V)\nPP3_scoreV = reg_PP3_S.score(X_PP3_V,y_PP3_V)\nPP3_scoreV",
   "metadata": {
    "cell_id": "d7474b91-efed-47e4-bbd0-4500b5dd6879",
    "tags": [],
    "deepnote_to_be_reexecuted": false,
    "source_hash": "9b031d82",
    "execution_start": 1643836611089,
    "execution_millis": 18,
    "deepnote_output_heights": [
     21.1875
    ],
    "deepnote_cell_type": "code"
   },
   "outputs": [
    {
     "output_type": "execute_result",
     "execution_count": 147,
     "data": {
      "text/plain": "0.2262793722011759"
     },
     "metadata": {}
    }
   ],
   "execution_count": 147
  },
  {
   "cell_type": "code",
   "source": "P3V,Q3V = [reg_PP3_V.coef_[0,0],reg_PP3_V.intercept_[0]]\nprint(\"y = {} x + {}\".format(str(P3V),str(Q3V)))",
   "metadata": {
    "cell_id": "a583641b-80a4-424f-bd0e-b8290e74d95c",
    "tags": [],
    "deepnote_to_be_reexecuted": false,
    "source_hash": "a50a7a21",
    "execution_start": 1643836612027,
    "execution_millis": 3,
    "deepnote_cell_type": "code"
   },
   "outputs": [
    {
     "name": "stdout",
     "text": "y = 1.1430804420016882 x + -1.4897517214787612\n",
     "output_type": "stream"
    }
   ],
   "execution_count": 148
  },
  {
   "cell_type": "code",
   "source": "PP2_volume = chart_plot_vol(PP2_vol)\nPP3_volume = chart_plot_vol(PP3_vol)\nPP2_volume | PP3_volume",
   "metadata": {
    "cell_id": "dceca7bf-f437-4bab-87f1-a758de74e4b9",
    "tags": [],
    "deepnote_to_be_reexecuted": false,
    "source_hash": "b34b5c21",
    "execution_start": 1643836614917,
    "execution_millis": 138,
    "deepnote_output_heights": [
     363,
     21.1875
    ],
    "deepnote_cell_type": "code"
   },
   "outputs": [
    {
     "output_type": "execute_result",
     "execution_count": 149,
     "data": {
      "text/html": "\n<div id=\"altair-viz-3b2e4238937e4981b2ebf8dbc45e0312\"></div>\n<script type=\"text/javascript\">\n  (function(spec, embedOpt){\n    let outputDiv = document.currentScript.previousElementSibling;\n    if (outputDiv.id !== \"altair-viz-3b2e4238937e4981b2ebf8dbc45e0312\") {\n      outputDiv = document.getElementById(\"altair-viz-3b2e4238937e4981b2ebf8dbc45e0312\");\n    }\n    const paths = {\n      \"vega\": \"https://cdn.jsdelivr.net/npm//vega@5?noext\",\n      \"vega-lib\": \"https://cdn.jsdelivr.net/npm//vega-lib?noext\",\n      \"vega-lite\": \"https://cdn.jsdelivr.net/npm//vega-lite@4.8.1?noext\",\n      \"vega-embed\": \"https://cdn.jsdelivr.net/npm//vega-embed@6?noext\",\n    };\n\n    function loadScript(lib) {\n      return new Promise(function(resolve, reject) {\n        var s = document.createElement('script');\n        s.src = paths[lib];\n        s.async = true;\n        s.onload = () => resolve(paths[lib]);\n        s.onerror = () => reject(`Error loading script: ${paths[lib]}`);\n        document.getElementsByTagName(\"head\")[0].appendChild(s);\n      });\n    }\n\n    function showError(err) {\n      outputDiv.innerHTML = `<div class=\"error\" style=\"color:red;\">${err}</div>`;\n      throw err;\n    }\n\n    function displayChart(vegaEmbed) {\n      vegaEmbed(outputDiv, spec, embedOpt)\n        .catch(err => showError(`Javascript Error: ${err.message}<br>This usually means there's a typo in your chart specification. See the javascript console for the full traceback.`));\n    }\n\n    if(typeof define === \"function\" && define.amd) {\n      requirejs.config({paths});\n      require([\"vega-embed\"], displayChart, err => showError(`Error loading script: ${err.message}`));\n    } else if (typeof vegaEmbed === \"function\") {\n      displayChart(vegaEmbed);\n    } else {\n      loadScript(\"vega\")\n        .then(() => loadScript(\"vega-lite\"))\n        .then(() => loadScript(\"vega-embed\"))\n        .catch(showError)\n        .then(() => displayChart(vegaEmbed));\n    }\n  })({\"config\": {\"view\": {\"continuousWidth\": 400, \"continuousHeight\": 300}}, \"hconcat\": [{\"layer\": [{\"data\": {\"name\": \"data-bc66fce9ecb386511a39430c63c31330\"}, \"mark\": \"circle\", \"encoding\": {\"color\": {\"type\": \"nominal\", \"field\": \"Rep\"}, \"x\": {\"type\": \"quantitative\", \"field\": \"ground_truth_volume\"}, \"y\": {\"type\": \"quantitative\", \"field\": \"calculated_volume\"}}}, {\"data\": {\"name\": \"data-53394a6a581bc7d3ef85fd810b13f48f\"}, \"mark\": \"line\", \"encoding\": {\"color\": {\"type\": \"nominal\", \"field\": \"Rep\"}, \"x\": {\"type\": \"quantitative\", \"field\": \"ground_truth_volume\"}, \"y\": {\"type\": \"quantitative\", \"field\": \"calculated_volume\"}}, \"transform\": [{\"on\": \"ground_truth_volume\", \"regression\": \"calculated_volume\", \"method\": \"linear\"}]}, {\"data\": {\"name\": \"data-53394a6a581bc7d3ef85fd810b13f48f\"}, \"mark\": {\"type\": \"line\", \"color\": \"red\"}, \"encoding\": {\"x\": {\"type\": \"quantitative\", \"field\": \"ground_truth_volume\"}, \"y\": {\"type\": \"quantitative\", \"field\": \"ground_truth_volume\"}}}]}, {\"layer\": [{\"data\": {\"name\": \"data-b2df0d08da29d7f8f76f1d66355f6ec2\"}, \"mark\": \"circle\", \"encoding\": {\"color\": {\"type\": \"nominal\", \"field\": \"Rep\"}, \"x\": {\"type\": \"quantitative\", \"field\": \"ground_truth_volume\"}, \"y\": {\"type\": \"quantitative\", \"field\": \"calculated_volume\"}}}, {\"data\": {\"name\": \"data-53394a6a581bc7d3ef85fd810b13f48f\"}, \"mark\": \"line\", \"encoding\": {\"color\": {\"type\": \"nominal\", \"field\": \"Rep\"}, \"x\": {\"type\": \"quantitative\", \"field\": \"ground_truth_volume\"}, \"y\": {\"type\": \"quantitative\", \"field\": \"calculated_volume\"}}, \"transform\": [{\"on\": \"ground_truth_volume\", \"regression\": \"calculated_volume\", \"method\": \"linear\"}]}, {\"data\": {\"name\": \"data-53394a6a581bc7d3ef85fd810b13f48f\"}, \"mark\": {\"type\": \"line\", \"color\": \"red\"}, \"encoding\": {\"x\": {\"type\": \"quantitative\", \"field\": \"ground_truth_volume\"}, \"y\": {\"type\": \"quantitative\", \"field\": \"ground_truth_volume\"}}}]}], \"$schema\": \"https://vega.github.io/schema/vega-lite/v4.8.1.json\", \"datasets\": {\"data-bc66fce9ecb386511a39430c63c31330\": [{\"Rep\": \"Large1\", \"ground_truth_volume\": 98.2, \"calculated_volume\": 96.86942096}, {\"Rep\": \"Large1\", \"ground_truth_volume\": 98.2, \"calculated_volume\": 94.93963518}, {\"Rep\": \"Large1\", \"ground_truth_volume\": 98.2, \"calculated_volume\": 105.7198846}, {\"Rep\": \"Large2\", \"ground_truth_volume\": 98.2, \"calculated_volume\": 101.7240236}, {\"Rep\": \"Large2\", \"ground_truth_volume\": 98.2, \"calculated_volume\": 97.100217}, {\"Rep\": \"Large2\", \"ground_truth_volume\": 98.2, \"calculated_volume\": 107.6956942}, {\"Rep\": \"Large3\", \"ground_truth_volume\": 98.2, \"calculated_volume\": 103.2564486}, {\"Rep\": \"Large3\", \"ground_truth_volume\": 98.2, \"calculated_volume\": 96.88255384}, {\"Rep\": \"Large3\", \"ground_truth_volume\": 98.2, \"calculated_volume\": 101.8943355}, {\"Rep\": \"Large4\", \"ground_truth_volume\": 98.2, \"calculated_volume\": 85.94202661}, {\"Rep\": \"Large4\", \"ground_truth_volume\": 98.2, \"calculated_volume\": 92.0310655}, {\"Rep\": \"Large4\", \"ground_truth_volume\": 98.2, \"calculated_volume\": 103.2934674}, {\"Rep\": \"Large5\", \"ground_truth_volume\": 98.2, \"calculated_volume\": 89.8918177}, {\"Rep\": \"Large5\", \"ground_truth_volume\": 98.2, \"calculated_volume\": 92.06725628}, {\"Rep\": \"Large5\", \"ground_truth_volume\": 98.2, \"calculated_volume\": 96.91470335}, {\"Rep\": \"Small1\", \"ground_truth_volume\": 98.2, \"calculated_volume\": 97.18777638}, {\"Rep\": \"Small1\", \"ground_truth_volume\": 98.2, \"calculated_volume\": 98.41114623}, {\"Rep\": \"Small1\", \"ground_truth_volume\": 98.2, \"calculated_volume\": 104.0975579}, {\"Rep\": \"Small2\", \"ground_truth_volume\": 98.2, \"calculated_volume\": 99.03639098}, {\"Rep\": \"Small2\", \"ground_truth_volume\": 98.2, \"calculated_volume\": 100.4061777}, {\"Rep\": \"Small2\", \"ground_truth_volume\": 98.2, \"calculated_volume\": 109.1660088}, {\"Rep\": \"Small3\", \"ground_truth_volume\": 98.2, \"calculated_volume\": 97.96971288}, {\"Rep\": \"Small3\", \"ground_truth_volume\": 98.2, \"calculated_volume\": 100.0385408}, {\"Rep\": \"Small3\", \"ground_truth_volume\": 98.2, \"calculated_volume\": 107.6768012}, {\"Rep\": \"Small4\", \"ground_truth_volume\": 98.2, \"calculated_volume\": 99.2560325}, {\"Rep\": \"Small4\", \"ground_truth_volume\": 98.2, \"calculated_volume\": 94.43796672}, {\"Rep\": \"Small4\", \"ground_truth_volume\": 98.2, \"calculated_volume\": 103.3537128}, {\"Rep\": \"Small5\", \"ground_truth_volume\": 98.2, \"calculated_volume\": 93.72394125}, {\"Rep\": \"Small5\", \"ground_truth_volume\": 98.2, \"calculated_volume\": 104.0082488}, {\"Rep\": \"Small5\", \"ground_truth_volume\": 98.2, \"calculated_volume\": 109.4403342}, {\"Rep\": \"Large1\", \"ground_truth_volume\": 21.2, \"calculated_volume\": 22.93489953}, {\"Rep\": \"Large1\", \"ground_truth_volume\": 21.2, \"calculated_volume\": 16.15138834}, {\"Rep\": \"Large1\", \"ground_truth_volume\": 21.2, \"calculated_volume\": 18.25453642}, {\"Rep\": \"Large2\", \"ground_truth_volume\": 21.2, \"calculated_volume\": 22.46947522}, {\"Rep\": \"Large2\", \"ground_truth_volume\": 21.2, \"calculated_volume\": 16.93226125}, {\"Rep\": \"Large2\", \"ground_truth_volume\": 21.2, \"calculated_volume\": 18.64640554}, {\"Rep\": \"Large3\", \"ground_truth_volume\": 21.2, \"calculated_volume\": 23.23540068}, {\"Rep\": \"Large3\", \"ground_truth_volume\": 21.2, \"calculated_volume\": 14.60666936}, {\"Rep\": \"Large3\", \"ground_truth_volume\": 21.2, \"calculated_volume\": 18.11903321}, {\"Rep\": \"Large4\", \"ground_truth_volume\": 21.2, \"calculated_volume\": 28.15226768}, {\"Rep\": \"Large4\", \"ground_truth_volume\": 21.2, \"calculated_volume\": 15.10419356}, {\"Rep\": \"Large4\", \"ground_truth_volume\": 21.2, \"calculated_volume\": 14.7696305}, {\"Rep\": \"Large5\", \"ground_truth_volume\": 21.2, \"calculated_volume\": 16.74362952}, {\"Rep\": \"Large5\", \"ground_truth_volume\": 21.2, \"calculated_volume\": 19.44941618}, {\"Rep\": \"Large5\", \"ground_truth_volume\": 21.2, \"calculated_volume\": 18.39995246}, {\"Rep\": \"Small1\", \"ground_truth_volume\": 21.2, \"calculated_volume\": 21.81135208}, {\"Rep\": \"Small1\", \"ground_truth_volume\": 21.2, \"calculated_volume\": 18.27190485}, {\"Rep\": \"Small1\", \"ground_truth_volume\": 21.2, \"calculated_volume\": 19.66363745}, {\"Rep\": \"Small2\", \"ground_truth_volume\": 21.2, \"calculated_volume\": 22.89151009}, {\"Rep\": \"Small2\", \"ground_truth_volume\": 21.2, \"calculated_volume\": 18.98377462}, {\"Rep\": \"Small2\", \"ground_truth_volume\": 21.2, \"calculated_volume\": 20.32379396}, {\"Rep\": \"Small3\", \"ground_truth_volume\": 21.2, \"calculated_volume\": 17.47789859}, {\"Rep\": \"Small3\", \"ground_truth_volume\": 21.2, \"calculated_volume\": 18.69545607}, {\"Rep\": \"Small3\", \"ground_truth_volume\": 21.2, \"calculated_volume\": 18.32032539}, {\"Rep\": \"Small4\", \"ground_truth_volume\": 21.2, \"calculated_volume\": 18.65631344}, {\"Rep\": \"Small4\", \"ground_truth_volume\": 21.2, \"calculated_volume\": 17.6442006}, {\"Rep\": \"Small4\", \"ground_truth_volume\": 21.2, \"calculated_volume\": 18.13089158}, {\"Rep\": \"Small5\", \"ground_truth_volume\": 21.2, \"calculated_volume\": 20.03175368}, {\"Rep\": \"Small5\", \"ground_truth_volume\": 21.2, \"calculated_volume\": 18.35964962}, {\"Rep\": \"Small5\", \"ground_truth_volume\": 21.2, \"calculated_volume\": 19.31398555}, {\"Rep\": \"Large1\", \"ground_truth_volume\": 0.8, \"calculated_volume\": 0.505978314}, {\"Rep\": \"Large1\", \"ground_truth_volume\": 0.8, \"calculated_volume\": 0.0}, {\"Rep\": \"Large1\", \"ground_truth_volume\": 0.8, \"calculated_volume\": 0.771803343}, {\"Rep\": \"Large2\", \"ground_truth_volume\": 0.8, \"calculated_volume\": 0.143371242}, {\"Rep\": \"Large2\", \"ground_truth_volume\": 0.8, \"calculated_volume\": 0.307359953}, {\"Rep\": \"Large2\", \"ground_truth_volume\": 0.8, \"calculated_volume\": 1.362864672}, {\"Rep\": \"Large3\", \"ground_truth_volume\": 0.8, \"calculated_volume\": 0.107542705}, {\"Rep\": \"Large3\", \"ground_truth_volume\": 0.8, \"calculated_volume\": 0.658693219}, {\"Rep\": \"Large3\", \"ground_truth_volume\": 0.8, \"calculated_volume\": 1.280599679}, {\"Rep\": \"Large4\", \"ground_truth_volume\": 0.8, \"calculated_volume\": 0.0}, {\"Rep\": \"Large4\", \"ground_truth_volume\": 0.8, \"calculated_volume\": 0.615625906}, {\"Rep\": \"Large4\", \"ground_truth_volume\": 0.8, \"calculated_volume\": 0.592129027}, {\"Rep\": \"Large5\", \"ground_truth_volume\": 0.8, \"calculated_volume\": 0.63148882}, {\"Rep\": \"Large5\", \"ground_truth_volume\": 0.8, \"calculated_volume\": 0.0}, {\"Rep\": \"Large5\", \"ground_truth_volume\": 0.8, \"calculated_volume\": 1.765717325}, {\"Rep\": \"Small1\", \"ground_truth_volume\": 0.8, \"calculated_volume\": 0.190185275}, {\"Rep\": \"Small1\", \"ground_truth_volume\": 0.8, \"calculated_volume\": 0.420247548}, {\"Rep\": \"Small1\", \"ground_truth_volume\": 0.8, \"calculated_volume\": 0.546417794}, {\"Rep\": \"Small2\", \"ground_truth_volume\": 0.8, \"calculated_volume\": 0.229204603}, {\"Rep\": \"Small2\", \"ground_truth_volume\": 0.8, \"calculated_volume\": 0.238367133}, {\"Rep\": \"Small2\", \"ground_truth_volume\": 0.8, \"calculated_volume\": 0.620835378}, {\"Rep\": \"Small3\", \"ground_truth_volume\": 0.8, \"calculated_volume\": 0.413759873}, {\"Rep\": \"Small3\", \"ground_truth_volume\": 0.8, \"calculated_volume\": 0.05777456}, {\"Rep\": \"Small3\", \"ground_truth_volume\": 0.8, \"calculated_volume\": 0.387210997}, {\"Rep\": \"Small4\", \"ground_truth_volume\": 0.8, \"calculated_volume\": 0.159433564}, {\"Rep\": \"Small4\", \"ground_truth_volume\": 0.8, \"calculated_volume\": 0.0}, {\"Rep\": \"Small4\", \"ground_truth_volume\": 0.8, \"calculated_volume\": 0.863499162}, {\"Rep\": \"Small5\", \"ground_truth_volume\": 0.8, \"calculated_volume\": 0.468032142}, {\"Rep\": \"Small5\", \"ground_truth_volume\": 0.8, \"calculated_volume\": 0.0}, {\"Rep\": \"Small5\", \"ground_truth_volume\": 0.8, \"calculated_volume\": 0.612192665}], \"data-53394a6a581bc7d3ef85fd810b13f48f\": [{\"Rep\": \"Large1\", \"ground_truth_volume\": 98.2, \"calculated_volume\": 117.5381351}, {\"Rep\": \"Large1\", \"ground_truth_volume\": 98.2, \"calculated_volume\": 107.0596031}, {\"Rep\": \"Large1\", \"ground_truth_volume\": 98.2, \"calculated_volume\": 104.6497219}, {\"Rep\": \"Large2\", \"ground_truth_volume\": 98.2, \"calculated_volume\": 112.5889884}, {\"Rep\": \"Large2\", \"ground_truth_volume\": 98.2, \"calculated_volume\": 102.1324663}, {\"Rep\": \"Large2\", \"ground_truth_volume\": 98.2, \"calculated_volume\": 106.7635256}, {\"Rep\": \"Large3\", \"ground_truth_volume\": 98.2, \"calculated_volume\": 120.1480912}, {\"Rep\": \"Large3\", \"ground_truth_volume\": 98.2, \"calculated_volume\": 110.1617326}, {\"Rep\": \"Large3\", \"ground_truth_volume\": 98.2, \"calculated_volume\": 108.2459504}, {\"Rep\": \"Large4\", \"ground_truth_volume\": 98.2, \"calculated_volume\": 118.8278571}, {\"Rep\": \"Large4\", \"ground_truth_volume\": 98.2, \"calculated_volume\": 114.8880445}, {\"Rep\": \"Large4\", \"ground_truth_volume\": 98.2, \"calculated_volume\": 105.986391}, {\"Rep\": \"Large5\", \"ground_truth_volume\": 98.2, \"calculated_volume\": 128.2398402}, {\"Rep\": \"Large5\", \"ground_truth_volume\": 98.2, \"calculated_volume\": 98.66783266}, {\"Rep\": \"Large5\", \"ground_truth_volume\": 98.2, \"calculated_volume\": 103.2754851}, {\"Rep\": \"Small1\", \"ground_truth_volume\": 98.2, \"calculated_volume\": 214.9492396}, {\"Rep\": \"Small1\", \"ground_truth_volume\": 98.2, \"calculated_volume\": 134.2914239}, {\"Rep\": \"Small1\", \"ground_truth_volume\": 98.2, \"calculated_volume\": 115.3856584}, {\"Rep\": \"Small2\", \"ground_truth_volume\": 98.2, \"calculated_volume\": 194.3176719}, {\"Rep\": \"Small2\", \"ground_truth_volume\": 98.2, \"calculated_volume\": 121.1301296}, {\"Rep\": \"Small2\", \"ground_truth_volume\": 98.2, \"calculated_volume\": 112.3335566}, {\"Rep\": \"Small3\", \"ground_truth_volume\": 98.2, \"calculated_volume\": 101.0523809}, {\"Rep\": \"Small3\", \"ground_truth_volume\": 98.2, \"calculated_volume\": 95.8878112}, {\"Rep\": \"Small3\", \"ground_truth_volume\": 98.2, \"calculated_volume\": 100.4362714}, {\"Rep\": \"Small4\", \"ground_truth_volume\": 98.2, \"calculated_volume\": 104.4931576}, {\"Rep\": \"Small4\", \"ground_truth_volume\": 98.2, \"calculated_volume\": 97.93672182}, {\"Rep\": \"Small4\", \"ground_truth_volume\": 98.2, \"calculated_volume\": 101.1275152}, {\"Rep\": \"Small5\", \"ground_truth_volume\": 98.2, \"calculated_volume\": 99.48071165}, {\"Rep\": \"Small5\", \"ground_truth_volume\": 98.2, \"calculated_volume\": 100.7743032}, {\"Rep\": \"Small5\", \"ground_truth_volume\": 98.2, \"calculated_volume\": 100.8341802}, {\"Rep\": \"Large1\", \"ground_truth_volume\": 21.2, \"calculated_volume\": 29.23959125}, {\"Rep\": \"Large1\", \"ground_truth_volume\": 21.2, \"calculated_volume\": 21.59703509}, {\"Rep\": \"Large1\", \"ground_truth_volume\": 21.2, \"calculated_volume\": 21.33428906}, {\"Rep\": \"Large2\", \"ground_truth_volume\": 21.2, \"calculated_volume\": 25.02740067}, {\"Rep\": \"Large2\", \"ground_truth_volume\": 21.2, \"calculated_volume\": 21.0880842}, {\"Rep\": \"Large2\", \"ground_truth_volume\": 21.2, \"calculated_volume\": 22.19446186}, {\"Rep\": \"Large3\", \"ground_truth_volume\": 21.2, \"calculated_volume\": 30.47590471}, {\"Rep\": \"Large3\", \"ground_truth_volume\": 21.2, \"calculated_volume\": 22.73296196}, {\"Rep\": \"Large3\", \"ground_truth_volume\": 21.2, \"calculated_volume\": 18.39629574}, {\"Rep\": \"Large4\", \"ground_truth_volume\": 21.2, \"calculated_volume\": 24.65329185}, {\"Rep\": \"Large4\", \"ground_truth_volume\": 21.2, \"calculated_volume\": 24.41600142}, {\"Rep\": \"Large4\", \"ground_truth_volume\": 21.2, \"calculated_volume\": 18.58838434}, {\"Rep\": \"Large5\", \"ground_truth_volume\": 21.2, \"calculated_volume\": 31.31694359}, {\"Rep\": \"Large5\", \"ground_truth_volume\": 21.2, \"calculated_volume\": 19.55632052}, {\"Rep\": \"Large5\", \"ground_truth_volume\": 21.2, \"calculated_volume\": 20.60282805}, {\"Rep\": \"Small1\", \"ground_truth_volume\": 21.2, \"calculated_volume\": 69.3821895}, {\"Rep\": \"Small1\", \"ground_truth_volume\": 21.2, \"calculated_volume\": 28.71750162}, {\"Rep\": \"Small1\", \"ground_truth_volume\": 21.2, \"calculated_volume\": 23.54965756}, {\"Rep\": \"Small2\", \"ground_truth_volume\": 21.2, \"calculated_volume\": 34.71078415}, {\"Rep\": \"Small2\", \"ground_truth_volume\": 21.2, \"calculated_volume\": 23.96658804}, {\"Rep\": \"Small2\", \"ground_truth_volume\": 21.2, \"calculated_volume\": 20.91298235}, {\"Rep\": \"Small3\", \"ground_truth_volume\": 21.2, \"calculated_volume\": 28.90117677}, {\"Rep\": \"Small3\", \"ground_truth_volume\": 21.2, \"calculated_volume\": 19.74656669}, {\"Rep\": \"Small3\", \"ground_truth_volume\": 21.2, \"calculated_volume\": 19.31282164}, {\"Rep\": \"Small4\", \"ground_truth_volume\": 21.2, \"calculated_volume\": 20.43325582}, {\"Rep\": \"Small4\", \"ground_truth_volume\": 21.2, \"calculated_volume\": 24.57778662}, {\"Rep\": \"Small4\", \"ground_truth_volume\": 21.2, \"calculated_volume\": 20.6293952}, {\"Rep\": \"Small5\", \"ground_truth_volume\": 21.2, \"calculated_volume\": 27.35448962}, {\"Rep\": \"Small5\", \"ground_truth_volume\": 21.2, \"calculated_volume\": 22.43114795}, {\"Rep\": \"Small5\", \"ground_truth_volume\": 21.2, \"calculated_volume\": 19.76298836}, {\"Rep\": \"Large1\", \"ground_truth_volume\": 0.8, \"calculated_volume\": 0.115510162}, {\"Rep\": \"Large1\", \"ground_truth_volume\": 0.8, \"calculated_volume\": 0.472705325}, {\"Rep\": \"Large1\", \"ground_truth_volume\": 0.8, \"calculated_volume\": 0.179930114}, {\"Rep\": \"Large2\", \"ground_truth_volume\": 0.8, \"calculated_volume\": 0.0}, {\"Rep\": \"Large2\", \"ground_truth_volume\": 0.8, \"calculated_volume\": 1.254075666}, {\"Rep\": \"Large2\", \"ground_truth_volume\": 0.8, \"calculated_volume\": 1.002053141}, {\"Rep\": \"Large3\", \"ground_truth_volume\": 0.8, \"calculated_volume\": 0.830788818}, {\"Rep\": \"Large3\", \"ground_truth_volume\": 0.8, \"calculated_volume\": 0.989045137}, {\"Rep\": \"Large3\", \"ground_truth_volume\": 0.8, \"calculated_volume\": 0.746740469}, {\"Rep\": \"Large4\", \"ground_truth_volume\": 0.8, \"calculated_volume\": 0.431506522}, {\"Rep\": \"Large4\", \"ground_truth_volume\": 0.8, \"calculated_volume\": 0.409255055}, {\"Rep\": \"Large4\", \"ground_truth_volume\": 0.8, \"calculated_volume\": 1.508604067}, {\"Rep\": \"Large5\", \"ground_truth_volume\": 0.8, \"calculated_volume\": 0.422989783}, {\"Rep\": \"Large5\", \"ground_truth_volume\": 0.8, \"calculated_volume\": 0.340261887}, {\"Rep\": \"Large5\", \"ground_truth_volume\": 0.8, \"calculated_volume\": 0.164352076}, {\"Rep\": \"Small1\", \"ground_truth_volume\": 0.8, \"calculated_volume\": 0.0}, {\"Rep\": \"Small1\", \"ground_truth_volume\": 0.8, \"calculated_volume\": 0.789037322}, {\"Rep\": \"Small1\", \"ground_truth_volume\": 0.8, \"calculated_volume\": 1.506709112}, {\"Rep\": \"Small2\", \"ground_truth_volume\": 0.8, \"calculated_volume\": 0.382202513}, {\"Rep\": \"Small2\", \"ground_truth_volume\": 0.8, \"calculated_volume\": 0.417920663}, {\"Rep\": \"Small2\", \"ground_truth_volume\": 0.8, \"calculated_volume\": 0.45948141}, {\"Rep\": \"Small3\", \"ground_truth_volume\": 0.8, \"calculated_volume\": 0.183306591}, {\"Rep\": \"Small3\", \"ground_truth_volume\": 0.8, \"calculated_volume\": 0.0}, {\"Rep\": \"Small3\", \"ground_truth_volume\": 0.8, \"calculated_volume\": 1.099902653}, {\"Rep\": \"Small4\", \"ground_truth_volume\": 0.8, \"calculated_volume\": 0.314992844}, {\"Rep\": \"Small4\", \"ground_truth_volume\": 0.8, \"calculated_volume\": 0.58542004}, {\"Rep\": \"Small4\", \"ground_truth_volume\": 0.8, \"calculated_volume\": 0.74179678}, {\"Rep\": \"Small5\", \"ground_truth_volume\": 0.8, \"calculated_volume\": 1.062657603}, {\"Rep\": \"Small5\", \"ground_truth_volume\": 0.8, \"calculated_volume\": 0.944274322}, {\"Rep\": \"Small5\", \"ground_truth_volume\": 0.8, \"calculated_volume\": 0.983060631}], \"data-b2df0d08da29d7f8f76f1d66355f6ec2\": [{\"Rep\": \"Large1\", \"ground_truth_volume\": 98.2, \"calculated_volume\": 111.7697287}, {\"Rep\": \"Large1\", \"ground_truth_volume\": 98.2, \"calculated_volume\": 102.499495}, {\"Rep\": \"Large1\", \"ground_truth_volume\": 98.2, \"calculated_volume\": 110.8912734}, {\"Rep\": \"Large2\", \"ground_truth_volume\": 98.2, \"calculated_volume\": 119.2557084}, {\"Rep\": \"Large2\", \"ground_truth_volume\": 98.2, \"calculated_volume\": 103.7402806}, {\"Rep\": \"Large2\", \"ground_truth_volume\": 98.2, \"calculated_volume\": 110.7977678}, {\"Rep\": \"Large3\", \"ground_truth_volume\": 98.2, \"calculated_volume\": 119.3964723}, {\"Rep\": \"Large3\", \"ground_truth_volume\": 98.2, \"calculated_volume\": 105.1468287}, {\"Rep\": \"Large3\", \"ground_truth_volume\": 98.2, \"calculated_volume\": 107.8172025}, {\"Rep\": \"Large4\", \"ground_truth_volume\": 98.2, \"calculated_volume\": 110.6650258}, {\"Rep\": \"Large4\", \"ground_truth_volume\": 98.2, \"calculated_volume\": 111.4077375}, {\"Rep\": \"Large4\", \"ground_truth_volume\": 98.2, \"calculated_volume\": 122.3507912}, {\"Rep\": \"Large5\", \"ground_truth_volume\": 98.2, \"calculated_volume\": 115.7848383}, {\"Rep\": \"Large5\", \"ground_truth_volume\": 98.2, \"calculated_volume\": 109.0938025}, {\"Rep\": \"Large5\", \"ground_truth_volume\": 98.2, \"calculated_volume\": 110.9326873}, {\"Rep\": \"Small1\", \"ground_truth_volume\": 98.2, \"calculated_volume\": 115.9370048}, {\"Rep\": \"Small1\", \"ground_truth_volume\": 98.2, \"calculated_volume\": 113.2906037}, {\"Rep\": \"Small1\", \"ground_truth_volume\": 98.2, \"calculated_volume\": 117.9882938}, {\"Rep\": \"Small2\", \"ground_truth_volume\": 98.2, \"calculated_volume\": 105.1986783}, {\"Rep\": \"Small2\", \"ground_truth_volume\": 98.2, \"calculated_volume\": 100.456552}, {\"Rep\": \"Small2\", \"ground_truth_volume\": 98.2, \"calculated_volume\": 106.5432778}, {\"Rep\": \"Small3\", \"ground_truth_volume\": 98.2, \"calculated_volume\": 114.8811307}, {\"Rep\": \"Small3\", \"ground_truth_volume\": 98.2, \"calculated_volume\": 113.8508181}, {\"Rep\": \"Small3\", \"ground_truth_volume\": 98.2, \"calculated_volume\": 120.8258552}, {\"Rep\": \"Small4\", \"ground_truth_volume\": 98.2, \"calculated_volume\": 116.3154186}, {\"Rep\": \"Small4\", \"ground_truth_volume\": 98.2, \"calculated_volume\": 105.1556972}, {\"Rep\": \"Small4\", \"ground_truth_volume\": 98.2, \"calculated_volume\": 112.5067565}, {\"Rep\": \"Small5\", \"ground_truth_volume\": 98.2, \"calculated_volume\": 97.10338755}, {\"Rep\": \"Small5\", \"ground_truth_volume\": 98.2, \"calculated_volume\": 107.2094347}, {\"Rep\": \"Small5\", \"ground_truth_volume\": 98.2, \"calculated_volume\": 112.5880567}, {\"Rep\": \"Large1\", \"ground_truth_volume\": 21.2, \"calculated_volume\": 26.48512352}, {\"Rep\": \"Large1\", \"ground_truth_volume\": 21.2, \"calculated_volume\": 17.45417812}, {\"Rep\": \"Large1\", \"ground_truth_volume\": 21.2, \"calculated_volume\": 19.15604124}, {\"Rep\": \"Large2\", \"ground_truth_volume\": 21.2, \"calculated_volume\": 26.29419993}, {\"Rep\": \"Large2\", \"ground_truth_volume\": 21.2, \"calculated_volume\": 18.09573134}, {\"Rep\": \"Large2\", \"ground_truth_volume\": 21.2, \"calculated_volume\": 19.1933594}, {\"Rep\": \"Large3\", \"ground_truth_volume\": 21.2, \"calculated_volume\": 26.86125207}, {\"Rep\": \"Large3\", \"ground_truth_volume\": 21.2, \"calculated_volume\": 15.8802292}, {\"Rep\": \"Large3\", \"ground_truth_volume\": 21.2, \"calculated_volume\": 19.18353115}, {\"Rep\": \"Large4\", \"ground_truth_volume\": 21.2, \"calculated_volume\": 35.68278179}, {\"Rep\": \"Large4\", \"ground_truth_volume\": 21.2, \"calculated_volume\": 18.33124558}, {\"Rep\": \"Large4\", \"ground_truth_volume\": 21.2, \"calculated_volume\": 17.55905567}, {\"Rep\": \"Large5\", \"ground_truth_volume\": 21.2, \"calculated_volume\": 21.51612563}, {\"Rep\": \"Large5\", \"ground_truth_volume\": 21.2, \"calculated_volume\": 22.99494247}, {\"Rep\": \"Large5\", \"ground_truth_volume\": 21.2, \"calculated_volume\": 21.09643724}, {\"Rep\": \"Small1\", \"ground_truth_volume\": 21.2, \"calculated_volume\": 25.95493773}, {\"Rep\": \"Small1\", \"ground_truth_volume\": 21.2, \"calculated_volume\": 21.043821}, {\"Rep\": \"Small1\", \"ground_truth_volume\": 21.2, \"calculated_volume\": 22.29502453}, {\"Rep\": \"Small2\", \"ground_truth_volume\": 21.2, \"calculated_volume\": 24.31150652}, {\"Rep\": \"Small2\", \"ground_truth_volume\": 21.2, \"calculated_volume\": 18.99330036}, {\"Rep\": \"Small2\", \"ground_truth_volume\": 21.2, \"calculated_volume\": 19.82901537}, {\"Rep\": \"Small3\", \"ground_truth_volume\": 21.2, \"calculated_volume\": 20.49292348}, {\"Rep\": \"Small3\", \"ground_truth_volume\": 21.2, \"calculated_volume\": 21.27455469}, {\"Rep\": \"Small3\", \"ground_truth_volume\": 21.2, \"calculated_volume\": 20.58943192}, {\"Rep\": \"Small4\", \"ground_truth_volume\": 21.2, \"calculated_volume\": 21.84560788}, {\"Rep\": \"Small4\", \"ground_truth_volume\": 21.2, \"calculated_volume\": 19.64143958}, {\"Rep\": \"Small4\", \"ground_truth_volume\": 21.2, \"calculated_volume\": 19.74763706}, {\"Rep\": \"Small5\", \"ground_truth_volume\": 21.2, \"calculated_volume\": 20.73964795}, {\"Rep\": \"Small5\", \"ground_truth_volume\": 21.2, \"calculated_volume\": 18.9299214}, {\"Rep\": \"Small5\", \"ground_truth_volume\": 21.2, \"calculated_volume\": 19.87702426}, {\"Rep\": \"Large1\", \"ground_truth_volume\": 0.8, \"calculated_volume\": 0.531044894}, {\"Rep\": \"Large1\", \"ground_truth_volume\": 0.8, \"calculated_volume\": 0.0}, {\"Rep\": \"Large1\", \"ground_truth_volume\": 0.8, \"calculated_volume\": 0.810060996}, {\"Rep\": \"Large2\", \"ground_truth_volume\": 0.8, \"calculated_volume\": 0.147551956}, {\"Rep\": \"Large2\", \"ground_truth_volume\": 0.8, \"calculated_volume\": 0.316350105}, {\"Rep\": \"Large2\", \"ground_truth_volume\": 0.8, \"calculated_volume\": 1.402605145}, {\"Rep\": \"Large3\", \"ground_truth_volume\": 0.8, \"calculated_volume\": 0.113854024}, {\"Rep\": \"Large3\", \"ground_truth_volume\": 0.8, \"calculated_volume\": 0.697342414}, {\"Rep\": \"Large3\", \"ground_truth_volume\": 0.8, \"calculated_volume\": 1.355775016}, {\"Rep\": \"Large4\", \"ground_truth_volume\": 0.8, \"calculated_volume\": 0.0}, {\"Rep\": \"Large4\", \"ground_truth_volume\": 0.8, \"calculated_volume\": 0.730206886}, {\"Rep\": \"Large4\", \"ground_truth_volume\": 0.8, \"calculated_volume\": 0.703332435}, {\"Rep\": \"Large5\", \"ground_truth_volume\": 0.8, \"calculated_volume\": 0.723830946}, {\"Rep\": \"Large5\", \"ground_truth_volume\": 0.8, \"calculated_volume\": 0.0}, {\"Rep\": \"Large5\", \"ground_truth_volume\": 0.8, \"calculated_volume\": 2.022274116}, {\"Rep\": \"Small1\", \"ground_truth_volume\": 0.8, \"calculated_volume\": 0.215802452}, {\"Rep\": \"Small1\", \"ground_truth_volume\": 0.8, \"calculated_volume\": 0.476742083}, {\"Rep\": \"Small1\", \"ground_truth_volume\": 0.8, \"calculated_volume\": 0.619843332}, {\"Rep\": \"Small2\", \"ground_truth_volume\": 0.8, \"calculated_volume\": 0.223621866}, {\"Rep\": \"Small2\", \"ground_truth_volume\": 0.8, \"calculated_volume\": 0.232555171}, {\"Rep\": \"Small2\", \"ground_truth_volume\": 0.8, \"calculated_volume\": 0.605742508}, {\"Rep\": \"Small3\", \"ground_truth_volume\": 0.8, \"calculated_volume\": 0.465132673}, {\"Rep\": \"Small3\", \"ground_truth_volume\": 0.8, \"calculated_volume\": 0.064950443}, {\"Rep\": \"Small3\", \"ground_truth_volume\": 0.8, \"calculated_volume\": 0.435288411}, {\"Rep\": \"Small4\", \"ground_truth_volume\": 0.8, \"calculated_volume\": 0.17370539}, {\"Rep\": \"Small4\", \"ground_truth_volume\": 0.8, \"calculated_volume\": 0.0}, {\"Rep\": \"Small4\", \"ground_truth_volume\": 0.8, \"calculated_volume\": 0.940446459}, {\"Rep\": \"Small5\", \"ground_truth_volume\": 0.8, \"calculated_volume\": 0.481651325}, {\"Rep\": \"Small5\", \"ground_truth_volume\": 0.8, \"calculated_volume\": 0.0}, {\"Rep\": \"Small5\", \"ground_truth_volume\": 0.8, \"calculated_volume\": 0.630074149}]}}, {\"mode\": \"vega-lite\"});\n</script>",
      "text/plain": "alt.HConcatChart(...)"
     },
     "metadata": {}
    }
   ],
   "execution_count": 149
  },
  {
   "cell_type": "markdown",
   "source": "### Summary",
   "metadata": {
    "cell_id": "8d7ec4d4-46da-4741-b683-b61d46a6187b",
    "tags": [],
    "is_collapsed": false,
    "deepnote_cell_type": "text-cell-h3"
   }
  },
  {
   "cell_type": "code",
   "source": "PP2_score = {'Large Mass': PP2_scoreL,'Medium Mass': PP2_scoreM,'Small Mass':PP2_scoreS,'Volume': PP2_scoreV}\nPP3_score = {'Large Mass': PP3_scoreL,'Medium Mass': PP3_scoreM,'Small Mass':PP3_scoreS,'Volume': PP3_scoreV}\nPP_true = [X_PP2_L,X_PP2_L,X_PP2_M,X_PP2_M,X_PP2_S,X_PP2_S,X_PP2_V,X_PP2_V]\nPP_pred = [y_PP2_L,y_PP3_L,y_PP2_M,y_PP3_M,y_PP2_S,y_PP3_S,y_PP2_V,y_PP3_V]\n[PP2_L_RMSE,PP3_L_RMSE,PP2_M_RMSE,PP3_M_RMSE,PP2_S_RMSE,PP3_S_RMSE,PP2_V_RMSE,PP3_V_RMSE] = [rmse(PP_true[i],PP_pred[i]) for i in range(len(PP_true))]\nPP2_RMSE = {'Large Mass': PP2_L_RMSE,'Medium Mass': PP2_M_RMSE,'Small Mass': PP2_S_RMSE,'Volume':PP2_V_RMSE}\nPP3_RMSE = {'Large Mass': PP3_L_RMSE,'Medium Mass': PP3_M_RMSE,'Small Mass': PP3_S_RMSE,'Volume':PP3_V_RMSE}",
   "metadata": {
    "cell_id": "558ed271-0984-45b1-9c8f-b2caf34d9a96",
    "tags": [],
    "deepnote_to_be_reexecuted": false,
    "source_hash": "5ebe9ea3",
    "execution_start": 1643837977484,
    "execution_millis": 0,
    "deepnote_cell_type": "code"
   },
   "outputs": [],
   "execution_count": 189
  },
  {
   "cell_type": "markdown",
   "source": "## Vendor 4: Siemens",
   "metadata": {
    "cell_id": "64d86ba7-a15f-4be1-ab9c-79b59c894be4",
    "tags": [],
    "is_collapsed": false,
    "deepnote_cell_type": "text-cell-h2"
   }
  },
  {
   "cell_type": "code",
   "metadata": {
    "cell_id": "b2e2135e-bd28-4199-9f5a-e0c33db2da7c",
    "tags": [],
    "deepnote_to_be_reexecuted": false,
    "source_hash": "e4eb7af1",
    "execution_start": 1643835469183,
    "execution_millis": 12,
    "deepnote_cell_type": "code"
   },
   "source": "Siemens2 = pd.read_csv('Siemens2.csv')\nSiemens3 = pd.read_csv('Siemens3.csv')",
   "execution_count": 66,
   "outputs": []
  },
  {
   "cell_type": "code",
   "metadata": {
    "cell_id": "8dd693bf-0595-4dbb-9b0a-42328d10aa06",
    "tags": [],
    "deepnote_to_be_reexecuted": false,
    "source_hash": "16ef1081",
    "execution_start": 1643835469242,
    "execution_millis": 258645,
    "deepnote_cell_type": "code"
   },
   "source": "Siemens2 = Siemens2.dropna()\nSiemens3 = Siemens3.dropna()",
   "execution_count": 67,
   "outputs": []
  },
  {
   "cell_type": "markdown",
   "source": "### Mass Score: Large Inserts",
   "metadata": {
    "cell_id": "6f163ac4-0310-4973-a463-2459bda89bab",
    "tags": [],
    "is_collapsed": false,
    "deepnote_cell_type": "text-cell-h3"
   }
  },
  {
   "cell_type": "code",
   "metadata": {
    "cell_id": "0fc6aa3f-55b4-4f7e-82aa-26388e72ee9a",
    "tags": [],
    "deepnote_to_be_reexecuted": false,
    "source_hash": "c25c02ba",
    "execution_start": 1643835469242,
    "execution_millis": 4,
    "deepnote_output_heights": [
     21.1875
    ],
    "deepnote_cell_type": "code"
   },
   "source": "X_Siemens2_L = Siemens2.ground_truth_mass_large.to_numpy().reshape(-1,1)\ny_Siemens2_L = Siemens2.calculated_mass_large.to_numpy().reshape(-1,1)\nreg_Siemens2_L = LinearRegression().fit(X_Siemens2_L,y_Siemens2_L)\nSiemens2_scoreL = reg_Siemens2_L.score(X_Siemens2_L,y_Siemens2_L)\nSiemens2_scoreL",
   "execution_count": 68,
   "outputs": [
    {
     "output_type": "execute_result",
     "execution_count": 68,
     "data": {
      "text/plain": "0.9949193538354041"
     },
     "metadata": {}
    }
   ]
  },
  {
   "cell_type": "code",
   "metadata": {
    "cell_id": "f39065bb-0ad9-4420-84f5-f90c0fdd307f",
    "tags": [],
    "deepnote_to_be_reexecuted": false,
    "source_hash": "7ef6e73f",
    "execution_start": 1643835469244,
    "execution_millis": 2,
    "deepnote_output_heights": [
     21.1875
    ],
    "deepnote_cell_type": "code"
   },
   "source": "a2L,b2L = [reg_Siemens2_L.coef_[0,0],reg_Siemens2_L.intercept_[0]]\nprint(\"y = {} x + {}\".format(str(a2L),str(b2L)))",
   "execution_count": 69,
   "outputs": [
    {
     "name": "stdout",
     "text": "y = 0.9573341976435898 x + 0.8085344631087779\n",
     "output_type": "stream"
    }
   ]
  },
  {
   "cell_type": "code",
   "metadata": {
    "cell_id": "289e4028-9e4c-4f56-9584-04af5f2f9bda",
    "tags": [],
    "deepnote_to_be_reexecuted": false,
    "source_hash": "129b15f5",
    "execution_start": 1643835469256,
    "execution_millis": 9,
    "deepnote_output_heights": [
     21.1875
    ],
    "deepnote_cell_type": "code"
   },
   "source": "X_Siemens3_L = Siemens3.ground_truth_mass_large.to_numpy().reshape(-1,1)\ny_Siemens3_L = Siemens3.calculated_mass_large.to_numpy().reshape(-1,1)\nreg_Siemens3_L = LinearRegression().fit(X_Siemens3_L,y_Siemens3_L)\nSiemens3_scoreL = reg_Siemens3_L.score(X_Siemens3_L,y_Siemens3_L)\nSiemens3_scoreL",
   "execution_count": 70,
   "outputs": [
    {
     "output_type": "execute_result",
     "execution_count": 70,
     "data": {
      "text/plain": "0.7633818861261401"
     },
     "metadata": {}
    }
   ]
  },
  {
   "cell_type": "code",
   "metadata": {
    "cell_id": "f1469b6c-1ee3-4f2b-889b-7187806bfb53",
    "tags": [],
    "deepnote_to_be_reexecuted": false,
    "source_hash": "8515fec6",
    "execution_start": 1643835469318,
    "execution_millis": 258589,
    "deepnote_cell_type": "code"
   },
   "source": "a3L,b3L = [reg_Siemens3_L.coef_[0,0],reg_Siemens3_L.intercept_[0]]\nprint(\"y = {} x + {}\".format(str(a3L),str(b3L)))",
   "execution_count": 71,
   "outputs": [
    {
     "name": "stdout",
     "text": "y = 1.411005381783569 x + -3.399289644576335\n",
     "output_type": "stream"
    }
   ]
  },
  {
   "cell_type": "code",
   "metadata": {
    "cell_id": "4fff728f-66dd-4125-93cb-02a1886912f6",
    "tags": [],
    "deepnote_to_be_reexecuted": false,
    "source_hash": "515ffb28",
    "execution_start": 1643836660625,
    "execution_millis": 160,
    "deepnote_output_heights": [
     363
    ],
    "deepnote_cell_type": "code"
   },
   "source": "Siemens2_large = chart_plot_large(Siemens2)\nSiemens3_large = chart_plot_large(Siemens3)\nSiemens2_large | Siemens3_large",
   "execution_count": 150,
   "outputs": [
    {
     "output_type": "execute_result",
     "execution_count": 150,
     "data": {
      "text/html": "\n<div id=\"altair-viz-665dbd70c1194ea5bca2122c671ac35a\"></div>\n<script type=\"text/javascript\">\n  (function(spec, embedOpt){\n    let outputDiv = document.currentScript.previousElementSibling;\n    if (outputDiv.id !== \"altair-viz-665dbd70c1194ea5bca2122c671ac35a\") {\n      outputDiv = document.getElementById(\"altair-viz-665dbd70c1194ea5bca2122c671ac35a\");\n    }\n    const paths = {\n      \"vega\": \"https://cdn.jsdelivr.net/npm//vega@5?noext\",\n      \"vega-lib\": \"https://cdn.jsdelivr.net/npm//vega-lib?noext\",\n      \"vega-lite\": \"https://cdn.jsdelivr.net/npm//vega-lite@4.8.1?noext\",\n      \"vega-embed\": \"https://cdn.jsdelivr.net/npm//vega-embed@6?noext\",\n    };\n\n    function loadScript(lib) {\n      return new Promise(function(resolve, reject) {\n        var s = document.createElement('script');\n        s.src = paths[lib];\n        s.async = true;\n        s.onload = () => resolve(paths[lib]);\n        s.onerror = () => reject(`Error loading script: ${paths[lib]}`);\n        document.getElementsByTagName(\"head\")[0].appendChild(s);\n      });\n    }\n\n    function showError(err) {\n      outputDiv.innerHTML = `<div class=\"error\" style=\"color:red;\">${err}</div>`;\n      throw err;\n    }\n\n    function displayChart(vegaEmbed) {\n      vegaEmbed(outputDiv, spec, embedOpt)\n        .catch(err => showError(`Javascript Error: ${err.message}<br>This usually means there's a typo in your chart specification. See the javascript console for the full traceback.`));\n    }\n\n    if(typeof define === \"function\" && define.amd) {\n      requirejs.config({paths});\n      require([\"vega-embed\"], displayChart, err => showError(`Error loading script: ${err.message}`));\n    } else if (typeof vegaEmbed === \"function\") {\n      displayChart(vegaEmbed);\n    } else {\n      loadScript(\"vega\")\n        .then(() => loadScript(\"vega-lite\"))\n        .then(() => loadScript(\"vega-embed\"))\n        .catch(showError)\n        .then(() => displayChart(vegaEmbed));\n    }\n  })({\"config\": {\"view\": {\"continuousWidth\": 400, \"continuousHeight\": 300}}, \"hconcat\": [{\"layer\": [{\"mark\": \"circle\", \"encoding\": {\"color\": {\"type\": \"nominal\", \"field\": \"Rep\"}, \"tooltip\": [{\"type\": \"quantitative\", \"field\": \"ground_truth_volume_large\"}, {\"type\": \"quantitative\", \"field\": \"calculated_volume_large\"}, {\"type\": \"nominal\", \"field\": \"Rep\"}], \"x\": {\"type\": \"quantitative\", \"field\": \"ground_truth_mass_large\"}, \"y\": {\"type\": \"quantitative\", \"field\": \"calculated_mass_large\"}}}, {\"mark\": \"line\", \"encoding\": {\"color\": {\"type\": \"nominal\", \"field\": \"Rep\"}, \"tooltip\": [{\"type\": \"quantitative\", \"field\": \"ground_truth_volume_large\"}, {\"type\": \"quantitative\", \"field\": \"calculated_volume_large\"}, {\"type\": \"nominal\", \"field\": \"Rep\"}], \"x\": {\"type\": \"quantitative\", \"field\": \"ground_truth_mass_large\"}, \"y\": {\"type\": \"quantitative\", \"field\": \"calculated_mass_large\"}}, \"transform\": [{\"on\": \"ground_truth_mass_large\", \"regression\": \"calculated_mass_large\", \"method\": \"linear\"}]}, {\"mark\": {\"type\": \"line\", \"color\": \"red\"}, \"encoding\": {\"x\": {\"type\": \"quantitative\", \"field\": \"ground_truth_mass_large\"}, \"y\": {\"type\": \"quantitative\", \"field\": \"ground_truth_mass_large\"}}}], \"data\": {\"name\": \"data-082033e891f40e5cb85a6d71ec762106\"}}, {\"layer\": [{\"mark\": \"circle\", \"encoding\": {\"color\": {\"type\": \"nominal\", \"field\": \"Rep\"}, \"tooltip\": [{\"type\": \"quantitative\", \"field\": \"ground_truth_volume_large\"}, {\"type\": \"quantitative\", \"field\": \"calculated_volume_large\"}, {\"type\": \"nominal\", \"field\": \"Rep\"}], \"x\": {\"type\": \"quantitative\", \"field\": \"ground_truth_mass_large\"}, \"y\": {\"type\": \"quantitative\", \"field\": \"calculated_mass_large\"}}}, {\"mark\": \"line\", \"encoding\": {\"color\": {\"type\": \"nominal\", \"field\": \"Rep\"}, \"tooltip\": [{\"type\": \"quantitative\", \"field\": \"ground_truth_volume_large\"}, {\"type\": \"quantitative\", \"field\": \"calculated_volume_large\"}, {\"type\": \"nominal\", \"field\": \"Rep\"}], \"x\": {\"type\": \"quantitative\", \"field\": \"ground_truth_mass_large\"}, \"y\": {\"type\": \"quantitative\", \"field\": \"calculated_mass_large\"}}, \"transform\": [{\"on\": \"ground_truth_mass_large\", \"regression\": \"calculated_mass_large\", \"method\": \"linear\"}]}, {\"mark\": {\"type\": \"line\", \"color\": \"red\"}, \"encoding\": {\"x\": {\"type\": \"quantitative\", \"field\": \"ground_truth_mass_large\"}, \"y\": {\"type\": \"quantitative\", \"field\": \"ground_truth_mass_large\"}}}], \"data\": {\"name\": \"data-8a0c6de97e57b1a7a90887aa8ad4353d\"}}], \"$schema\": \"https://vega.github.io/schema/vega-lite/v4.8.1.json\", \"datasets\": {\"data-082033e891f40e5cb85a6d71ec762106\": [{\"inserts\": \"Low Density\", \"ground_truth_volume_large\": 98.2, \"calculated_volume_large\": 82.86704978, \"ground_truth_volume_medium\": 21.2, \"calculated_volume_medium\": 18.88888098, \"ground_truth_volume_small\": 0.8, \"calculated_volume_small\": 0.330822955, \"ground_truth_mass_large\": 19.6, \"calculated_mass_large\": 16.57340996, \"ground_truth_mass_medium\": 4.2, \"calculated_mass_medium\": 3.777776196, \"ground_truth_mass_small\": 0.2, \"calculated_mass_small\": 0.066164591, \"Rep\": \"Large1\"}, {\"inserts\": \"Medium Density\", \"ground_truth_volume_large\": 98.2, \"calculated_volume_large\": 94.56911749, \"ground_truth_volume_medium\": 21.2, \"calculated_volume_medium\": 19.81314767, \"ground_truth_volume_small\": 0.8, \"calculated_volume_small\": 0.0, \"ground_truth_mass_large\": 39.3, \"calculated_mass_large\": 37.827647, \"ground_truth_mass_medium\": 8.5, \"calculated_mass_medium\": 7.925259068, \"ground_truth_mass_small\": 0.3, \"calculated_mass_small\": 0.0, \"Rep\": \"Large1\"}, {\"inserts\": \"High Density\", \"ground_truth_volume_large\": 98.2, \"calculated_volume_large\": 93.49800538, \"ground_truth_volume_medium\": 21.2, \"calculated_volume_medium\": 22.17596567, \"ground_truth_volume_small\": 0.8, \"calculated_volume_small\": 0.613004859, \"ground_truth_mass_large\": 78.5, \"calculated_mass_large\": 74.7984043, \"ground_truth_mass_medium\": 17.0, \"calculated_mass_medium\": 17.74077254, \"ground_truth_mass_small\": 0.6, \"calculated_mass_small\": 0.490403887, \"Rep\": \"Large1\"}, {\"inserts\": \"Low Density\", \"ground_truth_volume_large\": 98.2, \"calculated_volume_large\": 111.52941, \"ground_truth_volume_medium\": 21.2, \"calculated_volume_medium\": 24.22231238, \"ground_truth_volume_small\": 0.8, \"calculated_volume_small\": 0.108831512, \"ground_truth_mass_large\": 19.6, \"calculated_mass_large\": 22.305882, \"ground_truth_mass_medium\": 4.2, \"calculated_mass_medium\": 4.844462477, \"ground_truth_mass_small\": 0.2, \"calculated_mass_small\": 0.021766302, \"Rep\": \"Large2\"}, {\"inserts\": \"Medium Density\", \"ground_truth_volume_large\": 98.2, \"calculated_volume_large\": 93.29048877, \"ground_truth_volume_medium\": 21.2, \"calculated_volume_medium\": 23.75282648, \"ground_truth_volume_small\": 0.8, \"calculated_volume_small\": 0.919513248, \"ground_truth_mass_large\": 39.3, \"calculated_mass_large\": 37.31619551, \"ground_truth_mass_medium\": 8.5, \"calculated_mass_medium\": 9.50113059, \"ground_truth_mass_small\": 0.3, \"calculated_mass_small\": 0.367805299, \"Rep\": \"Large2\"}, {\"inserts\": \"High Density\", \"ground_truth_volume_large\": 98.2, \"calculated_volume_large\": 97.59872089, \"ground_truth_volume_medium\": 21.2, \"calculated_volume_medium\": 19.14036343, \"ground_truth_volume_small\": 0.8, \"calculated_volume_small\": 0.328974595, \"ground_truth_mass_large\": 78.5, \"calculated_mass_large\": 78.07897671, \"ground_truth_mass_medium\": 17.0, \"calculated_mass_medium\": 15.31229075, \"ground_truth_mass_small\": 0.6, \"calculated_mass_small\": 0.263179676, \"Rep\": \"Large2\"}, {\"inserts\": \"Low Density\", \"ground_truth_volume_large\": 98.2, \"calculated_volume_large\": 81.14425978, \"ground_truth_volume_medium\": 21.2, \"calculated_volume_medium\": 19.89550928, \"ground_truth_volume_small\": 0.8, \"calculated_volume_small\": 0.0, \"ground_truth_mass_large\": 19.6, \"calculated_mass_large\": 16.22885196, \"ground_truth_mass_medium\": 4.2, \"calculated_mass_medium\": 3.979101856, \"ground_truth_mass_small\": 0.2, \"calculated_mass_small\": 0.0, \"Rep\": \"Large3\"}, {\"inserts\": \"Medium Density\", \"ground_truth_volume_large\": 98.2, \"calculated_volume_large\": 93.41237246, \"ground_truth_volume_medium\": 21.2, \"calculated_volume_medium\": 18.59794865, \"ground_truth_volume_small\": 0.8, \"calculated_volume_small\": 0.731776061, \"ground_truth_mass_large\": 39.3, \"calculated_mass_large\": 37.36494898, \"ground_truth_mass_medium\": 8.5, \"calculated_mass_medium\": 7.439179458, \"ground_truth_mass_small\": 0.3, \"calculated_mass_small\": 0.292710424, \"Rep\": \"Large3\"}, {\"inserts\": \"High Density\", \"ground_truth_volume_large\": 98.2, \"calculated_volume_large\": 91.04253091, \"ground_truth_volume_medium\": 21.2, \"calculated_volume_medium\": 20.3299904, \"ground_truth_volume_small\": 0.8, \"calculated_volume_small\": 0.0, \"ground_truth_mass_large\": 78.5, \"calculated_mass_large\": 72.83402473, \"ground_truth_mass_medium\": 17.0, \"calculated_mass_medium\": 16.26399232, \"ground_truth_mass_small\": 0.6, \"calculated_mass_small\": 0.0, \"Rep\": \"Large3\"}, {\"inserts\": \"Low Density\", \"ground_truth_volume_large\": 98.2, \"calculated_volume_large\": 100.2836831, \"ground_truth_volume_medium\": 21.2, \"calculated_volume_medium\": 18.63395546, \"ground_truth_volume_small\": 0.8, \"calculated_volume_small\": 0.0, \"ground_truth_mass_large\": 19.6, \"calculated_mass_large\": 20.05673662, \"ground_truth_mass_medium\": 4.2, \"calculated_mass_medium\": 3.726791092, \"ground_truth_mass_small\": 0.2, \"calculated_mass_small\": 0.0, \"Rep\": \"Large4\"}, {\"inserts\": \"Medium Density\", \"ground_truth_volume_large\": 98.2, \"calculated_volume_large\": 102.1320031, \"ground_truth_volume_medium\": 21.2, \"calculated_volume_medium\": 23.84369758, \"ground_truth_volume_small\": 0.8, \"calculated_volume_small\": 0.294679392, \"ground_truth_mass_large\": 39.3, \"calculated_mass_large\": 40.85280125, \"ground_truth_mass_medium\": 8.5, \"calculated_mass_medium\": 9.537479034, \"ground_truth_mass_small\": 0.3, \"calculated_mass_small\": 0.117871757, \"Rep\": \"Large4\"}, {\"inserts\": \"High Density\", \"ground_truth_volume_large\": 98.2, \"calculated_volume_large\": 96.22537465, \"ground_truth_volume_medium\": 21.2, \"calculated_volume_medium\": 21.21683699, \"ground_truth_volume_small\": 0.8, \"calculated_volume_small\": 0.0, \"ground_truth_mass_large\": 78.5, \"calculated_mass_large\": 76.98029972, \"ground_truth_mass_medium\": 17.0, \"calculated_mass_medium\": 16.97346959, \"ground_truth_mass_small\": 0.6, \"calculated_mass_small\": 0.0, \"Rep\": \"Large4\"}, {\"inserts\": \"Low Density\", \"ground_truth_volume_large\": 98.2, \"calculated_volume_large\": 103.378698, \"ground_truth_volume_medium\": 21.2, \"calculated_volume_medium\": 28.25342641, \"ground_truth_volume_small\": 0.8, \"calculated_volume_small\": 0.0, \"ground_truth_mass_large\": 19.6, \"calculated_mass_large\": 20.6757396, \"ground_truth_mass_medium\": 4.2, \"calculated_mass_medium\": 5.650685281, \"ground_truth_mass_small\": 0.2, \"calculated_mass_small\": 0.0, \"Rep\": \"Small1\"}, {\"inserts\": \"Medium Density\", \"ground_truth_volume_large\": 98.2, \"calculated_volume_large\": 98.9946732, \"ground_truth_volume_medium\": 21.2, \"calculated_volume_medium\": 18.24987104, \"ground_truth_volume_small\": 0.8, \"calculated_volume_small\": 0.430986186, \"ground_truth_mass_large\": 39.3, \"calculated_mass_large\": 39.59786928, \"ground_truth_mass_medium\": 8.5, \"calculated_mass_medium\": 7.299948416, \"ground_truth_mass_small\": 0.3, \"calculated_mass_small\": 0.172394474, \"Rep\": \"Small1\"}, {\"inserts\": \"High Density\", \"ground_truth_volume_large\": 98.2, \"calculated_volume_large\": 94.20587516, \"ground_truth_volume_medium\": 21.2, \"calculated_volume_medium\": 20.8462654, \"ground_truth_volume_small\": 0.8, \"calculated_volume_small\": 1.145826646, \"ground_truth_mass_large\": 78.5, \"calculated_mass_large\": 75.36470013, \"ground_truth_mass_medium\": 17.0, \"calculated_mass_medium\": 16.67701232, \"ground_truth_mass_small\": 0.6, \"calculated_mass_small\": 0.916661317, \"Rep\": \"Small1\"}, {\"inserts\": \"Low Density\", \"ground_truth_volume_large\": 98.2, \"calculated_volume_large\": 90.4236277, \"ground_truth_volume_medium\": 21.2, \"calculated_volume_medium\": 13.25968504, \"ground_truth_volume_small\": 0.8, \"calculated_volume_small\": 0.257498942, \"ground_truth_mass_large\": 19.6, \"calculated_mass_large\": 18.08472554, \"ground_truth_mass_medium\": 4.2, \"calculated_mass_medium\": 2.651937007, \"ground_truth_mass_small\": 0.2, \"calculated_mass_small\": 0.051499788, \"Rep\": \"Small2\"}, {\"inserts\": \"Medium Density\", \"ground_truth_volume_large\": 98.2, \"calculated_volume_large\": 94.66054621, \"ground_truth_volume_medium\": 21.2, \"calculated_volume_medium\": 23.411352, \"ground_truth_volume_small\": 0.8, \"calculated_volume_small\": 0.546689195, \"ground_truth_mass_large\": 39.3, \"calculated_mass_large\": 37.86421848, \"ground_truth_mass_medium\": 8.5, \"calculated_mass_medium\": 9.364540799, \"ground_truth_mass_small\": 0.3, \"calculated_mass_small\": 0.218675678, \"Rep\": \"Small2\"}, {\"inserts\": \"High Density\", \"ground_truth_volume_large\": 98.2, \"calculated_volume_large\": 92.07047226, \"ground_truth_volume_medium\": 21.2, \"calculated_volume_medium\": 18.47449884, \"ground_truth_volume_small\": 0.8, \"calculated_volume_small\": 0.700527353, \"ground_truth_mass_large\": 78.5, \"calculated_mass_large\": 73.65637781, \"ground_truth_mass_medium\": 17.0, \"calculated_mass_medium\": 14.77959907, \"ground_truth_mass_small\": 0.6, \"calculated_mass_small\": 0.560421882, \"Rep\": \"Small2\"}, {\"inserts\": \"Low Density\", \"ground_truth_volume_large\": 98.2, \"calculated_volume_large\": 108.4225268, \"ground_truth_volume_medium\": 21.2, \"calculated_volume_medium\": 15.36997037, \"ground_truth_volume_small\": 0.8, \"calculated_volume_small\": 0.130460649, \"ground_truth_mass_large\": 19.6, \"calculated_mass_large\": 21.68450535, \"ground_truth_mass_medium\": 4.2, \"calculated_mass_medium\": 3.073994075, \"ground_truth_mass_small\": 0.2, \"calculated_mass_small\": 0.02609213, \"Rep\": \"Small3\"}, {\"inserts\": \"Medium Density\", \"ground_truth_volume_large\": 98.2, \"calculated_volume_large\": 98.67132435, \"ground_truth_volume_medium\": 21.2, \"calculated_volume_medium\": 19.9375615, \"ground_truth_volume_small\": 0.8, \"calculated_volume_small\": 0.117054655, \"ground_truth_mass_large\": 39.3, \"calculated_mass_large\": 39.46852974, \"ground_truth_mass_medium\": 8.5, \"calculated_mass_medium\": 7.975024601, \"ground_truth_mass_small\": 0.3, \"calculated_mass_small\": 0.046821862, \"Rep\": \"Small3\"}, {\"inserts\": \"High Density\", \"ground_truth_volume_large\": 98.2, \"calculated_volume_large\": 97.3935207, \"ground_truth_volume_medium\": 21.2, \"calculated_volume_medium\": 21.3207452, \"ground_truth_volume_small\": 0.8, \"calculated_volume_small\": 0.062921236, \"ground_truth_mass_large\": 78.5, \"calculated_mass_large\": 77.91481656, \"ground_truth_mass_medium\": 17.0, \"calculated_mass_medium\": 17.05659616, \"ground_truth_mass_small\": 0.6, \"calculated_mass_small\": 0.050336989, \"Rep\": \"Small3\"}, {\"inserts\": \"Low Density\", \"ground_truth_volume_large\": 98.2, \"calculated_volume_large\": 100.2538718, \"ground_truth_volume_medium\": 21.2, \"calculated_volume_medium\": 20.11847506, \"ground_truth_volume_small\": 0.8, \"calculated_volume_small\": 0.464478626, \"ground_truth_mass_large\": 19.6, \"calculated_mass_large\": 20.05077436, \"ground_truth_mass_medium\": 4.2, \"calculated_mass_medium\": 4.023695011, \"ground_truth_mass_small\": 0.2, \"calculated_mass_small\": 0.092895725, \"Rep\": \"Small4\"}, {\"inserts\": \"Medium Density\", \"ground_truth_volume_large\": 98.2, \"calculated_volume_large\": 98.41102342, \"ground_truth_volume_medium\": 21.2, \"calculated_volume_medium\": 19.33563551, \"ground_truth_volume_small\": 0.8, \"calculated_volume_small\": 0.092935573, \"ground_truth_mass_large\": 39.3, \"calculated_mass_large\": 39.36440937, \"ground_truth_mass_medium\": 8.5, \"calculated_mass_medium\": 7.734254203, \"ground_truth_mass_small\": 0.3, \"calculated_mass_small\": 0.037174229, \"Rep\": \"Small4\"}, {\"inserts\": \"High Density\", \"ground_truth_volume_large\": 98.2, \"calculated_volume_large\": 95.55502891, \"ground_truth_volume_medium\": 21.2, \"calculated_volume_medium\": 21.29252211, \"ground_truth_volume_small\": 0.8, \"calculated_volume_small\": 0.0, \"ground_truth_mass_large\": 78.5, \"calculated_mass_large\": 76.44402313, \"ground_truth_mass_medium\": 17.0, \"calculated_mass_medium\": 17.03401769, \"ground_truth_mass_small\": 0.6, \"calculated_mass_small\": 0.0, \"Rep\": \"Small4\"}, {\"inserts\": \"Low Density\", \"ground_truth_volume_large\": 98.2, \"calculated_volume_large\": 96.05779885, \"ground_truth_volume_medium\": 21.2, \"calculated_volume_medium\": 25.34582801, \"ground_truth_volume_small\": 0.8, \"calculated_volume_small\": 0.743395149, \"ground_truth_mass_large\": 19.6, \"calculated_mass_large\": 19.21155977, \"ground_truth_mass_medium\": 4.2, \"calculated_mass_medium\": 5.069165602, \"ground_truth_mass_small\": 0.2, \"calculated_mass_small\": 0.14867903, \"Rep\": \"Small5\"}, {\"inserts\": \"Medium Density\", \"ground_truth_volume_large\": 98.2, \"calculated_volume_large\": 95.3753091, \"ground_truth_volume_medium\": 21.2, \"calculated_volume_medium\": 20.35300886, \"ground_truth_volume_small\": 0.8, \"calculated_volume_small\": 0.0, \"ground_truth_mass_large\": 39.3, \"calculated_mass_large\": 38.15012364, \"ground_truth_mass_medium\": 8.5, \"calculated_mass_medium\": 8.141203543, \"ground_truth_mass_small\": 0.3, \"calculated_mass_small\": 0.0, \"Rep\": \"Small5\"}, {\"inserts\": \"High Density\", \"ground_truth_volume_large\": 98.2, \"calculated_volume_large\": 96.14918476, \"ground_truth_volume_medium\": 21.2, \"calculated_volume_medium\": 19.01146278, \"ground_truth_volume_small\": 0.8, \"calculated_volume_small\": 0.539201084, \"ground_truth_mass_large\": 78.5, \"calculated_mass_large\": 76.91934781, \"ground_truth_mass_medium\": 17.0, \"calculated_mass_medium\": 15.20917023, \"ground_truth_mass_small\": 0.6, \"calculated_mass_small\": 0.431360867, \"Rep\": \"Small5\"}], \"data-8a0c6de97e57b1a7a90887aa8ad4353d\": [{\"inserts\": \"Low Density\", \"ground_truth_volume_large\": 98.2, \"calculated_volume_large\": 95.73886485, \"ground_truth_volume_medium\": 21.2, \"calculated_volume_medium\": 21.74707708, \"ground_truth_volume_small\": 0.8, \"calculated_volume_small\": 0.373490915, \"ground_truth_mass_large\": 19.6, \"calculated_mass_large\": 19.14777297, \"ground_truth_mass_medium\": 4.2, \"calculated_mass_medium\": 4.349415416, \"ground_truth_mass_small\": 0.2, \"calculated_mass_small\": 0.074698183, \"Rep\": \"Large1\"}, {\"inserts\": \"Medium Density\", \"ground_truth_volume_large\": 98.2, \"calculated_volume_large\": 107.4981678, \"ground_truth_volume_medium\": 21.2, \"calculated_volume_medium\": 22.56294345, \"ground_truth_volume_small\": 0.8, \"calculated_volume_small\": 0.0, \"ground_truth_mass_large\": 39.3, \"calculated_mass_large\": 42.99926713, \"ground_truth_mass_medium\": 8.5, \"calculated_mass_medium\": 9.02517738, \"ground_truth_mass_small\": 0.3, \"calculated_mass_small\": 0.0, \"Rep\": \"Large1\"}, {\"inserts\": \"High Density\", \"ground_truth_volume_large\": 98.2, \"calculated_volume_large\": 105.6987176, \"ground_truth_volume_medium\": 21.2, \"calculated_volume_medium\": 25.04652229, \"ground_truth_volume_small\": 0.8, \"calculated_volume_small\": 0.691941132, \"ground_truth_mass_large\": 78.5, \"calculated_mass_large\": 84.55897412, \"ground_truth_mass_medium\": 17.0, \"calculated_mass_medium\": 20.03721783, \"ground_truth_mass_small\": 0.6, \"calculated_mass_small\": 0.553552906, \"Rep\": \"Large1\"}, {\"inserts\": \"Low Density\", \"ground_truth_volume_large\": 98.2, \"calculated_volume_large\": 134.8888748, \"ground_truth_volume_medium\": 21.2, \"calculated_volume_medium\": 29.40508141, \"ground_truth_volume_small\": 0.8, \"calculated_volume_small\": 0.131075371, \"ground_truth_mass_large\": 19.6, \"calculated_mass_large\": 26.97777495, \"ground_truth_mass_medium\": 4.2, \"calculated_mass_medium\": 5.881016283, \"ground_truth_mass_small\": 0.2, \"calculated_mass_small\": 0.026215074, \"Rep\": \"Large2\"}, {\"inserts\": \"Medium Density\", \"ground_truth_volume_large\": 98.2, \"calculated_volume_large\": 112.9064301, \"ground_truth_volume_medium\": 21.2, \"calculated_volume_medium\": 28.61784105, \"ground_truth_volume_small\": 0.8, \"calculated_volume_small\": 1.107594952, \"ground_truth_mass_large\": 39.3, \"calculated_mass_large\": 45.16257205, \"ground_truth_mass_medium\": 8.5, \"calculated_mass_medium\": 11.44713642, \"ground_truth_mass_small\": 0.3, \"calculated_mass_small\": 0.443037981, \"Rep\": \"Large2\"}, {\"inserts\": \"High Density\", \"ground_truth_volume_large\": 98.2, \"calculated_volume_large\": 117.5710962, \"ground_truth_volume_medium\": 21.2, \"calculated_volume_medium\": 23.07331486, \"ground_truth_volume_small\": 0.8, \"calculated_volume_small\": 0.396758731, \"ground_truth_mass_large\": 78.5, \"calculated_mass_large\": 94.05687695, \"ground_truth_mass_medium\": 17.0, \"calculated_mass_medium\": 18.45865189, \"ground_truth_mass_small\": 0.6, \"calculated_mass_small\": 0.317406985, \"Rep\": \"Large2\"}, {\"inserts\": \"Low Density\", \"ground_truth_volume_large\": 98.2, \"calculated_volume_large\": 97.20086245, \"ground_truth_volume_medium\": 21.2, \"calculated_volume_medium\": 23.70148973, \"ground_truth_volume_small\": 0.8, \"calculated_volume_small\": 0.0, \"ground_truth_mass_large\": 19.6, \"calculated_mass_large\": 19.44017249, \"ground_truth_mass_medium\": 4.2, \"calculated_mass_medium\": 4.740297946, \"ground_truth_mass_small\": 0.2, \"calculated_mass_small\": 0.0, \"Rep\": \"Large3\"}, {\"inserts\": \"Medium Density\", \"ground_truth_volume_large\": 98.2, \"calculated_volume_large\": 110.6593589, \"ground_truth_volume_medium\": 21.2, \"calculated_volume_medium\": 22.00173272, \"ground_truth_volume_small\": 0.8, \"calculated_volume_small\": 0.859256046, \"ground_truth_mass_large\": 39.3, \"calculated_mass_large\": 44.26374356, \"ground_truth_mass_medium\": 8.5, \"calculated_mass_medium\": 8.800693088, \"ground_truth_mass_small\": 0.3, \"calculated_mass_small\": 0.343702418, \"Rep\": \"Large3\"}, {\"inserts\": \"High Density\", \"ground_truth_volume_large\": 98.2, \"calculated_volume_large\": 107.1162867, \"ground_truth_volume_medium\": 21.2, \"calculated_volume_medium\": 23.90089083, \"ground_truth_volume_small\": 0.8, \"calculated_volume_small\": 0.0, \"ground_truth_mass_large\": 78.5, \"calculated_mass_large\": 85.69302939, \"ground_truth_mass_medium\": 17.0, \"calculated_mass_medium\": 19.12071267, \"ground_truth_mass_small\": 0.6, \"calculated_mass_small\": 0.0, \"Rep\": \"Large3\"}, {\"inserts\": \"Low Density\", \"ground_truth_volume_large\": 98.2, \"calculated_volume_large\": 132.0175173, \"ground_truth_volume_medium\": 21.2, \"calculated_volume_medium\": 24.51142805, \"ground_truth_volume_small\": 0.8, \"calculated_volume_small\": 0.0, \"ground_truth_mass_large\": 19.6, \"calculated_mass_large\": 26.40350347, \"ground_truth_mass_medium\": 4.2, \"calculated_mass_medium\": 4.902285609, \"ground_truth_mass_small\": 0.2, \"calculated_mass_small\": 0.0, \"Rep\": \"Large4\"}, {\"inserts\": \"Medium Density\", \"ground_truth_volume_large\": 98.2, \"calculated_volume_large\": 172.2126608, \"ground_truth_volume_medium\": 21.2, \"calculated_volume_medium\": 39.96811987, \"ground_truth_volume_small\": 0.8, \"calculated_volume_small\": 0.569255182, \"ground_truth_mass_large\": 39.3, \"calculated_mass_large\": 68.88506432, \"ground_truth_mass_medium\": 8.5, \"calculated_mass_medium\": 15.98724795, \"ground_truth_mass_small\": 0.3, \"calculated_mass_small\": 0.227702073, \"Rep\": \"Large4\"}, {\"inserts\": \"High Density\", \"ground_truth_volume_large\": 98.2, \"calculated_volume_large\": 185.417532, \"ground_truth_volume_medium\": 21.2, \"calculated_volume_medium\": 40.77618753, \"ground_truth_volume_small\": 0.8, \"calculated_volume_small\": 0.0, \"ground_truth_mass_large\": 78.5, \"calculated_mass_large\": 148.3340256, \"ground_truth_mass_medium\": 17.0, \"calculated_mass_medium\": 32.62095003, \"ground_truth_mass_small\": 0.6, \"calculated_mass_small\": 0.0, \"Rep\": \"Large4\"}, {\"inserts\": \"Low Density\", \"ground_truth_volume_large\": 98.2, \"calculated_volume_large\": 118.8177416, \"ground_truth_volume_medium\": 21.2, \"calculated_volume_medium\": 32.40153206, \"ground_truth_volume_small\": 0.8, \"calculated_volume_small\": 0.0, \"ground_truth_mass_large\": 19.6, \"calculated_mass_large\": 23.76354831, \"ground_truth_mass_medium\": 4.2, \"calculated_mass_medium\": 6.480306413, \"ground_truth_mass_small\": 0.2, \"calculated_mass_small\": 0.0, \"Rep\": \"Small1\"}, {\"inserts\": \"Medium Density\", \"ground_truth_volume_large\": 98.2, \"calculated_volume_large\": 119.6638358, \"ground_truth_volume_medium\": 21.2, \"calculated_volume_medium\": 22.1309431, \"ground_truth_volume_small\": 0.8, \"calculated_volume_small\": 0.534095874, \"ground_truth_mass_large\": 39.3, \"calculated_mass_large\": 47.86553431, \"ground_truth_mass_medium\": 8.5, \"calculated_mass_medium\": 8.852377238, \"ground_truth_mass_small\": 0.3, \"calculated_mass_small\": 0.21363835, \"Rep\": \"Small1\"}, {\"inserts\": \"High Density\", \"ground_truth_volume_large\": 98.2, \"calculated_volume_large\": 116.7001378, \"ground_truth_volume_medium\": 21.2, \"calculated_volume_medium\": 25.83034609, \"ground_truth_volume_small\": 0.8, \"calculated_volume_small\": 1.420142552, \"ground_truth_mass_large\": 78.5, \"calculated_mass_large\": 93.36011023, \"ground_truth_mass_medium\": 17.0, \"calculated_mass_medium\": 20.66427687, \"ground_truth_mass_small\": 0.6, \"calculated_mass_small\": 1.136114042, \"Rep\": \"Small1\"}, {\"inserts\": \"Low Density\", \"ground_truth_volume_large\": 98.2, \"calculated_volume_large\": 109.4182795, \"ground_truth_volume_medium\": 21.2, \"calculated_volume_medium\": 16.02624244, \"ground_truth_volume_small\": 0.8, \"calculated_volume_small\": 0.330135997, \"ground_truth_mass_large\": 19.6, \"calculated_mass_large\": 21.88365589, \"ground_truth_mass_medium\": 4.2, \"calculated_mass_medium\": 3.205248489, \"ground_truth_mass_small\": 0.2, \"calculated_mass_small\": 0.066027199, \"Rep\": \"Small2\"}, {\"inserts\": \"Medium Density\", \"ground_truth_volume_large\": 98.2, \"calculated_volume_large\": 119.3334265, \"ground_truth_volume_medium\": 21.2, \"calculated_volume_medium\": 29.48880631, \"ground_truth_volume_small\": 0.8, \"calculated_volume_small\": 0.701611595, \"ground_truth_mass_large\": 39.3, \"calculated_mass_large\": 47.73337058, \"ground_truth_mass_medium\": 8.5, \"calculated_mass_medium\": 11.79552252, \"ground_truth_mass_small\": 0.3, \"calculated_mass_small\": 0.280644638, \"Rep\": \"Small2\"}, {\"inserts\": \"High Density\", \"ground_truth_volume_large\": 98.2, \"calculated_volume_large\": 118.2201997, \"ground_truth_volume_medium\": 21.2, \"calculated_volume_medium\": 23.73353325, \"ground_truth_volume_small\": 0.8, \"calculated_volume_small\": 0.900005292, \"ground_truth_mass_large\": 78.5, \"calculated_mass_large\": 94.57615976, \"ground_truth_mass_medium\": 17.0, \"calculated_mass_medium\": 18.9868266, \"ground_truth_mass_small\": 0.6, \"calculated_mass_small\": 0.720004233, \"Rep\": \"Small2\"}, {\"inserts\": \"Low Density\", \"ground_truth_volume_large\": 98.2, \"calculated_volume_large\": 138.8710251, \"ground_truth_volume_medium\": 21.2, \"calculated_volume_medium\": 19.94250069, \"ground_truth_volume_small\": 0.8, \"calculated_volume_small\": 0.297461579, \"ground_truth_mass_large\": 19.6, \"calculated_mass_large\": 27.77420503, \"ground_truth_mass_medium\": 4.2, \"calculated_mass_medium\": 3.988500137, \"ground_truth_mass_small\": 0.2, \"calculated_mass_small\": 0.059492316, \"Rep\": \"Small3\"}, {\"inserts\": \"Medium Density\", \"ground_truth_volume_large\": 98.2, \"calculated_volume_large\": 181.6901234, \"ground_truth_volume_medium\": 21.2, \"calculated_volume_medium\": 36.81131799, \"ground_truth_volume_small\": 0.8, \"calculated_volume_small\": 0.267934745, \"ground_truth_mass_large\": 39.3, \"calculated_mass_large\": 72.67604935, \"ground_truth_mass_medium\": 8.5, \"calculated_mass_medium\": 14.7245272, \"ground_truth_mass_small\": 0.3, \"calculated_mass_small\": 0.107173898, \"Rep\": \"Small3\"}, {\"inserts\": \"High Density\", \"ground_truth_volume_large\": 98.2, \"calculated_volume_large\": 222.3244909, \"ground_truth_volume_medium\": 21.2, \"calculated_volume_medium\": 48.51598746, \"ground_truth_volume_small\": 0.8, \"calculated_volume_small\": 0.144650173, \"ground_truth_mass_large\": 78.5, \"calculated_mass_large\": 177.8595927, \"ground_truth_mass_medium\": 17.0, \"calculated_mass_medium\": 38.81278997, \"ground_truth_mass_small\": 0.6, \"calculated_mass_small\": 0.115720138, \"Rep\": \"Small3\"}, {\"inserts\": \"Low Density\", \"ground_truth_volume_large\": 98.2, \"calculated_volume_large\": 162.2315197, \"ground_truth_volume_medium\": 21.2, \"calculated_volume_medium\": 32.392563, \"ground_truth_volume_small\": 0.8, \"calculated_volume_small\": 0.635632922, \"ground_truth_mass_large\": 19.6, \"calculated_mass_large\": 32.44630393, \"ground_truth_mass_medium\": 4.2, \"calculated_mass_medium\": 6.4785126, \"ground_truth_mass_small\": 0.2, \"calculated_mass_small\": 0.127126584, \"Rep\": \"Small4\"}, {\"inserts\": \"Medium Density\", \"ground_truth_volume_large\": 98.2, \"calculated_volume_large\": 141.4310888, \"ground_truth_volume_medium\": 21.2, \"calculated_volume_medium\": 27.86217538, \"ground_truth_volume_small\": 0.8, \"calculated_volume_small\": 0.127710272, \"ground_truth_mass_large\": 39.3, \"calculated_mass_large\": 56.57243553, \"ground_truth_mass_medium\": 8.5, \"calculated_mass_medium\": 11.14487015, \"ground_truth_mass_small\": 0.3, \"calculated_mass_small\": 0.051084109, \"Rep\": \"Small4\"}, {\"inserts\": \"High Density\", \"ground_truth_volume_large\": 98.2, \"calculated_volume_large\": 131.0784104, \"ground_truth_volume_medium\": 21.2, \"calculated_volume_medium\": 29.21207966, \"ground_truth_volume_small\": 0.8, \"calculated_volume_small\": 0.0, \"ground_truth_mass_large\": 78.5, \"calculated_mass_large\": 104.8627283, \"ground_truth_mass_medium\": 17.0, \"calculated_mass_medium\": 23.36966373, \"ground_truth_mass_small\": 0.6, \"calculated_mass_small\": 0.0, \"Rep\": \"Small4\"}, {\"inserts\": \"Low Density\", \"ground_truth_volume_large\": 98.2, \"calculated_volume_large\": 105.1988574, \"ground_truth_volume_medium\": 21.2, \"calculated_volume_medium\": 27.71829926, \"ground_truth_volume_small\": 0.8, \"calculated_volume_small\": 0.80445451, \"ground_truth_mass_large\": 19.6, \"calculated_mass_large\": 21.03977148, \"ground_truth_mass_medium\": 4.2, \"calculated_mass_medium\": 5.543659851, \"ground_truth_mass_small\": 0.2, \"calculated_mass_small\": 0.160890902, \"Rep\": \"Small5\"}, {\"inserts\": \"Medium Density\", \"ground_truth_volume_large\": 98.2, \"calculated_volume_large\": 103.6651488, \"ground_truth_volume_medium\": 21.2, \"calculated_volume_medium\": 22.11176658, \"ground_truth_volume_small\": 0.8, \"calculated_volume_small\": 0.0, \"ground_truth_mass_large\": 39.3, \"calculated_mass_large\": 41.4660595, \"ground_truth_mass_medium\": 8.5, \"calculated_mass_medium\": 8.844706632, \"ground_truth_mass_small\": 0.3, \"calculated_mass_small\": 0.0, \"Rep\": \"Small5\"}, {\"inserts\": \"High Density\", \"ground_truth_volume_large\": 98.2, \"calculated_volume_large\": 104.082666, \"ground_truth_volume_medium\": 21.2, \"calculated_volume_medium\": 20.58051637, \"ground_truth_volume_small\": 0.8, \"calculated_volume_small\": 0.583710448, \"ground_truth_mass_large\": 78.5, \"calculated_mass_large\": 83.26613281, \"ground_truth_mass_medium\": 17.0, \"calculated_mass_medium\": 16.4644131, \"ground_truth_mass_small\": 0.6, \"calculated_mass_small\": 0.466968359, \"Rep\": \"Small5\"}]}}, {\"mode\": \"vega-lite\"});\n</script>",
      "text/plain": "alt.HConcatChart(...)"
     },
     "metadata": {}
    }
   ]
  },
  {
   "cell_type": "markdown",
   "source": "### Mass Score: Medium Inserts",
   "metadata": {
    "cell_id": "5401838e-e02d-4d7d-827e-d89457d0010b",
    "tags": [],
    "is_collapsed": false,
    "deepnote_cell_type": "text-cell-h3"
   }
  },
  {
   "cell_type": "code",
   "metadata": {
    "cell_id": "6f6e0e26-27f1-4bf9-8aa7-cd6b9dc9a5c0",
    "tags": [],
    "deepnote_to_be_reexecuted": false,
    "source_hash": "74a4188c",
    "execution_start": 1643835469551,
    "execution_millis": 1,
    "deepnote_output_heights": [
     21.1875
    ],
    "deepnote_cell_type": "code"
   },
   "source": "X_Siemens2_M = Siemens2.ground_truth_mass_medium.to_numpy().reshape(-1,1)\ny_Siemens2_M = Siemens2.calculated_mass_medium.to_numpy().reshape(-1,1)\nreg_Siemens2_M = LinearRegression().fit(X_Siemens2_M,y_Siemens2_M)\nSiemens2_scoreM = reg_Siemens2_M.score(X_Siemens2_M,y_Siemens2_M)\nSiemens2_scoreM",
   "execution_count": 75,
   "outputs": [
    {
     "output_type": "execute_result",
     "execution_count": 75,
     "data": {
      "text/plain": "0.9692823132369127"
     },
     "metadata": {}
    }
   ]
  },
  {
   "cell_type": "code",
   "metadata": {
    "cell_id": "93e882d5-65a5-4a27-8494-225402546069",
    "tags": [],
    "deepnote_to_be_reexecuted": false,
    "source_hash": "99f97a2f",
    "execution_start": 1643835469553,
    "execution_millis": 4,
    "deepnote_cell_type": "code"
   },
   "source": "a2M,b2M = [reg_Siemens2_M.coef_[0,0],reg_Siemens2_M.intercept_[0]]\nprint(\"y = {} x + {}\".format(str(a2M),str(b2M)))",
   "execution_count": 76,
   "outputs": [
    {
     "name": "stdout",
     "text": "y = 0.955039071093959 x + 0.12891130650313798\n",
     "output_type": "stream"
    }
   ]
  },
  {
   "cell_type": "code",
   "metadata": {
    "cell_id": "2c11f58a-17de-4c9d-909f-9a62a333052f",
    "tags": [],
    "deepnote_to_be_reexecuted": false,
    "source_hash": "c4e9e083",
    "execution_start": 1643835469554,
    "execution_millis": 3,
    "deepnote_output_heights": [
     21.1875
    ],
    "deepnote_cell_type": "code"
   },
   "source": "X_Siemens3_M = Siemens3.ground_truth_mass_medium.to_numpy().reshape(-1,1)\ny_Siemens3_M = Siemens3.calculated_mass_medium.to_numpy().reshape(-1,1)\nreg_Siemens3_M = LinearRegression().fit(X_Siemens3_M,y_Siemens3_M)\nSiemens3_scoreM = reg_Siemens3_M.score(X_Siemens3_M,y_Siemens3_M)\nSiemens3_scoreM",
   "execution_count": 77,
   "outputs": [
    {
     "output_type": "execute_result",
     "execution_count": 77,
     "data": {
      "text/plain": "0.74647643513326"
     },
     "metadata": {}
    }
   ]
  },
  {
   "cell_type": "code",
   "metadata": {
    "cell_id": "b5d03393-6010-4168-ada9-8a89ec21e737",
    "tags": [],
    "deepnote_to_be_reexecuted": false,
    "source_hash": "7ca8749c",
    "execution_start": 1643835469561,
    "execution_millis": 2,
    "deepnote_cell_type": "code"
   },
   "source": "a3M,b3M = [reg_Siemens3_M.coef_[0,0],reg_Siemens3_M.intercept_[0]]\nprint(\"y = {} x + {}\".format(str(a3M),str(b3M)))",
   "execution_count": 78,
   "outputs": [
    {
     "name": "stdout",
     "text": "y = 1.4140757632820073 x + -0.8613128708622408\n",
     "output_type": "stream"
    }
   ]
  },
  {
   "cell_type": "code",
   "metadata": {
    "cell_id": "50b865d3-4b29-482e-9fcb-3daf90595ba5",
    "tags": [],
    "deepnote_to_be_reexecuted": false,
    "source_hash": "de0e4b0a",
    "execution_start": 1643836696068,
    "execution_millis": 160,
    "deepnote_output_heights": [
     363
    ],
    "deepnote_cell_type": "code"
   },
   "source": "Siemens2_medium = chart_plot_medium(Siemens2)\nSiemens3_medium = chart_plot_medium(Siemens3)\nSiemens2_medium | Siemens3_medium",
   "execution_count": 151,
   "outputs": [
    {
     "output_type": "execute_result",
     "execution_count": 151,
     "data": {
      "text/html": "\n<div id=\"altair-viz-e801d7d0d8984479a5d94892e82d851c\"></div>\n<script type=\"text/javascript\">\n  (function(spec, embedOpt){\n    let outputDiv = document.currentScript.previousElementSibling;\n    if (outputDiv.id !== \"altair-viz-e801d7d0d8984479a5d94892e82d851c\") {\n      outputDiv = document.getElementById(\"altair-viz-e801d7d0d8984479a5d94892e82d851c\");\n    }\n    const paths = {\n      \"vega\": \"https://cdn.jsdelivr.net/npm//vega@5?noext\",\n      \"vega-lib\": \"https://cdn.jsdelivr.net/npm//vega-lib?noext\",\n      \"vega-lite\": \"https://cdn.jsdelivr.net/npm//vega-lite@4.8.1?noext\",\n      \"vega-embed\": \"https://cdn.jsdelivr.net/npm//vega-embed@6?noext\",\n    };\n\n    function loadScript(lib) {\n      return new Promise(function(resolve, reject) {\n        var s = document.createElement('script');\n        s.src = paths[lib];\n        s.async = true;\n        s.onload = () => resolve(paths[lib]);\n        s.onerror = () => reject(`Error loading script: ${paths[lib]}`);\n        document.getElementsByTagName(\"head\")[0].appendChild(s);\n      });\n    }\n\n    function showError(err) {\n      outputDiv.innerHTML = `<div class=\"error\" style=\"color:red;\">${err}</div>`;\n      throw err;\n    }\n\n    function displayChart(vegaEmbed) {\n      vegaEmbed(outputDiv, spec, embedOpt)\n        .catch(err => showError(`Javascript Error: ${err.message}<br>This usually means there's a typo in your chart specification. See the javascript console for the full traceback.`));\n    }\n\n    if(typeof define === \"function\" && define.amd) {\n      requirejs.config({paths});\n      require([\"vega-embed\"], displayChart, err => showError(`Error loading script: ${err.message}`));\n    } else if (typeof vegaEmbed === \"function\") {\n      displayChart(vegaEmbed);\n    } else {\n      loadScript(\"vega\")\n        .then(() => loadScript(\"vega-lite\"))\n        .then(() => loadScript(\"vega-embed\"))\n        .catch(showError)\n        .then(() => displayChart(vegaEmbed));\n    }\n  })({\"config\": {\"view\": {\"continuousWidth\": 400, \"continuousHeight\": 300}}, \"hconcat\": [{\"layer\": [{\"mark\": \"circle\", \"encoding\": {\"color\": {\"type\": \"nominal\", \"field\": \"Rep\"}, \"tooltip\": [{\"type\": \"quantitative\", \"field\": \"ground_truth_volume_medium\"}, {\"type\": \"quantitative\", \"field\": \"calculated_volume_medium\"}, {\"type\": \"nominal\", \"field\": \"Rep\"}], \"x\": {\"type\": \"quantitative\", \"field\": \"ground_truth_mass_medium\"}, \"y\": {\"type\": \"quantitative\", \"field\": \"calculated_mass_medium\"}}}, {\"mark\": \"line\", \"encoding\": {\"color\": {\"type\": \"nominal\", \"field\": \"Rep\"}, \"tooltip\": [{\"type\": \"quantitative\", \"field\": \"ground_truth_volume_medium\"}, {\"type\": \"quantitative\", \"field\": \"calculated_volume_medium\"}, {\"type\": \"nominal\", \"field\": \"Rep\"}], \"x\": {\"type\": \"quantitative\", \"field\": \"ground_truth_mass_medium\"}, \"y\": {\"type\": \"quantitative\", \"field\": \"calculated_mass_medium\"}}, \"transform\": [{\"on\": \"ground_truth_mass_medium\", \"regression\": \"calculated_mass_medium\", \"method\": \"linear\"}]}, {\"mark\": {\"type\": \"line\", \"color\": \"red\"}, \"encoding\": {\"x\": {\"type\": \"quantitative\", \"field\": \"ground_truth_mass_medium\"}, \"y\": {\"type\": \"quantitative\", \"field\": \"ground_truth_mass_medium\"}}}], \"data\": {\"name\": \"data-082033e891f40e5cb85a6d71ec762106\"}}, {\"layer\": [{\"mark\": \"circle\", \"encoding\": {\"color\": {\"type\": \"nominal\", \"field\": \"Rep\"}, \"tooltip\": [{\"type\": \"quantitative\", \"field\": \"ground_truth_volume_medium\"}, {\"type\": \"quantitative\", \"field\": \"calculated_volume_medium\"}, {\"type\": \"nominal\", \"field\": \"Rep\"}], \"x\": {\"type\": \"quantitative\", \"field\": \"ground_truth_mass_medium\"}, \"y\": {\"type\": \"quantitative\", \"field\": \"calculated_mass_medium\"}}}, {\"mark\": \"line\", \"encoding\": {\"color\": {\"type\": \"nominal\", \"field\": \"Rep\"}, \"tooltip\": [{\"type\": \"quantitative\", \"field\": \"ground_truth_volume_medium\"}, {\"type\": \"quantitative\", \"field\": \"calculated_volume_medium\"}, {\"type\": \"nominal\", \"field\": \"Rep\"}], \"x\": {\"type\": \"quantitative\", \"field\": \"ground_truth_mass_medium\"}, \"y\": {\"type\": \"quantitative\", \"field\": \"calculated_mass_medium\"}}, \"transform\": [{\"on\": \"ground_truth_mass_medium\", \"regression\": \"calculated_mass_medium\", \"method\": \"linear\"}]}, {\"mark\": {\"type\": \"line\", \"color\": \"red\"}, \"encoding\": {\"x\": {\"type\": \"quantitative\", \"field\": \"ground_truth_mass_medium\"}, \"y\": {\"type\": \"quantitative\", \"field\": \"ground_truth_mass_medium\"}}}], \"data\": {\"name\": \"data-8a0c6de97e57b1a7a90887aa8ad4353d\"}}], \"$schema\": \"https://vega.github.io/schema/vega-lite/v4.8.1.json\", \"datasets\": {\"data-082033e891f40e5cb85a6d71ec762106\": [{\"inserts\": \"Low Density\", \"ground_truth_volume_large\": 98.2, \"calculated_volume_large\": 82.86704978, \"ground_truth_volume_medium\": 21.2, \"calculated_volume_medium\": 18.88888098, \"ground_truth_volume_small\": 0.8, \"calculated_volume_small\": 0.330822955, \"ground_truth_mass_large\": 19.6, \"calculated_mass_large\": 16.57340996, \"ground_truth_mass_medium\": 4.2, \"calculated_mass_medium\": 3.777776196, \"ground_truth_mass_small\": 0.2, \"calculated_mass_small\": 0.066164591, \"Rep\": \"Large1\"}, {\"inserts\": \"Medium Density\", \"ground_truth_volume_large\": 98.2, \"calculated_volume_large\": 94.56911749, \"ground_truth_volume_medium\": 21.2, \"calculated_volume_medium\": 19.81314767, \"ground_truth_volume_small\": 0.8, \"calculated_volume_small\": 0.0, \"ground_truth_mass_large\": 39.3, \"calculated_mass_large\": 37.827647, \"ground_truth_mass_medium\": 8.5, \"calculated_mass_medium\": 7.925259068, \"ground_truth_mass_small\": 0.3, \"calculated_mass_small\": 0.0, \"Rep\": \"Large1\"}, {\"inserts\": \"High Density\", \"ground_truth_volume_large\": 98.2, \"calculated_volume_large\": 93.49800538, \"ground_truth_volume_medium\": 21.2, \"calculated_volume_medium\": 22.17596567, \"ground_truth_volume_small\": 0.8, \"calculated_volume_small\": 0.613004859, \"ground_truth_mass_large\": 78.5, \"calculated_mass_large\": 74.7984043, \"ground_truth_mass_medium\": 17.0, \"calculated_mass_medium\": 17.74077254, \"ground_truth_mass_small\": 0.6, \"calculated_mass_small\": 0.490403887, \"Rep\": \"Large1\"}, {\"inserts\": \"Low Density\", \"ground_truth_volume_large\": 98.2, \"calculated_volume_large\": 111.52941, \"ground_truth_volume_medium\": 21.2, \"calculated_volume_medium\": 24.22231238, \"ground_truth_volume_small\": 0.8, \"calculated_volume_small\": 0.108831512, \"ground_truth_mass_large\": 19.6, \"calculated_mass_large\": 22.305882, \"ground_truth_mass_medium\": 4.2, \"calculated_mass_medium\": 4.844462477, \"ground_truth_mass_small\": 0.2, \"calculated_mass_small\": 0.021766302, \"Rep\": \"Large2\"}, {\"inserts\": \"Medium Density\", \"ground_truth_volume_large\": 98.2, \"calculated_volume_large\": 93.29048877, \"ground_truth_volume_medium\": 21.2, \"calculated_volume_medium\": 23.75282648, \"ground_truth_volume_small\": 0.8, \"calculated_volume_small\": 0.919513248, \"ground_truth_mass_large\": 39.3, \"calculated_mass_large\": 37.31619551, \"ground_truth_mass_medium\": 8.5, \"calculated_mass_medium\": 9.50113059, \"ground_truth_mass_small\": 0.3, \"calculated_mass_small\": 0.367805299, \"Rep\": \"Large2\"}, {\"inserts\": \"High Density\", \"ground_truth_volume_large\": 98.2, \"calculated_volume_large\": 97.59872089, \"ground_truth_volume_medium\": 21.2, \"calculated_volume_medium\": 19.14036343, \"ground_truth_volume_small\": 0.8, \"calculated_volume_small\": 0.328974595, \"ground_truth_mass_large\": 78.5, \"calculated_mass_large\": 78.07897671, \"ground_truth_mass_medium\": 17.0, \"calculated_mass_medium\": 15.31229075, \"ground_truth_mass_small\": 0.6, \"calculated_mass_small\": 0.263179676, \"Rep\": \"Large2\"}, {\"inserts\": \"Low Density\", \"ground_truth_volume_large\": 98.2, \"calculated_volume_large\": 81.14425978, \"ground_truth_volume_medium\": 21.2, \"calculated_volume_medium\": 19.89550928, \"ground_truth_volume_small\": 0.8, \"calculated_volume_small\": 0.0, \"ground_truth_mass_large\": 19.6, \"calculated_mass_large\": 16.22885196, \"ground_truth_mass_medium\": 4.2, \"calculated_mass_medium\": 3.979101856, \"ground_truth_mass_small\": 0.2, \"calculated_mass_small\": 0.0, \"Rep\": \"Large3\"}, {\"inserts\": \"Medium Density\", \"ground_truth_volume_large\": 98.2, \"calculated_volume_large\": 93.41237246, \"ground_truth_volume_medium\": 21.2, \"calculated_volume_medium\": 18.59794865, \"ground_truth_volume_small\": 0.8, \"calculated_volume_small\": 0.731776061, \"ground_truth_mass_large\": 39.3, \"calculated_mass_large\": 37.36494898, \"ground_truth_mass_medium\": 8.5, \"calculated_mass_medium\": 7.439179458, \"ground_truth_mass_small\": 0.3, \"calculated_mass_small\": 0.292710424, \"Rep\": \"Large3\"}, {\"inserts\": \"High Density\", \"ground_truth_volume_large\": 98.2, \"calculated_volume_large\": 91.04253091, \"ground_truth_volume_medium\": 21.2, \"calculated_volume_medium\": 20.3299904, \"ground_truth_volume_small\": 0.8, \"calculated_volume_small\": 0.0, \"ground_truth_mass_large\": 78.5, \"calculated_mass_large\": 72.83402473, \"ground_truth_mass_medium\": 17.0, \"calculated_mass_medium\": 16.26399232, \"ground_truth_mass_small\": 0.6, \"calculated_mass_small\": 0.0, \"Rep\": \"Large3\"}, {\"inserts\": \"Low Density\", \"ground_truth_volume_large\": 98.2, \"calculated_volume_large\": 100.2836831, \"ground_truth_volume_medium\": 21.2, \"calculated_volume_medium\": 18.63395546, \"ground_truth_volume_small\": 0.8, \"calculated_volume_small\": 0.0, \"ground_truth_mass_large\": 19.6, \"calculated_mass_large\": 20.05673662, \"ground_truth_mass_medium\": 4.2, \"calculated_mass_medium\": 3.726791092, \"ground_truth_mass_small\": 0.2, \"calculated_mass_small\": 0.0, \"Rep\": \"Large4\"}, {\"inserts\": \"Medium Density\", \"ground_truth_volume_large\": 98.2, \"calculated_volume_large\": 102.1320031, \"ground_truth_volume_medium\": 21.2, \"calculated_volume_medium\": 23.84369758, \"ground_truth_volume_small\": 0.8, \"calculated_volume_small\": 0.294679392, \"ground_truth_mass_large\": 39.3, \"calculated_mass_large\": 40.85280125, \"ground_truth_mass_medium\": 8.5, \"calculated_mass_medium\": 9.537479034, \"ground_truth_mass_small\": 0.3, \"calculated_mass_small\": 0.117871757, \"Rep\": \"Large4\"}, {\"inserts\": \"High Density\", \"ground_truth_volume_large\": 98.2, \"calculated_volume_large\": 96.22537465, \"ground_truth_volume_medium\": 21.2, \"calculated_volume_medium\": 21.21683699, \"ground_truth_volume_small\": 0.8, \"calculated_volume_small\": 0.0, \"ground_truth_mass_large\": 78.5, \"calculated_mass_large\": 76.98029972, \"ground_truth_mass_medium\": 17.0, \"calculated_mass_medium\": 16.97346959, \"ground_truth_mass_small\": 0.6, \"calculated_mass_small\": 0.0, \"Rep\": \"Large4\"}, {\"inserts\": \"Low Density\", \"ground_truth_volume_large\": 98.2, \"calculated_volume_large\": 103.378698, \"ground_truth_volume_medium\": 21.2, \"calculated_volume_medium\": 28.25342641, \"ground_truth_volume_small\": 0.8, \"calculated_volume_small\": 0.0, \"ground_truth_mass_large\": 19.6, \"calculated_mass_large\": 20.6757396, \"ground_truth_mass_medium\": 4.2, \"calculated_mass_medium\": 5.650685281, \"ground_truth_mass_small\": 0.2, \"calculated_mass_small\": 0.0, \"Rep\": \"Small1\"}, {\"inserts\": \"Medium Density\", \"ground_truth_volume_large\": 98.2, \"calculated_volume_large\": 98.9946732, \"ground_truth_volume_medium\": 21.2, \"calculated_volume_medium\": 18.24987104, \"ground_truth_volume_small\": 0.8, \"calculated_volume_small\": 0.430986186, \"ground_truth_mass_large\": 39.3, \"calculated_mass_large\": 39.59786928, \"ground_truth_mass_medium\": 8.5, \"calculated_mass_medium\": 7.299948416, \"ground_truth_mass_small\": 0.3, \"calculated_mass_small\": 0.172394474, \"Rep\": \"Small1\"}, {\"inserts\": \"High Density\", \"ground_truth_volume_large\": 98.2, \"calculated_volume_large\": 94.20587516, \"ground_truth_volume_medium\": 21.2, \"calculated_volume_medium\": 20.8462654, \"ground_truth_volume_small\": 0.8, \"calculated_volume_small\": 1.145826646, \"ground_truth_mass_large\": 78.5, \"calculated_mass_large\": 75.36470013, \"ground_truth_mass_medium\": 17.0, \"calculated_mass_medium\": 16.67701232, \"ground_truth_mass_small\": 0.6, \"calculated_mass_small\": 0.916661317, \"Rep\": \"Small1\"}, {\"inserts\": \"Low Density\", \"ground_truth_volume_large\": 98.2, \"calculated_volume_large\": 90.4236277, \"ground_truth_volume_medium\": 21.2, \"calculated_volume_medium\": 13.25968504, \"ground_truth_volume_small\": 0.8, \"calculated_volume_small\": 0.257498942, \"ground_truth_mass_large\": 19.6, \"calculated_mass_large\": 18.08472554, \"ground_truth_mass_medium\": 4.2, \"calculated_mass_medium\": 2.651937007, \"ground_truth_mass_small\": 0.2, \"calculated_mass_small\": 0.051499788, \"Rep\": \"Small2\"}, {\"inserts\": \"Medium Density\", \"ground_truth_volume_large\": 98.2, \"calculated_volume_large\": 94.66054621, \"ground_truth_volume_medium\": 21.2, \"calculated_volume_medium\": 23.411352, \"ground_truth_volume_small\": 0.8, \"calculated_volume_small\": 0.546689195, \"ground_truth_mass_large\": 39.3, \"calculated_mass_large\": 37.86421848, \"ground_truth_mass_medium\": 8.5, \"calculated_mass_medium\": 9.364540799, \"ground_truth_mass_small\": 0.3, \"calculated_mass_small\": 0.218675678, \"Rep\": \"Small2\"}, {\"inserts\": \"High Density\", \"ground_truth_volume_large\": 98.2, \"calculated_volume_large\": 92.07047226, \"ground_truth_volume_medium\": 21.2, \"calculated_volume_medium\": 18.47449884, \"ground_truth_volume_small\": 0.8, \"calculated_volume_small\": 0.700527353, \"ground_truth_mass_large\": 78.5, \"calculated_mass_large\": 73.65637781, \"ground_truth_mass_medium\": 17.0, \"calculated_mass_medium\": 14.77959907, \"ground_truth_mass_small\": 0.6, \"calculated_mass_small\": 0.560421882, \"Rep\": \"Small2\"}, {\"inserts\": \"Low Density\", \"ground_truth_volume_large\": 98.2, \"calculated_volume_large\": 108.4225268, \"ground_truth_volume_medium\": 21.2, \"calculated_volume_medium\": 15.36997037, \"ground_truth_volume_small\": 0.8, \"calculated_volume_small\": 0.130460649, \"ground_truth_mass_large\": 19.6, \"calculated_mass_large\": 21.68450535, \"ground_truth_mass_medium\": 4.2, \"calculated_mass_medium\": 3.073994075, \"ground_truth_mass_small\": 0.2, \"calculated_mass_small\": 0.02609213, \"Rep\": \"Small3\"}, {\"inserts\": \"Medium Density\", \"ground_truth_volume_large\": 98.2, \"calculated_volume_large\": 98.67132435, \"ground_truth_volume_medium\": 21.2, \"calculated_volume_medium\": 19.9375615, \"ground_truth_volume_small\": 0.8, \"calculated_volume_small\": 0.117054655, \"ground_truth_mass_large\": 39.3, \"calculated_mass_large\": 39.46852974, \"ground_truth_mass_medium\": 8.5, \"calculated_mass_medium\": 7.975024601, \"ground_truth_mass_small\": 0.3, \"calculated_mass_small\": 0.046821862, \"Rep\": \"Small3\"}, {\"inserts\": \"High Density\", \"ground_truth_volume_large\": 98.2, \"calculated_volume_large\": 97.3935207, \"ground_truth_volume_medium\": 21.2, \"calculated_volume_medium\": 21.3207452, \"ground_truth_volume_small\": 0.8, \"calculated_volume_small\": 0.062921236, \"ground_truth_mass_large\": 78.5, \"calculated_mass_large\": 77.91481656, \"ground_truth_mass_medium\": 17.0, \"calculated_mass_medium\": 17.05659616, \"ground_truth_mass_small\": 0.6, \"calculated_mass_small\": 0.050336989, \"Rep\": \"Small3\"}, {\"inserts\": \"Low Density\", \"ground_truth_volume_large\": 98.2, \"calculated_volume_large\": 100.2538718, \"ground_truth_volume_medium\": 21.2, \"calculated_volume_medium\": 20.11847506, \"ground_truth_volume_small\": 0.8, \"calculated_volume_small\": 0.464478626, \"ground_truth_mass_large\": 19.6, \"calculated_mass_large\": 20.05077436, \"ground_truth_mass_medium\": 4.2, \"calculated_mass_medium\": 4.023695011, \"ground_truth_mass_small\": 0.2, \"calculated_mass_small\": 0.092895725, \"Rep\": \"Small4\"}, {\"inserts\": \"Medium Density\", \"ground_truth_volume_large\": 98.2, \"calculated_volume_large\": 98.41102342, \"ground_truth_volume_medium\": 21.2, \"calculated_volume_medium\": 19.33563551, \"ground_truth_volume_small\": 0.8, \"calculated_volume_small\": 0.092935573, \"ground_truth_mass_large\": 39.3, \"calculated_mass_large\": 39.36440937, \"ground_truth_mass_medium\": 8.5, \"calculated_mass_medium\": 7.734254203, \"ground_truth_mass_small\": 0.3, \"calculated_mass_small\": 0.037174229, \"Rep\": \"Small4\"}, {\"inserts\": \"High Density\", \"ground_truth_volume_large\": 98.2, \"calculated_volume_large\": 95.55502891, \"ground_truth_volume_medium\": 21.2, \"calculated_volume_medium\": 21.29252211, \"ground_truth_volume_small\": 0.8, \"calculated_volume_small\": 0.0, \"ground_truth_mass_large\": 78.5, \"calculated_mass_large\": 76.44402313, \"ground_truth_mass_medium\": 17.0, \"calculated_mass_medium\": 17.03401769, \"ground_truth_mass_small\": 0.6, \"calculated_mass_small\": 0.0, \"Rep\": \"Small4\"}, {\"inserts\": \"Low Density\", \"ground_truth_volume_large\": 98.2, \"calculated_volume_large\": 96.05779885, \"ground_truth_volume_medium\": 21.2, \"calculated_volume_medium\": 25.34582801, \"ground_truth_volume_small\": 0.8, \"calculated_volume_small\": 0.743395149, \"ground_truth_mass_large\": 19.6, \"calculated_mass_large\": 19.21155977, \"ground_truth_mass_medium\": 4.2, \"calculated_mass_medium\": 5.069165602, \"ground_truth_mass_small\": 0.2, \"calculated_mass_small\": 0.14867903, \"Rep\": \"Small5\"}, {\"inserts\": \"Medium Density\", \"ground_truth_volume_large\": 98.2, \"calculated_volume_large\": 95.3753091, \"ground_truth_volume_medium\": 21.2, \"calculated_volume_medium\": 20.35300886, \"ground_truth_volume_small\": 0.8, \"calculated_volume_small\": 0.0, \"ground_truth_mass_large\": 39.3, \"calculated_mass_large\": 38.15012364, \"ground_truth_mass_medium\": 8.5, \"calculated_mass_medium\": 8.141203543, \"ground_truth_mass_small\": 0.3, \"calculated_mass_small\": 0.0, \"Rep\": \"Small5\"}, {\"inserts\": \"High Density\", \"ground_truth_volume_large\": 98.2, \"calculated_volume_large\": 96.14918476, \"ground_truth_volume_medium\": 21.2, \"calculated_volume_medium\": 19.01146278, \"ground_truth_volume_small\": 0.8, \"calculated_volume_small\": 0.539201084, \"ground_truth_mass_large\": 78.5, \"calculated_mass_large\": 76.91934781, \"ground_truth_mass_medium\": 17.0, \"calculated_mass_medium\": 15.20917023, \"ground_truth_mass_small\": 0.6, \"calculated_mass_small\": 0.431360867, \"Rep\": \"Small5\"}], \"data-8a0c6de97e57b1a7a90887aa8ad4353d\": [{\"inserts\": \"Low Density\", \"ground_truth_volume_large\": 98.2, \"calculated_volume_large\": 95.73886485, \"ground_truth_volume_medium\": 21.2, \"calculated_volume_medium\": 21.74707708, \"ground_truth_volume_small\": 0.8, \"calculated_volume_small\": 0.373490915, \"ground_truth_mass_large\": 19.6, \"calculated_mass_large\": 19.14777297, \"ground_truth_mass_medium\": 4.2, \"calculated_mass_medium\": 4.349415416, \"ground_truth_mass_small\": 0.2, \"calculated_mass_small\": 0.074698183, \"Rep\": \"Large1\"}, {\"inserts\": \"Medium Density\", \"ground_truth_volume_large\": 98.2, \"calculated_volume_large\": 107.4981678, \"ground_truth_volume_medium\": 21.2, \"calculated_volume_medium\": 22.56294345, \"ground_truth_volume_small\": 0.8, \"calculated_volume_small\": 0.0, \"ground_truth_mass_large\": 39.3, \"calculated_mass_large\": 42.99926713, \"ground_truth_mass_medium\": 8.5, \"calculated_mass_medium\": 9.02517738, \"ground_truth_mass_small\": 0.3, \"calculated_mass_small\": 0.0, \"Rep\": \"Large1\"}, {\"inserts\": \"High Density\", \"ground_truth_volume_large\": 98.2, \"calculated_volume_large\": 105.6987176, \"ground_truth_volume_medium\": 21.2, \"calculated_volume_medium\": 25.04652229, \"ground_truth_volume_small\": 0.8, \"calculated_volume_small\": 0.691941132, \"ground_truth_mass_large\": 78.5, \"calculated_mass_large\": 84.55897412, \"ground_truth_mass_medium\": 17.0, \"calculated_mass_medium\": 20.03721783, \"ground_truth_mass_small\": 0.6, \"calculated_mass_small\": 0.553552906, \"Rep\": \"Large1\"}, {\"inserts\": \"Low Density\", \"ground_truth_volume_large\": 98.2, \"calculated_volume_large\": 134.8888748, \"ground_truth_volume_medium\": 21.2, \"calculated_volume_medium\": 29.40508141, \"ground_truth_volume_small\": 0.8, \"calculated_volume_small\": 0.131075371, \"ground_truth_mass_large\": 19.6, \"calculated_mass_large\": 26.97777495, \"ground_truth_mass_medium\": 4.2, \"calculated_mass_medium\": 5.881016283, \"ground_truth_mass_small\": 0.2, \"calculated_mass_small\": 0.026215074, \"Rep\": \"Large2\"}, {\"inserts\": \"Medium Density\", \"ground_truth_volume_large\": 98.2, \"calculated_volume_large\": 112.9064301, \"ground_truth_volume_medium\": 21.2, \"calculated_volume_medium\": 28.61784105, \"ground_truth_volume_small\": 0.8, \"calculated_volume_small\": 1.107594952, \"ground_truth_mass_large\": 39.3, \"calculated_mass_large\": 45.16257205, \"ground_truth_mass_medium\": 8.5, \"calculated_mass_medium\": 11.44713642, \"ground_truth_mass_small\": 0.3, \"calculated_mass_small\": 0.443037981, \"Rep\": \"Large2\"}, {\"inserts\": \"High Density\", \"ground_truth_volume_large\": 98.2, \"calculated_volume_large\": 117.5710962, \"ground_truth_volume_medium\": 21.2, \"calculated_volume_medium\": 23.07331486, \"ground_truth_volume_small\": 0.8, \"calculated_volume_small\": 0.396758731, \"ground_truth_mass_large\": 78.5, \"calculated_mass_large\": 94.05687695, \"ground_truth_mass_medium\": 17.0, \"calculated_mass_medium\": 18.45865189, \"ground_truth_mass_small\": 0.6, \"calculated_mass_small\": 0.317406985, \"Rep\": \"Large2\"}, {\"inserts\": \"Low Density\", \"ground_truth_volume_large\": 98.2, \"calculated_volume_large\": 97.20086245, \"ground_truth_volume_medium\": 21.2, \"calculated_volume_medium\": 23.70148973, \"ground_truth_volume_small\": 0.8, \"calculated_volume_small\": 0.0, \"ground_truth_mass_large\": 19.6, \"calculated_mass_large\": 19.44017249, \"ground_truth_mass_medium\": 4.2, \"calculated_mass_medium\": 4.740297946, \"ground_truth_mass_small\": 0.2, \"calculated_mass_small\": 0.0, \"Rep\": \"Large3\"}, {\"inserts\": \"Medium Density\", \"ground_truth_volume_large\": 98.2, \"calculated_volume_large\": 110.6593589, \"ground_truth_volume_medium\": 21.2, \"calculated_volume_medium\": 22.00173272, \"ground_truth_volume_small\": 0.8, \"calculated_volume_small\": 0.859256046, \"ground_truth_mass_large\": 39.3, \"calculated_mass_large\": 44.26374356, \"ground_truth_mass_medium\": 8.5, \"calculated_mass_medium\": 8.800693088, \"ground_truth_mass_small\": 0.3, \"calculated_mass_small\": 0.343702418, \"Rep\": \"Large3\"}, {\"inserts\": \"High Density\", \"ground_truth_volume_large\": 98.2, \"calculated_volume_large\": 107.1162867, \"ground_truth_volume_medium\": 21.2, \"calculated_volume_medium\": 23.90089083, \"ground_truth_volume_small\": 0.8, \"calculated_volume_small\": 0.0, \"ground_truth_mass_large\": 78.5, \"calculated_mass_large\": 85.69302939, \"ground_truth_mass_medium\": 17.0, \"calculated_mass_medium\": 19.12071267, \"ground_truth_mass_small\": 0.6, \"calculated_mass_small\": 0.0, \"Rep\": \"Large3\"}, {\"inserts\": \"Low Density\", \"ground_truth_volume_large\": 98.2, \"calculated_volume_large\": 132.0175173, \"ground_truth_volume_medium\": 21.2, \"calculated_volume_medium\": 24.51142805, \"ground_truth_volume_small\": 0.8, \"calculated_volume_small\": 0.0, \"ground_truth_mass_large\": 19.6, \"calculated_mass_large\": 26.40350347, \"ground_truth_mass_medium\": 4.2, \"calculated_mass_medium\": 4.902285609, \"ground_truth_mass_small\": 0.2, \"calculated_mass_small\": 0.0, \"Rep\": \"Large4\"}, {\"inserts\": \"Medium Density\", \"ground_truth_volume_large\": 98.2, \"calculated_volume_large\": 172.2126608, \"ground_truth_volume_medium\": 21.2, \"calculated_volume_medium\": 39.96811987, \"ground_truth_volume_small\": 0.8, \"calculated_volume_small\": 0.569255182, \"ground_truth_mass_large\": 39.3, \"calculated_mass_large\": 68.88506432, \"ground_truth_mass_medium\": 8.5, \"calculated_mass_medium\": 15.98724795, \"ground_truth_mass_small\": 0.3, \"calculated_mass_small\": 0.227702073, \"Rep\": \"Large4\"}, {\"inserts\": \"High Density\", \"ground_truth_volume_large\": 98.2, \"calculated_volume_large\": 185.417532, \"ground_truth_volume_medium\": 21.2, \"calculated_volume_medium\": 40.77618753, \"ground_truth_volume_small\": 0.8, \"calculated_volume_small\": 0.0, \"ground_truth_mass_large\": 78.5, \"calculated_mass_large\": 148.3340256, \"ground_truth_mass_medium\": 17.0, \"calculated_mass_medium\": 32.62095003, \"ground_truth_mass_small\": 0.6, \"calculated_mass_small\": 0.0, \"Rep\": \"Large4\"}, {\"inserts\": \"Low Density\", \"ground_truth_volume_large\": 98.2, \"calculated_volume_large\": 118.8177416, \"ground_truth_volume_medium\": 21.2, \"calculated_volume_medium\": 32.40153206, \"ground_truth_volume_small\": 0.8, \"calculated_volume_small\": 0.0, \"ground_truth_mass_large\": 19.6, \"calculated_mass_large\": 23.76354831, \"ground_truth_mass_medium\": 4.2, \"calculated_mass_medium\": 6.480306413, \"ground_truth_mass_small\": 0.2, \"calculated_mass_small\": 0.0, \"Rep\": \"Small1\"}, {\"inserts\": \"Medium Density\", \"ground_truth_volume_large\": 98.2, \"calculated_volume_large\": 119.6638358, \"ground_truth_volume_medium\": 21.2, \"calculated_volume_medium\": 22.1309431, \"ground_truth_volume_small\": 0.8, \"calculated_volume_small\": 0.534095874, \"ground_truth_mass_large\": 39.3, \"calculated_mass_large\": 47.86553431, \"ground_truth_mass_medium\": 8.5, \"calculated_mass_medium\": 8.852377238, \"ground_truth_mass_small\": 0.3, \"calculated_mass_small\": 0.21363835, \"Rep\": \"Small1\"}, {\"inserts\": \"High Density\", \"ground_truth_volume_large\": 98.2, \"calculated_volume_large\": 116.7001378, \"ground_truth_volume_medium\": 21.2, \"calculated_volume_medium\": 25.83034609, \"ground_truth_volume_small\": 0.8, \"calculated_volume_small\": 1.420142552, \"ground_truth_mass_large\": 78.5, \"calculated_mass_large\": 93.36011023, \"ground_truth_mass_medium\": 17.0, \"calculated_mass_medium\": 20.66427687, \"ground_truth_mass_small\": 0.6, \"calculated_mass_small\": 1.136114042, \"Rep\": \"Small1\"}, {\"inserts\": \"Low Density\", \"ground_truth_volume_large\": 98.2, \"calculated_volume_large\": 109.4182795, \"ground_truth_volume_medium\": 21.2, \"calculated_volume_medium\": 16.02624244, \"ground_truth_volume_small\": 0.8, \"calculated_volume_small\": 0.330135997, \"ground_truth_mass_large\": 19.6, \"calculated_mass_large\": 21.88365589, \"ground_truth_mass_medium\": 4.2, \"calculated_mass_medium\": 3.205248489, \"ground_truth_mass_small\": 0.2, \"calculated_mass_small\": 0.066027199, \"Rep\": \"Small2\"}, {\"inserts\": \"Medium Density\", \"ground_truth_volume_large\": 98.2, \"calculated_volume_large\": 119.3334265, \"ground_truth_volume_medium\": 21.2, \"calculated_volume_medium\": 29.48880631, \"ground_truth_volume_small\": 0.8, \"calculated_volume_small\": 0.701611595, \"ground_truth_mass_large\": 39.3, \"calculated_mass_large\": 47.73337058, \"ground_truth_mass_medium\": 8.5, \"calculated_mass_medium\": 11.79552252, \"ground_truth_mass_small\": 0.3, \"calculated_mass_small\": 0.280644638, \"Rep\": \"Small2\"}, {\"inserts\": \"High Density\", \"ground_truth_volume_large\": 98.2, \"calculated_volume_large\": 118.2201997, \"ground_truth_volume_medium\": 21.2, \"calculated_volume_medium\": 23.73353325, \"ground_truth_volume_small\": 0.8, \"calculated_volume_small\": 0.900005292, \"ground_truth_mass_large\": 78.5, \"calculated_mass_large\": 94.57615976, \"ground_truth_mass_medium\": 17.0, \"calculated_mass_medium\": 18.9868266, \"ground_truth_mass_small\": 0.6, \"calculated_mass_small\": 0.720004233, \"Rep\": \"Small2\"}, {\"inserts\": \"Low Density\", \"ground_truth_volume_large\": 98.2, \"calculated_volume_large\": 138.8710251, \"ground_truth_volume_medium\": 21.2, \"calculated_volume_medium\": 19.94250069, \"ground_truth_volume_small\": 0.8, \"calculated_volume_small\": 0.297461579, \"ground_truth_mass_large\": 19.6, \"calculated_mass_large\": 27.77420503, \"ground_truth_mass_medium\": 4.2, \"calculated_mass_medium\": 3.988500137, \"ground_truth_mass_small\": 0.2, \"calculated_mass_small\": 0.059492316, \"Rep\": \"Small3\"}, {\"inserts\": \"Medium Density\", \"ground_truth_volume_large\": 98.2, \"calculated_volume_large\": 181.6901234, \"ground_truth_volume_medium\": 21.2, \"calculated_volume_medium\": 36.81131799, \"ground_truth_volume_small\": 0.8, \"calculated_volume_small\": 0.267934745, \"ground_truth_mass_large\": 39.3, \"calculated_mass_large\": 72.67604935, \"ground_truth_mass_medium\": 8.5, \"calculated_mass_medium\": 14.7245272, \"ground_truth_mass_small\": 0.3, \"calculated_mass_small\": 0.107173898, \"Rep\": \"Small3\"}, {\"inserts\": \"High Density\", \"ground_truth_volume_large\": 98.2, \"calculated_volume_large\": 222.3244909, \"ground_truth_volume_medium\": 21.2, \"calculated_volume_medium\": 48.51598746, \"ground_truth_volume_small\": 0.8, \"calculated_volume_small\": 0.144650173, \"ground_truth_mass_large\": 78.5, \"calculated_mass_large\": 177.8595927, \"ground_truth_mass_medium\": 17.0, \"calculated_mass_medium\": 38.81278997, \"ground_truth_mass_small\": 0.6, \"calculated_mass_small\": 0.115720138, \"Rep\": \"Small3\"}, {\"inserts\": \"Low Density\", \"ground_truth_volume_large\": 98.2, \"calculated_volume_large\": 162.2315197, \"ground_truth_volume_medium\": 21.2, \"calculated_volume_medium\": 32.392563, \"ground_truth_volume_small\": 0.8, \"calculated_volume_small\": 0.635632922, \"ground_truth_mass_large\": 19.6, \"calculated_mass_large\": 32.44630393, \"ground_truth_mass_medium\": 4.2, \"calculated_mass_medium\": 6.4785126, \"ground_truth_mass_small\": 0.2, \"calculated_mass_small\": 0.127126584, \"Rep\": \"Small4\"}, {\"inserts\": \"Medium Density\", \"ground_truth_volume_large\": 98.2, \"calculated_volume_large\": 141.4310888, \"ground_truth_volume_medium\": 21.2, \"calculated_volume_medium\": 27.86217538, \"ground_truth_volume_small\": 0.8, \"calculated_volume_small\": 0.127710272, \"ground_truth_mass_large\": 39.3, \"calculated_mass_large\": 56.57243553, \"ground_truth_mass_medium\": 8.5, \"calculated_mass_medium\": 11.14487015, \"ground_truth_mass_small\": 0.3, \"calculated_mass_small\": 0.051084109, \"Rep\": \"Small4\"}, {\"inserts\": \"High Density\", \"ground_truth_volume_large\": 98.2, \"calculated_volume_large\": 131.0784104, \"ground_truth_volume_medium\": 21.2, \"calculated_volume_medium\": 29.21207966, \"ground_truth_volume_small\": 0.8, \"calculated_volume_small\": 0.0, \"ground_truth_mass_large\": 78.5, \"calculated_mass_large\": 104.8627283, \"ground_truth_mass_medium\": 17.0, \"calculated_mass_medium\": 23.36966373, \"ground_truth_mass_small\": 0.6, \"calculated_mass_small\": 0.0, \"Rep\": \"Small4\"}, {\"inserts\": \"Low Density\", \"ground_truth_volume_large\": 98.2, \"calculated_volume_large\": 105.1988574, \"ground_truth_volume_medium\": 21.2, \"calculated_volume_medium\": 27.71829926, \"ground_truth_volume_small\": 0.8, \"calculated_volume_small\": 0.80445451, \"ground_truth_mass_large\": 19.6, \"calculated_mass_large\": 21.03977148, \"ground_truth_mass_medium\": 4.2, \"calculated_mass_medium\": 5.543659851, \"ground_truth_mass_small\": 0.2, \"calculated_mass_small\": 0.160890902, \"Rep\": \"Small5\"}, {\"inserts\": \"Medium Density\", \"ground_truth_volume_large\": 98.2, \"calculated_volume_large\": 103.6651488, \"ground_truth_volume_medium\": 21.2, \"calculated_volume_medium\": 22.11176658, \"ground_truth_volume_small\": 0.8, \"calculated_volume_small\": 0.0, \"ground_truth_mass_large\": 39.3, \"calculated_mass_large\": 41.4660595, \"ground_truth_mass_medium\": 8.5, \"calculated_mass_medium\": 8.844706632, \"ground_truth_mass_small\": 0.3, \"calculated_mass_small\": 0.0, \"Rep\": \"Small5\"}, {\"inserts\": \"High Density\", \"ground_truth_volume_large\": 98.2, \"calculated_volume_large\": 104.082666, \"ground_truth_volume_medium\": 21.2, \"calculated_volume_medium\": 20.58051637, \"ground_truth_volume_small\": 0.8, \"calculated_volume_small\": 0.583710448, \"ground_truth_mass_large\": 78.5, \"calculated_mass_large\": 83.26613281, \"ground_truth_mass_medium\": 17.0, \"calculated_mass_medium\": 16.4644131, \"ground_truth_mass_small\": 0.6, \"calculated_mass_small\": 0.466968359, \"Rep\": \"Small5\"}]}}, {\"mode\": \"vega-lite\"});\n</script>",
      "text/plain": "alt.HConcatChart(...)"
     },
     "metadata": {}
    }
   ]
  },
  {
   "cell_type": "markdown",
   "source": "### Mass Score: Small Inserts",
   "metadata": {
    "cell_id": "0377c9ee-25fd-4934-a5c5-e06e69b4c79b",
    "tags": [],
    "is_collapsed": false,
    "deepnote_cell_type": "text-cell-h3"
   }
  },
  {
   "cell_type": "code",
   "metadata": {
    "cell_id": "7de6ec42-3d52-4209-80ae-65417d175cfa",
    "tags": [],
    "deepnote_to_be_reexecuted": false,
    "source_hash": "78a10c34",
    "execution_start": 1643835469812,
    "execution_millis": 21,
    "deepnote_output_heights": [
     21.1875
    ],
    "deepnote_cell_type": "code"
   },
   "source": "X_Siemens2_S = Siemens2.ground_truth_mass_small.to_numpy().reshape(-1,1)\ny_Siemens2_S = Siemens2.calculated_mass_small.to_numpy().reshape(-1,1)\nreg_Siemens2_S = LinearRegression().fit(X_Siemens2_S,y_Siemens2_S)\nSiemens2_scoreS = reg_Siemens2_S.score(X_Siemens2_S,y_Siemens2_S)\nSiemens2_scoreS",
   "execution_count": 82,
   "outputs": [
    {
     "output_type": "execute_result",
     "execution_count": 82,
     "data": {
      "text/plain": "0.22872789558802253"
     },
     "metadata": {}
    }
   ]
  },
  {
   "cell_type": "code",
   "metadata": {
    "cell_id": "8178f086-e9cd-4120-8291-393dcff98efe",
    "tags": [],
    "deepnote_to_be_reexecuted": false,
    "source_hash": "c05b1fd8",
    "execution_start": 1643835469844,
    "execution_millis": 8,
    "deepnote_cell_type": "code"
   },
   "source": "a2S,b2S = [reg_Siemens2_S.coef_[0,0],reg_Siemens2_S.intercept_[0]]\nprint(\"y = {} x + {}\".format(str(a2S),str(b2S)))",
   "execution_count": 83,
   "outputs": [
    {
     "name": "stdout",
     "text": "y = 0.6172716688034189 x + -0.0643730968205129\n",
     "output_type": "stream"
    }
   ]
  },
  {
   "cell_type": "code",
   "metadata": {
    "cell_id": "ba3d5572-4f04-4f7e-b905-bdf8756812fc",
    "tags": [],
    "deepnote_to_be_reexecuted": false,
    "source_hash": "d6c25a4e",
    "execution_start": 1643835469875,
    "execution_millis": 262,
    "deepnote_output_heights": [
     21.1875
    ],
    "deepnote_cell_type": "code"
   },
   "source": "X_Siemens3_S = Siemens3.ground_truth_mass_small.to_numpy().reshape(-1,1)\ny_Siemens3_S = Siemens3.calculated_mass_small.to_numpy().reshape(-1,1)\nreg_Siemens3_S = LinearRegression().fit(X_Siemens3_S,y_Siemens3_S)\nSiemens3_scoreS = reg_Siemens3_S.score(X_Siemens3_S,y_Siemens3_S)\nSiemens3_scoreS",
   "execution_count": 84,
   "outputs": [
    {
     "output_type": "execute_result",
     "execution_count": 84,
     "data": {
      "text/plain": "0.22435687148464167"
     },
     "metadata": {}
    }
   ]
  },
  {
   "cell_type": "code",
   "metadata": {
    "cell_id": "204ba0c9-31be-4dee-a7fa-37f64387e811",
    "tags": [],
    "deepnote_to_be_reexecuted": false,
    "source_hash": "a22a50a8",
    "execution_start": 1643835469890,
    "execution_millis": 247,
    "deepnote_cell_type": "code"
   },
   "source": "a3S,b3S = [reg_Siemens3_S.coef_[0,0],reg_Siemens3_S.intercept_[0]]\nprint(\"y = {} x + {}\".format(str(a3S),str(b3S)))",
   "execution_count": 85,
   "outputs": [
    {
     "name": "stdout",
     "text": "y = 0.7376986502991453 x + -0.06711171296153845\n",
     "output_type": "stream"
    }
   ]
  },
  {
   "cell_type": "code",
   "metadata": {
    "cell_id": "914c242e-352f-4802-9908-1f3949f3142a",
    "tags": [],
    "deepnote_to_be_reexecuted": false,
    "source_hash": "6f444897",
    "execution_start": 1643836728494,
    "execution_millis": 232,
    "deepnote_output_heights": [
     363
    ],
    "deepnote_cell_type": "code"
   },
   "source": "Siemens2_small = chart_plot_small(Siemens2)\nSiemens3_small = chart_plot_small(Siemens3)\nSiemens2_small | Siemens3_small",
   "execution_count": 152,
   "outputs": [
    {
     "output_type": "execute_result",
     "execution_count": 152,
     "data": {
      "text/html": "\n<div id=\"altair-viz-41f79ca093294d7f96370224ce08f6e1\"></div>\n<script type=\"text/javascript\">\n  (function(spec, embedOpt){\n    let outputDiv = document.currentScript.previousElementSibling;\n    if (outputDiv.id !== \"altair-viz-41f79ca093294d7f96370224ce08f6e1\") {\n      outputDiv = document.getElementById(\"altair-viz-41f79ca093294d7f96370224ce08f6e1\");\n    }\n    const paths = {\n      \"vega\": \"https://cdn.jsdelivr.net/npm//vega@5?noext\",\n      \"vega-lib\": \"https://cdn.jsdelivr.net/npm//vega-lib?noext\",\n      \"vega-lite\": \"https://cdn.jsdelivr.net/npm//vega-lite@4.8.1?noext\",\n      \"vega-embed\": \"https://cdn.jsdelivr.net/npm//vega-embed@6?noext\",\n    };\n\n    function loadScript(lib) {\n      return new Promise(function(resolve, reject) {\n        var s = document.createElement('script');\n        s.src = paths[lib];\n        s.async = true;\n        s.onload = () => resolve(paths[lib]);\n        s.onerror = () => reject(`Error loading script: ${paths[lib]}`);\n        document.getElementsByTagName(\"head\")[0].appendChild(s);\n      });\n    }\n\n    function showError(err) {\n      outputDiv.innerHTML = `<div class=\"error\" style=\"color:red;\">${err}</div>`;\n      throw err;\n    }\n\n    function displayChart(vegaEmbed) {\n      vegaEmbed(outputDiv, spec, embedOpt)\n        .catch(err => showError(`Javascript Error: ${err.message}<br>This usually means there's a typo in your chart specification. See the javascript console for the full traceback.`));\n    }\n\n    if(typeof define === \"function\" && define.amd) {\n      requirejs.config({paths});\n      require([\"vega-embed\"], displayChart, err => showError(`Error loading script: ${err.message}`));\n    } else if (typeof vegaEmbed === \"function\") {\n      displayChart(vegaEmbed);\n    } else {\n      loadScript(\"vega\")\n        .then(() => loadScript(\"vega-lite\"))\n        .then(() => loadScript(\"vega-embed\"))\n        .catch(showError)\n        .then(() => displayChart(vegaEmbed));\n    }\n  })({\"config\": {\"view\": {\"continuousWidth\": 400, \"continuousHeight\": 300}}, \"hconcat\": [{\"layer\": [{\"mark\": \"circle\", \"encoding\": {\"color\": {\"type\": \"nominal\", \"field\": \"Rep\"}, \"tooltip\": [{\"type\": \"quantitative\", \"field\": \"ground_truth_volume_small\"}, {\"type\": \"quantitative\", \"field\": \"calculated_volume_small\"}, {\"type\": \"nominal\", \"field\": \"Rep\"}], \"x\": {\"type\": \"quantitative\", \"field\": \"ground_truth_mass_small\"}, \"y\": {\"type\": \"quantitative\", \"field\": \"calculated_mass_small\"}}}, {\"mark\": \"line\", \"encoding\": {\"color\": {\"type\": \"nominal\", \"field\": \"Rep\"}, \"tooltip\": [{\"type\": \"quantitative\", \"field\": \"ground_truth_volume_small\"}, {\"type\": \"quantitative\", \"field\": \"calculated_volume_small\"}, {\"type\": \"nominal\", \"field\": \"Rep\"}], \"x\": {\"type\": \"quantitative\", \"field\": \"ground_truth_mass_small\"}, \"y\": {\"type\": \"quantitative\", \"field\": \"calculated_mass_small\"}}, \"transform\": [{\"on\": \"ground_truth_mass_small\", \"regression\": \"calculated_mass_small\", \"method\": \"linear\"}]}, {\"mark\": {\"type\": \"line\", \"color\": \"red\"}, \"encoding\": {\"x\": {\"type\": \"quantitative\", \"field\": \"ground_truth_mass_small\"}, \"y\": {\"type\": \"quantitative\", \"field\": \"ground_truth_mass_small\"}}}], \"data\": {\"name\": \"data-082033e891f40e5cb85a6d71ec762106\"}}, {\"layer\": [{\"mark\": \"circle\", \"encoding\": {\"color\": {\"type\": \"nominal\", \"field\": \"Rep\"}, \"tooltip\": [{\"type\": \"quantitative\", \"field\": \"ground_truth_volume_small\"}, {\"type\": \"quantitative\", \"field\": \"calculated_volume_small\"}, {\"type\": \"nominal\", \"field\": \"Rep\"}], \"x\": {\"type\": \"quantitative\", \"field\": \"ground_truth_mass_small\"}, \"y\": {\"type\": \"quantitative\", \"field\": \"calculated_mass_small\"}}}, {\"mark\": \"line\", \"encoding\": {\"color\": {\"type\": \"nominal\", \"field\": \"Rep\"}, \"tooltip\": [{\"type\": \"quantitative\", \"field\": \"ground_truth_volume_small\"}, {\"type\": \"quantitative\", \"field\": \"calculated_volume_small\"}, {\"type\": \"nominal\", \"field\": \"Rep\"}], \"x\": {\"type\": \"quantitative\", \"field\": \"ground_truth_mass_small\"}, \"y\": {\"type\": \"quantitative\", \"field\": \"calculated_mass_small\"}}, \"transform\": [{\"on\": \"ground_truth_mass_small\", \"regression\": \"calculated_mass_small\", \"method\": \"linear\"}]}, {\"mark\": {\"type\": \"line\", \"color\": \"red\"}, \"encoding\": {\"x\": {\"type\": \"quantitative\", \"field\": \"ground_truth_mass_small\"}, \"y\": {\"type\": \"quantitative\", \"field\": \"ground_truth_mass_small\"}}}], \"data\": {\"name\": \"data-8a0c6de97e57b1a7a90887aa8ad4353d\"}}], \"$schema\": \"https://vega.github.io/schema/vega-lite/v4.8.1.json\", \"datasets\": {\"data-082033e891f40e5cb85a6d71ec762106\": [{\"inserts\": \"Low Density\", \"ground_truth_volume_large\": 98.2, \"calculated_volume_large\": 82.86704978, \"ground_truth_volume_medium\": 21.2, \"calculated_volume_medium\": 18.88888098, \"ground_truth_volume_small\": 0.8, \"calculated_volume_small\": 0.330822955, \"ground_truth_mass_large\": 19.6, \"calculated_mass_large\": 16.57340996, \"ground_truth_mass_medium\": 4.2, \"calculated_mass_medium\": 3.777776196, \"ground_truth_mass_small\": 0.2, \"calculated_mass_small\": 0.066164591, \"Rep\": \"Large1\"}, {\"inserts\": \"Medium Density\", \"ground_truth_volume_large\": 98.2, \"calculated_volume_large\": 94.56911749, \"ground_truth_volume_medium\": 21.2, \"calculated_volume_medium\": 19.81314767, \"ground_truth_volume_small\": 0.8, \"calculated_volume_small\": 0.0, \"ground_truth_mass_large\": 39.3, \"calculated_mass_large\": 37.827647, \"ground_truth_mass_medium\": 8.5, \"calculated_mass_medium\": 7.925259068, \"ground_truth_mass_small\": 0.3, \"calculated_mass_small\": 0.0, \"Rep\": \"Large1\"}, {\"inserts\": \"High Density\", \"ground_truth_volume_large\": 98.2, \"calculated_volume_large\": 93.49800538, \"ground_truth_volume_medium\": 21.2, \"calculated_volume_medium\": 22.17596567, \"ground_truth_volume_small\": 0.8, \"calculated_volume_small\": 0.613004859, \"ground_truth_mass_large\": 78.5, \"calculated_mass_large\": 74.7984043, \"ground_truth_mass_medium\": 17.0, \"calculated_mass_medium\": 17.74077254, \"ground_truth_mass_small\": 0.6, \"calculated_mass_small\": 0.490403887, \"Rep\": \"Large1\"}, {\"inserts\": \"Low Density\", \"ground_truth_volume_large\": 98.2, \"calculated_volume_large\": 111.52941, \"ground_truth_volume_medium\": 21.2, \"calculated_volume_medium\": 24.22231238, \"ground_truth_volume_small\": 0.8, \"calculated_volume_small\": 0.108831512, \"ground_truth_mass_large\": 19.6, \"calculated_mass_large\": 22.305882, \"ground_truth_mass_medium\": 4.2, \"calculated_mass_medium\": 4.844462477, \"ground_truth_mass_small\": 0.2, \"calculated_mass_small\": 0.021766302, \"Rep\": \"Large2\"}, {\"inserts\": \"Medium Density\", \"ground_truth_volume_large\": 98.2, \"calculated_volume_large\": 93.29048877, \"ground_truth_volume_medium\": 21.2, \"calculated_volume_medium\": 23.75282648, \"ground_truth_volume_small\": 0.8, \"calculated_volume_small\": 0.919513248, \"ground_truth_mass_large\": 39.3, \"calculated_mass_large\": 37.31619551, \"ground_truth_mass_medium\": 8.5, \"calculated_mass_medium\": 9.50113059, \"ground_truth_mass_small\": 0.3, \"calculated_mass_small\": 0.367805299, \"Rep\": \"Large2\"}, {\"inserts\": \"High Density\", \"ground_truth_volume_large\": 98.2, \"calculated_volume_large\": 97.59872089, \"ground_truth_volume_medium\": 21.2, \"calculated_volume_medium\": 19.14036343, \"ground_truth_volume_small\": 0.8, \"calculated_volume_small\": 0.328974595, \"ground_truth_mass_large\": 78.5, \"calculated_mass_large\": 78.07897671, \"ground_truth_mass_medium\": 17.0, \"calculated_mass_medium\": 15.31229075, \"ground_truth_mass_small\": 0.6, \"calculated_mass_small\": 0.263179676, \"Rep\": \"Large2\"}, {\"inserts\": \"Low Density\", \"ground_truth_volume_large\": 98.2, \"calculated_volume_large\": 81.14425978, \"ground_truth_volume_medium\": 21.2, \"calculated_volume_medium\": 19.89550928, \"ground_truth_volume_small\": 0.8, \"calculated_volume_small\": 0.0, \"ground_truth_mass_large\": 19.6, \"calculated_mass_large\": 16.22885196, \"ground_truth_mass_medium\": 4.2, \"calculated_mass_medium\": 3.979101856, \"ground_truth_mass_small\": 0.2, \"calculated_mass_small\": 0.0, \"Rep\": \"Large3\"}, {\"inserts\": \"Medium Density\", \"ground_truth_volume_large\": 98.2, \"calculated_volume_large\": 93.41237246, \"ground_truth_volume_medium\": 21.2, \"calculated_volume_medium\": 18.59794865, \"ground_truth_volume_small\": 0.8, \"calculated_volume_small\": 0.731776061, \"ground_truth_mass_large\": 39.3, \"calculated_mass_large\": 37.36494898, \"ground_truth_mass_medium\": 8.5, \"calculated_mass_medium\": 7.439179458, \"ground_truth_mass_small\": 0.3, \"calculated_mass_small\": 0.292710424, \"Rep\": \"Large3\"}, {\"inserts\": \"High Density\", \"ground_truth_volume_large\": 98.2, \"calculated_volume_large\": 91.04253091, \"ground_truth_volume_medium\": 21.2, \"calculated_volume_medium\": 20.3299904, \"ground_truth_volume_small\": 0.8, \"calculated_volume_small\": 0.0, \"ground_truth_mass_large\": 78.5, \"calculated_mass_large\": 72.83402473, \"ground_truth_mass_medium\": 17.0, \"calculated_mass_medium\": 16.26399232, \"ground_truth_mass_small\": 0.6, \"calculated_mass_small\": 0.0, \"Rep\": \"Large3\"}, {\"inserts\": \"Low Density\", \"ground_truth_volume_large\": 98.2, \"calculated_volume_large\": 100.2836831, \"ground_truth_volume_medium\": 21.2, \"calculated_volume_medium\": 18.63395546, \"ground_truth_volume_small\": 0.8, \"calculated_volume_small\": 0.0, \"ground_truth_mass_large\": 19.6, \"calculated_mass_large\": 20.05673662, \"ground_truth_mass_medium\": 4.2, \"calculated_mass_medium\": 3.726791092, \"ground_truth_mass_small\": 0.2, \"calculated_mass_small\": 0.0, \"Rep\": \"Large4\"}, {\"inserts\": \"Medium Density\", \"ground_truth_volume_large\": 98.2, \"calculated_volume_large\": 102.1320031, \"ground_truth_volume_medium\": 21.2, \"calculated_volume_medium\": 23.84369758, \"ground_truth_volume_small\": 0.8, \"calculated_volume_small\": 0.294679392, \"ground_truth_mass_large\": 39.3, \"calculated_mass_large\": 40.85280125, \"ground_truth_mass_medium\": 8.5, \"calculated_mass_medium\": 9.537479034, \"ground_truth_mass_small\": 0.3, \"calculated_mass_small\": 0.117871757, \"Rep\": \"Large4\"}, {\"inserts\": \"High Density\", \"ground_truth_volume_large\": 98.2, \"calculated_volume_large\": 96.22537465, \"ground_truth_volume_medium\": 21.2, \"calculated_volume_medium\": 21.21683699, \"ground_truth_volume_small\": 0.8, \"calculated_volume_small\": 0.0, \"ground_truth_mass_large\": 78.5, \"calculated_mass_large\": 76.98029972, \"ground_truth_mass_medium\": 17.0, \"calculated_mass_medium\": 16.97346959, \"ground_truth_mass_small\": 0.6, \"calculated_mass_small\": 0.0, \"Rep\": \"Large4\"}, {\"inserts\": \"Low Density\", \"ground_truth_volume_large\": 98.2, \"calculated_volume_large\": 103.378698, \"ground_truth_volume_medium\": 21.2, \"calculated_volume_medium\": 28.25342641, \"ground_truth_volume_small\": 0.8, \"calculated_volume_small\": 0.0, \"ground_truth_mass_large\": 19.6, \"calculated_mass_large\": 20.6757396, \"ground_truth_mass_medium\": 4.2, \"calculated_mass_medium\": 5.650685281, \"ground_truth_mass_small\": 0.2, \"calculated_mass_small\": 0.0, \"Rep\": \"Small1\"}, {\"inserts\": \"Medium Density\", \"ground_truth_volume_large\": 98.2, \"calculated_volume_large\": 98.9946732, \"ground_truth_volume_medium\": 21.2, \"calculated_volume_medium\": 18.24987104, \"ground_truth_volume_small\": 0.8, \"calculated_volume_small\": 0.430986186, \"ground_truth_mass_large\": 39.3, \"calculated_mass_large\": 39.59786928, \"ground_truth_mass_medium\": 8.5, \"calculated_mass_medium\": 7.299948416, \"ground_truth_mass_small\": 0.3, \"calculated_mass_small\": 0.172394474, \"Rep\": \"Small1\"}, {\"inserts\": \"High Density\", \"ground_truth_volume_large\": 98.2, \"calculated_volume_large\": 94.20587516, \"ground_truth_volume_medium\": 21.2, \"calculated_volume_medium\": 20.8462654, \"ground_truth_volume_small\": 0.8, \"calculated_volume_small\": 1.145826646, \"ground_truth_mass_large\": 78.5, \"calculated_mass_large\": 75.36470013, \"ground_truth_mass_medium\": 17.0, \"calculated_mass_medium\": 16.67701232, \"ground_truth_mass_small\": 0.6, \"calculated_mass_small\": 0.916661317, \"Rep\": \"Small1\"}, {\"inserts\": \"Low Density\", \"ground_truth_volume_large\": 98.2, \"calculated_volume_large\": 90.4236277, \"ground_truth_volume_medium\": 21.2, \"calculated_volume_medium\": 13.25968504, \"ground_truth_volume_small\": 0.8, \"calculated_volume_small\": 0.257498942, \"ground_truth_mass_large\": 19.6, \"calculated_mass_large\": 18.08472554, \"ground_truth_mass_medium\": 4.2, \"calculated_mass_medium\": 2.651937007, \"ground_truth_mass_small\": 0.2, \"calculated_mass_small\": 0.051499788, \"Rep\": \"Small2\"}, {\"inserts\": \"Medium Density\", \"ground_truth_volume_large\": 98.2, \"calculated_volume_large\": 94.66054621, \"ground_truth_volume_medium\": 21.2, \"calculated_volume_medium\": 23.411352, \"ground_truth_volume_small\": 0.8, \"calculated_volume_small\": 0.546689195, \"ground_truth_mass_large\": 39.3, \"calculated_mass_large\": 37.86421848, \"ground_truth_mass_medium\": 8.5, \"calculated_mass_medium\": 9.364540799, \"ground_truth_mass_small\": 0.3, \"calculated_mass_small\": 0.218675678, \"Rep\": \"Small2\"}, {\"inserts\": \"High Density\", \"ground_truth_volume_large\": 98.2, \"calculated_volume_large\": 92.07047226, \"ground_truth_volume_medium\": 21.2, \"calculated_volume_medium\": 18.47449884, \"ground_truth_volume_small\": 0.8, \"calculated_volume_small\": 0.700527353, \"ground_truth_mass_large\": 78.5, \"calculated_mass_large\": 73.65637781, \"ground_truth_mass_medium\": 17.0, \"calculated_mass_medium\": 14.77959907, \"ground_truth_mass_small\": 0.6, \"calculated_mass_small\": 0.560421882, \"Rep\": \"Small2\"}, {\"inserts\": \"Low Density\", \"ground_truth_volume_large\": 98.2, \"calculated_volume_large\": 108.4225268, \"ground_truth_volume_medium\": 21.2, \"calculated_volume_medium\": 15.36997037, \"ground_truth_volume_small\": 0.8, \"calculated_volume_small\": 0.130460649, \"ground_truth_mass_large\": 19.6, \"calculated_mass_large\": 21.68450535, \"ground_truth_mass_medium\": 4.2, \"calculated_mass_medium\": 3.073994075, \"ground_truth_mass_small\": 0.2, \"calculated_mass_small\": 0.02609213, \"Rep\": \"Small3\"}, {\"inserts\": \"Medium Density\", \"ground_truth_volume_large\": 98.2, \"calculated_volume_large\": 98.67132435, \"ground_truth_volume_medium\": 21.2, \"calculated_volume_medium\": 19.9375615, \"ground_truth_volume_small\": 0.8, \"calculated_volume_small\": 0.117054655, \"ground_truth_mass_large\": 39.3, \"calculated_mass_large\": 39.46852974, \"ground_truth_mass_medium\": 8.5, \"calculated_mass_medium\": 7.975024601, \"ground_truth_mass_small\": 0.3, \"calculated_mass_small\": 0.046821862, \"Rep\": \"Small3\"}, {\"inserts\": \"High Density\", \"ground_truth_volume_large\": 98.2, \"calculated_volume_large\": 97.3935207, \"ground_truth_volume_medium\": 21.2, \"calculated_volume_medium\": 21.3207452, \"ground_truth_volume_small\": 0.8, \"calculated_volume_small\": 0.062921236, \"ground_truth_mass_large\": 78.5, \"calculated_mass_large\": 77.91481656, \"ground_truth_mass_medium\": 17.0, \"calculated_mass_medium\": 17.05659616, \"ground_truth_mass_small\": 0.6, \"calculated_mass_small\": 0.050336989, \"Rep\": \"Small3\"}, {\"inserts\": \"Low Density\", \"ground_truth_volume_large\": 98.2, \"calculated_volume_large\": 100.2538718, \"ground_truth_volume_medium\": 21.2, \"calculated_volume_medium\": 20.11847506, \"ground_truth_volume_small\": 0.8, \"calculated_volume_small\": 0.464478626, \"ground_truth_mass_large\": 19.6, \"calculated_mass_large\": 20.05077436, \"ground_truth_mass_medium\": 4.2, \"calculated_mass_medium\": 4.023695011, \"ground_truth_mass_small\": 0.2, \"calculated_mass_small\": 0.092895725, \"Rep\": \"Small4\"}, {\"inserts\": \"Medium Density\", \"ground_truth_volume_large\": 98.2, \"calculated_volume_large\": 98.41102342, \"ground_truth_volume_medium\": 21.2, \"calculated_volume_medium\": 19.33563551, \"ground_truth_volume_small\": 0.8, \"calculated_volume_small\": 0.092935573, \"ground_truth_mass_large\": 39.3, \"calculated_mass_large\": 39.36440937, \"ground_truth_mass_medium\": 8.5, \"calculated_mass_medium\": 7.734254203, \"ground_truth_mass_small\": 0.3, \"calculated_mass_small\": 0.037174229, \"Rep\": \"Small4\"}, {\"inserts\": \"High Density\", \"ground_truth_volume_large\": 98.2, \"calculated_volume_large\": 95.55502891, \"ground_truth_volume_medium\": 21.2, \"calculated_volume_medium\": 21.29252211, \"ground_truth_volume_small\": 0.8, \"calculated_volume_small\": 0.0, \"ground_truth_mass_large\": 78.5, \"calculated_mass_large\": 76.44402313, \"ground_truth_mass_medium\": 17.0, \"calculated_mass_medium\": 17.03401769, \"ground_truth_mass_small\": 0.6, \"calculated_mass_small\": 0.0, \"Rep\": \"Small4\"}, {\"inserts\": \"Low Density\", \"ground_truth_volume_large\": 98.2, \"calculated_volume_large\": 96.05779885, \"ground_truth_volume_medium\": 21.2, \"calculated_volume_medium\": 25.34582801, \"ground_truth_volume_small\": 0.8, \"calculated_volume_small\": 0.743395149, \"ground_truth_mass_large\": 19.6, \"calculated_mass_large\": 19.21155977, \"ground_truth_mass_medium\": 4.2, \"calculated_mass_medium\": 5.069165602, \"ground_truth_mass_small\": 0.2, \"calculated_mass_small\": 0.14867903, \"Rep\": \"Small5\"}, {\"inserts\": \"Medium Density\", \"ground_truth_volume_large\": 98.2, \"calculated_volume_large\": 95.3753091, \"ground_truth_volume_medium\": 21.2, \"calculated_volume_medium\": 20.35300886, \"ground_truth_volume_small\": 0.8, \"calculated_volume_small\": 0.0, \"ground_truth_mass_large\": 39.3, \"calculated_mass_large\": 38.15012364, \"ground_truth_mass_medium\": 8.5, \"calculated_mass_medium\": 8.141203543, \"ground_truth_mass_small\": 0.3, \"calculated_mass_small\": 0.0, \"Rep\": \"Small5\"}, {\"inserts\": \"High Density\", \"ground_truth_volume_large\": 98.2, \"calculated_volume_large\": 96.14918476, \"ground_truth_volume_medium\": 21.2, \"calculated_volume_medium\": 19.01146278, \"ground_truth_volume_small\": 0.8, \"calculated_volume_small\": 0.539201084, \"ground_truth_mass_large\": 78.5, \"calculated_mass_large\": 76.91934781, \"ground_truth_mass_medium\": 17.0, \"calculated_mass_medium\": 15.20917023, \"ground_truth_mass_small\": 0.6, \"calculated_mass_small\": 0.431360867, \"Rep\": \"Small5\"}], \"data-8a0c6de97e57b1a7a90887aa8ad4353d\": [{\"inserts\": \"Low Density\", \"ground_truth_volume_large\": 98.2, \"calculated_volume_large\": 95.73886485, \"ground_truth_volume_medium\": 21.2, \"calculated_volume_medium\": 21.74707708, \"ground_truth_volume_small\": 0.8, \"calculated_volume_small\": 0.373490915, \"ground_truth_mass_large\": 19.6, \"calculated_mass_large\": 19.14777297, \"ground_truth_mass_medium\": 4.2, \"calculated_mass_medium\": 4.349415416, \"ground_truth_mass_small\": 0.2, \"calculated_mass_small\": 0.074698183, \"Rep\": \"Large1\"}, {\"inserts\": \"Medium Density\", \"ground_truth_volume_large\": 98.2, \"calculated_volume_large\": 107.4981678, \"ground_truth_volume_medium\": 21.2, \"calculated_volume_medium\": 22.56294345, \"ground_truth_volume_small\": 0.8, \"calculated_volume_small\": 0.0, \"ground_truth_mass_large\": 39.3, \"calculated_mass_large\": 42.99926713, \"ground_truth_mass_medium\": 8.5, \"calculated_mass_medium\": 9.02517738, \"ground_truth_mass_small\": 0.3, \"calculated_mass_small\": 0.0, \"Rep\": \"Large1\"}, {\"inserts\": \"High Density\", \"ground_truth_volume_large\": 98.2, \"calculated_volume_large\": 105.6987176, \"ground_truth_volume_medium\": 21.2, \"calculated_volume_medium\": 25.04652229, \"ground_truth_volume_small\": 0.8, \"calculated_volume_small\": 0.691941132, \"ground_truth_mass_large\": 78.5, \"calculated_mass_large\": 84.55897412, \"ground_truth_mass_medium\": 17.0, \"calculated_mass_medium\": 20.03721783, \"ground_truth_mass_small\": 0.6, \"calculated_mass_small\": 0.553552906, \"Rep\": \"Large1\"}, {\"inserts\": \"Low Density\", \"ground_truth_volume_large\": 98.2, \"calculated_volume_large\": 134.8888748, \"ground_truth_volume_medium\": 21.2, \"calculated_volume_medium\": 29.40508141, \"ground_truth_volume_small\": 0.8, \"calculated_volume_small\": 0.131075371, \"ground_truth_mass_large\": 19.6, \"calculated_mass_large\": 26.97777495, \"ground_truth_mass_medium\": 4.2, \"calculated_mass_medium\": 5.881016283, \"ground_truth_mass_small\": 0.2, \"calculated_mass_small\": 0.026215074, \"Rep\": \"Large2\"}, {\"inserts\": \"Medium Density\", \"ground_truth_volume_large\": 98.2, \"calculated_volume_large\": 112.9064301, \"ground_truth_volume_medium\": 21.2, \"calculated_volume_medium\": 28.61784105, \"ground_truth_volume_small\": 0.8, \"calculated_volume_small\": 1.107594952, \"ground_truth_mass_large\": 39.3, \"calculated_mass_large\": 45.16257205, \"ground_truth_mass_medium\": 8.5, \"calculated_mass_medium\": 11.44713642, \"ground_truth_mass_small\": 0.3, \"calculated_mass_small\": 0.443037981, \"Rep\": \"Large2\"}, {\"inserts\": \"High Density\", \"ground_truth_volume_large\": 98.2, \"calculated_volume_large\": 117.5710962, \"ground_truth_volume_medium\": 21.2, \"calculated_volume_medium\": 23.07331486, \"ground_truth_volume_small\": 0.8, \"calculated_volume_small\": 0.396758731, \"ground_truth_mass_large\": 78.5, \"calculated_mass_large\": 94.05687695, \"ground_truth_mass_medium\": 17.0, \"calculated_mass_medium\": 18.45865189, \"ground_truth_mass_small\": 0.6, \"calculated_mass_small\": 0.317406985, \"Rep\": \"Large2\"}, {\"inserts\": \"Low Density\", \"ground_truth_volume_large\": 98.2, \"calculated_volume_large\": 97.20086245, \"ground_truth_volume_medium\": 21.2, \"calculated_volume_medium\": 23.70148973, \"ground_truth_volume_small\": 0.8, \"calculated_volume_small\": 0.0, \"ground_truth_mass_large\": 19.6, \"calculated_mass_large\": 19.44017249, \"ground_truth_mass_medium\": 4.2, \"calculated_mass_medium\": 4.740297946, \"ground_truth_mass_small\": 0.2, \"calculated_mass_small\": 0.0, \"Rep\": \"Large3\"}, {\"inserts\": \"Medium Density\", \"ground_truth_volume_large\": 98.2, \"calculated_volume_large\": 110.6593589, \"ground_truth_volume_medium\": 21.2, \"calculated_volume_medium\": 22.00173272, \"ground_truth_volume_small\": 0.8, \"calculated_volume_small\": 0.859256046, \"ground_truth_mass_large\": 39.3, \"calculated_mass_large\": 44.26374356, \"ground_truth_mass_medium\": 8.5, \"calculated_mass_medium\": 8.800693088, \"ground_truth_mass_small\": 0.3, \"calculated_mass_small\": 0.343702418, \"Rep\": \"Large3\"}, {\"inserts\": \"High Density\", \"ground_truth_volume_large\": 98.2, \"calculated_volume_large\": 107.1162867, \"ground_truth_volume_medium\": 21.2, \"calculated_volume_medium\": 23.90089083, \"ground_truth_volume_small\": 0.8, \"calculated_volume_small\": 0.0, \"ground_truth_mass_large\": 78.5, \"calculated_mass_large\": 85.69302939, \"ground_truth_mass_medium\": 17.0, \"calculated_mass_medium\": 19.12071267, \"ground_truth_mass_small\": 0.6, \"calculated_mass_small\": 0.0, \"Rep\": \"Large3\"}, {\"inserts\": \"Low Density\", \"ground_truth_volume_large\": 98.2, \"calculated_volume_large\": 132.0175173, \"ground_truth_volume_medium\": 21.2, \"calculated_volume_medium\": 24.51142805, \"ground_truth_volume_small\": 0.8, \"calculated_volume_small\": 0.0, \"ground_truth_mass_large\": 19.6, \"calculated_mass_large\": 26.40350347, \"ground_truth_mass_medium\": 4.2, \"calculated_mass_medium\": 4.902285609, \"ground_truth_mass_small\": 0.2, \"calculated_mass_small\": 0.0, \"Rep\": \"Large4\"}, {\"inserts\": \"Medium Density\", \"ground_truth_volume_large\": 98.2, \"calculated_volume_large\": 172.2126608, \"ground_truth_volume_medium\": 21.2, \"calculated_volume_medium\": 39.96811987, \"ground_truth_volume_small\": 0.8, \"calculated_volume_small\": 0.569255182, \"ground_truth_mass_large\": 39.3, \"calculated_mass_large\": 68.88506432, \"ground_truth_mass_medium\": 8.5, \"calculated_mass_medium\": 15.98724795, \"ground_truth_mass_small\": 0.3, \"calculated_mass_small\": 0.227702073, \"Rep\": \"Large4\"}, {\"inserts\": \"High Density\", \"ground_truth_volume_large\": 98.2, \"calculated_volume_large\": 185.417532, \"ground_truth_volume_medium\": 21.2, \"calculated_volume_medium\": 40.77618753, \"ground_truth_volume_small\": 0.8, \"calculated_volume_small\": 0.0, \"ground_truth_mass_large\": 78.5, \"calculated_mass_large\": 148.3340256, \"ground_truth_mass_medium\": 17.0, \"calculated_mass_medium\": 32.62095003, \"ground_truth_mass_small\": 0.6, \"calculated_mass_small\": 0.0, \"Rep\": \"Large4\"}, {\"inserts\": \"Low Density\", \"ground_truth_volume_large\": 98.2, \"calculated_volume_large\": 118.8177416, \"ground_truth_volume_medium\": 21.2, \"calculated_volume_medium\": 32.40153206, \"ground_truth_volume_small\": 0.8, \"calculated_volume_small\": 0.0, \"ground_truth_mass_large\": 19.6, \"calculated_mass_large\": 23.76354831, \"ground_truth_mass_medium\": 4.2, \"calculated_mass_medium\": 6.480306413, \"ground_truth_mass_small\": 0.2, \"calculated_mass_small\": 0.0, \"Rep\": \"Small1\"}, {\"inserts\": \"Medium Density\", \"ground_truth_volume_large\": 98.2, \"calculated_volume_large\": 119.6638358, \"ground_truth_volume_medium\": 21.2, \"calculated_volume_medium\": 22.1309431, \"ground_truth_volume_small\": 0.8, \"calculated_volume_small\": 0.534095874, \"ground_truth_mass_large\": 39.3, \"calculated_mass_large\": 47.86553431, \"ground_truth_mass_medium\": 8.5, \"calculated_mass_medium\": 8.852377238, \"ground_truth_mass_small\": 0.3, \"calculated_mass_small\": 0.21363835, \"Rep\": \"Small1\"}, {\"inserts\": \"High Density\", \"ground_truth_volume_large\": 98.2, \"calculated_volume_large\": 116.7001378, \"ground_truth_volume_medium\": 21.2, \"calculated_volume_medium\": 25.83034609, \"ground_truth_volume_small\": 0.8, \"calculated_volume_small\": 1.420142552, \"ground_truth_mass_large\": 78.5, \"calculated_mass_large\": 93.36011023, \"ground_truth_mass_medium\": 17.0, \"calculated_mass_medium\": 20.66427687, \"ground_truth_mass_small\": 0.6, \"calculated_mass_small\": 1.136114042, \"Rep\": \"Small1\"}, {\"inserts\": \"Low Density\", \"ground_truth_volume_large\": 98.2, \"calculated_volume_large\": 109.4182795, \"ground_truth_volume_medium\": 21.2, \"calculated_volume_medium\": 16.02624244, \"ground_truth_volume_small\": 0.8, \"calculated_volume_small\": 0.330135997, \"ground_truth_mass_large\": 19.6, \"calculated_mass_large\": 21.88365589, \"ground_truth_mass_medium\": 4.2, \"calculated_mass_medium\": 3.205248489, \"ground_truth_mass_small\": 0.2, \"calculated_mass_small\": 0.066027199, \"Rep\": \"Small2\"}, {\"inserts\": \"Medium Density\", \"ground_truth_volume_large\": 98.2, \"calculated_volume_large\": 119.3334265, \"ground_truth_volume_medium\": 21.2, \"calculated_volume_medium\": 29.48880631, \"ground_truth_volume_small\": 0.8, \"calculated_volume_small\": 0.701611595, \"ground_truth_mass_large\": 39.3, \"calculated_mass_large\": 47.73337058, \"ground_truth_mass_medium\": 8.5, \"calculated_mass_medium\": 11.79552252, \"ground_truth_mass_small\": 0.3, \"calculated_mass_small\": 0.280644638, \"Rep\": \"Small2\"}, {\"inserts\": \"High Density\", \"ground_truth_volume_large\": 98.2, \"calculated_volume_large\": 118.2201997, \"ground_truth_volume_medium\": 21.2, \"calculated_volume_medium\": 23.73353325, \"ground_truth_volume_small\": 0.8, \"calculated_volume_small\": 0.900005292, \"ground_truth_mass_large\": 78.5, \"calculated_mass_large\": 94.57615976, \"ground_truth_mass_medium\": 17.0, \"calculated_mass_medium\": 18.9868266, \"ground_truth_mass_small\": 0.6, \"calculated_mass_small\": 0.720004233, \"Rep\": \"Small2\"}, {\"inserts\": \"Low Density\", \"ground_truth_volume_large\": 98.2, \"calculated_volume_large\": 138.8710251, \"ground_truth_volume_medium\": 21.2, \"calculated_volume_medium\": 19.94250069, \"ground_truth_volume_small\": 0.8, \"calculated_volume_small\": 0.297461579, \"ground_truth_mass_large\": 19.6, \"calculated_mass_large\": 27.77420503, \"ground_truth_mass_medium\": 4.2, \"calculated_mass_medium\": 3.988500137, \"ground_truth_mass_small\": 0.2, \"calculated_mass_small\": 0.059492316, \"Rep\": \"Small3\"}, {\"inserts\": \"Medium Density\", \"ground_truth_volume_large\": 98.2, \"calculated_volume_large\": 181.6901234, \"ground_truth_volume_medium\": 21.2, \"calculated_volume_medium\": 36.81131799, \"ground_truth_volume_small\": 0.8, \"calculated_volume_small\": 0.267934745, \"ground_truth_mass_large\": 39.3, \"calculated_mass_large\": 72.67604935, \"ground_truth_mass_medium\": 8.5, \"calculated_mass_medium\": 14.7245272, \"ground_truth_mass_small\": 0.3, \"calculated_mass_small\": 0.107173898, \"Rep\": \"Small3\"}, {\"inserts\": \"High Density\", \"ground_truth_volume_large\": 98.2, \"calculated_volume_large\": 222.3244909, \"ground_truth_volume_medium\": 21.2, \"calculated_volume_medium\": 48.51598746, \"ground_truth_volume_small\": 0.8, \"calculated_volume_small\": 0.144650173, \"ground_truth_mass_large\": 78.5, \"calculated_mass_large\": 177.8595927, \"ground_truth_mass_medium\": 17.0, \"calculated_mass_medium\": 38.81278997, \"ground_truth_mass_small\": 0.6, \"calculated_mass_small\": 0.115720138, \"Rep\": \"Small3\"}, {\"inserts\": \"Low Density\", \"ground_truth_volume_large\": 98.2, \"calculated_volume_large\": 162.2315197, \"ground_truth_volume_medium\": 21.2, \"calculated_volume_medium\": 32.392563, \"ground_truth_volume_small\": 0.8, \"calculated_volume_small\": 0.635632922, \"ground_truth_mass_large\": 19.6, \"calculated_mass_large\": 32.44630393, \"ground_truth_mass_medium\": 4.2, \"calculated_mass_medium\": 6.4785126, \"ground_truth_mass_small\": 0.2, \"calculated_mass_small\": 0.127126584, \"Rep\": \"Small4\"}, {\"inserts\": \"Medium Density\", \"ground_truth_volume_large\": 98.2, \"calculated_volume_large\": 141.4310888, \"ground_truth_volume_medium\": 21.2, \"calculated_volume_medium\": 27.86217538, \"ground_truth_volume_small\": 0.8, \"calculated_volume_small\": 0.127710272, \"ground_truth_mass_large\": 39.3, \"calculated_mass_large\": 56.57243553, \"ground_truth_mass_medium\": 8.5, \"calculated_mass_medium\": 11.14487015, \"ground_truth_mass_small\": 0.3, \"calculated_mass_small\": 0.051084109, \"Rep\": \"Small4\"}, {\"inserts\": \"High Density\", \"ground_truth_volume_large\": 98.2, \"calculated_volume_large\": 131.0784104, \"ground_truth_volume_medium\": 21.2, \"calculated_volume_medium\": 29.21207966, \"ground_truth_volume_small\": 0.8, \"calculated_volume_small\": 0.0, \"ground_truth_mass_large\": 78.5, \"calculated_mass_large\": 104.8627283, \"ground_truth_mass_medium\": 17.0, \"calculated_mass_medium\": 23.36966373, \"ground_truth_mass_small\": 0.6, \"calculated_mass_small\": 0.0, \"Rep\": \"Small4\"}, {\"inserts\": \"Low Density\", \"ground_truth_volume_large\": 98.2, \"calculated_volume_large\": 105.1988574, \"ground_truth_volume_medium\": 21.2, \"calculated_volume_medium\": 27.71829926, \"ground_truth_volume_small\": 0.8, \"calculated_volume_small\": 0.80445451, \"ground_truth_mass_large\": 19.6, \"calculated_mass_large\": 21.03977148, \"ground_truth_mass_medium\": 4.2, \"calculated_mass_medium\": 5.543659851, \"ground_truth_mass_small\": 0.2, \"calculated_mass_small\": 0.160890902, \"Rep\": \"Small5\"}, {\"inserts\": \"Medium Density\", \"ground_truth_volume_large\": 98.2, \"calculated_volume_large\": 103.6651488, \"ground_truth_volume_medium\": 21.2, \"calculated_volume_medium\": 22.11176658, \"ground_truth_volume_small\": 0.8, \"calculated_volume_small\": 0.0, \"ground_truth_mass_large\": 39.3, \"calculated_mass_large\": 41.4660595, \"ground_truth_mass_medium\": 8.5, \"calculated_mass_medium\": 8.844706632, \"ground_truth_mass_small\": 0.3, \"calculated_mass_small\": 0.0, \"Rep\": \"Small5\"}, {\"inserts\": \"High Density\", \"ground_truth_volume_large\": 98.2, \"calculated_volume_large\": 104.082666, \"ground_truth_volume_medium\": 21.2, \"calculated_volume_medium\": 20.58051637, \"ground_truth_volume_small\": 0.8, \"calculated_volume_small\": 0.583710448, \"ground_truth_mass_large\": 78.5, \"calculated_mass_large\": 83.26613281, \"ground_truth_mass_medium\": 17.0, \"calculated_mass_medium\": 16.4644131, \"ground_truth_mass_small\": 0.6, \"calculated_mass_small\": 0.466968359, \"Rep\": \"Small5\"}]}}, {\"mode\": \"vega-lite\"});\n</script>",
      "text/plain": "alt.HConcatChart(...)"
     },
     "metadata": {}
    }
   ]
  },
  {
   "cell_type": "markdown",
   "source": "### Volume Score",
   "metadata": {
    "cell_id": "0bd273fc-f27c-4588-84c6-f5bf91ecfcfc",
    "tags": [],
    "is_collapsed": false,
    "deepnote_cell_type": "text-cell-h3"
   }
  },
  {
   "cell_type": "code",
   "metadata": {
    "cell_id": "98603f04-f4e1-49cc-8af2-5f03553b456e",
    "tags": [],
    "deepnote_to_be_reexecuted": false,
    "source_hash": "c27b9578",
    "execution_start": 1643836773294,
    "execution_millis": 0,
    "deepnote_cell_type": "code"
   },
   "source": "Siemens2_vol = vol_prep(Siemens2)\nSiemens3_vol = vol_prep(Siemens3)\nSiemens2_vol = Siemens2_vol.dropna()\nSiemens3_vol = Siemens3_vol.dropna()",
   "execution_count": 153,
   "outputs": []
  },
  {
   "cell_type": "code",
   "metadata": {
    "cell_id": "64c36f0a-8fe6-4f42-9ec7-0962d3331103",
    "tags": [],
    "deepnote_to_be_reexecuted": false,
    "source_hash": "521a6caf",
    "execution_start": 1643835470202,
    "execution_millis": 101,
    "deepnote_output_heights": [
     21.1875
    ],
    "deepnote_cell_type": "code"
   },
   "source": "X_Siemens2_V = Siemens2_vol.ground_truth_volume.to_numpy().reshape(-1,1)\ny_Siemens2_V = Siemens2_vol.calculated_volume.to_numpy().reshape(-1,1)\nreg_Siemens2_V = LinearRegression().fit(X_Siemens2_V,y_Siemens2_V)\nSiemens2_scoreV = reg_Siemens2_S.score(X_Siemens2_V,y_Siemens2_V)\nSiemens2_scoreV",
   "execution_count": 92,
   "outputs": [
    {
     "output_type": "execute_result",
     "execution_count": 92,
     "data": {
      "text/plain": "0.7332296077049183"
     },
     "metadata": {}
    }
   ]
  },
  {
   "cell_type": "code",
   "metadata": {
    "cell_id": "046ec39b-f164-440a-853f-6ea9aebcc981",
    "tags": [],
    "deepnote_to_be_reexecuted": false,
    "source_hash": "a80c92eb",
    "execution_start": 1643835470221,
    "execution_millis": 257871,
    "deepnote_cell_type": "code"
   },
   "source": "a2V,b2V = [reg_Siemens2_V.coef_[0,0],reg_Siemens2_V.intercept_[0]]\nprint(\"y = {} x + {}\".format(str(a2V),str(b2V)))",
   "execution_count": 93,
   "outputs": [
    {
     "name": "stdout",
     "text": "y = 0.9839423473011466 x + -0.3952922887054484\n",
     "output_type": "stream"
    }
   ]
  },
  {
   "cell_type": "code",
   "metadata": {
    "cell_id": "25742d25-886f-4621-8036-38a2a01435e5",
    "tags": [],
    "deepnote_to_be_reexecuted": false,
    "source_hash": "2adc26b4",
    "execution_start": 1643835470222,
    "execution_millis": 82,
    "deepnote_output_heights": [
     21.1875
    ],
    "deepnote_cell_type": "code"
   },
   "source": "X_Siemens3_V = Siemens3_vol.ground_truth_volume.to_numpy().reshape(-1,1)\ny_Siemens3_V = Siemens3_vol.calculated_volume.to_numpy().reshape(-1,1)\nreg_Siemens3_V = LinearRegression().fit(X_Siemens3_V,y_Siemens3_V)\nSiemens3_scoreV = reg_Siemens3_S.score(X_Siemens3_V,y_Siemens3_V)\nSiemens3_scoreV",
   "execution_count": 94,
   "outputs": [
    {
     "output_type": "execute_result",
     "execution_count": 94,
     "data": {
      "text/plain": "0.5768982937670868"
     },
     "metadata": {}
    }
   ]
  },
  {
   "cell_type": "code",
   "metadata": {
    "cell_id": "21ded437-c760-48ba-88a9-7d5e2c311902",
    "tags": [],
    "deepnote_to_be_reexecuted": false,
    "source_hash": "250214e6",
    "execution_start": 1643835470248,
    "execution_millis": 0,
    "deepnote_cell_type": "code"
   },
   "source": "a3V,b3V = [reg_Siemens3_V.coef_[0,0],reg_Siemens3_V.intercept_[0]]\nprint(\"y = {} x + {}\".format(str(a3V),str(b3V)))",
   "execution_count": 95,
   "outputs": [
    {
     "name": "stdout",
     "text": "y = 1.315408659848953 x + -0.5731578638986861\n",
     "output_type": "stream"
    }
   ]
  },
  {
   "cell_type": "code",
   "metadata": {
    "cell_id": "11e09ef8-d95a-4ad0-a7cc-a3265a3a1cc3",
    "tags": [],
    "deepnote_to_be_reexecuted": false,
    "source_hash": "ece8464c",
    "execution_start": 1643836801341,
    "execution_millis": 108,
    "deepnote_output_heights": [
     363
    ],
    "deepnote_cell_type": "code"
   },
   "source": "Siemens2_volume = chart_plot_vol(Siemens2_vol)\nSiemens3_volume = chart_plot_vol(Siemens3_vol)\nSiemens2_volume | Siemens3_volume",
   "execution_count": 154,
   "outputs": [
    {
     "output_type": "execute_result",
     "execution_count": 154,
     "data": {
      "text/html": "\n<div id=\"altair-viz-28d0c15fa7ec4ed6a10e59211d88d907\"></div>\n<script type=\"text/javascript\">\n  (function(spec, embedOpt){\n    let outputDiv = document.currentScript.previousElementSibling;\n    if (outputDiv.id !== \"altair-viz-28d0c15fa7ec4ed6a10e59211d88d907\") {\n      outputDiv = document.getElementById(\"altair-viz-28d0c15fa7ec4ed6a10e59211d88d907\");\n    }\n    const paths = {\n      \"vega\": \"https://cdn.jsdelivr.net/npm//vega@5?noext\",\n      \"vega-lib\": \"https://cdn.jsdelivr.net/npm//vega-lib?noext\",\n      \"vega-lite\": \"https://cdn.jsdelivr.net/npm//vega-lite@4.8.1?noext\",\n      \"vega-embed\": \"https://cdn.jsdelivr.net/npm//vega-embed@6?noext\",\n    };\n\n    function loadScript(lib) {\n      return new Promise(function(resolve, reject) {\n        var s = document.createElement('script');\n        s.src = paths[lib];\n        s.async = true;\n        s.onload = () => resolve(paths[lib]);\n        s.onerror = () => reject(`Error loading script: ${paths[lib]}`);\n        document.getElementsByTagName(\"head\")[0].appendChild(s);\n      });\n    }\n\n    function showError(err) {\n      outputDiv.innerHTML = `<div class=\"error\" style=\"color:red;\">${err}</div>`;\n      throw err;\n    }\n\n    function displayChart(vegaEmbed) {\n      vegaEmbed(outputDiv, spec, embedOpt)\n        .catch(err => showError(`Javascript Error: ${err.message}<br>This usually means there's a typo in your chart specification. See the javascript console for the full traceback.`));\n    }\n\n    if(typeof define === \"function\" && define.amd) {\n      requirejs.config({paths});\n      require([\"vega-embed\"], displayChart, err => showError(`Error loading script: ${err.message}`));\n    } else if (typeof vegaEmbed === \"function\") {\n      displayChart(vegaEmbed);\n    } else {\n      loadScript(\"vega\")\n        .then(() => loadScript(\"vega-lite\"))\n        .then(() => loadScript(\"vega-embed\"))\n        .catch(showError)\n        .then(() => displayChart(vegaEmbed));\n    }\n  })({\"config\": {\"view\": {\"continuousWidth\": 400, \"continuousHeight\": 300}}, \"hconcat\": [{\"layer\": [{\"data\": {\"name\": \"data-36985f748a98a9e77d1d483244569359\"}, \"mark\": \"circle\", \"encoding\": {\"color\": {\"type\": \"nominal\", \"field\": \"Rep\"}, \"x\": {\"type\": \"quantitative\", \"field\": \"ground_truth_volume\"}, \"y\": {\"type\": \"quantitative\", \"field\": \"calculated_volume\"}}}, {\"data\": {\"name\": \"data-53394a6a581bc7d3ef85fd810b13f48f\"}, \"mark\": \"line\", \"encoding\": {\"color\": {\"type\": \"nominal\", \"field\": \"Rep\"}, \"x\": {\"type\": \"quantitative\", \"field\": \"ground_truth_volume\"}, \"y\": {\"type\": \"quantitative\", \"field\": \"calculated_volume\"}}, \"transform\": [{\"on\": \"ground_truth_volume\", \"regression\": \"calculated_volume\", \"method\": \"linear\"}]}, {\"data\": {\"name\": \"data-53394a6a581bc7d3ef85fd810b13f48f\"}, \"mark\": {\"type\": \"line\", \"color\": \"red\"}, \"encoding\": {\"x\": {\"type\": \"quantitative\", \"field\": \"ground_truth_volume\"}, \"y\": {\"type\": \"quantitative\", \"field\": \"ground_truth_volume\"}}}]}, {\"layer\": [{\"data\": {\"name\": \"data-489fecbf7bf8787fe2f549dc5c2336c3\"}, \"mark\": \"circle\", \"encoding\": {\"color\": {\"type\": \"nominal\", \"field\": \"Rep\"}, \"x\": {\"type\": \"quantitative\", \"field\": \"ground_truth_volume\"}, \"y\": {\"type\": \"quantitative\", \"field\": \"calculated_volume\"}}}, {\"data\": {\"name\": \"data-53394a6a581bc7d3ef85fd810b13f48f\"}, \"mark\": \"line\", \"encoding\": {\"color\": {\"type\": \"nominal\", \"field\": \"Rep\"}, \"x\": {\"type\": \"quantitative\", \"field\": \"ground_truth_volume\"}, \"y\": {\"type\": \"quantitative\", \"field\": \"calculated_volume\"}}, \"transform\": [{\"on\": \"ground_truth_volume\", \"regression\": \"calculated_volume\", \"method\": \"linear\"}]}, {\"data\": {\"name\": \"data-53394a6a581bc7d3ef85fd810b13f48f\"}, \"mark\": {\"type\": \"line\", \"color\": \"red\"}, \"encoding\": {\"x\": {\"type\": \"quantitative\", \"field\": \"ground_truth_volume\"}, \"y\": {\"type\": \"quantitative\", \"field\": \"ground_truth_volume\"}}}]}], \"$schema\": \"https://vega.github.io/schema/vega-lite/v4.8.1.json\", \"datasets\": {\"data-36985f748a98a9e77d1d483244569359\": [{\"Rep\": \"Large1\", \"ground_truth_volume\": 98.2, \"calculated_volume\": 82.86704978}, {\"Rep\": \"Large1\", \"ground_truth_volume\": 98.2, \"calculated_volume\": 94.56911749}, {\"Rep\": \"Large1\", \"ground_truth_volume\": 98.2, \"calculated_volume\": 93.49800538}, {\"Rep\": \"Large2\", \"ground_truth_volume\": 98.2, \"calculated_volume\": 111.52941}, {\"Rep\": \"Large2\", \"ground_truth_volume\": 98.2, \"calculated_volume\": 93.29048877}, {\"Rep\": \"Large2\", \"ground_truth_volume\": 98.2, \"calculated_volume\": 97.59872089}, {\"Rep\": \"Large3\", \"ground_truth_volume\": 98.2, \"calculated_volume\": 81.14425978}, {\"Rep\": \"Large3\", \"ground_truth_volume\": 98.2, \"calculated_volume\": 93.41237246}, {\"Rep\": \"Large3\", \"ground_truth_volume\": 98.2, \"calculated_volume\": 91.04253091}, {\"Rep\": \"Large4\", \"ground_truth_volume\": 98.2, \"calculated_volume\": 100.2836831}, {\"Rep\": \"Large4\", \"ground_truth_volume\": 98.2, \"calculated_volume\": 102.1320031}, {\"Rep\": \"Large4\", \"ground_truth_volume\": 98.2, \"calculated_volume\": 96.22537465}, {\"Rep\": \"Small1\", \"ground_truth_volume\": 98.2, \"calculated_volume\": 103.378698}, {\"Rep\": \"Small1\", \"ground_truth_volume\": 98.2, \"calculated_volume\": 98.9946732}, {\"Rep\": \"Small1\", \"ground_truth_volume\": 98.2, \"calculated_volume\": 94.20587516}, {\"Rep\": \"Small2\", \"ground_truth_volume\": 98.2, \"calculated_volume\": 90.4236277}, {\"Rep\": \"Small2\", \"ground_truth_volume\": 98.2, \"calculated_volume\": 94.66054621}, {\"Rep\": \"Small2\", \"ground_truth_volume\": 98.2, \"calculated_volume\": 92.07047226}, {\"Rep\": \"Small3\", \"ground_truth_volume\": 98.2, \"calculated_volume\": 108.4225268}, {\"Rep\": \"Small3\", \"ground_truth_volume\": 98.2, \"calculated_volume\": 98.67132435}, {\"Rep\": \"Small3\", \"ground_truth_volume\": 98.2, \"calculated_volume\": 97.3935207}, {\"Rep\": \"Small4\", \"ground_truth_volume\": 98.2, \"calculated_volume\": 100.2538718}, {\"Rep\": \"Small4\", \"ground_truth_volume\": 98.2, \"calculated_volume\": 98.41102342}, {\"Rep\": \"Small4\", \"ground_truth_volume\": 98.2, \"calculated_volume\": 95.55502891}, {\"Rep\": \"Small5\", \"ground_truth_volume\": 98.2, \"calculated_volume\": 96.05779885}, {\"Rep\": \"Small5\", \"ground_truth_volume\": 98.2, \"calculated_volume\": 95.3753091}, {\"Rep\": \"Small5\", \"ground_truth_volume\": 98.2, \"calculated_volume\": 96.14918476}, {\"Rep\": \"Large1\", \"ground_truth_volume\": 21.2, \"calculated_volume\": 18.88888098}, {\"Rep\": \"Large1\", \"ground_truth_volume\": 21.2, \"calculated_volume\": 19.81314767}, {\"Rep\": \"Large1\", \"ground_truth_volume\": 21.2, \"calculated_volume\": 22.17596567}, {\"Rep\": \"Large2\", \"ground_truth_volume\": 21.2, \"calculated_volume\": 24.22231238}, {\"Rep\": \"Large2\", \"ground_truth_volume\": 21.2, \"calculated_volume\": 23.75282648}, {\"Rep\": \"Large2\", \"ground_truth_volume\": 21.2, \"calculated_volume\": 19.14036343}, {\"Rep\": \"Large3\", \"ground_truth_volume\": 21.2, \"calculated_volume\": 19.89550928}, {\"Rep\": \"Large3\", \"ground_truth_volume\": 21.2, \"calculated_volume\": 18.59794865}, {\"Rep\": \"Large3\", \"ground_truth_volume\": 21.2, \"calculated_volume\": 20.3299904}, {\"Rep\": \"Large4\", \"ground_truth_volume\": 21.2, \"calculated_volume\": 18.63395546}, {\"Rep\": \"Large4\", \"ground_truth_volume\": 21.2, \"calculated_volume\": 23.84369758}, {\"Rep\": \"Large4\", \"ground_truth_volume\": 21.2, \"calculated_volume\": 21.21683699}, {\"Rep\": \"Small1\", \"ground_truth_volume\": 21.2, \"calculated_volume\": 28.25342641}, {\"Rep\": \"Small1\", \"ground_truth_volume\": 21.2, \"calculated_volume\": 18.24987104}, {\"Rep\": \"Small1\", \"ground_truth_volume\": 21.2, \"calculated_volume\": 20.8462654}, {\"Rep\": \"Small2\", \"ground_truth_volume\": 21.2, \"calculated_volume\": 13.25968504}, {\"Rep\": \"Small2\", \"ground_truth_volume\": 21.2, \"calculated_volume\": 23.411352}, {\"Rep\": \"Small2\", \"ground_truth_volume\": 21.2, \"calculated_volume\": 18.47449884}, {\"Rep\": \"Small3\", \"ground_truth_volume\": 21.2, \"calculated_volume\": 15.36997037}, {\"Rep\": \"Small3\", \"ground_truth_volume\": 21.2, \"calculated_volume\": 19.9375615}, {\"Rep\": \"Small3\", \"ground_truth_volume\": 21.2, \"calculated_volume\": 21.3207452}, {\"Rep\": \"Small4\", \"ground_truth_volume\": 21.2, \"calculated_volume\": 20.11847506}, {\"Rep\": \"Small4\", \"ground_truth_volume\": 21.2, \"calculated_volume\": 19.33563551}, {\"Rep\": \"Small4\", \"ground_truth_volume\": 21.2, \"calculated_volume\": 21.29252211}, {\"Rep\": \"Small5\", \"ground_truth_volume\": 21.2, \"calculated_volume\": 25.34582801}, {\"Rep\": \"Small5\", \"ground_truth_volume\": 21.2, \"calculated_volume\": 20.35300886}, {\"Rep\": \"Small5\", \"ground_truth_volume\": 21.2, \"calculated_volume\": 19.01146278}, {\"Rep\": \"Large1\", \"ground_truth_volume\": 0.8, \"calculated_volume\": 0.330822955}, {\"Rep\": \"Large1\", \"ground_truth_volume\": 0.8, \"calculated_volume\": 0.0}, {\"Rep\": \"Large1\", \"ground_truth_volume\": 0.8, \"calculated_volume\": 0.613004859}, {\"Rep\": \"Large2\", \"ground_truth_volume\": 0.8, \"calculated_volume\": 0.108831512}, {\"Rep\": \"Large2\", \"ground_truth_volume\": 0.8, \"calculated_volume\": 0.919513248}, {\"Rep\": \"Large2\", \"ground_truth_volume\": 0.8, \"calculated_volume\": 0.328974595}, {\"Rep\": \"Large3\", \"ground_truth_volume\": 0.8, \"calculated_volume\": 0.0}, {\"Rep\": \"Large3\", \"ground_truth_volume\": 0.8, \"calculated_volume\": 0.731776061}, {\"Rep\": \"Large3\", \"ground_truth_volume\": 0.8, \"calculated_volume\": 0.0}, {\"Rep\": \"Large4\", \"ground_truth_volume\": 0.8, \"calculated_volume\": 0.0}, {\"Rep\": \"Large4\", \"ground_truth_volume\": 0.8, \"calculated_volume\": 0.294679392}, {\"Rep\": \"Large4\", \"ground_truth_volume\": 0.8, \"calculated_volume\": 0.0}, {\"Rep\": \"Small1\", \"ground_truth_volume\": 0.8, \"calculated_volume\": 0.0}, {\"Rep\": \"Small1\", \"ground_truth_volume\": 0.8, \"calculated_volume\": 0.430986186}, {\"Rep\": \"Small1\", \"ground_truth_volume\": 0.8, \"calculated_volume\": 1.145826646}, {\"Rep\": \"Small2\", \"ground_truth_volume\": 0.8, \"calculated_volume\": 0.257498942}, {\"Rep\": \"Small2\", \"ground_truth_volume\": 0.8, \"calculated_volume\": 0.546689195}, {\"Rep\": \"Small2\", \"ground_truth_volume\": 0.8, \"calculated_volume\": 0.700527353}, {\"Rep\": \"Small3\", \"ground_truth_volume\": 0.8, \"calculated_volume\": 0.130460649}, {\"Rep\": \"Small3\", \"ground_truth_volume\": 0.8, \"calculated_volume\": 0.117054655}, {\"Rep\": \"Small3\", \"ground_truth_volume\": 0.8, \"calculated_volume\": 0.062921236}, {\"Rep\": \"Small4\", \"ground_truth_volume\": 0.8, \"calculated_volume\": 0.464478626}, {\"Rep\": \"Small4\", \"ground_truth_volume\": 0.8, \"calculated_volume\": 0.092935573}, {\"Rep\": \"Small4\", \"ground_truth_volume\": 0.8, \"calculated_volume\": 0.0}, {\"Rep\": \"Small5\", \"ground_truth_volume\": 0.8, \"calculated_volume\": 0.743395149}, {\"Rep\": \"Small5\", \"ground_truth_volume\": 0.8, \"calculated_volume\": 0.0}, {\"Rep\": \"Small5\", \"ground_truth_volume\": 0.8, \"calculated_volume\": 0.539201084}], \"data-53394a6a581bc7d3ef85fd810b13f48f\": [{\"Rep\": \"Large1\", \"ground_truth_volume\": 98.2, \"calculated_volume\": 117.5381351}, {\"Rep\": \"Large1\", \"ground_truth_volume\": 98.2, \"calculated_volume\": 107.0596031}, {\"Rep\": \"Large1\", \"ground_truth_volume\": 98.2, \"calculated_volume\": 104.6497219}, {\"Rep\": \"Large2\", \"ground_truth_volume\": 98.2, \"calculated_volume\": 112.5889884}, {\"Rep\": \"Large2\", \"ground_truth_volume\": 98.2, \"calculated_volume\": 102.1324663}, {\"Rep\": \"Large2\", \"ground_truth_volume\": 98.2, \"calculated_volume\": 106.7635256}, {\"Rep\": \"Large3\", \"ground_truth_volume\": 98.2, \"calculated_volume\": 120.1480912}, {\"Rep\": \"Large3\", \"ground_truth_volume\": 98.2, \"calculated_volume\": 110.1617326}, {\"Rep\": \"Large3\", \"ground_truth_volume\": 98.2, \"calculated_volume\": 108.2459504}, {\"Rep\": \"Large4\", \"ground_truth_volume\": 98.2, \"calculated_volume\": 118.8278571}, {\"Rep\": \"Large4\", \"ground_truth_volume\": 98.2, \"calculated_volume\": 114.8880445}, {\"Rep\": \"Large4\", \"ground_truth_volume\": 98.2, \"calculated_volume\": 105.986391}, {\"Rep\": \"Large5\", \"ground_truth_volume\": 98.2, \"calculated_volume\": 128.2398402}, {\"Rep\": \"Large5\", \"ground_truth_volume\": 98.2, \"calculated_volume\": 98.66783266}, {\"Rep\": \"Large5\", \"ground_truth_volume\": 98.2, \"calculated_volume\": 103.2754851}, {\"Rep\": \"Small1\", \"ground_truth_volume\": 98.2, \"calculated_volume\": 214.9492396}, {\"Rep\": \"Small1\", \"ground_truth_volume\": 98.2, \"calculated_volume\": 134.2914239}, {\"Rep\": \"Small1\", \"ground_truth_volume\": 98.2, \"calculated_volume\": 115.3856584}, {\"Rep\": \"Small2\", \"ground_truth_volume\": 98.2, \"calculated_volume\": 194.3176719}, {\"Rep\": \"Small2\", \"ground_truth_volume\": 98.2, \"calculated_volume\": 121.1301296}, {\"Rep\": \"Small2\", \"ground_truth_volume\": 98.2, \"calculated_volume\": 112.3335566}, {\"Rep\": \"Small3\", \"ground_truth_volume\": 98.2, \"calculated_volume\": 101.0523809}, {\"Rep\": \"Small3\", \"ground_truth_volume\": 98.2, \"calculated_volume\": 95.8878112}, {\"Rep\": \"Small3\", \"ground_truth_volume\": 98.2, \"calculated_volume\": 100.4362714}, {\"Rep\": \"Small4\", \"ground_truth_volume\": 98.2, \"calculated_volume\": 104.4931576}, {\"Rep\": \"Small4\", \"ground_truth_volume\": 98.2, \"calculated_volume\": 97.93672182}, {\"Rep\": \"Small4\", \"ground_truth_volume\": 98.2, \"calculated_volume\": 101.1275152}, {\"Rep\": \"Small5\", \"ground_truth_volume\": 98.2, \"calculated_volume\": 99.48071165}, {\"Rep\": \"Small5\", \"ground_truth_volume\": 98.2, \"calculated_volume\": 100.7743032}, {\"Rep\": \"Small5\", \"ground_truth_volume\": 98.2, \"calculated_volume\": 100.8341802}, {\"Rep\": \"Large1\", \"ground_truth_volume\": 21.2, \"calculated_volume\": 29.23959125}, {\"Rep\": \"Large1\", \"ground_truth_volume\": 21.2, \"calculated_volume\": 21.59703509}, {\"Rep\": \"Large1\", \"ground_truth_volume\": 21.2, \"calculated_volume\": 21.33428906}, {\"Rep\": \"Large2\", \"ground_truth_volume\": 21.2, \"calculated_volume\": 25.02740067}, {\"Rep\": \"Large2\", \"ground_truth_volume\": 21.2, \"calculated_volume\": 21.0880842}, {\"Rep\": \"Large2\", \"ground_truth_volume\": 21.2, \"calculated_volume\": 22.19446186}, {\"Rep\": \"Large3\", \"ground_truth_volume\": 21.2, \"calculated_volume\": 30.47590471}, {\"Rep\": \"Large3\", \"ground_truth_volume\": 21.2, \"calculated_volume\": 22.73296196}, {\"Rep\": \"Large3\", \"ground_truth_volume\": 21.2, \"calculated_volume\": 18.39629574}, {\"Rep\": \"Large4\", \"ground_truth_volume\": 21.2, \"calculated_volume\": 24.65329185}, {\"Rep\": \"Large4\", \"ground_truth_volume\": 21.2, \"calculated_volume\": 24.41600142}, {\"Rep\": \"Large4\", \"ground_truth_volume\": 21.2, \"calculated_volume\": 18.58838434}, {\"Rep\": \"Large5\", \"ground_truth_volume\": 21.2, \"calculated_volume\": 31.31694359}, {\"Rep\": \"Large5\", \"ground_truth_volume\": 21.2, \"calculated_volume\": 19.55632052}, {\"Rep\": \"Large5\", \"ground_truth_volume\": 21.2, \"calculated_volume\": 20.60282805}, {\"Rep\": \"Small1\", \"ground_truth_volume\": 21.2, \"calculated_volume\": 69.3821895}, {\"Rep\": \"Small1\", \"ground_truth_volume\": 21.2, \"calculated_volume\": 28.71750162}, {\"Rep\": \"Small1\", \"ground_truth_volume\": 21.2, \"calculated_volume\": 23.54965756}, {\"Rep\": \"Small2\", \"ground_truth_volume\": 21.2, \"calculated_volume\": 34.71078415}, {\"Rep\": \"Small2\", \"ground_truth_volume\": 21.2, \"calculated_volume\": 23.96658804}, {\"Rep\": \"Small2\", \"ground_truth_volume\": 21.2, \"calculated_volume\": 20.91298235}, {\"Rep\": \"Small3\", \"ground_truth_volume\": 21.2, \"calculated_volume\": 28.90117677}, {\"Rep\": \"Small3\", \"ground_truth_volume\": 21.2, \"calculated_volume\": 19.74656669}, {\"Rep\": \"Small3\", \"ground_truth_volume\": 21.2, \"calculated_volume\": 19.31282164}, {\"Rep\": \"Small4\", \"ground_truth_volume\": 21.2, \"calculated_volume\": 20.43325582}, {\"Rep\": \"Small4\", \"ground_truth_volume\": 21.2, \"calculated_volume\": 24.57778662}, {\"Rep\": \"Small4\", \"ground_truth_volume\": 21.2, \"calculated_volume\": 20.6293952}, {\"Rep\": \"Small5\", \"ground_truth_volume\": 21.2, \"calculated_volume\": 27.35448962}, {\"Rep\": \"Small5\", \"ground_truth_volume\": 21.2, \"calculated_volume\": 22.43114795}, {\"Rep\": \"Small5\", \"ground_truth_volume\": 21.2, \"calculated_volume\": 19.76298836}, {\"Rep\": \"Large1\", \"ground_truth_volume\": 0.8, \"calculated_volume\": 0.115510162}, {\"Rep\": \"Large1\", \"ground_truth_volume\": 0.8, \"calculated_volume\": 0.472705325}, {\"Rep\": \"Large1\", \"ground_truth_volume\": 0.8, \"calculated_volume\": 0.179930114}, {\"Rep\": \"Large2\", \"ground_truth_volume\": 0.8, \"calculated_volume\": 0.0}, {\"Rep\": \"Large2\", \"ground_truth_volume\": 0.8, \"calculated_volume\": 1.254075666}, {\"Rep\": \"Large2\", \"ground_truth_volume\": 0.8, \"calculated_volume\": 1.002053141}, {\"Rep\": \"Large3\", \"ground_truth_volume\": 0.8, \"calculated_volume\": 0.830788818}, {\"Rep\": \"Large3\", \"ground_truth_volume\": 0.8, \"calculated_volume\": 0.989045137}, {\"Rep\": \"Large3\", \"ground_truth_volume\": 0.8, \"calculated_volume\": 0.746740469}, {\"Rep\": \"Large4\", \"ground_truth_volume\": 0.8, \"calculated_volume\": 0.431506522}, {\"Rep\": \"Large4\", \"ground_truth_volume\": 0.8, \"calculated_volume\": 0.409255055}, {\"Rep\": \"Large4\", \"ground_truth_volume\": 0.8, \"calculated_volume\": 1.508604067}, {\"Rep\": \"Large5\", \"ground_truth_volume\": 0.8, \"calculated_volume\": 0.422989783}, {\"Rep\": \"Large5\", \"ground_truth_volume\": 0.8, \"calculated_volume\": 0.340261887}, {\"Rep\": \"Large5\", \"ground_truth_volume\": 0.8, \"calculated_volume\": 0.164352076}, {\"Rep\": \"Small1\", \"ground_truth_volume\": 0.8, \"calculated_volume\": 0.0}, {\"Rep\": \"Small1\", \"ground_truth_volume\": 0.8, \"calculated_volume\": 0.789037322}, {\"Rep\": \"Small1\", \"ground_truth_volume\": 0.8, \"calculated_volume\": 1.506709112}, {\"Rep\": \"Small2\", \"ground_truth_volume\": 0.8, \"calculated_volume\": 0.382202513}, {\"Rep\": \"Small2\", \"ground_truth_volume\": 0.8, \"calculated_volume\": 0.417920663}, {\"Rep\": \"Small2\", \"ground_truth_volume\": 0.8, \"calculated_volume\": 0.45948141}, {\"Rep\": \"Small3\", \"ground_truth_volume\": 0.8, \"calculated_volume\": 0.183306591}, {\"Rep\": \"Small3\", \"ground_truth_volume\": 0.8, \"calculated_volume\": 0.0}, {\"Rep\": \"Small3\", \"ground_truth_volume\": 0.8, \"calculated_volume\": 1.099902653}, {\"Rep\": \"Small4\", \"ground_truth_volume\": 0.8, \"calculated_volume\": 0.314992844}, {\"Rep\": \"Small4\", \"ground_truth_volume\": 0.8, \"calculated_volume\": 0.58542004}, {\"Rep\": \"Small4\", \"ground_truth_volume\": 0.8, \"calculated_volume\": 0.74179678}, {\"Rep\": \"Small5\", \"ground_truth_volume\": 0.8, \"calculated_volume\": 1.062657603}, {\"Rep\": \"Small5\", \"ground_truth_volume\": 0.8, \"calculated_volume\": 0.944274322}, {\"Rep\": \"Small5\", \"ground_truth_volume\": 0.8, \"calculated_volume\": 0.983060631}], \"data-489fecbf7bf8787fe2f549dc5c2336c3\": [{\"Rep\": \"Large1\", \"ground_truth_volume\": 98.2, \"calculated_volume\": 95.73886485}, {\"Rep\": \"Large1\", \"ground_truth_volume\": 98.2, \"calculated_volume\": 107.4981678}, {\"Rep\": \"Large1\", \"ground_truth_volume\": 98.2, \"calculated_volume\": 105.6987176}, {\"Rep\": \"Large2\", \"ground_truth_volume\": 98.2, \"calculated_volume\": 134.8888748}, {\"Rep\": \"Large2\", \"ground_truth_volume\": 98.2, \"calculated_volume\": 112.9064301}, {\"Rep\": \"Large2\", \"ground_truth_volume\": 98.2, \"calculated_volume\": 117.5710962}, {\"Rep\": \"Large3\", \"ground_truth_volume\": 98.2, \"calculated_volume\": 97.20086245}, {\"Rep\": \"Large3\", \"ground_truth_volume\": 98.2, \"calculated_volume\": 110.6593589}, {\"Rep\": \"Large3\", \"ground_truth_volume\": 98.2, \"calculated_volume\": 107.1162867}, {\"Rep\": \"Large4\", \"ground_truth_volume\": 98.2, \"calculated_volume\": 132.0175173}, {\"Rep\": \"Large4\", \"ground_truth_volume\": 98.2, \"calculated_volume\": 172.2126608}, {\"Rep\": \"Large4\", \"ground_truth_volume\": 98.2, \"calculated_volume\": 185.417532}, {\"Rep\": \"Small1\", \"ground_truth_volume\": 98.2, \"calculated_volume\": 118.8177416}, {\"Rep\": \"Small1\", \"ground_truth_volume\": 98.2, \"calculated_volume\": 119.6638358}, {\"Rep\": \"Small1\", \"ground_truth_volume\": 98.2, \"calculated_volume\": 116.7001378}, {\"Rep\": \"Small2\", \"ground_truth_volume\": 98.2, \"calculated_volume\": 109.4182795}, {\"Rep\": \"Small2\", \"ground_truth_volume\": 98.2, \"calculated_volume\": 119.3334265}, {\"Rep\": \"Small2\", \"ground_truth_volume\": 98.2, \"calculated_volume\": 118.2201997}, {\"Rep\": \"Small3\", \"ground_truth_volume\": 98.2, \"calculated_volume\": 138.8710251}, {\"Rep\": \"Small3\", \"ground_truth_volume\": 98.2, \"calculated_volume\": 181.6901234}, {\"Rep\": \"Small3\", \"ground_truth_volume\": 98.2, \"calculated_volume\": 222.3244909}, {\"Rep\": \"Small4\", \"ground_truth_volume\": 98.2, \"calculated_volume\": 162.2315197}, {\"Rep\": \"Small4\", \"ground_truth_volume\": 98.2, \"calculated_volume\": 141.4310888}, {\"Rep\": \"Small4\", \"ground_truth_volume\": 98.2, \"calculated_volume\": 131.0784104}, {\"Rep\": \"Small5\", \"ground_truth_volume\": 98.2, \"calculated_volume\": 105.1988574}, {\"Rep\": \"Small5\", \"ground_truth_volume\": 98.2, \"calculated_volume\": 103.6651488}, {\"Rep\": \"Small5\", \"ground_truth_volume\": 98.2, \"calculated_volume\": 104.082666}, {\"Rep\": \"Large1\", \"ground_truth_volume\": 21.2, \"calculated_volume\": 21.74707708}, {\"Rep\": \"Large1\", \"ground_truth_volume\": 21.2, \"calculated_volume\": 22.56294345}, {\"Rep\": \"Large1\", \"ground_truth_volume\": 21.2, \"calculated_volume\": 25.04652229}, {\"Rep\": \"Large2\", \"ground_truth_volume\": 21.2, \"calculated_volume\": 29.40508141}, {\"Rep\": \"Large2\", \"ground_truth_volume\": 21.2, \"calculated_volume\": 28.61784105}, {\"Rep\": \"Large2\", \"ground_truth_volume\": 21.2, \"calculated_volume\": 23.07331486}, {\"Rep\": \"Large3\", \"ground_truth_volume\": 21.2, \"calculated_volume\": 23.70148973}, {\"Rep\": \"Large3\", \"ground_truth_volume\": 21.2, \"calculated_volume\": 22.00173272}, {\"Rep\": \"Large3\", \"ground_truth_volume\": 21.2, \"calculated_volume\": 23.90089083}, {\"Rep\": \"Large4\", \"ground_truth_volume\": 21.2, \"calculated_volume\": 24.51142805}, {\"Rep\": \"Large4\", \"ground_truth_volume\": 21.2, \"calculated_volume\": 39.96811987}, {\"Rep\": \"Large4\", \"ground_truth_volume\": 21.2, \"calculated_volume\": 40.77618753}, {\"Rep\": \"Small1\", \"ground_truth_volume\": 21.2, \"calculated_volume\": 32.40153206}, {\"Rep\": \"Small1\", \"ground_truth_volume\": 21.2, \"calculated_volume\": 22.1309431}, {\"Rep\": \"Small1\", \"ground_truth_volume\": 21.2, \"calculated_volume\": 25.83034609}, {\"Rep\": \"Small2\", \"ground_truth_volume\": 21.2, \"calculated_volume\": 16.02624244}, {\"Rep\": \"Small2\", \"ground_truth_volume\": 21.2, \"calculated_volume\": 29.48880631}, {\"Rep\": \"Small2\", \"ground_truth_volume\": 21.2, \"calculated_volume\": 23.73353325}, {\"Rep\": \"Small3\", \"ground_truth_volume\": 21.2, \"calculated_volume\": 19.94250069}, {\"Rep\": \"Small3\", \"ground_truth_volume\": 21.2, \"calculated_volume\": 36.81131799}, {\"Rep\": \"Small3\", \"ground_truth_volume\": 21.2, \"calculated_volume\": 48.51598746}, {\"Rep\": \"Small4\", \"ground_truth_volume\": 21.2, \"calculated_volume\": 32.392563}, {\"Rep\": \"Small4\", \"ground_truth_volume\": 21.2, \"calculated_volume\": 27.86217538}, {\"Rep\": \"Small4\", \"ground_truth_volume\": 21.2, \"calculated_volume\": 29.21207966}, {\"Rep\": \"Small5\", \"ground_truth_volume\": 21.2, \"calculated_volume\": 27.71829926}, {\"Rep\": \"Small5\", \"ground_truth_volume\": 21.2, \"calculated_volume\": 22.11176658}, {\"Rep\": \"Small5\", \"ground_truth_volume\": 21.2, \"calculated_volume\": 20.58051637}, {\"Rep\": \"Large1\", \"ground_truth_volume\": 0.8, \"calculated_volume\": 0.373490915}, {\"Rep\": \"Large1\", \"ground_truth_volume\": 0.8, \"calculated_volume\": 0.0}, {\"Rep\": \"Large1\", \"ground_truth_volume\": 0.8, \"calculated_volume\": 0.691941132}, {\"Rep\": \"Large2\", \"ground_truth_volume\": 0.8, \"calculated_volume\": 0.131075371}, {\"Rep\": \"Large2\", \"ground_truth_volume\": 0.8, \"calculated_volume\": 1.107594952}, {\"Rep\": \"Large2\", \"ground_truth_volume\": 0.8, \"calculated_volume\": 0.396758731}, {\"Rep\": \"Large3\", \"ground_truth_volume\": 0.8, \"calculated_volume\": 0.0}, {\"Rep\": \"Large3\", \"ground_truth_volume\": 0.8, \"calculated_volume\": 0.859256046}, {\"Rep\": \"Large3\", \"ground_truth_volume\": 0.8, \"calculated_volume\": 0.0}, {\"Rep\": \"Large4\", \"ground_truth_volume\": 0.8, \"calculated_volume\": 0.0}, {\"Rep\": \"Large4\", \"ground_truth_volume\": 0.8, \"calculated_volume\": 0.569255182}, {\"Rep\": \"Large4\", \"ground_truth_volume\": 0.8, \"calculated_volume\": 0.0}, {\"Rep\": \"Small1\", \"ground_truth_volume\": 0.8, \"calculated_volume\": 0.0}, {\"Rep\": \"Small1\", \"ground_truth_volume\": 0.8, \"calculated_volume\": 0.534095874}, {\"Rep\": \"Small1\", \"ground_truth_volume\": 0.8, \"calculated_volume\": 1.420142552}, {\"Rep\": \"Small2\", \"ground_truth_volume\": 0.8, \"calculated_volume\": 0.330135997}, {\"Rep\": \"Small2\", \"ground_truth_volume\": 0.8, \"calculated_volume\": 0.701611595}, {\"Rep\": \"Small2\", \"ground_truth_volume\": 0.8, \"calculated_volume\": 0.900005292}, {\"Rep\": \"Small3\", \"ground_truth_volume\": 0.8, \"calculated_volume\": 0.297461579}, {\"Rep\": \"Small3\", \"ground_truth_volume\": 0.8, \"calculated_volume\": 0.267934745}, {\"Rep\": \"Small3\", \"ground_truth_volume\": 0.8, \"calculated_volume\": 0.144650173}, {\"Rep\": \"Small4\", \"ground_truth_volume\": 0.8, \"calculated_volume\": 0.635632922}, {\"Rep\": \"Small4\", \"ground_truth_volume\": 0.8, \"calculated_volume\": 0.127710272}, {\"Rep\": \"Small4\", \"ground_truth_volume\": 0.8, \"calculated_volume\": 0.0}, {\"Rep\": \"Small5\", \"ground_truth_volume\": 0.8, \"calculated_volume\": 0.80445451}, {\"Rep\": \"Small5\", \"ground_truth_volume\": 0.8, \"calculated_volume\": 0.0}, {\"Rep\": \"Small5\", \"ground_truth_volume\": 0.8, \"calculated_volume\": 0.583710448}]}}, {\"mode\": \"vega-lite\"});\n</script>",
      "text/plain": "alt.HConcatChart(...)"
     },
     "metadata": {}
    }
   ]
  },
  {
   "cell_type": "markdown",
   "source": "### Summary",
   "metadata": {
    "cell_id": "481455ec-4006-49ff-b5f8-8c529d25f67a",
    "tags": [],
    "is_collapsed": false,
    "deepnote_cell_type": "text-cell-h3"
   }
  },
  {
   "cell_type": "code",
   "source": "Siemens2_score = {'Large Mass': Siemens2_scoreL,'Medium Mass': Siemens2_scoreM,'Small Mass': Siemens2_scoreS,'Volume': Siemens2_scoreV}\nSiemens3_score = {'Large Mass': Siemens3_scoreL,'Medium Mass': Siemens3_scoreM,'Small Mass': Siemens3_scoreS,'Volume': Siemens3_scoreV}\nSiemens_true = [X_Siemens2_L,X_Siemens2_L,X_Siemens2_M,X_Siemens2_M,X_Siemens2_S,X_Siemens2_S,X_Siemens2_V,X_Siemens2_V]\nSiemens_pred = [y_Siemens2_L,y_Siemens3_L,y_Siemens2_M,y_Siemens3_M,y_Siemens2_S,y_Siemens3_S,y_Siemens2_V,y_Siemens3_V]\n[Siemens2_L_RMSE,Siemens3_L_RMSE,Siemens2_M_RMSE,Siemens3_M_RMSE,Siemens2_S_RMSE,Siemens3_S_RMSE,Siemens2_V_RMSE,Siemens3_V_RMSE] = [rmse(Siemens_true[i],Siemens_pred[i]) for i in range(len(Siemens_true))]\nSiemens2_RMSE = {'Large Mass': Siemens2_L_RMSE,'Medium Mass': Siemens2_M_RMSE,'Small Mass': Siemens2_S_RMSE,'Volume':Siemens2_V_RMSE}\nSiemens3_RMSE = {'Large Mass': Siemens3_L_RMSE,'Medium Mass': Siemens3_M_RMSE,'Small Mass': Siemens3_S_RMSE,'Volume':Siemens3_V_RMSE}",
   "metadata": {
    "cell_id": "8601636c-bd6d-4bac-a0b6-b50241d264d6",
    "tags": [],
    "deepnote_to_be_reexecuted": false,
    "source_hash": "cffafa18",
    "execution_start": 1643837944533,
    "execution_millis": 7,
    "deepnote_cell_type": "code"
   },
   "outputs": [],
   "execution_count": 188
  },
  {
   "cell_type": "markdown",
   "source": "## Additional Acquisition",
   "metadata": {
    "cell_id": "1d4ec08f-9abe-46d6-9038-19d7b6dbad42",
    "tags": [],
    "is_collapsed": false,
    "deepnote_cell_type": "text-cell-h2"
   }
  },
  {
   "cell_type": "code",
   "metadata": {
    "cell_id": "f11fbe9d-8c92-4ba5-ae93-7a6c83038ee9",
    "tags": [],
    "deepnote_to_be_reexecuted": false,
    "source_hash": "401d5473",
    "execution_start": 1643835470648,
    "execution_millis": 11,
    "deepnote_cell_type": "code"
   },
   "source": "Add2 = pd.read_csv('Additional2.csv')\nAdd3 = pd.read_csv('Additional3.csv')",
   "execution_count": 106,
   "outputs": []
  },
  {
   "cell_type": "code",
   "source": "Add_true = [];\nAdd_pred = [];",
   "metadata": {
    "cell_id": "91d4a468-cdcf-4428-bcc3-499c51d62f42",
    "tags": [],
    "deepnote_to_be_reexecuted": false,
    "source_hash": "fec2bd8b",
    "execution_start": 1643837833657,
    "execution_millis": 1,
    "deepnote_cell_type": "code"
   },
   "outputs": [],
   "execution_count": 182
  },
  {
   "cell_type": "markdown",
   "source": "### Mass Score: Large Inserts",
   "metadata": {
    "cell_id": "2b1221c5-01ad-4334-8db7-df12f1557437",
    "tags": [],
    "is_collapsed": false,
    "deepnote_cell_type": "text-cell-h3"
   }
  },
  {
   "cell_type": "code",
   "source": "X_Add2_L = Add2.ground_truth_mass_large.to_numpy().reshape(-1,1)\ny_Add2_L = Add2.calculated_mass_large.to_numpy().reshape(-1,1)\nreg_Add2_L = LinearRegression().fit(X_Add2_L,y_Add2_L)\nAdd2_scoreL = reg_Add2_L.score(X_Add2_L,y_Add2_L)\nAdd2_scoreL",
   "metadata": {
    "cell_id": "c1530e57-2008-4a1e-86bd-d57b9162be70",
    "tags": [],
    "deepnote_to_be_reexecuted": false,
    "source_hash": "41c0b934",
    "execution_start": 1643835470671,
    "execution_millis": 14,
    "deepnote_output_heights": [
     21.1875
    ],
    "deepnote_cell_type": "code"
   },
   "outputs": [
    {
     "output_type": "execute_result",
     "execution_count": 108,
     "data": {
      "text/plain": "0.9950023192851626"
     },
     "metadata": {}
    }
   ],
   "execution_count": 108
  },
  {
   "cell_type": "code",
   "source": "c2L,d2L = [reg_Add2_L.coef_[0,0],reg_Add2_L.intercept_[0]]\nprint(\"y = {} x + {}\".format(str(c2L),str(d2L)))",
   "metadata": {
    "cell_id": "3250e2b3-b6fa-4019-8725-efa7479747dc",
    "tags": [],
    "deepnote_to_be_reexecuted": false,
    "source_hash": "ab776336",
    "execution_start": 1643835470686,
    "execution_millis": 0,
    "deepnote_cell_type": "code"
   },
   "outputs": [
    {
     "name": "stdout",
     "text": "y = 0.9203289238826815 x + 0.7606534175620823\n",
     "output_type": "stream"
    }
   ],
   "execution_count": 109
  },
  {
   "cell_type": "code",
   "source": "X_Add3_L = Add3.ground_truth_mass_large.to_numpy().reshape(-1,1)\ny_Add3_L = Add3.calculated_mass_large.to_numpy().reshape(-1,1)\nreg_Add3_L = LinearRegression().fit(X_Add3_L,y_Add3_L)\nAdd3_scoreL = reg_Add3_L.score(X_Add3_L,y_Add3_L)\nAdd3_scoreL",
   "metadata": {
    "cell_id": "44e06abc-a78d-439f-b5ef-1d75bd9432e0",
    "tags": [],
    "deepnote_to_be_reexecuted": false,
    "source_hash": "1a84ffff",
    "execution_start": 1643835470696,
    "execution_millis": 6,
    "deepnote_output_heights": [
     21.1875
    ],
    "deepnote_cell_type": "code"
   },
   "outputs": [
    {
     "output_type": "execute_result",
     "execution_count": 110,
     "data": {
      "text/plain": "0.968767286976177"
     },
     "metadata": {}
    }
   ],
   "execution_count": 110
  },
  {
   "cell_type": "code",
   "source": "c3L,d3L = [reg_Add3_L.coef_[0,0],reg_Add3_L.intercept_[0]]\nprint(\"y = {} x + {}\".format(str(c3L),str(d3L)))",
   "metadata": {
    "cell_id": "e6ab9d54-df92-47cf-bb6b-92ec071ea457",
    "tags": [],
    "deepnote_to_be_reexecuted": false,
    "source_hash": "76a1fc74",
    "execution_start": 1643835470704,
    "execution_millis": 8,
    "deepnote_cell_type": "code"
   },
   "outputs": [
    {
     "name": "stdout",
     "text": "y = 1.1560356562921537 x + 0.028451284597153403\n",
     "output_type": "stream"
    }
   ],
   "execution_count": 111
  },
  {
   "cell_type": "code",
   "source": "Add_true.append(X_Add2_L)\nAdd_pred.append(y_Add2_L)\nAdd_true.append(X_Add3_L)\nAdd_pred.append(y_Add3_L)",
   "metadata": {
    "cell_id": "f2079bf5-5a48-425b-b809-502cd941b552",
    "tags": [],
    "deepnote_to_be_reexecuted": false,
    "source_hash": "9d65fe9b",
    "execution_start": 1643837843833,
    "execution_millis": 21,
    "deepnote_cell_type": "code"
   },
   "outputs": [],
   "execution_count": 183
  },
  {
   "cell_type": "code",
   "source": "Add2_large = chart_plot_large(Add2)\nAdd3_large = chart_plot_large(Add3)\nAdd2_large | Add3_large",
   "metadata": {
    "cell_id": "3e2db888-fba4-421b-85a1-0d560a4c6add",
    "tags": [],
    "deepnote_to_be_reexecuted": false,
    "source_hash": "f359a0de",
    "execution_start": 1643836955278,
    "execution_millis": 206,
    "deepnote_output_heights": [
     363
    ],
    "deepnote_cell_type": "code"
   },
   "outputs": [
    {
     "output_type": "execute_result",
     "execution_count": 155,
     "data": {
      "text/html": "\n<div id=\"altair-viz-63fa139b8cc44fe3b35b5173010fe635\"></div>\n<script type=\"text/javascript\">\n  (function(spec, embedOpt){\n    let outputDiv = document.currentScript.previousElementSibling;\n    if (outputDiv.id !== \"altair-viz-63fa139b8cc44fe3b35b5173010fe635\") {\n      outputDiv = document.getElementById(\"altair-viz-63fa139b8cc44fe3b35b5173010fe635\");\n    }\n    const paths = {\n      \"vega\": \"https://cdn.jsdelivr.net/npm//vega@5?noext\",\n      \"vega-lib\": \"https://cdn.jsdelivr.net/npm//vega-lib?noext\",\n      \"vega-lite\": \"https://cdn.jsdelivr.net/npm//vega-lite@4.8.1?noext\",\n      \"vega-embed\": \"https://cdn.jsdelivr.net/npm//vega-embed@6?noext\",\n    };\n\n    function loadScript(lib) {\n      return new Promise(function(resolve, reject) {\n        var s = document.createElement('script');\n        s.src = paths[lib];\n        s.async = true;\n        s.onload = () => resolve(paths[lib]);\n        s.onerror = () => reject(`Error loading script: ${paths[lib]}`);\n        document.getElementsByTagName(\"head\")[0].appendChild(s);\n      });\n    }\n\n    function showError(err) {\n      outputDiv.innerHTML = `<div class=\"error\" style=\"color:red;\">${err}</div>`;\n      throw err;\n    }\n\n    function displayChart(vegaEmbed) {\n      vegaEmbed(outputDiv, spec, embedOpt)\n        .catch(err => showError(`Javascript Error: ${err.message}<br>This usually means there's a typo in your chart specification. See the javascript console for the full traceback.`));\n    }\n\n    if(typeof define === \"function\" && define.amd) {\n      requirejs.config({paths});\n      require([\"vega-embed\"], displayChart, err => showError(`Error loading script: ${err.message}`));\n    } else if (typeof vegaEmbed === \"function\") {\n      displayChart(vegaEmbed);\n    } else {\n      loadScript(\"vega\")\n        .then(() => loadScript(\"vega-lite\"))\n        .then(() => loadScript(\"vega-embed\"))\n        .catch(showError)\n        .then(() => displayChart(vegaEmbed));\n    }\n  })({\"config\": {\"view\": {\"continuousWidth\": 400, \"continuousHeight\": 300}}, \"hconcat\": [{\"layer\": [{\"mark\": \"circle\", \"encoding\": {\"color\": {\"type\": \"nominal\", \"field\": \"Rep\"}, \"tooltip\": [{\"type\": \"quantitative\", \"field\": \"ground_truth_volume_large\"}, {\"type\": \"quantitative\", \"field\": \"calculated_volume_large\"}, {\"type\": \"nominal\", \"field\": \"Rep\"}], \"x\": {\"type\": \"quantitative\", \"field\": \"ground_truth_mass_large\"}, \"y\": {\"type\": \"quantitative\", \"field\": \"calculated_mass_large\"}}}, {\"mark\": \"line\", \"encoding\": {\"color\": {\"type\": \"nominal\", \"field\": \"Rep\"}, \"tooltip\": [{\"type\": \"quantitative\", \"field\": \"ground_truth_volume_large\"}, {\"type\": \"quantitative\", \"field\": \"calculated_volume_large\"}, {\"type\": \"nominal\", \"field\": \"Rep\"}], \"x\": {\"type\": \"quantitative\", \"field\": \"ground_truth_mass_large\"}, \"y\": {\"type\": \"quantitative\", \"field\": \"calculated_mass_large\"}}, \"transform\": [{\"on\": \"ground_truth_mass_large\", \"regression\": \"calculated_mass_large\", \"method\": \"linear\"}]}, {\"mark\": {\"type\": \"line\", \"color\": \"red\"}, \"encoding\": {\"x\": {\"type\": \"quantitative\", \"field\": \"ground_truth_mass_large\"}, \"y\": {\"type\": \"quantitative\", \"field\": \"ground_truth_mass_large\"}}}], \"data\": {\"name\": \"data-5332171a26e1e30da3b03c58c76a5950\"}}, {\"layer\": [{\"mark\": \"circle\", \"encoding\": {\"color\": {\"type\": \"nominal\", \"field\": \"Rep\"}, \"tooltip\": [{\"type\": \"quantitative\", \"field\": \"ground_truth_volume_large\"}, {\"type\": \"quantitative\", \"field\": \"calculated_volume_large\"}, {\"type\": \"nominal\", \"field\": \"Rep\"}], \"x\": {\"type\": \"quantitative\", \"field\": \"ground_truth_mass_large\"}, \"y\": {\"type\": \"quantitative\", \"field\": \"calculated_mass_large\"}}}, {\"mark\": \"line\", \"encoding\": {\"color\": {\"type\": \"nominal\", \"field\": \"Rep\"}, \"tooltip\": [{\"type\": \"quantitative\", \"field\": \"ground_truth_volume_large\"}, {\"type\": \"quantitative\", \"field\": \"calculated_volume_large\"}, {\"type\": \"nominal\", \"field\": \"Rep\"}], \"x\": {\"type\": \"quantitative\", \"field\": \"ground_truth_mass_large\"}, \"y\": {\"type\": \"quantitative\", \"field\": \"calculated_mass_large\"}}, \"transform\": [{\"on\": \"ground_truth_mass_large\", \"regression\": \"calculated_mass_large\", \"method\": \"linear\"}]}, {\"mark\": {\"type\": \"line\", \"color\": \"red\"}, \"encoding\": {\"x\": {\"type\": \"quantitative\", \"field\": \"ground_truth_mass_large\"}, \"y\": {\"type\": \"quantitative\", \"field\": \"ground_truth_mass_large\"}}}], \"data\": {\"name\": \"data-168629110cd23a158fa7e758d1d5cea8\"}}], \"$schema\": \"https://vega.github.io/schema/vega-lite/v4.8.1.json\", \"datasets\": {\"data-5332171a26e1e30da3b03c58c76a5950\": [{\"inserts\": \"Low Density\", \"ground_truth_volume_large\": 98.2, \"calculated_volume_large\": 90.20585537, \"ground_truth_volume_medium\": 21.2, \"calculated_volume_medium\": 22.73042541, \"ground_truth_volume_small\": 0.8, \"calculated_volume_small\": 0.334860806, \"ground_truth_mass_large\": 19.6, \"calculated_mass_large\": 18.04117107, \"ground_truth_mass_medium\": 4.2, \"calculated_mass_medium\": 4.546085081, \"ground_truth_mass_small\": 0.2, \"calculated_mass_small\": 0.066972161, \"Rep\": \"1mm\"}, {\"inserts\": \"Medium Density\", \"ground_truth_volume_large\": 98.2, \"calculated_volume_large\": 87.87848832, \"ground_truth_volume_medium\": 21.2, \"calculated_volume_medium\": 19.88935173, \"ground_truth_volume_small\": 0.8, \"calculated_volume_small\": 0.52784807, \"ground_truth_mass_large\": 39.3, \"calculated_mass_large\": 35.15139533, \"ground_truth_mass_medium\": 8.5, \"calculated_mass_medium\": 7.955740693, \"ground_truth_mass_small\": 0.3, \"calculated_mass_small\": 0.211139228, \"Rep\": \"1mm\"}, {\"inserts\": \"High Density\", \"ground_truth_volume_large\": 98.2, \"calculated_volume_large\": 86.14648812, \"ground_truth_volume_medium\": 21.2, \"calculated_volume_medium\": 20.67053428, \"ground_truth_volume_small\": 0.8, \"calculated_volume_small\": 0.815695939, \"ground_truth_mass_large\": 78.5, \"calculated_mass_large\": 68.9171905, \"ground_truth_mass_medium\": 17.0, \"calculated_mass_medium\": 16.53642742, \"ground_truth_mass_small\": 0.6, \"calculated_mass_small\": 0.652556751, \"Rep\": \"1mm\"}, {\"inserts\": \"Low Density\", \"ground_truth_volume_large\": 98.2, \"calculated_volume_large\": 98.30085954, \"ground_truth_volume_medium\": 21.2, \"calculated_volume_medium\": 27.0388283, \"ground_truth_volume_small\": 0.8, \"calculated_volume_small\": 0.190878164, \"ground_truth_mass_large\": 19.6, \"calculated_mass_large\": 19.66017191, \"ground_truth_mass_medium\": 4.2, \"calculated_mass_medium\": 5.407765659, \"ground_truth_mass_small\": 0.2, \"calculated_mass_small\": 0.038175633, \"Rep\": \"2mm\"}, {\"inserts\": \"Medium Density\", \"ground_truth_volume_large\": 98.2, \"calculated_volume_large\": 93.89171689, \"ground_truth_volume_medium\": 21.2, \"calculated_volume_medium\": 19.27041713, \"ground_truth_volume_small\": 0.8, \"calculated_volume_small\": 0.937248857, \"ground_truth_mass_large\": 39.3, \"calculated_mass_large\": 37.55668676, \"ground_truth_mass_medium\": 8.5, \"calculated_mass_medium\": 7.708166854, \"ground_truth_mass_small\": 0.3, \"calculated_mass_small\": 0.374899543, \"Rep\": \"2mm\"}, {\"inserts\": \"High Density\", \"ground_truth_volume_large\": 98.2, \"calculated_volume_large\": 93.15881318, \"ground_truth_volume_medium\": 21.2, \"calculated_volume_medium\": 20.828385, \"ground_truth_volume_small\": 0.8, \"calculated_volume_small\": 0.83825846, \"ground_truth_mass_large\": 78.5, \"calculated_mass_large\": 74.52705054, \"ground_truth_mass_medium\": 17.0, \"calculated_mass_medium\": 16.662708, \"ground_truth_mass_small\": 0.6, \"calculated_mass_small\": 0.670606768, \"Rep\": \"2mm\"}, {\"inserts\": \"Low Density\", \"ground_truth_volume_large\": 98.2, \"calculated_volume_large\": 99.74603055, \"ground_truth_volume_medium\": 21.2, \"calculated_volume_medium\": 27.45132971, \"ground_truth_volume_small\": 0.8, \"calculated_volume_small\": 0.012795403, \"ground_truth_mass_large\": 19.6, \"calculated_mass_large\": 19.94920611, \"ground_truth_mass_medium\": 4.2, \"calculated_mass_medium\": 5.490265942, \"ground_truth_mass_small\": 0.2, \"calculated_mass_small\": 0.002559081, \"Rep\": \"22mAs\"}, {\"inserts\": \"Medium Density\", \"ground_truth_volume_large\": 98.2, \"calculated_volume_large\": 93.63222839, \"ground_truth_volume_medium\": 21.2, \"calculated_volume_medium\": 17.26774695, \"ground_truth_volume_small\": 0.8, \"calculated_volume_small\": 0.903350373, \"ground_truth_mass_large\": 39.3, \"calculated_mass_large\": 37.45289135, \"ground_truth_mass_medium\": 8.5, \"calculated_mass_medium\": 6.907098779, \"ground_truth_mass_small\": 0.3, \"calculated_mass_small\": 0.361340149, \"Rep\": \"22mAs\"}, {\"inserts\": \"High Density\", \"ground_truth_volume_large\": 98.2, \"calculated_volume_large\": 93.5545313, \"ground_truth_volume_medium\": 21.2, \"calculated_volume_medium\": 17.64701662, \"ground_truth_volume_small\": 0.8, \"calculated_volume_small\": 1.215751336, \"ground_truth_mass_large\": 78.5, \"calculated_mass_large\": 74.84362504, \"ground_truth_mass_medium\": 17.0, \"calculated_mass_medium\": 14.1176133, \"ground_truth_mass_small\": 0.6, \"calculated_mass_small\": 0.972601069, \"Rep\": \"22mAs\"}, {\"inserts\": \"Low Density\", \"ground_truth_volume_large\": 98.2, \"calculated_volume_large\": 101.3748387, \"ground_truth_volume_medium\": 21.2, \"calculated_volume_medium\": 14.9494636, \"ground_truth_volume_small\": 0.8, \"calculated_volume_small\": 0.0, \"ground_truth_mass_large\": 19.6, \"calculated_mass_large\": 20.27496774, \"ground_truth_mass_medium\": 4.2, \"calculated_mass_medium\": 2.98989272, \"ground_truth_mass_small\": 0.2, \"calculated_mass_small\": 0.0, \"Rep\": \"34mAs\"}, {\"inserts\": \"Medium Density\", \"ground_truth_volume_large\": 98.2, \"calculated_volume_large\": 99.99056952, \"ground_truth_volume_medium\": 21.2, \"calculated_volume_medium\": 19.50310021, \"ground_truth_volume_small\": 0.8, \"calculated_volume_small\": 0.933105915, \"ground_truth_mass_large\": 39.3, \"calculated_mass_large\": 39.99622781, \"ground_truth_mass_medium\": 8.5, \"calculated_mass_medium\": 7.801240083, \"ground_truth_mass_small\": 0.3, \"calculated_mass_small\": 0.373242366, \"Rep\": \"34mAs\"}, {\"inserts\": \"High Density\", \"ground_truth_volume_large\": 98.2, \"calculated_volume_large\": 93.15593848, \"ground_truth_volume_medium\": 21.2, \"calculated_volume_medium\": 21.34357478, \"ground_truth_volume_small\": 0.8, \"calculated_volume_small\": 0.478369447, \"ground_truth_mass_large\": 78.5, \"calculated_mass_large\": 74.52475078, \"ground_truth_mass_medium\": 17.0, \"calculated_mass_medium\": 17.07485982, \"ground_truth_mass_small\": 0.6, \"calculated_mass_small\": 0.382695557, \"Rep\": \"34mAs\"}, {\"inserts\": \"Low Density\", \"ground_truth_volume_large\": 98.2, \"calculated_volume_large\": 96.21974186, \"ground_truth_volume_medium\": 21.2, \"calculated_volume_medium\": 23.38720142, \"ground_truth_volume_small\": 0.8, \"calculated_volume_small\": 0.512265669, \"ground_truth_mass_large\": 19.6, \"calculated_mass_large\": 19.24394837, \"ground_truth_mass_medium\": 4.2, \"calculated_mass_medium\": 4.677440284, \"ground_truth_mass_small\": 0.2, \"calculated_mass_small\": 0.102453134, \"Rep\": \"80kV\"}, {\"inserts\": \"Medium Density\", \"ground_truth_volume_large\": 98.2, \"calculated_volume_large\": 99.39214731, \"ground_truth_volume_medium\": 21.2, \"calculated_volume_medium\": 20.38283701, \"ground_truth_volume_small\": 0.8, \"calculated_volume_small\": 0.316172831, \"ground_truth_mass_large\": 39.3, \"calculated_mass_large\": 39.75685892, \"ground_truth_mass_medium\": 8.5, \"calculated_mass_medium\": 8.153134802, \"ground_truth_mass_small\": 0.3, \"calculated_mass_small\": 0.126469133, \"Rep\": \"80kV\"}, {\"inserts\": \"High Density\", \"ground_truth_volume_large\": 98.2, \"calculated_volume_large\": 91.49689907, \"ground_truth_volume_medium\": 21.2, \"calculated_volume_medium\": 21.20505856, \"ground_truth_volume_small\": 0.8, \"calculated_volume_small\": 0.775831533, \"ground_truth_mass_large\": 78.5, \"calculated_mass_large\": 73.19751926, \"ground_truth_mass_medium\": 17.0, \"calculated_mass_medium\": 16.96404685, \"ground_truth_mass_small\": 0.6, \"calculated_mass_small\": 0.620665227, \"Rep\": \"80kV\"}, {\"inserts\": \"Low Density\", \"ground_truth_volume_large\": 98.2, \"calculated_volume_large\": 92.76070783, \"ground_truth_volume_medium\": 21.2, \"calculated_volume_medium\": 25.69021799, \"ground_truth_volume_small\": 0.8, \"calculated_volume_small\": 0.0, \"ground_truth_mass_large\": 19.6, \"calculated_mass_large\": 18.55214157, \"ground_truth_mass_medium\": 4.2, \"calculated_mass_medium\": 5.138043598, \"ground_truth_mass_small\": 0.2, \"calculated_mass_small\": 0.0, \"Rep\": \"100kV\"}, {\"inserts\": \"Medium Density\", \"ground_truth_volume_large\": 98.2, \"calculated_volume_large\": 91.98982369, \"ground_truth_volume_medium\": 21.2, \"calculated_volume_medium\": 21.53094472, \"ground_truth_volume_small\": 0.8, \"calculated_volume_small\": 0.29477222, \"ground_truth_mass_large\": 39.3, \"calculated_mass_large\": 36.79592947, \"ground_truth_mass_medium\": 8.5, \"calculated_mass_medium\": 8.612377888, \"ground_truth_mass_small\": 0.3, \"calculated_mass_small\": 0.117908888, \"Rep\": \"100kV\"}, {\"inserts\": \"High Density\", \"ground_truth_volume_large\": 98.2, \"calculated_volume_large\": 93.26895666, \"ground_truth_volume_medium\": 21.2, \"calculated_volume_medium\": 21.74581506, \"ground_truth_volume_small\": 0.8, \"calculated_volume_small\": 0.432956711, \"ground_truth_mass_large\": 78.5, \"calculated_mass_large\": 74.61516533, \"ground_truth_mass_medium\": 17.0, \"calculated_mass_medium\": 17.39665205, \"ground_truth_mass_small\": 0.6, \"calculated_mass_small\": 0.346365369, \"Rep\": \"100kV\"}, {\"inserts\": \"Low Density\", \"ground_truth_volume_large\": 98.2, \"calculated_volume_large\": 94.92150251, \"ground_truth_volume_medium\": 21.2, \"calculated_volume_medium\": 24.32702031, \"ground_truth_volume_small\": 0.8, \"calculated_volume_small\": 0.514788312, \"ground_truth_mass_large\": 19.6, \"calculated_mass_large\": 18.9843005, \"ground_truth_mass_medium\": 4.2, \"calculated_mass_medium\": 4.865404061, \"ground_truth_mass_small\": 0.2, \"calculated_mass_small\": 0.102957662, \"Rep\": \"FOV200\"}, {\"inserts\": \"Medium Density\", \"ground_truth_volume_large\": 98.2, \"calculated_volume_large\": 92.44965594, \"ground_truth_volume_medium\": 21.2, \"calculated_volume_medium\": 16.12965367, \"ground_truth_volume_small\": 0.8, \"calculated_volume_small\": 0.678080069, \"ground_truth_mass_large\": 39.3, \"calculated_mass_large\": 36.97986238, \"ground_truth_mass_medium\": 8.5, \"calculated_mass_medium\": 6.451861468, \"ground_truth_mass_small\": 0.3, \"calculated_mass_small\": 0.271232028, \"Rep\": \"FOV200\"}, {\"inserts\": \"High Density\", \"ground_truth_volume_large\": 98.2, \"calculated_volume_large\": 88.56417753, \"ground_truth_volume_medium\": 21.2, \"calculated_volume_medium\": 18.4699248, \"ground_truth_volume_small\": 0.8, \"calculated_volume_small\": 0.698946386, \"ground_truth_mass_large\": 78.5, \"calculated_mass_large\": 70.85134202, \"ground_truth_mass_medium\": 17.0, \"calculated_mass_medium\": 14.77593984, \"ground_truth_mass_small\": 0.6, \"calculated_mass_small\": 0.559157109, \"Rep\": \"FOV200\"}, {\"inserts\": \"Low Density\", \"ground_truth_volume_large\": 98.2, \"calculated_volume_large\": 93.65814507, \"ground_truth_volume_medium\": 21.2, \"calculated_volume_medium\": 18.0987471, \"ground_truth_volume_small\": 0.8, \"calculated_volume_small\": 0.202545277, \"ground_truth_mass_large\": 19.6, \"calculated_mass_large\": 18.73162901, \"ground_truth_mass_medium\": 4.2, \"calculated_mass_medium\": 3.619749419, \"ground_truth_mass_small\": 0.2, \"calculated_mass_small\": 0.040509055, \"Rep\": \"FOV320\"}, {\"inserts\": \"Medium Density\", \"ground_truth_volume_large\": 98.2, \"calculated_volume_large\": 85.9960784, \"ground_truth_volume_medium\": 21.2, \"calculated_volume_medium\": 20.09545354, \"ground_truth_volume_small\": 0.8, \"calculated_volume_small\": 0.285088226, \"ground_truth_mass_large\": 39.3, \"calculated_mass_large\": 34.39843136, \"ground_truth_mass_medium\": 8.5, \"calculated_mass_medium\": 8.038181417, \"ground_truth_mass_small\": 0.3, \"calculated_mass_small\": 0.114035291, \"Rep\": \"FOV320\"}, {\"inserts\": \"High Density\", \"ground_truth_volume_large\": 98.2, \"calculated_volume_large\": 91.7202542, \"ground_truth_volume_medium\": 21.2, \"calculated_volume_medium\": 20.13469544, \"ground_truth_volume_small\": 0.8, \"calculated_volume_small\": 0.650949493, \"ground_truth_mass_large\": 78.5, \"calculated_mass_large\": 73.37620336, \"ground_truth_mass_medium\": 17.0, \"calculated_mass_medium\": 16.10775635, \"ground_truth_mass_small\": 0.6, \"calculated_mass_small\": 0.520759594, \"Rep\": \"FOV320\"}, {\"inserts\": \"Low Density\", \"ground_truth_volume_large\": 98.2, \"calculated_volume_large\": 95.14084166, \"ground_truth_volume_medium\": 21.2, \"calculated_volume_medium\": 25.73877172, \"ground_truth_volume_small\": 0.8, \"calculated_volume_small\": 0.360437874, \"ground_truth_mass_large\": 19.6, \"calculated_mass_large\": 19.02816833, \"ground_truth_mass_medium\": 4.2, \"calculated_mass_medium\": 5.147754345, \"ground_truth_mass_small\": 0.2, \"calculated_mass_small\": 0.072087575, \"Rep\": \"IR2\"}, {\"inserts\": \"Medium Density\", \"ground_truth_volume_large\": 98.2, \"calculated_volume_large\": 86.86318335, \"ground_truth_volume_medium\": 21.2, \"calculated_volume_medium\": 18.04686415, \"ground_truth_volume_small\": 0.8, \"calculated_volume_small\": 1.049247626, \"ground_truth_mass_large\": 39.3, \"calculated_mass_large\": 34.74527334, \"ground_truth_mass_medium\": 8.5, \"calculated_mass_medium\": 7.218745661, \"ground_truth_mass_small\": 0.3, \"calculated_mass_small\": 0.41969905, \"Rep\": \"IR2\"}, {\"inserts\": \"High Density\", \"ground_truth_volume_large\": 98.2, \"calculated_volume_large\": 91.49494568, \"ground_truth_volume_medium\": 21.2, \"calculated_volume_medium\": 19.25301496, \"ground_truth_volume_small\": 0.8, \"calculated_volume_small\": 0.943675415, \"ground_truth_mass_large\": 78.5, \"calculated_mass_large\": 73.19595654, \"ground_truth_mass_medium\": 17.0, \"calculated_mass_medium\": 15.40241197, \"ground_truth_mass_small\": 0.6, \"calculated_mass_small\": 0.754940332, \"Rep\": \"IR2\"}, {\"inserts\": \"Low Density\", \"ground_truth_volume_large\": 98.2, \"calculated_volume_large\": 93.12662631, \"ground_truth_volume_medium\": 21.2, \"calculated_volume_medium\": 23.45026488, \"ground_truth_volume_small\": 0.8, \"calculated_volume_small\": 0.672816468, \"ground_truth_mass_large\": 19.6, \"calculated_mass_large\": 18.62532526, \"ground_truth_mass_medium\": 4.2, \"calculated_mass_medium\": 4.690052977, \"ground_truth_mass_small\": 0.2, \"calculated_mass_small\": 0.134563294, \"Rep\": \"IR4\"}, {\"inserts\": \"Medium Density\", \"ground_truth_volume_large\": 98.2, \"calculated_volume_large\": 85.40538877, \"ground_truth_volume_medium\": 21.2, \"calculated_volume_medium\": 17.07099344, \"ground_truth_volume_small\": 0.8, \"calculated_volume_small\": 0.961750239, \"ground_truth_mass_large\": 39.3, \"calculated_mass_large\": 34.16215551, \"ground_truth_mass_medium\": 8.5, \"calculated_mass_medium\": 6.828397374, \"ground_truth_mass_small\": 0.3, \"calculated_mass_small\": 0.384700096, \"Rep\": \"IR4\"}, {\"inserts\": \"High Density\", \"ground_truth_volume_large\": 98.2, \"calculated_volume_large\": 89.38590825, \"ground_truth_volume_medium\": 21.2, \"calculated_volume_medium\": 18.21852143, \"ground_truth_volume_small\": 0.8, \"calculated_volume_small\": 0.815572968, \"ground_truth_mass_large\": 78.5, \"calculated_mass_large\": 71.5087266, \"ground_truth_mass_medium\": 17.0, \"calculated_mass_medium\": 14.57481715, \"ground_truth_mass_small\": 0.6, \"calculated_mass_small\": 0.652458374, \"Rep\": \"IR4\"}, {\"inserts\": \"Low Density\", \"ground_truth_volume_large\": 98.2, \"calculated_volume_large\": 95.13819688, \"ground_truth_volume_medium\": 21.2, \"calculated_volume_medium\": 25.44858132, \"ground_truth_volume_small\": 0.8, \"calculated_volume_small\": 0.328764032, \"ground_truth_mass_large\": 19.6, \"calculated_mass_large\": 19.02763938, \"ground_truth_mass_medium\": 4.2, \"calculated_mass_medium\": 5.089716264, \"ground_truth_mass_small\": 0.2, \"calculated_mass_small\": 0.065752806, \"Rep\": \"Qr32\"}, {\"inserts\": \"Medium Density\", \"ground_truth_volume_large\": 98.2, \"calculated_volume_large\": 87.50176326, \"ground_truth_volume_medium\": 21.2, \"calculated_volume_medium\": 18.22262426, \"ground_truth_volume_small\": 0.8, \"calculated_volume_small\": 0.984949568, \"ground_truth_mass_large\": 39.3, \"calculated_mass_large\": 35.0007053, \"ground_truth_mass_medium\": 8.5, \"calculated_mass_medium\": 7.289049704, \"ground_truth_mass_small\": 0.3, \"calculated_mass_small\": 0.393979827, \"Rep\": \"Qr32\"}, {\"inserts\": \"High Density\", \"ground_truth_volume_large\": 98.2, \"calculated_volume_large\": 91.19571421, \"ground_truth_volume_medium\": 21.2, \"calculated_volume_medium\": 19.3984003, \"ground_truth_volume_small\": 0.8, \"calculated_volume_small\": 0.854526985, \"ground_truth_mass_large\": 78.5, \"calculated_mass_large\": 72.95657137, \"ground_truth_mass_medium\": 17.0, \"calculated_mass_medium\": 15.51872024, \"ground_truth_mass_small\": 0.6, \"calculated_mass_small\": 0.683621588, \"Rep\": \"Qr32\"}, {\"inserts\": \"Low Density\", \"ground_truth_volume_large\": 98.2, \"calculated_volume_large\": 96.24653575, \"ground_truth_volume_medium\": 21.2, \"calculated_volume_medium\": 27.00723172, \"ground_truth_volume_small\": 0.8, \"calculated_volume_small\": 1.188397059, \"ground_truth_mass_large\": 19.6, \"calculated_mass_large\": 19.24930715, \"ground_truth_mass_medium\": 4.2, \"calculated_mass_medium\": 5.401446344, \"ground_truth_mass_small\": 0.2, \"calculated_mass_small\": 0.237679412, \"Rep\": \"Qr44\"}, {\"inserts\": \"Medium Density\", \"ground_truth_volume_large\": 98.2, \"calculated_volume_large\": 88.70186379, \"ground_truth_volume_medium\": 21.2, \"calculated_volume_medium\": 20.24559649, \"ground_truth_volume_small\": 0.8, \"calculated_volume_small\": 1.313087721, \"ground_truth_mass_large\": 39.3, \"calculated_mass_large\": 35.48074552, \"ground_truth_mass_medium\": 8.5, \"calculated_mass_medium\": 8.098238595, \"ground_truth_mass_small\": 0.3, \"calculated_mass_small\": 0.525235088, \"Rep\": \"Qr44\"}, {\"inserts\": \"High Density\", \"ground_truth_volume_large\": 98.2, \"calculated_volume_large\": 94.32826493, \"ground_truth_volume_medium\": 21.2, \"calculated_volume_medium\": 22.30859605, \"ground_truth_volume_small\": 0.8, \"calculated_volume_small\": 1.084844049, \"ground_truth_mass_large\": 78.5, \"calculated_mass_large\": 75.46261194, \"ground_truth_mass_medium\": 17.0, \"calculated_mass_medium\": 17.84687684, \"ground_truth_mass_small\": 0.6, \"calculated_mass_small\": 0.867875239, \"Rep\": \"Qr44\"}], \"data-168629110cd23a158fa7e758d1d5cea8\": [{\"inserts\": \"Low Density\", \"ground_truth_volume_large\": 98.2, \"calculated_volume_large\": 91.30510058, \"ground_truth_volume_medium\": 21.2, \"calculated_volume_medium\": 23.00294596, \"ground_truth_volume_small\": 0.8, \"calculated_volume_small\": 0.341454141, \"ground_truth_mass_large\": 19.6, \"calculated_mass_large\": 18.26102012, \"ground_truth_mass_medium\": 4.2, \"calculated_mass_medium\": 4.600589192, \"ground_truth_mass_small\": 0.2, \"calculated_mass_small\": 0.068290828, \"Rep\": \"1mm\"}, {\"inserts\": \"Medium Density\", \"ground_truth_volume_large\": 98.2, \"calculated_volume_large\": 89.44156914, \"ground_truth_volume_medium\": 21.2, \"calculated_volume_medium\": 20.23387275, \"ground_truth_volume_small\": 0.8, \"calculated_volume_small\": 0.538220856, \"ground_truth_mass_large\": 39.3, \"calculated_mass_large\": 35.77662766, \"ground_truth_mass_medium\": 8.5, \"calculated_mass_medium\": 8.0935491, \"ground_truth_mass_small\": 0.3, \"calculated_mass_small\": 0.215288342, \"Rep\": \"1mm\"}, {\"inserts\": \"High Density\", \"ground_truth_volume_large\": 98.2, \"calculated_volume_large\": 87.86102647, \"ground_truth_volume_medium\": 21.2, \"calculated_volume_medium\": 21.08112295, \"ground_truth_volume_small\": 0.8, \"calculated_volume_small\": 0.831779038, \"ground_truth_mass_large\": 78.5, \"calculated_mass_large\": 70.28882118, \"ground_truth_mass_medium\": 17.0, \"calculated_mass_medium\": 16.86489836, \"ground_truth_mass_small\": 0.6, \"calculated_mass_small\": 0.66542323, \"Rep\": \"1mm\"}, {\"inserts\": \"Low Density\", \"ground_truth_volume_large\": 98.2, \"calculated_volume_large\": 104.9208017, \"ground_truth_volume_medium\": 21.2, \"calculated_volume_medium\": 28.82232749, \"ground_truth_volume_small\": 0.8, \"calculated_volume_small\": 0.201937558, \"ground_truth_mass_large\": 19.6, \"calculated_mass_large\": 20.98416034, \"ground_truth_mass_medium\": 4.2, \"calculated_mass_medium\": 5.764465497, \"ground_truth_mass_small\": 0.2, \"calculated_mass_small\": 0.040387512, \"Rep\": \"2mm\"}, {\"inserts\": \"Medium Density\", \"ground_truth_volume_large\": 98.2, \"calculated_volume_large\": 99.73149439, \"ground_truth_volume_medium\": 21.2, \"calculated_volume_medium\": 20.46192585, \"ground_truth_volume_small\": 0.8, \"calculated_volume_small\": 0.991091028, \"ground_truth_mass_large\": 39.3, \"calculated_mass_large\": 39.89259776, \"ground_truth_mass_medium\": 8.5, \"calculated_mass_medium\": 8.18477034, \"ground_truth_mass_small\": 0.3, \"calculated_mass_small\": 0.396436411, \"Rep\": \"2mm\"}, {\"inserts\": \"High Density\", \"ground_truth_volume_large\": 98.2, \"calculated_volume_large\": 98.55691758, \"ground_truth_volume_medium\": 21.2, \"calculated_volume_medium\": 22.04153053, \"ground_truth_volume_small\": 0.8, \"calculated_volume_small\": 0.886709839, \"ground_truth_mass_large\": 78.5, \"calculated_mass_large\": 78.84553407, \"ground_truth_mass_medium\": 17.0, \"calculated_mass_medium\": 17.63322443, \"ground_truth_mass_small\": 0.6, \"calculated_mass_small\": 0.709367871, \"Rep\": \"2mm\"}, {\"inserts\": \"Low Density\", \"ground_truth_volume_large\": 98.2, \"calculated_volume_large\": 123.6956615, \"ground_truth_volume_medium\": 21.2, \"calculated_volume_medium\": 33.89532261, \"ground_truth_volume_small\": 0.8, \"calculated_volume_small\": 0.016435833, \"ground_truth_mass_large\": 19.6, \"calculated_mass_large\": 24.7391323, \"ground_truth_mass_medium\": 4.2, \"calculated_mass_medium\": 6.779064521, \"ground_truth_mass_small\": 0.2, \"calculated_mass_small\": 0.003287167, \"Rep\": \"22mAs\"}, {\"inserts\": \"Medium Density\", \"ground_truth_volume_large\": 98.2, \"calculated_volume_large\": 119.1896809, \"ground_truth_volume_medium\": 21.2, \"calculated_volume_medium\": 22.00512262, \"ground_truth_volume_small\": 0.8, \"calculated_volume_small\": 1.162220486, \"ground_truth_mass_large\": 39.3, \"calculated_mass_large\": 47.67587237, \"ground_truth_mass_medium\": 8.5, \"calculated_mass_medium\": 8.802049049, \"ground_truth_mass_small\": 0.3, \"calculated_mass_small\": 0.464888194, \"Rep\": \"22mAs\"}, {\"inserts\": \"High Density\", \"ground_truth_volume_large\": 98.2, \"calculated_volume_large\": 120.222245, \"ground_truth_volume_medium\": 21.2, \"calculated_volume_medium\": 22.72660556, \"ground_truth_volume_small\": 0.8, \"calculated_volume_small\": 1.56352072, \"ground_truth_mass_large\": 78.5, \"calculated_mass_large\": 96.17779599, \"ground_truth_mass_medium\": 17.0, \"calculated_mass_medium\": 18.18128444, \"ground_truth_mass_small\": 0.6, \"calculated_mass_small\": 1.250816576, \"Rep\": \"22mAs\"}, {\"inserts\": \"Low Density\", \"ground_truth_volume_large\": 98.2, \"calculated_volume_large\": 125.1087627, \"ground_truth_volume_medium\": 21.2, \"calculated_volume_medium\": 18.56358081, \"ground_truth_volume_small\": 0.8, \"calculated_volume_small\": 0.0, \"ground_truth_mass_large\": 19.6, \"calculated_mass_large\": 25.02175254, \"ground_truth_mass_medium\": 4.2, \"calculated_mass_medium\": 3.712716162, \"ground_truth_mass_small\": 0.2, \"calculated_mass_small\": 0.0, \"Rep\": \"34mAs\"}, {\"inserts\": \"Medium Density\", \"ground_truth_volume_large\": 98.2, \"calculated_volume_large\": 126.5350491, \"ground_truth_volume_medium\": 21.2, \"calculated_volume_medium\": 24.83925855, \"ground_truth_volume_small\": 0.8, \"calculated_volume_small\": 1.196975114, \"ground_truth_mass_large\": 39.3, \"calculated_mass_large\": 50.61401964, \"ground_truth_mass_medium\": 8.5, \"calculated_mass_medium\": 9.935703418, \"ground_truth_mass_small\": 0.3, \"calculated_mass_small\": 0.478790046, \"Rep\": \"34mAs\"}, {\"inserts\": \"High Density\", \"ground_truth_volume_large\": 98.2, \"calculated_volume_large\": 119.6833766, \"ground_truth_volume_medium\": 21.2, \"calculated_volume_medium\": 27.40713007, \"ground_truth_volume_small\": 0.8, \"calculated_volume_small\": 0.614610766, \"ground_truth_mass_large\": 78.5, \"calculated_mass_large\": 95.7467013, \"ground_truth_mass_medium\": 17.0, \"calculated_mass_medium\": 21.92570406, \"ground_truth_mass_small\": 0.6, \"calculated_mass_small\": 0.491688613, \"Rep\": \"34mAs\"}, {\"inserts\": \"Low Density\", \"ground_truth_volume_large\": 98.2, \"calculated_volume_large\": 114.8220824, \"ground_truth_volume_medium\": 21.2, \"calculated_volume_medium\": 27.91678788, \"ground_truth_volume_small\": 0.8, \"calculated_volume_small\": 0.649968591, \"ground_truth_mass_large\": 19.6, \"calculated_mass_large\": 22.96441649, \"ground_truth_mass_medium\": 4.2, \"calculated_mass_medium\": 5.583357575, \"ground_truth_mass_small\": 0.2, \"calculated_mass_small\": 0.129993718, \"Rep\": \"80kV\"}, {\"inserts\": \"Medium Density\", \"ground_truth_volume_large\": 98.2, \"calculated_volume_large\": 123.5416525, \"ground_truth_volume_medium\": 21.2, \"calculated_volume_medium\": 25.38172804, \"ground_truth_volume_small\": 0.8, \"calculated_volume_small\": 0.401995349, \"ground_truth_mass_large\": 39.3, \"calculated_mass_large\": 49.416661, \"ground_truth_mass_medium\": 8.5, \"calculated_mass_medium\": 10.15269121, \"ground_truth_mass_small\": 0.3, \"calculated_mass_small\": 0.16079814, \"Rep\": \"80kV\"}, {\"inserts\": \"High Density\", \"ground_truth_volume_large\": 98.2, \"calculated_volume_large\": 116.359179, \"ground_truth_volume_medium\": 21.2, \"calculated_volume_medium\": 26.92946951, \"ground_truth_volume_small\": 0.8, \"calculated_volume_small\": 0.985885793, \"ground_truth_mass_large\": 78.5, \"calculated_mass_large\": 93.08734323, \"ground_truth_mass_medium\": 17.0, \"calculated_mass_medium\": 21.54357561, \"ground_truth_mass_small\": 0.6, \"calculated_mass_small\": 0.788708634, \"Rep\": \"80kV\"}, {\"inserts\": \"Low Density\", \"ground_truth_volume_large\": 98.2, \"calculated_volume_large\": 115.2724217, \"ground_truth_volume_medium\": 21.2, \"calculated_volume_medium\": 31.76787738, \"ground_truth_volume_small\": 0.8, \"calculated_volume_small\": 0.0, \"ground_truth_mass_large\": 19.6, \"calculated_mass_large\": 23.05448433, \"ground_truth_mass_medium\": 4.2, \"calculated_mass_medium\": 6.353575475, \"ground_truth_mass_small\": 0.2, \"calculated_mass_small\": 0.0, \"Rep\": \"100kV\"}, {\"inserts\": \"Medium Density\", \"ground_truth_volume_large\": 98.2, \"calculated_volume_large\": 116.6348697, \"ground_truth_volume_medium\": 21.2, \"calculated_volume_medium\": 27.24442456, \"ground_truth_volume_small\": 0.8, \"calculated_volume_small\": 0.377144957, \"ground_truth_mass_large\": 39.3, \"calculated_mass_large\": 46.6539479, \"ground_truth_mass_medium\": 8.5, \"calculated_mass_medium\": 10.89776983, \"ground_truth_mass_small\": 0.3, \"calculated_mass_small\": 0.150857983, \"Rep\": \"100kV\"}, {\"inserts\": \"High Density\", \"ground_truth_volume_large\": 98.2, \"calculated_volume_large\": 119.4068673, \"ground_truth_volume_medium\": 21.2, \"calculated_volume_medium\": 27.78635353, \"ground_truth_volume_small\": 0.8, \"calculated_volume_small\": 0.553615593, \"ground_truth_mass_large\": 78.5, \"calculated_mass_large\": 95.52549385, \"ground_truth_mass_medium\": 17.0, \"calculated_mass_medium\": 22.22908282, \"ground_truth_mass_small\": 0.6, \"calculated_mass_small\": 0.442892474, \"Rep\": \"100kV\"}, {\"inserts\": \"Low Density\", \"ground_truth_volume_large\": 98.2, \"calculated_volume_large\": 117.1446603, \"ground_truth_volume_medium\": 21.2, \"calculated_volume_medium\": 29.87131323, \"ground_truth_volume_small\": 0.8, \"calculated_volume_small\": 0.658755, \"ground_truth_mass_large\": 19.6, \"calculated_mass_large\": 23.42893206, \"ground_truth_mass_medium\": 4.2, \"calculated_mass_medium\": 5.974262646, \"ground_truth_mass_small\": 0.2, \"calculated_mass_small\": 0.131751, \"Rep\": \"FOV200\"}, {\"inserts\": \"Medium Density\", \"ground_truth_volume_large\": 98.2, \"calculated_volume_large\": 116.9974562, \"ground_truth_volume_medium\": 21.2, \"calculated_volume_medium\": 20.52287938, \"ground_truth_volume_small\": 0.8, \"calculated_volume_small\": 0.867536391, \"ground_truth_mass_large\": 39.3, \"calculated_mass_large\": 46.79898247, \"ground_truth_mass_medium\": 8.5, \"calculated_mass_medium\": 8.209151753, \"ground_truth_mass_small\": 0.3, \"calculated_mass_small\": 0.347014557, \"Rep\": \"FOV200\"}, {\"inserts\": \"High Density\", \"ground_truth_volume_large\": 98.2, \"calculated_volume_large\": 113.5929609, \"ground_truth_volume_medium\": 21.2, \"calculated_volume_medium\": 23.70880836, \"ground_truth_volume_small\": 0.8, \"calculated_volume_small\": 0.895015228, \"ground_truth_mass_large\": 78.5, \"calculated_mass_large\": 90.87436875, \"ground_truth_mass_medium\": 17.0, \"calculated_mass_medium\": 18.96704669, \"ground_truth_mass_small\": 0.6, \"calculated_mass_small\": 0.716012183, \"Rep\": \"FOV200\"}, {\"inserts\": \"Low Density\", \"ground_truth_volume_large\": 98.2, \"calculated_volume_large\": 115.300355, \"ground_truth_volume_medium\": 21.2, \"calculated_volume_medium\": 22.41811887, \"ground_truth_volume_small\": 0.8, \"calculated_volume_small\": 0.255969359, \"ground_truth_mass_large\": 19.6, \"calculated_mass_large\": 23.06007099, \"ground_truth_mass_medium\": 4.2, \"calculated_mass_medium\": 4.483623774, \"ground_truth_mass_small\": 0.2, \"calculated_mass_small\": 0.051193872, \"Rep\": \"FOV320\"}, {\"inserts\": \"Medium Density\", \"ground_truth_volume_large\": 98.2, \"calculated_volume_large\": 108.5041025, \"ground_truth_volume_medium\": 21.2, \"calculated_volume_medium\": 25.18136417, \"ground_truth_volume_small\": 0.8, \"calculated_volume_small\": 0.360536148, \"ground_truth_mass_large\": 39.3, \"calculated_mass_large\": 43.40164099, \"ground_truth_mass_medium\": 8.5, \"calculated_mass_medium\": 10.07254567, \"ground_truth_mass_small\": 0.3, \"calculated_mass_small\": 0.144214459, \"Rep\": \"FOV320\"}, {\"inserts\": \"High Density\", \"ground_truth_volume_large\": 98.2, \"calculated_volume_large\": 116.0014434, \"ground_truth_volume_medium\": 21.2, \"calculated_volume_medium\": 25.45131068, \"ground_truth_volume_small\": 0.8, \"calculated_volume_small\": 0.822850049, \"ground_truth_mass_large\": 78.5, \"calculated_mass_large\": 92.80115468, \"ground_truth_mass_medium\": 17.0, \"calculated_mass_medium\": 20.36104855, \"ground_truth_mass_small\": 0.6, \"calculated_mass_small\": 0.658280039, \"Rep\": \"FOV320\"}, {\"inserts\": \"Low Density\", \"ground_truth_volume_large\": 98.2, \"calculated_volume_large\": 118.7302047, \"ground_truth_volume_medium\": 21.2, \"calculated_volume_medium\": 32.02875537, \"ground_truth_volume_small\": 0.8, \"calculated_volume_small\": 0.464620922, \"ground_truth_mass_large\": 19.6, \"calculated_mass_large\": 23.74604094, \"ground_truth_mass_medium\": 4.2, \"calculated_mass_medium\": 6.405751073, \"ground_truth_mass_small\": 0.2, \"calculated_mass_small\": 0.092924184, \"Rep\": \"IR2\"}, {\"inserts\": \"Medium Density\", \"ground_truth_volume_large\": 98.2, \"calculated_volume_large\": 111.5320087, \"ground_truth_volume_medium\": 21.2, \"calculated_volume_medium\": 23.09884159, \"ground_truth_volume_small\": 0.8, \"calculated_volume_small\": 1.350895617, \"ground_truth_mass_large\": 39.3, \"calculated_mass_large\": 44.61280349, \"ground_truth_mass_medium\": 8.5, \"calculated_mass_medium\": 9.239536637, \"ground_truth_mass_small\": 0.3, \"calculated_mass_small\": 0.540358247, \"Rep\": \"IR2\"}, {\"inserts\": \"High Density\", \"ground_truth_volume_large\": 98.2, \"calculated_volume_large\": 118.0513295, \"ground_truth_volume_medium\": 21.2, \"calculated_volume_medium\": 24.86693611, \"ground_truth_volume_small\": 0.8, \"calculated_volume_small\": 1.216023075, \"ground_truth_mass_large\": 78.5, \"calculated_mass_large\": 94.44106357, \"ground_truth_mass_medium\": 17.0, \"calculated_mass_medium\": 19.89354889, \"ground_truth_mass_small\": 0.6, \"calculated_mass_small\": 0.97281846, \"Rep\": \"IR2\"}, {\"inserts\": \"Low Density\", \"ground_truth_volume_large\": 98.2, \"calculated_volume_large\": 116.6090428, \"ground_truth_volume_medium\": 21.2, \"calculated_volume_medium\": 29.32243809, \"ground_truth_volume_small\": 0.8, \"calculated_volume_small\": 0.871405456, \"ground_truth_mass_large\": 19.6, \"calculated_mass_large\": 23.32180857, \"ground_truth_mass_medium\": 4.2, \"calculated_mass_medium\": 5.864487619, \"ground_truth_mass_small\": 0.2, \"calculated_mass_small\": 0.174281091, \"Rep\": \"IR4\"}, {\"inserts\": \"Medium Density\", \"ground_truth_volume_large\": 98.2, \"calculated_volume_large\": 110.1405223, \"ground_truth_volume_medium\": 21.2, \"calculated_volume_medium\": 21.94446571, \"ground_truth_volume_small\": 0.8, \"calculated_volume_small\": 1.245116477, \"ground_truth_mass_large\": 39.3, \"calculated_mass_large\": 44.05620893, \"ground_truth_mass_medium\": 8.5, \"calculated_mass_medium\": 8.777786284, \"ground_truth_mass_small\": 0.3, \"calculated_mass_small\": 0.498046591, \"Rep\": \"IR4\"}, {\"inserts\": \"High Density\", \"ground_truth_volume_large\": 98.2, \"calculated_volume_large\": 115.9132356, \"ground_truth_volume_medium\": 21.2, \"calculated_volume_medium\": 23.65682697, \"ground_truth_volume_small\": 0.8, \"calculated_volume_small\": 1.057099924, \"ground_truth_mass_large\": 78.5, \"calculated_mass_large\": 92.7305885, \"ground_truth_mass_medium\": 17.0, \"calculated_mass_medium\": 18.92546158, \"ground_truth_mass_small\": 0.6, \"calculated_mass_small\": 0.845679939, \"Rep\": \"IR4\"}, {\"inserts\": \"Low Density\", \"ground_truth_volume_large\": 98.2, \"calculated_volume_large\": 121.414234, \"ground_truth_volume_medium\": 21.2, \"calculated_volume_medium\": 32.39918423, \"ground_truth_volume_small\": 0.8, \"calculated_volume_small\": 0.42870388, \"ground_truth_mass_large\": 19.6, \"calculated_mass_large\": 24.2828468, \"ground_truth_mass_medium\": 4.2, \"calculated_mass_medium\": 6.479836847, \"ground_truth_mass_small\": 0.2, \"calculated_mass_small\": 0.085740776, \"Rep\": \"Qr32\"}, {\"inserts\": \"Medium Density\", \"ground_truth_volume_large\": 98.2, \"calculated_volume_large\": 114.0482485, \"ground_truth_volume_medium\": 21.2, \"calculated_volume_medium\": 23.68173619, \"ground_truth_volume_small\": 0.8, \"calculated_volume_small\": 1.283057606, \"ground_truth_mass_large\": 39.3, \"calculated_mass_large\": 45.6192994, \"ground_truth_mass_medium\": 8.5, \"calculated_mass_medium\": 9.472694475, \"ground_truth_mass_small\": 0.3, \"calculated_mass_small\": 0.513223042, \"Rep\": \"Qr32\"}, {\"inserts\": \"High Density\", \"ground_truth_volume_large\": 98.2, \"calculated_volume_large\": 119.1283928, \"ground_truth_volume_medium\": 21.2, \"calculated_volume_medium\": 25.3446841, \"ground_truth_volume_small\": 0.8, \"calculated_volume_small\": 1.114418601, \"ground_truth_mass_large\": 78.5, \"calculated_mass_large\": 95.30271423, \"ground_truth_mass_medium\": 17.0, \"calculated_mass_medium\": 20.27574728, \"ground_truth_mass_small\": 0.6, \"calculated_mass_small\": 0.891534881, \"Rep\": \"Qr32\"}, {\"inserts\": \"Low Density\", \"ground_truth_volume_large\": 98.2, \"calculated_volume_large\": 117.8333272, \"ground_truth_volume_medium\": 21.2, \"calculated_volume_medium\": 32.88709426, \"ground_truth_volume_small\": 0.8, \"calculated_volume_small\": 1.500141441, \"ground_truth_mass_large\": 19.6, \"calculated_mass_large\": 23.56666544, \"ground_truth_mass_medium\": 4.2, \"calculated_mass_medium\": 6.577418852, \"ground_truth_mass_small\": 0.2, \"calculated_mass_small\": 0.300028288, \"Rep\": \"Qr44\"}, {\"inserts\": \"Medium Density\", \"ground_truth_volume_large\": 98.2, \"calculated_volume_large\": 111.7824649, \"ground_truth_volume_medium\": 21.2, \"calculated_volume_medium\": 25.41652926, \"ground_truth_volume_small\": 0.8, \"calculated_volume_small\": 1.658125746, \"ground_truth_mass_large\": 39.3, \"calculated_mass_large\": 44.71298598, \"ground_truth_mass_medium\": 8.5, \"calculated_mass_medium\": 10.16661171, \"ground_truth_mass_small\": 0.3, \"calculated_mass_small\": 0.663250298, \"Rep\": \"Qr44\"}, {\"inserts\": \"High Density\", \"ground_truth_volume_large\": 98.2, \"calculated_volume_large\": 119.5140981, \"ground_truth_volume_medium\": 21.2, \"calculated_volume_medium\": 28.22843573, \"ground_truth_volume_small\": 0.8, \"calculated_volume_small\": 1.372622519, \"ground_truth_mass_large\": 78.5, \"calculated_mass_large\": 95.61127848, \"ground_truth_mass_medium\": 17.0, \"calculated_mass_medium\": 22.58274859, \"ground_truth_mass_small\": 0.6, \"calculated_mass_small\": 1.098098015, \"Rep\": \"Qr44\"}]}}, {\"mode\": \"vega-lite\"});\n</script>",
      "text/plain": "alt.HConcatChart(...)"
     },
     "metadata": {}
    }
   ],
   "execution_count": 155
  },
  {
   "cell_type": "markdown",
   "source": "### Mass Score: Medium Inserts",
   "metadata": {
    "cell_id": "68291472-0fa0-44f9-8719-16432f54884a",
    "tags": [],
    "is_collapsed": false,
    "deepnote_cell_type": "text-cell-h3"
   }
  },
  {
   "cell_type": "code",
   "source": "X_Add2_M = Add2.ground_truth_mass_medium.to_numpy().reshape(-1,1)\ny_Add2_M = Add2.calculated_mass_medium.to_numpy().reshape(-1,1)\nreg_Add2_M = LinearRegression().fit(X_Add2_M,y_Add2_M)\nAdd2_scoreM = reg_Add2_M.score(X_Add2_M,y_Add2_M)\nAdd2_scoreM",
   "metadata": {
    "cell_id": "3a99b4a3-7a8b-4478-a442-3a5af66314f7",
    "tags": [],
    "deepnote_to_be_reexecuted": false,
    "source_hash": "ddd2e769",
    "execution_start": 1643837017180,
    "execution_millis": 401,
    "deepnote_output_heights": [
     21.1875
    ],
    "deepnote_cell_type": "code"
   },
   "outputs": [
    {
     "output_type": "execute_result",
     "execution_count": 157,
     "data": {
      "text/plain": "0.960587011007029"
     },
     "metadata": {}
    }
   ],
   "execution_count": 157
  },
  {
   "cell_type": "code",
   "source": "c2M,d2M = [reg_Add2_M.coef_[0,0],reg_Add2_M.intercept_[0]]\nprint(\"y = {} x + {}\".format(str(c2M),str(d2M)))",
   "metadata": {
    "cell_id": "005a24e7-0a94-4036-a5f8-d3f691adffa3",
    "tags": [],
    "deepnote_to_be_reexecuted": false,
    "source_hash": "f2945aab",
    "execution_start": 1643837035964,
    "execution_millis": 1,
    "deepnote_cell_type": "code"
   },
   "outputs": [
    {
     "name": "stdout",
     "text": "y = 0.9008955436326498 x + 0.5562641136478792\n",
     "output_type": "stream"
    }
   ],
   "execution_count": 158
  },
  {
   "cell_type": "code",
   "source": "X_Add3_M = Add3.ground_truth_mass_medium.to_numpy().reshape(-1,1)\ny_Add3_M = Add3.calculated_mass_medium.to_numpy().reshape(-1,1)\nreg_Add3_M = LinearRegression().fit(X_Add3_M,y_Add3_M)\nAdd3_scoreM = reg_Add3_M.score(X_Add3_M,y_Add3_M)\nAdd3_scoreM",
   "metadata": {
    "cell_id": "a1474f71-541e-40b4-9c2b-0f4300519876",
    "tags": [],
    "deepnote_to_be_reexecuted": false,
    "source_hash": "42d2aa24",
    "execution_start": 1643837242043,
    "execution_millis": 3,
    "deepnote_output_heights": [
     21.1875
    ],
    "deepnote_cell_type": "code"
   },
   "outputs": [
    {
     "output_type": "execute_result",
     "execution_count": 167,
     "data": {
      "text/plain": "0.9497077409317728"
     },
     "metadata": {}
    }
   ],
   "execution_count": 167
  },
  {
   "cell_type": "code",
   "source": "c3M,d3M = [reg_Add3_M.coef_[0,0],reg_Add3_M.intercept_[0]]\nprint(\"y = {} x + {}\".format(str(c3M),str(d3M)))",
   "metadata": {
    "cell_id": "117ab401-1e99-4a69-9766-656ca0614b83",
    "tags": [],
    "deepnote_to_be_reexecuted": false,
    "source_hash": "6c1a91e3",
    "execution_start": 1643837244669,
    "execution_millis": 15,
    "deepnote_cell_type": "code"
   },
   "outputs": [
    {
     "name": "stdout",
     "text": "y = 1.1311905710734347 x + 0.4669739021785535\n",
     "output_type": "stream"
    }
   ],
   "execution_count": 168
  },
  {
   "cell_type": "code",
   "source": "Add_true.append(X_Add2_M)\nAdd_pred.append(y_Add2_M)\nAdd_true.append(X_Add3_M)\nAdd_pred.append(y_Add3_M)",
   "metadata": {
    "cell_id": "db27df93-e8a7-4fe9-b649-b6878f1e7410",
    "tags": [],
    "deepnote_to_be_reexecuted": false,
    "source_hash": "cc5df43f",
    "execution_start": 1643837853921,
    "execution_millis": 8,
    "deepnote_cell_type": "code"
   },
   "outputs": [],
   "execution_count": 184
  },
  {
   "cell_type": "code",
   "source": "Add2_med = chart_plot_medium(Add2)\nAdd3_med = chart_plot_medium(Add3)\nAdd2_med | Add3_med",
   "metadata": {
    "cell_id": "1a05cc64-fbe7-49f6-b522-9a66bbf9262d",
    "tags": [],
    "deepnote_to_be_reexecuted": false,
    "source_hash": "4df11421",
    "execution_start": 1643837165998,
    "execution_millis": 230,
    "deepnote_output_heights": [
     363
    ],
    "deepnote_cell_type": "code"
   },
   "outputs": [
    {
     "output_type": "execute_result",
     "execution_count": 163,
     "data": {
      "text/html": "\n<div id=\"altair-viz-d66ee6d719d6478795000fcc7549f93a\"></div>\n<script type=\"text/javascript\">\n  (function(spec, embedOpt){\n    let outputDiv = document.currentScript.previousElementSibling;\n    if (outputDiv.id !== \"altair-viz-d66ee6d719d6478795000fcc7549f93a\") {\n      outputDiv = document.getElementById(\"altair-viz-d66ee6d719d6478795000fcc7549f93a\");\n    }\n    const paths = {\n      \"vega\": \"https://cdn.jsdelivr.net/npm//vega@5?noext\",\n      \"vega-lib\": \"https://cdn.jsdelivr.net/npm//vega-lib?noext\",\n      \"vega-lite\": \"https://cdn.jsdelivr.net/npm//vega-lite@4.8.1?noext\",\n      \"vega-embed\": \"https://cdn.jsdelivr.net/npm//vega-embed@6?noext\",\n    };\n\n    function loadScript(lib) {\n      return new Promise(function(resolve, reject) {\n        var s = document.createElement('script');\n        s.src = paths[lib];\n        s.async = true;\n        s.onload = () => resolve(paths[lib]);\n        s.onerror = () => reject(`Error loading script: ${paths[lib]}`);\n        document.getElementsByTagName(\"head\")[0].appendChild(s);\n      });\n    }\n\n    function showError(err) {\n      outputDiv.innerHTML = `<div class=\"error\" style=\"color:red;\">${err}</div>`;\n      throw err;\n    }\n\n    function displayChart(vegaEmbed) {\n      vegaEmbed(outputDiv, spec, embedOpt)\n        .catch(err => showError(`Javascript Error: ${err.message}<br>This usually means there's a typo in your chart specification. See the javascript console for the full traceback.`));\n    }\n\n    if(typeof define === \"function\" && define.amd) {\n      requirejs.config({paths});\n      require([\"vega-embed\"], displayChart, err => showError(`Error loading script: ${err.message}`));\n    } else if (typeof vegaEmbed === \"function\") {\n      displayChart(vegaEmbed);\n    } else {\n      loadScript(\"vega\")\n        .then(() => loadScript(\"vega-lite\"))\n        .then(() => loadScript(\"vega-embed\"))\n        .catch(showError)\n        .then(() => displayChart(vegaEmbed));\n    }\n  })({\"config\": {\"view\": {\"continuousWidth\": 400, \"continuousHeight\": 300}}, \"hconcat\": [{\"layer\": [{\"mark\": \"circle\", \"encoding\": {\"color\": {\"type\": \"nominal\", \"field\": \"Rep\"}, \"tooltip\": [{\"type\": \"quantitative\", \"field\": \"ground_truth_volume_medium\"}, {\"type\": \"quantitative\", \"field\": \"calculated_volume_medium\"}, {\"type\": \"nominal\", \"field\": \"Rep\"}], \"x\": {\"type\": \"quantitative\", \"field\": \"ground_truth_mass_medium\"}, \"y\": {\"type\": \"quantitative\", \"field\": \"calculated_mass_medium\"}}}, {\"mark\": \"line\", \"encoding\": {\"color\": {\"type\": \"nominal\", \"field\": \"Rep\"}, \"tooltip\": [{\"type\": \"quantitative\", \"field\": \"ground_truth_volume_medium\"}, {\"type\": \"quantitative\", \"field\": \"calculated_volume_medium\"}, {\"type\": \"nominal\", \"field\": \"Rep\"}], \"x\": {\"type\": \"quantitative\", \"field\": \"ground_truth_mass_medium\"}, \"y\": {\"type\": \"quantitative\", \"field\": \"calculated_mass_medium\"}}, \"transform\": [{\"on\": \"ground_truth_mass_medium\", \"regression\": \"calculated_mass_medium\", \"method\": \"linear\"}]}, {\"mark\": {\"type\": \"line\", \"color\": \"red\"}, \"encoding\": {\"x\": {\"type\": \"quantitative\", \"field\": \"ground_truth_mass_medium\"}, \"y\": {\"type\": \"quantitative\", \"field\": \"ground_truth_mass_medium\"}}}], \"data\": {\"name\": \"data-5332171a26e1e30da3b03c58c76a5950\"}}, {\"layer\": [{\"mark\": \"circle\", \"encoding\": {\"color\": {\"type\": \"nominal\", \"field\": \"Rep\"}, \"tooltip\": [{\"type\": \"quantitative\", \"field\": \"ground_truth_volume_medium\"}, {\"type\": \"quantitative\", \"field\": \"calculated_volume_medium\"}, {\"type\": \"nominal\", \"field\": \"Rep\"}], \"x\": {\"type\": \"quantitative\", \"field\": \"ground_truth_mass_medium\"}, \"y\": {\"type\": \"quantitative\", \"field\": \"calculated_mass_medium\"}}}, {\"mark\": \"line\", \"encoding\": {\"color\": {\"type\": \"nominal\", \"field\": \"Rep\"}, \"tooltip\": [{\"type\": \"quantitative\", \"field\": \"ground_truth_volume_medium\"}, {\"type\": \"quantitative\", \"field\": \"calculated_volume_medium\"}, {\"type\": \"nominal\", \"field\": \"Rep\"}], \"x\": {\"type\": \"quantitative\", \"field\": \"ground_truth_mass_medium\"}, \"y\": {\"type\": \"quantitative\", \"field\": \"calculated_mass_medium\"}}, \"transform\": [{\"on\": \"ground_truth_mass_medium\", \"regression\": \"calculated_mass_medium\", \"method\": \"linear\"}]}, {\"mark\": {\"type\": \"line\", \"color\": \"red\"}, \"encoding\": {\"x\": {\"type\": \"quantitative\", \"field\": \"ground_truth_mass_medium\"}, \"y\": {\"type\": \"quantitative\", \"field\": \"ground_truth_mass_medium\"}}}], \"data\": {\"name\": \"data-168629110cd23a158fa7e758d1d5cea8\"}}], \"$schema\": \"https://vega.github.io/schema/vega-lite/v4.8.1.json\", \"datasets\": {\"data-5332171a26e1e30da3b03c58c76a5950\": [{\"inserts\": \"Low Density\", \"ground_truth_volume_large\": 98.2, \"calculated_volume_large\": 90.20585537, \"ground_truth_volume_medium\": 21.2, \"calculated_volume_medium\": 22.73042541, \"ground_truth_volume_small\": 0.8, \"calculated_volume_small\": 0.334860806, \"ground_truth_mass_large\": 19.6, \"calculated_mass_large\": 18.04117107, \"ground_truth_mass_medium\": 4.2, \"calculated_mass_medium\": 4.546085081, \"ground_truth_mass_small\": 0.2, \"calculated_mass_small\": 0.066972161, \"Rep\": \"1mm\"}, {\"inserts\": \"Medium Density\", \"ground_truth_volume_large\": 98.2, \"calculated_volume_large\": 87.87848832, \"ground_truth_volume_medium\": 21.2, \"calculated_volume_medium\": 19.88935173, \"ground_truth_volume_small\": 0.8, \"calculated_volume_small\": 0.52784807, \"ground_truth_mass_large\": 39.3, \"calculated_mass_large\": 35.15139533, \"ground_truth_mass_medium\": 8.5, \"calculated_mass_medium\": 7.955740693, \"ground_truth_mass_small\": 0.3, \"calculated_mass_small\": 0.211139228, \"Rep\": \"1mm\"}, {\"inserts\": \"High Density\", \"ground_truth_volume_large\": 98.2, \"calculated_volume_large\": 86.14648812, \"ground_truth_volume_medium\": 21.2, \"calculated_volume_medium\": 20.67053428, \"ground_truth_volume_small\": 0.8, \"calculated_volume_small\": 0.815695939, \"ground_truth_mass_large\": 78.5, \"calculated_mass_large\": 68.9171905, \"ground_truth_mass_medium\": 17.0, \"calculated_mass_medium\": 16.53642742, \"ground_truth_mass_small\": 0.6, \"calculated_mass_small\": 0.652556751, \"Rep\": \"1mm\"}, {\"inserts\": \"Low Density\", \"ground_truth_volume_large\": 98.2, \"calculated_volume_large\": 98.30085954, \"ground_truth_volume_medium\": 21.2, \"calculated_volume_medium\": 27.0388283, \"ground_truth_volume_small\": 0.8, \"calculated_volume_small\": 0.190878164, \"ground_truth_mass_large\": 19.6, \"calculated_mass_large\": 19.66017191, \"ground_truth_mass_medium\": 4.2, \"calculated_mass_medium\": 5.407765659, \"ground_truth_mass_small\": 0.2, \"calculated_mass_small\": 0.038175633, \"Rep\": \"2mm\"}, {\"inserts\": \"Medium Density\", \"ground_truth_volume_large\": 98.2, \"calculated_volume_large\": 93.89171689, \"ground_truth_volume_medium\": 21.2, \"calculated_volume_medium\": 19.27041713, \"ground_truth_volume_small\": 0.8, \"calculated_volume_small\": 0.937248857, \"ground_truth_mass_large\": 39.3, \"calculated_mass_large\": 37.55668676, \"ground_truth_mass_medium\": 8.5, \"calculated_mass_medium\": 7.708166854, \"ground_truth_mass_small\": 0.3, \"calculated_mass_small\": 0.374899543, \"Rep\": \"2mm\"}, {\"inserts\": \"High Density\", \"ground_truth_volume_large\": 98.2, \"calculated_volume_large\": 93.15881318, \"ground_truth_volume_medium\": 21.2, \"calculated_volume_medium\": 20.828385, \"ground_truth_volume_small\": 0.8, \"calculated_volume_small\": 0.83825846, \"ground_truth_mass_large\": 78.5, \"calculated_mass_large\": 74.52705054, \"ground_truth_mass_medium\": 17.0, \"calculated_mass_medium\": 16.662708, \"ground_truth_mass_small\": 0.6, \"calculated_mass_small\": 0.670606768, \"Rep\": \"2mm\"}, {\"inserts\": \"Low Density\", \"ground_truth_volume_large\": 98.2, \"calculated_volume_large\": 99.74603055, \"ground_truth_volume_medium\": 21.2, \"calculated_volume_medium\": 27.45132971, \"ground_truth_volume_small\": 0.8, \"calculated_volume_small\": 0.012795403, \"ground_truth_mass_large\": 19.6, \"calculated_mass_large\": 19.94920611, \"ground_truth_mass_medium\": 4.2, \"calculated_mass_medium\": 5.490265942, \"ground_truth_mass_small\": 0.2, \"calculated_mass_small\": 0.002559081, \"Rep\": \"22mAs\"}, {\"inserts\": \"Medium Density\", \"ground_truth_volume_large\": 98.2, \"calculated_volume_large\": 93.63222839, \"ground_truth_volume_medium\": 21.2, \"calculated_volume_medium\": 17.26774695, \"ground_truth_volume_small\": 0.8, \"calculated_volume_small\": 0.903350373, \"ground_truth_mass_large\": 39.3, \"calculated_mass_large\": 37.45289135, \"ground_truth_mass_medium\": 8.5, \"calculated_mass_medium\": 6.907098779, \"ground_truth_mass_small\": 0.3, \"calculated_mass_small\": 0.361340149, \"Rep\": \"22mAs\"}, {\"inserts\": \"High Density\", \"ground_truth_volume_large\": 98.2, \"calculated_volume_large\": 93.5545313, \"ground_truth_volume_medium\": 21.2, \"calculated_volume_medium\": 17.64701662, \"ground_truth_volume_small\": 0.8, \"calculated_volume_small\": 1.215751336, \"ground_truth_mass_large\": 78.5, \"calculated_mass_large\": 74.84362504, \"ground_truth_mass_medium\": 17.0, \"calculated_mass_medium\": 14.1176133, \"ground_truth_mass_small\": 0.6, \"calculated_mass_small\": 0.972601069, \"Rep\": \"22mAs\"}, {\"inserts\": \"Low Density\", \"ground_truth_volume_large\": 98.2, \"calculated_volume_large\": 101.3748387, \"ground_truth_volume_medium\": 21.2, \"calculated_volume_medium\": 14.9494636, \"ground_truth_volume_small\": 0.8, \"calculated_volume_small\": 0.0, \"ground_truth_mass_large\": 19.6, \"calculated_mass_large\": 20.27496774, \"ground_truth_mass_medium\": 4.2, \"calculated_mass_medium\": 2.98989272, \"ground_truth_mass_small\": 0.2, \"calculated_mass_small\": 0.0, \"Rep\": \"34mAs\"}, {\"inserts\": \"Medium Density\", \"ground_truth_volume_large\": 98.2, \"calculated_volume_large\": 99.99056952, \"ground_truth_volume_medium\": 21.2, \"calculated_volume_medium\": 19.50310021, \"ground_truth_volume_small\": 0.8, \"calculated_volume_small\": 0.933105915, \"ground_truth_mass_large\": 39.3, \"calculated_mass_large\": 39.99622781, \"ground_truth_mass_medium\": 8.5, \"calculated_mass_medium\": 7.801240083, \"ground_truth_mass_small\": 0.3, \"calculated_mass_small\": 0.373242366, \"Rep\": \"34mAs\"}, {\"inserts\": \"High Density\", \"ground_truth_volume_large\": 98.2, \"calculated_volume_large\": 93.15593848, \"ground_truth_volume_medium\": 21.2, \"calculated_volume_medium\": 21.34357478, \"ground_truth_volume_small\": 0.8, \"calculated_volume_small\": 0.478369447, \"ground_truth_mass_large\": 78.5, \"calculated_mass_large\": 74.52475078, \"ground_truth_mass_medium\": 17.0, \"calculated_mass_medium\": 17.07485982, \"ground_truth_mass_small\": 0.6, \"calculated_mass_small\": 0.382695557, \"Rep\": \"34mAs\"}, {\"inserts\": \"Low Density\", \"ground_truth_volume_large\": 98.2, \"calculated_volume_large\": 96.21974186, \"ground_truth_volume_medium\": 21.2, \"calculated_volume_medium\": 23.38720142, \"ground_truth_volume_small\": 0.8, \"calculated_volume_small\": 0.512265669, \"ground_truth_mass_large\": 19.6, \"calculated_mass_large\": 19.24394837, \"ground_truth_mass_medium\": 4.2, \"calculated_mass_medium\": 4.677440284, \"ground_truth_mass_small\": 0.2, \"calculated_mass_small\": 0.102453134, \"Rep\": \"80kV\"}, {\"inserts\": \"Medium Density\", \"ground_truth_volume_large\": 98.2, \"calculated_volume_large\": 99.39214731, \"ground_truth_volume_medium\": 21.2, \"calculated_volume_medium\": 20.38283701, \"ground_truth_volume_small\": 0.8, \"calculated_volume_small\": 0.316172831, \"ground_truth_mass_large\": 39.3, \"calculated_mass_large\": 39.75685892, \"ground_truth_mass_medium\": 8.5, \"calculated_mass_medium\": 8.153134802, \"ground_truth_mass_small\": 0.3, \"calculated_mass_small\": 0.126469133, \"Rep\": \"80kV\"}, {\"inserts\": \"High Density\", \"ground_truth_volume_large\": 98.2, \"calculated_volume_large\": 91.49689907, \"ground_truth_volume_medium\": 21.2, \"calculated_volume_medium\": 21.20505856, \"ground_truth_volume_small\": 0.8, \"calculated_volume_small\": 0.775831533, \"ground_truth_mass_large\": 78.5, \"calculated_mass_large\": 73.19751926, \"ground_truth_mass_medium\": 17.0, \"calculated_mass_medium\": 16.96404685, \"ground_truth_mass_small\": 0.6, \"calculated_mass_small\": 0.620665227, \"Rep\": \"80kV\"}, {\"inserts\": \"Low Density\", \"ground_truth_volume_large\": 98.2, \"calculated_volume_large\": 92.76070783, \"ground_truth_volume_medium\": 21.2, \"calculated_volume_medium\": 25.69021799, \"ground_truth_volume_small\": 0.8, \"calculated_volume_small\": 0.0, \"ground_truth_mass_large\": 19.6, \"calculated_mass_large\": 18.55214157, \"ground_truth_mass_medium\": 4.2, \"calculated_mass_medium\": 5.138043598, \"ground_truth_mass_small\": 0.2, \"calculated_mass_small\": 0.0, \"Rep\": \"100kV\"}, {\"inserts\": \"Medium Density\", \"ground_truth_volume_large\": 98.2, \"calculated_volume_large\": 91.98982369, \"ground_truth_volume_medium\": 21.2, \"calculated_volume_medium\": 21.53094472, \"ground_truth_volume_small\": 0.8, \"calculated_volume_small\": 0.29477222, \"ground_truth_mass_large\": 39.3, \"calculated_mass_large\": 36.79592947, \"ground_truth_mass_medium\": 8.5, \"calculated_mass_medium\": 8.612377888, \"ground_truth_mass_small\": 0.3, \"calculated_mass_small\": 0.117908888, \"Rep\": \"100kV\"}, {\"inserts\": \"High Density\", \"ground_truth_volume_large\": 98.2, \"calculated_volume_large\": 93.26895666, \"ground_truth_volume_medium\": 21.2, \"calculated_volume_medium\": 21.74581506, \"ground_truth_volume_small\": 0.8, \"calculated_volume_small\": 0.432956711, \"ground_truth_mass_large\": 78.5, \"calculated_mass_large\": 74.61516533, \"ground_truth_mass_medium\": 17.0, \"calculated_mass_medium\": 17.39665205, \"ground_truth_mass_small\": 0.6, \"calculated_mass_small\": 0.346365369, \"Rep\": \"100kV\"}, {\"inserts\": \"Low Density\", \"ground_truth_volume_large\": 98.2, \"calculated_volume_large\": 94.92150251, \"ground_truth_volume_medium\": 21.2, \"calculated_volume_medium\": 24.32702031, \"ground_truth_volume_small\": 0.8, \"calculated_volume_small\": 0.514788312, \"ground_truth_mass_large\": 19.6, \"calculated_mass_large\": 18.9843005, \"ground_truth_mass_medium\": 4.2, \"calculated_mass_medium\": 4.865404061, \"ground_truth_mass_small\": 0.2, \"calculated_mass_small\": 0.102957662, \"Rep\": \"FOV200\"}, {\"inserts\": \"Medium Density\", \"ground_truth_volume_large\": 98.2, \"calculated_volume_large\": 92.44965594, \"ground_truth_volume_medium\": 21.2, \"calculated_volume_medium\": 16.12965367, \"ground_truth_volume_small\": 0.8, \"calculated_volume_small\": 0.678080069, \"ground_truth_mass_large\": 39.3, \"calculated_mass_large\": 36.97986238, \"ground_truth_mass_medium\": 8.5, \"calculated_mass_medium\": 6.451861468, \"ground_truth_mass_small\": 0.3, \"calculated_mass_small\": 0.271232028, \"Rep\": \"FOV200\"}, {\"inserts\": \"High Density\", \"ground_truth_volume_large\": 98.2, \"calculated_volume_large\": 88.56417753, \"ground_truth_volume_medium\": 21.2, \"calculated_volume_medium\": 18.4699248, \"ground_truth_volume_small\": 0.8, \"calculated_volume_small\": 0.698946386, \"ground_truth_mass_large\": 78.5, \"calculated_mass_large\": 70.85134202, \"ground_truth_mass_medium\": 17.0, \"calculated_mass_medium\": 14.77593984, \"ground_truth_mass_small\": 0.6, \"calculated_mass_small\": 0.559157109, \"Rep\": \"FOV200\"}, {\"inserts\": \"Low Density\", \"ground_truth_volume_large\": 98.2, \"calculated_volume_large\": 93.65814507, \"ground_truth_volume_medium\": 21.2, \"calculated_volume_medium\": 18.0987471, \"ground_truth_volume_small\": 0.8, \"calculated_volume_small\": 0.202545277, \"ground_truth_mass_large\": 19.6, \"calculated_mass_large\": 18.73162901, \"ground_truth_mass_medium\": 4.2, \"calculated_mass_medium\": 3.619749419, \"ground_truth_mass_small\": 0.2, \"calculated_mass_small\": 0.040509055, \"Rep\": \"FOV320\"}, {\"inserts\": \"Medium Density\", \"ground_truth_volume_large\": 98.2, \"calculated_volume_large\": 85.9960784, \"ground_truth_volume_medium\": 21.2, \"calculated_volume_medium\": 20.09545354, \"ground_truth_volume_small\": 0.8, \"calculated_volume_small\": 0.285088226, \"ground_truth_mass_large\": 39.3, \"calculated_mass_large\": 34.39843136, \"ground_truth_mass_medium\": 8.5, \"calculated_mass_medium\": 8.038181417, \"ground_truth_mass_small\": 0.3, \"calculated_mass_small\": 0.114035291, \"Rep\": \"FOV320\"}, {\"inserts\": \"High Density\", \"ground_truth_volume_large\": 98.2, \"calculated_volume_large\": 91.7202542, \"ground_truth_volume_medium\": 21.2, \"calculated_volume_medium\": 20.13469544, \"ground_truth_volume_small\": 0.8, \"calculated_volume_small\": 0.650949493, \"ground_truth_mass_large\": 78.5, \"calculated_mass_large\": 73.37620336, \"ground_truth_mass_medium\": 17.0, \"calculated_mass_medium\": 16.10775635, \"ground_truth_mass_small\": 0.6, \"calculated_mass_small\": 0.520759594, \"Rep\": \"FOV320\"}, {\"inserts\": \"Low Density\", \"ground_truth_volume_large\": 98.2, \"calculated_volume_large\": 95.14084166, \"ground_truth_volume_medium\": 21.2, \"calculated_volume_medium\": 25.73877172, \"ground_truth_volume_small\": 0.8, \"calculated_volume_small\": 0.360437874, \"ground_truth_mass_large\": 19.6, \"calculated_mass_large\": 19.02816833, \"ground_truth_mass_medium\": 4.2, \"calculated_mass_medium\": 5.147754345, \"ground_truth_mass_small\": 0.2, \"calculated_mass_small\": 0.072087575, \"Rep\": \"IR2\"}, {\"inserts\": \"Medium Density\", \"ground_truth_volume_large\": 98.2, \"calculated_volume_large\": 86.86318335, \"ground_truth_volume_medium\": 21.2, \"calculated_volume_medium\": 18.04686415, \"ground_truth_volume_small\": 0.8, \"calculated_volume_small\": 1.049247626, \"ground_truth_mass_large\": 39.3, \"calculated_mass_large\": 34.74527334, \"ground_truth_mass_medium\": 8.5, \"calculated_mass_medium\": 7.218745661, \"ground_truth_mass_small\": 0.3, \"calculated_mass_small\": 0.41969905, \"Rep\": \"IR2\"}, {\"inserts\": \"High Density\", \"ground_truth_volume_large\": 98.2, \"calculated_volume_large\": 91.49494568, \"ground_truth_volume_medium\": 21.2, \"calculated_volume_medium\": 19.25301496, \"ground_truth_volume_small\": 0.8, \"calculated_volume_small\": 0.943675415, \"ground_truth_mass_large\": 78.5, \"calculated_mass_large\": 73.19595654, \"ground_truth_mass_medium\": 17.0, \"calculated_mass_medium\": 15.40241197, \"ground_truth_mass_small\": 0.6, \"calculated_mass_small\": 0.754940332, \"Rep\": \"IR2\"}, {\"inserts\": \"Low Density\", \"ground_truth_volume_large\": 98.2, \"calculated_volume_large\": 93.12662631, \"ground_truth_volume_medium\": 21.2, \"calculated_volume_medium\": 23.45026488, \"ground_truth_volume_small\": 0.8, \"calculated_volume_small\": 0.672816468, \"ground_truth_mass_large\": 19.6, \"calculated_mass_large\": 18.62532526, \"ground_truth_mass_medium\": 4.2, \"calculated_mass_medium\": 4.690052977, \"ground_truth_mass_small\": 0.2, \"calculated_mass_small\": 0.134563294, \"Rep\": \"IR4\"}, {\"inserts\": \"Medium Density\", \"ground_truth_volume_large\": 98.2, \"calculated_volume_large\": 85.40538877, \"ground_truth_volume_medium\": 21.2, \"calculated_volume_medium\": 17.07099344, \"ground_truth_volume_small\": 0.8, \"calculated_volume_small\": 0.961750239, \"ground_truth_mass_large\": 39.3, \"calculated_mass_large\": 34.16215551, \"ground_truth_mass_medium\": 8.5, \"calculated_mass_medium\": 6.828397374, \"ground_truth_mass_small\": 0.3, \"calculated_mass_small\": 0.384700096, \"Rep\": \"IR4\"}, {\"inserts\": \"High Density\", \"ground_truth_volume_large\": 98.2, \"calculated_volume_large\": 89.38590825, \"ground_truth_volume_medium\": 21.2, \"calculated_volume_medium\": 18.21852143, \"ground_truth_volume_small\": 0.8, \"calculated_volume_small\": 0.815572968, \"ground_truth_mass_large\": 78.5, \"calculated_mass_large\": 71.5087266, \"ground_truth_mass_medium\": 17.0, \"calculated_mass_medium\": 14.57481715, \"ground_truth_mass_small\": 0.6, \"calculated_mass_small\": 0.652458374, \"Rep\": \"IR4\"}, {\"inserts\": \"Low Density\", \"ground_truth_volume_large\": 98.2, \"calculated_volume_large\": 95.13819688, \"ground_truth_volume_medium\": 21.2, \"calculated_volume_medium\": 25.44858132, \"ground_truth_volume_small\": 0.8, \"calculated_volume_small\": 0.328764032, \"ground_truth_mass_large\": 19.6, \"calculated_mass_large\": 19.02763938, \"ground_truth_mass_medium\": 4.2, \"calculated_mass_medium\": 5.089716264, \"ground_truth_mass_small\": 0.2, \"calculated_mass_small\": 0.065752806, \"Rep\": \"Qr32\"}, {\"inserts\": \"Medium Density\", \"ground_truth_volume_large\": 98.2, \"calculated_volume_large\": 87.50176326, \"ground_truth_volume_medium\": 21.2, \"calculated_volume_medium\": 18.22262426, \"ground_truth_volume_small\": 0.8, \"calculated_volume_small\": 0.984949568, \"ground_truth_mass_large\": 39.3, \"calculated_mass_large\": 35.0007053, \"ground_truth_mass_medium\": 8.5, \"calculated_mass_medium\": 7.289049704, \"ground_truth_mass_small\": 0.3, \"calculated_mass_small\": 0.393979827, \"Rep\": \"Qr32\"}, {\"inserts\": \"High Density\", \"ground_truth_volume_large\": 98.2, \"calculated_volume_large\": 91.19571421, \"ground_truth_volume_medium\": 21.2, \"calculated_volume_medium\": 19.3984003, \"ground_truth_volume_small\": 0.8, \"calculated_volume_small\": 0.854526985, \"ground_truth_mass_large\": 78.5, \"calculated_mass_large\": 72.95657137, \"ground_truth_mass_medium\": 17.0, \"calculated_mass_medium\": 15.51872024, \"ground_truth_mass_small\": 0.6, \"calculated_mass_small\": 0.683621588, \"Rep\": \"Qr32\"}, {\"inserts\": \"Low Density\", \"ground_truth_volume_large\": 98.2, \"calculated_volume_large\": 96.24653575, \"ground_truth_volume_medium\": 21.2, \"calculated_volume_medium\": 27.00723172, \"ground_truth_volume_small\": 0.8, \"calculated_volume_small\": 1.188397059, \"ground_truth_mass_large\": 19.6, \"calculated_mass_large\": 19.24930715, \"ground_truth_mass_medium\": 4.2, \"calculated_mass_medium\": 5.401446344, \"ground_truth_mass_small\": 0.2, \"calculated_mass_small\": 0.237679412, \"Rep\": \"Qr44\"}, {\"inserts\": \"Medium Density\", \"ground_truth_volume_large\": 98.2, \"calculated_volume_large\": 88.70186379, \"ground_truth_volume_medium\": 21.2, \"calculated_volume_medium\": 20.24559649, \"ground_truth_volume_small\": 0.8, \"calculated_volume_small\": 1.313087721, \"ground_truth_mass_large\": 39.3, \"calculated_mass_large\": 35.48074552, \"ground_truth_mass_medium\": 8.5, \"calculated_mass_medium\": 8.098238595, \"ground_truth_mass_small\": 0.3, \"calculated_mass_small\": 0.525235088, \"Rep\": \"Qr44\"}, {\"inserts\": \"High Density\", \"ground_truth_volume_large\": 98.2, \"calculated_volume_large\": 94.32826493, \"ground_truth_volume_medium\": 21.2, \"calculated_volume_medium\": 22.30859605, \"ground_truth_volume_small\": 0.8, \"calculated_volume_small\": 1.084844049, \"ground_truth_mass_large\": 78.5, \"calculated_mass_large\": 75.46261194, \"ground_truth_mass_medium\": 17.0, \"calculated_mass_medium\": 17.84687684, \"ground_truth_mass_small\": 0.6, \"calculated_mass_small\": 0.867875239, \"Rep\": \"Qr44\"}], \"data-168629110cd23a158fa7e758d1d5cea8\": [{\"inserts\": \"Low Density\", \"ground_truth_volume_large\": 98.2, \"calculated_volume_large\": 91.30510058, \"ground_truth_volume_medium\": 21.2, \"calculated_volume_medium\": 23.00294596, \"ground_truth_volume_small\": 0.8, \"calculated_volume_small\": 0.341454141, \"ground_truth_mass_large\": 19.6, \"calculated_mass_large\": 18.26102012, \"ground_truth_mass_medium\": 4.2, \"calculated_mass_medium\": 4.600589192, \"ground_truth_mass_small\": 0.2, \"calculated_mass_small\": 0.068290828, \"Rep\": \"1mm\"}, {\"inserts\": \"Medium Density\", \"ground_truth_volume_large\": 98.2, \"calculated_volume_large\": 89.44156914, \"ground_truth_volume_medium\": 21.2, \"calculated_volume_medium\": 20.23387275, \"ground_truth_volume_small\": 0.8, \"calculated_volume_small\": 0.538220856, \"ground_truth_mass_large\": 39.3, \"calculated_mass_large\": 35.77662766, \"ground_truth_mass_medium\": 8.5, \"calculated_mass_medium\": 8.0935491, \"ground_truth_mass_small\": 0.3, \"calculated_mass_small\": 0.215288342, \"Rep\": \"1mm\"}, {\"inserts\": \"High Density\", \"ground_truth_volume_large\": 98.2, \"calculated_volume_large\": 87.86102647, \"ground_truth_volume_medium\": 21.2, \"calculated_volume_medium\": 21.08112295, \"ground_truth_volume_small\": 0.8, \"calculated_volume_small\": 0.831779038, \"ground_truth_mass_large\": 78.5, \"calculated_mass_large\": 70.28882118, \"ground_truth_mass_medium\": 17.0, \"calculated_mass_medium\": 16.86489836, \"ground_truth_mass_small\": 0.6, \"calculated_mass_small\": 0.66542323, \"Rep\": \"1mm\"}, {\"inserts\": \"Low Density\", \"ground_truth_volume_large\": 98.2, \"calculated_volume_large\": 104.9208017, \"ground_truth_volume_medium\": 21.2, \"calculated_volume_medium\": 28.82232749, \"ground_truth_volume_small\": 0.8, \"calculated_volume_small\": 0.201937558, \"ground_truth_mass_large\": 19.6, \"calculated_mass_large\": 20.98416034, \"ground_truth_mass_medium\": 4.2, \"calculated_mass_medium\": 5.764465497, \"ground_truth_mass_small\": 0.2, \"calculated_mass_small\": 0.040387512, \"Rep\": \"2mm\"}, {\"inserts\": \"Medium Density\", \"ground_truth_volume_large\": 98.2, \"calculated_volume_large\": 99.73149439, \"ground_truth_volume_medium\": 21.2, \"calculated_volume_medium\": 20.46192585, \"ground_truth_volume_small\": 0.8, \"calculated_volume_small\": 0.991091028, \"ground_truth_mass_large\": 39.3, \"calculated_mass_large\": 39.89259776, \"ground_truth_mass_medium\": 8.5, \"calculated_mass_medium\": 8.18477034, \"ground_truth_mass_small\": 0.3, \"calculated_mass_small\": 0.396436411, \"Rep\": \"2mm\"}, {\"inserts\": \"High Density\", \"ground_truth_volume_large\": 98.2, \"calculated_volume_large\": 98.55691758, \"ground_truth_volume_medium\": 21.2, \"calculated_volume_medium\": 22.04153053, \"ground_truth_volume_small\": 0.8, \"calculated_volume_small\": 0.886709839, \"ground_truth_mass_large\": 78.5, \"calculated_mass_large\": 78.84553407, \"ground_truth_mass_medium\": 17.0, \"calculated_mass_medium\": 17.63322443, \"ground_truth_mass_small\": 0.6, \"calculated_mass_small\": 0.709367871, \"Rep\": \"2mm\"}, {\"inserts\": \"Low Density\", \"ground_truth_volume_large\": 98.2, \"calculated_volume_large\": 123.6956615, \"ground_truth_volume_medium\": 21.2, \"calculated_volume_medium\": 33.89532261, \"ground_truth_volume_small\": 0.8, \"calculated_volume_small\": 0.016435833, \"ground_truth_mass_large\": 19.6, \"calculated_mass_large\": 24.7391323, \"ground_truth_mass_medium\": 4.2, \"calculated_mass_medium\": 6.779064521, \"ground_truth_mass_small\": 0.2, \"calculated_mass_small\": 0.003287167, \"Rep\": \"22mAs\"}, {\"inserts\": \"Medium Density\", \"ground_truth_volume_large\": 98.2, \"calculated_volume_large\": 119.1896809, \"ground_truth_volume_medium\": 21.2, \"calculated_volume_medium\": 22.00512262, \"ground_truth_volume_small\": 0.8, \"calculated_volume_small\": 1.162220486, \"ground_truth_mass_large\": 39.3, \"calculated_mass_large\": 47.67587237, \"ground_truth_mass_medium\": 8.5, \"calculated_mass_medium\": 8.802049049, \"ground_truth_mass_small\": 0.3, \"calculated_mass_small\": 0.464888194, \"Rep\": \"22mAs\"}, {\"inserts\": \"High Density\", \"ground_truth_volume_large\": 98.2, \"calculated_volume_large\": 120.222245, \"ground_truth_volume_medium\": 21.2, \"calculated_volume_medium\": 22.72660556, \"ground_truth_volume_small\": 0.8, \"calculated_volume_small\": 1.56352072, \"ground_truth_mass_large\": 78.5, \"calculated_mass_large\": 96.17779599, \"ground_truth_mass_medium\": 17.0, \"calculated_mass_medium\": 18.18128444, \"ground_truth_mass_small\": 0.6, \"calculated_mass_small\": 1.250816576, \"Rep\": \"22mAs\"}, {\"inserts\": \"Low Density\", \"ground_truth_volume_large\": 98.2, \"calculated_volume_large\": 125.1087627, \"ground_truth_volume_medium\": 21.2, \"calculated_volume_medium\": 18.56358081, \"ground_truth_volume_small\": 0.8, \"calculated_volume_small\": 0.0, \"ground_truth_mass_large\": 19.6, \"calculated_mass_large\": 25.02175254, \"ground_truth_mass_medium\": 4.2, \"calculated_mass_medium\": 3.712716162, \"ground_truth_mass_small\": 0.2, \"calculated_mass_small\": 0.0, \"Rep\": \"34mAs\"}, {\"inserts\": \"Medium Density\", \"ground_truth_volume_large\": 98.2, \"calculated_volume_large\": 126.5350491, \"ground_truth_volume_medium\": 21.2, \"calculated_volume_medium\": 24.83925855, \"ground_truth_volume_small\": 0.8, \"calculated_volume_small\": 1.196975114, \"ground_truth_mass_large\": 39.3, \"calculated_mass_large\": 50.61401964, \"ground_truth_mass_medium\": 8.5, \"calculated_mass_medium\": 9.935703418, \"ground_truth_mass_small\": 0.3, \"calculated_mass_small\": 0.478790046, \"Rep\": \"34mAs\"}, {\"inserts\": \"High Density\", \"ground_truth_volume_large\": 98.2, \"calculated_volume_large\": 119.6833766, \"ground_truth_volume_medium\": 21.2, \"calculated_volume_medium\": 27.40713007, \"ground_truth_volume_small\": 0.8, \"calculated_volume_small\": 0.614610766, \"ground_truth_mass_large\": 78.5, \"calculated_mass_large\": 95.7467013, \"ground_truth_mass_medium\": 17.0, \"calculated_mass_medium\": 21.92570406, \"ground_truth_mass_small\": 0.6, \"calculated_mass_small\": 0.491688613, \"Rep\": \"34mAs\"}, {\"inserts\": \"Low Density\", \"ground_truth_volume_large\": 98.2, \"calculated_volume_large\": 114.8220824, \"ground_truth_volume_medium\": 21.2, \"calculated_volume_medium\": 27.91678788, \"ground_truth_volume_small\": 0.8, \"calculated_volume_small\": 0.649968591, \"ground_truth_mass_large\": 19.6, \"calculated_mass_large\": 22.96441649, \"ground_truth_mass_medium\": 4.2, \"calculated_mass_medium\": 5.583357575, \"ground_truth_mass_small\": 0.2, \"calculated_mass_small\": 0.129993718, \"Rep\": \"80kV\"}, {\"inserts\": \"Medium Density\", \"ground_truth_volume_large\": 98.2, \"calculated_volume_large\": 123.5416525, \"ground_truth_volume_medium\": 21.2, \"calculated_volume_medium\": 25.38172804, \"ground_truth_volume_small\": 0.8, \"calculated_volume_small\": 0.401995349, \"ground_truth_mass_large\": 39.3, \"calculated_mass_large\": 49.416661, \"ground_truth_mass_medium\": 8.5, \"calculated_mass_medium\": 10.15269121, \"ground_truth_mass_small\": 0.3, \"calculated_mass_small\": 0.16079814, \"Rep\": \"80kV\"}, {\"inserts\": \"High Density\", \"ground_truth_volume_large\": 98.2, \"calculated_volume_large\": 116.359179, \"ground_truth_volume_medium\": 21.2, \"calculated_volume_medium\": 26.92946951, \"ground_truth_volume_small\": 0.8, \"calculated_volume_small\": 0.985885793, \"ground_truth_mass_large\": 78.5, \"calculated_mass_large\": 93.08734323, \"ground_truth_mass_medium\": 17.0, \"calculated_mass_medium\": 21.54357561, \"ground_truth_mass_small\": 0.6, \"calculated_mass_small\": 0.788708634, \"Rep\": \"80kV\"}, {\"inserts\": \"Low Density\", \"ground_truth_volume_large\": 98.2, \"calculated_volume_large\": 115.2724217, \"ground_truth_volume_medium\": 21.2, \"calculated_volume_medium\": 31.76787738, \"ground_truth_volume_small\": 0.8, \"calculated_volume_small\": 0.0, \"ground_truth_mass_large\": 19.6, \"calculated_mass_large\": 23.05448433, \"ground_truth_mass_medium\": 4.2, \"calculated_mass_medium\": 6.353575475, \"ground_truth_mass_small\": 0.2, \"calculated_mass_small\": 0.0, \"Rep\": \"100kV\"}, {\"inserts\": \"Medium Density\", \"ground_truth_volume_large\": 98.2, \"calculated_volume_large\": 116.6348697, \"ground_truth_volume_medium\": 21.2, \"calculated_volume_medium\": 27.24442456, \"ground_truth_volume_small\": 0.8, \"calculated_volume_small\": 0.377144957, \"ground_truth_mass_large\": 39.3, \"calculated_mass_large\": 46.6539479, \"ground_truth_mass_medium\": 8.5, \"calculated_mass_medium\": 10.89776983, \"ground_truth_mass_small\": 0.3, \"calculated_mass_small\": 0.150857983, \"Rep\": \"100kV\"}, {\"inserts\": \"High Density\", \"ground_truth_volume_large\": 98.2, \"calculated_volume_large\": 119.4068673, \"ground_truth_volume_medium\": 21.2, \"calculated_volume_medium\": 27.78635353, \"ground_truth_volume_small\": 0.8, \"calculated_volume_small\": 0.553615593, \"ground_truth_mass_large\": 78.5, \"calculated_mass_large\": 95.52549385, \"ground_truth_mass_medium\": 17.0, \"calculated_mass_medium\": 22.22908282, \"ground_truth_mass_small\": 0.6, \"calculated_mass_small\": 0.442892474, \"Rep\": \"100kV\"}, {\"inserts\": \"Low Density\", \"ground_truth_volume_large\": 98.2, \"calculated_volume_large\": 117.1446603, \"ground_truth_volume_medium\": 21.2, \"calculated_volume_medium\": 29.87131323, \"ground_truth_volume_small\": 0.8, \"calculated_volume_small\": 0.658755, \"ground_truth_mass_large\": 19.6, \"calculated_mass_large\": 23.42893206, \"ground_truth_mass_medium\": 4.2, \"calculated_mass_medium\": 5.974262646, \"ground_truth_mass_small\": 0.2, \"calculated_mass_small\": 0.131751, \"Rep\": \"FOV200\"}, {\"inserts\": \"Medium Density\", \"ground_truth_volume_large\": 98.2, \"calculated_volume_large\": 116.9974562, \"ground_truth_volume_medium\": 21.2, \"calculated_volume_medium\": 20.52287938, \"ground_truth_volume_small\": 0.8, \"calculated_volume_small\": 0.867536391, \"ground_truth_mass_large\": 39.3, \"calculated_mass_large\": 46.79898247, \"ground_truth_mass_medium\": 8.5, \"calculated_mass_medium\": 8.209151753, \"ground_truth_mass_small\": 0.3, \"calculated_mass_small\": 0.347014557, \"Rep\": \"FOV200\"}, {\"inserts\": \"High Density\", \"ground_truth_volume_large\": 98.2, \"calculated_volume_large\": 113.5929609, \"ground_truth_volume_medium\": 21.2, \"calculated_volume_medium\": 23.70880836, \"ground_truth_volume_small\": 0.8, \"calculated_volume_small\": 0.895015228, \"ground_truth_mass_large\": 78.5, \"calculated_mass_large\": 90.87436875, \"ground_truth_mass_medium\": 17.0, \"calculated_mass_medium\": 18.96704669, \"ground_truth_mass_small\": 0.6, \"calculated_mass_small\": 0.716012183, \"Rep\": \"FOV200\"}, {\"inserts\": \"Low Density\", \"ground_truth_volume_large\": 98.2, \"calculated_volume_large\": 115.300355, \"ground_truth_volume_medium\": 21.2, \"calculated_volume_medium\": 22.41811887, \"ground_truth_volume_small\": 0.8, \"calculated_volume_small\": 0.255969359, \"ground_truth_mass_large\": 19.6, \"calculated_mass_large\": 23.06007099, \"ground_truth_mass_medium\": 4.2, \"calculated_mass_medium\": 4.483623774, \"ground_truth_mass_small\": 0.2, \"calculated_mass_small\": 0.051193872, \"Rep\": \"FOV320\"}, {\"inserts\": \"Medium Density\", \"ground_truth_volume_large\": 98.2, \"calculated_volume_large\": 108.5041025, \"ground_truth_volume_medium\": 21.2, \"calculated_volume_medium\": 25.18136417, \"ground_truth_volume_small\": 0.8, \"calculated_volume_small\": 0.360536148, \"ground_truth_mass_large\": 39.3, \"calculated_mass_large\": 43.40164099, \"ground_truth_mass_medium\": 8.5, \"calculated_mass_medium\": 10.07254567, \"ground_truth_mass_small\": 0.3, \"calculated_mass_small\": 0.144214459, \"Rep\": \"FOV320\"}, {\"inserts\": \"High Density\", \"ground_truth_volume_large\": 98.2, \"calculated_volume_large\": 116.0014434, \"ground_truth_volume_medium\": 21.2, \"calculated_volume_medium\": 25.45131068, \"ground_truth_volume_small\": 0.8, \"calculated_volume_small\": 0.822850049, \"ground_truth_mass_large\": 78.5, \"calculated_mass_large\": 92.80115468, \"ground_truth_mass_medium\": 17.0, \"calculated_mass_medium\": 20.36104855, \"ground_truth_mass_small\": 0.6, \"calculated_mass_small\": 0.658280039, \"Rep\": \"FOV320\"}, {\"inserts\": \"Low Density\", \"ground_truth_volume_large\": 98.2, \"calculated_volume_large\": 118.7302047, \"ground_truth_volume_medium\": 21.2, \"calculated_volume_medium\": 32.02875537, \"ground_truth_volume_small\": 0.8, \"calculated_volume_small\": 0.464620922, \"ground_truth_mass_large\": 19.6, \"calculated_mass_large\": 23.74604094, \"ground_truth_mass_medium\": 4.2, \"calculated_mass_medium\": 6.405751073, \"ground_truth_mass_small\": 0.2, \"calculated_mass_small\": 0.092924184, \"Rep\": \"IR2\"}, {\"inserts\": \"Medium Density\", \"ground_truth_volume_large\": 98.2, \"calculated_volume_large\": 111.5320087, \"ground_truth_volume_medium\": 21.2, \"calculated_volume_medium\": 23.09884159, \"ground_truth_volume_small\": 0.8, \"calculated_volume_small\": 1.350895617, \"ground_truth_mass_large\": 39.3, \"calculated_mass_large\": 44.61280349, \"ground_truth_mass_medium\": 8.5, \"calculated_mass_medium\": 9.239536637, \"ground_truth_mass_small\": 0.3, \"calculated_mass_small\": 0.540358247, \"Rep\": \"IR2\"}, {\"inserts\": \"High Density\", \"ground_truth_volume_large\": 98.2, \"calculated_volume_large\": 118.0513295, \"ground_truth_volume_medium\": 21.2, \"calculated_volume_medium\": 24.86693611, \"ground_truth_volume_small\": 0.8, \"calculated_volume_small\": 1.216023075, \"ground_truth_mass_large\": 78.5, \"calculated_mass_large\": 94.44106357, \"ground_truth_mass_medium\": 17.0, \"calculated_mass_medium\": 19.89354889, \"ground_truth_mass_small\": 0.6, \"calculated_mass_small\": 0.97281846, \"Rep\": \"IR2\"}, {\"inserts\": \"Low Density\", \"ground_truth_volume_large\": 98.2, \"calculated_volume_large\": 116.6090428, \"ground_truth_volume_medium\": 21.2, \"calculated_volume_medium\": 29.32243809, \"ground_truth_volume_small\": 0.8, \"calculated_volume_small\": 0.871405456, \"ground_truth_mass_large\": 19.6, \"calculated_mass_large\": 23.32180857, \"ground_truth_mass_medium\": 4.2, \"calculated_mass_medium\": 5.864487619, \"ground_truth_mass_small\": 0.2, \"calculated_mass_small\": 0.174281091, \"Rep\": \"IR4\"}, {\"inserts\": \"Medium Density\", \"ground_truth_volume_large\": 98.2, \"calculated_volume_large\": 110.1405223, \"ground_truth_volume_medium\": 21.2, \"calculated_volume_medium\": 21.94446571, \"ground_truth_volume_small\": 0.8, \"calculated_volume_small\": 1.245116477, \"ground_truth_mass_large\": 39.3, \"calculated_mass_large\": 44.05620893, \"ground_truth_mass_medium\": 8.5, \"calculated_mass_medium\": 8.777786284, \"ground_truth_mass_small\": 0.3, \"calculated_mass_small\": 0.498046591, \"Rep\": \"IR4\"}, {\"inserts\": \"High Density\", \"ground_truth_volume_large\": 98.2, \"calculated_volume_large\": 115.9132356, \"ground_truth_volume_medium\": 21.2, \"calculated_volume_medium\": 23.65682697, \"ground_truth_volume_small\": 0.8, \"calculated_volume_small\": 1.057099924, \"ground_truth_mass_large\": 78.5, \"calculated_mass_large\": 92.7305885, \"ground_truth_mass_medium\": 17.0, \"calculated_mass_medium\": 18.92546158, \"ground_truth_mass_small\": 0.6, \"calculated_mass_small\": 0.845679939, \"Rep\": \"IR4\"}, {\"inserts\": \"Low Density\", \"ground_truth_volume_large\": 98.2, \"calculated_volume_large\": 121.414234, \"ground_truth_volume_medium\": 21.2, \"calculated_volume_medium\": 32.39918423, \"ground_truth_volume_small\": 0.8, \"calculated_volume_small\": 0.42870388, \"ground_truth_mass_large\": 19.6, \"calculated_mass_large\": 24.2828468, \"ground_truth_mass_medium\": 4.2, \"calculated_mass_medium\": 6.479836847, \"ground_truth_mass_small\": 0.2, \"calculated_mass_small\": 0.085740776, \"Rep\": \"Qr32\"}, {\"inserts\": \"Medium Density\", \"ground_truth_volume_large\": 98.2, \"calculated_volume_large\": 114.0482485, \"ground_truth_volume_medium\": 21.2, \"calculated_volume_medium\": 23.68173619, \"ground_truth_volume_small\": 0.8, \"calculated_volume_small\": 1.283057606, \"ground_truth_mass_large\": 39.3, \"calculated_mass_large\": 45.6192994, \"ground_truth_mass_medium\": 8.5, \"calculated_mass_medium\": 9.472694475, \"ground_truth_mass_small\": 0.3, \"calculated_mass_small\": 0.513223042, \"Rep\": \"Qr32\"}, {\"inserts\": \"High Density\", \"ground_truth_volume_large\": 98.2, \"calculated_volume_large\": 119.1283928, \"ground_truth_volume_medium\": 21.2, \"calculated_volume_medium\": 25.3446841, \"ground_truth_volume_small\": 0.8, \"calculated_volume_small\": 1.114418601, \"ground_truth_mass_large\": 78.5, \"calculated_mass_large\": 95.30271423, \"ground_truth_mass_medium\": 17.0, \"calculated_mass_medium\": 20.27574728, \"ground_truth_mass_small\": 0.6, \"calculated_mass_small\": 0.891534881, \"Rep\": \"Qr32\"}, {\"inserts\": \"Low Density\", \"ground_truth_volume_large\": 98.2, \"calculated_volume_large\": 117.8333272, \"ground_truth_volume_medium\": 21.2, \"calculated_volume_medium\": 32.88709426, \"ground_truth_volume_small\": 0.8, \"calculated_volume_small\": 1.500141441, \"ground_truth_mass_large\": 19.6, \"calculated_mass_large\": 23.56666544, \"ground_truth_mass_medium\": 4.2, \"calculated_mass_medium\": 6.577418852, \"ground_truth_mass_small\": 0.2, \"calculated_mass_small\": 0.300028288, \"Rep\": \"Qr44\"}, {\"inserts\": \"Medium Density\", \"ground_truth_volume_large\": 98.2, \"calculated_volume_large\": 111.7824649, \"ground_truth_volume_medium\": 21.2, \"calculated_volume_medium\": 25.41652926, \"ground_truth_volume_small\": 0.8, \"calculated_volume_small\": 1.658125746, \"ground_truth_mass_large\": 39.3, \"calculated_mass_large\": 44.71298598, \"ground_truth_mass_medium\": 8.5, \"calculated_mass_medium\": 10.16661171, \"ground_truth_mass_small\": 0.3, \"calculated_mass_small\": 0.663250298, \"Rep\": \"Qr44\"}, {\"inserts\": \"High Density\", \"ground_truth_volume_large\": 98.2, \"calculated_volume_large\": 119.5140981, \"ground_truth_volume_medium\": 21.2, \"calculated_volume_medium\": 28.22843573, \"ground_truth_volume_small\": 0.8, \"calculated_volume_small\": 1.372622519, \"ground_truth_mass_large\": 78.5, \"calculated_mass_large\": 95.61127848, \"ground_truth_mass_medium\": 17.0, \"calculated_mass_medium\": 22.58274859, \"ground_truth_mass_small\": 0.6, \"calculated_mass_small\": 1.098098015, \"Rep\": \"Qr44\"}]}}, {\"mode\": \"vega-lite\"});\n</script>",
      "text/plain": "alt.HConcatChart(...)"
     },
     "metadata": {}
    }
   ],
   "execution_count": 163
  },
  {
   "cell_type": "markdown",
   "source": "### Mass Score: Small Inserts",
   "metadata": {
    "cell_id": "4d79745a-4d48-4441-964e-44eac660e4bf",
    "tags": [],
    "is_collapsed": false,
    "deepnote_cell_type": "text-cell-h3"
   }
  },
  {
   "cell_type": "code",
   "source": "X_Add2_S = Add2.ground_truth_mass_small.to_numpy().reshape(-1,1)\ny_Add2_S = Add2.calculated_mass_small.to_numpy().reshape(-1,1)\nreg_Add2_S = LinearRegression().fit(X_Add2_S,y_Add2_S)\nAdd2_scoreS = reg_Add2_S.score(X_Add2_S,y_Add2_S)\nAdd2_scoreS",
   "metadata": {
    "cell_id": "8a20da50-64e0-48cb-bce3-0bc3f1c33d8c",
    "tags": [],
    "deepnote_to_be_reexecuted": false,
    "source_hash": "dd31d8b",
    "execution_start": 1643837296904,
    "execution_millis": 276,
    "deepnote_output_heights": [
     21.1875
    ],
    "deepnote_cell_type": "code"
   },
   "outputs": [
    {
     "output_type": "execute_result",
     "execution_count": 169,
     "data": {
      "text/plain": "0.7395443236315771"
     },
     "metadata": {}
    }
   ],
   "execution_count": 169
  },
  {
   "cell_type": "code",
   "source": "c2S,d2S = [reg_Add2_S.coef_[0,0],reg_Add2_S.intercept_[0]]\nprint(\"y = {} x + {}\".format(str(c2S),str(d2S)))",
   "metadata": {
    "cell_id": "478a1912-2138-46a7-a675-c04a076824b7",
    "tags": [],
    "deepnote_to_be_reexecuted": false,
    "source_hash": "c244d04e",
    "execution_start": 1643837341831,
    "execution_millis": 3,
    "deepnote_cell_type": "code"
   },
   "outputs": [
    {
     "name": "stdout",
     "text": "y = 1.3501221282051283 x + -0.1555477393141026\n",
     "output_type": "stream"
    }
   ],
   "execution_count": 171
  },
  {
   "cell_type": "code",
   "source": "X_Add3_S = Add3.ground_truth_mass_small.to_numpy().reshape(-1,1)\ny_Add3_S = Add3.calculated_mass_small.to_numpy().reshape(-1,1)\nreg_Add3_S = LinearRegression().fit(X_Add3_S,y_Add3_S)\nAdd3_scoreS = reg_Add3_S.score(X_Add3_S,y_Add3_S)\nAdd3_scoreS",
   "metadata": {
    "cell_id": "c0fa65d0-c0fb-4de6-b4df-509f2b7be56f",
    "tags": [],
    "deepnote_to_be_reexecuted": false,
    "source_hash": "86927909",
    "execution_start": 1643837320696,
    "execution_millis": 15,
    "deepnote_output_heights": [
     21.1875
    ],
    "deepnote_cell_type": "code"
   },
   "outputs": [
    {
     "output_type": "execute_result",
     "execution_count": 170,
     "data": {
      "text/plain": "0.7205879143955299"
     },
     "metadata": {}
    }
   ],
   "execution_count": 170
  },
  {
   "cell_type": "code",
   "source": "c3S,d3S = [reg_Add3_S.coef_[0,0],reg_Add3_S.intercept_[0]]\nprint(\"y = {} x + {}\".format(str(c3S),str(d3S)))",
   "metadata": {
    "cell_id": "2fe83a67-f006-4b02-9004-583021229048",
    "tags": [],
    "deepnote_to_be_reexecuted": false,
    "source_hash": "b74844b",
    "execution_start": 1643837361918,
    "execution_millis": 14,
    "deepnote_cell_type": "code"
   },
   "outputs": [
    {
     "name": "stdout",
     "text": "y = 1.6725487693910257 x + -0.19153550263782043\n",
     "output_type": "stream"
    }
   ],
   "execution_count": 172
  },
  {
   "cell_type": "code",
   "source": "Add_true.append(X_Add2_S)\nAdd_pred.append(y_Add2_S)\nAdd_true.append(X_Add3_S)\nAdd_pred.append(y_Add3_S)",
   "metadata": {
    "cell_id": "bbac9037-cdef-46b6-a6e1-747651aca9c5",
    "tags": [],
    "deepnote_to_be_reexecuted": false,
    "source_hash": "798855fd",
    "execution_start": 1643837863405,
    "execution_millis": 14,
    "deepnote_cell_type": "code"
   },
   "outputs": [],
   "execution_count": 185
  },
  {
   "cell_type": "code",
   "source": "Add2_small = chart_plot_small(Add2)\nAdd3_small = chart_plot_small(Add3)\nAdd2_small | Add3_small",
   "metadata": {
    "cell_id": "fd3631dd-a652-4017-bd98-af3310629e6c",
    "tags": [],
    "deepnote_to_be_reexecuted": false,
    "source_hash": "cca96999",
    "execution_start": 1643837401813,
    "execution_millis": 421,
    "deepnote_output_heights": [
     363
    ],
    "deepnote_cell_type": "code"
   },
   "outputs": [
    {
     "output_type": "execute_result",
     "execution_count": 174,
     "data": {
      "text/html": "\n<div id=\"altair-viz-840e760047f3437eb10e4934ff984916\"></div>\n<script type=\"text/javascript\">\n  (function(spec, embedOpt){\n    let outputDiv = document.currentScript.previousElementSibling;\n    if (outputDiv.id !== \"altair-viz-840e760047f3437eb10e4934ff984916\") {\n      outputDiv = document.getElementById(\"altair-viz-840e760047f3437eb10e4934ff984916\");\n    }\n    const paths = {\n      \"vega\": \"https://cdn.jsdelivr.net/npm//vega@5?noext\",\n      \"vega-lib\": \"https://cdn.jsdelivr.net/npm//vega-lib?noext\",\n      \"vega-lite\": \"https://cdn.jsdelivr.net/npm//vega-lite@4.8.1?noext\",\n      \"vega-embed\": \"https://cdn.jsdelivr.net/npm//vega-embed@6?noext\",\n    };\n\n    function loadScript(lib) {\n      return new Promise(function(resolve, reject) {\n        var s = document.createElement('script');\n        s.src = paths[lib];\n        s.async = true;\n        s.onload = () => resolve(paths[lib]);\n        s.onerror = () => reject(`Error loading script: ${paths[lib]}`);\n        document.getElementsByTagName(\"head\")[0].appendChild(s);\n      });\n    }\n\n    function showError(err) {\n      outputDiv.innerHTML = `<div class=\"error\" style=\"color:red;\">${err}</div>`;\n      throw err;\n    }\n\n    function displayChart(vegaEmbed) {\n      vegaEmbed(outputDiv, spec, embedOpt)\n        .catch(err => showError(`Javascript Error: ${err.message}<br>This usually means there's a typo in your chart specification. See the javascript console for the full traceback.`));\n    }\n\n    if(typeof define === \"function\" && define.amd) {\n      requirejs.config({paths});\n      require([\"vega-embed\"], displayChart, err => showError(`Error loading script: ${err.message}`));\n    } else if (typeof vegaEmbed === \"function\") {\n      displayChart(vegaEmbed);\n    } else {\n      loadScript(\"vega\")\n        .then(() => loadScript(\"vega-lite\"))\n        .then(() => loadScript(\"vega-embed\"))\n        .catch(showError)\n        .then(() => displayChart(vegaEmbed));\n    }\n  })({\"config\": {\"view\": {\"continuousWidth\": 400, \"continuousHeight\": 300}}, \"hconcat\": [{\"layer\": [{\"mark\": \"circle\", \"encoding\": {\"color\": {\"type\": \"nominal\", \"field\": \"Rep\"}, \"tooltip\": [{\"type\": \"quantitative\", \"field\": \"ground_truth_volume_small\"}, {\"type\": \"quantitative\", \"field\": \"calculated_volume_small\"}, {\"type\": \"nominal\", \"field\": \"Rep\"}], \"x\": {\"type\": \"quantitative\", \"field\": \"ground_truth_mass_small\"}, \"y\": {\"type\": \"quantitative\", \"field\": \"calculated_mass_small\"}}}, {\"mark\": \"line\", \"encoding\": {\"color\": {\"type\": \"nominal\", \"field\": \"Rep\"}, \"tooltip\": [{\"type\": \"quantitative\", \"field\": \"ground_truth_volume_small\"}, {\"type\": \"quantitative\", \"field\": \"calculated_volume_small\"}, {\"type\": \"nominal\", \"field\": \"Rep\"}], \"x\": {\"type\": \"quantitative\", \"field\": \"ground_truth_mass_small\"}, \"y\": {\"type\": \"quantitative\", \"field\": \"calculated_mass_small\"}}, \"transform\": [{\"on\": \"ground_truth_mass_small\", \"regression\": \"calculated_mass_small\", \"method\": \"linear\"}]}, {\"mark\": {\"type\": \"line\", \"color\": \"red\"}, \"encoding\": {\"x\": {\"type\": \"quantitative\", \"field\": \"ground_truth_mass_small\"}, \"y\": {\"type\": \"quantitative\", \"field\": \"ground_truth_mass_small\"}}}], \"data\": {\"name\": \"data-5332171a26e1e30da3b03c58c76a5950\"}}, {\"layer\": [{\"mark\": \"circle\", \"encoding\": {\"color\": {\"type\": \"nominal\", \"field\": \"Rep\"}, \"tooltip\": [{\"type\": \"quantitative\", \"field\": \"ground_truth_volume_small\"}, {\"type\": \"quantitative\", \"field\": \"calculated_volume_small\"}, {\"type\": \"nominal\", \"field\": \"Rep\"}], \"x\": {\"type\": \"quantitative\", \"field\": \"ground_truth_mass_small\"}, \"y\": {\"type\": \"quantitative\", \"field\": \"calculated_mass_small\"}}}, {\"mark\": \"line\", \"encoding\": {\"color\": {\"type\": \"nominal\", \"field\": \"Rep\"}, \"tooltip\": [{\"type\": \"quantitative\", \"field\": \"ground_truth_volume_small\"}, {\"type\": \"quantitative\", \"field\": \"calculated_volume_small\"}, {\"type\": \"nominal\", \"field\": \"Rep\"}], \"x\": {\"type\": \"quantitative\", \"field\": \"ground_truth_mass_small\"}, \"y\": {\"type\": \"quantitative\", \"field\": \"calculated_mass_small\"}}, \"transform\": [{\"on\": \"ground_truth_mass_small\", \"regression\": \"calculated_mass_small\", \"method\": \"linear\"}]}, {\"mark\": {\"type\": \"line\", \"color\": \"red\"}, \"encoding\": {\"x\": {\"type\": \"quantitative\", \"field\": \"ground_truth_mass_small\"}, \"y\": {\"type\": \"quantitative\", \"field\": \"ground_truth_mass_small\"}}}], \"data\": {\"name\": \"data-168629110cd23a158fa7e758d1d5cea8\"}}], \"$schema\": \"https://vega.github.io/schema/vega-lite/v4.8.1.json\", \"datasets\": {\"data-5332171a26e1e30da3b03c58c76a5950\": [{\"inserts\": \"Low Density\", \"ground_truth_volume_large\": 98.2, \"calculated_volume_large\": 90.20585537, \"ground_truth_volume_medium\": 21.2, \"calculated_volume_medium\": 22.73042541, \"ground_truth_volume_small\": 0.8, \"calculated_volume_small\": 0.334860806, \"ground_truth_mass_large\": 19.6, \"calculated_mass_large\": 18.04117107, \"ground_truth_mass_medium\": 4.2, \"calculated_mass_medium\": 4.546085081, \"ground_truth_mass_small\": 0.2, \"calculated_mass_small\": 0.066972161, \"Rep\": \"1mm\"}, {\"inserts\": \"Medium Density\", \"ground_truth_volume_large\": 98.2, \"calculated_volume_large\": 87.87848832, \"ground_truth_volume_medium\": 21.2, \"calculated_volume_medium\": 19.88935173, \"ground_truth_volume_small\": 0.8, \"calculated_volume_small\": 0.52784807, \"ground_truth_mass_large\": 39.3, \"calculated_mass_large\": 35.15139533, \"ground_truth_mass_medium\": 8.5, \"calculated_mass_medium\": 7.955740693, \"ground_truth_mass_small\": 0.3, \"calculated_mass_small\": 0.211139228, \"Rep\": \"1mm\"}, {\"inserts\": \"High Density\", \"ground_truth_volume_large\": 98.2, \"calculated_volume_large\": 86.14648812, \"ground_truth_volume_medium\": 21.2, \"calculated_volume_medium\": 20.67053428, \"ground_truth_volume_small\": 0.8, \"calculated_volume_small\": 0.815695939, \"ground_truth_mass_large\": 78.5, \"calculated_mass_large\": 68.9171905, \"ground_truth_mass_medium\": 17.0, \"calculated_mass_medium\": 16.53642742, \"ground_truth_mass_small\": 0.6, \"calculated_mass_small\": 0.652556751, \"Rep\": \"1mm\"}, {\"inserts\": \"Low Density\", \"ground_truth_volume_large\": 98.2, \"calculated_volume_large\": 98.30085954, \"ground_truth_volume_medium\": 21.2, \"calculated_volume_medium\": 27.0388283, \"ground_truth_volume_small\": 0.8, \"calculated_volume_small\": 0.190878164, \"ground_truth_mass_large\": 19.6, \"calculated_mass_large\": 19.66017191, \"ground_truth_mass_medium\": 4.2, \"calculated_mass_medium\": 5.407765659, \"ground_truth_mass_small\": 0.2, \"calculated_mass_small\": 0.038175633, \"Rep\": \"2mm\"}, {\"inserts\": \"Medium Density\", \"ground_truth_volume_large\": 98.2, \"calculated_volume_large\": 93.89171689, \"ground_truth_volume_medium\": 21.2, \"calculated_volume_medium\": 19.27041713, \"ground_truth_volume_small\": 0.8, \"calculated_volume_small\": 0.937248857, \"ground_truth_mass_large\": 39.3, \"calculated_mass_large\": 37.55668676, \"ground_truth_mass_medium\": 8.5, \"calculated_mass_medium\": 7.708166854, \"ground_truth_mass_small\": 0.3, \"calculated_mass_small\": 0.374899543, \"Rep\": \"2mm\"}, {\"inserts\": \"High Density\", \"ground_truth_volume_large\": 98.2, \"calculated_volume_large\": 93.15881318, \"ground_truth_volume_medium\": 21.2, \"calculated_volume_medium\": 20.828385, \"ground_truth_volume_small\": 0.8, \"calculated_volume_small\": 0.83825846, \"ground_truth_mass_large\": 78.5, \"calculated_mass_large\": 74.52705054, \"ground_truth_mass_medium\": 17.0, \"calculated_mass_medium\": 16.662708, \"ground_truth_mass_small\": 0.6, \"calculated_mass_small\": 0.670606768, \"Rep\": \"2mm\"}, {\"inserts\": \"Low Density\", \"ground_truth_volume_large\": 98.2, \"calculated_volume_large\": 99.74603055, \"ground_truth_volume_medium\": 21.2, \"calculated_volume_medium\": 27.45132971, \"ground_truth_volume_small\": 0.8, \"calculated_volume_small\": 0.012795403, \"ground_truth_mass_large\": 19.6, \"calculated_mass_large\": 19.94920611, \"ground_truth_mass_medium\": 4.2, \"calculated_mass_medium\": 5.490265942, \"ground_truth_mass_small\": 0.2, \"calculated_mass_small\": 0.002559081, \"Rep\": \"22mAs\"}, {\"inserts\": \"Medium Density\", \"ground_truth_volume_large\": 98.2, \"calculated_volume_large\": 93.63222839, \"ground_truth_volume_medium\": 21.2, \"calculated_volume_medium\": 17.26774695, \"ground_truth_volume_small\": 0.8, \"calculated_volume_small\": 0.903350373, \"ground_truth_mass_large\": 39.3, \"calculated_mass_large\": 37.45289135, \"ground_truth_mass_medium\": 8.5, \"calculated_mass_medium\": 6.907098779, \"ground_truth_mass_small\": 0.3, \"calculated_mass_small\": 0.361340149, \"Rep\": \"22mAs\"}, {\"inserts\": \"High Density\", \"ground_truth_volume_large\": 98.2, \"calculated_volume_large\": 93.5545313, \"ground_truth_volume_medium\": 21.2, \"calculated_volume_medium\": 17.64701662, \"ground_truth_volume_small\": 0.8, \"calculated_volume_small\": 1.215751336, \"ground_truth_mass_large\": 78.5, \"calculated_mass_large\": 74.84362504, \"ground_truth_mass_medium\": 17.0, \"calculated_mass_medium\": 14.1176133, \"ground_truth_mass_small\": 0.6, \"calculated_mass_small\": 0.972601069, \"Rep\": \"22mAs\"}, {\"inserts\": \"Low Density\", \"ground_truth_volume_large\": 98.2, \"calculated_volume_large\": 101.3748387, \"ground_truth_volume_medium\": 21.2, \"calculated_volume_medium\": 14.9494636, \"ground_truth_volume_small\": 0.8, \"calculated_volume_small\": 0.0, \"ground_truth_mass_large\": 19.6, \"calculated_mass_large\": 20.27496774, \"ground_truth_mass_medium\": 4.2, \"calculated_mass_medium\": 2.98989272, \"ground_truth_mass_small\": 0.2, \"calculated_mass_small\": 0.0, \"Rep\": \"34mAs\"}, {\"inserts\": \"Medium Density\", \"ground_truth_volume_large\": 98.2, \"calculated_volume_large\": 99.99056952, \"ground_truth_volume_medium\": 21.2, \"calculated_volume_medium\": 19.50310021, \"ground_truth_volume_small\": 0.8, \"calculated_volume_small\": 0.933105915, \"ground_truth_mass_large\": 39.3, \"calculated_mass_large\": 39.99622781, \"ground_truth_mass_medium\": 8.5, \"calculated_mass_medium\": 7.801240083, \"ground_truth_mass_small\": 0.3, \"calculated_mass_small\": 0.373242366, \"Rep\": \"34mAs\"}, {\"inserts\": \"High Density\", \"ground_truth_volume_large\": 98.2, \"calculated_volume_large\": 93.15593848, \"ground_truth_volume_medium\": 21.2, \"calculated_volume_medium\": 21.34357478, \"ground_truth_volume_small\": 0.8, \"calculated_volume_small\": 0.478369447, \"ground_truth_mass_large\": 78.5, \"calculated_mass_large\": 74.52475078, \"ground_truth_mass_medium\": 17.0, \"calculated_mass_medium\": 17.07485982, \"ground_truth_mass_small\": 0.6, \"calculated_mass_small\": 0.382695557, \"Rep\": \"34mAs\"}, {\"inserts\": \"Low Density\", \"ground_truth_volume_large\": 98.2, \"calculated_volume_large\": 96.21974186, \"ground_truth_volume_medium\": 21.2, \"calculated_volume_medium\": 23.38720142, \"ground_truth_volume_small\": 0.8, \"calculated_volume_small\": 0.512265669, \"ground_truth_mass_large\": 19.6, \"calculated_mass_large\": 19.24394837, \"ground_truth_mass_medium\": 4.2, \"calculated_mass_medium\": 4.677440284, \"ground_truth_mass_small\": 0.2, \"calculated_mass_small\": 0.102453134, \"Rep\": \"80kV\"}, {\"inserts\": \"Medium Density\", \"ground_truth_volume_large\": 98.2, \"calculated_volume_large\": 99.39214731, \"ground_truth_volume_medium\": 21.2, \"calculated_volume_medium\": 20.38283701, \"ground_truth_volume_small\": 0.8, \"calculated_volume_small\": 0.316172831, \"ground_truth_mass_large\": 39.3, \"calculated_mass_large\": 39.75685892, \"ground_truth_mass_medium\": 8.5, \"calculated_mass_medium\": 8.153134802, \"ground_truth_mass_small\": 0.3, \"calculated_mass_small\": 0.126469133, \"Rep\": \"80kV\"}, {\"inserts\": \"High Density\", \"ground_truth_volume_large\": 98.2, \"calculated_volume_large\": 91.49689907, \"ground_truth_volume_medium\": 21.2, \"calculated_volume_medium\": 21.20505856, \"ground_truth_volume_small\": 0.8, \"calculated_volume_small\": 0.775831533, \"ground_truth_mass_large\": 78.5, \"calculated_mass_large\": 73.19751926, \"ground_truth_mass_medium\": 17.0, \"calculated_mass_medium\": 16.96404685, \"ground_truth_mass_small\": 0.6, \"calculated_mass_small\": 0.620665227, \"Rep\": \"80kV\"}, {\"inserts\": \"Low Density\", \"ground_truth_volume_large\": 98.2, \"calculated_volume_large\": 92.76070783, \"ground_truth_volume_medium\": 21.2, \"calculated_volume_medium\": 25.69021799, \"ground_truth_volume_small\": 0.8, \"calculated_volume_small\": 0.0, \"ground_truth_mass_large\": 19.6, \"calculated_mass_large\": 18.55214157, \"ground_truth_mass_medium\": 4.2, \"calculated_mass_medium\": 5.138043598, \"ground_truth_mass_small\": 0.2, \"calculated_mass_small\": 0.0, \"Rep\": \"100kV\"}, {\"inserts\": \"Medium Density\", \"ground_truth_volume_large\": 98.2, \"calculated_volume_large\": 91.98982369, \"ground_truth_volume_medium\": 21.2, \"calculated_volume_medium\": 21.53094472, \"ground_truth_volume_small\": 0.8, \"calculated_volume_small\": 0.29477222, \"ground_truth_mass_large\": 39.3, \"calculated_mass_large\": 36.79592947, \"ground_truth_mass_medium\": 8.5, \"calculated_mass_medium\": 8.612377888, \"ground_truth_mass_small\": 0.3, \"calculated_mass_small\": 0.117908888, \"Rep\": \"100kV\"}, {\"inserts\": \"High Density\", \"ground_truth_volume_large\": 98.2, \"calculated_volume_large\": 93.26895666, \"ground_truth_volume_medium\": 21.2, \"calculated_volume_medium\": 21.74581506, \"ground_truth_volume_small\": 0.8, \"calculated_volume_small\": 0.432956711, \"ground_truth_mass_large\": 78.5, \"calculated_mass_large\": 74.61516533, \"ground_truth_mass_medium\": 17.0, \"calculated_mass_medium\": 17.39665205, \"ground_truth_mass_small\": 0.6, \"calculated_mass_small\": 0.346365369, \"Rep\": \"100kV\"}, {\"inserts\": \"Low Density\", \"ground_truth_volume_large\": 98.2, \"calculated_volume_large\": 94.92150251, \"ground_truth_volume_medium\": 21.2, \"calculated_volume_medium\": 24.32702031, \"ground_truth_volume_small\": 0.8, \"calculated_volume_small\": 0.514788312, \"ground_truth_mass_large\": 19.6, \"calculated_mass_large\": 18.9843005, \"ground_truth_mass_medium\": 4.2, \"calculated_mass_medium\": 4.865404061, \"ground_truth_mass_small\": 0.2, \"calculated_mass_small\": 0.102957662, \"Rep\": \"FOV200\"}, {\"inserts\": \"Medium Density\", \"ground_truth_volume_large\": 98.2, \"calculated_volume_large\": 92.44965594, \"ground_truth_volume_medium\": 21.2, \"calculated_volume_medium\": 16.12965367, \"ground_truth_volume_small\": 0.8, \"calculated_volume_small\": 0.678080069, \"ground_truth_mass_large\": 39.3, \"calculated_mass_large\": 36.97986238, \"ground_truth_mass_medium\": 8.5, \"calculated_mass_medium\": 6.451861468, \"ground_truth_mass_small\": 0.3, \"calculated_mass_small\": 0.271232028, \"Rep\": \"FOV200\"}, {\"inserts\": \"High Density\", \"ground_truth_volume_large\": 98.2, \"calculated_volume_large\": 88.56417753, \"ground_truth_volume_medium\": 21.2, \"calculated_volume_medium\": 18.4699248, \"ground_truth_volume_small\": 0.8, \"calculated_volume_small\": 0.698946386, \"ground_truth_mass_large\": 78.5, \"calculated_mass_large\": 70.85134202, \"ground_truth_mass_medium\": 17.0, \"calculated_mass_medium\": 14.77593984, \"ground_truth_mass_small\": 0.6, \"calculated_mass_small\": 0.559157109, \"Rep\": \"FOV200\"}, {\"inserts\": \"Low Density\", \"ground_truth_volume_large\": 98.2, \"calculated_volume_large\": 93.65814507, \"ground_truth_volume_medium\": 21.2, \"calculated_volume_medium\": 18.0987471, \"ground_truth_volume_small\": 0.8, \"calculated_volume_small\": 0.202545277, \"ground_truth_mass_large\": 19.6, \"calculated_mass_large\": 18.73162901, \"ground_truth_mass_medium\": 4.2, \"calculated_mass_medium\": 3.619749419, \"ground_truth_mass_small\": 0.2, \"calculated_mass_small\": 0.040509055, \"Rep\": \"FOV320\"}, {\"inserts\": \"Medium Density\", \"ground_truth_volume_large\": 98.2, \"calculated_volume_large\": 85.9960784, \"ground_truth_volume_medium\": 21.2, \"calculated_volume_medium\": 20.09545354, \"ground_truth_volume_small\": 0.8, \"calculated_volume_small\": 0.285088226, \"ground_truth_mass_large\": 39.3, \"calculated_mass_large\": 34.39843136, \"ground_truth_mass_medium\": 8.5, \"calculated_mass_medium\": 8.038181417, \"ground_truth_mass_small\": 0.3, \"calculated_mass_small\": 0.114035291, \"Rep\": \"FOV320\"}, {\"inserts\": \"High Density\", \"ground_truth_volume_large\": 98.2, \"calculated_volume_large\": 91.7202542, \"ground_truth_volume_medium\": 21.2, \"calculated_volume_medium\": 20.13469544, \"ground_truth_volume_small\": 0.8, \"calculated_volume_small\": 0.650949493, \"ground_truth_mass_large\": 78.5, \"calculated_mass_large\": 73.37620336, \"ground_truth_mass_medium\": 17.0, \"calculated_mass_medium\": 16.10775635, \"ground_truth_mass_small\": 0.6, \"calculated_mass_small\": 0.520759594, \"Rep\": \"FOV320\"}, {\"inserts\": \"Low Density\", \"ground_truth_volume_large\": 98.2, \"calculated_volume_large\": 95.14084166, \"ground_truth_volume_medium\": 21.2, \"calculated_volume_medium\": 25.73877172, \"ground_truth_volume_small\": 0.8, \"calculated_volume_small\": 0.360437874, \"ground_truth_mass_large\": 19.6, \"calculated_mass_large\": 19.02816833, \"ground_truth_mass_medium\": 4.2, \"calculated_mass_medium\": 5.147754345, \"ground_truth_mass_small\": 0.2, \"calculated_mass_small\": 0.072087575, \"Rep\": \"IR2\"}, {\"inserts\": \"Medium Density\", \"ground_truth_volume_large\": 98.2, \"calculated_volume_large\": 86.86318335, \"ground_truth_volume_medium\": 21.2, \"calculated_volume_medium\": 18.04686415, \"ground_truth_volume_small\": 0.8, \"calculated_volume_small\": 1.049247626, \"ground_truth_mass_large\": 39.3, \"calculated_mass_large\": 34.74527334, \"ground_truth_mass_medium\": 8.5, \"calculated_mass_medium\": 7.218745661, \"ground_truth_mass_small\": 0.3, \"calculated_mass_small\": 0.41969905, \"Rep\": \"IR2\"}, {\"inserts\": \"High Density\", \"ground_truth_volume_large\": 98.2, \"calculated_volume_large\": 91.49494568, \"ground_truth_volume_medium\": 21.2, \"calculated_volume_medium\": 19.25301496, \"ground_truth_volume_small\": 0.8, \"calculated_volume_small\": 0.943675415, \"ground_truth_mass_large\": 78.5, \"calculated_mass_large\": 73.19595654, \"ground_truth_mass_medium\": 17.0, \"calculated_mass_medium\": 15.40241197, \"ground_truth_mass_small\": 0.6, \"calculated_mass_small\": 0.754940332, \"Rep\": \"IR2\"}, {\"inserts\": \"Low Density\", \"ground_truth_volume_large\": 98.2, \"calculated_volume_large\": 93.12662631, \"ground_truth_volume_medium\": 21.2, \"calculated_volume_medium\": 23.45026488, \"ground_truth_volume_small\": 0.8, \"calculated_volume_small\": 0.672816468, \"ground_truth_mass_large\": 19.6, \"calculated_mass_large\": 18.62532526, \"ground_truth_mass_medium\": 4.2, \"calculated_mass_medium\": 4.690052977, \"ground_truth_mass_small\": 0.2, \"calculated_mass_small\": 0.134563294, \"Rep\": \"IR4\"}, {\"inserts\": \"Medium Density\", \"ground_truth_volume_large\": 98.2, \"calculated_volume_large\": 85.40538877, \"ground_truth_volume_medium\": 21.2, \"calculated_volume_medium\": 17.07099344, \"ground_truth_volume_small\": 0.8, \"calculated_volume_small\": 0.961750239, \"ground_truth_mass_large\": 39.3, \"calculated_mass_large\": 34.16215551, \"ground_truth_mass_medium\": 8.5, \"calculated_mass_medium\": 6.828397374, \"ground_truth_mass_small\": 0.3, \"calculated_mass_small\": 0.384700096, \"Rep\": \"IR4\"}, {\"inserts\": \"High Density\", \"ground_truth_volume_large\": 98.2, \"calculated_volume_large\": 89.38590825, \"ground_truth_volume_medium\": 21.2, \"calculated_volume_medium\": 18.21852143, \"ground_truth_volume_small\": 0.8, \"calculated_volume_small\": 0.815572968, \"ground_truth_mass_large\": 78.5, \"calculated_mass_large\": 71.5087266, \"ground_truth_mass_medium\": 17.0, \"calculated_mass_medium\": 14.57481715, \"ground_truth_mass_small\": 0.6, \"calculated_mass_small\": 0.652458374, \"Rep\": \"IR4\"}, {\"inserts\": \"Low Density\", \"ground_truth_volume_large\": 98.2, \"calculated_volume_large\": 95.13819688, \"ground_truth_volume_medium\": 21.2, \"calculated_volume_medium\": 25.44858132, \"ground_truth_volume_small\": 0.8, \"calculated_volume_small\": 0.328764032, \"ground_truth_mass_large\": 19.6, \"calculated_mass_large\": 19.02763938, \"ground_truth_mass_medium\": 4.2, \"calculated_mass_medium\": 5.089716264, \"ground_truth_mass_small\": 0.2, \"calculated_mass_small\": 0.065752806, \"Rep\": \"Qr32\"}, {\"inserts\": \"Medium Density\", \"ground_truth_volume_large\": 98.2, \"calculated_volume_large\": 87.50176326, \"ground_truth_volume_medium\": 21.2, \"calculated_volume_medium\": 18.22262426, \"ground_truth_volume_small\": 0.8, \"calculated_volume_small\": 0.984949568, \"ground_truth_mass_large\": 39.3, \"calculated_mass_large\": 35.0007053, \"ground_truth_mass_medium\": 8.5, \"calculated_mass_medium\": 7.289049704, \"ground_truth_mass_small\": 0.3, \"calculated_mass_small\": 0.393979827, \"Rep\": \"Qr32\"}, {\"inserts\": \"High Density\", \"ground_truth_volume_large\": 98.2, \"calculated_volume_large\": 91.19571421, \"ground_truth_volume_medium\": 21.2, \"calculated_volume_medium\": 19.3984003, \"ground_truth_volume_small\": 0.8, \"calculated_volume_small\": 0.854526985, \"ground_truth_mass_large\": 78.5, \"calculated_mass_large\": 72.95657137, \"ground_truth_mass_medium\": 17.0, \"calculated_mass_medium\": 15.51872024, \"ground_truth_mass_small\": 0.6, \"calculated_mass_small\": 0.683621588, \"Rep\": \"Qr32\"}, {\"inserts\": \"Low Density\", \"ground_truth_volume_large\": 98.2, \"calculated_volume_large\": 96.24653575, \"ground_truth_volume_medium\": 21.2, \"calculated_volume_medium\": 27.00723172, \"ground_truth_volume_small\": 0.8, \"calculated_volume_small\": 1.188397059, \"ground_truth_mass_large\": 19.6, \"calculated_mass_large\": 19.24930715, \"ground_truth_mass_medium\": 4.2, \"calculated_mass_medium\": 5.401446344, \"ground_truth_mass_small\": 0.2, \"calculated_mass_small\": 0.237679412, \"Rep\": \"Qr44\"}, {\"inserts\": \"Medium Density\", \"ground_truth_volume_large\": 98.2, \"calculated_volume_large\": 88.70186379, \"ground_truth_volume_medium\": 21.2, \"calculated_volume_medium\": 20.24559649, \"ground_truth_volume_small\": 0.8, \"calculated_volume_small\": 1.313087721, \"ground_truth_mass_large\": 39.3, \"calculated_mass_large\": 35.48074552, \"ground_truth_mass_medium\": 8.5, \"calculated_mass_medium\": 8.098238595, \"ground_truth_mass_small\": 0.3, \"calculated_mass_small\": 0.525235088, \"Rep\": \"Qr44\"}, {\"inserts\": \"High Density\", \"ground_truth_volume_large\": 98.2, \"calculated_volume_large\": 94.32826493, \"ground_truth_volume_medium\": 21.2, \"calculated_volume_medium\": 22.30859605, \"ground_truth_volume_small\": 0.8, \"calculated_volume_small\": 1.084844049, \"ground_truth_mass_large\": 78.5, \"calculated_mass_large\": 75.46261194, \"ground_truth_mass_medium\": 17.0, \"calculated_mass_medium\": 17.84687684, \"ground_truth_mass_small\": 0.6, \"calculated_mass_small\": 0.867875239, \"Rep\": \"Qr44\"}], \"data-168629110cd23a158fa7e758d1d5cea8\": [{\"inserts\": \"Low Density\", \"ground_truth_volume_large\": 98.2, \"calculated_volume_large\": 91.30510058, \"ground_truth_volume_medium\": 21.2, \"calculated_volume_medium\": 23.00294596, \"ground_truth_volume_small\": 0.8, \"calculated_volume_small\": 0.341454141, \"ground_truth_mass_large\": 19.6, \"calculated_mass_large\": 18.26102012, \"ground_truth_mass_medium\": 4.2, \"calculated_mass_medium\": 4.600589192, \"ground_truth_mass_small\": 0.2, \"calculated_mass_small\": 0.068290828, \"Rep\": \"1mm\"}, {\"inserts\": \"Medium Density\", \"ground_truth_volume_large\": 98.2, \"calculated_volume_large\": 89.44156914, \"ground_truth_volume_medium\": 21.2, \"calculated_volume_medium\": 20.23387275, \"ground_truth_volume_small\": 0.8, \"calculated_volume_small\": 0.538220856, \"ground_truth_mass_large\": 39.3, \"calculated_mass_large\": 35.77662766, \"ground_truth_mass_medium\": 8.5, \"calculated_mass_medium\": 8.0935491, \"ground_truth_mass_small\": 0.3, \"calculated_mass_small\": 0.215288342, \"Rep\": \"1mm\"}, {\"inserts\": \"High Density\", \"ground_truth_volume_large\": 98.2, \"calculated_volume_large\": 87.86102647, \"ground_truth_volume_medium\": 21.2, \"calculated_volume_medium\": 21.08112295, \"ground_truth_volume_small\": 0.8, \"calculated_volume_small\": 0.831779038, \"ground_truth_mass_large\": 78.5, \"calculated_mass_large\": 70.28882118, \"ground_truth_mass_medium\": 17.0, \"calculated_mass_medium\": 16.86489836, \"ground_truth_mass_small\": 0.6, \"calculated_mass_small\": 0.66542323, \"Rep\": \"1mm\"}, {\"inserts\": \"Low Density\", \"ground_truth_volume_large\": 98.2, \"calculated_volume_large\": 104.9208017, \"ground_truth_volume_medium\": 21.2, \"calculated_volume_medium\": 28.82232749, \"ground_truth_volume_small\": 0.8, \"calculated_volume_small\": 0.201937558, \"ground_truth_mass_large\": 19.6, \"calculated_mass_large\": 20.98416034, \"ground_truth_mass_medium\": 4.2, \"calculated_mass_medium\": 5.764465497, \"ground_truth_mass_small\": 0.2, \"calculated_mass_small\": 0.040387512, \"Rep\": \"2mm\"}, {\"inserts\": \"Medium Density\", \"ground_truth_volume_large\": 98.2, \"calculated_volume_large\": 99.73149439, \"ground_truth_volume_medium\": 21.2, \"calculated_volume_medium\": 20.46192585, \"ground_truth_volume_small\": 0.8, \"calculated_volume_small\": 0.991091028, \"ground_truth_mass_large\": 39.3, \"calculated_mass_large\": 39.89259776, \"ground_truth_mass_medium\": 8.5, \"calculated_mass_medium\": 8.18477034, \"ground_truth_mass_small\": 0.3, \"calculated_mass_small\": 0.396436411, \"Rep\": \"2mm\"}, {\"inserts\": \"High Density\", \"ground_truth_volume_large\": 98.2, \"calculated_volume_large\": 98.55691758, \"ground_truth_volume_medium\": 21.2, \"calculated_volume_medium\": 22.04153053, \"ground_truth_volume_small\": 0.8, \"calculated_volume_small\": 0.886709839, \"ground_truth_mass_large\": 78.5, \"calculated_mass_large\": 78.84553407, \"ground_truth_mass_medium\": 17.0, \"calculated_mass_medium\": 17.63322443, \"ground_truth_mass_small\": 0.6, \"calculated_mass_small\": 0.709367871, \"Rep\": \"2mm\"}, {\"inserts\": \"Low Density\", \"ground_truth_volume_large\": 98.2, \"calculated_volume_large\": 123.6956615, \"ground_truth_volume_medium\": 21.2, \"calculated_volume_medium\": 33.89532261, \"ground_truth_volume_small\": 0.8, \"calculated_volume_small\": 0.016435833, \"ground_truth_mass_large\": 19.6, \"calculated_mass_large\": 24.7391323, \"ground_truth_mass_medium\": 4.2, \"calculated_mass_medium\": 6.779064521, \"ground_truth_mass_small\": 0.2, \"calculated_mass_small\": 0.003287167, \"Rep\": \"22mAs\"}, {\"inserts\": \"Medium Density\", \"ground_truth_volume_large\": 98.2, \"calculated_volume_large\": 119.1896809, \"ground_truth_volume_medium\": 21.2, \"calculated_volume_medium\": 22.00512262, \"ground_truth_volume_small\": 0.8, \"calculated_volume_small\": 1.162220486, \"ground_truth_mass_large\": 39.3, \"calculated_mass_large\": 47.67587237, \"ground_truth_mass_medium\": 8.5, \"calculated_mass_medium\": 8.802049049, \"ground_truth_mass_small\": 0.3, \"calculated_mass_small\": 0.464888194, \"Rep\": \"22mAs\"}, {\"inserts\": \"High Density\", \"ground_truth_volume_large\": 98.2, \"calculated_volume_large\": 120.222245, \"ground_truth_volume_medium\": 21.2, \"calculated_volume_medium\": 22.72660556, \"ground_truth_volume_small\": 0.8, \"calculated_volume_small\": 1.56352072, \"ground_truth_mass_large\": 78.5, \"calculated_mass_large\": 96.17779599, \"ground_truth_mass_medium\": 17.0, \"calculated_mass_medium\": 18.18128444, \"ground_truth_mass_small\": 0.6, \"calculated_mass_small\": 1.250816576, \"Rep\": \"22mAs\"}, {\"inserts\": \"Low Density\", \"ground_truth_volume_large\": 98.2, \"calculated_volume_large\": 125.1087627, \"ground_truth_volume_medium\": 21.2, \"calculated_volume_medium\": 18.56358081, \"ground_truth_volume_small\": 0.8, \"calculated_volume_small\": 0.0, \"ground_truth_mass_large\": 19.6, \"calculated_mass_large\": 25.02175254, \"ground_truth_mass_medium\": 4.2, \"calculated_mass_medium\": 3.712716162, \"ground_truth_mass_small\": 0.2, \"calculated_mass_small\": 0.0, \"Rep\": \"34mAs\"}, {\"inserts\": \"Medium Density\", \"ground_truth_volume_large\": 98.2, \"calculated_volume_large\": 126.5350491, \"ground_truth_volume_medium\": 21.2, \"calculated_volume_medium\": 24.83925855, \"ground_truth_volume_small\": 0.8, \"calculated_volume_small\": 1.196975114, \"ground_truth_mass_large\": 39.3, \"calculated_mass_large\": 50.61401964, \"ground_truth_mass_medium\": 8.5, \"calculated_mass_medium\": 9.935703418, \"ground_truth_mass_small\": 0.3, \"calculated_mass_small\": 0.478790046, \"Rep\": \"34mAs\"}, {\"inserts\": \"High Density\", \"ground_truth_volume_large\": 98.2, \"calculated_volume_large\": 119.6833766, \"ground_truth_volume_medium\": 21.2, \"calculated_volume_medium\": 27.40713007, \"ground_truth_volume_small\": 0.8, \"calculated_volume_small\": 0.614610766, \"ground_truth_mass_large\": 78.5, \"calculated_mass_large\": 95.7467013, \"ground_truth_mass_medium\": 17.0, \"calculated_mass_medium\": 21.92570406, \"ground_truth_mass_small\": 0.6, \"calculated_mass_small\": 0.491688613, \"Rep\": \"34mAs\"}, {\"inserts\": \"Low Density\", \"ground_truth_volume_large\": 98.2, \"calculated_volume_large\": 114.8220824, \"ground_truth_volume_medium\": 21.2, \"calculated_volume_medium\": 27.91678788, \"ground_truth_volume_small\": 0.8, \"calculated_volume_small\": 0.649968591, \"ground_truth_mass_large\": 19.6, \"calculated_mass_large\": 22.96441649, \"ground_truth_mass_medium\": 4.2, \"calculated_mass_medium\": 5.583357575, \"ground_truth_mass_small\": 0.2, \"calculated_mass_small\": 0.129993718, \"Rep\": \"80kV\"}, {\"inserts\": \"Medium Density\", \"ground_truth_volume_large\": 98.2, \"calculated_volume_large\": 123.5416525, \"ground_truth_volume_medium\": 21.2, \"calculated_volume_medium\": 25.38172804, \"ground_truth_volume_small\": 0.8, \"calculated_volume_small\": 0.401995349, \"ground_truth_mass_large\": 39.3, \"calculated_mass_large\": 49.416661, \"ground_truth_mass_medium\": 8.5, \"calculated_mass_medium\": 10.15269121, \"ground_truth_mass_small\": 0.3, \"calculated_mass_small\": 0.16079814, \"Rep\": \"80kV\"}, {\"inserts\": \"High Density\", \"ground_truth_volume_large\": 98.2, \"calculated_volume_large\": 116.359179, \"ground_truth_volume_medium\": 21.2, \"calculated_volume_medium\": 26.92946951, \"ground_truth_volume_small\": 0.8, \"calculated_volume_small\": 0.985885793, \"ground_truth_mass_large\": 78.5, \"calculated_mass_large\": 93.08734323, \"ground_truth_mass_medium\": 17.0, \"calculated_mass_medium\": 21.54357561, \"ground_truth_mass_small\": 0.6, \"calculated_mass_small\": 0.788708634, \"Rep\": \"80kV\"}, {\"inserts\": \"Low Density\", \"ground_truth_volume_large\": 98.2, \"calculated_volume_large\": 115.2724217, \"ground_truth_volume_medium\": 21.2, \"calculated_volume_medium\": 31.76787738, \"ground_truth_volume_small\": 0.8, \"calculated_volume_small\": 0.0, \"ground_truth_mass_large\": 19.6, \"calculated_mass_large\": 23.05448433, \"ground_truth_mass_medium\": 4.2, \"calculated_mass_medium\": 6.353575475, \"ground_truth_mass_small\": 0.2, \"calculated_mass_small\": 0.0, \"Rep\": \"100kV\"}, {\"inserts\": \"Medium Density\", \"ground_truth_volume_large\": 98.2, \"calculated_volume_large\": 116.6348697, \"ground_truth_volume_medium\": 21.2, \"calculated_volume_medium\": 27.24442456, \"ground_truth_volume_small\": 0.8, \"calculated_volume_small\": 0.377144957, \"ground_truth_mass_large\": 39.3, \"calculated_mass_large\": 46.6539479, \"ground_truth_mass_medium\": 8.5, \"calculated_mass_medium\": 10.89776983, \"ground_truth_mass_small\": 0.3, \"calculated_mass_small\": 0.150857983, \"Rep\": \"100kV\"}, {\"inserts\": \"High Density\", \"ground_truth_volume_large\": 98.2, \"calculated_volume_large\": 119.4068673, \"ground_truth_volume_medium\": 21.2, \"calculated_volume_medium\": 27.78635353, \"ground_truth_volume_small\": 0.8, \"calculated_volume_small\": 0.553615593, \"ground_truth_mass_large\": 78.5, \"calculated_mass_large\": 95.52549385, \"ground_truth_mass_medium\": 17.0, \"calculated_mass_medium\": 22.22908282, \"ground_truth_mass_small\": 0.6, \"calculated_mass_small\": 0.442892474, \"Rep\": \"100kV\"}, {\"inserts\": \"Low Density\", \"ground_truth_volume_large\": 98.2, \"calculated_volume_large\": 117.1446603, \"ground_truth_volume_medium\": 21.2, \"calculated_volume_medium\": 29.87131323, \"ground_truth_volume_small\": 0.8, \"calculated_volume_small\": 0.658755, \"ground_truth_mass_large\": 19.6, \"calculated_mass_large\": 23.42893206, \"ground_truth_mass_medium\": 4.2, \"calculated_mass_medium\": 5.974262646, \"ground_truth_mass_small\": 0.2, \"calculated_mass_small\": 0.131751, \"Rep\": \"FOV200\"}, {\"inserts\": \"Medium Density\", \"ground_truth_volume_large\": 98.2, \"calculated_volume_large\": 116.9974562, \"ground_truth_volume_medium\": 21.2, \"calculated_volume_medium\": 20.52287938, \"ground_truth_volume_small\": 0.8, \"calculated_volume_small\": 0.867536391, \"ground_truth_mass_large\": 39.3, \"calculated_mass_large\": 46.79898247, \"ground_truth_mass_medium\": 8.5, \"calculated_mass_medium\": 8.209151753, \"ground_truth_mass_small\": 0.3, \"calculated_mass_small\": 0.347014557, \"Rep\": \"FOV200\"}, {\"inserts\": \"High Density\", \"ground_truth_volume_large\": 98.2, \"calculated_volume_large\": 113.5929609, \"ground_truth_volume_medium\": 21.2, \"calculated_volume_medium\": 23.70880836, \"ground_truth_volume_small\": 0.8, \"calculated_volume_small\": 0.895015228, \"ground_truth_mass_large\": 78.5, \"calculated_mass_large\": 90.87436875, \"ground_truth_mass_medium\": 17.0, \"calculated_mass_medium\": 18.96704669, \"ground_truth_mass_small\": 0.6, \"calculated_mass_small\": 0.716012183, \"Rep\": \"FOV200\"}, {\"inserts\": \"Low Density\", \"ground_truth_volume_large\": 98.2, \"calculated_volume_large\": 115.300355, \"ground_truth_volume_medium\": 21.2, \"calculated_volume_medium\": 22.41811887, \"ground_truth_volume_small\": 0.8, \"calculated_volume_small\": 0.255969359, \"ground_truth_mass_large\": 19.6, \"calculated_mass_large\": 23.06007099, \"ground_truth_mass_medium\": 4.2, \"calculated_mass_medium\": 4.483623774, \"ground_truth_mass_small\": 0.2, \"calculated_mass_small\": 0.051193872, \"Rep\": \"FOV320\"}, {\"inserts\": \"Medium Density\", \"ground_truth_volume_large\": 98.2, \"calculated_volume_large\": 108.5041025, \"ground_truth_volume_medium\": 21.2, \"calculated_volume_medium\": 25.18136417, \"ground_truth_volume_small\": 0.8, \"calculated_volume_small\": 0.360536148, \"ground_truth_mass_large\": 39.3, \"calculated_mass_large\": 43.40164099, \"ground_truth_mass_medium\": 8.5, \"calculated_mass_medium\": 10.07254567, \"ground_truth_mass_small\": 0.3, \"calculated_mass_small\": 0.144214459, \"Rep\": \"FOV320\"}, {\"inserts\": \"High Density\", \"ground_truth_volume_large\": 98.2, \"calculated_volume_large\": 116.0014434, \"ground_truth_volume_medium\": 21.2, \"calculated_volume_medium\": 25.45131068, \"ground_truth_volume_small\": 0.8, \"calculated_volume_small\": 0.822850049, \"ground_truth_mass_large\": 78.5, \"calculated_mass_large\": 92.80115468, \"ground_truth_mass_medium\": 17.0, \"calculated_mass_medium\": 20.36104855, \"ground_truth_mass_small\": 0.6, \"calculated_mass_small\": 0.658280039, \"Rep\": \"FOV320\"}, {\"inserts\": \"Low Density\", \"ground_truth_volume_large\": 98.2, \"calculated_volume_large\": 118.7302047, \"ground_truth_volume_medium\": 21.2, \"calculated_volume_medium\": 32.02875537, \"ground_truth_volume_small\": 0.8, \"calculated_volume_small\": 0.464620922, \"ground_truth_mass_large\": 19.6, \"calculated_mass_large\": 23.74604094, \"ground_truth_mass_medium\": 4.2, \"calculated_mass_medium\": 6.405751073, \"ground_truth_mass_small\": 0.2, \"calculated_mass_small\": 0.092924184, \"Rep\": \"IR2\"}, {\"inserts\": \"Medium Density\", \"ground_truth_volume_large\": 98.2, \"calculated_volume_large\": 111.5320087, \"ground_truth_volume_medium\": 21.2, \"calculated_volume_medium\": 23.09884159, \"ground_truth_volume_small\": 0.8, \"calculated_volume_small\": 1.350895617, \"ground_truth_mass_large\": 39.3, \"calculated_mass_large\": 44.61280349, \"ground_truth_mass_medium\": 8.5, \"calculated_mass_medium\": 9.239536637, \"ground_truth_mass_small\": 0.3, \"calculated_mass_small\": 0.540358247, \"Rep\": \"IR2\"}, {\"inserts\": \"High Density\", \"ground_truth_volume_large\": 98.2, \"calculated_volume_large\": 118.0513295, \"ground_truth_volume_medium\": 21.2, \"calculated_volume_medium\": 24.86693611, \"ground_truth_volume_small\": 0.8, \"calculated_volume_small\": 1.216023075, \"ground_truth_mass_large\": 78.5, \"calculated_mass_large\": 94.44106357, \"ground_truth_mass_medium\": 17.0, \"calculated_mass_medium\": 19.89354889, \"ground_truth_mass_small\": 0.6, \"calculated_mass_small\": 0.97281846, \"Rep\": \"IR2\"}, {\"inserts\": \"Low Density\", \"ground_truth_volume_large\": 98.2, \"calculated_volume_large\": 116.6090428, \"ground_truth_volume_medium\": 21.2, \"calculated_volume_medium\": 29.32243809, \"ground_truth_volume_small\": 0.8, \"calculated_volume_small\": 0.871405456, \"ground_truth_mass_large\": 19.6, \"calculated_mass_large\": 23.32180857, \"ground_truth_mass_medium\": 4.2, \"calculated_mass_medium\": 5.864487619, \"ground_truth_mass_small\": 0.2, \"calculated_mass_small\": 0.174281091, \"Rep\": \"IR4\"}, {\"inserts\": \"Medium Density\", \"ground_truth_volume_large\": 98.2, \"calculated_volume_large\": 110.1405223, \"ground_truth_volume_medium\": 21.2, \"calculated_volume_medium\": 21.94446571, \"ground_truth_volume_small\": 0.8, \"calculated_volume_small\": 1.245116477, \"ground_truth_mass_large\": 39.3, \"calculated_mass_large\": 44.05620893, \"ground_truth_mass_medium\": 8.5, \"calculated_mass_medium\": 8.777786284, \"ground_truth_mass_small\": 0.3, \"calculated_mass_small\": 0.498046591, \"Rep\": \"IR4\"}, {\"inserts\": \"High Density\", \"ground_truth_volume_large\": 98.2, \"calculated_volume_large\": 115.9132356, \"ground_truth_volume_medium\": 21.2, \"calculated_volume_medium\": 23.65682697, \"ground_truth_volume_small\": 0.8, \"calculated_volume_small\": 1.057099924, \"ground_truth_mass_large\": 78.5, \"calculated_mass_large\": 92.7305885, \"ground_truth_mass_medium\": 17.0, \"calculated_mass_medium\": 18.92546158, \"ground_truth_mass_small\": 0.6, \"calculated_mass_small\": 0.845679939, \"Rep\": \"IR4\"}, {\"inserts\": \"Low Density\", \"ground_truth_volume_large\": 98.2, \"calculated_volume_large\": 121.414234, \"ground_truth_volume_medium\": 21.2, \"calculated_volume_medium\": 32.39918423, \"ground_truth_volume_small\": 0.8, \"calculated_volume_small\": 0.42870388, \"ground_truth_mass_large\": 19.6, \"calculated_mass_large\": 24.2828468, \"ground_truth_mass_medium\": 4.2, \"calculated_mass_medium\": 6.479836847, \"ground_truth_mass_small\": 0.2, \"calculated_mass_small\": 0.085740776, \"Rep\": \"Qr32\"}, {\"inserts\": \"Medium Density\", \"ground_truth_volume_large\": 98.2, \"calculated_volume_large\": 114.0482485, \"ground_truth_volume_medium\": 21.2, \"calculated_volume_medium\": 23.68173619, \"ground_truth_volume_small\": 0.8, \"calculated_volume_small\": 1.283057606, \"ground_truth_mass_large\": 39.3, \"calculated_mass_large\": 45.6192994, \"ground_truth_mass_medium\": 8.5, \"calculated_mass_medium\": 9.472694475, \"ground_truth_mass_small\": 0.3, \"calculated_mass_small\": 0.513223042, \"Rep\": \"Qr32\"}, {\"inserts\": \"High Density\", \"ground_truth_volume_large\": 98.2, \"calculated_volume_large\": 119.1283928, \"ground_truth_volume_medium\": 21.2, \"calculated_volume_medium\": 25.3446841, \"ground_truth_volume_small\": 0.8, \"calculated_volume_small\": 1.114418601, \"ground_truth_mass_large\": 78.5, \"calculated_mass_large\": 95.30271423, \"ground_truth_mass_medium\": 17.0, \"calculated_mass_medium\": 20.27574728, \"ground_truth_mass_small\": 0.6, \"calculated_mass_small\": 0.891534881, \"Rep\": \"Qr32\"}, {\"inserts\": \"Low Density\", \"ground_truth_volume_large\": 98.2, \"calculated_volume_large\": 117.8333272, \"ground_truth_volume_medium\": 21.2, \"calculated_volume_medium\": 32.88709426, \"ground_truth_volume_small\": 0.8, \"calculated_volume_small\": 1.500141441, \"ground_truth_mass_large\": 19.6, \"calculated_mass_large\": 23.56666544, \"ground_truth_mass_medium\": 4.2, \"calculated_mass_medium\": 6.577418852, \"ground_truth_mass_small\": 0.2, \"calculated_mass_small\": 0.300028288, \"Rep\": \"Qr44\"}, {\"inserts\": \"Medium Density\", \"ground_truth_volume_large\": 98.2, \"calculated_volume_large\": 111.7824649, \"ground_truth_volume_medium\": 21.2, \"calculated_volume_medium\": 25.41652926, \"ground_truth_volume_small\": 0.8, \"calculated_volume_small\": 1.658125746, \"ground_truth_mass_large\": 39.3, \"calculated_mass_large\": 44.71298598, \"ground_truth_mass_medium\": 8.5, \"calculated_mass_medium\": 10.16661171, \"ground_truth_mass_small\": 0.3, \"calculated_mass_small\": 0.663250298, \"Rep\": \"Qr44\"}, {\"inserts\": \"High Density\", \"ground_truth_volume_large\": 98.2, \"calculated_volume_large\": 119.5140981, \"ground_truth_volume_medium\": 21.2, \"calculated_volume_medium\": 28.22843573, \"ground_truth_volume_small\": 0.8, \"calculated_volume_small\": 1.372622519, \"ground_truth_mass_large\": 78.5, \"calculated_mass_large\": 95.61127848, \"ground_truth_mass_medium\": 17.0, \"calculated_mass_medium\": 22.58274859, \"ground_truth_mass_small\": 0.6, \"calculated_mass_small\": 1.098098015, \"Rep\": \"Qr44\"}]}}, {\"mode\": \"vega-lite\"});\n</script>",
      "text/plain": "alt.HConcatChart(...)"
     },
     "metadata": {}
    }
   ],
   "execution_count": 174
  },
  {
   "cell_type": "markdown",
   "source": "### Volume Score",
   "metadata": {
    "cell_id": "4b7a8d27-6458-45e8-a47d-b853e11a8a79",
    "tags": [],
    "is_collapsed": false,
    "deepnote_cell_type": "text-cell-h3"
   }
  },
  {
   "cell_type": "code",
   "source": "Add2_vol = vol_prep(Add2)\nAdd3_vol = vol_prep(Add3)",
   "metadata": {
    "cell_id": "a67b83f9-5ec0-4822-b768-4e92f9961677",
    "tags": [],
    "deepnote_to_be_reexecuted": false,
    "source_hash": "9d165c1c",
    "execution_start": 1643837516752,
    "execution_millis": 1,
    "deepnote_cell_type": "code"
   },
   "outputs": [],
   "execution_count": 175
  },
  {
   "cell_type": "code",
   "source": "X_Add2_V = Add2_vol.ground_truth_volume.to_numpy().reshape(-1,1)\ny_Add2_V = Add2_vol.calculated_volume.to_numpy().reshape(-1,1)\nreg_Add2_V = LinearRegression().fit(X_Add2_V,y_Add2_V)\nAdd2_scoreV = reg_Add2_S.score(X_Add2_V,y_Add2_V)\nAdd2_scoreV",
   "metadata": {
    "cell_id": "e3a1c1e4-d65e-4170-b381-59dce6a15c55",
    "tags": [],
    "deepnote_to_be_reexecuted": false,
    "source_hash": "5e97eb5f",
    "execution_start": 1643837564990,
    "execution_millis": 2,
    "deepnote_output_heights": [
     21.1875
    ],
    "deepnote_cell_type": "code"
   },
   "outputs": [
    {
     "output_type": "execute_result",
     "execution_count": 176,
     "data": {
      "text/plain": "0.647471923391861"
     },
     "metadata": {}
    }
   ],
   "execution_count": 176
  },
  {
   "cell_type": "code",
   "source": "c2V,d2V = [reg_Add2_V.coef_[0,0],reg_Add2_V.intercept_[0]]\nprint(\"y = {} x + {}\".format(str(c2V),str(d2V)))",
   "metadata": {
    "cell_id": "23835159-d7af-42e2-a9b1-4c8be381514d",
    "tags": [],
    "deepnote_to_be_reexecuted": false,
    "source_hash": "2e4325da",
    "execution_start": 1643837615405,
    "execution_millis": 2,
    "deepnote_cell_type": "code"
   },
   "outputs": [
    {
     "name": "stdout",
     "text": "y = 0.9417298226699149 x + 0.3727428349420734\n",
     "output_type": "stream"
    }
   ],
   "execution_count": 178
  },
  {
   "cell_type": "code",
   "source": "X_Add3_V = Add3_vol.ground_truth_volume.to_numpy().reshape(-1,1)\ny_Add3_V = Add3_vol.calculated_volume.to_numpy().reshape(-1,1)\nreg_Add3_V = LinearRegression().fit(X_Add3_V,y_Add3_V)\nAdd3_scoreV = reg_Add3_S.score(X_Add3_V,y_Add3_V)\nAdd3_scoreV",
   "metadata": {
    "cell_id": "d600e31d-e838-4f95-9805-e3c1b47a84fd",
    "tags": [],
    "deepnote_to_be_reexecuted": false,
    "source_hash": "f695ff1f",
    "execution_start": 1643837588493,
    "execution_millis": 22,
    "deepnote_output_heights": [
     21.1875
    ],
    "deepnote_cell_type": "code"
   },
   "outputs": [
    {
     "output_type": "execute_result",
     "execution_count": 177,
     "data": {
      "text/plain": "0.6183012296423085"
     },
     "metadata": {}
    }
   ],
   "execution_count": 177
  },
  {
   "cell_type": "code",
   "source": "c3V,d3V = [reg_Add3_V.coef_[0,0],reg_Add3_V.intercept_[0]]\nprint(\"y = {} x + {}\".format(str(c3V),str(d3V)))",
   "metadata": {
    "cell_id": "9f1ba1e2-e248-43e5-b43c-fc6628587577",
    "tags": [],
    "deepnote_to_be_reexecuted": false,
    "source_hash": "e2943f04",
    "execution_start": 1643837630878,
    "execution_millis": 35,
    "deepnote_cell_type": "code"
   },
   "outputs": [
    {
     "name": "stdout",
     "text": "y = 1.1553792146120625 x + 0.4244766318674422\n",
     "output_type": "stream"
    }
   ],
   "execution_count": 179
  },
  {
   "cell_type": "code",
   "source": "Add_true.append(X_Add2_V)\nAdd_pred.append(y_Add2_V)\nAdd_true.append(X_Add3_V)\nAdd_pred.append(y_Add3_V)",
   "metadata": {
    "cell_id": "83a94092-a733-4e14-8945-b463418e898e",
    "tags": [],
    "deepnote_to_be_reexecuted": false,
    "source_hash": "7f1380d",
    "execution_start": 1643837872291,
    "execution_millis": 14,
    "deepnote_cell_type": "code"
   },
   "outputs": [],
   "execution_count": 186
  },
  {
   "cell_type": "code",
   "source": "Add2_volume = chart_plot_vol(Add2_vol)\nAdd3_volume = chart_plot_vol(Add3_vol)\nAdd2_volume | Add3_volume",
   "metadata": {
    "cell_id": "59357e17-5543-4088-b7b8-af4f8409d06c",
    "tags": [],
    "deepnote_to_be_reexecuted": false,
    "source_hash": "449266fc",
    "execution_start": 1643837664848,
    "execution_millis": 507,
    "deepnote_output_heights": [
     363
    ],
    "deepnote_cell_type": "code"
   },
   "outputs": [
    {
     "output_type": "execute_result",
     "execution_count": 180,
     "data": {
      "text/html": "\n<div id=\"altair-viz-39b9dc85770540009b153b99a7415da1\"></div>\n<script type=\"text/javascript\">\n  (function(spec, embedOpt){\n    let outputDiv = document.currentScript.previousElementSibling;\n    if (outputDiv.id !== \"altair-viz-39b9dc85770540009b153b99a7415da1\") {\n      outputDiv = document.getElementById(\"altair-viz-39b9dc85770540009b153b99a7415da1\");\n    }\n    const paths = {\n      \"vega\": \"https://cdn.jsdelivr.net/npm//vega@5?noext\",\n      \"vega-lib\": \"https://cdn.jsdelivr.net/npm//vega-lib?noext\",\n      \"vega-lite\": \"https://cdn.jsdelivr.net/npm//vega-lite@4.8.1?noext\",\n      \"vega-embed\": \"https://cdn.jsdelivr.net/npm//vega-embed@6?noext\",\n    };\n\n    function loadScript(lib) {\n      return new Promise(function(resolve, reject) {\n        var s = document.createElement('script');\n        s.src = paths[lib];\n        s.async = true;\n        s.onload = () => resolve(paths[lib]);\n        s.onerror = () => reject(`Error loading script: ${paths[lib]}`);\n        document.getElementsByTagName(\"head\")[0].appendChild(s);\n      });\n    }\n\n    function showError(err) {\n      outputDiv.innerHTML = `<div class=\"error\" style=\"color:red;\">${err}</div>`;\n      throw err;\n    }\n\n    function displayChart(vegaEmbed) {\n      vegaEmbed(outputDiv, spec, embedOpt)\n        .catch(err => showError(`Javascript Error: ${err.message}<br>This usually means there's a typo in your chart specification. See the javascript console for the full traceback.`));\n    }\n\n    if(typeof define === \"function\" && define.amd) {\n      requirejs.config({paths});\n      require([\"vega-embed\"], displayChart, err => showError(`Error loading script: ${err.message}`));\n    } else if (typeof vegaEmbed === \"function\") {\n      displayChart(vegaEmbed);\n    } else {\n      loadScript(\"vega\")\n        .then(() => loadScript(\"vega-lite\"))\n        .then(() => loadScript(\"vega-embed\"))\n        .catch(showError)\n        .then(() => displayChart(vegaEmbed));\n    }\n  })({\"config\": {\"view\": {\"continuousWidth\": 400, \"continuousHeight\": 300}}, \"hconcat\": [{\"layer\": [{\"data\": {\"name\": \"data-55f38220da6f2d000556ec95b7012517\"}, \"mark\": \"circle\", \"encoding\": {\"color\": {\"type\": \"nominal\", \"field\": \"Rep\"}, \"x\": {\"type\": \"quantitative\", \"field\": \"ground_truth_volume\"}, \"y\": {\"type\": \"quantitative\", \"field\": \"calculated_volume\"}}}, {\"data\": {\"name\": \"data-53394a6a581bc7d3ef85fd810b13f48f\"}, \"mark\": \"line\", \"encoding\": {\"color\": {\"type\": \"nominal\", \"field\": \"Rep\"}, \"x\": {\"type\": \"quantitative\", \"field\": \"ground_truth_volume\"}, \"y\": {\"type\": \"quantitative\", \"field\": \"calculated_volume\"}}, \"transform\": [{\"on\": \"ground_truth_volume\", \"regression\": \"calculated_volume\", \"method\": \"linear\"}]}, {\"data\": {\"name\": \"data-53394a6a581bc7d3ef85fd810b13f48f\"}, \"mark\": {\"type\": \"line\", \"color\": \"red\"}, \"encoding\": {\"x\": {\"type\": \"quantitative\", \"field\": \"ground_truth_volume\"}, \"y\": {\"type\": \"quantitative\", \"field\": \"ground_truth_volume\"}}}]}, {\"layer\": [{\"data\": {\"name\": \"data-9850aa1ed0a78c7a9a8ef3c9d6e49aef\"}, \"mark\": \"circle\", \"encoding\": {\"color\": {\"type\": \"nominal\", \"field\": \"Rep\"}, \"x\": {\"type\": \"quantitative\", \"field\": \"ground_truth_volume\"}, \"y\": {\"type\": \"quantitative\", \"field\": \"calculated_volume\"}}}, {\"data\": {\"name\": \"data-53394a6a581bc7d3ef85fd810b13f48f\"}, \"mark\": \"line\", \"encoding\": {\"color\": {\"type\": \"nominal\", \"field\": \"Rep\"}, \"x\": {\"type\": \"quantitative\", \"field\": \"ground_truth_volume\"}, \"y\": {\"type\": \"quantitative\", \"field\": \"calculated_volume\"}}, \"transform\": [{\"on\": \"ground_truth_volume\", \"regression\": \"calculated_volume\", \"method\": \"linear\"}]}, {\"data\": {\"name\": \"data-53394a6a581bc7d3ef85fd810b13f48f\"}, \"mark\": {\"type\": \"line\", \"color\": \"red\"}, \"encoding\": {\"x\": {\"type\": \"quantitative\", \"field\": \"ground_truth_volume\"}, \"y\": {\"type\": \"quantitative\", \"field\": \"ground_truth_volume\"}}}]}], \"$schema\": \"https://vega.github.io/schema/vega-lite/v4.8.1.json\", \"datasets\": {\"data-55f38220da6f2d000556ec95b7012517\": [{\"Rep\": \"1mm\", \"ground_truth_volume\": 98.2, \"calculated_volume\": 90.20585537}, {\"Rep\": \"1mm\", \"ground_truth_volume\": 98.2, \"calculated_volume\": 87.87848832}, {\"Rep\": \"1mm\", \"ground_truth_volume\": 98.2, \"calculated_volume\": 86.14648812}, {\"Rep\": \"2mm\", \"ground_truth_volume\": 98.2, \"calculated_volume\": 98.30085954}, {\"Rep\": \"2mm\", \"ground_truth_volume\": 98.2, \"calculated_volume\": 93.89171689}, {\"Rep\": \"2mm\", \"ground_truth_volume\": 98.2, \"calculated_volume\": 93.15881318}, {\"Rep\": \"22mAs\", \"ground_truth_volume\": 98.2, \"calculated_volume\": 99.74603055}, {\"Rep\": \"22mAs\", \"ground_truth_volume\": 98.2, \"calculated_volume\": 93.63222839}, {\"Rep\": \"22mAs\", \"ground_truth_volume\": 98.2, \"calculated_volume\": 93.5545313}, {\"Rep\": \"34mAs\", \"ground_truth_volume\": 98.2, \"calculated_volume\": 101.3748387}, {\"Rep\": \"34mAs\", \"ground_truth_volume\": 98.2, \"calculated_volume\": 99.99056952}, {\"Rep\": \"34mAs\", \"ground_truth_volume\": 98.2, \"calculated_volume\": 93.15593848}, {\"Rep\": \"80kV\", \"ground_truth_volume\": 98.2, \"calculated_volume\": 96.21974186}, {\"Rep\": \"80kV\", \"ground_truth_volume\": 98.2, \"calculated_volume\": 99.39214731}, {\"Rep\": \"80kV\", \"ground_truth_volume\": 98.2, \"calculated_volume\": 91.49689907}, {\"Rep\": \"100kV\", \"ground_truth_volume\": 98.2, \"calculated_volume\": 92.76070783}, {\"Rep\": \"100kV\", \"ground_truth_volume\": 98.2, \"calculated_volume\": 91.98982369}, {\"Rep\": \"100kV\", \"ground_truth_volume\": 98.2, \"calculated_volume\": 93.26895666}, {\"Rep\": \"FOV200\", \"ground_truth_volume\": 98.2, \"calculated_volume\": 94.92150251}, {\"Rep\": \"FOV200\", \"ground_truth_volume\": 98.2, \"calculated_volume\": 92.44965594}, {\"Rep\": \"FOV200\", \"ground_truth_volume\": 98.2, \"calculated_volume\": 88.56417753}, {\"Rep\": \"FOV320\", \"ground_truth_volume\": 98.2, \"calculated_volume\": 93.65814507}, {\"Rep\": \"FOV320\", \"ground_truth_volume\": 98.2, \"calculated_volume\": 85.9960784}, {\"Rep\": \"FOV320\", \"ground_truth_volume\": 98.2, \"calculated_volume\": 91.7202542}, {\"Rep\": \"IR2\", \"ground_truth_volume\": 98.2, \"calculated_volume\": 95.14084166}, {\"Rep\": \"IR2\", \"ground_truth_volume\": 98.2, \"calculated_volume\": 86.86318335}, {\"Rep\": \"IR2\", \"ground_truth_volume\": 98.2, \"calculated_volume\": 91.49494568}, {\"Rep\": \"IR4\", \"ground_truth_volume\": 98.2, \"calculated_volume\": 93.12662631}, {\"Rep\": \"IR4\", \"ground_truth_volume\": 98.2, \"calculated_volume\": 85.40538877}, {\"Rep\": \"IR4\", \"ground_truth_volume\": 98.2, \"calculated_volume\": 89.38590825}, {\"Rep\": \"Qr32\", \"ground_truth_volume\": 98.2, \"calculated_volume\": 95.13819688}, {\"Rep\": \"Qr32\", \"ground_truth_volume\": 98.2, \"calculated_volume\": 87.50176326}, {\"Rep\": \"Qr32\", \"ground_truth_volume\": 98.2, \"calculated_volume\": 91.19571421}, {\"Rep\": \"Qr44\", \"ground_truth_volume\": 98.2, \"calculated_volume\": 96.24653575}, {\"Rep\": \"Qr44\", \"ground_truth_volume\": 98.2, \"calculated_volume\": 88.70186379}, {\"Rep\": \"Qr44\", \"ground_truth_volume\": 98.2, \"calculated_volume\": 94.32826493}, {\"Rep\": \"1mm\", \"ground_truth_volume\": 21.2, \"calculated_volume\": 22.73042541}, {\"Rep\": \"1mm\", \"ground_truth_volume\": 21.2, \"calculated_volume\": 19.88935173}, {\"Rep\": \"1mm\", \"ground_truth_volume\": 21.2, \"calculated_volume\": 20.67053428}, {\"Rep\": \"2mm\", \"ground_truth_volume\": 21.2, \"calculated_volume\": 27.0388283}, {\"Rep\": \"2mm\", \"ground_truth_volume\": 21.2, \"calculated_volume\": 19.27041713}, {\"Rep\": \"2mm\", \"ground_truth_volume\": 21.2, \"calculated_volume\": 20.828385}, {\"Rep\": \"22mAs\", \"ground_truth_volume\": 21.2, \"calculated_volume\": 27.45132971}, {\"Rep\": \"22mAs\", \"ground_truth_volume\": 21.2, \"calculated_volume\": 17.26774695}, {\"Rep\": \"22mAs\", \"ground_truth_volume\": 21.2, \"calculated_volume\": 17.64701662}, {\"Rep\": \"34mAs\", \"ground_truth_volume\": 21.2, \"calculated_volume\": 14.9494636}, {\"Rep\": \"34mAs\", \"ground_truth_volume\": 21.2, \"calculated_volume\": 19.50310021}, {\"Rep\": \"34mAs\", \"ground_truth_volume\": 21.2, \"calculated_volume\": 21.34357478}, {\"Rep\": \"80kV\", \"ground_truth_volume\": 21.2, \"calculated_volume\": 23.38720142}, {\"Rep\": \"80kV\", \"ground_truth_volume\": 21.2, \"calculated_volume\": 20.38283701}, {\"Rep\": \"80kV\", \"ground_truth_volume\": 21.2, \"calculated_volume\": 21.20505856}, {\"Rep\": \"100kV\", \"ground_truth_volume\": 21.2, \"calculated_volume\": 25.69021799}, {\"Rep\": \"100kV\", \"ground_truth_volume\": 21.2, \"calculated_volume\": 21.53094472}, {\"Rep\": \"100kV\", \"ground_truth_volume\": 21.2, \"calculated_volume\": 21.74581506}, {\"Rep\": \"FOV200\", \"ground_truth_volume\": 21.2, \"calculated_volume\": 24.32702031}, {\"Rep\": \"FOV200\", \"ground_truth_volume\": 21.2, \"calculated_volume\": 16.12965367}, {\"Rep\": \"FOV200\", \"ground_truth_volume\": 21.2, \"calculated_volume\": 18.4699248}, {\"Rep\": \"FOV320\", \"ground_truth_volume\": 21.2, \"calculated_volume\": 18.0987471}, {\"Rep\": \"FOV320\", \"ground_truth_volume\": 21.2, \"calculated_volume\": 20.09545354}, {\"Rep\": \"FOV320\", \"ground_truth_volume\": 21.2, \"calculated_volume\": 20.13469544}, {\"Rep\": \"IR2\", \"ground_truth_volume\": 21.2, \"calculated_volume\": 25.73877172}, {\"Rep\": \"IR2\", \"ground_truth_volume\": 21.2, \"calculated_volume\": 18.04686415}, {\"Rep\": \"IR2\", \"ground_truth_volume\": 21.2, \"calculated_volume\": 19.25301496}, {\"Rep\": \"IR4\", \"ground_truth_volume\": 21.2, \"calculated_volume\": 23.45026488}, {\"Rep\": \"IR4\", \"ground_truth_volume\": 21.2, \"calculated_volume\": 17.07099344}, {\"Rep\": \"IR4\", \"ground_truth_volume\": 21.2, \"calculated_volume\": 18.21852143}, {\"Rep\": \"Qr32\", \"ground_truth_volume\": 21.2, \"calculated_volume\": 25.44858132}, {\"Rep\": \"Qr32\", \"ground_truth_volume\": 21.2, \"calculated_volume\": 18.22262426}, {\"Rep\": \"Qr32\", \"ground_truth_volume\": 21.2, \"calculated_volume\": 19.3984003}, {\"Rep\": \"Qr44\", \"ground_truth_volume\": 21.2, \"calculated_volume\": 27.00723172}, {\"Rep\": \"Qr44\", \"ground_truth_volume\": 21.2, \"calculated_volume\": 20.24559649}, {\"Rep\": \"Qr44\", \"ground_truth_volume\": 21.2, \"calculated_volume\": 22.30859605}, {\"Rep\": \"1mm\", \"ground_truth_volume\": 0.8, \"calculated_volume\": 0.334860806}, {\"Rep\": \"1mm\", \"ground_truth_volume\": 0.8, \"calculated_volume\": 0.52784807}, {\"Rep\": \"1mm\", \"ground_truth_volume\": 0.8, \"calculated_volume\": 0.815695939}, {\"Rep\": \"2mm\", \"ground_truth_volume\": 0.8, \"calculated_volume\": 0.190878164}, {\"Rep\": \"2mm\", \"ground_truth_volume\": 0.8, \"calculated_volume\": 0.937248857}, {\"Rep\": \"2mm\", \"ground_truth_volume\": 0.8, \"calculated_volume\": 0.83825846}, {\"Rep\": \"22mAs\", \"ground_truth_volume\": 0.8, \"calculated_volume\": 0.012795403}, {\"Rep\": \"22mAs\", \"ground_truth_volume\": 0.8, \"calculated_volume\": 0.903350373}, {\"Rep\": \"22mAs\", \"ground_truth_volume\": 0.8, \"calculated_volume\": 1.215751336}, {\"Rep\": \"34mAs\", \"ground_truth_volume\": 0.8, \"calculated_volume\": 0.0}, {\"Rep\": \"34mAs\", \"ground_truth_volume\": 0.8, \"calculated_volume\": 0.933105915}, {\"Rep\": \"34mAs\", \"ground_truth_volume\": 0.8, \"calculated_volume\": 0.478369447}, {\"Rep\": \"80kV\", \"ground_truth_volume\": 0.8, \"calculated_volume\": 0.512265669}, {\"Rep\": \"80kV\", \"ground_truth_volume\": 0.8, \"calculated_volume\": 0.316172831}, {\"Rep\": \"80kV\", \"ground_truth_volume\": 0.8, \"calculated_volume\": 0.775831533}, {\"Rep\": \"100kV\", \"ground_truth_volume\": 0.8, \"calculated_volume\": 0.0}, {\"Rep\": \"100kV\", \"ground_truth_volume\": 0.8, \"calculated_volume\": 0.29477222}, {\"Rep\": \"100kV\", \"ground_truth_volume\": 0.8, \"calculated_volume\": 0.432956711}, {\"Rep\": \"FOV200\", \"ground_truth_volume\": 0.8, \"calculated_volume\": 0.514788312}, {\"Rep\": \"FOV200\", \"ground_truth_volume\": 0.8, \"calculated_volume\": 0.678080069}, {\"Rep\": \"FOV200\", \"ground_truth_volume\": 0.8, \"calculated_volume\": 0.698946386}, {\"Rep\": \"FOV320\", \"ground_truth_volume\": 0.8, \"calculated_volume\": 0.202545277}, {\"Rep\": \"FOV320\", \"ground_truth_volume\": 0.8, \"calculated_volume\": 0.285088226}, {\"Rep\": \"FOV320\", \"ground_truth_volume\": 0.8, \"calculated_volume\": 0.650949493}, {\"Rep\": \"IR2\", \"ground_truth_volume\": 0.8, \"calculated_volume\": 0.360437874}, {\"Rep\": \"IR2\", \"ground_truth_volume\": 0.8, \"calculated_volume\": 1.049247626}, {\"Rep\": \"IR2\", \"ground_truth_volume\": 0.8, \"calculated_volume\": 0.943675415}, {\"Rep\": \"IR4\", \"ground_truth_volume\": 0.8, \"calculated_volume\": 0.672816468}, {\"Rep\": \"IR4\", \"ground_truth_volume\": 0.8, \"calculated_volume\": 0.961750239}, {\"Rep\": \"IR4\", \"ground_truth_volume\": 0.8, \"calculated_volume\": 0.815572968}, {\"Rep\": \"Qr32\", \"ground_truth_volume\": 0.8, \"calculated_volume\": 0.328764032}, {\"Rep\": \"Qr32\", \"ground_truth_volume\": 0.8, \"calculated_volume\": 0.984949568}, {\"Rep\": \"Qr32\", \"ground_truth_volume\": 0.8, \"calculated_volume\": 0.854526985}, {\"Rep\": \"Qr44\", \"ground_truth_volume\": 0.8, \"calculated_volume\": 1.188397059}, {\"Rep\": \"Qr44\", \"ground_truth_volume\": 0.8, \"calculated_volume\": 1.313087721}, {\"Rep\": \"Qr44\", \"ground_truth_volume\": 0.8, \"calculated_volume\": 1.084844049}], \"data-53394a6a581bc7d3ef85fd810b13f48f\": [{\"Rep\": \"Large1\", \"ground_truth_volume\": 98.2, \"calculated_volume\": 117.5381351}, {\"Rep\": \"Large1\", \"ground_truth_volume\": 98.2, \"calculated_volume\": 107.0596031}, {\"Rep\": \"Large1\", \"ground_truth_volume\": 98.2, \"calculated_volume\": 104.6497219}, {\"Rep\": \"Large2\", \"ground_truth_volume\": 98.2, \"calculated_volume\": 112.5889884}, {\"Rep\": \"Large2\", \"ground_truth_volume\": 98.2, \"calculated_volume\": 102.1324663}, {\"Rep\": \"Large2\", \"ground_truth_volume\": 98.2, \"calculated_volume\": 106.7635256}, {\"Rep\": \"Large3\", \"ground_truth_volume\": 98.2, \"calculated_volume\": 120.1480912}, {\"Rep\": \"Large3\", \"ground_truth_volume\": 98.2, \"calculated_volume\": 110.1617326}, {\"Rep\": \"Large3\", \"ground_truth_volume\": 98.2, \"calculated_volume\": 108.2459504}, {\"Rep\": \"Large4\", \"ground_truth_volume\": 98.2, \"calculated_volume\": 118.8278571}, {\"Rep\": \"Large4\", \"ground_truth_volume\": 98.2, \"calculated_volume\": 114.8880445}, {\"Rep\": \"Large4\", \"ground_truth_volume\": 98.2, \"calculated_volume\": 105.986391}, {\"Rep\": \"Large5\", \"ground_truth_volume\": 98.2, \"calculated_volume\": 128.2398402}, {\"Rep\": \"Large5\", \"ground_truth_volume\": 98.2, \"calculated_volume\": 98.66783266}, {\"Rep\": \"Large5\", \"ground_truth_volume\": 98.2, \"calculated_volume\": 103.2754851}, {\"Rep\": \"Small1\", \"ground_truth_volume\": 98.2, \"calculated_volume\": 214.9492396}, {\"Rep\": \"Small1\", \"ground_truth_volume\": 98.2, \"calculated_volume\": 134.2914239}, {\"Rep\": \"Small1\", \"ground_truth_volume\": 98.2, \"calculated_volume\": 115.3856584}, {\"Rep\": \"Small2\", \"ground_truth_volume\": 98.2, \"calculated_volume\": 194.3176719}, {\"Rep\": \"Small2\", \"ground_truth_volume\": 98.2, \"calculated_volume\": 121.1301296}, {\"Rep\": \"Small2\", \"ground_truth_volume\": 98.2, \"calculated_volume\": 112.3335566}, {\"Rep\": \"Small3\", \"ground_truth_volume\": 98.2, \"calculated_volume\": 101.0523809}, {\"Rep\": \"Small3\", \"ground_truth_volume\": 98.2, \"calculated_volume\": 95.8878112}, {\"Rep\": \"Small3\", \"ground_truth_volume\": 98.2, \"calculated_volume\": 100.4362714}, {\"Rep\": \"Small4\", \"ground_truth_volume\": 98.2, \"calculated_volume\": 104.4931576}, {\"Rep\": \"Small4\", \"ground_truth_volume\": 98.2, \"calculated_volume\": 97.93672182}, {\"Rep\": \"Small4\", \"ground_truth_volume\": 98.2, \"calculated_volume\": 101.1275152}, {\"Rep\": \"Small5\", \"ground_truth_volume\": 98.2, \"calculated_volume\": 99.48071165}, {\"Rep\": \"Small5\", \"ground_truth_volume\": 98.2, \"calculated_volume\": 100.7743032}, {\"Rep\": \"Small5\", \"ground_truth_volume\": 98.2, \"calculated_volume\": 100.8341802}, {\"Rep\": \"Large1\", \"ground_truth_volume\": 21.2, \"calculated_volume\": 29.23959125}, {\"Rep\": \"Large1\", \"ground_truth_volume\": 21.2, \"calculated_volume\": 21.59703509}, {\"Rep\": \"Large1\", \"ground_truth_volume\": 21.2, \"calculated_volume\": 21.33428906}, {\"Rep\": \"Large2\", \"ground_truth_volume\": 21.2, \"calculated_volume\": 25.02740067}, {\"Rep\": \"Large2\", \"ground_truth_volume\": 21.2, \"calculated_volume\": 21.0880842}, {\"Rep\": \"Large2\", \"ground_truth_volume\": 21.2, \"calculated_volume\": 22.19446186}, {\"Rep\": \"Large3\", \"ground_truth_volume\": 21.2, \"calculated_volume\": 30.47590471}, {\"Rep\": \"Large3\", \"ground_truth_volume\": 21.2, \"calculated_volume\": 22.73296196}, {\"Rep\": \"Large3\", \"ground_truth_volume\": 21.2, \"calculated_volume\": 18.39629574}, {\"Rep\": \"Large4\", \"ground_truth_volume\": 21.2, \"calculated_volume\": 24.65329185}, {\"Rep\": \"Large4\", \"ground_truth_volume\": 21.2, \"calculated_volume\": 24.41600142}, {\"Rep\": \"Large4\", \"ground_truth_volume\": 21.2, \"calculated_volume\": 18.58838434}, {\"Rep\": \"Large5\", \"ground_truth_volume\": 21.2, \"calculated_volume\": 31.31694359}, {\"Rep\": \"Large5\", \"ground_truth_volume\": 21.2, \"calculated_volume\": 19.55632052}, {\"Rep\": \"Large5\", \"ground_truth_volume\": 21.2, \"calculated_volume\": 20.60282805}, {\"Rep\": \"Small1\", \"ground_truth_volume\": 21.2, \"calculated_volume\": 69.3821895}, {\"Rep\": \"Small1\", \"ground_truth_volume\": 21.2, \"calculated_volume\": 28.71750162}, {\"Rep\": \"Small1\", \"ground_truth_volume\": 21.2, \"calculated_volume\": 23.54965756}, {\"Rep\": \"Small2\", \"ground_truth_volume\": 21.2, \"calculated_volume\": 34.71078415}, {\"Rep\": \"Small2\", \"ground_truth_volume\": 21.2, \"calculated_volume\": 23.96658804}, {\"Rep\": \"Small2\", \"ground_truth_volume\": 21.2, \"calculated_volume\": 20.91298235}, {\"Rep\": \"Small3\", \"ground_truth_volume\": 21.2, \"calculated_volume\": 28.90117677}, {\"Rep\": \"Small3\", \"ground_truth_volume\": 21.2, \"calculated_volume\": 19.74656669}, {\"Rep\": \"Small3\", \"ground_truth_volume\": 21.2, \"calculated_volume\": 19.31282164}, {\"Rep\": \"Small4\", \"ground_truth_volume\": 21.2, \"calculated_volume\": 20.43325582}, {\"Rep\": \"Small4\", \"ground_truth_volume\": 21.2, \"calculated_volume\": 24.57778662}, {\"Rep\": \"Small4\", \"ground_truth_volume\": 21.2, \"calculated_volume\": 20.6293952}, {\"Rep\": \"Small5\", \"ground_truth_volume\": 21.2, \"calculated_volume\": 27.35448962}, {\"Rep\": \"Small5\", \"ground_truth_volume\": 21.2, \"calculated_volume\": 22.43114795}, {\"Rep\": \"Small5\", \"ground_truth_volume\": 21.2, \"calculated_volume\": 19.76298836}, {\"Rep\": \"Large1\", \"ground_truth_volume\": 0.8, \"calculated_volume\": 0.115510162}, {\"Rep\": \"Large1\", \"ground_truth_volume\": 0.8, \"calculated_volume\": 0.472705325}, {\"Rep\": \"Large1\", \"ground_truth_volume\": 0.8, \"calculated_volume\": 0.179930114}, {\"Rep\": \"Large2\", \"ground_truth_volume\": 0.8, \"calculated_volume\": 0.0}, {\"Rep\": \"Large2\", \"ground_truth_volume\": 0.8, \"calculated_volume\": 1.254075666}, {\"Rep\": \"Large2\", \"ground_truth_volume\": 0.8, \"calculated_volume\": 1.002053141}, {\"Rep\": \"Large3\", \"ground_truth_volume\": 0.8, \"calculated_volume\": 0.830788818}, {\"Rep\": \"Large3\", \"ground_truth_volume\": 0.8, \"calculated_volume\": 0.989045137}, {\"Rep\": \"Large3\", \"ground_truth_volume\": 0.8, \"calculated_volume\": 0.746740469}, {\"Rep\": \"Large4\", \"ground_truth_volume\": 0.8, \"calculated_volume\": 0.431506522}, {\"Rep\": \"Large4\", \"ground_truth_volume\": 0.8, \"calculated_volume\": 0.409255055}, {\"Rep\": \"Large4\", \"ground_truth_volume\": 0.8, \"calculated_volume\": 1.508604067}, {\"Rep\": \"Large5\", \"ground_truth_volume\": 0.8, \"calculated_volume\": 0.422989783}, {\"Rep\": \"Large5\", \"ground_truth_volume\": 0.8, \"calculated_volume\": 0.340261887}, {\"Rep\": \"Large5\", \"ground_truth_volume\": 0.8, \"calculated_volume\": 0.164352076}, {\"Rep\": \"Small1\", \"ground_truth_volume\": 0.8, \"calculated_volume\": 0.0}, {\"Rep\": \"Small1\", \"ground_truth_volume\": 0.8, \"calculated_volume\": 0.789037322}, {\"Rep\": \"Small1\", \"ground_truth_volume\": 0.8, \"calculated_volume\": 1.506709112}, {\"Rep\": \"Small2\", \"ground_truth_volume\": 0.8, \"calculated_volume\": 0.382202513}, {\"Rep\": \"Small2\", \"ground_truth_volume\": 0.8, \"calculated_volume\": 0.417920663}, {\"Rep\": \"Small2\", \"ground_truth_volume\": 0.8, \"calculated_volume\": 0.45948141}, {\"Rep\": \"Small3\", \"ground_truth_volume\": 0.8, \"calculated_volume\": 0.183306591}, {\"Rep\": \"Small3\", \"ground_truth_volume\": 0.8, \"calculated_volume\": 0.0}, {\"Rep\": \"Small3\", \"ground_truth_volume\": 0.8, \"calculated_volume\": 1.099902653}, {\"Rep\": \"Small4\", \"ground_truth_volume\": 0.8, \"calculated_volume\": 0.314992844}, {\"Rep\": \"Small4\", \"ground_truth_volume\": 0.8, \"calculated_volume\": 0.58542004}, {\"Rep\": \"Small4\", \"ground_truth_volume\": 0.8, \"calculated_volume\": 0.74179678}, {\"Rep\": \"Small5\", \"ground_truth_volume\": 0.8, \"calculated_volume\": 1.062657603}, {\"Rep\": \"Small5\", \"ground_truth_volume\": 0.8, \"calculated_volume\": 0.944274322}, {\"Rep\": \"Small5\", \"ground_truth_volume\": 0.8, \"calculated_volume\": 0.983060631}], \"data-9850aa1ed0a78c7a9a8ef3c9d6e49aef\": [{\"Rep\": \"1mm\", \"ground_truth_volume\": 98.2, \"calculated_volume\": 91.30510058}, {\"Rep\": \"1mm\", \"ground_truth_volume\": 98.2, \"calculated_volume\": 89.44156914}, {\"Rep\": \"1mm\", \"ground_truth_volume\": 98.2, \"calculated_volume\": 87.86102647}, {\"Rep\": \"2mm\", \"ground_truth_volume\": 98.2, \"calculated_volume\": 104.9208017}, {\"Rep\": \"2mm\", \"ground_truth_volume\": 98.2, \"calculated_volume\": 99.73149439}, {\"Rep\": \"2mm\", \"ground_truth_volume\": 98.2, \"calculated_volume\": 98.55691758}, {\"Rep\": \"22mAs\", \"ground_truth_volume\": 98.2, \"calculated_volume\": 123.6956615}, {\"Rep\": \"22mAs\", \"ground_truth_volume\": 98.2, \"calculated_volume\": 119.1896809}, {\"Rep\": \"22mAs\", \"ground_truth_volume\": 98.2, \"calculated_volume\": 120.222245}, {\"Rep\": \"34mAs\", \"ground_truth_volume\": 98.2, \"calculated_volume\": 125.1087627}, {\"Rep\": \"34mAs\", \"ground_truth_volume\": 98.2, \"calculated_volume\": 126.5350491}, {\"Rep\": \"34mAs\", \"ground_truth_volume\": 98.2, \"calculated_volume\": 119.6833766}, {\"Rep\": \"80kV\", \"ground_truth_volume\": 98.2, \"calculated_volume\": 114.8220824}, {\"Rep\": \"80kV\", \"ground_truth_volume\": 98.2, \"calculated_volume\": 123.5416525}, {\"Rep\": \"80kV\", \"ground_truth_volume\": 98.2, \"calculated_volume\": 116.359179}, {\"Rep\": \"100kV\", \"ground_truth_volume\": 98.2, \"calculated_volume\": 115.2724217}, {\"Rep\": \"100kV\", \"ground_truth_volume\": 98.2, \"calculated_volume\": 116.6348697}, {\"Rep\": \"100kV\", \"ground_truth_volume\": 98.2, \"calculated_volume\": 119.4068673}, {\"Rep\": \"FOV200\", \"ground_truth_volume\": 98.2, \"calculated_volume\": 117.1446603}, {\"Rep\": \"FOV200\", \"ground_truth_volume\": 98.2, \"calculated_volume\": 116.9974562}, {\"Rep\": \"FOV200\", \"ground_truth_volume\": 98.2, \"calculated_volume\": 113.5929609}, {\"Rep\": \"FOV320\", \"ground_truth_volume\": 98.2, \"calculated_volume\": 115.300355}, {\"Rep\": \"FOV320\", \"ground_truth_volume\": 98.2, \"calculated_volume\": 108.5041025}, {\"Rep\": \"FOV320\", \"ground_truth_volume\": 98.2, \"calculated_volume\": 116.0014434}, {\"Rep\": \"IR2\", \"ground_truth_volume\": 98.2, \"calculated_volume\": 118.7302047}, {\"Rep\": \"IR2\", \"ground_truth_volume\": 98.2, \"calculated_volume\": 111.5320087}, {\"Rep\": \"IR2\", \"ground_truth_volume\": 98.2, \"calculated_volume\": 118.0513295}, {\"Rep\": \"IR4\", \"ground_truth_volume\": 98.2, \"calculated_volume\": 116.6090428}, {\"Rep\": \"IR4\", \"ground_truth_volume\": 98.2, \"calculated_volume\": 110.1405223}, {\"Rep\": \"IR4\", \"ground_truth_volume\": 98.2, \"calculated_volume\": 115.9132356}, {\"Rep\": \"Qr32\", \"ground_truth_volume\": 98.2, \"calculated_volume\": 121.414234}, {\"Rep\": \"Qr32\", \"ground_truth_volume\": 98.2, \"calculated_volume\": 114.0482485}, {\"Rep\": \"Qr32\", \"ground_truth_volume\": 98.2, \"calculated_volume\": 119.1283928}, {\"Rep\": \"Qr44\", \"ground_truth_volume\": 98.2, \"calculated_volume\": 117.8333272}, {\"Rep\": \"Qr44\", \"ground_truth_volume\": 98.2, \"calculated_volume\": 111.7824649}, {\"Rep\": \"Qr44\", \"ground_truth_volume\": 98.2, \"calculated_volume\": 119.5140981}, {\"Rep\": \"1mm\", \"ground_truth_volume\": 21.2, \"calculated_volume\": 23.00294596}, {\"Rep\": \"1mm\", \"ground_truth_volume\": 21.2, \"calculated_volume\": 20.23387275}, {\"Rep\": \"1mm\", \"ground_truth_volume\": 21.2, \"calculated_volume\": 21.08112295}, {\"Rep\": \"2mm\", \"ground_truth_volume\": 21.2, \"calculated_volume\": 28.82232749}, {\"Rep\": \"2mm\", \"ground_truth_volume\": 21.2, \"calculated_volume\": 20.46192585}, {\"Rep\": \"2mm\", \"ground_truth_volume\": 21.2, \"calculated_volume\": 22.04153053}, {\"Rep\": \"22mAs\", \"ground_truth_volume\": 21.2, \"calculated_volume\": 33.89532261}, {\"Rep\": \"22mAs\", \"ground_truth_volume\": 21.2, \"calculated_volume\": 22.00512262}, {\"Rep\": \"22mAs\", \"ground_truth_volume\": 21.2, \"calculated_volume\": 22.72660556}, {\"Rep\": \"34mAs\", \"ground_truth_volume\": 21.2, \"calculated_volume\": 18.56358081}, {\"Rep\": \"34mAs\", \"ground_truth_volume\": 21.2, \"calculated_volume\": 24.83925855}, {\"Rep\": \"34mAs\", \"ground_truth_volume\": 21.2, \"calculated_volume\": 27.40713007}, {\"Rep\": \"80kV\", \"ground_truth_volume\": 21.2, \"calculated_volume\": 27.91678788}, {\"Rep\": \"80kV\", \"ground_truth_volume\": 21.2, \"calculated_volume\": 25.38172804}, {\"Rep\": \"80kV\", \"ground_truth_volume\": 21.2, \"calculated_volume\": 26.92946951}, {\"Rep\": \"100kV\", \"ground_truth_volume\": 21.2, \"calculated_volume\": 31.76787738}, {\"Rep\": \"100kV\", \"ground_truth_volume\": 21.2, \"calculated_volume\": 27.24442456}, {\"Rep\": \"100kV\", \"ground_truth_volume\": 21.2, \"calculated_volume\": 27.78635353}, {\"Rep\": \"FOV200\", \"ground_truth_volume\": 21.2, \"calculated_volume\": 29.87131323}, {\"Rep\": \"FOV200\", \"ground_truth_volume\": 21.2, \"calculated_volume\": 20.52287938}, {\"Rep\": \"FOV200\", \"ground_truth_volume\": 21.2, \"calculated_volume\": 23.70880836}, {\"Rep\": \"FOV320\", \"ground_truth_volume\": 21.2, \"calculated_volume\": 22.41811887}, {\"Rep\": \"FOV320\", \"ground_truth_volume\": 21.2, \"calculated_volume\": 25.18136417}, {\"Rep\": \"FOV320\", \"ground_truth_volume\": 21.2, \"calculated_volume\": 25.45131068}, {\"Rep\": \"IR2\", \"ground_truth_volume\": 21.2, \"calculated_volume\": 32.02875537}, {\"Rep\": \"IR2\", \"ground_truth_volume\": 21.2, \"calculated_volume\": 23.09884159}, {\"Rep\": \"IR2\", \"ground_truth_volume\": 21.2, \"calculated_volume\": 24.86693611}, {\"Rep\": \"IR4\", \"ground_truth_volume\": 21.2, \"calculated_volume\": 29.32243809}, {\"Rep\": \"IR4\", \"ground_truth_volume\": 21.2, \"calculated_volume\": 21.94446571}, {\"Rep\": \"IR4\", \"ground_truth_volume\": 21.2, \"calculated_volume\": 23.65682697}, {\"Rep\": \"Qr32\", \"ground_truth_volume\": 21.2, \"calculated_volume\": 32.39918423}, {\"Rep\": \"Qr32\", \"ground_truth_volume\": 21.2, \"calculated_volume\": 23.68173619}, {\"Rep\": \"Qr32\", \"ground_truth_volume\": 21.2, \"calculated_volume\": 25.3446841}, {\"Rep\": \"Qr44\", \"ground_truth_volume\": 21.2, \"calculated_volume\": 32.88709426}, {\"Rep\": \"Qr44\", \"ground_truth_volume\": 21.2, \"calculated_volume\": 25.41652926}, {\"Rep\": \"Qr44\", \"ground_truth_volume\": 21.2, \"calculated_volume\": 28.22843573}, {\"Rep\": \"1mm\", \"ground_truth_volume\": 0.8, \"calculated_volume\": 0.341454141}, {\"Rep\": \"1mm\", \"ground_truth_volume\": 0.8, \"calculated_volume\": 0.538220856}, {\"Rep\": \"1mm\", \"ground_truth_volume\": 0.8, \"calculated_volume\": 0.831779038}, {\"Rep\": \"2mm\", \"ground_truth_volume\": 0.8, \"calculated_volume\": 0.201937558}, {\"Rep\": \"2mm\", \"ground_truth_volume\": 0.8, \"calculated_volume\": 0.991091028}, {\"Rep\": \"2mm\", \"ground_truth_volume\": 0.8, \"calculated_volume\": 0.886709839}, {\"Rep\": \"22mAs\", \"ground_truth_volume\": 0.8, \"calculated_volume\": 0.016435833}, {\"Rep\": \"22mAs\", \"ground_truth_volume\": 0.8, \"calculated_volume\": 1.162220486}, {\"Rep\": \"22mAs\", \"ground_truth_volume\": 0.8, \"calculated_volume\": 1.56352072}, {\"Rep\": \"34mAs\", \"ground_truth_volume\": 0.8, \"calculated_volume\": 0.0}, {\"Rep\": \"34mAs\", \"ground_truth_volume\": 0.8, \"calculated_volume\": 1.196975114}, {\"Rep\": \"34mAs\", \"ground_truth_volume\": 0.8, \"calculated_volume\": 0.614610766}, {\"Rep\": \"80kV\", \"ground_truth_volume\": 0.8, \"calculated_volume\": 0.649968591}, {\"Rep\": \"80kV\", \"ground_truth_volume\": 0.8, \"calculated_volume\": 0.401995349}, {\"Rep\": \"80kV\", \"ground_truth_volume\": 0.8, \"calculated_volume\": 0.985885793}, {\"Rep\": \"100kV\", \"ground_truth_volume\": 0.8, \"calculated_volume\": 0.0}, {\"Rep\": \"100kV\", \"ground_truth_volume\": 0.8, \"calculated_volume\": 0.377144957}, {\"Rep\": \"100kV\", \"ground_truth_volume\": 0.8, \"calculated_volume\": 0.553615593}, {\"Rep\": \"FOV200\", \"ground_truth_volume\": 0.8, \"calculated_volume\": 0.658755}, {\"Rep\": \"FOV200\", \"ground_truth_volume\": 0.8, \"calculated_volume\": 0.867536391}, {\"Rep\": \"FOV200\", \"ground_truth_volume\": 0.8, \"calculated_volume\": 0.895015228}, {\"Rep\": \"FOV320\", \"ground_truth_volume\": 0.8, \"calculated_volume\": 0.255969359}, {\"Rep\": \"FOV320\", \"ground_truth_volume\": 0.8, \"calculated_volume\": 0.360536148}, {\"Rep\": \"FOV320\", \"ground_truth_volume\": 0.8, \"calculated_volume\": 0.822850049}, {\"Rep\": \"IR2\", \"ground_truth_volume\": 0.8, \"calculated_volume\": 0.464620922}, {\"Rep\": \"IR2\", \"ground_truth_volume\": 0.8, \"calculated_volume\": 1.350895617}, {\"Rep\": \"IR2\", \"ground_truth_volume\": 0.8, \"calculated_volume\": 1.216023075}, {\"Rep\": \"IR4\", \"ground_truth_volume\": 0.8, \"calculated_volume\": 0.871405456}, {\"Rep\": \"IR4\", \"ground_truth_volume\": 0.8, \"calculated_volume\": 1.245116477}, {\"Rep\": \"IR4\", \"ground_truth_volume\": 0.8, \"calculated_volume\": 1.057099924}, {\"Rep\": \"Qr32\", \"ground_truth_volume\": 0.8, \"calculated_volume\": 0.42870388}, {\"Rep\": \"Qr32\", \"ground_truth_volume\": 0.8, \"calculated_volume\": 1.283057606}, {\"Rep\": \"Qr32\", \"ground_truth_volume\": 0.8, \"calculated_volume\": 1.114418601}, {\"Rep\": \"Qr44\", \"ground_truth_volume\": 0.8, \"calculated_volume\": 1.500141441}, {\"Rep\": \"Qr44\", \"ground_truth_volume\": 0.8, \"calculated_volume\": 1.658125746}, {\"Rep\": \"Qr44\", \"ground_truth_volume\": 0.8, \"calculated_volume\": 1.372622519}]}}, {\"mode\": \"vega-lite\"});\n</script>",
      "text/plain": "alt.HConcatChart(...)"
     },
     "metadata": {}
    }
   ],
   "execution_count": 180
  },
  {
   "cell_type": "markdown",
   "source": "### Summary",
   "metadata": {
    "cell_id": "16883246-9555-450f-9345-83be05fe5230",
    "tags": [],
    "is_collapsed": false,
    "deepnote_cell_type": "text-cell-h3"
   }
  },
  {
   "cell_type": "code",
   "source": "[Add2_L_RMSE,Add3_L_RMSE,Add2_M_RMSE,Add3_M_RMSE,Add2_S_RMSE,Add3_S_RMSE,Add2_V_RMSE,Add3_V_RMSE] = [rmse(Add_true[i],Add_pred[i]) for i in range(len(Add_true))]\nAdd2_RMSE = {'Large Mass': Add2_L_RMSE,'Medium Mass': Add2_M_RMSE,'Small Mass': Add2_S_RMSE,'Volume':Add2_V_RMSE}\nAdd3_RMSE = {'Large Mass': Add3_L_RMSE,'Medium Mass': Add3_M_RMSE,'Small Mass': Add3_S_RMSE,'Volume':Add3_V_RMSE}",
   "metadata": {
    "cell_id": "a929d140-8021-4a4a-86f3-a9543a27702c",
    "tags": [],
    "deepnote_to_be_reexecuted": false,
    "source_hash": "eca0ee25",
    "execution_start": 1643837905277,
    "execution_millis": 9,
    "deepnote_cell_type": "code"
   },
   "outputs": [],
   "execution_count": 187
  },
  {
   "cell_type": "code",
   "source": "Add2_score = {'Large Mass': Add2_scoreL,'Medium Mass': Add2_scoreM,'Small Mass':Add2_scoreS,'Volume': Add2_scoreV}\nAdd3_score = {'Large Mass': Add3_scoreL,'Medium Mass': Add3_scoreM,'Small Mass':Add3_scoreS,'Volume': Add3_scoreV}",
   "metadata": {
    "cell_id": "4f465149-57af-48fd-ac33-e5dc21171098",
    "tags": [],
    "deepnote_to_be_reexecuted": false,
    "source_hash": "2fb6fba0",
    "execution_start": 1643838210553,
    "execution_millis": 1,
    "deepnote_cell_type": "code"
   },
   "outputs": [],
   "execution_count": 193
  },
  {
   "cell_type": "markdown",
   "source": "## Conclusion",
   "metadata": {
    "cell_id": "13ba4f82-9b60-468f-bcba-e690d26f38f5",
    "tags": [],
    "is_collapsed": false,
    "deepnote_cell_type": "text-cell-h2"
   }
  },
  {
   "cell_type": "code",
   "metadata": {
    "cell_id": "79b8b36e-12ce-4c4d-bca6-5445b4c3001c",
    "tags": [],
    "deepnote_to_be_reexecuted": false,
    "source_hash": "b290b614",
    "execution_start": 1643838240700,
    "execution_millis": 81,
    "deepnote_output_heights": [
     148
    ],
    "deepnote_cell_type": "code"
   },
   "source": "Regsummary = pd.DataFrame({\"Siemens2\": Siemens2_score,\"Siemens3\":Siemens3_score,'GE2':GE2_score,'GE3':GE3_score,'Philips2': PP2_score,'Philips3':PP3_score,\"Additional2\": Add2_score,\"Additional3\":Add3_score})\nRegsummary",
   "execution_count": 194,
   "outputs": [
    {
     "output_type": "execute_result",
     "execution_count": 194,
     "data": {
      "application/vnd.deepnote.dataframe.v3+json": {
       "column_count": 8,
       "row_count": 4,
       "columns": [
        {
         "name": "Siemens2",
         "dtype": "float64",
         "stats": {
          "unique_count": 4,
          "nan_count": 0,
          "min": "0.22872789558802253",
          "max": "0.9949193538354041",
          "histogram": [
           {
            "bin_start": 0.22872789558802253,
            "bin_end": 0.3053470414127607,
            "count": 1
           },
           {
            "bin_start": 0.3053470414127607,
            "bin_end": 0.38196618723749887,
            "count": 0
           },
           {
            "bin_start": 0.38196618723749887,
            "bin_end": 0.458585333062237,
            "count": 0
           },
           {
            "bin_start": 0.458585333062237,
            "bin_end": 0.5352044788869752,
            "count": 0
           },
           {
            "bin_start": 0.5352044788869752,
            "bin_end": 0.6118236247117133,
            "count": 0
           },
           {
            "bin_start": 0.6118236247117133,
            "bin_end": 0.6884427705364514,
            "count": 0
           },
           {
            "bin_start": 0.6884427705364514,
            "bin_end": 0.7650619163611896,
            "count": 1
           },
           {
            "bin_start": 0.7650619163611896,
            "bin_end": 0.8416810621859278,
            "count": 0
           },
           {
            "bin_start": 0.8416810621859278,
            "bin_end": 0.9183002080106659,
            "count": 0
           },
           {
            "bin_start": 0.9183002080106659,
            "bin_end": 0.9949193538354041,
            "count": 2
           }
          ]
         }
        },
        {
         "name": "Siemens3",
         "dtype": "float64",
         "stats": {
          "unique_count": 4,
          "nan_count": 0,
          "min": "0.22435687148464167",
          "max": "0.7633818861261401",
          "histogram": [
           {
            "bin_start": 0.22435687148464167,
            "bin_end": 0.2782593729487915,
            "count": 1
           },
           {
            "bin_start": 0.2782593729487915,
            "bin_end": 0.33216187441294137,
            "count": 0
           },
           {
            "bin_start": 0.33216187441294137,
            "bin_end": 0.3860643758770912,
            "count": 0
           },
           {
            "bin_start": 0.3860643758770912,
            "bin_end": 0.43996687734124107,
            "count": 0
           },
           {
            "bin_start": 0.43996687734124107,
            "bin_end": 0.4938693788053909,
            "count": 0
           },
           {
            "bin_start": 0.4938693788053909,
            "bin_end": 0.5477718802695407,
            "count": 0
           },
           {
            "bin_start": 0.5477718802695407,
            "bin_end": 0.6016743817336906,
            "count": 1
           },
           {
            "bin_start": 0.6016743817336906,
            "bin_end": 0.6555768831978404,
            "count": 0
           },
           {
            "bin_start": 0.6555768831978404,
            "bin_end": 0.7094793846619902,
            "count": 0
           },
           {
            "bin_start": 0.7094793846619902,
            "bin_end": 0.7633818861261401,
            "count": 2
           }
          ]
         }
        },
        {
         "name": "GE2",
         "dtype": "float64",
         "stats": {
          "unique_count": 4,
          "nan_count": 0,
          "min": "0.5529347525266107",
          "max": "0.9798052685509471",
          "histogram": [
           {
            "bin_start": 0.5529347525266107,
            "bin_end": 0.5956218041290444,
            "count": 1
           },
           {
            "bin_start": 0.5956218041290444,
            "bin_end": 0.638308855731478,
            "count": 0
           },
           {
            "bin_start": 0.638308855731478,
            "bin_end": 0.6809959073339116,
            "count": 0
           },
           {
            "bin_start": 0.6809959073339116,
            "bin_end": 0.7236829589363453,
            "count": 0
           },
           {
            "bin_start": 0.7236829589363453,
            "bin_end": 0.766370010538779,
            "count": 1
           },
           {
            "bin_start": 0.766370010538779,
            "bin_end": 0.8090570621412125,
            "count": 0
           },
           {
            "bin_start": 0.8090570621412125,
            "bin_end": 0.8517441137436461,
            "count": 0
           },
           {
            "bin_start": 0.8517441137436461,
            "bin_end": 0.8944311653460798,
            "count": 1
           },
           {
            "bin_start": 0.8944311653460798,
            "bin_end": 0.9371182169485135,
            "count": 0
           },
           {
            "bin_start": 0.9371182169485135,
            "bin_end": 0.9798052685509471,
            "count": 1
           }
          ]
         }
        },
        {
         "name": "GE3",
         "dtype": "float64",
         "stats": {
          "unique_count": 4,
          "nan_count": 0,
          "min": "0.5457865133743593",
          "max": "0.9487657897948584",
          "histogram": [
           {
            "bin_start": 0.5457865133743593,
            "bin_end": 0.5860844410164092,
            "count": 1
           },
           {
            "bin_start": 0.5860844410164092,
            "bin_end": 0.6263823686584592,
            "count": 0
           },
           {
            "bin_start": 0.6263823686584592,
            "bin_end": 0.6666802963005091,
            "count": 0
           },
           {
            "bin_start": 0.6666802963005091,
            "bin_end": 0.7069782239425589,
            "count": 0
           },
           {
            "bin_start": 0.7069782239425589,
            "bin_end": 0.7472761515846089,
            "count": 0
           },
           {
            "bin_start": 0.7472761515846089,
            "bin_end": 0.7875740792266588,
            "count": 0
           },
           {
            "bin_start": 0.7875740792266588,
            "bin_end": 0.8278720068687087,
            "count": 1
           },
           {
            "bin_start": 0.8278720068687087,
            "bin_end": 0.8681699345107585,
            "count": 1
           },
           {
            "bin_start": 0.8681699345107585,
            "bin_end": 0.9084678621528085,
            "count": 0
           },
           {
            "bin_start": 0.9084678621528085,
            "bin_end": 0.9487657897948584,
            "count": 1
           }
          ]
         }
        },
        {
         "name": "Philips2",
         "dtype": "float64",
         "stats": {
          "unique_count": 4,
          "nan_count": 0,
          "min": "0.09602822441748737",
          "max": "0.9934363315068816",
          "histogram": [
           {
            "bin_start": 0.09602822441748737,
            "bin_end": 0.18576903512642678,
            "count": 1
           },
           {
            "bin_start": 0.18576903512642678,
            "bin_end": 0.2755098458353662,
            "count": 0
           },
           {
            "bin_start": 0.2755098458353662,
            "bin_end": 0.36525065654430566,
            "count": 0
           },
           {
            "bin_start": 0.36525065654430566,
            "bin_end": 0.4549914672532451,
            "count": 0
           },
           {
            "bin_start": 0.4549914672532451,
            "bin_end": 0.5447322779621845,
            "count": 0
           },
           {
            "bin_start": 0.5447322779621845,
            "bin_end": 0.634473088671124,
            "count": 0
           },
           {
            "bin_start": 0.634473088671124,
            "bin_end": 0.7242138993800633,
            "count": 1
           },
           {
            "bin_start": 0.7242138993800633,
            "bin_end": 0.8139547100890028,
            "count": 0
           },
           {
            "bin_start": 0.8139547100890028,
            "bin_end": 0.9036955207979422,
            "count": 0
           },
           {
            "bin_start": 0.9036955207979422,
            "bin_end": 0.9934363315068816,
            "count": 2
           }
          ]
         }
        },
        {
         "name": "Philips3",
         "dtype": "float64",
         "stats": {
          "unique_count": 4,
          "nan_count": 0,
          "min": "0.2262793722011759",
          "max": "0.989900254462969",
          "histogram": [
           {
            "bin_start": 0.2262793722011759,
            "bin_end": 0.3026414604273552,
            "count": 1
           },
           {
            "bin_start": 0.3026414604273552,
            "bin_end": 0.3790035486535345,
            "count": 0
           },
           {
            "bin_start": 0.3790035486535345,
            "bin_end": 0.4553656368797139,
            "count": 0
           },
           {
            "bin_start": 0.4553656368797139,
            "bin_end": 0.5317277251058932,
            "count": 0
           },
           {
            "bin_start": 0.5317277251058932,
            "bin_end": 0.6080898133320725,
            "count": 0
           },
           {
            "bin_start": 0.6080898133320725,
            "bin_end": 0.6844519015582518,
            "count": 1
           },
           {
            "bin_start": 0.6844519015582518,
            "bin_end": 0.7608139897844312,
            "count": 0
           },
           {
            "bin_start": 0.7608139897844312,
            "bin_end": 0.8371760780106104,
            "count": 0
           },
           {
            "bin_start": 0.8371760780106104,
            "bin_end": 0.9135381662367897,
            "count": 0
           },
           {
            "bin_start": 0.9135381662367897,
            "bin_end": 0.989900254462969,
            "count": 2
           }
          ]
         }
        },
        {
         "name": "Additional2",
         "dtype": "float64",
         "stats": {
          "unique_count": 4,
          "nan_count": 0,
          "min": "0.647471923391861",
          "max": "0.9950023192851626",
          "histogram": [
           {
            "bin_start": 0.647471923391861,
            "bin_end": 0.6822249629811912,
            "count": 1
           },
           {
            "bin_start": 0.6822249629811912,
            "bin_end": 0.7169780025705214,
            "count": 0
           },
           {
            "bin_start": 0.7169780025705214,
            "bin_end": 0.7517310421598515,
            "count": 1
           },
           {
            "bin_start": 0.7517310421598515,
            "bin_end": 0.7864840817491816,
            "count": 0
           },
           {
            "bin_start": 0.7864840817491816,
            "bin_end": 0.8212371213385118,
            "count": 0
           },
           {
            "bin_start": 0.8212371213385118,
            "bin_end": 0.855990160927842,
            "count": 0
           },
           {
            "bin_start": 0.855990160927842,
            "bin_end": 0.8907432005171722,
            "count": 0
           },
           {
            "bin_start": 0.8907432005171722,
            "bin_end": 0.9254962401065023,
            "count": 0
           },
           {
            "bin_start": 0.9254962401065023,
            "bin_end": 0.9602492796958324,
            "count": 0
           },
           {
            "bin_start": 0.9602492796958324,
            "bin_end": 0.9950023192851626,
            "count": 2
           }
          ]
         }
        },
        {
         "name": "Additional3",
         "dtype": "float64",
         "stats": {
          "unique_count": 4,
          "nan_count": 0,
          "min": "0.6183012296423085",
          "max": "0.968767286976177",
          "histogram": [
           {
            "bin_start": 0.6183012296423085,
            "bin_end": 0.6533478353756953,
            "count": 1
           },
           {
            "bin_start": 0.6533478353756953,
            "bin_end": 0.6883944411090822,
            "count": 0
           },
           {
            "bin_start": 0.6883944411090822,
            "bin_end": 0.723441046842469,
            "count": 1
           },
           {
            "bin_start": 0.723441046842469,
            "bin_end": 0.7584876525758559,
            "count": 0
           },
           {
            "bin_start": 0.7584876525758559,
            "bin_end": 0.7935342583092427,
            "count": 0
           },
           {
            "bin_start": 0.7935342583092427,
            "bin_end": 0.8285808640426295,
            "count": 0
           },
           {
            "bin_start": 0.8285808640426295,
            "bin_end": 0.8636274697760165,
            "count": 0
           },
           {
            "bin_start": 0.8636274697760165,
            "bin_end": 0.8986740755094033,
            "count": 0
           },
           {
            "bin_start": 0.8986740755094033,
            "bin_end": 0.9337206812427901,
            "count": 0
           },
           {
            "bin_start": 0.9337206812427901,
            "bin_end": 0.968767286976177,
            "count": 2
           }
          ]
         }
        },
        {
         "name": "_deepnote_index_column",
         "dtype": "object"
        }
       ],
       "rows": [
        {
         "Siemens2": 0.9949193538354041,
         "Siemens3": 0.7633818861261401,
         "GE2": 0.9798052685509471,
         "GE3": 0.9487657897948584,
         "Philips2": 0.9934363315068816,
         "Philips3": 0.989900254462969,
         "Additional2": 0.9950023192851626,
         "Additional3": 0.968767286976177,
         "_deepnote_index_column": "Large Mass"
        },
        {
         "Siemens2": 0.9692823132369127,
         "Siemens3": 0.74647643513326,
         "GE2": 0.8873296355276588,
         "GE3": 0.8478803549333633,
         "Philips2": 0.9589442418628252,
         "Philips3": 0.9567706164318938,
         "Additional2": 0.960587011007029,
         "Additional3": 0.9497077409317728,
         "_deepnote_index_column": "Medium Mass"
        },
        {
         "Siemens2": 0.22872789558802253,
         "Siemens3": 0.22435687148464167,
         "GE2": 0.5529347525266107,
         "GE3": 0.5457865133743593,
         "Philips2": 0.6551434885011886,
         "Philips3": 0.6425726877538139,
         "Additional2": 0.7395443236315771,
         "Additional3": 0.7205879143955299,
         "_deepnote_index_column": "Small Mass"
        },
        {
         "Siemens2": 0.7332296077049183,
         "Siemens3": 0.5768982937670868,
         "GE2": 0.7282889768405689,
         "GE3": 0.7953698486358789,
         "Philips2": 0.09602822441748737,
         "Philips3": 0.2262793722011759,
         "Additional2": 0.647471923391861,
         "Additional3": 0.6183012296423085,
         "_deepnote_index_column": "Volume"
        }
       ]
      },
      "text/plain": "             Siemens2  Siemens3       GE2       GE3  Philips2  Philips3  \\\nLarge Mass   0.994919  0.763382  0.979805  0.948766  0.993436  0.989900   \nMedium Mass  0.969282  0.746476  0.887330  0.847880  0.958944  0.956771   \nSmall Mass   0.228728  0.224357  0.552935  0.545787  0.655143  0.642573   \nVolume       0.733230  0.576898  0.728289  0.795370  0.096028  0.226279   \n\n             Additional2  Additional3  \nLarge Mass      0.995002     0.968767  \nMedium Mass     0.960587     0.949708  \nSmall Mass      0.739544     0.720588  \nVolume          0.647472     0.618301  ",
      "text/html": "<div>\n<style scoped>\n    .dataframe tbody tr th:only-of-type {\n        vertical-align: middle;\n    }\n\n    .dataframe tbody tr th {\n        vertical-align: top;\n    }\n\n    .dataframe thead th {\n        text-align: right;\n    }\n</style>\n<table border=\"1\" class=\"dataframe\">\n  <thead>\n    <tr style=\"text-align: right;\">\n      <th></th>\n      <th>Siemens2</th>\n      <th>Siemens3</th>\n      <th>GE2</th>\n      <th>GE3</th>\n      <th>Philips2</th>\n      <th>Philips3</th>\n      <th>Additional2</th>\n      <th>Additional3</th>\n    </tr>\n  </thead>\n  <tbody>\n    <tr>\n      <th>Large Mass</th>\n      <td>0.994919</td>\n      <td>0.763382</td>\n      <td>0.979805</td>\n      <td>0.948766</td>\n      <td>0.993436</td>\n      <td>0.989900</td>\n      <td>0.995002</td>\n      <td>0.968767</td>\n    </tr>\n    <tr>\n      <th>Medium Mass</th>\n      <td>0.969282</td>\n      <td>0.746476</td>\n      <td>0.887330</td>\n      <td>0.847880</td>\n      <td>0.958944</td>\n      <td>0.956771</td>\n      <td>0.960587</td>\n      <td>0.949708</td>\n    </tr>\n    <tr>\n      <th>Small Mass</th>\n      <td>0.228728</td>\n      <td>0.224357</td>\n      <td>0.552935</td>\n      <td>0.545787</td>\n      <td>0.655143</td>\n      <td>0.642573</td>\n      <td>0.739544</td>\n      <td>0.720588</td>\n    </tr>\n    <tr>\n      <th>Volume</th>\n      <td>0.733230</td>\n      <td>0.576898</td>\n      <td>0.728289</td>\n      <td>0.795370</td>\n      <td>0.096028</td>\n      <td>0.226279</td>\n      <td>0.647472</td>\n      <td>0.618301</td>\n    </tr>\n  </tbody>\n</table>\n</div>"
     },
     "metadata": {}
    }
   ]
  },
  {
   "cell_type": "code",
   "source": "RMSE_summary = pd.DataFrame({\"Siemens2\": Siemens2_RMSE,\"Siemens3\":Siemens3_RMSE,'GE2':GE2_RMSE,'GE3':GE3_RMSE,'Philips2': PP2_RMSE,'Philips3':PP3_RMSE,\"Additional2\":Add2_RMSE,\"Additional3\":Add3_RMSE})\nRMSE_summary",
   "metadata": {
    "cell_id": "15669a88-1bd9-41fa-bc7e-767f19efe01a",
    "tags": [],
    "deepnote_to_be_reexecuted": false,
    "source_hash": "33d2b615",
    "execution_start": 1643838156336,
    "execution_millis": 135,
    "deepnote_output_heights": [
     147.953125
    ],
    "deepnote_cell_type": "code"
   },
   "outputs": [
    {
     "output_type": "execute_result",
     "execution_count": 192,
     "data": {
      "application/vnd.deepnote.dataframe.v3+json": {
       "column_count": 8,
       "row_count": 4,
       "columns": [
        {
         "name": "Siemens2",
         "dtype": "float64",
         "stats": {
          "unique_count": 4,
          "nan_count": 0,
          "min": "0.2885367939026464",
          "max": "4.165675351824903",
          "histogram": [
           {
            "bin_start": 0.2885367939026464,
            "bin_end": 0.676250649694872,
            "count": 1
           },
           {
            "bin_start": 0.676250649694872,
            "bin_end": 1.0639645054870976,
            "count": 1
           },
           {
            "bin_start": 1.0639645054870976,
            "bin_end": 1.4516783612793231,
            "count": 0
           },
           {
            "bin_start": 1.4516783612793231,
            "bin_end": 1.8393922170715489,
            "count": 0
           },
           {
            "bin_start": 1.8393922170715489,
            "bin_end": 2.2271060728637746,
            "count": 0
           },
           {
            "bin_start": 2.2271060728637746,
            "bin_end": 2.614819928656,
            "count": 1
           },
           {
            "bin_start": 2.614819928656,
            "bin_end": 3.0025337844482256,
            "count": 0
           },
           {
            "bin_start": 3.0025337844482256,
            "bin_end": 3.3902476402404513,
            "count": 0
           },
           {
            "bin_start": 3.3902476402404513,
            "bin_end": 3.777961496032677,
            "count": 0
           },
           {
            "bin_start": 3.777961496032677,
            "bin_end": 4.165675351824903,
            "count": 1
           }
          ]
         }
        },
        {
         "name": "Siemens3",
         "dtype": "float64",
         "stats": {
          "unique_count": 4,
          "nan_count": 0,
          "min": "0.2881012873803673",
          "max": "26.62735201675604",
          "histogram": [
           {
            "bin_start": 0.2881012873803673,
            "bin_end": 2.9220263603179344,
            "count": 1
           },
           {
            "bin_start": 2.9220263603179344,
            "bin_end": 5.555951433255502,
            "count": 0
           },
           {
            "bin_start": 5.555951433255502,
            "bin_end": 8.18987650619307,
            "count": 1
           },
           {
            "bin_start": 8.18987650619307,
            "bin_end": 10.823801579130636,
            "count": 0
           },
           {
            "bin_start": 10.823801579130636,
            "bin_end": 13.457726652068203,
            "count": 0
           },
           {
            "bin_start": 13.457726652068203,
            "bin_end": 16.09165172500577,
            "count": 0
           },
           {
            "bin_start": 16.09165172500577,
            "bin_end": 18.725576797943337,
            "count": 0
           },
           {
            "bin_start": 18.725576797943337,
            "bin_end": 21.359501870880905,
            "count": 0
           },
           {
            "bin_start": 21.359501870880905,
            "bin_end": 23.993426943818474,
            "count": 0
           },
           {
            "bin_start": 23.993426943818474,
            "bin_end": 26.62735201675604,
            "count": 2
           }
          ]
         }
        },
        {
         "name": "GE2",
         "dtype": "float64",
         "stats": {
          "unique_count": 4,
          "nan_count": 0,
          "min": "0.2701719761371993",
          "max": "12.081900322234713",
          "histogram": [
           {
            "bin_start": 0.2701719761371993,
            "bin_end": 1.4513448107469507,
            "count": 1
           },
           {
            "bin_start": 1.4513448107469507,
            "bin_end": 2.6325176453567023,
            "count": 1
           },
           {
            "bin_start": 2.6325176453567023,
            "bin_end": 3.813690479966454,
            "count": 0
           },
           {
            "bin_start": 3.813690479966454,
            "bin_end": 4.994863314576205,
            "count": 0
           },
           {
            "bin_start": 4.994863314576205,
            "bin_end": 6.176036149185956,
            "count": 0
           },
           {
            "bin_start": 6.176036149185956,
            "bin_end": 7.357208983795708,
            "count": 0
           },
           {
            "bin_start": 7.357208983795708,
            "bin_end": 8.538381818405458,
            "count": 0
           },
           {
            "bin_start": 8.538381818405458,
            "bin_end": 9.71955465301521,
            "count": 0
           },
           {
            "bin_start": 9.71955465301521,
            "bin_end": 10.900727487624962,
            "count": 1
           },
           {
            "bin_start": 10.900727487624962,
            "bin_end": 12.081900322234713,
            "count": 1
           }
          ]
         }
        },
        {
         "name": "GE3",
         "dtype": "float64",
         "stats": {
          "unique_count": 4,
          "nan_count": 0,
          "min": "0.24464089029727148",
          "max": "18.706317777051016",
          "histogram": [
           {
            "bin_start": 0.24464089029727148,
            "bin_end": 2.090808578972646,
            "count": 1
           },
           {
            "bin_start": 2.090808578972646,
            "bin_end": 3.9369762676480202,
            "count": 1
           },
           {
            "bin_start": 3.9369762676480202,
            "bin_end": 5.7831439563233955,
            "count": 0
           },
           {
            "bin_start": 5.7831439563233955,
            "bin_end": 7.6293116449987695,
            "count": 0
           },
           {
            "bin_start": 7.6293116449987695,
            "bin_end": 9.475479333674143,
            "count": 1
           },
           {
            "bin_start": 9.475479333674143,
            "bin_end": 11.321647022349518,
            "count": 0
           },
           {
            "bin_start": 11.321647022349518,
            "bin_end": 13.167814711024892,
            "count": 0
           },
           {
            "bin_start": 13.167814711024892,
            "bin_end": 15.013982399700266,
            "count": 0
           },
           {
            "bin_start": 15.013982399700266,
            "bin_end": 16.860150088375644,
            "count": 0
           },
           {
            "bin_start": 16.860150088375644,
            "bin_end": 18.706317777051016,
            "count": 1
           }
          ]
         }
        },
        {
         "name": "Philips2",
         "dtype": "float64",
         "stats": {
          "unique_count": 4,
          "nan_count": 0,
          "min": "0.2575647808781413",
          "max": "3.9297386005823003",
          "histogram": [
           {
            "bin_start": 0.2575647808781413,
            "bin_end": 0.6247821628485573,
            "count": 1
           },
           {
            "bin_start": 0.6247821628485573,
            "bin_end": 0.9919995448189731,
            "count": 0
           },
           {
            "bin_start": 0.9919995448189731,
            "bin_end": 1.3592169267893892,
            "count": 0
           },
           {
            "bin_start": 1.3592169267893892,
            "bin_end": 1.726434308759805,
            "count": 0
           },
           {
            "bin_start": 1.726434308759805,
            "bin_end": 2.093651690730221,
            "count": 1
           },
           {
            "bin_start": 2.093651690730221,
            "bin_end": 2.460869072700637,
            "count": 0
           },
           {
            "bin_start": 2.460869072700637,
            "bin_end": 2.8280864546710527,
            "count": 0
           },
           {
            "bin_start": 2.8280864546710527,
            "bin_end": 3.1953038366414686,
            "count": 0
           },
           {
            "bin_start": 3.1953038366414686,
            "bin_end": 3.5625212186118844,
            "count": 0
           },
           {
            "bin_start": 3.5625212186118844,
            "bin_end": 3.9297386005823003,
            "count": 2
           }
          ]
         }
        },
        {
         "name": "Philips3",
         "dtype": "float64",
         "stats": {
          "unique_count": 4,
          "nan_count": 0,
          "min": "0.28272814695331155",
          "max": "8.498349808606775",
          "histogram": [
           {
            "bin_start": 0.28272814695331155,
            "bin_end": 1.1042903131186579,
            "count": 1
           },
           {
            "bin_start": 1.1042903131186579,
            "bin_end": 1.9258524792840042,
            "count": 1
           },
           {
            "bin_start": 1.9258524792840042,
            "bin_end": 2.74741464544935,
            "count": 0
           },
           {
            "bin_start": 2.74741464544935,
            "bin_end": 3.5689768116146965,
            "count": 0
           },
           {
            "bin_start": 3.5689768116146965,
            "bin_end": 4.390538977780043,
            "count": 0
           },
           {
            "bin_start": 4.390538977780043,
            "bin_end": 5.212101143945389,
            "count": 0
           },
           {
            "bin_start": 5.212101143945389,
            "bin_end": 6.033663310110735,
            "count": 0
           },
           {
            "bin_start": 6.033663310110735,
            "bin_end": 6.855225476276082,
            "count": 0
           },
           {
            "bin_start": 6.855225476276082,
            "bin_end": 7.676787642441428,
            "count": 0
           },
           {
            "bin_start": 7.676787642441428,
            "bin_end": 8.498349808606775,
            "count": 2
           }
          ]
         }
        },
        {
         "name": "Additional2",
         "dtype": "float64",
         "stats": {
          "unique_count": 4,
          "nan_count": 0,
          "min": "0.15108074038716893",
          "max": "4.341071028284056",
          "histogram": [
           {
            "bin_start": 0.15108074038716893,
            "bin_end": 0.5700797691768577,
            "count": 1
           },
           {
            "bin_start": 0.5700797691768577,
            "bin_end": 0.9890787979665464,
            "count": 0
           },
           {
            "bin_start": 0.9890787979665464,
            "bin_end": 1.4080778267562353,
            "count": 1
           },
           {
            "bin_start": 1.4080778267562353,
            "bin_end": 1.827076855545924,
            "count": 0
           },
           {
            "bin_start": 1.827076855545924,
            "bin_end": 2.2460758843356126,
            "count": 0
           },
           {
            "bin_start": 2.2460758843356126,
            "bin_end": 2.6650749131253013,
            "count": 0
           },
           {
            "bin_start": 2.6650749131253013,
            "bin_end": 3.08407394191499,
            "count": 0
           },
           {
            "bin_start": 3.08407394191499,
            "bin_end": 3.503072970704679,
            "count": 0
           },
           {
            "bin_start": 3.503072970704679,
            "bin_end": 3.9220719994943676,
            "count": 1
           },
           {
            "bin_start": 3.9220719994943676,
            "bin_end": 4.341071028284056,
            "count": 1
           }
          ]
         }
        },
        {
         "name": "Additional3",
         "dtype": "float64",
         "stats": {
          "unique_count": 4,
          "nan_count": 0,
          "min": "0.21779699277879802",
          "max": "11.028250699999575",
          "histogram": [
           {
            "bin_start": 0.21779699277879802,
            "bin_end": 1.2988423635008757,
            "count": 1
           },
           {
            "bin_start": 1.2988423635008757,
            "bin_end": 2.3798877342229536,
            "count": 1
           },
           {
            "bin_start": 2.3798877342229536,
            "bin_end": 3.4609331049450316,
            "count": 0
           },
           {
            "bin_start": 3.4609331049450316,
            "bin_end": 4.541978475667109,
            "count": 0
           },
           {
            "bin_start": 4.541978475667109,
            "bin_end": 5.623023846389186,
            "count": 0
           },
           {
            "bin_start": 5.623023846389186,
            "bin_end": 6.704069217111265,
            "count": 0
           },
           {
            "bin_start": 6.704069217111265,
            "bin_end": 7.785114587833342,
            "count": 0
           },
           {
            "bin_start": 7.785114587833342,
            "bin_end": 8.86615995855542,
            "count": 0
           },
           {
            "bin_start": 8.86615995855542,
            "bin_end": 9.947205329277498,
            "count": 1
           },
           {
            "bin_start": 9.947205329277498,
            "bin_end": 11.028250699999575,
            "count": 1
           }
          ]
         }
        },
        {
         "name": "_deepnote_index_column",
         "dtype": "object"
        }
       ],
       "rows": [
        {
         "Siemens2": 2.2821549956820384,
         "Siemens3": 26.62735201675604,
         "GE2": 10.433625422207493,
         "GE3": 8.008094021438417,
         "Philips2": 3.723017687595602,
         "Philips3": 7.964054485262763,
         "Additional2": 3.833551381426812,
         "Additional3": 9.586095634053539,
         "_deepnote_index_column": "Large Mass"
        },
        {
         "Siemens2": 0.9873221237496169,
         "Siemens3": 5.877496852922334,
         "GE2": 1.8348330141812896,
         "GE3": 2.236316354033776,
         "Philips2": 1.791699564395865,
         "Philips3": 1.2669460817578138,
         "Additional2": 1.183342440065064,
         "Additional3": 2.34978655861375,
         "_deepnote_index_column": "Medium Mass"
        },
        {
         "Siemens2": 0.2885367939026464,
         "Siemens3": 0.2881012873803673,
         "GE2": 0.2701719761371993,
         "GE3": 0.24464089029727148,
         "Philips2": 0.2575647808781413,
         "Philips3": 0.28272814695331155,
         "Additional2": 0.15108074038716893,
         "Additional3": 0.21779699277879802,
         "_deepnote_index_column": "Small Mass"
        },
        {
         "Siemens2": 4.165675351824903,
         "Siemens3": 25.428963478546123,
         "GE2": 12.081900322234713,
         "GE3": 18.706317777051016,
         "Philips2": 3.9297386005823003,
         "Philips3": 8.498349808606775,
         "Additional2": 4.341071028284056,
         "Additional3": 11.028250699999575,
         "_deepnote_index_column": "Volume"
        }
       ]
      },
      "text/plain": "             Siemens2   Siemens3        GE2        GE3  Philips2  Philips3  \\\nLarge Mass   2.282155  26.627352  10.433625   8.008094  3.723018  7.964054   \nMedium Mass  0.987322   5.877497   1.834833   2.236316  1.791700  1.266946   \nSmall Mass   0.288537   0.288101   0.270172   0.244641  0.257565  0.282728   \nVolume       4.165675  25.428963  12.081900  18.706318  3.929739  8.498350   \n\n             Additional2  Additional3  \nLarge Mass      3.833551     9.586096  \nMedium Mass     1.183342     2.349787  \nSmall Mass      0.151081     0.217797  \nVolume          4.341071    11.028251  ",
      "text/html": "<div>\n<style scoped>\n    .dataframe tbody tr th:only-of-type {\n        vertical-align: middle;\n    }\n\n    .dataframe tbody tr th {\n        vertical-align: top;\n    }\n\n    .dataframe thead th {\n        text-align: right;\n    }\n</style>\n<table border=\"1\" class=\"dataframe\">\n  <thead>\n    <tr style=\"text-align: right;\">\n      <th></th>\n      <th>Siemens2</th>\n      <th>Siemens3</th>\n      <th>GE2</th>\n      <th>GE3</th>\n      <th>Philips2</th>\n      <th>Philips3</th>\n      <th>Additional2</th>\n      <th>Additional3</th>\n    </tr>\n  </thead>\n  <tbody>\n    <tr>\n      <th>Large Mass</th>\n      <td>2.282155</td>\n      <td>26.627352</td>\n      <td>10.433625</td>\n      <td>8.008094</td>\n      <td>3.723018</td>\n      <td>7.964054</td>\n      <td>3.833551</td>\n      <td>9.586096</td>\n    </tr>\n    <tr>\n      <th>Medium Mass</th>\n      <td>0.987322</td>\n      <td>5.877497</td>\n      <td>1.834833</td>\n      <td>2.236316</td>\n      <td>1.791700</td>\n      <td>1.266946</td>\n      <td>1.183342</td>\n      <td>2.349787</td>\n    </tr>\n    <tr>\n      <th>Small Mass</th>\n      <td>0.288537</td>\n      <td>0.288101</td>\n      <td>0.270172</td>\n      <td>0.244641</td>\n      <td>0.257565</td>\n      <td>0.282728</td>\n      <td>0.151081</td>\n      <td>0.217797</td>\n    </tr>\n    <tr>\n      <th>Volume</th>\n      <td>4.165675</td>\n      <td>25.428963</td>\n      <td>12.081900</td>\n      <td>18.706318</td>\n      <td>3.929739</td>\n      <td>8.498350</td>\n      <td>4.341071</td>\n      <td>11.028251</td>\n    </tr>\n  </tbody>\n</table>\n</div>"
     },
     "metadata": {}
    }
   ],
   "execution_count": 192
  },
  {
   "cell_type": "code",
   "source": "Regsummary.to_csv('Reg_summary.csv')\nRMSE_summary.to_csv('RMSE_summary.csv')",
   "metadata": {
    "cell_id": "52f3f8ab-7c3c-47f2-b856-62c49698b146",
    "tags": [],
    "deepnote_to_be_reexecuted": false,
    "source_hash": "73e26290",
    "execution_start": 1643838269560,
    "execution_millis": 9,
    "deepnote_cell_type": "code"
   },
   "outputs": [],
   "execution_count": 196
  },
  {
   "cell_type": "markdown",
   "source": "<a style='text-decoration:none;line-height:16px;display:flex;color:#5B5B62;padding:10px;justify-content:end;' href='https://deepnote.com?utm_source=created-in-deepnote-cell&projectId=c8a4bc4e-140b-4397-9276-908db7ecb80a' target=\"_blank\">\n<img alt='Created in deepnote.com' style='display:inline;max-height:16px;margin:0px;margin-right:7.5px;' src='data:image/svg+xml;base64,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' > </img>\nCreated in <span style='font-weight:600;margin-left:4px;'>Deepnote</span></a>",
   "metadata": {
    "tags": [],
    "created_in_deepnote_cell": true,
    "deepnote_cell_type": "markdown"
   }
  }
 ],
 "nbformat": 4,
 "nbformat_minor": 2,
 "metadata": {
  "orig_nbformat": 2,
  "deepnote": {
   "is_reactive": false
  },
  "deepnote_notebook_id": "5765ec2c-e3fe-48e1-bf28-53e12bef7c52",
  "deepnote_execution_queue": []
 }
}